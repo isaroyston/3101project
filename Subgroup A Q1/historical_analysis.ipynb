{
 "cells": [
  {
   "cell_type": "code",
   "execution_count": null,
   "metadata": {},
   "outputs": [
    {
     "name": "stderr",
     "output_type": "stream",
     "text": [
      "C:\\Users\\isaro\\AppData\\Local\\Temp\\ipykernel_10088\\407936447.py:10: DtypeWarning: Columns (18,19) have mixed types. Specify dtype option on import or set low_memory=False.\n",
      "  data = pd.read_csv(file_path)\n"
     ]
    }
   ],
   "source": [
    "import pandas as pd\n",
    "import matplotlib.pyplot as plt\n",
    "from statsmodels.tsa.seasonal import seasonal_decompose\n",
    "import plotly.graph_objects as go\n",
    "import seaborn as sns\n",
    "\n",
    "data = pd.read_csv('../../data.csv')"
   ]
  },
  {
   "cell_type": "code",
   "execution_count": null,
   "metadata": {},
   "outputs": [
    {
     "data": {
      "application/vnd.plotly.v1+json": {
       "config": {
        "plotlyServerURL": "https://plot.ly"
       },
       "data": [
        {
         "marker": {
          "symbol": "circle"
         },
         "mode": "lines+markers",
         "type": "scatter",
         "x": [
          1,
          2,
          3,
          4,
          5,
          6,
          7,
          8,
          9,
          10,
          11,
          12
         ],
         "y": [
          1165504.5714285714,
          1166699.4285714286,
          1288911,
          1256982.142857143,
          1315018,
          1345858.5714285714,
          1292400.857142857,
          1275663.4285714286,
          1258366.2857142857,
          1283354.857142857,
          1257054.857142857,
          1912223.4285714286
         ]
        }
       ],
       "layout": {
        "template": {
         "data": {
          "bar": [
           {
            "error_x": {
             "color": "#2a3f5f"
            },
            "error_y": {
             "color": "#2a3f5f"
            },
            "marker": {
             "line": {
              "color": "white",
              "width": 0.5
             },
             "pattern": {
              "fillmode": "overlay",
              "size": 10,
              "solidity": 0.2
             }
            },
            "type": "bar"
           }
          ],
          "barpolar": [
           {
            "marker": {
             "line": {
              "color": "white",
              "width": 0.5
             },
             "pattern": {
              "fillmode": "overlay",
              "size": 10,
              "solidity": 0.2
             }
            },
            "type": "barpolar"
           }
          ],
          "carpet": [
           {
            "aaxis": {
             "endlinecolor": "#2a3f5f",
             "gridcolor": "#C8D4E3",
             "linecolor": "#C8D4E3",
             "minorgridcolor": "#C8D4E3",
             "startlinecolor": "#2a3f5f"
            },
            "baxis": {
             "endlinecolor": "#2a3f5f",
             "gridcolor": "#C8D4E3",
             "linecolor": "#C8D4E3",
             "minorgridcolor": "#C8D4E3",
             "startlinecolor": "#2a3f5f"
            },
            "type": "carpet"
           }
          ],
          "choropleth": [
           {
            "colorbar": {
             "outlinewidth": 0,
             "ticks": ""
            },
            "type": "choropleth"
           }
          ],
          "contour": [
           {
            "colorbar": {
             "outlinewidth": 0,
             "ticks": ""
            },
            "colorscale": [
             [
              0,
              "#0d0887"
             ],
             [
              0.1111111111111111,
              "#46039f"
             ],
             [
              0.2222222222222222,
              "#7201a8"
             ],
             [
              0.3333333333333333,
              "#9c179e"
             ],
             [
              0.4444444444444444,
              "#bd3786"
             ],
             [
              0.5555555555555556,
              "#d8576b"
             ],
             [
              0.6666666666666666,
              "#ed7953"
             ],
             [
              0.7777777777777778,
              "#fb9f3a"
             ],
             [
              0.8888888888888888,
              "#fdca26"
             ],
             [
              1,
              "#f0f921"
             ]
            ],
            "type": "contour"
           }
          ],
          "contourcarpet": [
           {
            "colorbar": {
             "outlinewidth": 0,
             "ticks": ""
            },
            "type": "contourcarpet"
           }
          ],
          "heatmap": [
           {
            "colorbar": {
             "outlinewidth": 0,
             "ticks": ""
            },
            "colorscale": [
             [
              0,
              "#0d0887"
             ],
             [
              0.1111111111111111,
              "#46039f"
             ],
             [
              0.2222222222222222,
              "#7201a8"
             ],
             [
              0.3333333333333333,
              "#9c179e"
             ],
             [
              0.4444444444444444,
              "#bd3786"
             ],
             [
              0.5555555555555556,
              "#d8576b"
             ],
             [
              0.6666666666666666,
              "#ed7953"
             ],
             [
              0.7777777777777778,
              "#fb9f3a"
             ],
             [
              0.8888888888888888,
              "#fdca26"
             ],
             [
              1,
              "#f0f921"
             ]
            ],
            "type": "heatmap"
           }
          ],
          "heatmapgl": [
           {
            "colorbar": {
             "outlinewidth": 0,
             "ticks": ""
            },
            "colorscale": [
             [
              0,
              "#0d0887"
             ],
             [
              0.1111111111111111,
              "#46039f"
             ],
             [
              0.2222222222222222,
              "#7201a8"
             ],
             [
              0.3333333333333333,
              "#9c179e"
             ],
             [
              0.4444444444444444,
              "#bd3786"
             ],
             [
              0.5555555555555556,
              "#d8576b"
             ],
             [
              0.6666666666666666,
              "#ed7953"
             ],
             [
              0.7777777777777778,
              "#fb9f3a"
             ],
             [
              0.8888888888888888,
              "#fdca26"
             ],
             [
              1,
              "#f0f921"
             ]
            ],
            "type": "heatmapgl"
           }
          ],
          "histogram": [
           {
            "marker": {
             "pattern": {
              "fillmode": "overlay",
              "size": 10,
              "solidity": 0.2
             }
            },
            "type": "histogram"
           }
          ],
          "histogram2d": [
           {
            "colorbar": {
             "outlinewidth": 0,
             "ticks": ""
            },
            "colorscale": [
             [
              0,
              "#0d0887"
             ],
             [
              0.1111111111111111,
              "#46039f"
             ],
             [
              0.2222222222222222,
              "#7201a8"
             ],
             [
              0.3333333333333333,
              "#9c179e"
             ],
             [
              0.4444444444444444,
              "#bd3786"
             ],
             [
              0.5555555555555556,
              "#d8576b"
             ],
             [
              0.6666666666666666,
              "#ed7953"
             ],
             [
              0.7777777777777778,
              "#fb9f3a"
             ],
             [
              0.8888888888888888,
              "#fdca26"
             ],
             [
              1,
              "#f0f921"
             ]
            ],
            "type": "histogram2d"
           }
          ],
          "histogram2dcontour": [
           {
            "colorbar": {
             "outlinewidth": 0,
             "ticks": ""
            },
            "colorscale": [
             [
              0,
              "#0d0887"
             ],
             [
              0.1111111111111111,
              "#46039f"
             ],
             [
              0.2222222222222222,
              "#7201a8"
             ],
             [
              0.3333333333333333,
              "#9c179e"
             ],
             [
              0.4444444444444444,
              "#bd3786"
             ],
             [
              0.5555555555555556,
              "#d8576b"
             ],
             [
              0.6666666666666666,
              "#ed7953"
             ],
             [
              0.7777777777777778,
              "#fb9f3a"
             ],
             [
              0.8888888888888888,
              "#fdca26"
             ],
             [
              1,
              "#f0f921"
             ]
            ],
            "type": "histogram2dcontour"
           }
          ],
          "mesh3d": [
           {
            "colorbar": {
             "outlinewidth": 0,
             "ticks": ""
            },
            "type": "mesh3d"
           }
          ],
          "parcoords": [
           {
            "line": {
             "colorbar": {
              "outlinewidth": 0,
              "ticks": ""
             }
            },
            "type": "parcoords"
           }
          ],
          "pie": [
           {
            "automargin": true,
            "type": "pie"
           }
          ],
          "scatter": [
           {
            "fillpattern": {
             "fillmode": "overlay",
             "size": 10,
             "solidity": 0.2
            },
            "type": "scatter"
           }
          ],
          "scatter3d": [
           {
            "line": {
             "colorbar": {
              "outlinewidth": 0,
              "ticks": ""
             }
            },
            "marker": {
             "colorbar": {
              "outlinewidth": 0,
              "ticks": ""
             }
            },
            "type": "scatter3d"
           }
          ],
          "scattercarpet": [
           {
            "marker": {
             "colorbar": {
              "outlinewidth": 0,
              "ticks": ""
             }
            },
            "type": "scattercarpet"
           }
          ],
          "scattergeo": [
           {
            "marker": {
             "colorbar": {
              "outlinewidth": 0,
              "ticks": ""
             }
            },
            "type": "scattergeo"
           }
          ],
          "scattergl": [
           {
            "marker": {
             "colorbar": {
              "outlinewidth": 0,
              "ticks": ""
             }
            },
            "type": "scattergl"
           }
          ],
          "scattermapbox": [
           {
            "marker": {
             "colorbar": {
              "outlinewidth": 0,
              "ticks": ""
             }
            },
            "type": "scattermapbox"
           }
          ],
          "scatterpolar": [
           {
            "marker": {
             "colorbar": {
              "outlinewidth": 0,
              "ticks": ""
             }
            },
            "type": "scatterpolar"
           }
          ],
          "scatterpolargl": [
           {
            "marker": {
             "colorbar": {
              "outlinewidth": 0,
              "ticks": ""
             }
            },
            "type": "scatterpolargl"
           }
          ],
          "scatterternary": [
           {
            "marker": {
             "colorbar": {
              "outlinewidth": 0,
              "ticks": ""
             }
            },
            "type": "scatterternary"
           }
          ],
          "surface": [
           {
            "colorbar": {
             "outlinewidth": 0,
             "ticks": ""
            },
            "colorscale": [
             [
              0,
              "#0d0887"
             ],
             [
              0.1111111111111111,
              "#46039f"
             ],
             [
              0.2222222222222222,
              "#7201a8"
             ],
             [
              0.3333333333333333,
              "#9c179e"
             ],
             [
              0.4444444444444444,
              "#bd3786"
             ],
             [
              0.5555555555555556,
              "#d8576b"
             ],
             [
              0.6666666666666666,
              "#ed7953"
             ],
             [
              0.7777777777777778,
              "#fb9f3a"
             ],
             [
              0.8888888888888888,
              "#fdca26"
             ],
             [
              1,
              "#f0f921"
             ]
            ],
            "type": "surface"
           }
          ],
          "table": [
           {
            "cells": {
             "fill": {
              "color": "#EBF0F8"
             },
             "line": {
              "color": "white"
             }
            },
            "header": {
             "fill": {
              "color": "#C8D4E3"
             },
             "line": {
              "color": "white"
             }
            },
            "type": "table"
           }
          ]
         },
         "layout": {
          "annotationdefaults": {
           "arrowcolor": "#2a3f5f",
           "arrowhead": 0,
           "arrowwidth": 1
          },
          "autotypenumbers": "strict",
          "coloraxis": {
           "colorbar": {
            "outlinewidth": 0,
            "ticks": ""
           }
          },
          "colorscale": {
           "diverging": [
            [
             0,
             "#8e0152"
            ],
            [
             0.1,
             "#c51b7d"
            ],
            [
             0.2,
             "#de77ae"
            ],
            [
             0.3,
             "#f1b6da"
            ],
            [
             0.4,
             "#fde0ef"
            ],
            [
             0.5,
             "#f7f7f7"
            ],
            [
             0.6,
             "#e6f5d0"
            ],
            [
             0.7,
             "#b8e186"
            ],
            [
             0.8,
             "#7fbc41"
            ],
            [
             0.9,
             "#4d9221"
            ],
            [
             1,
             "#276419"
            ]
           ],
           "sequential": [
            [
             0,
             "#0d0887"
            ],
            [
             0.1111111111111111,
             "#46039f"
            ],
            [
             0.2222222222222222,
             "#7201a8"
            ],
            [
             0.3333333333333333,
             "#9c179e"
            ],
            [
             0.4444444444444444,
             "#bd3786"
            ],
            [
             0.5555555555555556,
             "#d8576b"
            ],
            [
             0.6666666666666666,
             "#ed7953"
            ],
            [
             0.7777777777777778,
             "#fb9f3a"
            ],
            [
             0.8888888888888888,
             "#fdca26"
            ],
            [
             1,
             "#f0f921"
            ]
           ],
           "sequentialminus": [
            [
             0,
             "#0d0887"
            ],
            [
             0.1111111111111111,
             "#46039f"
            ],
            [
             0.2222222222222222,
             "#7201a8"
            ],
            [
             0.3333333333333333,
             "#9c179e"
            ],
            [
             0.4444444444444444,
             "#bd3786"
            ],
            [
             0.5555555555555556,
             "#d8576b"
            ],
            [
             0.6666666666666666,
             "#ed7953"
            ],
            [
             0.7777777777777778,
             "#fb9f3a"
            ],
            [
             0.8888888888888888,
             "#fdca26"
            ],
            [
             1,
             "#f0f921"
            ]
           ]
          },
          "colorway": [
           "#636efa",
           "#EF553B",
           "#00cc96",
           "#ab63fa",
           "#FFA15A",
           "#19d3f3",
           "#FF6692",
           "#B6E880",
           "#FF97FF",
           "#FECB52"
          ],
          "font": {
           "color": "#2a3f5f"
          },
          "geo": {
           "bgcolor": "white",
           "lakecolor": "white",
           "landcolor": "white",
           "showlakes": true,
           "showland": true,
           "subunitcolor": "#C8D4E3"
          },
          "hoverlabel": {
           "align": "left"
          },
          "hovermode": "closest",
          "mapbox": {
           "style": "light"
          },
          "paper_bgcolor": "white",
          "plot_bgcolor": "white",
          "polar": {
           "angularaxis": {
            "gridcolor": "#EBF0F8",
            "linecolor": "#EBF0F8",
            "ticks": ""
           },
           "bgcolor": "white",
           "radialaxis": {
            "gridcolor": "#EBF0F8",
            "linecolor": "#EBF0F8",
            "ticks": ""
           }
          },
          "scene": {
           "xaxis": {
            "backgroundcolor": "white",
            "gridcolor": "#DFE8F3",
            "gridwidth": 2,
            "linecolor": "#EBF0F8",
            "showbackground": true,
            "ticks": "",
            "zerolinecolor": "#EBF0F8"
           },
           "yaxis": {
            "backgroundcolor": "white",
            "gridcolor": "#DFE8F3",
            "gridwidth": 2,
            "linecolor": "#EBF0F8",
            "showbackground": true,
            "ticks": "",
            "zerolinecolor": "#EBF0F8"
           },
           "zaxis": {
            "backgroundcolor": "white",
            "gridcolor": "#DFE8F3",
            "gridwidth": 2,
            "linecolor": "#EBF0F8",
            "showbackground": true,
            "ticks": "",
            "zerolinecolor": "#EBF0F8"
           }
          },
          "shapedefaults": {
           "line": {
            "color": "#2a3f5f"
           }
          },
          "ternary": {
           "aaxis": {
            "gridcolor": "#DFE8F3",
            "linecolor": "#A2B1C6",
            "ticks": ""
           },
           "baxis": {
            "gridcolor": "#DFE8F3",
            "linecolor": "#A2B1C6",
            "ticks": ""
           },
           "bgcolor": "white",
           "caxis": {
            "gridcolor": "#DFE8F3",
            "linecolor": "#A2B1C6",
            "ticks": ""
           }
          },
          "title": {
           "x": 0.05
          },
          "xaxis": {
           "automargin": true,
           "gridcolor": "#EBF0F8",
           "linecolor": "#EBF0F8",
           "ticks": "",
           "title": {
            "standoff": 15
           },
           "zerolinecolor": "#EBF0F8",
           "zerolinewidth": 2
          },
          "yaxis": {
           "automargin": true,
           "gridcolor": "#EBF0F8",
           "linecolor": "#EBF0F8",
           "ticks": "",
           "title": {
            "standoff": 15
           },
           "zerolinecolor": "#EBF0F8",
           "zerolinewidth": 2
          }
         }
        },
        "title": {
         "text": "Average Monthly Sales Throughout the Year"
        },
        "xaxis": {
         "tickmode": "array",
         "tickvals": [
          1,
          2,
          3,
          4,
          5,
          6,
          7,
          8,
          9,
          10,
          11,
          12
         ],
         "title": {
          "text": "Month"
         }
        },
        "yaxis": {
         "tickformat": ",",
         "title": {
          "text": "Average Monthly Sales"
         }
        }
       }
      }
     },
     "metadata": {},
     "output_type": "display_data"
    }
   ],
   "source": [
    "\n",
    "# Calculate average monthly sales across all years\n",
    "average_monthly_sales = data.groupby('month')['total_price'].sum() / data['year'].nunique()\n",
    "fig = go.Figure()\n",
    "fig.add_trace(go.Scatter(\n",
    "    x=average_monthly_sales.index,\n",
    "    y=average_monthly_sales.values,\n",
    "    mode='lines+markers',\n",
    "    marker=dict(symbol='circle')\n",
    "))\n",
    "fig.update_layout(\n",
    "    title='Average Monthly Sales Throughout the Year',\n",
    "    xaxis_title='Month',\n",
    "    yaxis_title='Average Monthly Sales',\n",
    "    xaxis=dict(tickmode='array', tickvals=list(range(1, 13))),\n",
    "    yaxis=dict(tickformat=','),\n",
    "    template='plotly_white'\n",
    ")\n",
    "fig.show()"
   ]
  },
  {
   "cell_type": "code",
   "execution_count": 14,
   "metadata": {},
   "outputs": [
    {
     "data": {
      "application/vnd.plotly.v1+json": {
       "config": {
        "plotlyServerURL": "https://plot.ly"
       },
       "data": [
        {
         "marker": {
          "symbol": "circle"
         },
         "mode": "lines+markers",
         "type": "scatter",
         "x": [
          1,
          2,
          3,
          4,
          5,
          6,
          7,
          8,
          9,
          10,
          11,
          12
         ],
         "y": [
          578807.1428571428,
          576751.8571428572,
          637476.4285714285,
          621653.2857142857,
          652980,
          666693.8571428572,
          640330.2857142857,
          630237.7142857143,
          623213.2857142857,
          633041,
          622799.2857142857,
          948370.2857142857
         ]
        }
       ],
       "layout": {
        "template": {
         "data": {
          "bar": [
           {
            "error_x": {
             "color": "#2a3f5f"
            },
            "error_y": {
             "color": "#2a3f5f"
            },
            "marker": {
             "line": {
              "color": "white",
              "width": 0.5
             },
             "pattern": {
              "fillmode": "overlay",
              "size": 10,
              "solidity": 0.2
             }
            },
            "type": "bar"
           }
          ],
          "barpolar": [
           {
            "marker": {
             "line": {
              "color": "white",
              "width": 0.5
             },
             "pattern": {
              "fillmode": "overlay",
              "size": 10,
              "solidity": 0.2
             }
            },
            "type": "barpolar"
           }
          ],
          "carpet": [
           {
            "aaxis": {
             "endlinecolor": "#2a3f5f",
             "gridcolor": "#C8D4E3",
             "linecolor": "#C8D4E3",
             "minorgridcolor": "#C8D4E3",
             "startlinecolor": "#2a3f5f"
            },
            "baxis": {
             "endlinecolor": "#2a3f5f",
             "gridcolor": "#C8D4E3",
             "linecolor": "#C8D4E3",
             "minorgridcolor": "#C8D4E3",
             "startlinecolor": "#2a3f5f"
            },
            "type": "carpet"
           }
          ],
          "choropleth": [
           {
            "colorbar": {
             "outlinewidth": 0,
             "ticks": ""
            },
            "type": "choropleth"
           }
          ],
          "contour": [
           {
            "colorbar": {
             "outlinewidth": 0,
             "ticks": ""
            },
            "colorscale": [
             [
              0,
              "#0d0887"
             ],
             [
              0.1111111111111111,
              "#46039f"
             ],
             [
              0.2222222222222222,
              "#7201a8"
             ],
             [
              0.3333333333333333,
              "#9c179e"
             ],
             [
              0.4444444444444444,
              "#bd3786"
             ],
             [
              0.5555555555555556,
              "#d8576b"
             ],
             [
              0.6666666666666666,
              "#ed7953"
             ],
             [
              0.7777777777777778,
              "#fb9f3a"
             ],
             [
              0.8888888888888888,
              "#fdca26"
             ],
             [
              1,
              "#f0f921"
             ]
            ],
            "type": "contour"
           }
          ],
          "contourcarpet": [
           {
            "colorbar": {
             "outlinewidth": 0,
             "ticks": ""
            },
            "type": "contourcarpet"
           }
          ],
          "heatmap": [
           {
            "colorbar": {
             "outlinewidth": 0,
             "ticks": ""
            },
            "colorscale": [
             [
              0,
              "#0d0887"
             ],
             [
              0.1111111111111111,
              "#46039f"
             ],
             [
              0.2222222222222222,
              "#7201a8"
             ],
             [
              0.3333333333333333,
              "#9c179e"
             ],
             [
              0.4444444444444444,
              "#bd3786"
             ],
             [
              0.5555555555555556,
              "#d8576b"
             ],
             [
              0.6666666666666666,
              "#ed7953"
             ],
             [
              0.7777777777777778,
              "#fb9f3a"
             ],
             [
              0.8888888888888888,
              "#fdca26"
             ],
             [
              1,
              "#f0f921"
             ]
            ],
            "type": "heatmap"
           }
          ],
          "heatmapgl": [
           {
            "colorbar": {
             "outlinewidth": 0,
             "ticks": ""
            },
            "colorscale": [
             [
              0,
              "#0d0887"
             ],
             [
              0.1111111111111111,
              "#46039f"
             ],
             [
              0.2222222222222222,
              "#7201a8"
             ],
             [
              0.3333333333333333,
              "#9c179e"
             ],
             [
              0.4444444444444444,
              "#bd3786"
             ],
             [
              0.5555555555555556,
              "#d8576b"
             ],
             [
              0.6666666666666666,
              "#ed7953"
             ],
             [
              0.7777777777777778,
              "#fb9f3a"
             ],
             [
              0.8888888888888888,
              "#fdca26"
             ],
             [
              1,
              "#f0f921"
             ]
            ],
            "type": "heatmapgl"
           }
          ],
          "histogram": [
           {
            "marker": {
             "pattern": {
              "fillmode": "overlay",
              "size": 10,
              "solidity": 0.2
             }
            },
            "type": "histogram"
           }
          ],
          "histogram2d": [
           {
            "colorbar": {
             "outlinewidth": 0,
             "ticks": ""
            },
            "colorscale": [
             [
              0,
              "#0d0887"
             ],
             [
              0.1111111111111111,
              "#46039f"
             ],
             [
              0.2222222222222222,
              "#7201a8"
             ],
             [
              0.3333333333333333,
              "#9c179e"
             ],
             [
              0.4444444444444444,
              "#bd3786"
             ],
             [
              0.5555555555555556,
              "#d8576b"
             ],
             [
              0.6666666666666666,
              "#ed7953"
             ],
             [
              0.7777777777777778,
              "#fb9f3a"
             ],
             [
              0.8888888888888888,
              "#fdca26"
             ],
             [
              1,
              "#f0f921"
             ]
            ],
            "type": "histogram2d"
           }
          ],
          "histogram2dcontour": [
           {
            "colorbar": {
             "outlinewidth": 0,
             "ticks": ""
            },
            "colorscale": [
             [
              0,
              "#0d0887"
             ],
             [
              0.1111111111111111,
              "#46039f"
             ],
             [
              0.2222222222222222,
              "#7201a8"
             ],
             [
              0.3333333333333333,
              "#9c179e"
             ],
             [
              0.4444444444444444,
              "#bd3786"
             ],
             [
              0.5555555555555556,
              "#d8576b"
             ],
             [
              0.6666666666666666,
              "#ed7953"
             ],
             [
              0.7777777777777778,
              "#fb9f3a"
             ],
             [
              0.8888888888888888,
              "#fdca26"
             ],
             [
              1,
              "#f0f921"
             ]
            ],
            "type": "histogram2dcontour"
           }
          ],
          "mesh3d": [
           {
            "colorbar": {
             "outlinewidth": 0,
             "ticks": ""
            },
            "type": "mesh3d"
           }
          ],
          "parcoords": [
           {
            "line": {
             "colorbar": {
              "outlinewidth": 0,
              "ticks": ""
             }
            },
            "type": "parcoords"
           }
          ],
          "pie": [
           {
            "automargin": true,
            "type": "pie"
           }
          ],
          "scatter": [
           {
            "fillpattern": {
             "fillmode": "overlay",
             "size": 10,
             "solidity": 0.2
            },
            "type": "scatter"
           }
          ],
          "scatter3d": [
           {
            "line": {
             "colorbar": {
              "outlinewidth": 0,
              "ticks": ""
             }
            },
            "marker": {
             "colorbar": {
              "outlinewidth": 0,
              "ticks": ""
             }
            },
            "type": "scatter3d"
           }
          ],
          "scattercarpet": [
           {
            "marker": {
             "colorbar": {
              "outlinewidth": 0,
              "ticks": ""
             }
            },
            "type": "scattercarpet"
           }
          ],
          "scattergeo": [
           {
            "marker": {
             "colorbar": {
              "outlinewidth": 0,
              "ticks": ""
             }
            },
            "type": "scattergeo"
           }
          ],
          "scattergl": [
           {
            "marker": {
             "colorbar": {
              "outlinewidth": 0,
              "ticks": ""
             }
            },
            "type": "scattergl"
           }
          ],
          "scattermapbox": [
           {
            "marker": {
             "colorbar": {
              "outlinewidth": 0,
              "ticks": ""
             }
            },
            "type": "scattermapbox"
           }
          ],
          "scatterpolar": [
           {
            "marker": {
             "colorbar": {
              "outlinewidth": 0,
              "ticks": ""
             }
            },
            "type": "scatterpolar"
           }
          ],
          "scatterpolargl": [
           {
            "marker": {
             "colorbar": {
              "outlinewidth": 0,
              "ticks": ""
             }
            },
            "type": "scatterpolargl"
           }
          ],
          "scatterternary": [
           {
            "marker": {
             "colorbar": {
              "outlinewidth": 0,
              "ticks": ""
             }
            },
            "type": "scatterternary"
           }
          ],
          "surface": [
           {
            "colorbar": {
             "outlinewidth": 0,
             "ticks": ""
            },
            "colorscale": [
             [
              0,
              "#0d0887"
             ],
             [
              0.1111111111111111,
              "#46039f"
             ],
             [
              0.2222222222222222,
              "#7201a8"
             ],
             [
              0.3333333333333333,
              "#9c179e"
             ],
             [
              0.4444444444444444,
              "#bd3786"
             ],
             [
              0.5555555555555556,
              "#d8576b"
             ],
             [
              0.6666666666666666,
              "#ed7953"
             ],
             [
              0.7777777777777778,
              "#fb9f3a"
             ],
             [
              0.8888888888888888,
              "#fdca26"
             ],
             [
              1,
              "#f0f921"
             ]
            ],
            "type": "surface"
           }
          ],
          "table": [
           {
            "cells": {
             "fill": {
              "color": "#EBF0F8"
             },
             "line": {
              "color": "white"
             }
            },
            "header": {
             "fill": {
              "color": "#C8D4E3"
             },
             "line": {
              "color": "white"
             }
            },
            "type": "table"
           }
          ]
         },
         "layout": {
          "annotationdefaults": {
           "arrowcolor": "#2a3f5f",
           "arrowhead": 0,
           "arrowwidth": 1
          },
          "autotypenumbers": "strict",
          "coloraxis": {
           "colorbar": {
            "outlinewidth": 0,
            "ticks": ""
           }
          },
          "colorscale": {
           "diverging": [
            [
             0,
             "#8e0152"
            ],
            [
             0.1,
             "#c51b7d"
            ],
            [
             0.2,
             "#de77ae"
            ],
            [
             0.3,
             "#f1b6da"
            ],
            [
             0.4,
             "#fde0ef"
            ],
            [
             0.5,
             "#f7f7f7"
            ],
            [
             0.6,
             "#e6f5d0"
            ],
            [
             0.7,
             "#b8e186"
            ],
            [
             0.8,
             "#7fbc41"
            ],
            [
             0.9,
             "#4d9221"
            ],
            [
             1,
             "#276419"
            ]
           ],
           "sequential": [
            [
             0,
             "#0d0887"
            ],
            [
             0.1111111111111111,
             "#46039f"
            ],
            [
             0.2222222222222222,
             "#7201a8"
            ],
            [
             0.3333333333333333,
             "#9c179e"
            ],
            [
             0.4444444444444444,
             "#bd3786"
            ],
            [
             0.5555555555555556,
             "#d8576b"
            ],
            [
             0.6666666666666666,
             "#ed7953"
            ],
            [
             0.7777777777777778,
             "#fb9f3a"
            ],
            [
             0.8888888888888888,
             "#fdca26"
            ],
            [
             1,
             "#f0f921"
            ]
           ],
           "sequentialminus": [
            [
             0,
             "#0d0887"
            ],
            [
             0.1111111111111111,
             "#46039f"
            ],
            [
             0.2222222222222222,
             "#7201a8"
            ],
            [
             0.3333333333333333,
             "#9c179e"
            ],
            [
             0.4444444444444444,
             "#bd3786"
            ],
            [
             0.5555555555555556,
             "#d8576b"
            ],
            [
             0.6666666666666666,
             "#ed7953"
            ],
            [
             0.7777777777777778,
             "#fb9f3a"
            ],
            [
             0.8888888888888888,
             "#fdca26"
            ],
            [
             1,
             "#f0f921"
            ]
           ]
          },
          "colorway": [
           "#636efa",
           "#EF553B",
           "#00cc96",
           "#ab63fa",
           "#FFA15A",
           "#19d3f3",
           "#FF6692",
           "#B6E880",
           "#FF97FF",
           "#FECB52"
          ],
          "font": {
           "color": "#2a3f5f"
          },
          "geo": {
           "bgcolor": "white",
           "lakecolor": "white",
           "landcolor": "white",
           "showlakes": true,
           "showland": true,
           "subunitcolor": "#C8D4E3"
          },
          "hoverlabel": {
           "align": "left"
          },
          "hovermode": "closest",
          "mapbox": {
           "style": "light"
          },
          "paper_bgcolor": "white",
          "plot_bgcolor": "white",
          "polar": {
           "angularaxis": {
            "gridcolor": "#EBF0F8",
            "linecolor": "#EBF0F8",
            "ticks": ""
           },
           "bgcolor": "white",
           "radialaxis": {
            "gridcolor": "#EBF0F8",
            "linecolor": "#EBF0F8",
            "ticks": ""
           }
          },
          "scene": {
           "xaxis": {
            "backgroundcolor": "white",
            "gridcolor": "#DFE8F3",
            "gridwidth": 2,
            "linecolor": "#EBF0F8",
            "showbackground": true,
            "ticks": "",
            "zerolinecolor": "#EBF0F8"
           },
           "yaxis": {
            "backgroundcolor": "white",
            "gridcolor": "#DFE8F3",
            "gridwidth": 2,
            "linecolor": "#EBF0F8",
            "showbackground": true,
            "ticks": "",
            "zerolinecolor": "#EBF0F8"
           },
           "zaxis": {
            "backgroundcolor": "white",
            "gridcolor": "#DFE8F3",
            "gridwidth": 2,
            "linecolor": "#EBF0F8",
            "showbackground": true,
            "ticks": "",
            "zerolinecolor": "#EBF0F8"
           }
          },
          "shapedefaults": {
           "line": {
            "color": "#2a3f5f"
           }
          },
          "ternary": {
           "aaxis": {
            "gridcolor": "#DFE8F3",
            "linecolor": "#A2B1C6",
            "ticks": ""
           },
           "baxis": {
            "gridcolor": "#DFE8F3",
            "linecolor": "#A2B1C6",
            "ticks": ""
           },
           "bgcolor": "white",
           "caxis": {
            "gridcolor": "#DFE8F3",
            "linecolor": "#A2B1C6",
            "ticks": ""
           }
          },
          "title": {
           "x": 0.05
          },
          "xaxis": {
           "automargin": true,
           "gridcolor": "#EBF0F8",
           "linecolor": "#EBF0F8",
           "ticks": "",
           "title": {
            "standoff": 15
           },
           "zerolinecolor": "#EBF0F8",
           "zerolinewidth": 2
          },
          "yaxis": {
           "automargin": true,
           "gridcolor": "#EBF0F8",
           "linecolor": "#EBF0F8",
           "ticks": "",
           "title": {
            "standoff": 15
           },
           "zerolinecolor": "#EBF0F8",
           "zerolinewidth": 2
          }
         }
        },
        "title": {
         "text": "Average Monthly Revenue Throughout the Year"
        },
        "xaxis": {
         "tickmode": "array",
         "tickvals": [
          1,
          2,
          3,
          4,
          5,
          6,
          7,
          8,
          9,
          10,
          11,
          12
         ],
         "title": {
          "text": "Month"
         }
        },
        "yaxis": {
         "tickformat": ",",
         "title": {
          "text": "Average Monthly Revenue"
         }
        }
       }
      }
     },
     "metadata": {},
     "output_type": "display_data"
    }
   ],
   "source": [
    "\n",
    "# Calculate total revenue for each month of each year\n",
    "monthly_revenue = data.groupby(['year', 'month'])['revenue'].sum().reset_index()\n",
    "\n",
    "# Calculate average monthly revenue across all years\n",
    "average_monthly_revenue = monthly_revenue.groupby('month')['revenue'].mean()\n",
    "\n",
    "\n",
    "fig = go.Figure()\n",
    "fig.add_trace(go.Scatter(\n",
    "    x=average_monthly_revenue.index,\n",
    "    y=average_monthly_revenue.values,\n",
    "    mode='lines+markers',\n",
    "    marker=dict(symbol='circle')\n",
    "))\n",
    "\n",
    "fig.update_layout(\n",
    "    title='Average Monthly Revenue Throughout the Year',\n",
    "    xaxis_title='Month',\n",
    "    yaxis_title='Average Monthly Revenue',\n",
    "    xaxis=dict(tickmode='array', tickvals=list(range(1, 13))),\n",
    "    yaxis=dict(tickformat=','),\n",
    "    template='plotly_white'\n",
    ")\n",
    "\n",
    "fig.show()\n"
   ]
  },
  {
   "cell_type": "code",
   "execution_count": 7,
   "metadata": {},
   "outputs": [
    {
     "data": {
      "image/png": "[encoded data removed]",
      "text/plain": [
       "<Figure size 1000x1000 with 1 Axes>"
      ]
     },
     "metadata": {},
     "output_type": "display_data"
    }
   ],
   "source": [
    "\n",
    "import seaborn as sns\n",
    "import numpy as np\n",
    "\n",
    "# Step 1: Define a function to extract the category\n",
    "def extract_category(description):\n",
    "    desc = description.strip()\n",
    "    # Remove 'a. ' prefix if present\n",
    "    if desc.startswith('a. '):\n",
    "        desc = desc[3:].strip()\n",
    "    # If ' - ' exists, take the part before it\n",
    "    if ' - ' in desc:\n",
    "        category = desc.split(' - ')[0].strip()\n",
    "    else:\n",
    "        # Special cases for descriptions without ' - '\n",
    "        if desc.startswith('Coffee'):\n",
    "            category = 'Coffee products'\n",
    "        elif desc == 'Medicine':\n",
    "            category = 'Medicine'\n",
    "        elif desc == 'Kitchen Supplies':\n",
    "            category = 'Kitchen Supplies'\n",
    "        else:\n",
    "            category = desc.split()[0].strip()\n",
    "    return category\n",
    "\n",
    "# Apply the function to create the 'Category' column\n",
    "data['Category'] = data['description'].apply(extract_category)\n",
    "\n",
    "# Aggregate revenue by 'Category' and 'year'\n",
    "category_yearly_revenue = data.groupby(['Category', 'year'])['revenue'].sum().reset_index()\n",
    "category_total_revenue = data.groupby('Category')['revenue'].sum().reset_index()\n",
    "category_total_revenue = category_total_revenue.sort_values(by='revenue', ascending=False)\n",
    "total_revenue = category_total_revenue['revenue'].sum()\n",
    "category_total_revenue['Market_Share'] = (category_total_revenue['revenue'] / total_revenue) * 100\n",
    "\n",
    "\n",
    "labels = category_total_revenue['Category']\n",
    "sizes = category_total_revenue['Market_Share']\n",
    "explode = [0.05 if (size >= 15) else 0 for size in sizes]\n",
    "colors = sns.color_palette('tab10', n_colors=len(labels))\n",
    "plt.figure(figsize=(10, 10))\n",
    "wedges, texts, autotexts = plt.pie(\n",
    "    sizes,\n",
    "    labels=None,  # We'll add custom labels later\n",
    "    autopct='%1.1f%%',\n",
    "    startangle=140,\n",
    "    colors=colors,\n",
    "    explode=explode,\n",
    "    pctdistance=0.85,  # Positioning of percentage labels\n",
    "    textprops={'fontsize': 12, 'color': 'white', 'weight': 'bold'},\n",
    "    wedgeprops={'linewidth': 1, 'edgecolor': 'white'}\n",
    ")\n",
    "centre_circle = plt.Circle((0, 0), 0.70, fc='white')\n",
    "fig = plt.gcf()\n",
    "fig.gca().add_artist(centre_circle)\n",
    "\n",
    "# Add category labels outside the pie\n",
    "for i, (wedge, label) in enumerate(zip(wedges, labels)):\n",
    "    angle = (wedge.theta2 - wedge.theta1)/2 + wedge.theta1\n",
    "    x = 1.07 * np.cos(np.deg2rad(angle))\n",
    "    y = 1.07 * np.sin(np.deg2rad(angle))\n",
    "    plt.text(x, y, label, ha='center', va='center', fontsize=12)\n",
    "plt.title('Market Share by Category', fontsize=16)\n",
    "\n",
    "# Equal aspect ratio ensures that pie is drawn as a circle\n",
    "plt.axis('equal')\n",
    "plt.tight_layout()\n",
    "\n",
    "# Show the plot\n",
    "plt.show()"
   ]
  },
  {
   "cell_type": "code",
   "execution_count": 8,
   "metadata": {},
   "outputs": [
    {
     "data": {
      "application/vnd.plotly.v1+json": {
       "config": {
        "plotlyServerURL": "https://plot.ly"
       },
       "data": [
        {
         "mode": "lines+markers",
         "name": "2014",
         "type": "scatter",
         "x": [
          1,
          2,
          3,
          4,
          5,
          6,
          7,
          8,
          9,
          10,
          11,
          12
         ],
         "y": [
          496545,
          1122556,
          1262462,
          1290371,
          1268810,
          1240809,
          1317321,
          1293226,
          1279470,
          1380372,
          1211585,
          2165445
         ]
        },
        {
         "mode": "lines+markers",
         "name": "2015",
         "type": "scatter",
         "x": [
          1,
          2,
          3,
          4,
          5,
          6,
          7,
          8,
          9,
          10,
          11,
          12
         ],
         "y": [
          1239780,
          1157165,
          1379076,
          1236194,
          1345746,
          1216978,
          1328424,
          1256068,
          1278001,
          1256160,
          1248631,
          1914092
         ]
        },
        {
         "mode": "lines+markers",
         "name": "2016",
         "type": "scatter",
         "x": [
          1,
          2,
          3,
          4,
          5,
          6,
          7,
          8,
          9,
          10,
          11,
          12
         ],
         "y": [
          1202033,
          1222820,
          1312411,
          1265477,
          1379987,
          1364638,
          1298127,
          1208300,
          1252996,
          1211741,
          1297137,
          1870951
         ]
        },
        {
         "mode": "lines+markers",
         "name": "2017",
         "type": "scatter",
         "x": [
          1,
          2,
          3,
          4,
          5,
          6,
          7,
          8,
          9,
          10,
          11,
          12
         ],
         "y": [
          1293925,
          1144167,
          1261708,
          1279634,
          1286490,
          1426449,
          1255845,
          1324095,
          1323231,
          1274072,
          1238392,
          1823148
         ]
        },
        {
         "mode": "lines+markers",
         "name": "2018",
         "type": "scatter",
         "x": [
          1,
          2,
          3,
          4,
          5,
          6,
          7,
          8,
          9,
          10,
          11,
          12
         ],
         "y": [
          1292505,
          1148811,
          1252315,
          1232506,
          1331615,
          1425022,
          1304825,
          1307955,
          1215604,
          1236544,
          1354420,
          1776644
         ]
        },
        {
         "mode": "lines+markers",
         "name": "2019",
         "type": "scatter",
         "x": [
          1,
          2,
          3,
          4,
          5,
          6,
          7,
          8,
          9,
          10,
          11,
          12
         ],
         "y": [
          1341892,
          1242395,
          1295778,
          1243838,
          1266427,
          1332069,
          1291635,
          1257311,
          1226611,
          1304925,
          1248960,
          1814662
         ]
        },
        {
         "mode": "lines+markers",
         "name": "2020",
         "type": "scatter",
         "x": [
          1,
          2,
          3,
          4,
          5,
          6,
          7,
          8,
          9,
          10,
          11,
          12
         ],
         "y": [
          1291852,
          1128982,
          1258627,
          1250855,
          1326051,
          1415045,
          1250629,
          1282689,
          1232651,
          1319670,
          1200259,
          2020622
         ]
        }
       ],
       "layout": {
        "legend": {
         "title": {
          "text": "Year"
         }
        },
        "template": {
         "data": {
          "bar": [
           {
            "error_x": {
             "color": "#2a3f5f"
            },
            "error_y": {
             "color": "#2a3f5f"
            },
            "marker": {
             "line": {
              "color": "white",
              "width": 0.5
             },
             "pattern": {
              "fillmode": "overlay",
              "size": 10,
              "solidity": 0.2
             }
            },
            "type": "bar"
           }
          ],
          "barpolar": [
           {
            "marker": {
             "line": {
              "color": "white",
              "width": 0.5
             },
             "pattern": {
              "fillmode": "overlay",
              "size": 10,
              "solidity": 0.2
             }
            },
            "type": "barpolar"
           }
          ],
          "carpet": [
           {
            "aaxis": {
             "endlinecolor": "#2a3f5f",
             "gridcolor": "#C8D4E3",
             "linecolor": "#C8D4E3",
             "minorgridcolor": "#C8D4E3",
             "startlinecolor": "#2a3f5f"
            },
            "baxis": {
             "endlinecolor": "#2a3f5f",
             "gridcolor": "#C8D4E3",
             "linecolor": "#C8D4E3",
             "minorgridcolor": "#C8D4E3",
             "startlinecolor": "#2a3f5f"
            },
            "type": "carpet"
           }
          ],
          "choropleth": [
           {
            "colorbar": {
             "outlinewidth": 0,
             "ticks": ""
            },
            "type": "choropleth"
           }
          ],
          "contour": [
           {
            "colorbar": {
             "outlinewidth": 0,
             "ticks": ""
            },
            "colorscale": [
             [
              0,
              "#0d0887"
             ],
             [
              0.1111111111111111,
              "#46039f"
             ],
             [
              0.2222222222222222,
              "#7201a8"
             ],
             [
              0.3333333333333333,
              "#9c179e"
             ],
             [
              0.4444444444444444,
              "#bd3786"
             ],
             [
              0.5555555555555556,
              "#d8576b"
             ],
             [
              0.6666666666666666,
              "#ed7953"
             ],
             [
              0.7777777777777778,
              "#fb9f3a"
             ],
             [
              0.8888888888888888,
              "#fdca26"
             ],
             [
              1,
              "#f0f921"
             ]
            ],
            "type": "contour"
           }
          ],
          "contourcarpet": [
           {
            "colorbar": {
             "outlinewidth": 0,
             "ticks": ""
            },
            "type": "contourcarpet"
           }
          ],
          "heatmap": [
           {
            "colorbar": {
             "outlinewidth": 0,
             "ticks": ""
            },
            "colorscale": [
             [
              0,
              "#0d0887"
             ],
             [
              0.1111111111111111,
              "#46039f"
             ],
             [
              0.2222222222222222,
              "#7201a8"
             ],
             [
              0.3333333333333333,
              "#9c179e"
             ],
             [
              0.4444444444444444,
              "#bd3786"
             ],
             [
              0.5555555555555556,
              "#d8576b"
             ],
             [
              0.6666666666666666,
              "#ed7953"
             ],
             [
              0.7777777777777778,
              "#fb9f3a"
             ],
             [
              0.8888888888888888,
              "#fdca26"
             ],
             [
              1,
              "#f0f921"
             ]
            ],
            "type": "heatmap"
           }
          ],
          "heatmapgl": [
           {
            "colorbar": {
             "outlinewidth": 0,
             "ticks": ""
            },
            "colorscale": [
             [
              0,
              "#0d0887"
             ],
             [
              0.1111111111111111,
              "#46039f"
             ],
             [
              0.2222222222222222,
              "#7201a8"
             ],
             [
              0.3333333333333333,
              "#9c179e"
             ],
             [
              0.4444444444444444,
              "#bd3786"
             ],
             [
              0.5555555555555556,
              "#d8576b"
             ],
             [
              0.6666666666666666,
              "#ed7953"
             ],
             [
              0.7777777777777778,
              "#fb9f3a"
             ],
             [
              0.8888888888888888,
              "#fdca26"
             ],
             [
              1,
              "#f0f921"
             ]
            ],
            "type": "heatmapgl"
           }
          ],
          "histogram": [
           {
            "marker": {
             "pattern": {
              "fillmode": "overlay",
              "size": 10,
              "solidity": 0.2
             }
            },
            "type": "histogram"
           }
          ],
          "histogram2d": [
           {
            "colorbar": {
             "outlinewidth": 0,
             "ticks": ""
            },
            "colorscale": [
             [
              0,
              "#0d0887"
             ],
             [
              0.1111111111111111,
              "#46039f"
             ],
             [
              0.2222222222222222,
              "#7201a8"
             ],
             [
              0.3333333333333333,
              "#9c179e"
             ],
             [
              0.4444444444444444,
              "#bd3786"
             ],
             [
              0.5555555555555556,
              "#d8576b"
             ],
             [
              0.6666666666666666,
              "#ed7953"
             ],
             [
              0.7777777777777778,
              "#fb9f3a"
             ],
             [
              0.8888888888888888,
              "#fdca26"
             ],
             [
              1,
              "#f0f921"
             ]
            ],
            "type": "histogram2d"
           }
          ],
          "histogram2dcontour": [
           {
            "colorbar": {
             "outlinewidth": 0,
             "ticks": ""
            },
            "colorscale": [
             [
              0,
              "#0d0887"
             ],
             [
              0.1111111111111111,
              "#46039f"
             ],
             [
              0.2222222222222222,
              "#7201a8"
             ],
             [
              0.3333333333333333,
              "#9c179e"
             ],
             [
              0.4444444444444444,
              "#bd3786"
             ],
             [
              0.5555555555555556,
              "#d8576b"
             ],
             [
              0.6666666666666666,
              "#ed7953"
             ],
             [
              0.7777777777777778,
              "#fb9f3a"
             ],
             [
              0.8888888888888888,
              "#fdca26"
             ],
             [
              1,
              "#f0f921"
             ]
            ],
            "type": "histogram2dcontour"
           }
          ],
          "mesh3d": [
           {
            "colorbar": {
             "outlinewidth": 0,
             "ticks": ""
            },
            "type": "mesh3d"
           }
          ],
          "parcoords": [
           {
            "line": {
             "colorbar": {
              "outlinewidth": 0,
              "ticks": ""
             }
            },
            "type": "parcoords"
           }
          ],
          "pie": [
           {
            "automargin": true,
            "type": "pie"
           }
          ],
          "scatter": [
           {
            "fillpattern": {
             "fillmode": "overlay",
             "size": 10,
             "solidity": 0.2
            },
            "type": "scatter"
           }
          ],
          "scatter3d": [
           {
            "line": {
             "colorbar": {
              "outlinewidth": 0,
              "ticks": ""
             }
            },
            "marker": {
             "colorbar": {
              "outlinewidth": 0,
              "ticks": ""
             }
            },
            "type": "scatter3d"
           }
          ],
          "scattercarpet": [
           {
            "marker": {
             "colorbar": {
              "outlinewidth": 0,
              "ticks": ""
             }
            },
            "type": "scattercarpet"
           }
          ],
          "scattergeo": [
           {
            "marker": {
             "colorbar": {
              "outlinewidth": 0,
              "ticks": ""
             }
            },
            "type": "scattergeo"
           }
          ],
          "scattergl": [
           {
            "marker": {
             "colorbar": {
              "outlinewidth": 0,
              "ticks": ""
             }
            },
            "type": "scattergl"
           }
          ],
          "scattermapbox": [
           {
            "marker": {
             "colorbar": {
              "outlinewidth": 0,
              "ticks": ""
             }
            },
            "type": "scattermapbox"
           }
          ],
          "scatterpolar": [
           {
            "marker": {
             "colorbar": {
              "outlinewidth": 0,
              "ticks": ""
             }
            },
            "type": "scatterpolar"
           }
          ],
          "scatterpolargl": [
           {
            "marker": {
             "colorbar": {
              "outlinewidth": 0,
              "ticks": ""
             }
            },
            "type": "scatterpolargl"
           }
          ],
          "scatterternary": [
           {
            "marker": {
             "colorbar": {
              "outlinewidth": 0,
              "ticks": ""
             }
            },
            "type": "scatterternary"
           }
          ],
          "surface": [
           {
            "colorbar": {
             "outlinewidth": 0,
             "ticks": ""
            },
            "colorscale": [
             [
              0,
              "#0d0887"
             ],
             [
              0.1111111111111111,
              "#46039f"
             ],
             [
              0.2222222222222222,
              "#7201a8"
             ],
             [
              0.3333333333333333,
              "#9c179e"
             ],
             [
              0.4444444444444444,
              "#bd3786"
             ],
             [
              0.5555555555555556,
              "#d8576b"
             ],
             [
              0.6666666666666666,
              "#ed7953"
             ],
             [
              0.7777777777777778,
              "#fb9f3a"
             ],
             [
              0.8888888888888888,
              "#fdca26"
             ],
             [
              1,
              "#f0f921"
             ]
            ],
            "type": "surface"
           }
          ],
          "table": [
           {
            "cells": {
             "fill": {
              "color": "#EBF0F8"
             },
             "line": {
              "color": "white"
             }
            },
            "header": {
             "fill": {
              "color": "#C8D4E3"
             },
             "line": {
              "color": "white"
             }
            },
            "type": "table"
           }
          ]
         },
         "layout": {
          "annotationdefaults": {
           "arrowcolor": "#2a3f5f",
           "arrowhead": 0,
           "arrowwidth": 1
          },
          "autotypenumbers": "strict",
          "coloraxis": {
           "colorbar": {
            "outlinewidth": 0,
            "ticks": ""
           }
          },
          "colorscale": {
           "diverging": [
            [
             0,
             "#8e0152"
            ],
            [
             0.1,
             "#c51b7d"
            ],
            [
             0.2,
             "#de77ae"
            ],
            [
             0.3,
             "#f1b6da"
            ],
            [
             0.4,
             "#fde0ef"
            ],
            [
             0.5,
             "#f7f7f7"
            ],
            [
             0.6,
             "#e6f5d0"
            ],
            [
             0.7,
             "#b8e186"
            ],
            [
             0.8,
             "#7fbc41"
            ],
            [
             0.9,
             "#4d9221"
            ],
            [
             1,
             "#276419"
            ]
           ],
           "sequential": [
            [
             0,
             "#0d0887"
            ],
            [
             0.1111111111111111,
             "#46039f"
            ],
            [
             0.2222222222222222,
             "#7201a8"
            ],
            [
             0.3333333333333333,
             "#9c179e"
            ],
            [
             0.4444444444444444,
             "#bd3786"
            ],
            [
             0.5555555555555556,
             "#d8576b"
            ],
            [
             0.6666666666666666,
             "#ed7953"
            ],
            [
             0.7777777777777778,
             "#fb9f3a"
            ],
            [
             0.8888888888888888,
             "#fdca26"
            ],
            [
             1,
             "#f0f921"
            ]
           ],
           "sequentialminus": [
            [
             0,
             "#0d0887"
            ],
            [
             0.1111111111111111,
             "#46039f"
            ],
            [
             0.2222222222222222,
             "#7201a8"
            ],
            [
             0.3333333333333333,
             "#9c179e"
            ],
            [
             0.4444444444444444,
             "#bd3786"
            ],
            [
             0.5555555555555556,
             "#d8576b"
            ],
            [
             0.6666666666666666,
             "#ed7953"
            ],
            [
             0.7777777777777778,
             "#fb9f3a"
            ],
            [
             0.8888888888888888,
             "#fdca26"
            ],
            [
             1,
             "#f0f921"
            ]
           ]
          },
          "colorway": [
           "#636efa",
           "#EF553B",
           "#00cc96",
           "#ab63fa",
           "#FFA15A",
           "#19d3f3",
           "#FF6692",
           "#B6E880",
           "#FF97FF",
           "#FECB52"
          ],
          "font": {
           "color": "#2a3f5f"
          },
          "geo": {
           "bgcolor": "white",
           "lakecolor": "white",
           "landcolor": "white",
           "showlakes": true,
           "showland": true,
           "subunitcolor": "#C8D4E3"
          },
          "hoverlabel": {
           "align": "left"
          },
          "hovermode": "closest",
          "mapbox": {
           "style": "light"
          },
          "paper_bgcolor": "white",
          "plot_bgcolor": "white",
          "polar": {
           "angularaxis": {
            "gridcolor": "#EBF0F8",
            "linecolor": "#EBF0F8",
            "ticks": ""
           },
           "bgcolor": "white",
           "radialaxis": {
            "gridcolor": "#EBF0F8",
            "linecolor": "#EBF0F8",
            "ticks": ""
           }
          },
          "scene": {
           "xaxis": {
            "backgroundcolor": "white",
            "gridcolor": "#DFE8F3",
            "gridwidth": 2,
            "linecolor": "#EBF0F8",
            "showbackground": true,
            "ticks": "",
            "zerolinecolor": "#EBF0F8"
           },
           "yaxis": {
            "backgroundcolor": "white",
            "gridcolor": "#DFE8F3",
            "gridwidth": 2,
            "linecolor": "#EBF0F8",
            "showbackground": true,
            "ticks": "",
            "zerolinecolor": "#EBF0F8"
           },
           "zaxis": {
            "backgroundcolor": "white",
            "gridcolor": "#DFE8F3",
            "gridwidth": 2,
            "linecolor": "#EBF0F8",
            "showbackground": true,
            "ticks": "",
            "zerolinecolor": "#EBF0F8"
           }
          },
          "shapedefaults": {
           "line": {
            "color": "#2a3f5f"
           }
          },
          "ternary": {
           "aaxis": {
            "gridcolor": "#DFE8F3",
            "linecolor": "#A2B1C6",
            "ticks": ""
           },
           "baxis": {
            "gridcolor": "#DFE8F3",
            "linecolor": "#A2B1C6",
            "ticks": ""
           },
           "bgcolor": "white",
           "caxis": {
            "gridcolor": "#DFE8F3",
            "linecolor": "#A2B1C6",
            "ticks": ""
           }
          },
          "title": {
           "x": 0.05
          },
          "xaxis": {
           "automargin": true,
           "gridcolor": "#EBF0F8",
           "linecolor": "#EBF0F8",
           "ticks": "",
           "title": {
            "standoff": 15
           },
           "zerolinecolor": "#EBF0F8",
           "zerolinewidth": 2
          },
          "yaxis": {
           "automargin": true,
           "gridcolor": "#EBF0F8",
           "linecolor": "#EBF0F8",
           "ticks": "",
           "title": {
            "standoff": 15
           },
           "zerolinecolor": "#EBF0F8",
           "zerolinewidth": 2
          }
         }
        },
        "title": {
         "text": "Monthly Sales by Year"
        },
        "xaxis": {
         "tickmode": "array",
         "tickvals": [
          1,
          2,
          3,
          4,
          5,
          6,
          7,
          8,
          9,
          10,
          11,
          12
         ],
         "title": {
          "text": "Month"
         }
        },
        "yaxis": {
         "tickformat": ",",
         "title": {
          "text": "Total Monthly Sales"
         }
        }
       }
      }
     },
     "metadata": {},
     "output_type": "display_data"
    }
   ],
   "source": [
    "# Convert 'purchase_date' to datetime and extract 'month' and 'year'\n",
    "data['purchase_date'] = pd.to_datetime(data['purchase_date'], errors='coerce')\n",
    "data['month'] = data['purchase_date'].dt.month\n",
    "data['year'] = data['purchase_date'].dt.year\n",
    "data = data[data['year'] != 2021]\n",
    "# Calculate monthly sales for each year\n",
    "monthly_sales = data.groupby(['year', 'month'])['total_price'].sum().reset_index()\n",
    "\n",
    "# Pivot the data to have months as rows and years as columns\n",
    "monthly_sales_pivot = monthly_sales.pivot(index='month', columns='year', values='total_price')\n",
    "\n",
    "fig = go.Figure()\n",
    "\n",
    "for year in monthly_sales_pivot.columns:\n",
    "    fig.add_trace(go.Scatter(\n",
    "        x=monthly_sales_pivot.index,\n",
    "        y=monthly_sales_pivot[year],\n",
    "        mode='lines+markers',\n",
    "        name=str(year)\n",
    "    ))\n",
    "\n",
    "fig.update_layout(\n",
    "    title='Monthly Sales by Year',\n",
    "    xaxis_title='Month',\n",
    "    yaxis_title='Total Monthly Sales',\n",
    "    xaxis=dict(tickmode='array', tickvals=list(range(1, 13))),\n",
    "    yaxis=dict(tickformat=','),\n",
    "    template='plotly_white',\n",
    "    legend_title='Year'\n",
    ")\n",
    "\n",
    "fig.show()\n"
   ]
  },
  {
   "cell_type": "code",
   "execution_count": 9,
   "metadata": {},
   "outputs": [
    {
     "data": {
      "application/vnd.plotly.v1+json": {
       "config": {
        "plotlyServerURL": "https://plot.ly"
       },
       "data": [
        {
         "mode": "lines+markers",
         "name": "K Cups Daily Chef Columbian Supremo",
         "type": "scatter",
         "x": [
          1,
          2,
          3,
          4,
          5,
          6,
          7,
          8,
          9,
          10,
          11,
          12
         ],
         "y": [
          93121,
          96195,
          115116,
          103562,
          104728,
          120522,
          101071,
          98156,
          100806,
          92909,
          117130,
          168858
         ]
        },
        {
         "mode": "lines+markers",
         "name": "K Cups Dunkin Donuts Medium Roast",
         "type": "scatter",
         "x": [
          1,
          2,
          3,
          4,
          5,
          6,
          7,
          8,
          9,
          10,
          11,
          12
         ],
         "y": [
          81216,
          86640,
          98448,
          83568,
          93360,
          96288,
          102000,
          98112,
          91440,
          94224,
          99648,
          142896
         ]
        },
        {
         "mode": "lines+markers",
         "name": "K Cups Original Donut Shop Med. Roast",
         "type": "scatter",
         "x": [
          1,
          2,
          3,
          4,
          5,
          6,
          7,
          8,
          9,
          10,
          11,
          12
         ],
         "y": [
          93439,
          93492,
          95188,
          100223,
          105682,
          99481,
          112201,
          105523,
          97361,
          97626,
          94340,
          157781
         ]
        },
        {
         "mode": "lines+markers",
         "name": "Muscle Milk Protein Shake Van. 11oz",
         "type": "scatter",
         "x": [
          1,
          2,
          3,
          4,
          5,
          6,
          7,
          8,
          9,
          10,
          11,
          12
         ],
         "y": [
          80020,
          92574,
          93386,
          89276,
          92286,
          96092,
          92094,
          88956,
          79580,
          85534,
          87208,
          125474
         ]
        },
        {
         "mode": "lines+markers",
         "name": "Others",
         "type": "scatter",
         "x": [
          1,
          2,
          3,
          4,
          5,
          6,
          7,
          8,
          9,
          10,
          11,
          12
         ],
         "y": [
          7710746,
          7695255,
          8516289,
          8313126,
          8699620,
          8887352,
          8528835,
          8419107,
          8327837,
          8502421,
          8291718,
          12627535
         ]
        },
        {
         "mode": "lines+markers",
         "name": "Red Bull 12oz",
         "type": "scatter",
         "x": [
          1,
          2,
          3,
          4,
          5,
          6,
          7,
          8,
          9,
          10,
          11,
          12
         ],
         "y": [
          99990,
          102740,
          103950,
          109120,
          109450,
          121275,
          110605,
          119790,
          111540,
          110770,
          109340,
          163020
         ]
        }
       ],
       "layout": {
        "legend": {
         "title": {
          "text": "Product"
         }
        },
        "template": {
         "data": {
          "bar": [
           {
            "error_x": {
             "color": "#2a3f5f"
            },
            "error_y": {
             "color": "#2a3f5f"
            },
            "marker": {
             "line": {
              "color": "white",
              "width": 0.5
             },
             "pattern": {
              "fillmode": "overlay",
              "size": 10,
              "solidity": 0.2
             }
            },
            "type": "bar"
           }
          ],
          "barpolar": [
           {
            "marker": {
             "line": {
              "color": "white",
              "width": 0.5
             },
             "pattern": {
              "fillmode": "overlay",
              "size": 10,
              "solidity": 0.2
             }
            },
            "type": "barpolar"
           }
          ],
          "carpet": [
           {
            "aaxis": {
             "endlinecolor": "#2a3f5f",
             "gridcolor": "#C8D4E3",
             "linecolor": "#C8D4E3",
             "minorgridcolor": "#C8D4E3",
             "startlinecolor": "#2a3f5f"
            },
            "baxis": {
             "endlinecolor": "#2a3f5f",
             "gridcolor": "#C8D4E3",
             "linecolor": "#C8D4E3",
             "minorgridcolor": "#C8D4E3",
             "startlinecolor": "#2a3f5f"
            },
            "type": "carpet"
           }
          ],
          "choropleth": [
           {
            "colorbar": {
             "outlinewidth": 0,
             "ticks": ""
            },
            "type": "choropleth"
           }
          ],
          "contour": [
           {
            "colorbar": {
             "outlinewidth": 0,
             "ticks": ""
            },
            "colorscale": [
             [
              0,
              "#0d0887"
             ],
             [
              0.1111111111111111,
              "#46039f"
             ],
             [
              0.2222222222222222,
              "#7201a8"
             ],
             [
              0.3333333333333333,
              "#9c179e"
             ],
             [
              0.4444444444444444,
              "#bd3786"
             ],
             [
              0.5555555555555556,
              "#d8576b"
             ],
             [
              0.6666666666666666,
              "#ed7953"
             ],
             [
              0.7777777777777778,
              "#fb9f3a"
             ],
             [
              0.8888888888888888,
              "#fdca26"
             ],
             [
              1,
              "#f0f921"
             ]
            ],
            "type": "contour"
           }
          ],
          "contourcarpet": [
           {
            "colorbar": {
             "outlinewidth": 0,
             "ticks": ""
            },
            "type": "contourcarpet"
           }
          ],
          "heatmap": [
           {
            "colorbar": {
             "outlinewidth": 0,
             "ticks": ""
            },
            "colorscale": [
             [
              0,
              "#0d0887"
             ],
             [
              0.1111111111111111,
              "#46039f"
             ],
             [
              0.2222222222222222,
              "#7201a8"
             ],
             [
              0.3333333333333333,
              "#9c179e"
             ],
             [
              0.4444444444444444,
              "#bd3786"
             ],
             [
              0.5555555555555556,
              "#d8576b"
             ],
             [
              0.6666666666666666,
              "#ed7953"
             ],
             [
              0.7777777777777778,
              "#fb9f3a"
             ],
             [
              0.8888888888888888,
              "#fdca26"
             ],
             [
              1,
              "#f0f921"
             ]
            ],
            "type": "heatmap"
           }
          ],
          "heatmapgl": [
           {
            "colorbar": {
             "outlinewidth": 0,
             "ticks": ""
            },
            "colorscale": [
             [
              0,
              "#0d0887"
             ],
             [
              0.1111111111111111,
              "#46039f"
             ],
             [
              0.2222222222222222,
              "#7201a8"
             ],
             [
              0.3333333333333333,
              "#9c179e"
             ],
             [
              0.4444444444444444,
              "#bd3786"
             ],
             [
              0.5555555555555556,
              "#d8576b"
             ],
             [
              0.6666666666666666,
              "#ed7953"
             ],
             [
              0.7777777777777778,
              "#fb9f3a"
             ],
             [
              0.8888888888888888,
              "#fdca26"
             ],
             [
              1,
              "#f0f921"
             ]
            ],
            "type": "heatmapgl"
           }
          ],
          "histogram": [
           {
            "marker": {
             "pattern": {
              "fillmode": "overlay",
              "size": 10,
              "solidity": 0.2
             }
            },
            "type": "histogram"
           }
          ],
          "histogram2d": [
           {
            "colorbar": {
             "outlinewidth": 0,
             "ticks": ""
            },
            "colorscale": [
             [
              0,
              "#0d0887"
             ],
             [
              0.1111111111111111,
              "#46039f"
             ],
             [
              0.2222222222222222,
              "#7201a8"
             ],
             [
              0.3333333333333333,
              "#9c179e"
             ],
             [
              0.4444444444444444,
              "#bd3786"
             ],
             [
              0.5555555555555556,
              "#d8576b"
             ],
             [
              0.6666666666666666,
              "#ed7953"
             ],
             [
              0.7777777777777778,
              "#fb9f3a"
             ],
             [
              0.8888888888888888,
              "#fdca26"
             ],
             [
              1,
              "#f0f921"
             ]
            ],
            "type": "histogram2d"
           }
          ],
          "histogram2dcontour": [
           {
            "colorbar": {
             "outlinewidth": 0,
             "ticks": ""
            },
            "colorscale": [
             [
              0,
              "#0d0887"
             ],
             [
              0.1111111111111111,
              "#46039f"
             ],
             [
              0.2222222222222222,
              "#7201a8"
             ],
             [
              0.3333333333333333,
              "#9c179e"
             ],
             [
              0.4444444444444444,
              "#bd3786"
             ],
             [
              0.5555555555555556,
              "#d8576b"
             ],
             [
              0.6666666666666666,
              "#ed7953"
             ],
             [
              0.7777777777777778,
              "#fb9f3a"
             ],
             [
              0.8888888888888888,
              "#fdca26"
             ],
             [
              1,
              "#f0f921"
             ]
            ],
            "type": "histogram2dcontour"
           }
          ],
          "mesh3d": [
           {
            "colorbar": {
             "outlinewidth": 0,
             "ticks": ""
            },
            "type": "mesh3d"
           }
          ],
          "parcoords": [
           {
            "line": {
             "colorbar": {
              "outlinewidth": 0,
              "ticks": ""
             }
            },
            "type": "parcoords"
           }
          ],
          "pie": [
           {
            "automargin": true,
            "type": "pie"
           }
          ],
          "scatter": [
           {
            "fillpattern": {
             "fillmode": "overlay",
             "size": 10,
             "solidity": 0.2
            },
            "type": "scatter"
           }
          ],
          "scatter3d": [
           {
            "line": {
             "colorbar": {
              "outlinewidth": 0,
              "ticks": ""
             }
            },
            "marker": {
             "colorbar": {
              "outlinewidth": 0,
              "ticks": ""
             }
            },
            "type": "scatter3d"
           }
          ],
          "scattercarpet": [
           {
            "marker": {
             "colorbar": {
              "outlinewidth": 0,
              "ticks": ""
             }
            },
            "type": "scattercarpet"
           }
          ],
          "scattergeo": [
           {
            "marker": {
             "colorbar": {
              "outlinewidth": 0,
              "ticks": ""
             }
            },
            "type": "scattergeo"
           }
          ],
          "scattergl": [
           {
            "marker": {
             "colorbar": {
              "outlinewidth": 0,
              "ticks": ""
             }
            },
            "type": "scattergl"
           }
          ],
          "scattermapbox": [
           {
            "marker": {
             "colorbar": {
              "outlinewidth": 0,
              "ticks": ""
             }
            },
            "type": "scattermapbox"
           }
          ],
          "scatterpolar": [
           {
            "marker": {
             "colorbar": {
              "outlinewidth": 0,
              "ticks": ""
             }
            },
            "type": "scatterpolar"
           }
          ],
          "scatterpolargl": [
           {
            "marker": {
             "colorbar": {
              "outlinewidth": 0,
              "ticks": ""
             }
            },
            "type": "scatterpolargl"
           }
          ],
          "scatterternary": [
           {
            "marker": {
             "colorbar": {
              "outlinewidth": 0,
              "ticks": ""
             }
            },
            "type": "scatterternary"
           }
          ],
          "surface": [
           {
            "colorbar": {
             "outlinewidth": 0,
             "ticks": ""
            },
            "colorscale": [
             [
              0,
              "#0d0887"
             ],
             [
              0.1111111111111111,
              "#46039f"
             ],
             [
              0.2222222222222222,
              "#7201a8"
             ],
             [
              0.3333333333333333,
              "#9c179e"
             ],
             [
              0.4444444444444444,
              "#bd3786"
             ],
             [
              0.5555555555555556,
              "#d8576b"
             ],
             [
              0.6666666666666666,
              "#ed7953"
             ],
             [
              0.7777777777777778,
              "#fb9f3a"
             ],
             [
              0.8888888888888888,
              "#fdca26"
             ],
             [
              1,
              "#f0f921"
             ]
            ],
            "type": "surface"
           }
          ],
          "table": [
           {
            "cells": {
             "fill": {
              "color": "#EBF0F8"
             },
             "line": {
              "color": "white"
             }
            },
            "header": {
             "fill": {
              "color": "#C8D4E3"
             },
             "line": {
              "color": "white"
             }
            },
            "type": "table"
           }
          ]
         },
         "layout": {
          "annotationdefaults": {
           "arrowcolor": "#2a3f5f",
           "arrowhead": 0,
           "arrowwidth": 1
          },
          "autotypenumbers": "strict",
          "coloraxis": {
           "colorbar": {
            "outlinewidth": 0,
            "ticks": ""
           }
          },
          "colorscale": {
           "diverging": [
            [
             0,
             "#8e0152"
            ],
            [
             0.1,
             "#c51b7d"
            ],
            [
             0.2,
             "#de77ae"
            ],
            [
             0.3,
             "#f1b6da"
            ],
            [
             0.4,
             "#fde0ef"
            ],
            [
             0.5,
             "#f7f7f7"
            ],
            [
             0.6,
             "#e6f5d0"
            ],
            [
             0.7,
             "#b8e186"
            ],
            [
             0.8,
             "#7fbc41"
            ],
            [
             0.9,
             "#4d9221"
            ],
            [
             1,
             "#276419"
            ]
           ],
           "sequential": [
            [
             0,
             "#0d0887"
            ],
            [
             0.1111111111111111,
             "#46039f"
            ],
            [
             0.2222222222222222,
             "#7201a8"
            ],
            [
             0.3333333333333333,
             "#9c179e"
            ],
            [
             0.4444444444444444,
             "#bd3786"
            ],
            [
             0.5555555555555556,
             "#d8576b"
            ],
            [
             0.6666666666666666,
             "#ed7953"
            ],
            [
             0.7777777777777778,
             "#fb9f3a"
            ],
            [
             0.8888888888888888,
             "#fdca26"
            ],
            [
             1,
             "#f0f921"
            ]
           ],
           "sequentialminus": [
            [
             0,
             "#0d0887"
            ],
            [
             0.1111111111111111,
             "#46039f"
            ],
            [
             0.2222222222222222,
             "#7201a8"
            ],
            [
             0.3333333333333333,
             "#9c179e"
            ],
            [
             0.4444444444444444,
             "#bd3786"
            ],
            [
             0.5555555555555556,
             "#d8576b"
            ],
            [
             0.6666666666666666,
             "#ed7953"
            ],
            [
             0.7777777777777778,
             "#fb9f3a"
            ],
            [
             0.8888888888888888,
             "#fdca26"
            ],
            [
             1,
             "#f0f921"
            ]
           ]
          },
          "colorway": [
           "#636efa",
           "#EF553B",
           "#00cc96",
           "#ab63fa",
           "#FFA15A",
           "#19d3f3",
           "#FF6692",
           "#B6E880",
           "#FF97FF",
           "#FECB52"
          ],
          "font": {
           "color": "#2a3f5f"
          },
          "geo": {
           "bgcolor": "white",
           "lakecolor": "white",
           "landcolor": "white",
           "showlakes": true,
           "showland": true,
           "subunitcolor": "#C8D4E3"
          },
          "hoverlabel": {
           "align": "left"
          },
          "hovermode": "closest",
          "mapbox": {
           "style": "light"
          },
          "paper_bgcolor": "white",
          "plot_bgcolor": "white",
          "polar": {
           "angularaxis": {
            "gridcolor": "#EBF0F8",
            "linecolor": "#EBF0F8",
            "ticks": ""
           },
           "bgcolor": "white",
           "radialaxis": {
            "gridcolor": "#EBF0F8",
            "linecolor": "#EBF0F8",
            "ticks": ""
           }
          },
          "scene": {
           "xaxis": {
            "backgroundcolor": "white",
            "gridcolor": "#DFE8F3",
            "gridwidth": 2,
            "linecolor": "#EBF0F8",
            "showbackground": true,
            "ticks": "",
            "zerolinecolor": "#EBF0F8"
           },
           "yaxis": {
            "backgroundcolor": "white",
            "gridcolor": "#DFE8F3",
            "gridwidth": 2,
            "linecolor": "#EBF0F8",
            "showbackground": true,
            "ticks": "",
            "zerolinecolor": "#EBF0F8"
           },
           "zaxis": {
            "backgroundcolor": "white",
            "gridcolor": "#DFE8F3",
            "gridwidth": 2,
            "linecolor": "#EBF0F8",
            "showbackground": true,
            "ticks": "",
            "zerolinecolor": "#EBF0F8"
           }
          },
          "shapedefaults": {
           "line": {
            "color": "#2a3f5f"
           }
          },
          "ternary": {
           "aaxis": {
            "gridcolor": "#DFE8F3",
            "linecolor": "#A2B1C6",
            "ticks": ""
           },
           "baxis": {
            "gridcolor": "#DFE8F3",
            "linecolor": "#A2B1C6",
            "ticks": ""
           },
           "bgcolor": "white",
           "caxis": {
            "gridcolor": "#DFE8F3",
            "linecolor": "#A2B1C6",
            "ticks": ""
           }
          },
          "title": {
           "x": 0.05
          },
          "xaxis": {
           "automargin": true,
           "gridcolor": "#EBF0F8",
           "linecolor": "#EBF0F8",
           "ticks": "",
           "title": {
            "standoff": 15
           },
           "zerolinecolor": "#EBF0F8",
           "zerolinewidth": 2
          },
          "yaxis": {
           "automargin": true,
           "gridcolor": "#EBF0F8",
           "linecolor": "#EBF0F8",
           "ticks": "",
           "title": {
            "standoff": 15
           },
           "zerolinecolor": "#EBF0F8",
           "zerolinewidth": 2
          }
         }
        },
        "title": {
         "text": "Monthly Sales Trends for Top Products and Others"
        },
        "xaxis": {
         "tickmode": "array",
         "tickvals": [
          1,
          2,
          3,
          4,
          5,
          6,
          7,
          8,
          9,
          10,
          11,
          12
         ],
         "title": {
          "text": "Month"
         }
        },
        "yaxis": {
         "tickformat": ",",
         "title": {
          "text": "Total Sales"
         }
        }
       }
      }
     },
     "metadata": {},
     "output_type": "display_data"
    }
   ],
   "source": [
    "# Identify top N products\n",
    "top_n = 5\n",
    "top_products = data.groupby('item_name')['total_price'].sum().nlargest(top_n).index\n",
    "\n",
    "# Create a modified 'item_name' column with 'Others' for non-top products\n",
    "data['item_name_mod'] = data['item_name'].where(data['item_name'].isin(top_products), 'Others')\n",
    "\n",
    "# Prepare monthly sales data for top products and 'Others'\n",
    "monthly_sales_pivot = (\n",
    "    data.groupby(['month', 'item_name_mod'])['total_price']\n",
    "    .sum()\n",
    "    .unstack()\n",
    "    .fillna(0)\n",
    ")\n",
    "\n",
    "fig = go.Figure()\n",
    "\n",
    "for column in monthly_sales_pivot.columns:\n",
    "    fig.add_trace(go.Scatter(\n",
    "        x=monthly_sales_pivot.index,\n",
    "        y=monthly_sales_pivot[column],\n",
    "        mode='lines+markers',\n",
    "        name=column\n",
    "    ))\n",
    "\n",
    "fig.update_layout(\n",
    "    title='Monthly Sales Trends for Top Products and Others',\n",
    "    xaxis_title='Month',\n",
    "    yaxis_title='Total Sales',\n",
    "    xaxis=dict(tickmode='array', tickvals=list(range(1, 13))),\n",
    "    yaxis=dict(tickformat=','),\n",
    "    template='plotly_white',\n",
    "    legend_title='Product'\n",
    ")\n",
    "\n",
    "fig.show()\n"
   ]
  },
  {
   "cell_type": "code",
   "execution_count": 10,
   "metadata": {},
   "outputs": [
    {
     "name": "stdout",
     "output_type": "stream",
     "text": [
      "\n",
      "Top 10 Consistent Top-Selling Products:\n",
      "                                item_name  frequency_in_top_3\n",
      "14                          Red Bull 12oz                  58\n",
      "2     K Cups Daily Chef Columbian Supremo                  53\n",
      "5   K Cups Original Donut Shop Med. Roast                  40\n",
      "3       K Cups Dunkin Donuts Medium Roast                  24\n",
      "4         K Cups Folgers Lively Columbian                  18\n",
      "0                         Honey Packets                    14\n",
      "13    Muscle Milk Protein Shake Van. 11oz                  10\n",
      "7        K Cups Р Organic Breakfast Blend                   6\n",
      "6         K Cups Р  Starbuck's Pike Place                   6\n",
      "12       Monster Zero Ultra Variety 16 oz                   5\n"
     ]
    },
    {
     "data": {
      "application/vnd.plotly.v1+json": {
       "config": {
        "plotlyServerURL": "https://plot.ly"
       },
       "data": [
        {
         "marker": {
          "color": "skyblue"
         },
         "type": "bar",
         "x": [
          "Red Bull 12oz",
          "K Cups Daily Chef Columbian Supremo",
          "K Cups Original Donut Shop Med. Roast",
          "K Cups Dunkin Donuts Medium Roast",
          "K Cups Folgers Lively Columbian",
          "Honey Packets  ",
          "Muscle Milk Protein Shake Van. 11oz",
          "K Cups Р Organic Breakfast Blend",
          "K Cups Р  Starbuck's Pike Place",
          "Monster Zero Ultra Variety 16 oz"
         ],
         "y": [
          58,
          53,
          40,
          24,
          18,
          14,
          10,
          6,
          6,
          5
         ]
        }
       ],
       "layout": {
        "template": {
         "data": {
          "bar": [
           {
            "error_x": {
             "color": "#2a3f5f"
            },
            "error_y": {
             "color": "#2a3f5f"
            },
            "marker": {
             "line": {
              "color": "white",
              "width": 0.5
             },
             "pattern": {
              "fillmode": "overlay",
              "size": 10,
              "solidity": 0.2
             }
            },
            "type": "bar"
           }
          ],
          "barpolar": [
           {
            "marker": {
             "line": {
              "color": "white",
              "width": 0.5
             },
             "pattern": {
              "fillmode": "overlay",
              "size": 10,
              "solidity": 0.2
             }
            },
            "type": "barpolar"
           }
          ],
          "carpet": [
           {
            "aaxis": {
             "endlinecolor": "#2a3f5f",
             "gridcolor": "#C8D4E3",
             "linecolor": "#C8D4E3",
             "minorgridcolor": "#C8D4E3",
             "startlinecolor": "#2a3f5f"
            },
            "baxis": {
             "endlinecolor": "#2a3f5f",
             "gridcolor": "#C8D4E3",
             "linecolor": "#C8D4E3",
             "minorgridcolor": "#C8D4E3",
             "startlinecolor": "#2a3f5f"
            },
            "type": "carpet"
           }
          ],
          "choropleth": [
           {
            "colorbar": {
             "outlinewidth": 0,
             "ticks": ""
            },
            "type": "choropleth"
           }
          ],
          "contour": [
           {
            "colorbar": {
             "outlinewidth": 0,
             "ticks": ""
            },
            "colorscale": [
             [
              0,
              "#0d0887"
             ],
             [
              0.1111111111111111,
              "#46039f"
             ],
             [
              0.2222222222222222,
              "#7201a8"
             ],
             [
              0.3333333333333333,
              "#9c179e"
             ],
             [
              0.4444444444444444,
              "#bd3786"
             ],
             [
              0.5555555555555556,
              "#d8576b"
             ],
             [
              0.6666666666666666,
              "#ed7953"
             ],
             [
              0.7777777777777778,
              "#fb9f3a"
             ],
             [
              0.8888888888888888,
              "#fdca26"
             ],
             [
              1,
              "#f0f921"
             ]
            ],
            "type": "contour"
           }
          ],
          "contourcarpet": [
           {
            "colorbar": {
             "outlinewidth": 0,
             "ticks": ""
            },
            "type": "contourcarpet"
           }
          ],
          "heatmap": [
           {
            "colorbar": {
             "outlinewidth": 0,
             "ticks": ""
            },
            "colorscale": [
             [
              0,
              "#0d0887"
             ],
             [
              0.1111111111111111,
              "#46039f"
             ],
             [
              0.2222222222222222,
              "#7201a8"
             ],
             [
              0.3333333333333333,
              "#9c179e"
             ],
             [
              0.4444444444444444,
              "#bd3786"
             ],
             [
              0.5555555555555556,
              "#d8576b"
             ],
             [
              0.6666666666666666,
              "#ed7953"
             ],
             [
              0.7777777777777778,
              "#fb9f3a"
             ],
             [
              0.8888888888888888,
              "#fdca26"
             ],
             [
              1,
              "#f0f921"
             ]
            ],
            "type": "heatmap"
           }
          ],
          "heatmapgl": [
           {
            "colorbar": {
             "outlinewidth": 0,
             "ticks": ""
            },
            "colorscale": [
             [
              0,
              "#0d0887"
             ],
             [
              0.1111111111111111,
              "#46039f"
             ],
             [
              0.2222222222222222,
              "#7201a8"
             ],
             [
              0.3333333333333333,
              "#9c179e"
             ],
             [
              0.4444444444444444,
              "#bd3786"
             ],
             [
              0.5555555555555556,
              "#d8576b"
             ],
             [
              0.6666666666666666,
              "#ed7953"
             ],
             [
              0.7777777777777778,
              "#fb9f3a"
             ],
             [
              0.8888888888888888,
              "#fdca26"
             ],
             [
              1,
              "#f0f921"
             ]
            ],
            "type": "heatmapgl"
           }
          ],
          "histogram": [
           {
            "marker": {
             "pattern": {
              "fillmode": "overlay",
              "size": 10,
              "solidity": 0.2
             }
            },
            "type": "histogram"
           }
          ],
          "histogram2d": [
           {
            "colorbar": {
             "outlinewidth": 0,
             "ticks": ""
            },
            "colorscale": [
             [
              0,
              "#0d0887"
             ],
             [
              0.1111111111111111,
              "#46039f"
             ],
             [
              0.2222222222222222,
              "#7201a8"
             ],
             [
              0.3333333333333333,
              "#9c179e"
             ],
             [
              0.4444444444444444,
              "#bd3786"
             ],
             [
              0.5555555555555556,
              "#d8576b"
             ],
             [
              0.6666666666666666,
              "#ed7953"
             ],
             [
              0.7777777777777778,
              "#fb9f3a"
             ],
             [
              0.8888888888888888,
              "#fdca26"
             ],
             [
              1,
              "#f0f921"
             ]
            ],
            "type": "histogram2d"
           }
          ],
          "histogram2dcontour": [
           {
            "colorbar": {
             "outlinewidth": 0,
             "ticks": ""
            },
            "colorscale": [
             [
              0,
              "#0d0887"
             ],
             [
              0.1111111111111111,
              "#46039f"
             ],
             [
              0.2222222222222222,
              "#7201a8"
             ],
             [
              0.3333333333333333,
              "#9c179e"
             ],
             [
              0.4444444444444444,
              "#bd3786"
             ],
             [
              0.5555555555555556,
              "#d8576b"
             ],
             [
              0.6666666666666666,
              "#ed7953"
             ],
             [
              0.7777777777777778,
              "#fb9f3a"
             ],
             [
              0.8888888888888888,
              "#fdca26"
             ],
             [
              1,
              "#f0f921"
             ]
            ],
            "type": "histogram2dcontour"
           }
          ],
          "mesh3d": [
           {
            "colorbar": {
             "outlinewidth": 0,
             "ticks": ""
            },
            "type": "mesh3d"
           }
          ],
          "parcoords": [
           {
            "line": {
             "colorbar": {
              "outlinewidth": 0,
              "ticks": ""
             }
            },
            "type": "parcoords"
           }
          ],
          "pie": [
           {
            "automargin": true,
            "type": "pie"
           }
          ],
          "scatter": [
           {
            "fillpattern": {
             "fillmode": "overlay",
             "size": 10,
             "solidity": 0.2
            },
            "type": "scatter"
           }
          ],
          "scatter3d": [
           {
            "line": {
             "colorbar": {
              "outlinewidth": 0,
              "ticks": ""
             }
            },
            "marker": {
             "colorbar": {
              "outlinewidth": 0,
              "ticks": ""
             }
            },
            "type": "scatter3d"
           }
          ],
          "scattercarpet": [
           {
            "marker": {
             "colorbar": {
              "outlinewidth": 0,
              "ticks": ""
             }
            },
            "type": "scattercarpet"
           }
          ],
          "scattergeo": [
           {
            "marker": {
             "colorbar": {
              "outlinewidth": 0,
              "ticks": ""
             }
            },
            "type": "scattergeo"
           }
          ],
          "scattergl": [
           {
            "marker": {
             "colorbar": {
              "outlinewidth": 0,
              "ticks": ""
             }
            },
            "type": "scattergl"
           }
          ],
          "scattermapbox": [
           {
            "marker": {
             "colorbar": {
              "outlinewidth": 0,
              "ticks": ""
             }
            },
            "type": "scattermapbox"
           }
          ],
          "scatterpolar": [
           {
            "marker": {
             "colorbar": {
              "outlinewidth": 0,
              "ticks": ""
             }
            },
            "type": "scatterpolar"
           }
          ],
          "scatterpolargl": [
           {
            "marker": {
             "colorbar": {
              "outlinewidth": 0,
              "ticks": ""
             }
            },
            "type": "scatterpolargl"
           }
          ],
          "scatterternary": [
           {
            "marker": {
             "colorbar": {
              "outlinewidth": 0,
              "ticks": ""
             }
            },
            "type": "scatterternary"
           }
          ],
          "surface": [
           {
            "colorbar": {
             "outlinewidth": 0,
             "ticks": ""
            },
            "colorscale": [
             [
              0,
              "#0d0887"
             ],
             [
              0.1111111111111111,
              "#46039f"
             ],
             [
              0.2222222222222222,
              "#7201a8"
             ],
             [
              0.3333333333333333,
              "#9c179e"
             ],
             [
              0.4444444444444444,
              "#bd3786"
             ],
             [
              0.5555555555555556,
              "#d8576b"
             ],
             [
              0.6666666666666666,
              "#ed7953"
             ],
             [
              0.7777777777777778,
              "#fb9f3a"
             ],
             [
              0.8888888888888888,
              "#fdca26"
             ],
             [
              1,
              "#f0f921"
             ]
            ],
            "type": "surface"
           }
          ],
          "table": [
           {
            "cells": {
             "fill": {
              "color": "#EBF0F8"
             },
             "line": {
              "color": "white"
             }
            },
            "header": {
             "fill": {
              "color": "#C8D4E3"
             },
             "line": {
              "color": "white"
             }
            },
            "type": "table"
           }
          ]
         },
         "layout": {
          "annotationdefaults": {
           "arrowcolor": "#2a3f5f",
           "arrowhead": 0,
           "arrowwidth": 1
          },
          "autotypenumbers": "strict",
          "coloraxis": {
           "colorbar": {
            "outlinewidth": 0,
            "ticks": ""
           }
          },
          "colorscale": {
           "diverging": [
            [
             0,
             "#8e0152"
            ],
            [
             0.1,
             "#c51b7d"
            ],
            [
             0.2,
             "#de77ae"
            ],
            [
             0.3,
             "#f1b6da"
            ],
            [
             0.4,
             "#fde0ef"
            ],
            [
             0.5,
             "#f7f7f7"
            ],
            [
             0.6,
             "#e6f5d0"
            ],
            [
             0.7,
             "#b8e186"
            ],
            [
             0.8,
             "#7fbc41"
            ],
            [
             0.9,
             "#4d9221"
            ],
            [
             1,
             "#276419"
            ]
           ],
           "sequential": [
            [
             0,
             "#0d0887"
            ],
            [
             0.1111111111111111,
             "#46039f"
            ],
            [
             0.2222222222222222,
             "#7201a8"
            ],
            [
             0.3333333333333333,
             "#9c179e"
            ],
            [
             0.4444444444444444,
             "#bd3786"
            ],
            [
             0.5555555555555556,
             "#d8576b"
            ],
            [
             0.6666666666666666,
             "#ed7953"
            ],
            [
             0.7777777777777778,
             "#fb9f3a"
            ],
            [
             0.8888888888888888,
             "#fdca26"
            ],
            [
             1,
             "#f0f921"
            ]
           ],
           "sequentialminus": [
            [
             0,
             "#0d0887"
            ],
            [
             0.1111111111111111,
             "#46039f"
            ],
            [
             0.2222222222222222,
             "#7201a8"
            ],
            [
             0.3333333333333333,
             "#9c179e"
            ],
            [
             0.4444444444444444,
             "#bd3786"
            ],
            [
             0.5555555555555556,
             "#d8576b"
            ],
            [
             0.6666666666666666,
             "#ed7953"
            ],
            [
             0.7777777777777778,
             "#fb9f3a"
            ],
            [
             0.8888888888888888,
             "#fdca26"
            ],
            [
             1,
             "#f0f921"
            ]
           ]
          },
          "colorway": [
           "#636efa",
           "#EF553B",
           "#00cc96",
           "#ab63fa",
           "#FFA15A",
           "#19d3f3",
           "#FF6692",
           "#B6E880",
           "#FF97FF",
           "#FECB52"
          ],
          "font": {
           "color": "#2a3f5f"
          },
          "geo": {
           "bgcolor": "white",
           "lakecolor": "white",
           "landcolor": "white",
           "showlakes": true,
           "showland": true,
           "subunitcolor": "#C8D4E3"
          },
          "hoverlabel": {
           "align": "left"
          },
          "hovermode": "closest",
          "mapbox": {
           "style": "light"
          },
          "paper_bgcolor": "white",
          "plot_bgcolor": "white",
          "polar": {
           "angularaxis": {
            "gridcolor": "#EBF0F8",
            "linecolor": "#EBF0F8",
            "ticks": ""
           },
           "bgcolor": "white",
           "radialaxis": {
            "gridcolor": "#EBF0F8",
            "linecolor": "#EBF0F8",
            "ticks": ""
           }
          },
          "scene": {
           "xaxis": {
            "backgroundcolor": "white",
            "gridcolor": "#DFE8F3",
            "gridwidth": 2,
            "linecolor": "#EBF0F8",
            "showbackground": true,
            "ticks": "",
            "zerolinecolor": "#EBF0F8"
           },
           "yaxis": {
            "backgroundcolor": "white",
            "gridcolor": "#DFE8F3",
            "gridwidth": 2,
            "linecolor": "#EBF0F8",
            "showbackground": true,
            "ticks": "",
            "zerolinecolor": "#EBF0F8"
           },
           "zaxis": {
            "backgroundcolor": "white",
            "gridcolor": "#DFE8F3",
            "gridwidth": 2,
            "linecolor": "#EBF0F8",
            "showbackground": true,
            "ticks": "",
            "zerolinecolor": "#EBF0F8"
           }
          },
          "shapedefaults": {
           "line": {
            "color": "#2a3f5f"
           }
          },
          "ternary": {
           "aaxis": {
            "gridcolor": "#DFE8F3",
            "linecolor": "#A2B1C6",
            "ticks": ""
           },
           "baxis": {
            "gridcolor": "#DFE8F3",
            "linecolor": "#A2B1C6",
            "ticks": ""
           },
           "bgcolor": "white",
           "caxis": {
            "gridcolor": "#DFE8F3",
            "linecolor": "#A2B1C6",
            "ticks": ""
           }
          },
          "title": {
           "x": 0.05
          },
          "xaxis": {
           "automargin": true,
           "gridcolor": "#EBF0F8",
           "linecolor": "#EBF0F8",
           "ticks": "",
           "title": {
            "standoff": 15
           },
           "zerolinecolor": "#EBF0F8",
           "zerolinewidth": 2
          },
          "yaxis": {
           "automargin": true,
           "gridcolor": "#EBF0F8",
           "linecolor": "#EBF0F8",
           "ticks": "",
           "title": {
            "standoff": 15
           },
           "zerolinecolor": "#EBF0F8",
           "zerolinewidth": 2
          }
         }
        },
        "title": {
         "text": "Top 10 Products by Frequency in Monthly Top 3"
        },
        "xaxis": {
         "tickangle": 45,
         "title": {
          "text": "Product Name"
         }
        },
        "yaxis": {
         "title": {
          "text": "Months in Top 3"
         }
        }
       }
      }
     },
     "metadata": {},
     "output_type": "display_data"
    }
   ],
   "source": [
    "# Calculate product turnover and get top 10 consistent top-selling products\n",
    "top_monthly_products = (\n",
    "    data.groupby(['year', 'month', 'item_name'])['total_price']\n",
    "    .sum()\n",
    "    .reset_index()\n",
    "    .sort_values(['year', 'month', 'total_price'], ascending=[True, True, False])\n",
    "    .groupby(['year', 'month'])\n",
    "    .head(3)\n",
    ")\n",
    "consistent_top_sellers = (\n",
    "    top_monthly_products.groupby('item_name')\n",
    "    .size()\n",
    "    .reset_index(name='frequency_in_top_3')\n",
    "    .sort_values(by='frequency_in_top_3', ascending=False)\n",
    "    .head(10)\n",
    ")\n",
    "\n",
    "print(\"\\nTop 10 Consistent Top-Selling Products:\")\n",
    "print(consistent_top_sellers)\n",
    "\n",
    "fig = go.Figure()\n",
    "\n",
    "fig.add_trace(go.Bar(\n",
    "    x=consistent_top_sellers['item_name'],\n",
    "    y=consistent_top_sellers['frequency_in_top_3'],\n",
    "    marker_color='skyblue'\n",
    "))\n",
    "\n",
    "fig.update_layout(\n",
    "    title=\"Top 10 Products by Frequency in Monthly Top 3\",\n",
    "    xaxis_title=\"Product Name\",\n",
    "    yaxis_title=\"Months in Top 3\",\n",
    "    xaxis=dict(tickangle=45),\n",
    "    template='plotly_white'\n",
    ")\n",
    "\n",
    "fig.show()\n"
   ]
  },
  {
   "cell_type": "code",
   "execution_count": 11,
   "metadata": {},
   "outputs": [
    {
     "name": "stderr",
     "output_type": "stream",
     "text": [
      "C:\\Users\\isaro\\AppData\\Local\\Temp\\ipykernel_10088\\3798932952.py:23: FutureWarning:\n",
      "\n",
      "'M' is deprecated and will be removed in a future version, please use 'ME' instead.\n",
      "\n"
     ]
    },
    {
     "data": {
      "application/vnd.plotly.v1+json": {
       "config": {
        "plotlyServerURL": "https://plot.ly"
       },
       "data": [
        {
         "marker": {
          "symbol": "circle"
         },
         "mode": "lines+markers",
         "name": "Total Sales",
         "type": "scatter",
         "x": [
          "2014-01-31T00:00:00",
          "2014-02-28T00:00:00",
          "2014-03-31T00:00:00",
          "2014-04-30T00:00:00",
          "2014-05-31T00:00:00",
          "2014-06-30T00:00:00",
          "2014-07-31T00:00:00",
          "2014-08-31T00:00:00",
          "2014-09-30T00:00:00",
          "2014-10-31T00:00:00",
          "2014-11-30T00:00:00",
          "2014-12-31T00:00:00",
          "2015-01-31T00:00:00",
          "2015-02-28T00:00:00",
          "2015-03-31T00:00:00",
          "2015-04-30T00:00:00",
          "2015-05-31T00:00:00",
          "2015-06-30T00:00:00",
          "2015-07-31T00:00:00",
          "2015-08-31T00:00:00",
          "2015-09-30T00:00:00",
          "2015-10-31T00:00:00",
          "2015-11-30T00:00:00",
          "2015-12-31T00:00:00",
          "2016-01-31T00:00:00",
          "2016-02-29T00:00:00",
          "2016-03-31T00:00:00",
          "2016-04-30T00:00:00",
          "2016-05-31T00:00:00",
          "2016-06-30T00:00:00",
          "2016-07-31T00:00:00",
          "2016-08-31T00:00:00",
          "2016-09-30T00:00:00",
          "2016-10-31T00:00:00",
          "2016-11-30T00:00:00",
          "2016-12-31T00:00:00",
          "2017-01-31T00:00:00",
          "2017-02-28T00:00:00",
          "2017-03-31T00:00:00",
          "2017-04-30T00:00:00",
          "2017-05-31T00:00:00",
          "2017-06-30T00:00:00",
          "2017-07-31T00:00:00",
          "2017-08-31T00:00:00",
          "2017-09-30T00:00:00",
          "2017-10-31T00:00:00",
          "2017-11-30T00:00:00",
          "2017-12-31T00:00:00",
          "2018-01-31T00:00:00",
          "2018-02-28T00:00:00",
          "2018-03-31T00:00:00",
          "2018-04-30T00:00:00",
          "2018-05-31T00:00:00",
          "2018-06-30T00:00:00",
          "2018-07-31T00:00:00",
          "2018-08-31T00:00:00",
          "2018-09-30T00:00:00",
          "2018-10-31T00:00:00",
          "2018-11-30T00:00:00",
          "2018-12-31T00:00:00",
          "2019-01-31T00:00:00",
          "2019-02-28T00:00:00",
          "2019-03-31T00:00:00",
          "2019-04-30T00:00:00",
          "2019-05-31T00:00:00",
          "2019-06-30T00:00:00",
          "2019-07-31T00:00:00",
          "2019-08-31T00:00:00",
          "2019-09-30T00:00:00",
          "2019-10-31T00:00:00",
          "2019-11-30T00:00:00",
          "2019-12-31T00:00:00",
          "2020-01-31T00:00:00",
          "2020-02-29T00:00:00",
          "2020-03-31T00:00:00",
          "2020-04-30T00:00:00",
          "2020-05-31T00:00:00",
          "2020-06-30T00:00:00",
          "2020-07-31T00:00:00",
          "2020-08-31T00:00:00",
          "2020-09-30T00:00:00",
          "2020-10-31T00:00:00",
          "2020-11-30T00:00:00",
          "2020-12-31T00:00:00"
         ],
         "y": [
          496545,
          1122556,
          1262462,
          1290371,
          1268810,
          1240809,
          1317321,
          1293226,
          1279470,
          1380372,
          1211585,
          2165445,
          1239780,
          1157165,
          1379076,
          1236194,
          1345746,
          1216978,
          1328424,
          1256068,
          1278001,
          1256160,
          1248631,
          1914092,
          1202033,
          1222820,
          1312411,
          1265477,
          1379987,
          1364638,
          1298127,
          1208300,
          1252996,
          1211741,
          1297137,
          1870951,
          1293925,
          1144167,
          1261708,
          1279634,
          1286490,
          1426449,
          1255845,
          1324095,
          1323231,
          1274072,
          1238392,
          1823148,
          1292505,
          1148811,
          1252315,
          1232506,
          1331615,
          1425022,
          1304825,
          1307955,
          1215604,
          1236544,
          1354420,
          1776644,
          1341892,
          1242395,
          1295778,
          1243838,
          1266427,
          1332069,
          1291635,
          1257311,
          1226611,
          1304925,
          1248960,
          1814662,
          1291852,
          1128982,
          1258627,
          1250855,
          1326051,
          1415045,
          1250629,
          1282689,
          1232651,
          1319670,
          1200259,
          2020622
         ]
        }
       ],
       "layout": {
        "template": {
         "data": {
          "bar": [
           {
            "error_x": {
             "color": "#2a3f5f"
            },
            "error_y": {
             "color": "#2a3f5f"
            },
            "marker": {
             "line": {
              "color": "white",
              "width": 0.5
             },
             "pattern": {
              "fillmode": "overlay",
              "size": 10,
              "solidity": 0.2
             }
            },
            "type": "bar"
           }
          ],
          "barpolar": [
           {
            "marker": {
             "line": {
              "color": "white",
              "width": 0.5
             },
             "pattern": {
              "fillmode": "overlay",
              "size": 10,
              "solidity": 0.2
             }
            },
            "type": "barpolar"
           }
          ],
          "carpet": [
           {
            "aaxis": {
             "endlinecolor": "#2a3f5f",
             "gridcolor": "#C8D4E3",
             "linecolor": "#C8D4E3",
             "minorgridcolor": "#C8D4E3",
             "startlinecolor": "#2a3f5f"
            },
            "baxis": {
             "endlinecolor": "#2a3f5f",
             "gridcolor": "#C8D4E3",
             "linecolor": "#C8D4E3",
             "minorgridcolor": "#C8D4E3",
             "startlinecolor": "#2a3f5f"
            },
            "type": "carpet"
           }
          ],
          "choropleth": [
           {
            "colorbar": {
             "outlinewidth": 0,
             "ticks": ""
            },
            "type": "choropleth"
           }
          ],
          "contour": [
           {
            "colorbar": {
             "outlinewidth": 0,
             "ticks": ""
            },
            "colorscale": [
             [
              0,
              "#0d0887"
             ],
             [
              0.1111111111111111,
              "#46039f"
             ],
             [
              0.2222222222222222,
              "#7201a8"
             ],
             [
              0.3333333333333333,
              "#9c179e"
             ],
             [
              0.4444444444444444,
              "#bd3786"
             ],
             [
              0.5555555555555556,
              "#d8576b"
             ],
             [
              0.6666666666666666,
              "#ed7953"
             ],
             [
              0.7777777777777778,
              "#fb9f3a"
             ],
             [
              0.8888888888888888,
              "#fdca26"
             ],
             [
              1,
              "#f0f921"
             ]
            ],
            "type": "contour"
           }
          ],
          "contourcarpet": [
           {
            "colorbar": {
             "outlinewidth": 0,
             "ticks": ""
            },
            "type": "contourcarpet"
           }
          ],
          "heatmap": [
           {
            "colorbar": {
             "outlinewidth": 0,
             "ticks": ""
            },
            "colorscale": [
             [
              0,
              "#0d0887"
             ],
             [
              0.1111111111111111,
              "#46039f"
             ],
             [
              0.2222222222222222,
              "#7201a8"
             ],
             [
              0.3333333333333333,
              "#9c179e"
             ],
             [
              0.4444444444444444,
              "#bd3786"
             ],
             [
              0.5555555555555556,
              "#d8576b"
             ],
             [
              0.6666666666666666,
              "#ed7953"
             ],
             [
              0.7777777777777778,
              "#fb9f3a"
             ],
             [
              0.8888888888888888,
              "#fdca26"
             ],
             [
              1,
              "#f0f921"
             ]
            ],
            "type": "heatmap"
           }
          ],
          "heatmapgl": [
           {
            "colorbar": {
             "outlinewidth": 0,
             "ticks": ""
            },
            "colorscale": [
             [
              0,
              "#0d0887"
             ],
             [
              0.1111111111111111,
              "#46039f"
             ],
             [
              0.2222222222222222,
              "#7201a8"
             ],
             [
              0.3333333333333333,
              "#9c179e"
             ],
             [
              0.4444444444444444,
              "#bd3786"
             ],
             [
              0.5555555555555556,
              "#d8576b"
             ],
             [
              0.6666666666666666,
              "#ed7953"
             ],
             [
              0.7777777777777778,
              "#fb9f3a"
             ],
             [
              0.8888888888888888,
              "#fdca26"
             ],
             [
              1,
              "#f0f921"
             ]
            ],
            "type": "heatmapgl"
           }
          ],
          "histogram": [
           {
            "marker": {
             "pattern": {
              "fillmode": "overlay",
              "size": 10,
              "solidity": 0.2
             }
            },
            "type": "histogram"
           }
          ],
          "histogram2d": [
           {
            "colorbar": {
             "outlinewidth": 0,
             "ticks": ""
            },
            "colorscale": [
             [
              0,
              "#0d0887"
             ],
             [
              0.1111111111111111,
              "#46039f"
             ],
             [
              0.2222222222222222,
              "#7201a8"
             ],
             [
              0.3333333333333333,
              "#9c179e"
             ],
             [
              0.4444444444444444,
              "#bd3786"
             ],
             [
              0.5555555555555556,
              "#d8576b"
             ],
             [
              0.6666666666666666,
              "#ed7953"
             ],
             [
              0.7777777777777778,
              "#fb9f3a"
             ],
             [
              0.8888888888888888,
              "#fdca26"
             ],
             [
              1,
              "#f0f921"
             ]
            ],
            "type": "histogram2d"
           }
          ],
          "histogram2dcontour": [
           {
            "colorbar": {
             "outlinewidth": 0,
             "ticks": ""
            },
            "colorscale": [
             [
              0,
              "#0d0887"
             ],
             [
              0.1111111111111111,
              "#46039f"
             ],
             [
              0.2222222222222222,
              "#7201a8"
             ],
             [
              0.3333333333333333,
              "#9c179e"
             ],
             [
              0.4444444444444444,
              "#bd3786"
             ],
             [
              0.5555555555555556,
              "#d8576b"
             ],
             [
              0.6666666666666666,
              "#ed7953"
             ],
             [
              0.7777777777777778,
              "#fb9f3a"
             ],
             [
              0.8888888888888888,
              "#fdca26"
             ],
             [
              1,
              "#f0f921"
             ]
            ],
            "type": "histogram2dcontour"
           }
          ],
          "mesh3d": [
           {
            "colorbar": {
             "outlinewidth": 0,
             "ticks": ""
            },
            "type": "mesh3d"
           }
          ],
          "parcoords": [
           {
            "line": {
             "colorbar": {
              "outlinewidth": 0,
              "ticks": ""
             }
            },
            "type": "parcoords"
           }
          ],
          "pie": [
           {
            "automargin": true,
            "type": "pie"
           }
          ],
          "scatter": [
           {
            "fillpattern": {
             "fillmode": "overlay",
             "size": 10,
             "solidity": 0.2
            },
            "type": "scatter"
           }
          ],
          "scatter3d": [
           {
            "line": {
             "colorbar": {
              "outlinewidth": 0,
              "ticks": ""
             }
            },
            "marker": {
             "colorbar": {
              "outlinewidth": 0,
              "ticks": ""
             }
            },
            "type": "scatter3d"
           }
          ],
          "scattercarpet": [
           {
            "marker": {
             "colorbar": {
              "outlinewidth": 0,
              "ticks": ""
             }
            },
            "type": "scattercarpet"
           }
          ],
          "scattergeo": [
           {
            "marker": {
             "colorbar": {
              "outlinewidth": 0,
              "ticks": ""
             }
            },
            "type": "scattergeo"
           }
          ],
          "scattergl": [
           {
            "marker": {
             "colorbar": {
              "outlinewidth": 0,
              "ticks": ""
             }
            },
            "type": "scattergl"
           }
          ],
          "scattermapbox": [
           {
            "marker": {
             "colorbar": {
              "outlinewidth": 0,
              "ticks": ""
             }
            },
            "type": "scattermapbox"
           }
          ],
          "scatterpolar": [
           {
            "marker": {
             "colorbar": {
              "outlinewidth": 0,
              "ticks": ""
             }
            },
            "type": "scatterpolar"
           }
          ],
          "scatterpolargl": [
           {
            "marker": {
             "colorbar": {
              "outlinewidth": 0,
              "ticks": ""
             }
            },
            "type": "scatterpolargl"
           }
          ],
          "scatterternary": [
           {
            "marker": {
             "colorbar": {
              "outlinewidth": 0,
              "ticks": ""
             }
            },
            "type": "scatterternary"
           }
          ],
          "surface": [
           {
            "colorbar": {
             "outlinewidth": 0,
             "ticks": ""
            },
            "colorscale": [
             [
              0,
              "#0d0887"
             ],
             [
              0.1111111111111111,
              "#46039f"
             ],
             [
              0.2222222222222222,
              "#7201a8"
             ],
             [
              0.3333333333333333,
              "#9c179e"
             ],
             [
              0.4444444444444444,
              "#bd3786"
             ],
             [
              0.5555555555555556,
              "#d8576b"
             ],
             [
              0.6666666666666666,
              "#ed7953"
             ],
             [
              0.7777777777777778,
              "#fb9f3a"
             ],
             [
              0.8888888888888888,
              "#fdca26"
             ],
             [
              1,
              "#f0f921"
             ]
            ],
            "type": "surface"
           }
          ],
          "table": [
           {
            "cells": {
             "fill": {
              "color": "#EBF0F8"
             },
             "line": {
              "color": "white"
             }
            },
            "header": {
             "fill": {
              "color": "#C8D4E3"
             },
             "line": {
              "color": "white"
             }
            },
            "type": "table"
           }
          ]
         },
         "layout": {
          "annotationdefaults": {
           "arrowcolor": "#2a3f5f",
           "arrowhead": 0,
           "arrowwidth": 1
          },
          "autotypenumbers": "strict",
          "coloraxis": {
           "colorbar": {
            "outlinewidth": 0,
            "ticks": ""
           }
          },
          "colorscale": {
           "diverging": [
            [
             0,
             "#8e0152"
            ],
            [
             0.1,
             "#c51b7d"
            ],
            [
             0.2,
             "#de77ae"
            ],
            [
             0.3,
             "#f1b6da"
            ],
            [
             0.4,
             "#fde0ef"
            ],
            [
             0.5,
             "#f7f7f7"
            ],
            [
             0.6,
             "#e6f5d0"
            ],
            [
             0.7,
             "#b8e186"
            ],
            [
             0.8,
             "#7fbc41"
            ],
            [
             0.9,
             "#4d9221"
            ],
            [
             1,
             "#276419"
            ]
           ],
           "sequential": [
            [
             0,
             "#0d0887"
            ],
            [
             0.1111111111111111,
             "#46039f"
            ],
            [
             0.2222222222222222,
             "#7201a8"
            ],
            [
             0.3333333333333333,
             "#9c179e"
            ],
            [
             0.4444444444444444,
             "#bd3786"
            ],
            [
             0.5555555555555556,
             "#d8576b"
            ],
            [
             0.6666666666666666,
             "#ed7953"
            ],
            [
             0.7777777777777778,
             "#fb9f3a"
            ],
            [
             0.8888888888888888,
             "#fdca26"
            ],
            [
             1,
             "#f0f921"
            ]
           ],
           "sequentialminus": [
            [
             0,
             "#0d0887"
            ],
            [
             0.1111111111111111,
             "#46039f"
            ],
            [
             0.2222222222222222,
             "#7201a8"
            ],
            [
             0.3333333333333333,
             "#9c179e"
            ],
            [
             0.4444444444444444,
             "#bd3786"
            ],
            [
             0.5555555555555556,
             "#d8576b"
            ],
            [
             0.6666666666666666,
             "#ed7953"
            ],
            [
             0.7777777777777778,
             "#fb9f3a"
            ],
            [
             0.8888888888888888,
             "#fdca26"
            ],
            [
             1,
             "#f0f921"
            ]
           ]
          },
          "colorway": [
           "#636efa",
           "#EF553B",
           "#00cc96",
           "#ab63fa",
           "#FFA15A",
           "#19d3f3",
           "#FF6692",
           "#B6E880",
           "#FF97FF",
           "#FECB52"
          ],
          "font": {
           "color": "#2a3f5f"
          },
          "geo": {
           "bgcolor": "white",
           "lakecolor": "white",
           "landcolor": "white",
           "showlakes": true,
           "showland": true,
           "subunitcolor": "#C8D4E3"
          },
          "hoverlabel": {
           "align": "left"
          },
          "hovermode": "closest",
          "mapbox": {
           "style": "light"
          },
          "paper_bgcolor": "white",
          "plot_bgcolor": "white",
          "polar": {
           "angularaxis": {
            "gridcolor": "#EBF0F8",
            "linecolor": "#EBF0F8",
            "ticks": ""
           },
           "bgcolor": "white",
           "radialaxis": {
            "gridcolor": "#EBF0F8",
            "linecolor": "#EBF0F8",
            "ticks": ""
           }
          },
          "scene": {
           "xaxis": {
            "backgroundcolor": "white",
            "gridcolor": "#DFE8F3",
            "gridwidth": 2,
            "linecolor": "#EBF0F8",
            "showbackground": true,
            "ticks": "",
            "zerolinecolor": "#EBF0F8"
           },
           "yaxis": {
            "backgroundcolor": "white",
            "gridcolor": "#DFE8F3",
            "gridwidth": 2,
            "linecolor": "#EBF0F8",
            "showbackground": true,
            "ticks": "",
            "zerolinecolor": "#EBF0F8"
           },
           "zaxis": {
            "backgroundcolor": "white",
            "gridcolor": "#DFE8F3",
            "gridwidth": 2,
            "linecolor": "#EBF0F8",
            "showbackground": true,
            "ticks": "",
            "zerolinecolor": "#EBF0F8"
           }
          },
          "shapedefaults": {
           "line": {
            "color": "#2a3f5f"
           }
          },
          "ternary": {
           "aaxis": {
            "gridcolor": "#DFE8F3",
            "linecolor": "#A2B1C6",
            "ticks": ""
           },
           "baxis": {
            "gridcolor": "#DFE8F3",
            "linecolor": "#A2B1C6",
            "ticks": ""
           },
           "bgcolor": "white",
           "caxis": {
            "gridcolor": "#DFE8F3",
            "linecolor": "#A2B1C6",
            "ticks": ""
           }
          },
          "title": {
           "x": 0.05
          },
          "xaxis": {
           "automargin": true,
           "gridcolor": "#EBF0F8",
           "linecolor": "#EBF0F8",
           "ticks": "",
           "title": {
            "standoff": 15
           },
           "zerolinecolor": "#EBF0F8",
           "zerolinewidth": 2
          },
          "yaxis": {
           "automargin": true,
           "gridcolor": "#EBF0F8",
           "linecolor": "#EBF0F8",
           "ticks": "",
           "title": {
            "standoff": 15
           },
           "zerolinecolor": "#EBF0F8",
           "zerolinewidth": 2
          }
         }
        },
        "title": {
         "text": "Monthly Total Sales Over Time (Up to 2020)"
        },
        "xaxis": {
         "title": {
          "text": "Date"
         }
        },
        "yaxis": {
         "title": {
          "text": "Total Sales"
         }
        }
       }
      }
     },
     "metadata": {},
     "output_type": "display_data"
    },
    {
     "data": {
      "application/vnd.plotly.v1+json": {
       "config": {
        "plotlyServerURL": "https://plot.ly"
       },
       "data": [
        {
         "mode": "lines",
         "name": "Trend",
         "type": "scatter",
         "x": [
          "2014-01-31T00:00:00",
          "2014-02-28T00:00:00",
          "2014-03-31T00:00:00",
          "2014-04-30T00:00:00",
          "2014-05-31T00:00:00",
          "2014-06-30T00:00:00",
          "2014-07-31T00:00:00",
          "2014-08-31T00:00:00",
          "2014-09-30T00:00:00",
          "2014-10-31T00:00:00",
          "2014-11-30T00:00:00",
          "2014-12-31T00:00:00",
          "2015-01-31T00:00:00",
          "2015-02-28T00:00:00",
          "2015-03-31T00:00:00",
          "2015-04-30T00:00:00",
          "2015-05-31T00:00:00",
          "2015-06-30T00:00:00",
          "2015-07-31T00:00:00",
          "2015-08-31T00:00:00",
          "2015-09-30T00:00:00",
          "2015-10-31T00:00:00",
          "2015-11-30T00:00:00",
          "2015-12-31T00:00:00",
          "2016-01-31T00:00:00",
          "2016-02-29T00:00:00",
          "2016-03-31T00:00:00",
          "2016-04-30T00:00:00",
          "2016-05-31T00:00:00",
          "2016-06-30T00:00:00",
          "2016-07-31T00:00:00",
          "2016-08-31T00:00:00",
          "2016-09-30T00:00:00",
          "2016-10-31T00:00:00",
          "2016-11-30T00:00:00",
          "2016-12-31T00:00:00",
          "2017-01-31T00:00:00",
          "2017-02-28T00:00:00",
          "2017-03-31T00:00:00",
          "2017-04-30T00:00:00",
          "2017-05-31T00:00:00",
          "2017-06-30T00:00:00",
          "2017-07-31T00:00:00",
          "2017-08-31T00:00:00",
          "2017-09-30T00:00:00",
          "2017-10-31T00:00:00",
          "2017-11-30T00:00:00",
          "2017-12-31T00:00:00",
          "2018-01-31T00:00:00",
          "2018-02-28T00:00:00",
          "2018-03-31T00:00:00",
          "2018-04-30T00:00:00",
          "2018-05-31T00:00:00",
          "2018-06-30T00:00:00",
          "2018-07-31T00:00:00",
          "2018-08-31T00:00:00",
          "2018-09-30T00:00:00",
          "2018-10-31T00:00:00",
          "2018-11-30T00:00:00",
          "2018-12-31T00:00:00",
          "2019-01-31T00:00:00",
          "2019-02-28T00:00:00",
          "2019-03-31T00:00:00",
          "2019-04-30T00:00:00",
          "2019-05-31T00:00:00",
          "2019-06-30T00:00:00",
          "2019-07-31T00:00:00",
          "2019-08-31T00:00:00",
          "2019-09-30T00:00:00",
          "2019-10-31T00:00:00",
          "2019-11-30T00:00:00",
          "2019-12-31T00:00:00",
          "2020-01-31T00:00:00",
          "2020-02-29T00:00:00",
          "2020-03-31T00:00:00",
          "2020-04-30T00:00:00",
          "2020-05-31T00:00:00",
          "2020-06-30T00:00:00",
          "2020-07-31T00:00:00",
          "2020-08-31T00:00:00",
          "2020-09-30T00:00:00",
          "2020-10-31T00:00:00",
          "2020-11-30T00:00:00",
          "2020-12-31T00:00:00"
         ],
         "y": [
          null,
          null,
          null,
          null,
          null,
          null,
          1308382.4583333333,
          1340792.6249999998,
          1347093.5833333333,
          1349695.125,
          1350643.4166666667,
          1352856.125,
          1352325.7916666665,
          1351240.1666666665,
          1349630.7083333333,
          1344393.9999999998,
          1340762.0833333333,
          1331832.625,
          1319786.7916666667,
          1320949.625,
          1320907.541666667,
          1319349.9583333333,
          1321996.7916666665,
          1329576,
          1334466.125,
          1331213.4166666665,
          1328181.2083333333,
          1325288.5416666665,
          1325458.8333333333,
          1325682.375,
          1327713.6666666665,
          1328265.2916666665,
          1322875.4583333333,
          1321352.708333333,
          1318046.875,
          1316726.625,
          1317540.3333333335,
          1320603.375,
          1328354.625,
          1333878.2083333333,
          1334027.625,
          1329588.125,
          1327537.1666666665,
          1327671.5,
          1327473.625,
          1325118.5833333333,
          1325035.1249999998,
          1326855.875,
          1328837.25,
          1330205.5833333335,
          1325048.6250000002,
          1319000.5,
          1322271.3333333333,
          1325168.1666666665,
          1325288.2916666667,
          1331245.4166666665,
          1336955.7083333335,
          1339238.8333333333,
          1336994.8333333335,
          1330405.625,
          1325982.9999999998,
          1323323.2499999998,
          1321671.7083333335,
          1324979.5416666665,
          1323434.5833333333,
          1320624.5000000002,
          1320123.5833333333,
          1313313.0416666665,
          1307039.5416666665,
          1305783.958333333,
          1308560.6666666665,
          1314502.3333333333,
          1316251.0833333335,
          1315599.9166666665,
          1316908.9999999998,
          1317775.0416666665,
          1316360.2083333335,
          1322912.6666666665,
          null,
          null,
          null,
          null,
          null,
          null
         ]
        },
        {
         "mode": "lines",
         "name": "Seasonal",
         "type": "scatter",
         "x": [
          "2014-01-31T00:00:00",
          "2014-02-28T00:00:00",
          "2014-03-31T00:00:00",
          "2014-04-30T00:00:00",
          "2014-05-31T00:00:00",
          "2014-06-30T00:00:00",
          "2014-07-31T00:00:00",
          "2014-08-31T00:00:00",
          "2014-09-30T00:00:00",
          "2014-10-31T00:00:00",
          "2014-11-30T00:00:00",
          "2014-12-31T00:00:00",
          "2015-01-31T00:00:00",
          "2015-02-28T00:00:00",
          "2015-03-31T00:00:00",
          "2015-04-30T00:00:00",
          "2015-05-31T00:00:00",
          "2015-06-30T00:00:00",
          "2015-07-31T00:00:00",
          "2015-08-31T00:00:00",
          "2015-09-30T00:00:00",
          "2015-10-31T00:00:00",
          "2015-11-30T00:00:00",
          "2015-12-31T00:00:00",
          "2016-01-31T00:00:00",
          "2016-02-29T00:00:00",
          "2016-03-31T00:00:00",
          "2016-04-30T00:00:00",
          "2016-05-31T00:00:00",
          "2016-06-30T00:00:00",
          "2016-07-31T00:00:00",
          "2016-08-31T00:00:00",
          "2016-09-30T00:00:00",
          "2016-10-31T00:00:00",
          "2016-11-30T00:00:00",
          "2016-12-31T00:00:00",
          "2017-01-31T00:00:00",
          "2017-02-28T00:00:00",
          "2017-03-31T00:00:00",
          "2017-04-30T00:00:00",
          "2017-05-31T00:00:00",
          "2017-06-30T00:00:00",
          "2017-07-31T00:00:00",
          "2017-08-31T00:00:00",
          "2017-09-30T00:00:00",
          "2017-10-31T00:00:00",
          "2017-11-30T00:00:00",
          "2017-12-31T00:00:00",
          "2018-01-31T00:00:00",
          "2018-02-28T00:00:00",
          "2018-03-31T00:00:00",
          "2018-04-30T00:00:00",
          "2018-05-31T00:00:00",
          "2018-06-30T00:00:00",
          "2018-07-31T00:00:00",
          "2018-08-31T00:00:00",
          "2018-09-30T00:00:00",
          "2018-10-31T00:00:00",
          "2018-11-30T00:00:00",
          "2018-12-31T00:00:00",
          "2019-01-31T00:00:00",
          "2019-02-28T00:00:00",
          "2019-03-31T00:00:00",
          "2019-04-30T00:00:00",
          "2019-05-31T00:00:00",
          "2019-06-30T00:00:00",
          "2019-07-31T00:00:00",
          "2019-08-31T00:00:00",
          "2019-09-30T00:00:00",
          "2019-10-31T00:00:00",
          "2019-11-30T00:00:00",
          "2019-12-31T00:00:00",
          "2020-01-31T00:00:00",
          "2020-02-29T00:00:00",
          "2020-03-31T00:00:00",
          "2020-04-30T00:00:00",
          "2020-05-31T00:00:00",
          "2020-06-30T00:00:00",
          "2020-07-31T00:00:00",
          "2020-08-31T00:00:00",
          "2020-09-30T00:00:00",
          "2020-10-31T00:00:00",
          "2020-11-30T00:00:00",
          "2020-12-31T00:00:00"
         ],
         "y": [
          -54891.79861111115,
          -157296.65277777772,
          -37635.84722222228,
          -78791.00694444438,
          -6988.812500000029,
          34743.05555555552,
          -24764.861111111117,
          -55202.78472222216,
          -67061.1111111112,
          -52109.89583333324,
          -63014.48611111111,
          563014.2013888889,
          -54891.79861111115,
          -157296.65277777772,
          -37635.84722222228,
          -78791.00694444438,
          -6988.812500000029,
          34743.05555555552,
          -24764.861111111117,
          -55202.78472222216,
          -67061.1111111112,
          -52109.89583333324,
          -63014.48611111111,
          563014.2013888889,
          -54891.79861111115,
          -157296.65277777772,
          -37635.84722222228,
          -78791.00694444438,
          -6988.812500000029,
          34743.05555555552,
          -24764.861111111117,
          -55202.78472222216,
          -67061.1111111112,
          -52109.89583333324,
          -63014.48611111111,
          563014.2013888889,
          -54891.79861111115,
          -157296.65277777772,
          -37635.84722222228,
          -78791.00694444438,
          -6988.812500000029,
          34743.05555555552,
          -24764.861111111117,
          -55202.78472222216,
          -67061.1111111112,
          -52109.89583333324,
          -63014.48611111111,
          563014.2013888889,
          -54891.79861111115,
          -157296.65277777772,
          -37635.84722222228,
          -78791.00694444438,
          -6988.812500000029,
          34743.05555555552,
          -24764.861111111117,
          -55202.78472222216,
          -67061.1111111112,
          -52109.89583333324,
          -63014.48611111111,
          563014.2013888889,
          -54891.79861111115,
          -157296.65277777772,
          -37635.84722222228,
          -78791.00694444438,
          -6988.812500000029,
          34743.05555555552,
          -24764.861111111117,
          -55202.78472222216,
          -67061.1111111112,
          -52109.89583333324,
          -63014.48611111111,
          563014.2013888889,
          -54891.79861111115,
          -157296.65277777772,
          -37635.84722222228,
          -78791.00694444438,
          -6988.812500000029,
          34743.05555555552,
          -24764.861111111117,
          -55202.78472222216,
          -67061.1111111112,
          -52109.89583333324,
          -63014.48611111111,
          563014.2013888889
         ]
        },
        {
         "mode": "lines",
         "name": "Residual",
         "type": "scatter",
         "x": [
          "2014-01-31T00:00:00",
          "2014-02-28T00:00:00",
          "2014-03-31T00:00:00",
          "2014-04-30T00:00:00",
          "2014-05-31T00:00:00",
          "2014-06-30T00:00:00",
          "2014-07-31T00:00:00",
          "2014-08-31T00:00:00",
          "2014-09-30T00:00:00",
          "2014-10-31T00:00:00",
          "2014-11-30T00:00:00",
          "2014-12-31T00:00:00",
          "2015-01-31T00:00:00",
          "2015-02-28T00:00:00",
          "2015-03-31T00:00:00",
          "2015-04-30T00:00:00",
          "2015-05-31T00:00:00",
          "2015-06-30T00:00:00",
          "2015-07-31T00:00:00",
          "2015-08-31T00:00:00",
          "2015-09-30T00:00:00",
          "2015-10-31T00:00:00",
          "2015-11-30T00:00:00",
          "2015-12-31T00:00:00",
          "2016-01-31T00:00:00",
          "2016-02-29T00:00:00",
          "2016-03-31T00:00:00",
          "2016-04-30T00:00:00",
          "2016-05-31T00:00:00",
          "2016-06-30T00:00:00",
          "2016-07-31T00:00:00",
          "2016-08-31T00:00:00",
          "2016-09-30T00:00:00",
          "2016-10-31T00:00:00",
          "2016-11-30T00:00:00",
          "2016-12-31T00:00:00",
          "2017-01-31T00:00:00",
          "2017-02-28T00:00:00",
          "2017-03-31T00:00:00",
          "2017-04-30T00:00:00",
          "2017-05-31T00:00:00",
          "2017-06-30T00:00:00",
          "2017-07-31T00:00:00",
          "2017-08-31T00:00:00",
          "2017-09-30T00:00:00",
          "2017-10-31T00:00:00",
          "2017-11-30T00:00:00",
          "2017-12-31T00:00:00",
          "2018-01-31T00:00:00",
          "2018-02-28T00:00:00",
          "2018-03-31T00:00:00",
          "2018-04-30T00:00:00",
          "2018-05-31T00:00:00",
          "2018-06-30T00:00:00",
          "2018-07-31T00:00:00",
          "2018-08-31T00:00:00",
          "2018-09-30T00:00:00",
          "2018-10-31T00:00:00",
          "2018-11-30T00:00:00",
          "2018-12-31T00:00:00",
          "2019-01-31T00:00:00",
          "2019-02-28T00:00:00",
          "2019-03-31T00:00:00",
          "2019-04-30T00:00:00",
          "2019-05-31T00:00:00",
          "2019-06-30T00:00:00",
          "2019-07-31T00:00:00",
          "2019-08-31T00:00:00",
          "2019-09-30T00:00:00",
          "2019-10-31T00:00:00",
          "2019-11-30T00:00:00",
          "2019-12-31T00:00:00",
          "2020-01-31T00:00:00",
          "2020-02-29T00:00:00",
          "2020-03-31T00:00:00",
          "2020-04-30T00:00:00",
          "2020-05-31T00:00:00",
          "2020-06-30T00:00:00",
          "2020-07-31T00:00:00",
          "2020-08-31T00:00:00",
          "2020-09-30T00:00:00",
          "2020-10-31T00:00:00",
          "2020-11-30T00:00:00",
          "2020-12-31T00:00:00"
         ],
         "y": [
          null,
          null,
          null,
          null,
          null,
          null,
          33703.40277777786,
          7636.159722222394,
          -562.4722222220589,
          82786.77083333324,
          -76043.93055555563,
          249574.67361111112,
          -57653.99305555536,
          -36778.51388888879,
          67081.13888888902,
          -29408.993055555387,
          11972.729166666773,
          -149597.6805555555,
          33402.06944444437,
          -9678.84027777784,
          24154.56944444422,
          -11080.062500000015,
          -10351.305555555402,
          21501.798611111124,
          -77541.32638888885,
          48903.23611111121,
          21865.63888888902,
          18979.46527777787,
          61516.97916666677,
          4212.569444444482,
          -4821.805555555395,
          -64762.50694444435,
          -2818.347222222059,
          -57501.81249999978,
          42104.61111111111,
          -8789.826388888876,
          31276.465277777665,
          -19139.722222222277,
          -29010.777777777723,
          24546.798611111124,
          -40548.81249999997,
          62117.81944444448,
          -46927.305555555395,
          51626.28472222216,
          62818.4861111112,
          1063.3124999999854,
          -23628.638888888658,
          -66722.07638888888,
          18559.548611111153,
          -24097.930555555766,
          -35097.777777777956,
          -7703.49305555562,
          16332.479166666773,
          65110.77777777797,
          4301.5694444443725,
          31912.36805555565,
          -54290.59722222229,
          -50584.937500000015,
          80439.65277777762,
          -116775.82638888888,
          70800.79861111139,
          76368.40277777796,
          11742.138888888789,
          -2350.5347222221317,
          -50018.77083333323,
          -23298.55555555575,
          -3723.722222222139,
          -799.2569444443507,
          -13367.430555555315,
          51250.93750000022,
          3413.819444444598,
          -62854.53472222213,
          30492.715277777665,
          -29321.26388888879,
          -20646.15277777749,
          11870.965277777868,
          16679.60416666654,
          57389.27777777797,
          null,
          null,
          null,
          null,
          null,
          null
         ]
        }
       ],
       "layout": {
        "template": {
         "data": {
          "bar": [
           {
            "error_x": {
             "color": "#2a3f5f"
            },
            "error_y": {
             "color": "#2a3f5f"
            },
            "marker": {
             "line": {
              "color": "white",
              "width": 0.5
             },
             "pattern": {
              "fillmode": "overlay",
              "size": 10,
              "solidity": 0.2
             }
            },
            "type": "bar"
           }
          ],
          "barpolar": [
           {
            "marker": {
             "line": {
              "color": "white",
              "width": 0.5
             },
             "pattern": {
              "fillmode": "overlay",
              "size": 10,
              "solidity": 0.2
             }
            },
            "type": "barpolar"
           }
          ],
          "carpet": [
           {
            "aaxis": {
             "endlinecolor": "#2a3f5f",
             "gridcolor": "#C8D4E3",
             "linecolor": "#C8D4E3",
             "minorgridcolor": "#C8D4E3",
             "startlinecolor": "#2a3f5f"
            },
            "baxis": {
             "endlinecolor": "#2a3f5f",
             "gridcolor": "#C8D4E3",
             "linecolor": "#C8D4E3",
             "minorgridcolor": "#C8D4E3",
             "startlinecolor": "#2a3f5f"
            },
            "type": "carpet"
           }
          ],
          "choropleth": [
           {
            "colorbar": {
             "outlinewidth": 0,
             "ticks": ""
            },
            "type": "choropleth"
           }
          ],
          "contour": [
           {
            "colorbar": {
             "outlinewidth": 0,
             "ticks": ""
            },
            "colorscale": [
             [
              0,
              "#0d0887"
             ],
             [
              0.1111111111111111,
              "#46039f"
             ],
             [
              0.2222222222222222,
              "#7201a8"
             ],
             [
              0.3333333333333333,
              "#9c179e"
             ],
             [
              0.4444444444444444,
              "#bd3786"
             ],
             [
              0.5555555555555556,
              "#d8576b"
             ],
             [
              0.6666666666666666,
              "#ed7953"
             ],
             [
              0.7777777777777778,
              "#fb9f3a"
             ],
             [
              0.8888888888888888,
              "#fdca26"
             ],
             [
              1,
              "#f0f921"
             ]
            ],
            "type": "contour"
           }
          ],
          "contourcarpet": [
           {
            "colorbar": {
             "outlinewidth": 0,
             "ticks": ""
            },
            "type": "contourcarpet"
           }
          ],
          "heatmap": [
           {
            "colorbar": {
             "outlinewidth": 0,
             "ticks": ""
            },
            "colorscale": [
             [
              0,
              "#0d0887"
             ],
             [
              0.1111111111111111,
              "#46039f"
             ],
             [
              0.2222222222222222,
              "#7201a8"
             ],
             [
              0.3333333333333333,
              "#9c179e"
             ],
             [
              0.4444444444444444,
              "#bd3786"
             ],
             [
              0.5555555555555556,
              "#d8576b"
             ],
             [
              0.6666666666666666,
              "#ed7953"
             ],
             [
              0.7777777777777778,
              "#fb9f3a"
             ],
             [
              0.8888888888888888,
              "#fdca26"
             ],
             [
              1,
              "#f0f921"
             ]
            ],
            "type": "heatmap"
           }
          ],
          "heatmapgl": [
           {
            "colorbar": {
             "outlinewidth": 0,
             "ticks": ""
            },
            "colorscale": [
             [
              0,
              "#0d0887"
             ],
             [
              0.1111111111111111,
              "#46039f"
             ],
             [
              0.2222222222222222,
              "#7201a8"
             ],
             [
              0.3333333333333333,
              "#9c179e"
             ],
             [
              0.4444444444444444,
              "#bd3786"
             ],
             [
              0.5555555555555556,
              "#d8576b"
             ],
             [
              0.6666666666666666,
              "#ed7953"
             ],
             [
              0.7777777777777778,
              "#fb9f3a"
             ],
             [
              0.8888888888888888,
              "#fdca26"
             ],
             [
              1,
              "#f0f921"
             ]
            ],
            "type": "heatmapgl"
           }
          ],
          "histogram": [
           {
            "marker": {
             "pattern": {
              "fillmode": "overlay",
              "size": 10,
              "solidity": 0.2
             }
            },
            "type": "histogram"
           }
          ],
          "histogram2d": [
           {
            "colorbar": {
             "outlinewidth": 0,
             "ticks": ""
            },
            "colorscale": [
             [
              0,
              "#0d0887"
             ],
             [
              0.1111111111111111,
              "#46039f"
             ],
             [
              0.2222222222222222,
              "#7201a8"
             ],
             [
              0.3333333333333333,
              "#9c179e"
             ],
             [
              0.4444444444444444,
              "#bd3786"
             ],
             [
              0.5555555555555556,
              "#d8576b"
             ],
             [
              0.6666666666666666,
              "#ed7953"
             ],
             [
              0.7777777777777778,
              "#fb9f3a"
             ],
             [
              0.8888888888888888,
              "#fdca26"
             ],
             [
              1,
              "#f0f921"
             ]
            ],
            "type": "histogram2d"
           }
          ],
          "histogram2dcontour": [
           {
            "colorbar": {
             "outlinewidth": 0,
             "ticks": ""
            },
            "colorscale": [
             [
              0,
              "#0d0887"
             ],
             [
              0.1111111111111111,
              "#46039f"
             ],
             [
              0.2222222222222222,
              "#7201a8"
             ],
             [
              0.3333333333333333,
              "#9c179e"
             ],
             [
              0.4444444444444444,
              "#bd3786"
             ],
             [
              0.5555555555555556,
              "#d8576b"
             ],
             [
              0.6666666666666666,
              "#ed7953"
             ],
             [
              0.7777777777777778,
              "#fb9f3a"
             ],
             [
              0.8888888888888888,
              "#fdca26"
             ],
             [
              1,
              "#f0f921"
             ]
            ],
            "type": "histogram2dcontour"
           }
          ],
          "mesh3d": [
           {
            "colorbar": {
             "outlinewidth": 0,
             "ticks": ""
            },
            "type": "mesh3d"
           }
          ],
          "parcoords": [
           {
            "line": {
             "colorbar": {
              "outlinewidth": 0,
              "ticks": ""
             }
            },
            "type": "parcoords"
           }
          ],
          "pie": [
           {
            "automargin": true,
            "type": "pie"
           }
          ],
          "scatter": [
           {
            "fillpattern": {
             "fillmode": "overlay",
             "size": 10,
             "solidity": 0.2
            },
            "type": "scatter"
           }
          ],
          "scatter3d": [
           {
            "line": {
             "colorbar": {
              "outlinewidth": 0,
              "ticks": ""
             }
            },
            "marker": {
             "colorbar": {
              "outlinewidth": 0,
              "ticks": ""
             }
            },
            "type": "scatter3d"
           }
          ],
          "scattercarpet": [
           {
            "marker": {
             "colorbar": {
              "outlinewidth": 0,
              "ticks": ""
             }
            },
            "type": "scattercarpet"
           }
          ],
          "scattergeo": [
           {
            "marker": {
             "colorbar": {
              "outlinewidth": 0,
              "ticks": ""
             }
            },
            "type": "scattergeo"
           }
          ],
          "scattergl": [
           {
            "marker": {
             "colorbar": {
              "outlinewidth": 0,
              "ticks": ""
             }
            },
            "type": "scattergl"
           }
          ],
          "scattermapbox": [
           {
            "marker": {
             "colorbar": {
              "outlinewidth": 0,
              "ticks": ""
             }
            },
            "type": "scattermapbox"
           }
          ],
          "scatterpolar": [
           {
            "marker": {
             "colorbar": {
              "outlinewidth": 0,
              "ticks": ""
             }
            },
            "type": "scatterpolar"
           }
          ],
          "scatterpolargl": [
           {
            "marker": {
             "colorbar": {
              "outlinewidth": 0,
              "ticks": ""
             }
            },
            "type": "scatterpolargl"
           }
          ],
          "scatterternary": [
           {
            "marker": {
             "colorbar": {
              "outlinewidth": 0,
              "ticks": ""
             }
            },
            "type": "scatterternary"
           }
          ],
          "surface": [
           {
            "colorbar": {
             "outlinewidth": 0,
             "ticks": ""
            },
            "colorscale": [
             [
              0,
              "#0d0887"
             ],
             [
              0.1111111111111111,
              "#46039f"
             ],
             [
              0.2222222222222222,
              "#7201a8"
             ],
             [
              0.3333333333333333,
              "#9c179e"
             ],
             [
              0.4444444444444444,
              "#bd3786"
             ],
             [
              0.5555555555555556,
              "#d8576b"
             ],
             [
              0.6666666666666666,
              "#ed7953"
             ],
             [
              0.7777777777777778,
              "#fb9f3a"
             ],
             [
              0.8888888888888888,
              "#fdca26"
             ],
             [
              1,
              "#f0f921"
             ]
            ],
            "type": "surface"
           }
          ],
          "table": [
           {
            "cells": {
             "fill": {
              "color": "#EBF0F8"
             },
             "line": {
              "color": "white"
             }
            },
            "header": {
             "fill": {
              "color": "#C8D4E3"
             },
             "line": {
              "color": "white"
             }
            },
            "type": "table"
           }
          ]
         },
         "layout": {
          "annotationdefaults": {
           "arrowcolor": "#2a3f5f",
           "arrowhead": 0,
           "arrowwidth": 1
          },
          "autotypenumbers": "strict",
          "coloraxis": {
           "colorbar": {
            "outlinewidth": 0,
            "ticks": ""
           }
          },
          "colorscale": {
           "diverging": [
            [
             0,
             "#8e0152"
            ],
            [
             0.1,
             "#c51b7d"
            ],
            [
             0.2,
             "#de77ae"
            ],
            [
             0.3,
             "#f1b6da"
            ],
            [
             0.4,
             "#fde0ef"
            ],
            [
             0.5,
             "#f7f7f7"
            ],
            [
             0.6,
             "#e6f5d0"
            ],
            [
             0.7,
             "#b8e186"
            ],
            [
             0.8,
             "#7fbc41"
            ],
            [
             0.9,
             "#4d9221"
            ],
            [
             1,
             "#276419"
            ]
           ],
           "sequential": [
            [
             0,
             "#0d0887"
            ],
            [
             0.1111111111111111,
             "#46039f"
            ],
            [
             0.2222222222222222,
             "#7201a8"
            ],
            [
             0.3333333333333333,
             "#9c179e"
            ],
            [
             0.4444444444444444,
             "#bd3786"
            ],
            [
             0.5555555555555556,
             "#d8576b"
            ],
            [
             0.6666666666666666,
             "#ed7953"
            ],
            [
             0.7777777777777778,
             "#fb9f3a"
            ],
            [
             0.8888888888888888,
             "#fdca26"
            ],
            [
             1,
             "#f0f921"
            ]
           ],
           "sequentialminus": [
            [
             0,
             "#0d0887"
            ],
            [
             0.1111111111111111,
             "#46039f"
            ],
            [
             0.2222222222222222,
             "#7201a8"
            ],
            [
             0.3333333333333333,
             "#9c179e"
            ],
            [
             0.4444444444444444,
             "#bd3786"
            ],
            [
             0.5555555555555556,
             "#d8576b"
            ],
            [
             0.6666666666666666,
             "#ed7953"
            ],
            [
             0.7777777777777778,
             "#fb9f3a"
            ],
            [
             0.8888888888888888,
             "#fdca26"
            ],
            [
             1,
             "#f0f921"
            ]
           ]
          },
          "colorway": [
           "#636efa",
           "#EF553B",
           "#00cc96",
           "#ab63fa",
           "#FFA15A",
           "#19d3f3",
           "#FF6692",
           "#B6E880",
           "#FF97FF",
           "#FECB52"
          ],
          "font": {
           "color": "#2a3f5f"
          },
          "geo": {
           "bgcolor": "white",
           "lakecolor": "white",
           "landcolor": "white",
           "showlakes": true,
           "showland": true,
           "subunitcolor": "#C8D4E3"
          },
          "hoverlabel": {
           "align": "left"
          },
          "hovermode": "closest",
          "mapbox": {
           "style": "light"
          },
          "paper_bgcolor": "white",
          "plot_bgcolor": "white",
          "polar": {
           "angularaxis": {
            "gridcolor": "#EBF0F8",
            "linecolor": "#EBF0F8",
            "ticks": ""
           },
           "bgcolor": "white",
           "radialaxis": {
            "gridcolor": "#EBF0F8",
            "linecolor": "#EBF0F8",
            "ticks": ""
           }
          },
          "scene": {
           "xaxis": {
            "backgroundcolor": "white",
            "gridcolor": "#DFE8F3",
            "gridwidth": 2,
            "linecolor": "#EBF0F8",
            "showbackground": true,
            "ticks": "",
            "zerolinecolor": "#EBF0F8"
           },
           "yaxis": {
            "backgroundcolor": "white",
            "gridcolor": "#DFE8F3",
            "gridwidth": 2,
            "linecolor": "#EBF0F8",
            "showbackground": true,
            "ticks": "",
            "zerolinecolor": "#EBF0F8"
           },
           "zaxis": {
            "backgroundcolor": "white",
            "gridcolor": "#DFE8F3",
            "gridwidth": 2,
            "linecolor": "#EBF0F8",
            "showbackground": true,
            "ticks": "",
            "zerolinecolor": "#EBF0F8"
           }
          },
          "shapedefaults": {
           "line": {
            "color": "#2a3f5f"
           }
          },
          "ternary": {
           "aaxis": {
            "gridcolor": "#DFE8F3",
            "linecolor": "#A2B1C6",
            "ticks": ""
           },
           "baxis": {
            "gridcolor": "#DFE8F3",
            "linecolor": "#A2B1C6",
            "ticks": ""
           },
           "bgcolor": "white",
           "caxis": {
            "gridcolor": "#DFE8F3",
            "linecolor": "#A2B1C6",
            "ticks": ""
           }
          },
          "title": {
           "x": 0.05
          },
          "xaxis": {
           "automargin": true,
           "gridcolor": "#EBF0F8",
           "linecolor": "#EBF0F8",
           "ticks": "",
           "title": {
            "standoff": 15
           },
           "zerolinecolor": "#EBF0F8",
           "zerolinewidth": 2
          },
          "yaxis": {
           "automargin": true,
           "gridcolor": "#EBF0F8",
           "linecolor": "#EBF0F8",
           "ticks": "",
           "title": {
            "standoff": 15
           },
           "zerolinecolor": "#EBF0F8",
           "zerolinewidth": 2
          }
         }
        },
        "title": {
         "text": "Seasonal Decomposition of Monthly Sales"
        },
        "xaxis": {
         "title": {
          "text": "Date"
         }
        },
        "yaxis": {
         "title": {
          "text": "Value"
         }
        }
       }
      }
     },
     "metadata": {},
     "output_type": "display_data"
    }
   ],
   "source": [
    "\n",
    "from statsmodels.tsa.seasonal import seasonal_decompose\n",
    "\n",
    "\n",
    "# If 'purchase_date' is missing, identify the correct column name\n",
    "if 'purchase_date' not in data.columns:\n",
    "    # Let's assume the correct column name is 'PurchaseDate'\n",
    "    if 'PurchaseDate' in data.columns:\n",
    "        data.rename(columns={'PurchaseDate': 'purchase_date'}, inplace=True)\n",
    "    else:\n",
    "        print(\"Error: 'purchase_date' column not found in the DataFrame.\")\n",
    "        print(\"Available columns:\", data.columns.tolist())\n",
    "        # Exit or raise an error to prevent further issues\n",
    "        raise KeyError(\"'purchase_date' column not found in the DataFrame.\")\n",
    "\n",
    "# Now proceed with the data preprocessing\n",
    "data['purchase_date'] = pd.to_datetime(data['purchase_date'], errors='coerce')\n",
    "data = data[data['purchase_date'] <= '2020-12-31']\n",
    "data = data.dropna(subset=['total_price', 'purchase_date'])\n",
    "data.set_index('purchase_date', inplace=True)\n",
    "data['total_price'] = pd.to_numeric(data['total_price'], errors='coerce')\n",
    "\n",
    "# Proceed with the seasonal decomposition\n",
    "monthly_sales = data['total_price'].resample('M').sum()\n",
    "\n",
    "# Plot monthly sales\n",
    "fig = go.Figure()\n",
    "\n",
    "fig.add_trace(go.Scatter(\n",
    "    x=monthly_sales.index,\n",
    "    y=monthly_sales.values,\n",
    "    mode='lines+markers',\n",
    "    marker=dict(symbol='circle'),\n",
    "    name='Total Sales'\n",
    "))\n",
    "\n",
    "fig.update_layout(\n",
    "    title='Monthly Total Sales Over Time (Up to 2020)',\n",
    "    xaxis_title='Date',\n",
    "    yaxis_title='Total Sales',\n",
    "    template='plotly_white'\n",
    ")\n",
    "\n",
    "fig.show()\n",
    "\n",
    "# Perform seasonal decomposition\n",
    "decomposition = seasonal_decompose(monthly_sales, model='additive')\n",
    "\n",
    "# Plot the decomposition\n",
    "fig = go.Figure()\n",
    "\n",
    "fig.add_trace(go.Scatter(\n",
    "    x=decomposition.trend.index,\n",
    "    y=decomposition.trend,\n",
    "    mode='lines',\n",
    "    name='Trend'\n",
    "))\n",
    "\n",
    "fig.add_trace(go.Scatter(\n",
    "    x=decomposition.seasonal.index,\n",
    "    y=decomposition.seasonal,\n",
    "    mode='lines',\n",
    "    name='Seasonal'\n",
    "))\n",
    "\n",
    "fig.add_trace(go.Scatter(\n",
    "    x=decomposition.resid.index,\n",
    "    y=decomposition.resid,\n",
    "    mode='lines',\n",
    "    name='Residual'\n",
    "))\n",
    "\n",
    "fig.update_layout(\n",
    "    title='Seasonal Decomposition of Monthly Sales',\n",
    "    xaxis_title='Date',\n",
    "    yaxis_title='Value',\n",
    "    template='plotly_white'\n",
    ")\n",
    "\n",
    "fig.show()\n"
   ]
  },
  {
   "cell_type": "code",
   "execution_count": null,
   "metadata": {},
   "outputs": [
    {
     "data": {
      "application/vnd.plotly.v1+json": {
       "config": {
        "plotlyServerURL": "https://plot.ly"
       },
       "data": [
        {
         "branchvalues": "total",
         "hovertemplate": "<b>%{label}</b><br>Revenue: $%{value:,.2f}<extra></extra>",
         "ids": [
          "All Regions",
          "BARISAL",
          "CHITTAGONG",
          "DHAKA",
          "KHULNA",
          "RAJSHAHI",
          "RANGPUR",
          "SYLHET",
          "BARISAL/BARGUNA",
          "BARISAL/BARISAL",
          "BARISAL/BHOLA",
          "BARISAL/JHALOKATI",
          "BARISAL/PATUAKHALI",
          "BARISAL/PIROJPUR",
          "CHITTAGONG/BANDARBAN",
          "CHITTAGONG/BRAHMANBARIA",
          "CHITTAGONG/CHANDPUR",
          "CHITTAGONG/CHITTAGONG",
          "CHITTAGONG/COMILLA",
          "CHITTAGONG/COX'S BAZAR",
          "CHITTAGONG/FENI",
          "CHITTAGONG/KHAGRACHHARI",
          "CHITTAGONG/LAKSHMIPUR",
          "CHITTAGONG/NOAKHALI",
          "CHITTAGONG/RANGAMATI",
          "DHAKA/DHAKA",
          "DHAKA/FARIDPUR",
          "DHAKA/GAZIPUR",
          "DHAKA/GOPALGANJ",
          "DHAKA/JAMALPUR",
          "DHAKA/KISHOREGONJ",
          "DHAKA/MADARIPUR",
          "DHAKA/MANIKGANJ",
          "DHAKA/MUNSHIGANJ",
          "DHAKA/MYMENSINGH",
          "DHAKA/NARAYANGANJ",
          "DHAKA/NARSINGDI",
          "DHAKA/NETRAKONA",
          "DHAKA/RAJBARI",
          "DHAKA/SHARIATPUR",
          "DHAKA/SHERPUR",
          "DHAKA/TANGAIL",
          "KHULNA/BAGERHAT",
          "KHULNA/CHUADANGA",
          "KHULNA/JESSORE",
          "KHULNA/JHENAIDAH",
          "KHULNA/KHULNA",
          "KHULNA/KUSHTIA",
          "KHULNA/MAGURA",
          "KHULNA/MEHERPUR",
          "KHULNA/NARAIL",
          "KHULNA/SATKHIRA",
          "RAJSHAHI/BOGRA",
          "RAJSHAHI/CHAPAI NABABGANJ",
          "RAJSHAHI/JOYPURHAT",
          "RAJSHAHI/NAOGAON",
          "RAJSHAHI/NATORE",
          "RAJSHAHI/PABNA",
          "RAJSHAHI/RAJSHAHI",
          "RAJSHAHI/SIRAJGANJ",
          "RANGPUR/DINAJPUR",
          "RANGPUR/GAIBANDHA",
          "RANGPUR/KURIGRAM",
          "RANGPUR/LALMONIRHAT",
          "RANGPUR/NILPHAMARI",
          "RANGPUR/PANCHAGARH",
          "RANGPUR/RANGPUR",
          "RANGPUR/THAKURGAON",
          "SYLHET/HABIGANJ",
          "SYLHET/MAULVIBAZAR",
          "SYLHET/SUNAMGANJ",
          "SYLHET/SYLHET",
          "BARISAL/BARGUNA/AMTALI",
          "BARISAL/BARGUNA/BAMNA",
          "BARISAL/BARGUNA/BARGUNA SADAR",
          "BARISAL/BARGUNA/BETAGI",
          "BARISAL/BARGUNA/PATHARGHATA",
          "BARISAL/BARGUNA/TALTALI",
          "BARISAL/BARISAL/AGAILJHARA",
          "BARISAL/BARISAL/BABUGANJ",
          "BARISAL/BARISAL/BAKERGANJ",
          "BARISAL/BARISAL/BANARI PARA",
          "BARISAL/BARISAL/BARISAL SADAR (KOTWALI)",
          "BARISAL/BARISAL/GAURNADI",
          "BARISAL/BARISAL/HIZLA",
          "BARISAL/BARISAL/MEHENDIGANJ",
          "BARISAL/BARISAL/MULADI",
          "BARISAL/BARISAL/WAZIRPUR",
          "BARISAL/BHOLA/BHOLA SADAR",
          "BARISAL/BHOLA/BURHANUDDIN",
          "BARISAL/BHOLA/CHAR FASSON",
          "BARISAL/BHOLA/DAULAT KHAN",
          "BARISAL/BHOLA/LALMOHAN",
          "BARISAL/BHOLA/MANPURA",
          "BARISAL/BHOLA/TAZUMUDDIN",
          "BARISAL/JHALOKATI/JHALOKATI SADAR",
          "BARISAL/JHALOKATI/KANTHALIA",
          "BARISAL/JHALOKATI/NALCHITY",
          "BARISAL/JHALOKATI/RAJAPUR",
          "BARISAL/PATUAKHALI/BAUPHAL",
          "BARISAL/PATUAKHALI/DASHMINA",
          "BARISAL/PATUAKHALI/DUMKI",
          "BARISAL/PATUAKHALI/GALACHIPA",
          "BARISAL/PATUAKHALI/KALAPARA",
          "BARISAL/PATUAKHALI/MIRZAGANJ",
          "BARISAL/PATUAKHALI/PATUAKHALI SADAR",
          "BARISAL/PATUAKHALI/RANGABALI",
          "BARISAL/PIROJPUR/BHANDARIA",
          "BARISAL/PIROJPUR/KAWKHALI",
          "BARISAL/PIROJPUR/MATHBARIA",
          "BARISAL/PIROJPUR/NAZIRPUR",
          "BARISAL/PIROJPUR/NESARABAD (SWARUPKATI)",
          "BARISAL/PIROJPUR/PIROJPUR SADAR",
          "BARISAL/PIROJPUR/ZIANAGAR",
          "CHITTAGONG/BANDARBAN/ALIKADAM",
          "CHITTAGONG/BANDARBAN/BANDARBAN SADAR",
          "CHITTAGONG/BANDARBAN/LAMA",
          "CHITTAGONG/BANDARBAN/NAIKHONGCHHARI",
          "CHITTAGONG/BANDARBAN/ROWANGCHHARI",
          "CHITTAGONG/BANDARBAN/RUMA",
          "CHITTAGONG/BANDARBAN/THANCHI",
          "CHITTAGONG/BRAHMANBARIA/AKHAURA",
          "CHITTAGONG/BRAHMANBARIA/ASHUGANJ",
          "CHITTAGONG/BRAHMANBARIA/BANCHHARAMPUR",
          "CHITTAGONG/BRAHMANBARIA/BIJOYNAGAR",
          "CHITTAGONG/BRAHMANBARIA/BRAHMANBARIA SADAR",
          "CHITTAGONG/BRAHMANBARIA/KASBA",
          "CHITTAGONG/BRAHMANBARIA/NABINAGAR",
          "CHITTAGONG/BRAHMANBARIA/NASIRNAGAR",
          "CHITTAGONG/BRAHMANBARIA/SARAIL",
          "CHITTAGONG/CHANDPUR/CHANDPUR SADAR",
          "CHITTAGONG/CHANDPUR/FARIDGANJ",
          "CHITTAGONG/CHANDPUR/HAIM CHAR",
          "CHITTAGONG/CHANDPUR/HAJIGANJ",
          "CHITTAGONG/CHANDPUR/KACHUA",
          "CHITTAGONG/CHANDPUR/MATLAB DAKSHIN",
          "CHITTAGONG/CHANDPUR/MATLAB UTTAR",
          "CHITTAGONG/CHANDPUR/SHAHRASTI",
          "CHITTAGONG/CHITTAGONG/ANOWARA",
          "CHITTAGONG/CHITTAGONG/BAKALIA",
          "CHITTAGONG/CHITTAGONG/BANSHKHALI",
          "CHITTAGONG/CHITTAGONG/BAYEJID BOSTAMI",
          "CHITTAGONG/CHITTAGONG/BOALKHALI",
          "CHITTAGONG/CHITTAGONG/CHANDANAISH",
          "CHITTAGONG/CHITTAGONG/CHANDGAON",
          "CHITTAGONG/CHITTAGONG/CHITTAGONG PORT",
          "CHITTAGONG/CHITTAGONG/DOUBLE MOORING",
          "CHITTAGONG/CHITTAGONG/FATIKCHHARI",
          "CHITTAGONG/CHITTAGONG/HALISHAHAR",
          "CHITTAGONG/CHITTAGONG/HATHAZARI",
          "CHITTAGONG/CHITTAGONG/KHULSHI",
          "CHITTAGONG/CHITTAGONG/KOTWALI",
          "CHITTAGONG/CHITTAGONG/LOHAGARA",
          "CHITTAGONG/CHITTAGONG/MIRSHARAI",
          "CHITTAGONG/CHITTAGONG/PAHARTALI",
          "CHITTAGONG/CHITTAGONG/PANCHLAISH",
          "CHITTAGONG/CHITTAGONG/PATENGA",
          "CHITTAGONG/CHITTAGONG/PATIYA",
          "CHITTAGONG/CHITTAGONG/RANGUNIA",
          "CHITTAGONG/CHITTAGONG/RAOZAN",
          "CHITTAGONG/CHITTAGONG/SANDWIP",
          "CHITTAGONG/CHITTAGONG/SATKANIA",
          "CHITTAGONG/CHITTAGONG/SITAKUNDA",
          "CHITTAGONG/COMILLA/BARURA",
          "CHITTAGONG/COMILLA/BRAHMAN PARA",
          "CHITTAGONG/COMILLA/BURICHANG",
          "CHITTAGONG/COMILLA/CHANDINA",
          "CHITTAGONG/COMILLA/CHAUDDAGRAM",
          "CHITTAGONG/COMILLA/COMILLA ADARSHA SADAR",
          "CHITTAGONG/COMILLA/COMILLA SADAR DAKSHIN",
          "CHITTAGONG/COMILLA/DAUDKANDI",
          "CHITTAGONG/COMILLA/DEBIDWAR",
          "CHITTAGONG/COMILLA/HOMNA",
          "CHITTAGONG/COMILLA/LAKSAM",
          "CHITTAGONG/COMILLA/MANOHARGANJ",
          "CHITTAGONG/COMILLA/MEGHNA",
          "CHITTAGONG/COMILLA/MURADNAGAR",
          "CHITTAGONG/COMILLA/NANGALKOT",
          "CHITTAGONG/COMILLA/TITAS",
          "CHITTAGONG/COX'S BAZAR/CHAKARIA",
          "CHITTAGONG/COX'S BAZAR/COX'S BAZAR SADAR",
          "CHITTAGONG/COX'S BAZAR/KUTUBDIA",
          "CHITTAGONG/COX'S BAZAR/MAHESHKHALI",
          "CHITTAGONG/COX'S BAZAR/PEKUA",
          "CHITTAGONG/COX'S BAZAR/RAMU",
          "CHITTAGONG/COX'S BAZAR/TEKNAF",
          "CHITTAGONG/COX'S BAZAR/UKHIA",
          "CHITTAGONG/FENI/CHHAGALNAIYA",
          "CHITTAGONG/FENI/DAGANBHUIYAN",
          "CHITTAGONG/FENI/FENI SADAR",
          "CHITTAGONG/FENI/FULGAZI",
          "CHITTAGONG/FENI/PARSHURAM",
          "CHITTAGONG/FENI/SONAGAZI",
          "CHITTAGONG/KHAGRACHHARI/DIGHINALA",
          "CHITTAGONG/KHAGRACHHARI/KHAGRACHHARI SADAR",
          "CHITTAGONG/KHAGRACHHARI/LAKSHMICHHARI",
          "CHITTAGONG/KHAGRACHHARI/MAHALCHHARI",
          "CHITTAGONG/KHAGRACHHARI/MANIKCHHARI",
          "CHITTAGONG/KHAGRACHHARI/MATIRANGA",
          "CHITTAGONG/KHAGRACHHARI/PANCHHARI",
          "CHITTAGONG/KHAGRACHHARI/RAMGARH",
          "CHITTAGONG/LAKSHMIPUR/KAMALNAGAR",
          "CHITTAGONG/LAKSHMIPUR/LAKSHMIPUR SADAR",
          "CHITTAGONG/LAKSHMIPUR/RAMGANJ",
          "CHITTAGONG/LAKSHMIPUR/RAMGATI",
          "CHITTAGONG/LAKSHMIPUR/ROYPUR",
          "CHITTAGONG/NOAKHALI/BEGUMGANJ",
          "CHITTAGONG/NOAKHALI/CHATKHIL",
          "CHITTAGONG/NOAKHALI/COMPANIGANJ",
          "CHITTAGONG/NOAKHALI/HATIYA",
          "CHITTAGONG/NOAKHALI/KABIRHAT",
          "CHITTAGONG/NOAKHALI/NOAKHALI SADAR",
          "CHITTAGONG/NOAKHALI/SENBAGH",
          "CHITTAGONG/NOAKHALI/SONAIMURI",
          "CHITTAGONG/NOAKHALI/SUBARNACHAR",
          "CHITTAGONG/RANGAMATI/BAGHAICHHARI",
          "CHITTAGONG/RANGAMATI/BARKAL UPAZILA",
          "CHITTAGONG/RANGAMATI/BELAI CHHARI  UPAZI",
          "CHITTAGONG/RANGAMATI/JURAI CHHARI UPAZIL",
          "CHITTAGONG/RANGAMATI/KAPTAI  UPAZILA",
          "CHITTAGONG/RANGAMATI/KAWKHALI (BETBUNIA)",
          "CHITTAGONG/RANGAMATI/LANGADU  UPAZILA",
          "CHITTAGONG/RANGAMATI/NANIARCHAR  UPAZILA",
          "CHITTAGONG/RANGAMATI/RAJASTHALI  UPAZILA",
          "CHITTAGONG/RANGAMATI/RANGAMATI SADAR  UP",
          "DHAKA/DHAKA/ADABOR",
          "DHAKA/DHAKA/BADDA",
          "DHAKA/DHAKA/BANANI",
          "DHAKA/DHAKA/BANGSHAL",
          "DHAKA/DHAKA/BHASAN TEK",
          "DHAKA/DHAKA/BHATARA",
          "DHAKA/DHAKA/BIMAN BANDAR",
          "DHAKA/DHAKA/CANTONMENT",
          "DHAKA/DHAKA/CHAK BAZAR",
          "DHAKA/DHAKA/DAKSHINKHAN",
          "DHAKA/DHAKA/DARUS SALAM",
          "DHAKA/DHAKA/DEMRA",
          "DHAKA/DHAKA/DHAMRAI",
          "DHAKA/DHAKA/DHANMONDI",
          "DHAKA/DHAKA/DOHAR",
          "DHAKA/DHAKA/GENDARIA",
          "DHAKA/DHAKA/GULSHAN",
          "DHAKA/DHAKA/HAZARIBAGH",
          "DHAKA/DHAKA/JATRABARI",
          "DHAKA/DHAKA/KADAMTALI",
          "DHAKA/DHAKA/KAFRUL",
          "DHAKA/DHAKA/KALABAGAN",
          "DHAKA/DHAKA/KAMRANGIR CHAR",
          "DHAKA/DHAKA/KERANIGANJ",
          "DHAKA/DHAKA/KHILGAON",
          "DHAKA/DHAKA/KHILKHET",
          "DHAKA/DHAKA/KOTWALI",
          "DHAKA/DHAKA/LALBAGH",
          "DHAKA/DHAKA/MIRPUR",
          "DHAKA/DHAKA/MOHAMMADPUR",
          "DHAKA/DHAKA/MOTIJHEEL",
          "DHAKA/DHAKA/MUGDA PARA",
          "DHAKA/DHAKA/NAWABGANJ",
          "DHAKA/DHAKA/NEW MARKET",
          "DHAKA/DHAKA/PALLABI",
          "DHAKA/DHAKA/PALTAN",
          "DHAKA/DHAKA/RAMNA",
          "DHAKA/DHAKA/RAMPURA",
          "DHAKA/DHAKA/RUPNAGAR",
          "DHAKA/DHAKA/SABUJBAGH",
          "DHAKA/DHAKA/SAVAR",
          "DHAKA/DHAKA/SHAH ALI",
          "DHAKA/DHAKA/SHAHBAGH",
          "DHAKA/DHAKA/SHAHJAHANPUR",
          "DHAKA/DHAKA/SHER-E-BANGLA NAGAR",
          "DHAKA/DHAKA/SHYAMPUR",
          "DHAKA/DHAKA/SUTRAPUR",
          "DHAKA/DHAKA/TEJGAON",
          "DHAKA/DHAKA/TEJGAON IND. AREA",
          "DHAKA/DHAKA/TURAG",
          "DHAKA/DHAKA/UTTAR KHAN",
          "DHAKA/DHAKA/UTTARA  PASCHIM",
          "DHAKA/DHAKA/UTTARA  PURBA",
          "DHAKA/DHAKA/WARI",
          "DHAKA/FARIDPUR/ALFADANGA",
          "DHAKA/FARIDPUR/BHANGA",
          "DHAKA/FARIDPUR/BOALMARI",
          "DHAKA/FARIDPUR/CHAR BHADRASAN",
          "DHAKA/FARIDPUR/FARIDPUR SADAR",
          "DHAKA/FARIDPUR/MADHUKHALI",
          "DHAKA/FARIDPUR/NAGARKANDA",
          "DHAKA/FARIDPUR/SADARPUR",
          "DHAKA/FARIDPUR/SALTHA",
          "DHAKA/GAZIPUR/GAZIPUR SADAR",
          "DHAKA/GAZIPUR/KALIAKAIR",
          "DHAKA/GAZIPUR/KALIGANJ",
          "DHAKA/GAZIPUR/KAPASIA",
          "DHAKA/GAZIPUR/SREEPUR",
          "DHAKA/GOPALGANJ/GOPALGANJ SADAR",
          "DHAKA/GOPALGANJ/KASHIANI",
          "DHAKA/GOPALGANJ/KOTALIPARA",
          "DHAKA/GOPALGANJ/MUKSUDPUR",
          "DHAKA/GOPALGANJ/TUNGIPARA",
          "DHAKA/JAMALPUR/BAKSHIGANJ",
          "DHAKA/JAMALPUR/DEWANGANJ",
          "DHAKA/JAMALPUR/ISLAMPUR",
          "DHAKA/JAMALPUR/JAMALPUR SADAR",
          "DHAKA/JAMALPUR/MADARGANJ",
          "DHAKA/JAMALPUR/MELANDAHA",
          "DHAKA/JAMALPUR/SARISHABARI UPAZILA",
          "DHAKA/KISHOREGONJ/AUSTAGRAM",
          "DHAKA/KISHOREGONJ/BAJITPUR",
          "DHAKA/KISHOREGONJ/BHAIRAB",
          "DHAKA/KISHOREGONJ/HOSSAINPUR",
          "DHAKA/KISHOREGONJ/ITNA",
          "DHAKA/KISHOREGONJ/KARIMGANJ",
          "DHAKA/KISHOREGONJ/KATIADI",
          "DHAKA/KISHOREGONJ/KISHOREGANJ SADAR",
          "DHAKA/KISHOREGONJ/KULIAR CHAR",
          "DHAKA/KISHOREGONJ/MITHAMAIN",
          "DHAKA/KISHOREGONJ/NIKLI",
          "DHAKA/KISHOREGONJ/PAKUNDIA",
          "DHAKA/KISHOREGONJ/TARAIL",
          "DHAKA/MADARIPUR/KALKINI",
          "DHAKA/MADARIPUR/MADARIPUR SADAR",
          "DHAKA/MADARIPUR/RAJOIR",
          "DHAKA/MADARIPUR/SHIBCHAR",
          "DHAKA/MANIKGANJ/DAULATPUR",
          "DHAKA/MANIKGANJ/GHIOR",
          "DHAKA/MANIKGANJ/HARIRAMPUR",
          "DHAKA/MANIKGANJ/MANIKGANJ SADAR",
          "DHAKA/MANIKGANJ/SATURIA",
          "DHAKA/MANIKGANJ/SHIBALAYA",
          "DHAKA/MANIKGANJ/SINGAIR",
          "DHAKA/MUNSHIGANJ/GAZARIA",
          "DHAKA/MUNSHIGANJ/LOHAJANG",
          "DHAKA/MUNSHIGANJ/MUNSHIGANJ SADAR",
          "DHAKA/MUNSHIGANJ/SERAJDIKHAN",
          "DHAKA/MUNSHIGANJ/SREENAGAR",
          "DHAKA/MUNSHIGANJ/TONGIBARI",
          "DHAKA/MYMENSINGH/BHALUKA",
          "DHAKA/MYMENSINGH/DHOBAURA",
          "DHAKA/MYMENSINGH/FULBARIA",
          "DHAKA/MYMENSINGH/GAFFARGAON",
          "DHAKA/MYMENSINGH/GAURIPUR",
          "DHAKA/MYMENSINGH/HALUAGHAT",
          "DHAKA/MYMENSINGH/ISHWARGANJ",
          "DHAKA/MYMENSINGH/MUKTAGACHHA",
          "DHAKA/MYMENSINGH/MYMENSINGH SADAR",
          "DHAKA/MYMENSINGH/NANDAIL",
          "DHAKA/MYMENSINGH/PHULPUR",
          "DHAKA/MYMENSINGH/TARAKANDA",
          "DHAKA/MYMENSINGH/TRISHAL",
          "DHAKA/NARAYANGANJ/ARAIHAZAR",
          "DHAKA/NARAYANGANJ/BANDAR",
          "DHAKA/NARAYANGANJ/NARAYANGANJ SADAR",
          "DHAKA/NARAYANGANJ/RUPGANJ",
          "DHAKA/NARAYANGANJ/SONARGAON",
          "DHAKA/NARSINGDI/BELABO",
          "DHAKA/NARSINGDI/MANOHARDI",
          "DHAKA/NARSINGDI/NARSINGDI SADAR",
          "DHAKA/NARSINGDI/PALASH",
          "DHAKA/NARSINGDI/ROYPURA",
          "DHAKA/NARSINGDI/SHIBPUR",
          "DHAKA/NETRAKONA/ATPARA",
          "DHAKA/NETRAKONA/BARHATTA",
          "DHAKA/NETRAKONA/DURGAPUR",
          "DHAKA/NETRAKONA/KALMAKANDA",
          "DHAKA/NETRAKONA/KENDUA",
          "DHAKA/NETRAKONA/KHALIAJURI",
          "DHAKA/NETRAKONA/MADAN",
          "DHAKA/NETRAKONA/MOHANGANJ",
          "DHAKA/NETRAKONA/NETROKONA SADAR",
          "DHAKA/NETRAKONA/PURBADHALA",
          "DHAKA/RAJBARI/BALIAKANDI",
          "DHAKA/RAJBARI/GOALANDA",
          "DHAKA/RAJBARI/KALUKHALI",
          "DHAKA/RAJBARI/PANGSHA",
          "DHAKA/RAJBARI/RAJBARI SADAR",
          "DHAKA/SHARIATPUR/BHEDARGANJ",
          "DHAKA/SHARIATPUR/DAMUDYA",
          "DHAKA/SHARIATPUR/GOSAIRHAT",
          "DHAKA/SHARIATPUR/NARIA",
          "DHAKA/SHARIATPUR/SHARIATPUR SADAR",
          "DHAKA/SHARIATPUR/ZANJIRA",
          "DHAKA/SHERPUR/JHENAIGATI",
          "DHAKA/SHERPUR/NAKLA",
          "DHAKA/SHERPUR/NALITABARI",
          "DHAKA/SHERPUR/SHERPUR SADAR",
          "DHAKA/SHERPUR/SREEBARDI",
          "DHAKA/TANGAIL/BASAIL",
          "DHAKA/TANGAIL/BHUAPUR",
          "DHAKA/TANGAIL/DELDUAR",
          "DHAKA/TANGAIL/DHANBARI",
          "DHAKA/TANGAIL/GHATAIL",
          "DHAKA/TANGAIL/GOPALPUR",
          "DHAKA/TANGAIL/KALIHATI",
          "DHAKA/TANGAIL/MADHUPUR",
          "DHAKA/TANGAIL/MIRZAPUR",
          "DHAKA/TANGAIL/NAGARPUR",
          "DHAKA/TANGAIL/SAKHIPUR",
          "DHAKA/TANGAIL/TANGAIL SADAR",
          "KHULNA/BAGERHAT/BAGERHAT SADAR",
          "KHULNA/BAGERHAT/CHITALMARI",
          "KHULNA/BAGERHAT/FAKIRHAT",
          "KHULNA/BAGERHAT/KACHUA",
          "KHULNA/BAGERHAT/MOLLAHAT",
          "KHULNA/BAGERHAT/MONGLA",
          "KHULNA/BAGERHAT/MORRELGANJ",
          "KHULNA/BAGERHAT/RAMPAL",
          "KHULNA/BAGERHAT/SARANKHOLA",
          "KHULNA/CHUADANGA/ALAMDANGA",
          "KHULNA/CHUADANGA/CHUADANGA SADAR",
          "KHULNA/CHUADANGA/DAMURHUDA",
          "KHULNA/CHUADANGA/JIBAN NAGAR",
          "KHULNA/JESSORE/ABHAYNAGAR",
          "KHULNA/JESSORE/BAGHER PARA",
          "KHULNA/JESSORE/CHAUGACHHA",
          "KHULNA/JESSORE/JESSORE SADAR",
          "KHULNA/JESSORE/JHIKARGACHHA",
          "KHULNA/JESSORE/KESHABPUR",
          "KHULNA/JESSORE/MANIRAMPUR",
          "KHULNA/JESSORE/SHARSHA",
          "KHULNA/JHENAIDAH/HARINAKUNDA",
          "KHULNA/JHENAIDAH/JHENAIDAH SADAR",
          "KHULNA/JHENAIDAH/KALIGANJ",
          "KHULNA/JHENAIDAH/KOTCHANDPUR",
          "KHULNA/JHENAIDAH/MAHESHPUR",
          "KHULNA/JHENAIDAH/SHAILKUPA",
          "KHULNA/KHULNA/BATIAGHATA",
          "KHULNA/KHULNA/DACOPE",
          "KHULNA/KHULNA/DAULATPUR",
          "KHULNA/KHULNA/DIGHALIA",
          "KHULNA/KHULNA/DUMURIA",
          "KHULNA/KHULNA/KHALISHPUR",
          "KHULNA/KHULNA/KHAN JAHAN ALI",
          "KHULNA/KHULNA/KHULNA SADAR",
          "KHULNA/KHULNA/KOYRA",
          "KHULNA/KHULNA/PAIKGACHHA",
          "KHULNA/KHULNA/PHULTALA",
          "KHULNA/KHULNA/RUPSA",
          "KHULNA/KHULNA/SONADANGA",
          "KHULNA/KHULNA/TEROKHADA",
          "KHULNA/KUSHTIA/BHERAMARA",
          "KHULNA/KUSHTIA/DAULATPUR",
          "KHULNA/KUSHTIA/KHOKSA",
          "KHULNA/KUSHTIA/KUMARKHALI",
          "KHULNA/KUSHTIA/KUSHTIA SADAR",
          "KHULNA/KUSHTIA/MIRPUR",
          "KHULNA/MAGURA/MAGURA SADAR",
          "KHULNA/MAGURA/MOHAMMADPUR",
          "KHULNA/MAGURA/SHALIKHA",
          "KHULNA/MAGURA/SREEPUR",
          "KHULNA/MEHERPUR/GANGNI",
          "KHULNA/MEHERPUR/MEHERPUR SADAR",
          "KHULNA/MEHERPUR/MUJIB NAGAR",
          "KHULNA/NARAIL/KALIA",
          "KHULNA/NARAIL/LOHAGARA",
          "KHULNA/NARAIL/NARAIL SADAR",
          "KHULNA/SATKHIRA/ASSASUNI",
          "KHULNA/SATKHIRA/DEBHATA",
          "KHULNA/SATKHIRA/KALAROA",
          "KHULNA/SATKHIRA/KALIGANJ",
          "KHULNA/SATKHIRA/SATKHIRA SADAR",
          "KHULNA/SATKHIRA/SHYAMNAGAR",
          "KHULNA/SATKHIRA/TALA",
          "RAJSHAHI/BOGRA/ADAMDIGHI",
          "RAJSHAHI/BOGRA/BOGRA SADAR",
          "RAJSHAHI/BOGRA/DHUNAT",
          "RAJSHAHI/BOGRA/DHUPCHANCHIA",
          "RAJSHAHI/BOGRA/GABTALI",
          "RAJSHAHI/BOGRA/KAHALOO",
          "RAJSHAHI/BOGRA/NANDIGRAM",
          "RAJSHAHI/BOGRA/SARIAKANDI",
          "RAJSHAHI/BOGRA/SHAJAHANPUR",
          "RAJSHAHI/BOGRA/SHERPUR",
          "RAJSHAHI/BOGRA/SHIBGANJ",
          "RAJSHAHI/BOGRA/SONATOLA",
          "RAJSHAHI/CHAPAI NABABGANJ/BHOLAHAT",
          "RAJSHAHI/CHAPAI NABABGANJ/CHAPAI NABABGANJ SADAR",
          "RAJSHAHI/CHAPAI NABABGANJ/GOMASTAPUR",
          "RAJSHAHI/CHAPAI NABABGANJ/NACHOLE",
          "RAJSHAHI/CHAPAI NABABGANJ/SHIBGANJ",
          "RAJSHAHI/JOYPURHAT/AKKELPUR",
          "RAJSHAHI/JOYPURHAT/JOYPURHAT SADAR",
          "RAJSHAHI/JOYPURHAT/KALAI",
          "RAJSHAHI/JOYPURHAT/KHETLAL",
          "RAJSHAHI/JOYPURHAT/PANCHBIBI",
          "RAJSHAHI/NAOGAON/ATRAI",
          "RAJSHAHI/NAOGAON/BADALGACHHI",
          "RAJSHAHI/NAOGAON/DHAMOIRHAT",
          "RAJSHAHI/NAOGAON/MAHADEBPUR",
          "RAJSHAHI/NAOGAON/MANDA",
          "RAJSHAHI/NAOGAON/NAOGAON SADAR",
          "RAJSHAHI/NAOGAON/NIAMATPUR",
          "RAJSHAHI/NAOGAON/PATNITALA",
          "RAJSHAHI/NAOGAON/PORSHA",
          "RAJSHAHI/NAOGAON/RANINAGAR",
          "RAJSHAHI/NAOGAON/SAPAHAR",
          "RAJSHAHI/NATORE/BAGATIPARA",
          "RAJSHAHI/NATORE/BARAIGRAM",
          "RAJSHAHI/NATORE/GURUDASPUR",
          "RAJSHAHI/NATORE/LALPUR",
          "RAJSHAHI/NATORE/NALDANGA",
          "RAJSHAHI/NATORE/NATORE SADAR",
          "RAJSHAHI/NATORE/SINGRA",
          "RAJSHAHI/PABNA/ATGHARIA",
          "RAJSHAHI/PABNA/BERA",
          "RAJSHAHI/PABNA/BHANGURA",
          "RAJSHAHI/PABNA/CHATMOHAR",
          "RAJSHAHI/PABNA/FARIDPUR",
          "RAJSHAHI/PABNA/ISHWARDI",
          "RAJSHAHI/PABNA/PABNA SADAR",
          "RAJSHAHI/PABNA/SANTHIA",
          "RAJSHAHI/PABNA/SUJANAGAR",
          "RAJSHAHI/RAJSHAHI/BAGHA",
          "RAJSHAHI/RAJSHAHI/BAGHMARA",
          "RAJSHAHI/RAJSHAHI/BOALIA",
          "RAJSHAHI/RAJSHAHI/CHARGHAT",
          "RAJSHAHI/RAJSHAHI/DURGAPUR",
          "RAJSHAHI/RAJSHAHI/GODAGARI",
          "RAJSHAHI/RAJSHAHI/MATIHAR",
          "RAJSHAHI/RAJSHAHI/MOHANPUR",
          "RAJSHAHI/RAJSHAHI/PABA",
          "RAJSHAHI/RAJSHAHI/PUTHIA",
          "RAJSHAHI/RAJSHAHI/RAJPARA",
          "RAJSHAHI/RAJSHAHI/SHAH MAKHDUM",
          "RAJSHAHI/RAJSHAHI/TANORE",
          "RAJSHAHI/SIRAJGANJ/BELKUCHI",
          "RAJSHAHI/SIRAJGANJ/CHAUHALI",
          "RAJSHAHI/SIRAJGANJ/KAMARKHANDA",
          "RAJSHAHI/SIRAJGANJ/KAZIPUR",
          "RAJSHAHI/SIRAJGANJ/ROYGANJ",
          "RAJSHAHI/SIRAJGANJ/SHAHJADPUR",
          "RAJSHAHI/SIRAJGANJ/SIRAJGANJ SADAR",
          "RAJSHAHI/SIRAJGANJ/TARASH",
          "RAJSHAHI/SIRAJGANJ/ULLAH PARA",
          "RANGPUR/DINAJPUR/BIRAL",
          "RANGPUR/DINAJPUR/BIRAMPUR",
          "RANGPUR/DINAJPUR/BIRGANJ",
          "RANGPUR/DINAJPUR/BOCHAGANJ",
          "RANGPUR/DINAJPUR/CHIRIRBANDAR",
          "RANGPUR/DINAJPUR/DINAJPUR SADAR",
          "RANGPUR/DINAJPUR/FULBARI",
          "RANGPUR/DINAJPUR/GHORAGHAT",
          "RANGPUR/DINAJPUR/HAKIMPUR",
          "RANGPUR/DINAJPUR/KAHAROLE",
          "RANGPUR/DINAJPUR/KHANSAMA",
          "RANGPUR/DINAJPUR/NAWABGANJ",
          "RANGPUR/DINAJPUR/PARBATIPUR",
          "RANGPUR/GAIBANDHA/FULCHHARI",
          "RANGPUR/GAIBANDHA/GAIBANDHA SADAR",
          "RANGPUR/GAIBANDHA/GOBINDAGANJ",
          "RANGPUR/GAIBANDHA/PALASHBARI",
          "RANGPUR/GAIBANDHA/SADULLAPUR",
          "RANGPUR/GAIBANDHA/SAGHATA",
          "RANGPUR/GAIBANDHA/SUNDARGANJ",
          "RANGPUR/KURIGRAM/BHURUNGAMARI",
          "RANGPUR/KURIGRAM/CHAR RAJIBPUR",
          "RANGPUR/KURIGRAM/CHILMARI",
          "RANGPUR/KURIGRAM/KURIGRAM SADAR",
          "RANGPUR/KURIGRAM/NAGESHWARI",
          "RANGPUR/KURIGRAM/PHULBARI",
          "RANGPUR/KURIGRAM/RAJARHAT",
          "RANGPUR/KURIGRAM/RAUMARI",
          "RANGPUR/KURIGRAM/ULIPUR",
          "RANGPUR/LALMONIRHAT/ADITMARI",
          "RANGPUR/LALMONIRHAT/HATIBANDHA",
          "RANGPUR/LALMONIRHAT/KALIGANJ",
          "RANGPUR/LALMONIRHAT/LALMONIRHAT SADAR",
          "RANGPUR/LALMONIRHAT/PATGRAM",
          "RANGPUR/NILPHAMARI/DIMLA",
          "RANGPUR/NILPHAMARI/DOMAR UPAZILA",
          "RANGPUR/NILPHAMARI/JALDHAKA",
          "RANGPUR/NILPHAMARI/KISHOREGANJ",
          "RANGPUR/NILPHAMARI/NILPHAMARI SADAR",
          "RANGPUR/NILPHAMARI/SAIDPUR UPAZILA",
          "RANGPUR/PANCHAGARH/ATWARI",
          "RANGPUR/PANCHAGARH/BODA",
          "RANGPUR/PANCHAGARH/DEBIGANJ",
          "RANGPUR/PANCHAGARH/PANCHAGARH SADAR",
          "RANGPUR/PANCHAGARH/TENTULIA",
          "RANGPUR/RANGPUR/BADARGANJ",
          "RANGPUR/RANGPUR/GANGACHARA",
          "RANGPUR/RANGPUR/KAUNIA",
          "RANGPUR/RANGPUR/MITHA PUKUR",
          "RANGPUR/RANGPUR/PIRGACHHA",
          "RANGPUR/RANGPUR/PIRGANJ",
          "RANGPUR/RANGPUR/RANGPUR SADAR",
          "RANGPUR/RANGPUR/TARAGANJ",
          "RANGPUR/THAKURGAON/BALIADANGI",
          "RANGPUR/THAKURGAON/HARIPUR",
          "RANGPUR/THAKURGAON/PIRGANJ",
          "RANGPUR/THAKURGAON/RANISANKAIL",
          "RANGPUR/THAKURGAON/THAKURGAON SADAR",
          "SYLHET/HABIGANJ/AJMIRIGANJ",
          "SYLHET/HABIGANJ/BAHUBAL",
          "SYLHET/HABIGANJ/BANIACHONG",
          "SYLHET/HABIGANJ/CHUNARUGHAT",
          "SYLHET/HABIGANJ/HABIGANJ SADAR",
          "SYLHET/HABIGANJ/LAKHAI",
          "SYLHET/HABIGANJ/MADHABPUR",
          "SYLHET/HABIGANJ/NABIGANJ",
          "SYLHET/MAULVIBAZAR/BARLEKHA",
          "SYLHET/MAULVIBAZAR/JURI",
          "SYLHET/MAULVIBAZAR/KAMALGANJ",
          "SYLHET/MAULVIBAZAR/KULAURA",
          "SYLHET/MAULVIBAZAR/MAULVIBAZAR SADAR",
          "SYLHET/MAULVIBAZAR/RAJNAGAR",
          "SYLHET/MAULVIBAZAR/SREEMANGAL",
          "SYLHET/SUNAMGANJ/BISHWAMBARPUR",
          "SYLHET/SUNAMGANJ/CHHATAK",
          "SYLHET/SUNAMGANJ/DAKSHIN SUNAMGANJ",
          "SYLHET/SUNAMGANJ/DERAI",
          "SYLHET/SUNAMGANJ/DHARAMPASHA",
          "SYLHET/SUNAMGANJ/DOWARABAZAR",
          "SYLHET/SUNAMGANJ/JAGANNATHPUR",
          "SYLHET/SUNAMGANJ/JAMALGANJ",
          "SYLHET/SUNAMGANJ/SULLA",
          "SYLHET/SUNAMGANJ/SUNAMGANJ SADAR",
          "SYLHET/SUNAMGANJ/TAHIRPUR",
          "SYLHET/SYLHET/BALAGANJ",
          "SYLHET/SYLHET/BEANI BAZAR",
          "SYLHET/SYLHET/BISHWANATH",
          "SYLHET/SYLHET/COMPANIGANJ",
          "SYLHET/SYLHET/DAKSHIN SURMA",
          "SYLHET/SYLHET/FENCHUGANJ",
          "SYLHET/SYLHET/GOLAPGANJ",
          "SYLHET/SYLHET/GOWAINGHAT",
          "SYLHET/SYLHET/JAINTIAPUR",
          "SYLHET/SYLHET/KANAIGHAT",
          "SYLHET/SYLHET/SYLHET SADAR",
          "SYLHET/SYLHET/ZAKIGANJ"
         ],
         "insidetextfont": {
          "color": "black",
          "size": 14
         },
         "labels": [
          "All Regions",
          "BARISAL",
          "CHITTAGONG",
          "DHAKA",
          "KHULNA",
          "RAJSHAHI",
          "RANGPUR",
          "SYLHET",
          "BARGUNA",
          "BARISAL",
          "BHOLA",
          "JHALOKATI",
          "PATUAKHALI",
          "PIROJPUR",
          "BANDARBAN",
          "BRAHMANBARIA",
          "CHANDPUR",
          "CHITTAGONG",
          "COMILLA",
          "COX'S BAZAR",
          "FENI",
          "KHAGRACHHARI",
          "LAKSHMIPUR",
          "NOAKHALI",
          "RANGAMATI",
          "DHAKA",
          "FARIDPUR",
          "GAZIPUR",
          "GOPALGANJ",
          "JAMALPUR",
          "KISHOREGONJ",
          "MADARIPUR",
          "MANIKGANJ",
          "MUNSHIGANJ",
          "MYMENSINGH",
          "NARAYANGANJ",
          "NARSINGDI",
          "NETRAKONA",
          "RAJBARI",
          "SHARIATPUR",
          "SHERPUR",
          "TANGAIL",
          "BAGERHAT",
          "CHUADANGA",
          "JESSORE",
          "JHENAIDAH",
          "KHULNA",
          "KUSHTIA",
          "MAGURA",
          "MEHERPUR",
          "NARAIL",
          "SATKHIRA",
          "BOGRA",
          "CHAPAI NABABGANJ",
          "JOYPURHAT",
          "NAOGAON",
          "NATORE",
          "PABNA",
          "RAJSHAHI",
          "SIRAJGANJ",
          "DINAJPUR",
          "GAIBANDHA",
          "KURIGRAM",
          "LALMONIRHAT",
          "NILPHAMARI",
          "PANCHAGARH",
          "RANGPUR",
          "THAKURGAON",
          "HABIGANJ",
          "MAULVIBAZAR",
          "SUNAMGANJ",
          "SYLHET",
          "AMTALI",
          "BAMNA",
          "BARGUNA SADAR",
          "BETAGI",
          "PATHARGHATA",
          "TALTALI",
          "AGAILJHARA",
          "BABUGANJ",
          "BAKERGANJ",
          "BANARI PARA",
          "BARISAL SADAR (KOTWALI)",
          "GAURNADI",
          "HIZLA",
          "MEHENDIGANJ",
          "MULADI",
          "WAZIRPUR",
          "BHOLA SADAR",
          "BURHANUDDIN",
          "CHAR FASSON",
          "DAULAT KHAN",
          "LALMOHAN",
          "MANPURA",
          "TAZUMUDDIN",
          "JHALOKATI SADAR",
          "KANTHALIA",
          "NALCHITY",
          "RAJAPUR",
          "BAUPHAL",
          "DASHMINA",
          "DUMKI",
          "GALACHIPA",
          "KALAPARA",
          "MIRZAGANJ",
          "PATUAKHALI SADAR",
          "RANGABALI",
          "BHANDARIA",
          "KAWKHALI",
          "MATHBARIA",
          "NAZIRPUR",
          "NESARABAD (SWARUPKATI)",
          "PIROJPUR SADAR",
          "ZIANAGAR",
          "ALIKADAM",
          "BANDARBAN SADAR",
          "LAMA",
          "NAIKHONGCHHARI",
          "ROWANGCHHARI",
          "RUMA",
          "THANCHI",
          "AKHAURA",
          "ASHUGANJ",
          "BANCHHARAMPUR",
          "BIJOYNAGAR",
          "BRAHMANBARIA SADAR",
          "KASBA",
          "NABINAGAR",
          "NASIRNAGAR",
          "SARAIL",
          "CHANDPUR SADAR",
          "FARIDGANJ",
          "HAIM CHAR",
          "HAJIGANJ",
          "KACHUA",
          "MATLAB DAKSHIN",
          "MATLAB UTTAR",
          "SHAHRASTI",
          "ANOWARA",
          "BAKALIA",
          "BANSHKHALI",
          "BAYEJID BOSTAMI",
          "BOALKHALI",
          "CHANDANAISH",
          "CHANDGAON",
          "CHITTAGONG PORT",
          "DOUBLE MOORING",
          "FATIKCHHARI",
          "HALISHAHAR",
          "HATHAZARI",
          "KHULSHI",
          "KOTWALI",
          "LOHAGARA",
          "MIRSHARAI",
          "PAHARTALI",
          "PANCHLAISH",
          "PATENGA",
          "PATIYA",
          "RANGUNIA",
          "RAOZAN",
          "SANDWIP",
          "SATKANIA",
          "SITAKUNDA",
          "BARURA",
          "BRAHMAN PARA",
          "BURICHANG",
          "CHANDINA",
          "CHAUDDAGRAM",
          "COMILLA ADARSHA SADAR",
          "COMILLA SADAR DAKSHIN",
          "DAUDKANDI",
          "DEBIDWAR",
          "HOMNA",
          "LAKSAM",
          "MANOHARGANJ",
          "MEGHNA",
          "MURADNAGAR",
          "NANGALKOT",
          "TITAS",
          "CHAKARIA",
          "COX'S BAZAR SADAR",
          "KUTUBDIA",
          "MAHESHKHALI",
          "PEKUA",
          "RAMU",
          "TEKNAF",
          "UKHIA",
          "CHHAGALNAIYA",
          "DAGANBHUIYAN",
          "FENI SADAR",
          "FULGAZI",
          "PARSHURAM",
          "SONAGAZI",
          "DIGHINALA",
          "KHAGRACHHARI SADAR",
          "LAKSHMICHHARI",
          "MAHALCHHARI",
          "MANIKCHHARI",
          "MATIRANGA",
          "PANCHHARI",
          "RAMGARH",
          "KAMALNAGAR",
          "LAKSHMIPUR SADAR",
          "RAMGANJ",
          "RAMGATI",
          "ROYPUR",
          "BEGUMGANJ",
          "CHATKHIL",
          "COMPANIGANJ",
          "HATIYA",
          "KABIRHAT",
          "NOAKHALI SADAR",
          "SENBAGH",
          "SONAIMURI",
          "SUBARNACHAR",
          "BAGHAICHHARI",
          "BARKAL UPAZILA",
          "BELAI CHHARI  UPAZI",
          "JURAI CHHARI UPAZIL",
          "KAPTAI  UPAZILA",
          "KAWKHALI (BETBUNIA)",
          "LANGADU  UPAZILA",
          "NANIARCHAR  UPAZILA",
          "RAJASTHALI  UPAZILA",
          "RANGAMATI SADAR  UP",
          "ADABOR",
          "BADDA",
          "BANANI",
          "BANGSHAL",
          "BHASAN TEK",
          "BHATARA",
          "BIMAN BANDAR",
          "CANTONMENT",
          "CHAK BAZAR",
          "DAKSHINKHAN",
          "DARUS SALAM",
          "DEMRA",
          "DHAMRAI",
          "DHANMONDI",
          "DOHAR",
          "GENDARIA",
          "GULSHAN",
          "HAZARIBAGH",
          "JATRABARI",
          "KADAMTALI",
          "KAFRUL",
          "KALABAGAN",
          "KAMRANGIR CHAR",
          "KERANIGANJ",
          "KHILGAON",
          "KHILKHET",
          "KOTWALI",
          "LALBAGH",
          "MIRPUR",
          "MOHAMMADPUR",
          "MOTIJHEEL",
          "MUGDA PARA",
          "NAWABGANJ",
          "NEW MARKET",
          "PALLABI",
          "PALTAN",
          "RAMNA",
          "RAMPURA",
          "RUPNAGAR",
          "SABUJBAGH",
          "SAVAR",
          "SHAH ALI",
          "SHAHBAGH",
          "SHAHJAHANPUR",
          "SHER-E-BANGLA NAGAR",
          "SHYAMPUR",
          "SUTRAPUR",
          "TEJGAON",
          "TEJGAON IND. AREA",
          "TURAG",
          "UTTAR KHAN",
          "UTTARA  PASCHIM",
          "UTTARA  PURBA",
          "WARI",
          "ALFADANGA",
          "BHANGA",
          "BOALMARI",
          "CHAR BHADRASAN",
          "FARIDPUR SADAR",
          "MADHUKHALI",
          "NAGARKANDA",
          "SADARPUR",
          "SALTHA",
          "GAZIPUR SADAR",
          "KALIAKAIR",
          "KALIGANJ",
          "KAPASIA",
          "SREEPUR",
          "GOPALGANJ SADAR",
          "KASHIANI",
          "KOTALIPARA",
          "MUKSUDPUR",
          "TUNGIPARA",
          "BAKSHIGANJ",
          "DEWANGANJ",
          "ISLAMPUR",
          "JAMALPUR SADAR",
          "MADARGANJ",
          "MELANDAHA",
          "SARISHABARI UPAZILA",
          "AUSTAGRAM",
          "BAJITPUR",
          "BHAIRAB",
          "HOSSAINPUR",
          "ITNA",
          "KARIMGANJ",
          "KATIADI",
          "KISHOREGANJ SADAR",
          "KULIAR CHAR",
          "MITHAMAIN",
          "NIKLI",
          "PAKUNDIA",
          "TARAIL",
          "KALKINI",
          "MADARIPUR SADAR",
          "RAJOIR",
          "SHIBCHAR",
          "DAULATPUR",
          "GHIOR",
          "HARIRAMPUR",
          "MANIKGANJ SADAR",
          "SATURIA",
          "SHIBALAYA",
          "SINGAIR",
          "GAZARIA",
          "LOHAJANG",
          "MUNSHIGANJ SADAR",
          "SERAJDIKHAN",
          "SREENAGAR",
          "TONGIBARI",
          "BHALUKA",
          "DHOBAURA",
          "FULBARIA",
          "GAFFARGAON",
          "GAURIPUR",
          "HALUAGHAT",
          "ISHWARGANJ",
          "MUKTAGACHHA",
          "MYMENSINGH SADAR",
          "NANDAIL",
          "PHULPUR",
          "TARAKANDA",
          "TRISHAL",
          "ARAIHAZAR",
          "BANDAR",
          "NARAYANGANJ SADAR",
          "RUPGANJ",
          "SONARGAON",
          "BELABO",
          "MANOHARDI",
          "NARSINGDI SADAR",
          "PALASH",
          "ROYPURA",
          "SHIBPUR",
          "ATPARA",
          "BARHATTA",
          "DURGAPUR",
          "KALMAKANDA",
          "KENDUA",
          "KHALIAJURI",
          "MADAN",
          "MOHANGANJ",
          "NETROKONA SADAR",
          "PURBADHALA",
          "BALIAKANDI",
          "GOALANDA",
          "KALUKHALI",
          "PANGSHA",
          "RAJBARI SADAR",
          "BHEDARGANJ",
          "DAMUDYA",
          "GOSAIRHAT",
          "NARIA",
          "SHARIATPUR SADAR",
          "ZANJIRA",
          "JHENAIGATI",
          "NAKLA",
          "NALITABARI",
          "SHERPUR SADAR",
          "SREEBARDI",
          "BASAIL",
          "BHUAPUR",
          "DELDUAR",
          "DHANBARI",
          "GHATAIL",
          "GOPALPUR",
          "KALIHATI",
          "MADHUPUR",
          "MIRZAPUR",
          "NAGARPUR",
          "SAKHIPUR",
          "TANGAIL SADAR",
          "BAGERHAT SADAR",
          "CHITALMARI",
          "FAKIRHAT",
          "KACHUA",
          "MOLLAHAT",
          "MONGLA",
          "MORRELGANJ",
          "RAMPAL",
          "SARANKHOLA",
          "ALAMDANGA",
          "CHUADANGA SADAR",
          "DAMURHUDA",
          "JIBAN NAGAR",
          "ABHAYNAGAR",
          "BAGHER PARA",
          "CHAUGACHHA",
          "JESSORE SADAR",
          "JHIKARGACHHA",
          "KESHABPUR",
          "MANIRAMPUR",
          "SHARSHA",
          "HARINAKUNDA",
          "JHENAIDAH SADAR",
          "KALIGANJ",
          "KOTCHANDPUR",
          "MAHESHPUR",
          "SHAILKUPA",
          "BATIAGHATA",
          "DACOPE",
          "DAULATPUR",
          "DIGHALIA",
          "DUMURIA",
          "KHALISHPUR",
          "KHAN JAHAN ALI",
          "KHULNA SADAR",
          "KOYRA",
          "PAIKGACHHA",
          "PHULTALA",
          "RUPSA",
          "SONADANGA",
          "TEROKHADA",
          "BHERAMARA",
          "DAULATPUR",
          "KHOKSA",
          "KUMARKHALI",
          "KUSHTIA SADAR",
          "MIRPUR",
          "MAGURA SADAR",
          "MOHAMMADPUR",
          "SHALIKHA",
          "SREEPUR",
          "GANGNI",
          "MEHERPUR SADAR",
          "MUJIB NAGAR",
          "KALIA",
          "LOHAGARA",
          "NARAIL SADAR",
          "ASSASUNI",
          "DEBHATA",
          "KALAROA",
          "KALIGANJ",
          "SATKHIRA SADAR",
          "SHYAMNAGAR",
          "TALA",
          "ADAMDIGHI",
          "BOGRA SADAR",
          "DHUNAT",
          "DHUPCHANCHIA",
          "GABTALI",
          "KAHALOO",
          "NANDIGRAM",
          "SARIAKANDI",
          "SHAJAHANPUR",
          "SHERPUR",
          "SHIBGANJ",
          "SONATOLA",
          "BHOLAHAT",
          "CHAPAI NABABGANJ SADAR",
          "GOMASTAPUR",
          "NACHOLE",
          "SHIBGANJ",
          "AKKELPUR",
          "JOYPURHAT SADAR",
          "KALAI",
          "KHETLAL",
          "PANCHBIBI",
          "ATRAI",
          "BADALGACHHI",
          "DHAMOIRHAT",
          "MAHADEBPUR",
          "MANDA",
          "NAOGAON SADAR",
          "NIAMATPUR",
          "PATNITALA",
          "PORSHA",
          "RANINAGAR",
          "SAPAHAR",
          "BAGATIPARA",
          "BARAIGRAM",
          "GURUDASPUR",
          "LALPUR",
          "NALDANGA",
          "NATORE SADAR",
          "SINGRA",
          "ATGHARIA",
          "BERA",
          "BHANGURA",
          "CHATMOHAR",
          "FARIDPUR",
          "ISHWARDI",
          "PABNA SADAR",
          "SANTHIA",
          "SUJANAGAR",
          "BAGHA",
          "BAGHMARA",
          "BOALIA",
          "CHARGHAT",
          "DURGAPUR",
          "GODAGARI",
          "MATIHAR",
          "MOHANPUR",
          "PABA",
          "PUTHIA",
          "RAJPARA",
          "SHAH MAKHDUM",
          "TANORE",
          "BELKUCHI",
          "CHAUHALI",
          "KAMARKHANDA",
          "KAZIPUR",
          "ROYGANJ",
          "SHAHJADPUR",
          "SIRAJGANJ SADAR",
          "TARASH",
          "ULLAH PARA",
          "BIRAL",
          "BIRAMPUR",
          "BIRGANJ",
          "BOCHAGANJ",
          "CHIRIRBANDAR",
          "DINAJPUR SADAR",
          "FULBARI",
          "GHORAGHAT",
          "HAKIMPUR",
          "KAHAROLE",
          "KHANSAMA",
          "NAWABGANJ",
          "PARBATIPUR",
          "FULCHHARI",
          "GAIBANDHA SADAR",
          "GOBINDAGANJ",
          "PALASHBARI",
          "SADULLAPUR",
          "SAGHATA",
          "SUNDARGANJ",
          "BHURUNGAMARI",
          "CHAR RAJIBPUR",
          "CHILMARI",
          "KURIGRAM SADAR",
          "NAGESHWARI",
          "PHULBARI",
          "RAJARHAT",
          "RAUMARI",
          "ULIPUR",
          "ADITMARI",
          "HATIBANDHA",
          "KALIGANJ",
          "LALMONIRHAT SADAR",
          "PATGRAM",
          "DIMLA",
          "DOMAR UPAZILA",
          "JALDHAKA",
          "KISHOREGANJ",
          "NILPHAMARI SADAR",
          "SAIDPUR UPAZILA",
          "ATWARI",
          "BODA",
          "DEBIGANJ",
          "PANCHAGARH SADAR",
          "TENTULIA",
          "BADARGANJ",
          "GANGACHARA",
          "KAUNIA",
          "MITHA PUKUR",
          "PIRGACHHA",
          "PIRGANJ",
          "RANGPUR SADAR",
          "TARAGANJ",
          "BALIADANGI",
          "HARIPUR",
          "PIRGANJ",
          "RANISANKAIL",
          "THAKURGAON SADAR",
          "AJMIRIGANJ",
          "BAHUBAL",
          "BANIACHONG",
          "CHUNARUGHAT",
          "HABIGANJ SADAR",
          "LAKHAI",
          "MADHABPUR",
          "NABIGANJ",
          "BARLEKHA",
          "JURI",
          "KAMALGANJ",
          "KULAURA",
          "MAULVIBAZAR SADAR",
          "RAJNAGAR",
          "SREEMANGAL",
          "BISHWAMBARPUR",
          "CHHATAK",
          "DAKSHIN SUNAMGANJ",
          "DERAI",
          "DHARAMPASHA",
          "DOWARABAZAR",
          "JAGANNATHPUR",
          "JAMALGANJ",
          "SULLA",
          "SUNAMGANJ SADAR",
          "TAHIRPUR",
          "BALAGANJ",
          "BEANI BAZAR",
          "BISHWANATH",
          "COMPANIGANJ",
          "DAKSHIN SURMA",
          "FENCHUGANJ",
          "GOLAPGANJ",
          "GOWAINGHAT",
          "JAINTIAPUR",
          "KANAIGHAT",
          "SYLHET SADAR",
          "ZAKIGANJ"
         ],
         "marker": {
          "colorbar": {
           "title": {
            "text": "Revenue"
           }
          },
          "colors": [
           55193740,
           3938585,
           10333933,
           21342497,
           5941707,
           6321413,
           4418170,
           2897435,
           457553,
           1507100,
           530739,
           301062,
           603534,
           538597,
           527109,
           701651,
           602511,
           3809355,
           1192177,
           626502,
           438452,
           605893,
           379145,
           686718,
           764420,
           12339639,
           677604,
           379946,
           381871,
           526375,
           980777,
           318213,
           524523,
           448243,
           981345,
           385331,
           464073,
           770681,
           386831,
           449115,
           385600,
           942330,
           687101,
           294480,
           595147,
           458557,
           2143660,
           454107,
           300249,
           231804,
           230381,
           546221,
           900058,
           384364,
           381924,
           820061,
           522872,
           667892,
           1966222,
           678020,
           981763,
           523497,
           696756,
           386556,
           451615,
           385241,
           607631,
           385111,
           607730,
           554801,
           834365,
           900539,
           73361,
           76622,
           77993,
           80814,
           74674,
           74089,
           152238,
           151297,
           148997,
           151782,
           151227,
           147802,
           142652,
           150237,
           154871,
           155997,
           74582,
           71847,
           77780,
           81466,
           75143,
           71515,
           78406,
           73691,
           79328,
           72089,
           75954,
           74607,
           78401,
           73206,
           71402,
           78849,
           76603,
           73340,
           77126,
           70621,
           80513,
           79348,
           81035,
           71327,
           79078,
           76675,
           76533,
           71227,
           73331,
           77149,
           73924,
           76472,
           78473,
           85497,
           72971,
           75962,
           83494,
           78100,
           73449,
           75329,
           78054,
           78795,
           74539,
           77068,
           71883,
           74366,
           75892,
           79265,
           79542,
           69956,
           154949,
           155277,
           152645,
           151167,
           149139,
           151169,
           155623,
           157586,
           146315,
           155196,
           152718,
           155896,
           151232,
           149058,
           149056,
           152120,
           153581,
           148672,
           148821,
           156966,
           151482,
           156717,
           149036,
           153845,
           151089,
           74080,
           70136,
           74784,
           75818,
           69609,
           78230,
           75153,
           72453,
           79101,
           78141,
           74265,
           73880,
           75470,
           74222,
           76057,
           70778,
           79280,
           83604,
           81426,
           73775,
           76001,
           76431,
           78873,
           77112,
           77845,
           73964,
           69236,
           69588,
           74433,
           73386,
           77407,
           78840,
           75276,
           79622,
           70032,
           79859,
           71444,
           73413,
           73171,
           79531,
           74877,
           75212,
           76354,
           77536,
           77162,
           72675,
           75944,
           81478,
           79911,
           79624,
           67707,
           74681,
           79349,
           75658,
           76924,
           75441,
           76723,
           75555,
           78136,
           73922,
           75720,
           76992,
           231341,
           230904,
           233517,
           218941,
           232826,
           224260,
           227642,
           221919,
           236953,
           239360,
           234075,
           227066,
           228076,
           225332,
           229935,
           234036,
           225661,
           229628,
           224936,
           223075,
           234905,
           230597,
           219271,
           225452,
           229116,
           210360,
           224672,
           226667,
           234015,
           234726,
           226748,
           232512,
           231723,
           224309,
           232153,
           229183,
           230333,
           234554,
           221797,
           231313,
           236829,
           232379,
           219336,
           229694,
           228670,
           227195,
           222023,
           232277,
           226190,
           227964,
           230454,
           225389,
           230721,
           226629,
           74676,
           75313,
           73372,
           79252,
           75626,
           67871,
           79981,
           77969,
           73544,
           74444,
           75885,
           73729,
           79724,
           76164,
           70976,
           73557,
           79987,
           77163,
           80188,
           78591,
           82695,
           75732,
           74323,
           76141,
           66442,
           72451,
           76914,
           73590,
           72886,
           76286,
           70941,
           73327,
           71820,
           81186,
           82027,
           75702,
           77583,
           74779,
           73736,
           81342,
           75834,
           79502,
           81535,
           72447,
           79118,
           82647,
           77590,
           70265,
           73861,
           68595,
           74355,
           75811,
           73294,
           69326,
           82549,
           72908,
           78932,
           72901,
           75775,
           73650,
           71161,
           79066,
           73198,
           74773,
           75581,
           76320,
           76094,
           75454,
           78440,
           74129,
           81951,
           76903,
           71039,
           81309,
           83835,
           77535,
           76140,
           79812,
           70622,
           76129,
           73140,
           77856,
           77587,
           75882,
           76491,
           79960,
           81300,
           73773,
           72034,
           82658,
           76765,
           76588,
           71241,
           80633,
           81604,
           69664,
           78354,
           73124,
           78641,
           75226,
           74106,
           77512,
           78686,
           72224,
           80536,
           76642,
           78468,
           74767,
           84971,
           77182,
           77713,
           71913,
           82123,
           75279,
           76485,
           83442,
           81799,
           78188,
           74628,
           76643,
           75527,
           75628,
           76660,
           78663,
           77825,
           75498,
           76029,
           73863,
           72995,
           76494,
           71128,
           74770,
           67061,
           69638,
           74271,
           76328,
           79349,
           78410,
           75320,
           75712,
           75723,
           71194,
           76000,
           79253,
           80675,
           152528,
           146274,
           153775,
           165651,
           143593,
           149149,
           153624,
           160331,
           157067,
           152528,
           150456,
           154526,
           150971,
           153187,
           73628,
           74901,
           74248,
           78145,
           79885,
           73300,
           75941,
           76632,
           74127,
           73549,
           75629,
           77072,
           79103,
           74601,
           82209,
           73571,
           75876,
           79505,
           77432,
           77980,
           76327,
           78276,
           80825,
           71767,
           75382,
           74443,
           71178,
           71060,
           78789,
           72765,
           80899,
           73823,
           72404,
           76621,
           80927,
           76097,
           74850,
           75457,
           77958,
           80002,
           81171,
           78396,
           72909,
           73126,
           76322,
           77227,
           72903,
           73393,
           77886,
           72955,
           71700,
           73642,
           74961,
           75995,
           71805,
           77594,
           76865,
           71553,
           73906,
           72701,
           77575,
           70609,
           79663,
           72230,
           73138,
           71092,
           76237,
           76178,
           79378,
           68256,
           78369,
           73014,
           147756,
           154142,
           147336,
           144720,
           158077,
           155189,
           164543,
           146127,
           154315,
           139814,
           148104,
           151292,
           154807,
           75515,
           77269,
           80714,
           72075,
           72253,
           77899,
           74249,
           76073,
           71973,
           74758,
           82885,
           76352,
           72067,
           71449,
           78181,
           72779,
           72737,
           76768,
           73225,
           77177,
           77661,
           75724,
           69982,
           73842,
           77732,
           74202,
           81296,
           74922,
           71521,
           76587,
           77682,
           78843,
           75343,
           83263,
           76900,
           76749,
           74235,
           77154,
           78681,
           75604,
           77135,
           77206,
           77930,
           73993,
           77537,
           73081,
           72784,
           81213,
           73007,
           74025,
           81973,
           76744,
           76418,
           76081,
           77765,
           76617,
           73768,
           79102,
           73212,
           77204,
           79320,
           70643,
           73944,
           78266,
           72521,
           78207,
           82173,
           73899,
           76600,
           75606,
           69274,
           75628,
           79975,
           79297,
           77451,
           77632,
           84384,
           81102,
           70968,
           84223,
           74345,
           82147,
           73873,
           80610,
           75965,
           80126,
           76895,
           77620,
           74971,
           75224,
           73190,
           70957,
           74934,
           74664,
           78393,
           73322,
           74708,
           75979,
           72509,
           79565,
           73558,
           74783,
           71598,
           77342,
           74118
          ],
          "colorscale": [
           [
            0,
            "rgb(255,255,229)"
           ],
           [
            0.125,
            "rgb(247,252,185)"
           ],
           [
            0.25,
            "rgb(217,240,163)"
           ],
           [
            0.375,
            "rgb(173,221,142)"
           ],
           [
            0.5,
            "rgb(120,198,121)"
           ],
           [
            0.625,
            "rgb(65,171,93)"
           ],
           [
            0.75,
            "rgb(35,132,67)"
           ],
           [
            0.875,
            "rgb(0,104,55)"
           ],
           [
            1,
            "rgb(0,69,41)"
           ]
          ]
         },
         "maxdepth": 2,
         "parents": [
          "",
          "All Regions",
          "All Regions",
          "All Regions",
          "All Regions",
          "All Regions",
          "All Regions",
          "All Regions",
          "BARISAL",
          "BARISAL",
          "BARISAL",
          "BARISAL",
          "BARISAL",
          "BARISAL",
          "CHITTAGONG",
          "CHITTAGONG",
          "CHITTAGONG",
          "CHITTAGONG",
          "CHITTAGONG",
          "CHITTAGONG",
          "CHITTAGONG",
          "CHITTAGONG",
          "CHITTAGONG",
          "CHITTAGONG",
          "CHITTAGONG",
          "DHAKA",
          "DHAKA",
          "DHAKA",
          "DHAKA",
          "DHAKA",
          "DHAKA",
          "DHAKA",
          "DHAKA",
          "DHAKA",
          "DHAKA",
          "DHAKA",
          "DHAKA",
          "DHAKA",
          "DHAKA",
          "DHAKA",
          "DHAKA",
          "DHAKA",
          "KHULNA",
          "KHULNA",
          "KHULNA",
          "KHULNA",
          "KHULNA",
          "KHULNA",
          "KHULNA",
          "KHULNA",
          "KHULNA",
          "KHULNA",
          "RAJSHAHI",
          "RAJSHAHI",
          "RAJSHAHI",
          "RAJSHAHI",
          "RAJSHAHI",
          "RAJSHAHI",
          "RAJSHAHI",
          "RAJSHAHI",
          "RANGPUR",
          "RANGPUR",
          "RANGPUR",
          "RANGPUR",
          "RANGPUR",
          "RANGPUR",
          "RANGPUR",
          "RANGPUR",
          "SYLHET",
          "SYLHET",
          "SYLHET",
          "SYLHET",
          "BARISAL/BARGUNA",
          "BARISAL/BARGUNA",
          "BARISAL/BARGUNA",
          "BARISAL/BARGUNA",
          "BARISAL/BARGUNA",
          "BARISAL/BARGUNA",
          "BARISAL/BARISAL",
          "BARISAL/BARISAL",
          "BARISAL/BARISAL",
          "BARISAL/BARISAL",
          "BARISAL/BARISAL",
          "BARISAL/BARISAL",
          "BARISAL/BARISAL",
          "BARISAL/BARISAL",
          "BARISAL/BARISAL",
          "BARISAL/BARISAL",
          "BARISAL/BHOLA",
          "BARISAL/BHOLA",
          "BARISAL/BHOLA",
          "BARISAL/BHOLA",
          "BARISAL/BHOLA",
          "BARISAL/BHOLA",
          "BARISAL/BHOLA",
          "BARISAL/JHALOKATI",
          "BARISAL/JHALOKATI",
          "BARISAL/JHALOKATI",
          "BARISAL/JHALOKATI",
          "BARISAL/PATUAKHALI",
          "BARISAL/PATUAKHALI",
          "BARISAL/PATUAKHALI",
          "BARISAL/PATUAKHALI",
          "BARISAL/PATUAKHALI",
          "BARISAL/PATUAKHALI",
          "BARISAL/PATUAKHALI",
          "BARISAL/PATUAKHALI",
          "BARISAL/PIROJPUR",
          "BARISAL/PIROJPUR",
          "BARISAL/PIROJPUR",
          "BARISAL/PIROJPUR",
          "BARISAL/PIROJPUR",
          "BARISAL/PIROJPUR",
          "BARISAL/PIROJPUR",
          "CHITTAGONG/BANDARBAN",
          "CHITTAGONG/BANDARBAN",
          "CHITTAGONG/BANDARBAN",
          "CHITTAGONG/BANDARBAN",
          "CHITTAGONG/BANDARBAN",
          "CHITTAGONG/BANDARBAN",
          "CHITTAGONG/BANDARBAN",
          "CHITTAGONG/BRAHMANBARIA",
          "CHITTAGONG/BRAHMANBARIA",
          "CHITTAGONG/BRAHMANBARIA",
          "CHITTAGONG/BRAHMANBARIA",
          "CHITTAGONG/BRAHMANBARIA",
          "CHITTAGONG/BRAHMANBARIA",
          "CHITTAGONG/BRAHMANBARIA",
          "CHITTAGONG/BRAHMANBARIA",
          "CHITTAGONG/BRAHMANBARIA",
          "CHITTAGONG/CHANDPUR",
          "CHITTAGONG/CHANDPUR",
          "CHITTAGONG/CHANDPUR",
          "CHITTAGONG/CHANDPUR",
          "CHITTAGONG/CHANDPUR",
          "CHITTAGONG/CHANDPUR",
          "CHITTAGONG/CHANDPUR",
          "CHITTAGONG/CHANDPUR",
          "CHITTAGONG/CHITTAGONG",
          "CHITTAGONG/CHITTAGONG",
          "CHITTAGONG/CHITTAGONG",
          "CHITTAGONG/CHITTAGONG",
          "CHITTAGONG/CHITTAGONG",
          "CHITTAGONG/CHITTAGONG",
          "CHITTAGONG/CHITTAGONG",
          "CHITTAGONG/CHITTAGONG",
          "CHITTAGONG/CHITTAGONG",
          "CHITTAGONG/CHITTAGONG",
          "CHITTAGONG/CHITTAGONG",
          "CHITTAGONG/CHITTAGONG",
          "CHITTAGONG/CHITTAGONG",
          "CHITTAGONG/CHITTAGONG",
          "CHITTAGONG/CHITTAGONG",
          "CHITTAGONG/CHITTAGONG",
          "CHITTAGONG/CHITTAGONG",
          "CHITTAGONG/CHITTAGONG",
          "CHITTAGONG/CHITTAGONG",
          "CHITTAGONG/CHITTAGONG",
          "CHITTAGONG/CHITTAGONG",
          "CHITTAGONG/CHITTAGONG",
          "CHITTAGONG/CHITTAGONG",
          "CHITTAGONG/CHITTAGONG",
          "CHITTAGONG/CHITTAGONG",
          "CHITTAGONG/COMILLA",
          "CHITTAGONG/COMILLA",
          "CHITTAGONG/COMILLA",
          "CHITTAGONG/COMILLA",
          "CHITTAGONG/COMILLA",
          "CHITTAGONG/COMILLA",
          "CHITTAGONG/COMILLA",
          "CHITTAGONG/COMILLA",
          "CHITTAGONG/COMILLA",
          "CHITTAGONG/COMILLA",
          "CHITTAGONG/COMILLA",
          "CHITTAGONG/COMILLA",
          "CHITTAGONG/COMILLA",
          "CHITTAGONG/COMILLA",
          "CHITTAGONG/COMILLA",
          "CHITTAGONG/COMILLA",
          "CHITTAGONG/COX'S BAZAR",
          "CHITTAGONG/COX'S BAZAR",
          "CHITTAGONG/COX'S BAZAR",
          "CHITTAGONG/COX'S BAZAR",
          "CHITTAGONG/COX'S BAZAR",
          "CHITTAGONG/COX'S BAZAR",
          "CHITTAGONG/COX'S BAZAR",
          "CHITTAGONG/COX'S BAZAR",
          "CHITTAGONG/FENI",
          "CHITTAGONG/FENI",
          "CHITTAGONG/FENI",
          "CHITTAGONG/FENI",
          "CHITTAGONG/FENI",
          "CHITTAGONG/FENI",
          "CHITTAGONG/KHAGRACHHARI",
          "CHITTAGONG/KHAGRACHHARI",
          "CHITTAGONG/KHAGRACHHARI",
          "CHITTAGONG/KHAGRACHHARI",
          "CHITTAGONG/KHAGRACHHARI",
          "CHITTAGONG/KHAGRACHHARI",
          "CHITTAGONG/KHAGRACHHARI",
          "CHITTAGONG/KHAGRACHHARI",
          "CHITTAGONG/LAKSHMIPUR",
          "CHITTAGONG/LAKSHMIPUR",
          "CHITTAGONG/LAKSHMIPUR",
          "CHITTAGONG/LAKSHMIPUR",
          "CHITTAGONG/LAKSHMIPUR",
          "CHITTAGONG/NOAKHALI",
          "CHITTAGONG/NOAKHALI",
          "CHITTAGONG/NOAKHALI",
          "CHITTAGONG/NOAKHALI",
          "CHITTAGONG/NOAKHALI",
          "CHITTAGONG/NOAKHALI",
          "CHITTAGONG/NOAKHALI",
          "CHITTAGONG/NOAKHALI",
          "CHITTAGONG/NOAKHALI",
          "CHITTAGONG/RANGAMATI",
          "CHITTAGONG/RANGAMATI",
          "CHITTAGONG/RANGAMATI",
          "CHITTAGONG/RANGAMATI",
          "CHITTAGONG/RANGAMATI",
          "CHITTAGONG/RANGAMATI",
          "CHITTAGONG/RANGAMATI",
          "CHITTAGONG/RANGAMATI",
          "CHITTAGONG/RANGAMATI",
          "CHITTAGONG/RANGAMATI",
          "DHAKA/DHAKA",
          "DHAKA/DHAKA",
          "DHAKA/DHAKA",
          "DHAKA/DHAKA",
          "DHAKA/DHAKA",
          "DHAKA/DHAKA",
          "DHAKA/DHAKA",
          "DHAKA/DHAKA",
          "DHAKA/DHAKA",
          "DHAKA/DHAKA",
          "DHAKA/DHAKA",
          "DHAKA/DHAKA",
          "DHAKA/DHAKA",
          "DHAKA/DHAKA",
          "DHAKA/DHAKA",
          "DHAKA/DHAKA",
          "DHAKA/DHAKA",
          "DHAKA/DHAKA",
          "DHAKA/DHAKA",
          "DHAKA/DHAKA",
          "DHAKA/DHAKA",
          "DHAKA/DHAKA",
          "DHAKA/DHAKA",
          "DHAKA/DHAKA",
          "DHAKA/DHAKA",
          "DHAKA/DHAKA",
          "DHAKA/DHAKA",
          "DHAKA/DHAKA",
          "DHAKA/DHAKA",
          "DHAKA/DHAKA",
          "DHAKA/DHAKA",
          "DHAKA/DHAKA",
          "DHAKA/DHAKA",
          "DHAKA/DHAKA",
          "DHAKA/DHAKA",
          "DHAKA/DHAKA",
          "DHAKA/DHAKA",
          "DHAKA/DHAKA",
          "DHAKA/DHAKA",
          "DHAKA/DHAKA",
          "DHAKA/DHAKA",
          "DHAKA/DHAKA",
          "DHAKA/DHAKA",
          "DHAKA/DHAKA",
          "DHAKA/DHAKA",
          "DHAKA/DHAKA",
          "DHAKA/DHAKA",
          "DHAKA/DHAKA",
          "DHAKA/DHAKA",
          "DHAKA/DHAKA",
          "DHAKA/DHAKA",
          "DHAKA/DHAKA",
          "DHAKA/DHAKA",
          "DHAKA/DHAKA",
          "DHAKA/FARIDPUR",
          "DHAKA/FARIDPUR",
          "DHAKA/FARIDPUR",
          "DHAKA/FARIDPUR",
          "DHAKA/FARIDPUR",
          "DHAKA/FARIDPUR",
          "DHAKA/FARIDPUR",
          "DHAKA/FARIDPUR",
          "DHAKA/FARIDPUR",
          "DHAKA/GAZIPUR",
          "DHAKA/GAZIPUR",
          "DHAKA/GAZIPUR",
          "DHAKA/GAZIPUR",
          "DHAKA/GAZIPUR",
          "DHAKA/GOPALGANJ",
          "DHAKA/GOPALGANJ",
          "DHAKA/GOPALGANJ",
          "DHAKA/GOPALGANJ",
          "DHAKA/GOPALGANJ",
          "DHAKA/JAMALPUR",
          "DHAKA/JAMALPUR",
          "DHAKA/JAMALPUR",
          "DHAKA/JAMALPUR",
          "DHAKA/JAMALPUR",
          "DHAKA/JAMALPUR",
          "DHAKA/JAMALPUR",
          "DHAKA/KISHOREGONJ",
          "DHAKA/KISHOREGONJ",
          "DHAKA/KISHOREGONJ",
          "DHAKA/KISHOREGONJ",
          "DHAKA/KISHOREGONJ",
          "DHAKA/KISHOREGONJ",
          "DHAKA/KISHOREGONJ",
          "DHAKA/KISHOREGONJ",
          "DHAKA/KISHOREGONJ",
          "DHAKA/KISHOREGONJ",
          "DHAKA/KISHOREGONJ",
          "DHAKA/KISHOREGONJ",
          "DHAKA/KISHOREGONJ",
          "DHAKA/MADARIPUR",
          "DHAKA/MADARIPUR",
          "DHAKA/MADARIPUR",
          "DHAKA/MADARIPUR",
          "DHAKA/MANIKGANJ",
          "DHAKA/MANIKGANJ",
          "DHAKA/MANIKGANJ",
          "DHAKA/MANIKGANJ",
          "DHAKA/MANIKGANJ",
          "DHAKA/MANIKGANJ",
          "DHAKA/MANIKGANJ",
          "DHAKA/MUNSHIGANJ",
          "DHAKA/MUNSHIGANJ",
          "DHAKA/MUNSHIGANJ",
          "DHAKA/MUNSHIGANJ",
          "DHAKA/MUNSHIGANJ",
          "DHAKA/MUNSHIGANJ",
          "DHAKA/MYMENSINGH",
          "DHAKA/MYMENSINGH",
          "DHAKA/MYMENSINGH",
          "DHAKA/MYMENSINGH",
          "DHAKA/MYMENSINGH",
          "DHAKA/MYMENSINGH",
          "DHAKA/MYMENSINGH",
          "DHAKA/MYMENSINGH",
          "DHAKA/MYMENSINGH",
          "DHAKA/MYMENSINGH",
          "DHAKA/MYMENSINGH",
          "DHAKA/MYMENSINGH",
          "DHAKA/MYMENSINGH",
          "DHAKA/NARAYANGANJ",
          "DHAKA/NARAYANGANJ",
          "DHAKA/NARAYANGANJ",
          "DHAKA/NARAYANGANJ",
          "DHAKA/NARAYANGANJ",
          "DHAKA/NARSINGDI",
          "DHAKA/NARSINGDI",
          "DHAKA/NARSINGDI",
          "DHAKA/NARSINGDI",
          "DHAKA/NARSINGDI",
          "DHAKA/NARSINGDI",
          "DHAKA/NETRAKONA",
          "DHAKA/NETRAKONA",
          "DHAKA/NETRAKONA",
          "DHAKA/NETRAKONA",
          "DHAKA/NETRAKONA",
          "DHAKA/NETRAKONA",
          "DHAKA/NETRAKONA",
          "DHAKA/NETRAKONA",
          "DHAKA/NETRAKONA",
          "DHAKA/NETRAKONA",
          "DHAKA/RAJBARI",
          "DHAKA/RAJBARI",
          "DHAKA/RAJBARI",
          "DHAKA/RAJBARI",
          "DHAKA/RAJBARI",
          "DHAKA/SHARIATPUR",
          "DHAKA/SHARIATPUR",
          "DHAKA/SHARIATPUR",
          "DHAKA/SHARIATPUR",
          "DHAKA/SHARIATPUR",
          "DHAKA/SHARIATPUR",
          "DHAKA/SHERPUR",
          "DHAKA/SHERPUR",
          "DHAKA/SHERPUR",
          "DHAKA/SHERPUR",
          "DHAKA/SHERPUR",
          "DHAKA/TANGAIL",
          "DHAKA/TANGAIL",
          "DHAKA/TANGAIL",
          "DHAKA/TANGAIL",
          "DHAKA/TANGAIL",
          "DHAKA/TANGAIL",
          "DHAKA/TANGAIL",
          "DHAKA/TANGAIL",
          "DHAKA/TANGAIL",
          "DHAKA/TANGAIL",
          "DHAKA/TANGAIL",
          "DHAKA/TANGAIL",
          "KHULNA/BAGERHAT",
          "KHULNA/BAGERHAT",
          "KHULNA/BAGERHAT",
          "KHULNA/BAGERHAT",
          "KHULNA/BAGERHAT",
          "KHULNA/BAGERHAT",
          "KHULNA/BAGERHAT",
          "KHULNA/BAGERHAT",
          "KHULNA/BAGERHAT",
          "KHULNA/CHUADANGA",
          "KHULNA/CHUADANGA",
          "KHULNA/CHUADANGA",
          "KHULNA/CHUADANGA",
          "KHULNA/JESSORE",
          "KHULNA/JESSORE",
          "KHULNA/JESSORE",
          "KHULNA/JESSORE",
          "KHULNA/JESSORE",
          "KHULNA/JESSORE",
          "KHULNA/JESSORE",
          "KHULNA/JESSORE",
          "KHULNA/JHENAIDAH",
          "KHULNA/JHENAIDAH",
          "KHULNA/JHENAIDAH",
          "KHULNA/JHENAIDAH",
          "KHULNA/JHENAIDAH",
          "KHULNA/JHENAIDAH",
          "KHULNA/KHULNA",
          "KHULNA/KHULNA",
          "KHULNA/KHULNA",
          "KHULNA/KHULNA",
          "KHULNA/KHULNA",
          "KHULNA/KHULNA",
          "KHULNA/KHULNA",
          "KHULNA/KHULNA",
          "KHULNA/KHULNA",
          "KHULNA/KHULNA",
          "KHULNA/KHULNA",
          "KHULNA/KHULNA",
          "KHULNA/KHULNA",
          "KHULNA/KHULNA",
          "KHULNA/KUSHTIA",
          "KHULNA/KUSHTIA",
          "KHULNA/KUSHTIA",
          "KHULNA/KUSHTIA",
          "KHULNA/KUSHTIA",
          "KHULNA/KUSHTIA",
          "KHULNA/MAGURA",
          "KHULNA/MAGURA",
          "KHULNA/MAGURA",
          "KHULNA/MAGURA",
          "KHULNA/MEHERPUR",
          "KHULNA/MEHERPUR",
          "KHULNA/MEHERPUR",
          "KHULNA/NARAIL",
          "KHULNA/NARAIL",
          "KHULNA/NARAIL",
          "KHULNA/SATKHIRA",
          "KHULNA/SATKHIRA",
          "KHULNA/SATKHIRA",
          "KHULNA/SATKHIRA",
          "KHULNA/SATKHIRA",
          "KHULNA/SATKHIRA",
          "KHULNA/SATKHIRA",
          "RAJSHAHI/BOGRA",
          "RAJSHAHI/BOGRA",
          "RAJSHAHI/BOGRA",
          "RAJSHAHI/BOGRA",
          "RAJSHAHI/BOGRA",
          "RAJSHAHI/BOGRA",
          "RAJSHAHI/BOGRA",
          "RAJSHAHI/BOGRA",
          "RAJSHAHI/BOGRA",
          "RAJSHAHI/BOGRA",
          "RAJSHAHI/BOGRA",
          "RAJSHAHI/BOGRA",
          "RAJSHAHI/CHAPAI NABABGANJ",
          "RAJSHAHI/CHAPAI NABABGANJ",
          "RAJSHAHI/CHAPAI NABABGANJ",
          "RAJSHAHI/CHAPAI NABABGANJ",
          "RAJSHAHI/CHAPAI NABABGANJ",
          "RAJSHAHI/JOYPURHAT",
          "RAJSHAHI/JOYPURHAT",
          "RAJSHAHI/JOYPURHAT",
          "RAJSHAHI/JOYPURHAT",
          "RAJSHAHI/JOYPURHAT",
          "RAJSHAHI/NAOGAON",
          "RAJSHAHI/NAOGAON",
          "RAJSHAHI/NAOGAON",
          "RAJSHAHI/NAOGAON",
          "RAJSHAHI/NAOGAON",
          "RAJSHAHI/NAOGAON",
          "RAJSHAHI/NAOGAON",
          "RAJSHAHI/NAOGAON",
          "RAJSHAHI/NAOGAON",
          "RAJSHAHI/NAOGAON",
          "RAJSHAHI/NAOGAON",
          "RAJSHAHI/NATORE",
          "RAJSHAHI/NATORE",
          "RAJSHAHI/NATORE",
          "RAJSHAHI/NATORE",
          "RAJSHAHI/NATORE",
          "RAJSHAHI/NATORE",
          "RAJSHAHI/NATORE",
          "RAJSHAHI/PABNA",
          "RAJSHAHI/PABNA",
          "RAJSHAHI/PABNA",
          "RAJSHAHI/PABNA",
          "RAJSHAHI/PABNA",
          "RAJSHAHI/PABNA",
          "RAJSHAHI/PABNA",
          "RAJSHAHI/PABNA",
          "RAJSHAHI/PABNA",
          "RAJSHAHI/RAJSHAHI",
          "RAJSHAHI/RAJSHAHI",
          "RAJSHAHI/RAJSHAHI",
          "RAJSHAHI/RAJSHAHI",
          "RAJSHAHI/RAJSHAHI",
          "RAJSHAHI/RAJSHAHI",
          "RAJSHAHI/RAJSHAHI",
          "RAJSHAHI/RAJSHAHI",
          "RAJSHAHI/RAJSHAHI",
          "RAJSHAHI/RAJSHAHI",
          "RAJSHAHI/RAJSHAHI",
          "RAJSHAHI/RAJSHAHI",
          "RAJSHAHI/RAJSHAHI",
          "RAJSHAHI/SIRAJGANJ",
          "RAJSHAHI/SIRAJGANJ",
          "RAJSHAHI/SIRAJGANJ",
          "RAJSHAHI/SIRAJGANJ",
          "RAJSHAHI/SIRAJGANJ",
          "RAJSHAHI/SIRAJGANJ",
          "RAJSHAHI/SIRAJGANJ",
          "RAJSHAHI/SIRAJGANJ",
          "RAJSHAHI/SIRAJGANJ",
          "RANGPUR/DINAJPUR",
          "RANGPUR/DINAJPUR",
          "RANGPUR/DINAJPUR",
          "RANGPUR/DINAJPUR",
          "RANGPUR/DINAJPUR",
          "RANGPUR/DINAJPUR",
          "RANGPUR/DINAJPUR",
          "RANGPUR/DINAJPUR",
          "RANGPUR/DINAJPUR",
          "RANGPUR/DINAJPUR",
          "RANGPUR/DINAJPUR",
          "RANGPUR/DINAJPUR",
          "RANGPUR/DINAJPUR",
          "RANGPUR/GAIBANDHA",
          "RANGPUR/GAIBANDHA",
          "RANGPUR/GAIBANDHA",
          "RANGPUR/GAIBANDHA",
          "RANGPUR/GAIBANDHA",
          "RANGPUR/GAIBANDHA",
          "RANGPUR/GAIBANDHA",
          "RANGPUR/KURIGRAM",
          "RANGPUR/KURIGRAM",
          "RANGPUR/KURIGRAM",
          "RANGPUR/KURIGRAM",
          "RANGPUR/KURIGRAM",
          "RANGPUR/KURIGRAM",
          "RANGPUR/KURIGRAM",
          "RANGPUR/KURIGRAM",
          "RANGPUR/KURIGRAM",
          "RANGPUR/LALMONIRHAT",
          "RANGPUR/LALMONIRHAT",
          "RANGPUR/LALMONIRHAT",
          "RANGPUR/LALMONIRHAT",
          "RANGPUR/LALMONIRHAT",
          "RANGPUR/NILPHAMARI",
          "RANGPUR/NILPHAMARI",
          "RANGPUR/NILPHAMARI",
          "RANGPUR/NILPHAMARI",
          "RANGPUR/NILPHAMARI",
          "RANGPUR/NILPHAMARI",
          "RANGPUR/PANCHAGARH",
          "RANGPUR/PANCHAGARH",
          "RANGPUR/PANCHAGARH",
          "RANGPUR/PANCHAGARH",
          "RANGPUR/PANCHAGARH",
          "RANGPUR/RANGPUR",
          "RANGPUR/RANGPUR",
          "RANGPUR/RANGPUR",
          "RANGPUR/RANGPUR",
          "RANGPUR/RANGPUR",
          "RANGPUR/RANGPUR",
          "RANGPUR/RANGPUR",
          "RANGPUR/RANGPUR",
          "RANGPUR/THAKURGAON",
          "RANGPUR/THAKURGAON",
          "RANGPUR/THAKURGAON",
          "RANGPUR/THAKURGAON",
          "RANGPUR/THAKURGAON",
          "SYLHET/HABIGANJ",
          "SYLHET/HABIGANJ",
          "SYLHET/HABIGANJ",
          "SYLHET/HABIGANJ",
          "SYLHET/HABIGANJ",
          "SYLHET/HABIGANJ",
          "SYLHET/HABIGANJ",
          "SYLHET/HABIGANJ",
          "SYLHET/MAULVIBAZAR",
          "SYLHET/MAULVIBAZAR",
          "SYLHET/MAULVIBAZAR",
          "SYLHET/MAULVIBAZAR",
          "SYLHET/MAULVIBAZAR",
          "SYLHET/MAULVIBAZAR",
          "SYLHET/MAULVIBAZAR",
          "SYLHET/SUNAMGANJ",
          "SYLHET/SUNAMGANJ",
          "SYLHET/SUNAMGANJ",
          "SYLHET/SUNAMGANJ",
          "SYLHET/SUNAMGANJ",
          "SYLHET/SUNAMGANJ",
          "SYLHET/SUNAMGANJ",
          "SYLHET/SUNAMGANJ",
          "SYLHET/SUNAMGANJ",
          "SYLHET/SUNAMGANJ",
          "SYLHET/SUNAMGANJ",
          "SYLHET/SYLHET",
          "SYLHET/SYLHET",
          "SYLHET/SYLHET",
          "SYLHET/SYLHET",
          "SYLHET/SYLHET",
          "SYLHET/SYLHET",
          "SYLHET/SYLHET",
          "SYLHET/SYLHET",
          "SYLHET/SYLHET",
          "SYLHET/SYLHET",
          "SYLHET/SYLHET",
          "SYLHET/SYLHET"
         ],
         "textinfo": "label+value",
         "type": "treemap",
         "values": [
          55193740,
          3938585,
          10333933,
          21342497,
          5941707,
          6321413,
          4418170,
          2897435,
          457553,
          1507100,
          530739,
          301062,
          603534,
          538597,
          527109,
          701651,
          602511,
          3809355,
          1192177,
          626502,
          438452,
          605893,
          379145,
          686718,
          764420,
          12339639,
          677604,
          379946,
          381871,
          526375,
          980777,
          318213,
          524523,
          448243,
          981345,
          385331,
          464073,
          770681,
          386831,
          449115,
          385600,
          942330,
          687101,
          294480,
          595147,
          458557,
          2143660,
          454107,
          300249,
          231804,
          230381,
          546221,
          900058,
          384364,
          381924,
          820061,
          522872,
          667892,
          1966222,
          678020,
          981763,
          523497,
          696756,
          386556,
          451615,
          385241,
          607631,
          385111,
          607730,
          554801,
          834365,
          900539,
          73361,
          76622,
          77993,
          80814,
          74674,
          74089,
          152238,
          151297,
          148997,
          151782,
          151227,
          147802,
          142652,
          150237,
          154871,
          155997,
          74582,
          71847,
          77780,
          81466,
          75143,
          71515,
          78406,
          73691,
          79328,
          72089,
          75954,
          74607,
          78401,
          73206,
          71402,
          78849,
          76603,
          73340,
          77126,
          70621,
          80513,
          79348,
          81035,
          71327,
          79078,
          76675,
          76533,
          71227,
          73331,
          77149,
          73924,
          76472,
          78473,
          85497,
          72971,
          75962,
          83494,
          78100,
          73449,
          75329,
          78054,
          78795,
          74539,
          77068,
          71883,
          74366,
          75892,
          79265,
          79542,
          69956,
          154949,
          155277,
          152645,
          151167,
          149139,
          151169,
          155623,
          157586,
          146315,
          155196,
          152718,
          155896,
          151232,
          149058,
          149056,
          152120,
          153581,
          148672,
          148821,
          156966,
          151482,
          156717,
          149036,
          153845,
          151089,
          74080,
          70136,
          74784,
          75818,
          69609,
          78230,
          75153,
          72453,
          79101,
          78141,
          74265,
          73880,
          75470,
          74222,
          76057,
          70778,
          79280,
          83604,
          81426,
          73775,
          76001,
          76431,
          78873,
          77112,
          77845,
          73964,
          69236,
          69588,
          74433,
          73386,
          77407,
          78840,
          75276,
          79622,
          70032,
          79859,
          71444,
          73413,
          73171,
          79531,
          74877,
          75212,
          76354,
          77536,
          77162,
          72675,
          75944,
          81478,
          79911,
          79624,
          67707,
          74681,
          79349,
          75658,
          76924,
          75441,
          76723,
          75555,
          78136,
          73922,
          75720,
          76992,
          231341,
          230904,
          233517,
          218941,
          232826,
          224260,
          227642,
          221919,
          236953,
          239360,
          234075,
          227066,
          228076,
          225332,
          229935,
          234036,
          225661,
          229628,
          224936,
          223075,
          234905,
          230597,
          219271,
          225452,
          229116,
          210360,
          224672,
          226667,
          234015,
          234726,
          226748,
          232512,
          231723,
          224309,
          232153,
          229183,
          230333,
          234554,
          221797,
          231313,
          236829,
          232379,
          219336,
          229694,
          228670,
          227195,
          222023,
          232277,
          226190,
          227964,
          230454,
          225389,
          230721,
          226629,
          74676,
          75313,
          73372,
          79252,
          75626,
          67871,
          79981,
          77969,
          73544,
          74444,
          75885,
          73729,
          79724,
          76164,
          70976,
          73557,
          79987,
          77163,
          80188,
          78591,
          82695,
          75732,
          74323,
          76141,
          66442,
          72451,
          76914,
          73590,
          72886,
          76286,
          70941,
          73327,
          71820,
          81186,
          82027,
          75702,
          77583,
          74779,
          73736,
          81342,
          75834,
          79502,
          81535,
          72447,
          79118,
          82647,
          77590,
          70265,
          73861,
          68595,
          74355,
          75811,
          73294,
          69326,
          82549,
          72908,
          78932,
          72901,
          75775,
          73650,
          71161,
          79066,
          73198,
          74773,
          75581,
          76320,
          76094,
          75454,
          78440,
          74129,
          81951,
          76903,
          71039,
          81309,
          83835,
          77535,
          76140,
          79812,
          70622,
          76129,
          73140,
          77856,
          77587,
          75882,
          76491,
          79960,
          81300,
          73773,
          72034,
          82658,
          76765,
          76588,
          71241,
          80633,
          81604,
          69664,
          78354,
          73124,
          78641,
          75226,
          74106,
          77512,
          78686,
          72224,
          80536,
          76642,
          78468,
          74767,
          84971,
          77182,
          77713,
          71913,
          82123,
          75279,
          76485,
          83442,
          81799,
          78188,
          74628,
          76643,
          75527,
          75628,
          76660,
          78663,
          77825,
          75498,
          76029,
          73863,
          72995,
          76494,
          71128,
          74770,
          67061,
          69638,
          74271,
          76328,
          79349,
          78410,
          75320,
          75712,
          75723,
          71194,
          76000,
          79253,
          80675,
          152528,
          146274,
          153775,
          165651,
          143593,
          149149,
          153624,
          160331,
          157067,
          152528,
          150456,
          154526,
          150971,
          153187,
          73628,
          74901,
          74248,
          78145,
          79885,
          73300,
          75941,
          76632,
          74127,
          73549,
          75629,
          77072,
          79103,
          74601,
          82209,
          73571,
          75876,
          79505,
          77432,
          77980,
          76327,
          78276,
          80825,
          71767,
          75382,
          74443,
          71178,
          71060,
          78789,
          72765,
          80899,
          73823,
          72404,
          76621,
          80927,
          76097,
          74850,
          75457,
          77958,
          80002,
          81171,
          78396,
          72909,
          73126,
          76322,
          77227,
          72903,
          73393,
          77886,
          72955,
          71700,
          73642,
          74961,
          75995,
          71805,
          77594,
          76865,
          71553,
          73906,
          72701,
          77575,
          70609,
          79663,
          72230,
          73138,
          71092,
          76237,
          76178,
          79378,
          68256,
          78369,
          73014,
          147756,
          154142,
          147336,
          144720,
          158077,
          155189,
          164543,
          146127,
          154315,
          139814,
          148104,
          151292,
          154807,
          75515,
          77269,
          80714,
          72075,
          72253,
          77899,
          74249,
          76073,
          71973,
          74758,
          82885,
          76352,
          72067,
          71449,
          78181,
          72779,
          72737,
          76768,
          73225,
          77177,
          77661,
          75724,
          69982,
          73842,
          77732,
          74202,
          81296,
          74922,
          71521,
          76587,
          77682,
          78843,
          75343,
          83263,
          76900,
          76749,
          74235,
          77154,
          78681,
          75604,
          77135,
          77206,
          77930,
          73993,
          77537,
          73081,
          72784,
          81213,
          73007,
          74025,
          81973,
          76744,
          76418,
          76081,
          77765,
          76617,
          73768,
          79102,
          73212,
          77204,
          79320,
          70643,
          73944,
          78266,
          72521,
          78207,
          82173,
          73899,
          76600,
          75606,
          69274,
          75628,
          79975,
          79297,
          77451,
          77632,
          84384,
          81102,
          70968,
          84223,
          74345,
          82147,
          73873,
          80610,
          75965,
          80126,
          76895,
          77620,
          74971,
          75224,
          73190,
          70957,
          74934,
          74664,
          78393,
          73322,
          74708,
          75979,
          72509,
          79565,
          73558,
          74783,
          71598,
          77342,
          74118
         ]
        }
       ],
       "layout": {
        "margin": {
         "b": 25,
         "l": 25,
         "r": 25,
         "t": 50
        },
        "template": {
         "data": {
          "bar": [
           {
            "error_x": {
             "color": "#2a3f5f"
            },
            "error_y": {
             "color": "#2a3f5f"
            },
            "marker": {
             "line": {
              "color": "#E5ECF6",
              "width": 0.5
             },
             "pattern": {
              "fillmode": "overlay",
              "size": 10,
              "solidity": 0.2
             }
            },
            "type": "bar"
           }
          ],
          "barpolar": [
           {
            "marker": {
             "line": {
              "color": "#E5ECF6",
              "width": 0.5
             },
             "pattern": {
              "fillmode": "overlay",
              "size": 10,
              "solidity": 0.2
             }
            },
            "type": "barpolar"
           }
          ],
          "carpet": [
           {
            "aaxis": {
             "endlinecolor": "#2a3f5f",
             "gridcolor": "white",
             "linecolor": "white",
             "minorgridcolor": "white",
             "startlinecolor": "#2a3f5f"
            },
            "baxis": {
             "endlinecolor": "#2a3f5f",
             "gridcolor": "white",
             "linecolor": "white",
             "minorgridcolor": "white",
             "startlinecolor": "#2a3f5f"
            },
            "type": "carpet"
           }
          ],
          "choropleth": [
           {
            "colorbar": {
             "outlinewidth": 0,
             "ticks": ""
            },
            "type": "choropleth"
           }
          ],
          "contour": [
           {
            "colorbar": {
             "outlinewidth": 0,
             "ticks": ""
            },
            "colorscale": [
             [
              0,
              "#0d0887"
             ],
             [
              0.1111111111111111,
              "#46039f"
             ],
             [
              0.2222222222222222,
              "#7201a8"
             ],
             [
              0.3333333333333333,
              "#9c179e"
             ],
             [
              0.4444444444444444,
              "#bd3786"
             ],
             [
              0.5555555555555556,
              "#d8576b"
             ],
             [
              0.6666666666666666,
              "#ed7953"
             ],
             [
              0.7777777777777778,
              "#fb9f3a"
             ],
             [
              0.8888888888888888,
              "#fdca26"
             ],
             [
              1,
              "#f0f921"
             ]
            ],
            "type": "contour"
           }
          ],
          "contourcarpet": [
           {
            "colorbar": {
             "outlinewidth": 0,
             "ticks": ""
            },
            "type": "contourcarpet"
           }
          ],
          "heatmap": [
           {
            "colorbar": {
             "outlinewidth": 0,
             "ticks": ""
            },
            "colorscale": [
             [
              0,
              "#0d0887"
             ],
             [
              0.1111111111111111,
              "#46039f"
             ],
             [
              0.2222222222222222,
              "#7201a8"
             ],
             [
              0.3333333333333333,
              "#9c179e"
             ],
             [
              0.4444444444444444,
              "#bd3786"
             ],
             [
              0.5555555555555556,
              "#d8576b"
             ],
             [
              0.6666666666666666,
              "#ed7953"
             ],
             [
              0.7777777777777778,
              "#fb9f3a"
             ],
             [
              0.8888888888888888,
              "#fdca26"
             ],
             [
              1,
              "#f0f921"
             ]
            ],
            "type": "heatmap"
           }
          ],
          "heatmapgl": [
           {
            "colorbar": {
             "outlinewidth": 0,
             "ticks": ""
            },
            "colorscale": [
             [
              0,
              "#0d0887"
             ],
             [
              0.1111111111111111,
              "#46039f"
             ],
             [
              0.2222222222222222,
              "#7201a8"
             ],
             [
              0.3333333333333333,
              "#9c179e"
             ],
             [
              0.4444444444444444,
              "#bd3786"
             ],
             [
              0.5555555555555556,
              "#d8576b"
             ],
             [
              0.6666666666666666,
              "#ed7953"
             ],
             [
              0.7777777777777778,
              "#fb9f3a"
             ],
             [
              0.8888888888888888,
              "#fdca26"
             ],
             [
              1,
              "#f0f921"
             ]
            ],
            "type": "heatmapgl"
           }
          ],
          "histogram": [
           {
            "marker": {
             "pattern": {
              "fillmode": "overlay",
              "size": 10,
              "solidity": 0.2
             }
            },
            "type": "histogram"
           }
          ],
          "histogram2d": [
           {
            "colorbar": {
             "outlinewidth": 0,
             "ticks": ""
            },
            "colorscale": [
             [
              0,
              "#0d0887"
             ],
             [
              0.1111111111111111,
              "#46039f"
             ],
             [
              0.2222222222222222,
              "#7201a8"
             ],
             [
              0.3333333333333333,
              "#9c179e"
             ],
             [
              0.4444444444444444,
              "#bd3786"
             ],
             [
              0.5555555555555556,
              "#d8576b"
             ],
             [
              0.6666666666666666,
              "#ed7953"
             ],
             [
              0.7777777777777778,
              "#fb9f3a"
             ],
             [
              0.8888888888888888,
              "#fdca26"
             ],
             [
              1,
              "#f0f921"
             ]
            ],
            "type": "histogram2d"
           }
          ],
          "histogram2dcontour": [
           {
            "colorbar": {
             "outlinewidth": 0,
             "ticks": ""
            },
            "colorscale": [
             [
              0,
              "#0d0887"
             ],
             [
              0.1111111111111111,
              "#46039f"
             ],
             [
              0.2222222222222222,
              "#7201a8"
             ],
             [
              0.3333333333333333,
              "#9c179e"
             ],
             [
              0.4444444444444444,
              "#bd3786"
             ],
             [
              0.5555555555555556,
              "#d8576b"
             ],
             [
              0.6666666666666666,
              "#ed7953"
             ],
             [
              0.7777777777777778,
              "#fb9f3a"
             ],
             [
              0.8888888888888888,
              "#fdca26"
             ],
             [
              1,
              "#f0f921"
             ]
            ],
            "type": "histogram2dcontour"
           }
          ],
          "mesh3d": [
           {
            "colorbar": {
             "outlinewidth": 0,
             "ticks": ""
            },
            "type": "mesh3d"
           }
          ],
          "parcoords": [
           {
            "line": {
             "colorbar": {
              "outlinewidth": 0,
              "ticks": ""
             }
            },
            "type": "parcoords"
           }
          ],
          "pie": [
           {
            "automargin": true,
            "type": "pie"
           }
          ],
          "scatter": [
           {
            "fillpattern": {
             "fillmode": "overlay",
             "size": 10,
             "solidity": 0.2
            },
            "type": "scatter"
           }
          ],
          "scatter3d": [
           {
            "line": {
             "colorbar": {
              "outlinewidth": 0,
              "ticks": ""
             }
            },
            "marker": {
             "colorbar": {
              "outlinewidth": 0,
              "ticks": ""
             }
            },
            "type": "scatter3d"
           }
          ],
          "scattercarpet": [
           {
            "marker": {
             "colorbar": {
              "outlinewidth": 0,
              "ticks": ""
             }
            },
            "type": "scattercarpet"
           }
          ],
          "scattergeo": [
           {
            "marker": {
             "colorbar": {
              "outlinewidth": 0,
              "ticks": ""
             }
            },
            "type": "scattergeo"
           }
          ],
          "scattergl": [
           {
            "marker": {
             "colorbar": {
              "outlinewidth": 0,
              "ticks": ""
             }
            },
            "type": "scattergl"
           }
          ],
          "scattermapbox": [
           {
            "marker": {
             "colorbar": {
              "outlinewidth": 0,
              "ticks": ""
             }
            },
            "type": "scattermapbox"
           }
          ],
          "scatterpolar": [
           {
            "marker": {
             "colorbar": {
              "outlinewidth": 0,
              "ticks": ""
             }
            },
            "type": "scatterpolar"
           }
          ],
          "scatterpolargl": [
           {
            "marker": {
             "colorbar": {
              "outlinewidth": 0,
              "ticks": ""
             }
            },
            "type": "scatterpolargl"
           }
          ],
          "scatterternary": [
           {
            "marker": {
             "colorbar": {
              "outlinewidth": 0,
              "ticks": ""
             }
            },
            "type": "scatterternary"
           }
          ],
          "surface": [
           {
            "colorbar": {
             "outlinewidth": 0,
             "ticks": ""
            },
            "colorscale": [
             [
              0,
              "#0d0887"
             ],
             [
              0.1111111111111111,
              "#46039f"
             ],
             [
              0.2222222222222222,
              "#7201a8"
             ],
             [
              0.3333333333333333,
              "#9c179e"
             ],
             [
              0.4444444444444444,
              "#bd3786"
             ],
             [
              0.5555555555555556,
              "#d8576b"
             ],
             [
              0.6666666666666666,
              "#ed7953"
             ],
             [
              0.7777777777777778,
              "#fb9f3a"
             ],
             [
              0.8888888888888888,
              "#fdca26"
             ],
             [
              1,
              "#f0f921"
             ]
            ],
            "type": "surface"
           }
          ],
          "table": [
           {
            "cells": {
             "fill": {
              "color": "#EBF0F8"
             },
             "line": {
              "color": "white"
             }
            },
            "header": {
             "fill": {
              "color": "#C8D4E3"
             },
             "line": {
              "color": "white"
             }
            },
            "type": "table"
           }
          ]
         },
         "layout": {
          "annotationdefaults": {
           "arrowcolor": "#2a3f5f",
           "arrowhead": 0,
           "arrowwidth": 1
          },
          "autotypenumbers": "strict",
          "coloraxis": {
           "colorbar": {
            "outlinewidth": 0,
            "ticks": ""
           }
          },
          "colorscale": {
           "diverging": [
            [
             0,
             "#8e0152"
            ],
            [
             0.1,
             "#c51b7d"
            ],
            [
             0.2,
             "#de77ae"
            ],
            [
             0.3,
             "#f1b6da"
            ],
            [
             0.4,
             "#fde0ef"
            ],
            [
             0.5,
             "#f7f7f7"
            ],
            [
             0.6,
             "#e6f5d0"
            ],
            [
             0.7,
             "#b8e186"
            ],
            [
             0.8,
             "#7fbc41"
            ],
            [
             0.9,
             "#4d9221"
            ],
            [
             1,
             "#276419"
            ]
           ],
           "sequential": [
            [
             0,
             "#0d0887"
            ],
            [
             0.1111111111111111,
             "#46039f"
            ],
            [
             0.2222222222222222,
             "#7201a8"
            ],
            [
             0.3333333333333333,
             "#9c179e"
            ],
            [
             0.4444444444444444,
             "#bd3786"
            ],
            [
             0.5555555555555556,
             "#d8576b"
            ],
            [
             0.6666666666666666,
             "#ed7953"
            ],
            [
             0.7777777777777778,
             "#fb9f3a"
            ],
            [
             0.8888888888888888,
             "#fdca26"
            ],
            [
             1,
             "#f0f921"
            ]
           ],
           "sequentialminus": [
            [
             0,
             "#0d0887"
            ],
            [
             0.1111111111111111,
             "#46039f"
            ],
            [
             0.2222222222222222,
             "#7201a8"
            ],
            [
             0.3333333333333333,
             "#9c179e"
            ],
            [
             0.4444444444444444,
             "#bd3786"
            ],
            [
             0.5555555555555556,
             "#d8576b"
            ],
            [
             0.6666666666666666,
             "#ed7953"
            ],
            [
             0.7777777777777778,
             "#fb9f3a"
            ],
            [
             0.8888888888888888,
             "#fdca26"
            ],
            [
             1,
             "#f0f921"
            ]
           ]
          },
          "colorway": [
           "#636efa",
           "#EF553B",
           "#00cc96",
           "#ab63fa",
           "#FFA15A",
           "#19d3f3",
           "#FF6692",
           "#B6E880",
           "#FF97FF",
           "#FECB52"
          ],
          "font": {
           "color": "#2a3f5f"
          },
          "geo": {
           "bgcolor": "white",
           "lakecolor": "white",
           "landcolor": "#E5ECF6",
           "showlakes": true,
           "showland": true,
           "subunitcolor": "white"
          },
          "hoverlabel": {
           "align": "left"
          },
          "hovermode": "closest",
          "mapbox": {
           "style": "light"
          },
          "paper_bgcolor": "white",
          "plot_bgcolor": "#E5ECF6",
          "polar": {
           "angularaxis": {
            "gridcolor": "white",
            "linecolor": "white",
            "ticks": ""
           },
           "bgcolor": "#E5ECF6",
           "radialaxis": {
            "gridcolor": "white",
            "linecolor": "white",
            "ticks": ""
           }
          },
          "scene": {
           "xaxis": {
            "backgroundcolor": "#E5ECF6",
            "gridcolor": "white",
            "gridwidth": 2,
            "linecolor": "white",
            "showbackground": true,
            "ticks": "",
            "zerolinecolor": "white"
           },
           "yaxis": {
            "backgroundcolor": "#E5ECF6",
            "gridcolor": "white",
            "gridwidth": 2,
            "linecolor": "white",
            "showbackground": true,
            "ticks": "",
            "zerolinecolor": "white"
           },
           "zaxis": {
            "backgroundcolor": "#E5ECF6",
            "gridcolor": "white",
            "gridwidth": 2,
            "linecolor": "white",
            "showbackground": true,
            "ticks": "",
            "zerolinecolor": "white"
           }
          },
          "shapedefaults": {
           "line": {
            "color": "#2a3f5f"
           }
          },
          "ternary": {
           "aaxis": {
            "gridcolor": "white",
            "linecolor": "white",
            "ticks": ""
           },
           "baxis": {
            "gridcolor": "white",
            "linecolor": "white",
            "ticks": ""
           },
           "bgcolor": "#E5ECF6",
           "caxis": {
            "gridcolor": "white",
            "linecolor": "white",
            "ticks": ""
           }
          },
          "title": {
           "x": 0.05
          },
          "xaxis": {
           "automargin": true,
           "gridcolor": "white",
           "linecolor": "white",
           "ticks": "",
           "title": {
            "standoff": 15
           },
           "zerolinecolor": "white",
           "zerolinewidth": 2
          },
          "yaxis": {
           "automargin": true,
           "gridcolor": "white",
           "linecolor": "white",
           "ticks": "",
           "title": {
            "standoff": 15
           },
           "zerolinecolor": "white",
           "zerolinewidth": 2
          }
         }
        },
        "title": {
         "text": "Revenue by Store Region, District, and Sub-District"
        }
       }
      }
     },
     "metadata": {},
     "output_type": "display_data"
    }
   ],
   "source": [
    "\n",
    "# Step 1: Data Preparation\n",
    "data['revenue'] = pd.to_numeric(data['revenue'], errors='coerce')\n",
    "data_clean = data.dropna(subset=['store_region', 'store_district', 'store_sub_district', 'revenue'])\n",
    "\n",
    "# Step 2: Build Hierarchical Data\n",
    "\n",
    "# Sub-Districts\n",
    "sub_districts = data_clean.groupby(['store_region', 'store_district', 'store_sub_district'], as_index=False)['revenue'].sum()\n",
    "sub_districts['id'] = sub_districts['store_region'] + '/' + sub_districts['store_district'] + '/' + sub_districts['store_sub_district']\n",
    "sub_districts['parent'] = sub_districts['store_region'] + '/' + sub_districts['store_district']\n",
    "sub_districts['label'] = sub_districts['store_sub_district']\n",
    "sub_districts['level'] = 2\n",
    "\n",
    "# Districts\n",
    "districts = data_clean.groupby(['store_region', 'store_district'], as_index=False)['revenue'].sum()\n",
    "districts['id'] = districts['store_region'] + '/' + districts['store_district']\n",
    "districts['parent'] = districts['store_region']\n",
    "districts['label'] = districts['store_district']\n",
    "districts['level'] = 1\n",
    "\n",
    "# Regions\n",
    "regions = data_clean.groupby(['store_region'], as_index=False)['revenue'].sum()\n",
    "regions['id'] = regions['store_region']\n",
    "regions['parent'] = 'All Regions'\n",
    "regions['label'] = regions['store_region']\n",
    "regions['level'] = 0\n",
    "\n",
    "# Root Node\n",
    "root = pd.DataFrame({\n",
    "    'id': ['All Regions'],\n",
    "    'parent': [''],\n",
    "    'label': ['All Regions'],\n",
    "    'revenue': [regions['revenue'].sum()],\n",
    "    'level': -1  # Root level\n",
    "})\n",
    "\n",
    "# Combine DataFrames\n",
    "all_data = pd.concat(\n",
    "    [root[['id', 'parent', 'label', 'revenue', 'level']],\n",
    "     regions[['id', 'parent', 'label', 'revenue', 'level']],\n",
    "     districts[['id', 'parent', 'label', 'revenue', 'level']],\n",
    "     sub_districts[['id', 'parent', 'label', 'revenue', 'level']]],\n",
    "    ignore_index=True\n",
    ")\n",
    "\n",
    "# Step 3: Create the Treemap\n",
    "fig = go.Figure(go.Treemap(\n",
    "    labels=all_data['label'],\n",
    "    parents=all_data['parent'],\n",
    "    ids=all_data['id'],\n",
    "    values=all_data['revenue'],\n",
    "    branchvalues='total',\n",
    "    maxdepth=2,  # Initial view shows up to districts\n",
    "    textinfo='label+value',\n",
    "    hovertemplate='<b>%{label}</b><br>Revenue: $%{value:,.2f}<extra></extra>',\n",
    "    marker=dict(\n",
    "        colors=all_data['revenue'],\n",
    "        colorscale='ylgn',\n",
    "        colorbar=dict(title='Revenue'),\n",
    "    )))\n",
    "\n",
    "# Step 4: Update Layout and Traces\n",
    "fig.update_layout(\n",
    "    title='Revenue by Store Region, District, and Sub-District',\n",
    "    margin=dict(t=50, l=25, r=25, b=25)\n",
    ")\n",
    "\n",
    "# Adjust font sizes and colors\n",
    "fig.update_traces(\n",
    "    insidetextfont=dict(size=14, color='black'),\n",
    "    selector=dict(type='treemap')\n",
    ")\n",
    "\n",
    "# Step 5: Display the Treemap\n",
    "fig.show()\n",
    "\n"
   ]
  }
 ],
 "metadata": {
  "kernelspec": {
   "display_name": "Python 3",
   "language": "python",
   "name": "python3"
  },
  "language_info": {
   "codemirror_mode": {
    "name": "ipython",
    "version": 3
   },
   "file_extension": ".py",
   "mimetype": "text/x-python",
   "name": "python",
   "nbconvert_exporter": "python",
   "pygments_lexer": "ipython3",
   "version": "3.10.6"
  }
 },
 "nbformat": 4,
 "nbformat_minor": 2
}

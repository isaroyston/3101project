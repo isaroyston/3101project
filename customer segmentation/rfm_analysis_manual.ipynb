{
 "cells": [
  {
   "cell_type": "markdown",
   "metadata": {},
   "source": [
    "RFM_Analysis (Standard Tresholding method)"
   ]
  },
  {
   "cell_type": "markdown",
   "metadata": {},
   "source": [
    "**Overview**\n",
    "\n",
    "This notebook performs customer segmentation based on RFM (Recency, Frequency, and Monetary) analysis using manually tresholding of RFM scores. "
   ]
  },
  {
   "cell_type": "markdown",
   "metadata": {},
   "source": [
    "**Requirements**\n",
    "\n",
    "- **Inputs**: Manually specify the reference date, analysis start and end dates, the tresholding for each cluster can be changed in the .py file that this notebook references based on changing needs\n",
    "- **Outputs**: Cluster analysis report and a DataFrame/CSV output of at-risk customers.\n"
   ]
  },
  {
   "cell_type": "code",
   "execution_count": null,
   "metadata": {},
   "outputs": [],
   "source": [
    "# import \n",
    "import pandas as pd\n",
    "from datetime import datetime\n",
    "import matplotlib.pyplot as plt\n",
    "import seaborn as sns\n",
    "from rfm_analysis import *"
   ]
  },
  {
   "cell_type": "code",
   "execution_count": 2,
   "metadata": {},
   "outputs": [
    {
     "name": "stderr",
     "output_type": "stream",
     "text": [
      "C:\\Users\\Richelle\\AppData\\Local\\Temp\\ipykernel_32348\\1633486771.py:7: DtypeWarning: Columns (18,19) have mixed types. Specify dtype option on import or set low_memory=False.\n",
      "  df = pd.read_csv('data_final.csv')\n",
      "C:\\Users\\Richelle\\AppData\\Local\\Temp\\ipykernel_32348\\1633486771.py:10: UserWarning: Parsing dates in %d/%m/%Y format when dayfirst=False (the default) was specified. Pass `dayfirst=True` or specify a format to silence this warning.\n",
      "  df['purchase_date'] = pd.to_datetime(df['purchase_date'])\n"
     ]
    },
    {
     "data": {
      "text/html": [
       "<div>\n",
       "<style scoped>\n",
       "    .dataframe tbody tr th:only-of-type {\n",
       "        vertical-align: middle;\n",
       "    }\n",
       "\n",
       "    .dataframe tbody tr th {\n",
       "        vertical-align: top;\n",
       "    }\n",
       "\n",
       "    .dataframe thead th {\n",
       "        text-align: right;\n",
       "    }\n",
       "</style>\n",
       "<table border=\"1\" class=\"dataframe\">\n",
       "  <thead>\n",
       "    <tr style=\"text-align: right;\">\n",
       "      <th></th>\n",
       "      <th>customer_key</th>\n",
       "      <th>quantity_purchased</th>\n",
       "      <th>revenue</th>\n",
       "      <th>purchase_date</th>\n",
       "      <th>time_of_purchase</th>\n",
       "    </tr>\n",
       "  </thead>\n",
       "  <tbody>\n",
       "    <tr>\n",
       "      <th>0</th>\n",
       "      <td>C001743</td>\n",
       "      <td>4</td>\n",
       "      <td>56</td>\n",
       "      <td>2014-05-25</td>\n",
       "      <td>16:20:00</td>\n",
       "    </tr>\n",
       "    <tr>\n",
       "      <th>1</th>\n",
       "      <td>C008827</td>\n",
       "      <td>11</td>\n",
       "      <td>22</td>\n",
       "      <td>2018-12-31</td>\n",
       "      <td>15:03:00</td>\n",
       "    </tr>\n",
       "    <tr>\n",
       "      <th>2</th>\n",
       "      <td>C008830</td>\n",
       "      <td>11</td>\n",
       "      <td>143</td>\n",
       "      <td>2015-12-21</td>\n",
       "      <td>12:28:00</td>\n",
       "    </tr>\n",
       "    <tr>\n",
       "      <th>3</th>\n",
       "      <td>C004301</td>\n",
       "      <td>5</td>\n",
       "      <td>160</td>\n",
       "      <td>2014-05-25</td>\n",
       "      <td>16:20:00</td>\n",
       "    </tr>\n",
       "    <tr>\n",
       "      <th>4</th>\n",
       "      <td>C008848</td>\n",
       "      <td>10</td>\n",
       "      <td>90</td>\n",
       "      <td>2020-12-22</td>\n",
       "      <td>19:51:00</td>\n",
       "    </tr>\n",
       "    <tr>\n",
       "      <th>5</th>\n",
       "      <td>C005060</td>\n",
       "      <td>5</td>\n",
       "      <td>19</td>\n",
       "      <td>2015-02-28</td>\n",
       "      <td>18:36:00</td>\n",
       "    </tr>\n",
       "    <tr>\n",
       "      <th>6</th>\n",
       "      <td>C008854</td>\n",
       "      <td>9</td>\n",
       "      <td>18</td>\n",
       "      <td>2020-04-16</td>\n",
       "      <td>4:56:00</td>\n",
       "    </tr>\n",
       "    <tr>\n",
       "      <th>7</th>\n",
       "      <td>C008874</td>\n",
       "      <td>4</td>\n",
       "      <td>136</td>\n",
       "      <td>2019-06-25</td>\n",
       "      <td>0:31:00</td>\n",
       "    </tr>\n",
       "    <tr>\n",
       "      <th>8</th>\n",
       "      <td>C008876</td>\n",
       "      <td>14</td>\n",
       "      <td>70</td>\n",
       "      <td>2016-12-15</td>\n",
       "      <td>11:16:00</td>\n",
       "    </tr>\n",
       "    <tr>\n",
       "      <th>9</th>\n",
       "      <td>C008881</td>\n",
       "      <td>11</td>\n",
       "      <td>66</td>\n",
       "      <td>2019-06-22</td>\n",
       "      <td>23:04:00</td>\n",
       "    </tr>\n",
       "  </tbody>\n",
       "</table>\n",
       "</div>"
      ],
      "text/plain": [
       "  customer_key  quantity_purchased  revenue purchase_date time_of_purchase\n",
       "0      C001743                   4       56    2014-05-25         16:20:00\n",
       "1      C008827                  11       22    2018-12-31         15:03:00\n",
       "2      C008830                  11      143    2015-12-21         12:28:00\n",
       "3      C004301                   5      160    2014-05-25         16:20:00\n",
       "4      C008848                  10       90    2020-12-22         19:51:00\n",
       "5      C005060                   5       19    2015-02-28         18:36:00\n",
       "6      C008854                   9       18    2020-04-16          4:56:00\n",
       "7      C008874                   4      136    2019-06-25          0:31:00\n",
       "8      C008876                  14       70    2016-12-15         11:16:00\n",
       "9      C008881                  11       66    2019-06-22         23:04:00"
      ]
     },
     "execution_count": 2,
     "metadata": {},
     "output_type": "execute_result"
    }
   ],
   "source": [
    "# set custom analysis dates\n",
    "ref_date = '2021-01-01'\n",
    "start_date = '2020-01-01'\n",
    "end_date = '2020-12-31'\n",
    "\n",
    "# loading\n",
    "df = pd.read_csv('data_final.csv')\n",
    "\n",
    "# cleaning \n",
    "df['purchase_date'] = pd.to_datetime(df['purchase_date'])\n",
    "\n",
    "# seleting required columns \n",
    "df = df[['customer_key', 'quantity_purchased', 'revenue', 'purchase_date', 'time_of_purchase']]\n",
    "\n",
    "df.head(10)"
   ]
  },
  {
   "cell_type": "code",
   "execution_count": 3,
   "metadata": {},
   "outputs": [
    {
     "data": {
      "text/html": [
       "<div>\n",
       "<style scoped>\n",
       "    .dataframe tbody tr th:only-of-type {\n",
       "        vertical-align: middle;\n",
       "    }\n",
       "\n",
       "    .dataframe tbody tr th {\n",
       "        vertical-align: top;\n",
       "    }\n",
       "\n",
       "    .dataframe thead th {\n",
       "        text-align: right;\n",
       "    }\n",
       "</style>\n",
       "<table border=\"1\" class=\"dataframe\">\n",
       "  <thead>\n",
       "    <tr style=\"text-align: right;\">\n",
       "      <th></th>\n",
       "      <th>customer_key</th>\n",
       "      <th>quantity_purchased</th>\n",
       "      <th>revenue</th>\n",
       "      <th>purchase_date</th>\n",
       "      <th>time_of_purchase</th>\n",
       "      <th>cumulative_revenue</th>\n",
       "      <th>cumulative_quantity</th>\n",
       "    </tr>\n",
       "  </thead>\n",
       "  <tbody>\n",
       "    <tr>\n",
       "      <th>34860</th>\n",
       "      <td>C000001</td>\n",
       "      <td>11</td>\n",
       "      <td>143</td>\n",
       "      <td>2014-02-06</td>\n",
       "      <td>4:56:00</td>\n",
       "      <td>275</td>\n",
       "      <td>22</td>\n",
       "    </tr>\n",
       "    <tr>\n",
       "      <th>690838</th>\n",
       "      <td>C000001</td>\n",
       "      <td>7</td>\n",
       "      <td>77</td>\n",
       "      <td>2014-02-21</td>\n",
       "      <td>16:16:00</td>\n",
       "      <td>2281</td>\n",
       "      <td>309</td>\n",
       "    </tr>\n",
       "    <tr>\n",
       "      <th>292237</th>\n",
       "      <td>C000001</td>\n",
       "      <td>6</td>\n",
       "      <td>18</td>\n",
       "      <td>2014-02-22</td>\n",
       "      <td>19:43:00</td>\n",
       "      <td>1110</td>\n",
       "      <td>142</td>\n",
       "    </tr>\n",
       "    <tr>\n",
       "      <th>437355</th>\n",
       "      <td>C000001</td>\n",
       "      <td>2</td>\n",
       "      <td>10</td>\n",
       "      <td>2014-04-03</td>\n",
       "      <td>20:46:00</td>\n",
       "      <td>1475</td>\n",
       "      <td>191</td>\n",
       "    </tr>\n",
       "    <tr>\n",
       "      <th>717631</th>\n",
       "      <td>C000001</td>\n",
       "      <td>7</td>\n",
       "      <td>49</td>\n",
       "      <td>2014-05-18</td>\n",
       "      <td>16:50:00</td>\n",
       "      <td>2330</td>\n",
       "      <td>316</td>\n",
       "    </tr>\n",
       "    <tr>\n",
       "      <th>...</th>\n",
       "      <td>...</td>\n",
       "      <td>...</td>\n",
       "      <td>...</td>\n",
       "      <td>...</td>\n",
       "      <td>...</td>\n",
       "      <td>...</td>\n",
       "      <td>...</td>\n",
       "    </tr>\n",
       "    <tr>\n",
       "      <th>937055</th>\n",
       "      <td>C000002</td>\n",
       "      <td>9</td>\n",
       "      <td>45</td>\n",
       "      <td>2014-10-17</td>\n",
       "      <td>3:12:00</td>\n",
       "      <td>5606</td>\n",
       "      <td>629</td>\n",
       "    </tr>\n",
       "    <tr>\n",
       "      <th>890212</th>\n",
       "      <td>C000002</td>\n",
       "      <td>7</td>\n",
       "      <td>56</td>\n",
       "      <td>2014-10-21</td>\n",
       "      <td>12:10:00</td>\n",
       "      <td>5208</td>\n",
       "      <td>572</td>\n",
       "    </tr>\n",
       "    <tr>\n",
       "      <th>890213</th>\n",
       "      <td>C000002</td>\n",
       "      <td>11</td>\n",
       "      <td>77</td>\n",
       "      <td>2014-10-24</td>\n",
       "      <td>14:15:00</td>\n",
       "      <td>5285</td>\n",
       "      <td>583</td>\n",
       "    </tr>\n",
       "    <tr>\n",
       "      <th>718195</th>\n",
       "      <td>C000002</td>\n",
       "      <td>3</td>\n",
       "      <td>6</td>\n",
       "      <td>2014-10-25</td>\n",
       "      <td>8:24:00</td>\n",
       "      <td>3919</td>\n",
       "      <td>451</td>\n",
       "    </tr>\n",
       "    <tr>\n",
       "      <th>205013</th>\n",
       "      <td>C000002</td>\n",
       "      <td>8</td>\n",
       "      <td>56</td>\n",
       "      <td>2014-11-15</td>\n",
       "      <td>18:26:00</td>\n",
       "      <td>1462</td>\n",
       "      <td>172</td>\n",
       "    </tr>\n",
       "  </tbody>\n",
       "</table>\n",
       "<p>100 rows × 7 columns</p>\n",
       "</div>"
      ],
      "text/plain": [
       "       customer_key  quantity_purchased  revenue purchase_date  \\\n",
       "34860       C000001                  11      143    2014-02-06   \n",
       "690838      C000001                   7       77    2014-02-21   \n",
       "292237      C000001                   6       18    2014-02-22   \n",
       "437355      C000001                   2       10    2014-04-03   \n",
       "717631      C000001                   7       49    2014-05-18   \n",
       "...             ...                 ...      ...           ...   \n",
       "937055      C000002                   9       45    2014-10-17   \n",
       "890212      C000002                   7       56    2014-10-21   \n",
       "890213      C000002                  11       77    2014-10-24   \n",
       "718195      C000002                   3        6    2014-10-25   \n",
       "205013      C000002                   8       56    2014-11-15   \n",
       "\n",
       "       time_of_purchase  cumulative_revenue  cumulative_quantity  \n",
       "34860           4:56:00                 275                   22  \n",
       "690838         16:16:00                2281                  309  \n",
       "292237         19:43:00                1110                  142  \n",
       "437355         20:46:00                1475                  191  \n",
       "717631         16:50:00                2330                  316  \n",
       "...                 ...                 ...                  ...  \n",
       "937055          3:12:00                5606                  629  \n",
       "890212         12:10:00                5208                  572  \n",
       "890213         14:15:00                5285                  583  \n",
       "718195          8:24:00                3919                  451  \n",
       "205013         18:26:00                1462                  172  \n",
       "\n",
       "[100 rows x 7 columns]"
      ]
     },
     "execution_count": 3,
     "metadata": {},
     "output_type": "execute_result"
    }
   ],
   "source": [
    "# creating cumulative columns for each customer based on purchase date\n",
    "df['cumulative_revenue'] = df.groupby('customer_key')['revenue'].cumsum()\n",
    "df['cumulative_quantity'] = df.groupby('customer_key')['quantity_purchased'].cumsum()\n",
    "\n",
    "df = df.sort_values(by=['customer_key', 'purchase_date'])\n",
    "df.head(100)"
   ]
  },
  {
   "cell_type": "code",
   "execution_count": 4,
   "metadata": {},
   "outputs": [
    {
     "data": {
      "text/html": [
       "<div>\n",
       "<style scoped>\n",
       "    .dataframe tbody tr th:only-of-type {\n",
       "        vertical-align: middle;\n",
       "    }\n",
       "\n",
       "    .dataframe tbody tr th {\n",
       "        vertical-align: top;\n",
       "    }\n",
       "\n",
       "    .dataframe thead th {\n",
       "        text-align: right;\n",
       "    }\n",
       "</style>\n",
       "<table border=\"1\" class=\"dataframe\">\n",
       "  <thead>\n",
       "    <tr style=\"text-align: right;\">\n",
       "      <th></th>\n",
       "      <th>customer_key</th>\n",
       "      <th>purchase_date</th>\n",
       "      <th>Recency</th>\n",
       "      <th>Frequency</th>\n",
       "      <th>Monetary</th>\n",
       "      <th>R_Score</th>\n",
       "      <th>F_Score</th>\n",
       "      <th>M_Score</th>\n",
       "      <th>RFM_Segment</th>\n",
       "      <th>RFM_Score</th>\n",
       "    </tr>\n",
       "  </thead>\n",
       "  <tbody>\n",
       "    <tr>\n",
       "      <th>0</th>\n",
       "      <td>C000001</td>\n",
       "      <td>2020-12-30</td>\n",
       "      <td>2</td>\n",
       "      <td>5</td>\n",
       "      <td>285</td>\n",
       "      <td>5</td>\n",
       "      <td>1</td>\n",
       "      <td>1</td>\n",
       "      <td>511</td>\n",
       "      <td>7</td>\n",
       "    </tr>\n",
       "    <tr>\n",
       "      <th>1</th>\n",
       "      <td>C000002</td>\n",
       "      <td>2020-11-22</td>\n",
       "      <td>40</td>\n",
       "      <td>12</td>\n",
       "      <td>587</td>\n",
       "      <td>1</td>\n",
       "      <td>1</td>\n",
       "      <td>2</td>\n",
       "      <td>112</td>\n",
       "      <td>4</td>\n",
       "    </tr>\n",
       "    <tr>\n",
       "      <th>2</th>\n",
       "      <td>C000003</td>\n",
       "      <td>2020-11-02</td>\n",
       "      <td>60</td>\n",
       "      <td>8</td>\n",
       "      <td>303</td>\n",
       "      <td>1</td>\n",
       "      <td>1</td>\n",
       "      <td>1</td>\n",
       "      <td>111</td>\n",
       "      <td>3</td>\n",
       "    </tr>\n",
       "    <tr>\n",
       "      <th>3</th>\n",
       "      <td>C000004</td>\n",
       "      <td>2020-12-21</td>\n",
       "      <td>11</td>\n",
       "      <td>17</td>\n",
       "      <td>389</td>\n",
       "      <td>4</td>\n",
       "      <td>4</td>\n",
       "      <td>1</td>\n",
       "      <td>441</td>\n",
       "      <td>9</td>\n",
       "    </tr>\n",
       "    <tr>\n",
       "      <th>4</th>\n",
       "      <td>C000005</td>\n",
       "      <td>2020-11-23</td>\n",
       "      <td>39</td>\n",
       "      <td>12</td>\n",
       "      <td>663</td>\n",
       "      <td>1</td>\n",
       "      <td>1</td>\n",
       "      <td>2</td>\n",
       "      <td>112</td>\n",
       "      <td>4</td>\n",
       "    </tr>\n",
       "    <tr>\n",
       "      <th>5</th>\n",
       "      <td>C000006</td>\n",
       "      <td>2020-11-18</td>\n",
       "      <td>44</td>\n",
       "      <td>21</td>\n",
       "      <td>1189</td>\n",
       "      <td>1</td>\n",
       "      <td>5</td>\n",
       "      <td>5</td>\n",
       "      <td>155</td>\n",
       "      <td>11</td>\n",
       "    </tr>\n",
       "    <tr>\n",
       "      <th>6</th>\n",
       "      <td>C000007</td>\n",
       "      <td>2020-12-20</td>\n",
       "      <td>12</td>\n",
       "      <td>19</td>\n",
       "      <td>1107</td>\n",
       "      <td>3</td>\n",
       "      <td>4</td>\n",
       "      <td>4</td>\n",
       "      <td>344</td>\n",
       "      <td>11</td>\n",
       "    </tr>\n",
       "    <tr>\n",
       "      <th>7</th>\n",
       "      <td>C000008</td>\n",
       "      <td>2020-12-24</td>\n",
       "      <td>8</td>\n",
       "      <td>12</td>\n",
       "      <td>475</td>\n",
       "      <td>4</td>\n",
       "      <td>1</td>\n",
       "      <td>1</td>\n",
       "      <td>411</td>\n",
       "      <td>6</td>\n",
       "    </tr>\n",
       "    <tr>\n",
       "      <th>8</th>\n",
       "      <td>C000009</td>\n",
       "      <td>2020-11-11</td>\n",
       "      <td>51</td>\n",
       "      <td>23</td>\n",
       "      <td>1491</td>\n",
       "      <td>1</td>\n",
       "      <td>5</td>\n",
       "      <td>5</td>\n",
       "      <td>155</td>\n",
       "      <td>11</td>\n",
       "    </tr>\n",
       "    <tr>\n",
       "      <th>9</th>\n",
       "      <td>C000010</td>\n",
       "      <td>2020-12-03</td>\n",
       "      <td>29</td>\n",
       "      <td>15</td>\n",
       "      <td>538</td>\n",
       "      <td>2</td>\n",
       "      <td>3</td>\n",
       "      <td>1</td>\n",
       "      <td>231</td>\n",
       "      <td>6</td>\n",
       "    </tr>\n",
       "  </tbody>\n",
       "</table>\n",
       "</div>"
      ],
      "text/plain": [
       "  customer_key purchase_date  Recency  Frequency  Monetary R_Score F_Score  \\\n",
       "0      C000001    2020-12-30        2          5       285       5       1   \n",
       "1      C000002    2020-11-22       40         12       587       1       1   \n",
       "2      C000003    2020-11-02       60          8       303       1       1   \n",
       "3      C000004    2020-12-21       11         17       389       4       4   \n",
       "4      C000005    2020-11-23       39         12       663       1       1   \n",
       "5      C000006    2020-11-18       44         21      1189       1       5   \n",
       "6      C000007    2020-12-20       12         19      1107       3       4   \n",
       "7      C000008    2020-12-24        8         12       475       4       1   \n",
       "8      C000009    2020-11-11       51         23      1491       1       5   \n",
       "9      C000010    2020-12-03       29         15       538       2       3   \n",
       "\n",
       "  M_Score RFM_Segment  RFM_Score  \n",
       "0       1         511          7  \n",
       "1       2         112          4  \n",
       "2       1         111          3  \n",
       "3       1         441          9  \n",
       "4       2         112          4  \n",
       "5       5         155         11  \n",
       "6       4         344         11  \n",
       "7       1         411          6  \n",
       "8       5         155         11  \n",
       "9       1         231          6  "
      ]
     },
     "execution_count": 4,
     "metadata": {},
     "output_type": "execute_result"
    }
   ],
   "source": [
    "rfm_df = rfm_analysis(df, ref_date, start_date, end_date)\n",
    "rfm_df.head(10)"
   ]
  },
  {
   "cell_type": "code",
   "execution_count": 5,
   "metadata": {},
   "outputs": [
    {
     "data": {
      "text/html": [
       "<div>\n",
       "<style scoped>\n",
       "    .dataframe tbody tr th:only-of-type {\n",
       "        vertical-align: middle;\n",
       "    }\n",
       "\n",
       "    .dataframe tbody tr th {\n",
       "        vertical-align: top;\n",
       "    }\n",
       "\n",
       "    .dataframe thead th {\n",
       "        text-align: right;\n",
       "    }\n",
       "</style>\n",
       "<table border=\"1\" class=\"dataframe\">\n",
       "  <thead>\n",
       "    <tr style=\"text-align: right;\">\n",
       "      <th></th>\n",
       "      <th>customer_key</th>\n",
       "      <th>purchase_date</th>\n",
       "      <th>Recency</th>\n",
       "      <th>Frequency</th>\n",
       "      <th>Monetary</th>\n",
       "      <th>R_Score</th>\n",
       "      <th>F_Score</th>\n",
       "      <th>M_Score</th>\n",
       "      <th>RFM_Segment</th>\n",
       "      <th>RFM_Score</th>\n",
       "      <th>Segment</th>\n",
       "    </tr>\n",
       "  </thead>\n",
       "  <tbody>\n",
       "    <tr>\n",
       "      <th>0</th>\n",
       "      <td>C000001</td>\n",
       "      <td>2020-12-30</td>\n",
       "      <td>2</td>\n",
       "      <td>5</td>\n",
       "      <td>285</td>\n",
       "      <td>5</td>\n",
       "      <td>1</td>\n",
       "      <td>1</td>\n",
       "      <td>511</td>\n",
       "      <td>7</td>\n",
       "      <td>New Customers</td>\n",
       "    </tr>\n",
       "    <tr>\n",
       "      <th>1</th>\n",
       "      <td>C000002</td>\n",
       "      <td>2020-11-22</td>\n",
       "      <td>40</td>\n",
       "      <td>12</td>\n",
       "      <td>587</td>\n",
       "      <td>1</td>\n",
       "      <td>1</td>\n",
       "      <td>2</td>\n",
       "      <td>112</td>\n",
       "      <td>4</td>\n",
       "      <td>Lost</td>\n",
       "    </tr>\n",
       "    <tr>\n",
       "      <th>2</th>\n",
       "      <td>C000003</td>\n",
       "      <td>2020-11-02</td>\n",
       "      <td>60</td>\n",
       "      <td>8</td>\n",
       "      <td>303</td>\n",
       "      <td>1</td>\n",
       "      <td>1</td>\n",
       "      <td>1</td>\n",
       "      <td>111</td>\n",
       "      <td>3</td>\n",
       "      <td>Lost</td>\n",
       "    </tr>\n",
       "    <tr>\n",
       "      <th>3</th>\n",
       "      <td>C000004</td>\n",
       "      <td>2020-12-21</td>\n",
       "      <td>11</td>\n",
       "      <td>17</td>\n",
       "      <td>389</td>\n",
       "      <td>4</td>\n",
       "      <td>4</td>\n",
       "      <td>1</td>\n",
       "      <td>441</td>\n",
       "      <td>9</td>\n",
       "      <td>Potential Loyalist</td>\n",
       "    </tr>\n",
       "    <tr>\n",
       "      <th>4</th>\n",
       "      <td>C000005</td>\n",
       "      <td>2020-11-23</td>\n",
       "      <td>39</td>\n",
       "      <td>12</td>\n",
       "      <td>663</td>\n",
       "      <td>1</td>\n",
       "      <td>1</td>\n",
       "      <td>2</td>\n",
       "      <td>112</td>\n",
       "      <td>4</td>\n",
       "      <td>Lost</td>\n",
       "    </tr>\n",
       "    <tr>\n",
       "      <th>5</th>\n",
       "      <td>C000006</td>\n",
       "      <td>2020-11-18</td>\n",
       "      <td>44</td>\n",
       "      <td>21</td>\n",
       "      <td>1189</td>\n",
       "      <td>1</td>\n",
       "      <td>5</td>\n",
       "      <td>5</td>\n",
       "      <td>155</td>\n",
       "      <td>11</td>\n",
       "      <td>Cannot Lose Them</td>\n",
       "    </tr>\n",
       "    <tr>\n",
       "      <th>6</th>\n",
       "      <td>C000007</td>\n",
       "      <td>2020-12-20</td>\n",
       "      <td>12</td>\n",
       "      <td>19</td>\n",
       "      <td>1107</td>\n",
       "      <td>3</td>\n",
       "      <td>4</td>\n",
       "      <td>4</td>\n",
       "      <td>344</td>\n",
       "      <td>11</td>\n",
       "      <td>Loyal</td>\n",
       "    </tr>\n",
       "    <tr>\n",
       "      <th>7</th>\n",
       "      <td>C000008</td>\n",
       "      <td>2020-12-24</td>\n",
       "      <td>8</td>\n",
       "      <td>12</td>\n",
       "      <td>475</td>\n",
       "      <td>4</td>\n",
       "      <td>1</td>\n",
       "      <td>1</td>\n",
       "      <td>411</td>\n",
       "      <td>6</td>\n",
       "      <td>New Customers</td>\n",
       "    </tr>\n",
       "    <tr>\n",
       "      <th>8</th>\n",
       "      <td>C000009</td>\n",
       "      <td>2020-11-11</td>\n",
       "      <td>51</td>\n",
       "      <td>23</td>\n",
       "      <td>1491</td>\n",
       "      <td>1</td>\n",
       "      <td>5</td>\n",
       "      <td>5</td>\n",
       "      <td>155</td>\n",
       "      <td>11</td>\n",
       "      <td>Cannot Lose Them</td>\n",
       "    </tr>\n",
       "    <tr>\n",
       "      <th>9</th>\n",
       "      <td>C000010</td>\n",
       "      <td>2020-12-03</td>\n",
       "      <td>29</td>\n",
       "      <td>15</td>\n",
       "      <td>538</td>\n",
       "      <td>2</td>\n",
       "      <td>3</td>\n",
       "      <td>1</td>\n",
       "      <td>231</td>\n",
       "      <td>6</td>\n",
       "      <td>About To Sleep</td>\n",
       "    </tr>\n",
       "  </tbody>\n",
       "</table>\n",
       "</div>"
      ],
      "text/plain": [
       "  customer_key purchase_date  Recency  Frequency  Monetary R_Score F_Score  \\\n",
       "0      C000001    2020-12-30        2          5       285       5       1   \n",
       "1      C000002    2020-11-22       40         12       587       1       1   \n",
       "2      C000003    2020-11-02       60          8       303       1       1   \n",
       "3      C000004    2020-12-21       11         17       389       4       4   \n",
       "4      C000005    2020-11-23       39         12       663       1       1   \n",
       "5      C000006    2020-11-18       44         21      1189       1       5   \n",
       "6      C000007    2020-12-20       12         19      1107       3       4   \n",
       "7      C000008    2020-12-24        8         12       475       4       1   \n",
       "8      C000009    2020-11-11       51         23      1491       1       5   \n",
       "9      C000010    2020-12-03       29         15       538       2       3   \n",
       "\n",
       "  M_Score RFM_Segment  RFM_Score             Segment  \n",
       "0       1         511          7       New Customers  \n",
       "1       2         112          4                Lost  \n",
       "2       1         111          3                Lost  \n",
       "3       1         441          9  Potential Loyalist  \n",
       "4       2         112          4                Lost  \n",
       "5       5         155         11    Cannot Lose Them  \n",
       "6       4         344         11               Loyal  \n",
       "7       1         411          6       New Customers  \n",
       "8       5         155         11    Cannot Lose Them  \n",
       "9       1         231          6      About To Sleep  "
      ]
     },
     "execution_count": 5,
     "metadata": {},
     "output_type": "execute_result"
    }
   ],
   "source": [
    "rfm_df_complex = label_customer_segments(rfm_df)\n",
    "rfm_df_complex.head(10)"
   ]
  },
  {
   "cell_type": "code",
   "execution_count": 6,
   "metadata": {},
   "outputs": [
    {
     "data": {
      "application/vnd.plotly.v1+json": {
       "config": {
        "plotlyServerURL": "https://plot.ly"
       },
       "data": [
        {
         "branchvalues": "total",
         "customdata": [
          [
           412
          ],
          [
           1269
          ],
          [
           285
          ],
          [
           1133
          ],
          [
           1261
          ],
          [
           737
          ],
          [
           904
          ],
          [
           631
          ],
          [
           816
          ],
          [
           54
          ],
          [
           1102
          ],
          [
           587
          ]
         ],
         "domain": {
          "x": [
           0,
           1
          ],
          "y": [
           0,
           1
          ]
         },
         "hovertemplate": "<b>%{label}</b><br>Count: %{value}",
         "ids": [
          "About To Sleep",
          "At Risk",
          "Cannot Lose Them",
          "Champions",
          "Hibernating",
          "Lost",
          "Loyal",
          "Need Attention",
          "New Customers",
          "Other",
          "Potential Loyalist",
          "Promising"
         ],
         "labels": [
          "About To Sleep",
          "At Risk",
          "Cannot Lose Them",
          "Champions",
          "Hibernating",
          "Lost",
          "Loyal",
          "Need Attention",
          "New Customers",
          "Other",
          "Potential Loyalist",
          "Promising"
         ],
         "marker": {
          "coloraxis": "coloraxis",
          "colors": [
           412,
           1269,
           285,
           1133,
           1261,
           737,
           904,
           631,
           816,
           54,
           1102,
           587
          ]
         },
         "name": "",
         "parents": [
          "",
          "",
          "",
          "",
          "",
          "",
          "",
          "",
          "",
          "",
          "",
          ""
         ],
         "textinfo": "label+value",
         "type": "treemap",
         "values": [
          412,
          1269,
          285,
          1133,
          1261,
          737,
          904,
          631,
          816,
          54,
          1102,
          587
         ]
        }
       ],
       "layout": {
        "coloraxis": {
         "colorbar": {
          "title": {
           "text": "Count"
          }
         },
         "colorscale": [
          [
           0,
           "#440154"
          ],
          [
           0.1111111111111111,
           "#482878"
          ],
          [
           0.2222222222222222,
           "#3e4989"
          ],
          [
           0.3333333333333333,
           "#31688e"
          ],
          [
           0.4444444444444444,
           "#26828e"
          ],
          [
           0.5555555555555556,
           "#1f9e89"
          ],
          [
           0.6666666666666666,
           "#35b779"
          ],
          [
           0.7777777777777778,
           "#6ece58"
          ],
          [
           0.8888888888888888,
           "#b5de2b"
          ],
          [
           1,
           "#fde725"
          ]
         ]
        },
        "legend": {
         "tracegroupgap": 0
        },
        "margin": {
         "b": 25,
         "l": 25,
         "r": 25,
         "t": 50
        },
        "template": {
         "data": {
          "bar": [
           {
            "error_x": {
             "color": "#2a3f5f"
            },
            "error_y": {
             "color": "#2a3f5f"
            },
            "marker": {
             "line": {
              "color": "#E5ECF6",
              "width": 0.5
             },
             "pattern": {
              "fillmode": "overlay",
              "size": 10,
              "solidity": 0.2
             }
            },
            "type": "bar"
           }
          ],
          "barpolar": [
           {
            "marker": {
             "line": {
              "color": "#E5ECF6",
              "width": 0.5
             },
             "pattern": {
              "fillmode": "overlay",
              "size": 10,
              "solidity": 0.2
             }
            },
            "type": "barpolar"
           }
          ],
          "carpet": [
           {
            "aaxis": {
             "endlinecolor": "#2a3f5f",
             "gridcolor": "white",
             "linecolor": "white",
             "minorgridcolor": "white",
             "startlinecolor": "#2a3f5f"
            },
            "baxis": {
             "endlinecolor": "#2a3f5f",
             "gridcolor": "white",
             "linecolor": "white",
             "minorgridcolor": "white",
             "startlinecolor": "#2a3f5f"
            },
            "type": "carpet"
           }
          ],
          "choropleth": [
           {
            "colorbar": {
             "outlinewidth": 0,
             "ticks": ""
            },
            "type": "choropleth"
           }
          ],
          "contour": [
           {
            "colorbar": {
             "outlinewidth": 0,
             "ticks": ""
            },
            "colorscale": [
             [
              0,
              "#0d0887"
             ],
             [
              0.1111111111111111,
              "#46039f"
             ],
             [
              0.2222222222222222,
              "#7201a8"
             ],
             [
              0.3333333333333333,
              "#9c179e"
             ],
             [
              0.4444444444444444,
              "#bd3786"
             ],
             [
              0.5555555555555556,
              "#d8576b"
             ],
             [
              0.6666666666666666,
              "#ed7953"
             ],
             [
              0.7777777777777778,
              "#fb9f3a"
             ],
             [
              0.8888888888888888,
              "#fdca26"
             ],
             [
              1,
              "#f0f921"
             ]
            ],
            "type": "contour"
           }
          ],
          "contourcarpet": [
           {
            "colorbar": {
             "outlinewidth": 0,
             "ticks": ""
            },
            "type": "contourcarpet"
           }
          ],
          "heatmap": [
           {
            "colorbar": {
             "outlinewidth": 0,
             "ticks": ""
            },
            "colorscale": [
             [
              0,
              "#0d0887"
             ],
             [
              0.1111111111111111,
              "#46039f"
             ],
             [
              0.2222222222222222,
              "#7201a8"
             ],
             [
              0.3333333333333333,
              "#9c179e"
             ],
             [
              0.4444444444444444,
              "#bd3786"
             ],
             [
              0.5555555555555556,
              "#d8576b"
             ],
             [
              0.6666666666666666,
              "#ed7953"
             ],
             [
              0.7777777777777778,
              "#fb9f3a"
             ],
             [
              0.8888888888888888,
              "#fdca26"
             ],
             [
              1,
              "#f0f921"
             ]
            ],
            "type": "heatmap"
           }
          ],
          "heatmapgl": [
           {
            "colorbar": {
             "outlinewidth": 0,
             "ticks": ""
            },
            "colorscale": [
             [
              0,
              "#0d0887"
             ],
             [
              0.1111111111111111,
              "#46039f"
             ],
             [
              0.2222222222222222,
              "#7201a8"
             ],
             [
              0.3333333333333333,
              "#9c179e"
             ],
             [
              0.4444444444444444,
              "#bd3786"
             ],
             [
              0.5555555555555556,
              "#d8576b"
             ],
             [
              0.6666666666666666,
              "#ed7953"
             ],
             [
              0.7777777777777778,
              "#fb9f3a"
             ],
             [
              0.8888888888888888,
              "#fdca26"
             ],
             [
              1,
              "#f0f921"
             ]
            ],
            "type": "heatmapgl"
           }
          ],
          "histogram": [
           {
            "marker": {
             "pattern": {
              "fillmode": "overlay",
              "size": 10,
              "solidity": 0.2
             }
            },
            "type": "histogram"
           }
          ],
          "histogram2d": [
           {
            "colorbar": {
             "outlinewidth": 0,
             "ticks": ""
            },
            "colorscale": [
             [
              0,
              "#0d0887"
             ],
             [
              0.1111111111111111,
              "#46039f"
             ],
             [
              0.2222222222222222,
              "#7201a8"
             ],
             [
              0.3333333333333333,
              "#9c179e"
             ],
             [
              0.4444444444444444,
              "#bd3786"
             ],
             [
              0.5555555555555556,
              "#d8576b"
             ],
             [
              0.6666666666666666,
              "#ed7953"
             ],
             [
              0.7777777777777778,
              "#fb9f3a"
             ],
             [
              0.8888888888888888,
              "#fdca26"
             ],
             [
              1,
              "#f0f921"
             ]
            ],
            "type": "histogram2d"
           }
          ],
          "histogram2dcontour": [
           {
            "colorbar": {
             "outlinewidth": 0,
             "ticks": ""
            },
            "colorscale": [
             [
              0,
              "#0d0887"
             ],
             [
              0.1111111111111111,
              "#46039f"
             ],
             [
              0.2222222222222222,
              "#7201a8"
             ],
             [
              0.3333333333333333,
              "#9c179e"
             ],
             [
              0.4444444444444444,
              "#bd3786"
             ],
             [
              0.5555555555555556,
              "#d8576b"
             ],
             [
              0.6666666666666666,
              "#ed7953"
             ],
             [
              0.7777777777777778,
              "#fb9f3a"
             ],
             [
              0.8888888888888888,
              "#fdca26"
             ],
             [
              1,
              "#f0f921"
             ]
            ],
            "type": "histogram2dcontour"
           }
          ],
          "mesh3d": [
           {
            "colorbar": {
             "outlinewidth": 0,
             "ticks": ""
            },
            "type": "mesh3d"
           }
          ],
          "parcoords": [
           {
            "line": {
             "colorbar": {
              "outlinewidth": 0,
              "ticks": ""
             }
            },
            "type": "parcoords"
           }
          ],
          "pie": [
           {
            "automargin": true,
            "type": "pie"
           }
          ],
          "scatter": [
           {
            "fillpattern": {
             "fillmode": "overlay",
             "size": 10,
             "solidity": 0.2
            },
            "type": "scatter"
           }
          ],
          "scatter3d": [
           {
            "line": {
             "colorbar": {
              "outlinewidth": 0,
              "ticks": ""
             }
            },
            "marker": {
             "colorbar": {
              "outlinewidth": 0,
              "ticks": ""
             }
            },
            "type": "scatter3d"
           }
          ],
          "scattercarpet": [
           {
            "marker": {
             "colorbar": {
              "outlinewidth": 0,
              "ticks": ""
             }
            },
            "type": "scattercarpet"
           }
          ],
          "scattergeo": [
           {
            "marker": {
             "colorbar": {
              "outlinewidth": 0,
              "ticks": ""
             }
            },
            "type": "scattergeo"
           }
          ],
          "scattergl": [
           {
            "marker": {
             "colorbar": {
              "outlinewidth": 0,
              "ticks": ""
             }
            },
            "type": "scattergl"
           }
          ],
          "scattermapbox": [
           {
            "marker": {
             "colorbar": {
              "outlinewidth": 0,
              "ticks": ""
             }
            },
            "type": "scattermapbox"
           }
          ],
          "scatterpolar": [
           {
            "marker": {
             "colorbar": {
              "outlinewidth": 0,
              "ticks": ""
             }
            },
            "type": "scatterpolar"
           }
          ],
          "scatterpolargl": [
           {
            "marker": {
             "colorbar": {
              "outlinewidth": 0,
              "ticks": ""
             }
            },
            "type": "scatterpolargl"
           }
          ],
          "scatterternary": [
           {
            "marker": {
             "colorbar": {
              "outlinewidth": 0,
              "ticks": ""
             }
            },
            "type": "scatterternary"
           }
          ],
          "surface": [
           {
            "colorbar": {
             "outlinewidth": 0,
             "ticks": ""
            },
            "colorscale": [
             [
              0,
              "#0d0887"
             ],
             [
              0.1111111111111111,
              "#46039f"
             ],
             [
              0.2222222222222222,
              "#7201a8"
             ],
             [
              0.3333333333333333,
              "#9c179e"
             ],
             [
              0.4444444444444444,
              "#bd3786"
             ],
             [
              0.5555555555555556,
              "#d8576b"
             ],
             [
              0.6666666666666666,
              "#ed7953"
             ],
             [
              0.7777777777777778,
              "#fb9f3a"
             ],
             [
              0.8888888888888888,
              "#fdca26"
             ],
             [
              1,
              "#f0f921"
             ]
            ],
            "type": "surface"
           }
          ],
          "table": [
           {
            "cells": {
             "fill": {
              "color": "#EBF0F8"
             },
             "line": {
              "color": "white"
             }
            },
            "header": {
             "fill": {
              "color": "#C8D4E3"
             },
             "line": {
              "color": "white"
             }
            },
            "type": "table"
           }
          ]
         },
         "layout": {
          "annotationdefaults": {
           "arrowcolor": "#2a3f5f",
           "arrowhead": 0,
           "arrowwidth": 1
          },
          "autotypenumbers": "strict",
          "coloraxis": {
           "colorbar": {
            "outlinewidth": 0,
            "ticks": ""
           }
          },
          "colorscale": {
           "diverging": [
            [
             0,
             "#8e0152"
            ],
            [
             0.1,
             "#c51b7d"
            ],
            [
             0.2,
             "#de77ae"
            ],
            [
             0.3,
             "#f1b6da"
            ],
            [
             0.4,
             "#fde0ef"
            ],
            [
             0.5,
             "#f7f7f7"
            ],
            [
             0.6,
             "#e6f5d0"
            ],
            [
             0.7,
             "#b8e186"
            ],
            [
             0.8,
             "#7fbc41"
            ],
            [
             0.9,
             "#4d9221"
            ],
            [
             1,
             "#276419"
            ]
           ],
           "sequential": [
            [
             0,
             "#0d0887"
            ],
            [
             0.1111111111111111,
             "#46039f"
            ],
            [
             0.2222222222222222,
             "#7201a8"
            ],
            [
             0.3333333333333333,
             "#9c179e"
            ],
            [
             0.4444444444444444,
             "#bd3786"
            ],
            [
             0.5555555555555556,
             "#d8576b"
            ],
            [
             0.6666666666666666,
             "#ed7953"
            ],
            [
             0.7777777777777778,
             "#fb9f3a"
            ],
            [
             0.8888888888888888,
             "#fdca26"
            ],
            [
             1,
             "#f0f921"
            ]
           ],
           "sequentialminus": [
            [
             0,
             "#0d0887"
            ],
            [
             0.1111111111111111,
             "#46039f"
            ],
            [
             0.2222222222222222,
             "#7201a8"
            ],
            [
             0.3333333333333333,
             "#9c179e"
            ],
            [
             0.4444444444444444,
             "#bd3786"
            ],
            [
             0.5555555555555556,
             "#d8576b"
            ],
            [
             0.6666666666666666,
             "#ed7953"
            ],
            [
             0.7777777777777778,
             "#fb9f3a"
            ],
            [
             0.8888888888888888,
             "#fdca26"
            ],
            [
             1,
             "#f0f921"
            ]
           ]
          },
          "colorway": [
           "#636efa",
           "#EF553B",
           "#00cc96",
           "#ab63fa",
           "#FFA15A",
           "#19d3f3",
           "#FF6692",
           "#B6E880",
           "#FF97FF",
           "#FECB52"
          ],
          "font": {
           "color": "#2a3f5f"
          },
          "geo": {
           "bgcolor": "white",
           "lakecolor": "white",
           "landcolor": "#E5ECF6",
           "showlakes": true,
           "showland": true,
           "subunitcolor": "white"
          },
          "hoverlabel": {
           "align": "left"
          },
          "hovermode": "closest",
          "mapbox": {
           "style": "light"
          },
          "paper_bgcolor": "white",
          "plot_bgcolor": "#E5ECF6",
          "polar": {
           "angularaxis": {
            "gridcolor": "white",
            "linecolor": "white",
            "ticks": ""
           },
           "bgcolor": "#E5ECF6",
           "radialaxis": {
            "gridcolor": "white",
            "linecolor": "white",
            "ticks": ""
           }
          },
          "scene": {
           "xaxis": {
            "backgroundcolor": "#E5ECF6",
            "gridcolor": "white",
            "gridwidth": 2,
            "linecolor": "white",
            "showbackground": true,
            "ticks": "",
            "zerolinecolor": "white"
           },
           "yaxis": {
            "backgroundcolor": "#E5ECF6",
            "gridcolor": "white",
            "gridwidth": 2,
            "linecolor": "white",
            "showbackground": true,
            "ticks": "",
            "zerolinecolor": "white"
           },
           "zaxis": {
            "backgroundcolor": "#E5ECF6",
            "gridcolor": "white",
            "gridwidth": 2,
            "linecolor": "white",
            "showbackground": true,
            "ticks": "",
            "zerolinecolor": "white"
           }
          },
          "shapedefaults": {
           "line": {
            "color": "#2a3f5f"
           }
          },
          "ternary": {
           "aaxis": {
            "gridcolor": "white",
            "linecolor": "white",
            "ticks": ""
           },
           "baxis": {
            "gridcolor": "white",
            "linecolor": "white",
            "ticks": ""
           },
           "bgcolor": "#E5ECF6",
           "caxis": {
            "gridcolor": "white",
            "linecolor": "white",
            "ticks": ""
           }
          },
          "title": {
           "x": 0.05
          },
          "xaxis": {
           "automargin": true,
           "gridcolor": "white",
           "linecolor": "white",
           "ticks": "",
           "title": {
            "standoff": 15
           },
           "zerolinecolor": "white",
           "zerolinewidth": 2
          },
          "yaxis": {
           "automargin": true,
           "gridcolor": "white",
           "linecolor": "white",
           "ticks": "",
           "title": {
            "standoff": 15
           },
           "zerolinecolor": "white",
           "zerolinewidth": 2
          }
         }
        },
        "title": {
         "text": "Customer Segmentation Treemap",
         "x": 0.5
        }
       }
      }
     },
     "metadata": {},
     "output_type": "display_data"
    },
    {
     "name": "stdout",
     "output_type": "stream",
     "text": [
      "None\n"
     ]
    }
   ],
   "source": [
    "# rfm_df = assign_rfm_labels(rfm_df)\n",
    "print(plot_treemap(rfm_df_complex))"
   ]
  },
  {
   "cell_type": "code",
   "execution_count": 7,
   "metadata": {},
   "outputs": [
    {
     "name": "stdout",
     "output_type": "stream",
     "text": [
      "Cluster Analysis Summary:\n",
      "               Segment  Recency_mean  Recency_median  Recency_count  \\\n",
      "0       About To Sleep     21.978155            20.0            412   \n",
      "1              At Risk     39.244287            33.0           1269   \n",
      "2     Cannot Lose Them     54.638596            49.0            285   \n",
      "3            Champions      4.745808             4.0           1133   \n",
      "4          Hibernating     34.232355            30.0           1261   \n",
      "5                 Lost     67.367707            59.0            737   \n",
      "6                Loyal     13.013274            14.0            904   \n",
      "7       Need Attention     10.207607            10.0            631   \n",
      "8        New Customers      8.796569             8.0            816   \n",
      "9                Other     52.666667            49.0             54   \n",
      "10  Potential Loyalist      8.916515             8.0           1102   \n",
      "11           Promising      5.800681             4.0            587   \n",
      "\n",
      "    Frequency_mean  Frequency_median  Frequency_count  Monetary_mean  \\\n",
      "0        12.980583              13.0              412     580.878641   \n",
      "1        17.661939              17.0             1269    1030.571316   \n",
      "2        15.045614              12.0              285    1046.873684   \n",
      "3        20.484554              20.0             1133    1276.843778   \n",
      "4        13.161776              14.0             1261     645.894528   \n",
      "5        10.900950              11.0              737     469.860244   \n",
      "6        18.793142              18.0              904    1163.892699   \n",
      "7        16.160063              16.0              631     985.049128   \n",
      "8        10.947304              11.0              816     507.691176   \n",
      "9        21.166667              21.0               54    1019.148148   \n",
      "10       16.402904              16.0             1102     746.079855   \n",
      "11       12.654174              13.0              587     852.417376   \n",
      "\n",
      "    Monetary_median  Monetary_count  \n",
      "0             562.5             412  \n",
      "1             988.0            1269  \n",
      "2             993.0             285  \n",
      "3            1230.0            1133  \n",
      "4             657.0            1261  \n",
      "5             480.0             737  \n",
      "6            1124.0             904  \n",
      "7             963.0             631  \n",
      "8             514.0             816  \n",
      "9            1013.0              54  \n",
      "10            762.0            1102  \n",
      "11            835.0             587  \n"
     ]
    },
    {
     "data": {
      "text/html": [
       "<div>\n",
       "<style scoped>\n",
       "    .dataframe tbody tr th:only-of-type {\n",
       "        vertical-align: middle;\n",
       "    }\n",
       "\n",
       "    .dataframe tbody tr th {\n",
       "        vertical-align: top;\n",
       "    }\n",
       "\n",
       "    .dataframe thead th {\n",
       "        text-align: right;\n",
       "    }\n",
       "</style>\n",
       "<table border=\"1\" class=\"dataframe\">\n",
       "  <thead>\n",
       "    <tr style=\"text-align: right;\">\n",
       "      <th></th>\n",
       "      <th>Segment</th>\n",
       "      <th>Recency_mean</th>\n",
       "      <th>Recency_median</th>\n",
       "      <th>Recency_count</th>\n",
       "      <th>Frequency_mean</th>\n",
       "      <th>Frequency_median</th>\n",
       "      <th>Frequency_count</th>\n",
       "      <th>Monetary_mean</th>\n",
       "      <th>Monetary_median</th>\n",
       "      <th>Monetary_count</th>\n",
       "    </tr>\n",
       "  </thead>\n",
       "  <tbody>\n",
       "    <tr>\n",
       "      <th>0</th>\n",
       "      <td>About To Sleep</td>\n",
       "      <td>21.978155</td>\n",
       "      <td>20.0</td>\n",
       "      <td>412</td>\n",
       "      <td>12.980583</td>\n",
       "      <td>13.0</td>\n",
       "      <td>412</td>\n",
       "      <td>580.878641</td>\n",
       "      <td>562.5</td>\n",
       "      <td>412</td>\n",
       "    </tr>\n",
       "    <tr>\n",
       "      <th>1</th>\n",
       "      <td>At Risk</td>\n",
       "      <td>39.244287</td>\n",
       "      <td>33.0</td>\n",
       "      <td>1269</td>\n",
       "      <td>17.661939</td>\n",
       "      <td>17.0</td>\n",
       "      <td>1269</td>\n",
       "      <td>1030.571316</td>\n",
       "      <td>988.0</td>\n",
       "      <td>1269</td>\n",
       "    </tr>\n",
       "    <tr>\n",
       "      <th>2</th>\n",
       "      <td>Cannot Lose Them</td>\n",
       "      <td>54.638596</td>\n",
       "      <td>49.0</td>\n",
       "      <td>285</td>\n",
       "      <td>15.045614</td>\n",
       "      <td>12.0</td>\n",
       "      <td>285</td>\n",
       "      <td>1046.873684</td>\n",
       "      <td>993.0</td>\n",
       "      <td>285</td>\n",
       "    </tr>\n",
       "    <tr>\n",
       "      <th>3</th>\n",
       "      <td>Champions</td>\n",
       "      <td>4.745808</td>\n",
       "      <td>4.0</td>\n",
       "      <td>1133</td>\n",
       "      <td>20.484554</td>\n",
       "      <td>20.0</td>\n",
       "      <td>1133</td>\n",
       "      <td>1276.843778</td>\n",
       "      <td>1230.0</td>\n",
       "      <td>1133</td>\n",
       "    </tr>\n",
       "    <tr>\n",
       "      <th>4</th>\n",
       "      <td>Hibernating</td>\n",
       "      <td>34.232355</td>\n",
       "      <td>30.0</td>\n",
       "      <td>1261</td>\n",
       "      <td>13.161776</td>\n",
       "      <td>14.0</td>\n",
       "      <td>1261</td>\n",
       "      <td>645.894528</td>\n",
       "      <td>657.0</td>\n",
       "      <td>1261</td>\n",
       "    </tr>\n",
       "    <tr>\n",
       "      <th>5</th>\n",
       "      <td>Lost</td>\n",
       "      <td>67.367707</td>\n",
       "      <td>59.0</td>\n",
       "      <td>737</td>\n",
       "      <td>10.900950</td>\n",
       "      <td>11.0</td>\n",
       "      <td>737</td>\n",
       "      <td>469.860244</td>\n",
       "      <td>480.0</td>\n",
       "      <td>737</td>\n",
       "    </tr>\n",
       "    <tr>\n",
       "      <th>6</th>\n",
       "      <td>Loyal</td>\n",
       "      <td>13.013274</td>\n",
       "      <td>14.0</td>\n",
       "      <td>904</td>\n",
       "      <td>18.793142</td>\n",
       "      <td>18.0</td>\n",
       "      <td>904</td>\n",
       "      <td>1163.892699</td>\n",
       "      <td>1124.0</td>\n",
       "      <td>904</td>\n",
       "    </tr>\n",
       "    <tr>\n",
       "      <th>7</th>\n",
       "      <td>Need Attention</td>\n",
       "      <td>10.207607</td>\n",
       "      <td>10.0</td>\n",
       "      <td>631</td>\n",
       "      <td>16.160063</td>\n",
       "      <td>16.0</td>\n",
       "      <td>631</td>\n",
       "      <td>985.049128</td>\n",
       "      <td>963.0</td>\n",
       "      <td>631</td>\n",
       "    </tr>\n",
       "    <tr>\n",
       "      <th>8</th>\n",
       "      <td>New Customers</td>\n",
       "      <td>8.796569</td>\n",
       "      <td>8.0</td>\n",
       "      <td>816</td>\n",
       "      <td>10.947304</td>\n",
       "      <td>11.0</td>\n",
       "      <td>816</td>\n",
       "      <td>507.691176</td>\n",
       "      <td>514.0</td>\n",
       "      <td>816</td>\n",
       "    </tr>\n",
       "    <tr>\n",
       "      <th>9</th>\n",
       "      <td>Other</td>\n",
       "      <td>52.666667</td>\n",
       "      <td>49.0</td>\n",
       "      <td>54</td>\n",
       "      <td>21.166667</td>\n",
       "      <td>21.0</td>\n",
       "      <td>54</td>\n",
       "      <td>1019.148148</td>\n",
       "      <td>1013.0</td>\n",
       "      <td>54</td>\n",
       "    </tr>\n",
       "    <tr>\n",
       "      <th>10</th>\n",
       "      <td>Potential Loyalist</td>\n",
       "      <td>8.916515</td>\n",
       "      <td>8.0</td>\n",
       "      <td>1102</td>\n",
       "      <td>16.402904</td>\n",
       "      <td>16.0</td>\n",
       "      <td>1102</td>\n",
       "      <td>746.079855</td>\n",
       "      <td>762.0</td>\n",
       "      <td>1102</td>\n",
       "    </tr>\n",
       "    <tr>\n",
       "      <th>11</th>\n",
       "      <td>Promising</td>\n",
       "      <td>5.800681</td>\n",
       "      <td>4.0</td>\n",
       "      <td>587</td>\n",
       "      <td>12.654174</td>\n",
       "      <td>13.0</td>\n",
       "      <td>587</td>\n",
       "      <td>852.417376</td>\n",
       "      <td>835.0</td>\n",
       "      <td>587</td>\n",
       "    </tr>\n",
       "  </tbody>\n",
       "</table>\n",
       "</div>"
      ],
      "text/plain": [
       "               Segment  Recency_mean  Recency_median  Recency_count  \\\n",
       "0       About To Sleep     21.978155            20.0            412   \n",
       "1              At Risk     39.244287            33.0           1269   \n",
       "2     Cannot Lose Them     54.638596            49.0            285   \n",
       "3            Champions      4.745808             4.0           1133   \n",
       "4          Hibernating     34.232355            30.0           1261   \n",
       "5                 Lost     67.367707            59.0            737   \n",
       "6                Loyal     13.013274            14.0            904   \n",
       "7       Need Attention     10.207607            10.0            631   \n",
       "8        New Customers      8.796569             8.0            816   \n",
       "9                Other     52.666667            49.0             54   \n",
       "10  Potential Loyalist      8.916515             8.0           1102   \n",
       "11           Promising      5.800681             4.0            587   \n",
       "\n",
       "    Frequency_mean  Frequency_median  Frequency_count  Monetary_mean  \\\n",
       "0        12.980583              13.0              412     580.878641   \n",
       "1        17.661939              17.0             1269    1030.571316   \n",
       "2        15.045614              12.0              285    1046.873684   \n",
       "3        20.484554              20.0             1133    1276.843778   \n",
       "4        13.161776              14.0             1261     645.894528   \n",
       "5        10.900950              11.0              737     469.860244   \n",
       "6        18.793142              18.0              904    1163.892699   \n",
       "7        16.160063              16.0              631     985.049128   \n",
       "8        10.947304              11.0              816     507.691176   \n",
       "9        21.166667              21.0               54    1019.148148   \n",
       "10       16.402904              16.0             1102     746.079855   \n",
       "11       12.654174              13.0              587     852.417376   \n",
       "\n",
       "    Monetary_median  Monetary_count  \n",
       "0             562.5             412  \n",
       "1             988.0            1269  \n",
       "2             993.0             285  \n",
       "3            1230.0            1133  \n",
       "4             657.0            1261  \n",
       "5             480.0             737  \n",
       "6            1124.0             904  \n",
       "7             963.0             631  \n",
       "8             514.0             816  \n",
       "9            1013.0              54  \n",
       "10            762.0            1102  \n",
       "11            835.0             587  "
      ]
     },
     "execution_count": 7,
     "metadata": {},
     "output_type": "execute_result"
    }
   ],
   "source": [
    "analyze_clusters(rfm_df_complex,  rfm_columns=['Recency', 'Frequency', 'Monetary'], cluster_id_col='Segment')"
   ]
  },
  {
   "cell_type": "code",
   "execution_count": 8,
   "metadata": {},
   "outputs": [
    {
     "name": "stdout",
     "output_type": "stream",
     "text": [
      "  customer_key purchase_date  Recency  Frequency  Monetary R_Score F_Score  \\\n",
      "0      C000001    2020-12-30        2          5       285       5       1   \n",
      "1      C000002    2020-11-22       40         12       587       1       1   \n",
      "2      C000003    2020-11-02       60          8       303       1       1   \n",
      "3      C000004    2020-12-21       11         17       389       4       4   \n",
      "4      C000005    2020-11-23       39         12       663       1       1   \n",
      "5      C000006    2020-11-18       44         21      1189       1       5   \n",
      "6      C000007    2020-12-20       12         19      1107       3       4   \n",
      "7      C000008    2020-12-24        8         12       475       4       1   \n",
      "8      C000009    2020-11-11       51         23      1491       1       5   \n",
      "9      C000010    2020-12-03       29         15       538       2       3   \n",
      "\n",
      "  M_Score RFM_Segment  RFM_Score          Segment  \n",
      "0       1         511          7        Low Value  \n",
      "1       2         112          4          At Risk  \n",
      "2       1         111          3        Low Value  \n",
      "3       1         441          9        Low Value  \n",
      "4       2         112          4          At Risk  \n",
      "5       5         155         11  Loyal Customers  \n",
      "6       4         344         11  Loyal Customers  \n",
      "7       1         411          6        Low Value  \n",
      "8       5         155         11  Loyal Customers  \n",
      "9       1         231          6          At Risk  \n"
     ]
    }
   ],
   "source": [
    "rfm_df_simple = label_customer_segments_simple(rfm_df)\n",
    "print(rfm_df_simple.head(10))"
   ]
  },
  {
   "cell_type": "code",
   "execution_count": 9,
   "metadata": {},
   "outputs": [
    {
     "data": {
      "application/vnd.plotly.v1+json": {
       "config": {
        "plotlyServerURL": "https://plot.ly"
       },
       "data": [
        {
         "branchvalues": "total",
         "customdata": [
          [
           1590
          ],
          [
           1262
          ],
          [
           3251
          ],
          [
           3088
          ]
         ],
         "domain": {
          "x": [
           0,
           1
          ],
          "y": [
           0,
           1
          ]
         },
         "hovertemplate": "<b>%{label}</b><br>Count: %{value}",
         "ids": [
          "At Risk",
          "Champions",
          "Low Value",
          "Loyal Customers"
         ],
         "labels": [
          "At Risk",
          "Champions",
          "Low Value",
          "Loyal Customers"
         ],
         "marker": {
          "coloraxis": "coloraxis",
          "colors": [
           1590,
           1262,
           3251,
           3088
          ]
         },
         "name": "",
         "parents": [
          "",
          "",
          "",
          ""
         ],
         "textinfo": "label+value",
         "type": "treemap",
         "values": [
          1590,
          1262,
          3251,
          3088
         ]
        }
       ],
       "layout": {
        "coloraxis": {
         "colorbar": {
          "title": {
           "text": "Count"
          }
         },
         "colorscale": [
          [
           0,
           "#440154"
          ],
          [
           0.1111111111111111,
           "#482878"
          ],
          [
           0.2222222222222222,
           "#3e4989"
          ],
          [
           0.3333333333333333,
           "#31688e"
          ],
          [
           0.4444444444444444,
           "#26828e"
          ],
          [
           0.5555555555555556,
           "#1f9e89"
          ],
          [
           0.6666666666666666,
           "#35b779"
          ],
          [
           0.7777777777777778,
           "#6ece58"
          ],
          [
           0.8888888888888888,
           "#b5de2b"
          ],
          [
           1,
           "#fde725"
          ]
         ]
        },
        "legend": {
         "tracegroupgap": 0
        },
        "margin": {
         "b": 25,
         "l": 25,
         "r": 25,
         "t": 50
        },
        "template": {
         "data": {
          "bar": [
           {
            "error_x": {
             "color": "#2a3f5f"
            },
            "error_y": {
             "color": "#2a3f5f"
            },
            "marker": {
             "line": {
              "color": "#E5ECF6",
              "width": 0.5
             },
             "pattern": {
              "fillmode": "overlay",
              "size": 10,
              "solidity": 0.2
             }
            },
            "type": "bar"
           }
          ],
          "barpolar": [
           {
            "marker": {
             "line": {
              "color": "#E5ECF6",
              "width": 0.5
             },
             "pattern": {
              "fillmode": "overlay",
              "size": 10,
              "solidity": 0.2
             }
            },
            "type": "barpolar"
           }
          ],
          "carpet": [
           {
            "aaxis": {
             "endlinecolor": "#2a3f5f",
             "gridcolor": "white",
             "linecolor": "white",
             "minorgridcolor": "white",
             "startlinecolor": "#2a3f5f"
            },
            "baxis": {
             "endlinecolor": "#2a3f5f",
             "gridcolor": "white",
             "linecolor": "white",
             "minorgridcolor": "white",
             "startlinecolor": "#2a3f5f"
            },
            "type": "carpet"
           }
          ],
          "choropleth": [
           {
            "colorbar": {
             "outlinewidth": 0,
             "ticks": ""
            },
            "type": "choropleth"
           }
          ],
          "contour": [
           {
            "colorbar": {
             "outlinewidth": 0,
             "ticks": ""
            },
            "colorscale": [
             [
              0,
              "#0d0887"
             ],
             [
              0.1111111111111111,
              "#46039f"
             ],
             [
              0.2222222222222222,
              "#7201a8"
             ],
             [
              0.3333333333333333,
              "#9c179e"
             ],
             [
              0.4444444444444444,
              "#bd3786"
             ],
             [
              0.5555555555555556,
              "#d8576b"
             ],
             [
              0.6666666666666666,
              "#ed7953"
             ],
             [
              0.7777777777777778,
              "#fb9f3a"
             ],
             [
              0.8888888888888888,
              "#fdca26"
             ],
             [
              1,
              "#f0f921"
             ]
            ],
            "type": "contour"
           }
          ],
          "contourcarpet": [
           {
            "colorbar": {
             "outlinewidth": 0,
             "ticks": ""
            },
            "type": "contourcarpet"
           }
          ],
          "heatmap": [
           {
            "colorbar": {
             "outlinewidth": 0,
             "ticks": ""
            },
            "colorscale": [
             [
              0,
              "#0d0887"
             ],
             [
              0.1111111111111111,
              "#46039f"
             ],
             [
              0.2222222222222222,
              "#7201a8"
             ],
             [
              0.3333333333333333,
              "#9c179e"
             ],
             [
              0.4444444444444444,
              "#bd3786"
             ],
             [
              0.5555555555555556,
              "#d8576b"
             ],
             [
              0.6666666666666666,
              "#ed7953"
             ],
             [
              0.7777777777777778,
              "#fb9f3a"
             ],
             [
              0.8888888888888888,
              "#fdca26"
             ],
             [
              1,
              "#f0f921"
             ]
            ],
            "type": "heatmap"
           }
          ],
          "heatmapgl": [
           {
            "colorbar": {
             "outlinewidth": 0,
             "ticks": ""
            },
            "colorscale": [
             [
              0,
              "#0d0887"
             ],
             [
              0.1111111111111111,
              "#46039f"
             ],
             [
              0.2222222222222222,
              "#7201a8"
             ],
             [
              0.3333333333333333,
              "#9c179e"
             ],
             [
              0.4444444444444444,
              "#bd3786"
             ],
             [
              0.5555555555555556,
              "#d8576b"
             ],
             [
              0.6666666666666666,
              "#ed7953"
             ],
             [
              0.7777777777777778,
              "#fb9f3a"
             ],
             [
              0.8888888888888888,
              "#fdca26"
             ],
             [
              1,
              "#f0f921"
             ]
            ],
            "type": "heatmapgl"
           }
          ],
          "histogram": [
           {
            "marker": {
             "pattern": {
              "fillmode": "overlay",
              "size": 10,
              "solidity": 0.2
             }
            },
            "type": "histogram"
           }
          ],
          "histogram2d": [
           {
            "colorbar": {
             "outlinewidth": 0,
             "ticks": ""
            },
            "colorscale": [
             [
              0,
              "#0d0887"
             ],
             [
              0.1111111111111111,
              "#46039f"
             ],
             [
              0.2222222222222222,
              "#7201a8"
             ],
             [
              0.3333333333333333,
              "#9c179e"
             ],
             [
              0.4444444444444444,
              "#bd3786"
             ],
             [
              0.5555555555555556,
              "#d8576b"
             ],
             [
              0.6666666666666666,
              "#ed7953"
             ],
             [
              0.7777777777777778,
              "#fb9f3a"
             ],
             [
              0.8888888888888888,
              "#fdca26"
             ],
             [
              1,
              "#f0f921"
             ]
            ],
            "type": "histogram2d"
           }
          ],
          "histogram2dcontour": [
           {
            "colorbar": {
             "outlinewidth": 0,
             "ticks": ""
            },
            "colorscale": [
             [
              0,
              "#0d0887"
             ],
             [
              0.1111111111111111,
              "#46039f"
             ],
             [
              0.2222222222222222,
              "#7201a8"
             ],
             [
              0.3333333333333333,
              "#9c179e"
             ],
             [
              0.4444444444444444,
              "#bd3786"
             ],
             [
              0.5555555555555556,
              "#d8576b"
             ],
             [
              0.6666666666666666,
              "#ed7953"
             ],
             [
              0.7777777777777778,
              "#fb9f3a"
             ],
             [
              0.8888888888888888,
              "#fdca26"
             ],
             [
              1,
              "#f0f921"
             ]
            ],
            "type": "histogram2dcontour"
           }
          ],
          "mesh3d": [
           {
            "colorbar": {
             "outlinewidth": 0,
             "ticks": ""
            },
            "type": "mesh3d"
           }
          ],
          "parcoords": [
           {
            "line": {
             "colorbar": {
              "outlinewidth": 0,
              "ticks": ""
             }
            },
            "type": "parcoords"
           }
          ],
          "pie": [
           {
            "automargin": true,
            "type": "pie"
           }
          ],
          "scatter": [
           {
            "fillpattern": {
             "fillmode": "overlay",
             "size": 10,
             "solidity": 0.2
            },
            "type": "scatter"
           }
          ],
          "scatter3d": [
           {
            "line": {
             "colorbar": {
              "outlinewidth": 0,
              "ticks": ""
             }
            },
            "marker": {
             "colorbar": {
              "outlinewidth": 0,
              "ticks": ""
             }
            },
            "type": "scatter3d"
           }
          ],
          "scattercarpet": [
           {
            "marker": {
             "colorbar": {
              "outlinewidth": 0,
              "ticks": ""
             }
            },
            "type": "scattercarpet"
           }
          ],
          "scattergeo": [
           {
            "marker": {
             "colorbar": {
              "outlinewidth": 0,
              "ticks": ""
             }
            },
            "type": "scattergeo"
           }
          ],
          "scattergl": [
           {
            "marker": {
             "colorbar": {
              "outlinewidth": 0,
              "ticks": ""
             }
            },
            "type": "scattergl"
           }
          ],
          "scattermapbox": [
           {
            "marker": {
             "colorbar": {
              "outlinewidth": 0,
              "ticks": ""
             }
            },
            "type": "scattermapbox"
           }
          ],
          "scatterpolar": [
           {
            "marker": {
             "colorbar": {
              "outlinewidth": 0,
              "ticks": ""
             }
            },
            "type": "scatterpolar"
           }
          ],
          "scatterpolargl": [
           {
            "marker": {
             "colorbar": {
              "outlinewidth": 0,
              "ticks": ""
             }
            },
            "type": "scatterpolargl"
           }
          ],
          "scatterternary": [
           {
            "marker": {
             "colorbar": {
              "outlinewidth": 0,
              "ticks": ""
             }
            },
            "type": "scatterternary"
           }
          ],
          "surface": [
           {
            "colorbar": {
             "outlinewidth": 0,
             "ticks": ""
            },
            "colorscale": [
             [
              0,
              "#0d0887"
             ],
             [
              0.1111111111111111,
              "#46039f"
             ],
             [
              0.2222222222222222,
              "#7201a8"
             ],
             [
              0.3333333333333333,
              "#9c179e"
             ],
             [
              0.4444444444444444,
              "#bd3786"
             ],
             [
              0.5555555555555556,
              "#d8576b"
             ],
             [
              0.6666666666666666,
              "#ed7953"
             ],
             [
              0.7777777777777778,
              "#fb9f3a"
             ],
             [
              0.8888888888888888,
              "#fdca26"
             ],
             [
              1,
              "#f0f921"
             ]
            ],
            "type": "surface"
           }
          ],
          "table": [
           {
            "cells": {
             "fill": {
              "color": "#EBF0F8"
             },
             "line": {
              "color": "white"
             }
            },
            "header": {
             "fill": {
              "color": "#C8D4E3"
             },
             "line": {
              "color": "white"
             }
            },
            "type": "table"
           }
          ]
         },
         "layout": {
          "annotationdefaults": {
           "arrowcolor": "#2a3f5f",
           "arrowhead": 0,
           "arrowwidth": 1
          },
          "autotypenumbers": "strict",
          "coloraxis": {
           "colorbar": {
            "outlinewidth": 0,
            "ticks": ""
           }
          },
          "colorscale": {
           "diverging": [
            [
             0,
             "#8e0152"
            ],
            [
             0.1,
             "#c51b7d"
            ],
            [
             0.2,
             "#de77ae"
            ],
            [
             0.3,
             "#f1b6da"
            ],
            [
             0.4,
             "#fde0ef"
            ],
            [
             0.5,
             "#f7f7f7"
            ],
            [
             0.6,
             "#e6f5d0"
            ],
            [
             0.7,
             "#b8e186"
            ],
            [
             0.8,
             "#7fbc41"
            ],
            [
             0.9,
             "#4d9221"
            ],
            [
             1,
             "#276419"
            ]
           ],
           "sequential": [
            [
             0,
             "#0d0887"
            ],
            [
             0.1111111111111111,
             "#46039f"
            ],
            [
             0.2222222222222222,
             "#7201a8"
            ],
            [
             0.3333333333333333,
             "#9c179e"
            ],
            [
             0.4444444444444444,
             "#bd3786"
            ],
            [
             0.5555555555555556,
             "#d8576b"
            ],
            [
             0.6666666666666666,
             "#ed7953"
            ],
            [
             0.7777777777777778,
             "#fb9f3a"
            ],
            [
             0.8888888888888888,
             "#fdca26"
            ],
            [
             1,
             "#f0f921"
            ]
           ],
           "sequentialminus": [
            [
             0,
             "#0d0887"
            ],
            [
             0.1111111111111111,
             "#46039f"
            ],
            [
             0.2222222222222222,
             "#7201a8"
            ],
            [
             0.3333333333333333,
             "#9c179e"
            ],
            [
             0.4444444444444444,
             "#bd3786"
            ],
            [
             0.5555555555555556,
             "#d8576b"
            ],
            [
             0.6666666666666666,
             "#ed7953"
            ],
            [
             0.7777777777777778,
             "#fb9f3a"
            ],
            [
             0.8888888888888888,
             "#fdca26"
            ],
            [
             1,
             "#f0f921"
            ]
           ]
          },
          "colorway": [
           "#636efa",
           "#EF553B",
           "#00cc96",
           "#ab63fa",
           "#FFA15A",
           "#19d3f3",
           "#FF6692",
           "#B6E880",
           "#FF97FF",
           "#FECB52"
          ],
          "font": {
           "color": "#2a3f5f"
          },
          "geo": {
           "bgcolor": "white",
           "lakecolor": "white",
           "landcolor": "#E5ECF6",
           "showlakes": true,
           "showland": true,
           "subunitcolor": "white"
          },
          "hoverlabel": {
           "align": "left"
          },
          "hovermode": "closest",
          "mapbox": {
           "style": "light"
          },
          "paper_bgcolor": "white",
          "plot_bgcolor": "#E5ECF6",
          "polar": {
           "angularaxis": {
            "gridcolor": "white",
            "linecolor": "white",
            "ticks": ""
           },
           "bgcolor": "#E5ECF6",
           "radialaxis": {
            "gridcolor": "white",
            "linecolor": "white",
            "ticks": ""
           }
          },
          "scene": {
           "xaxis": {
            "backgroundcolor": "#E5ECF6",
            "gridcolor": "white",
            "gridwidth": 2,
            "linecolor": "white",
            "showbackground": true,
            "ticks": "",
            "zerolinecolor": "white"
           },
           "yaxis": {
            "backgroundcolor": "#E5ECF6",
            "gridcolor": "white",
            "gridwidth": 2,
            "linecolor": "white",
            "showbackground": true,
            "ticks": "",
            "zerolinecolor": "white"
           },
           "zaxis": {
            "backgroundcolor": "#E5ECF6",
            "gridcolor": "white",
            "gridwidth": 2,
            "linecolor": "white",
            "showbackground": true,
            "ticks": "",
            "zerolinecolor": "white"
           }
          },
          "shapedefaults": {
           "line": {
            "color": "#2a3f5f"
           }
          },
          "ternary": {
           "aaxis": {
            "gridcolor": "white",
            "linecolor": "white",
            "ticks": ""
           },
           "baxis": {
            "gridcolor": "white",
            "linecolor": "white",
            "ticks": ""
           },
           "bgcolor": "#E5ECF6",
           "caxis": {
            "gridcolor": "white",
            "linecolor": "white",
            "ticks": ""
           }
          },
          "title": {
           "x": 0.05
          },
          "xaxis": {
           "automargin": true,
           "gridcolor": "white",
           "linecolor": "white",
           "ticks": "",
           "title": {
            "standoff": 15
           },
           "zerolinecolor": "white",
           "zerolinewidth": 2
          },
          "yaxis": {
           "automargin": true,
           "gridcolor": "white",
           "linecolor": "white",
           "ticks": "",
           "title": {
            "standoff": 15
           },
           "zerolinecolor": "white",
           "zerolinewidth": 2
          }
         }
        },
        "title": {
         "text": "Customer Segmentation Treemap",
         "x": 0.5
        }
       }
      }
     },
     "metadata": {},
     "output_type": "display_data"
    }
   ],
   "source": [
    "# rfm_df = assign_rfm_labels(rfm_df)\n",
    "plot_treemap(rfm_df_simple)"
   ]
  },
  {
   "cell_type": "code",
   "execution_count": 10,
   "metadata": {},
   "outputs": [
    {
     "name": "stdout",
     "output_type": "stream",
     "text": [
      "Cluster Analysis Summary:\n",
      "           Segment  Recency_mean  Recency_median  Recency_count  \\\n",
      "0          At Risk     46.213836            39.0           1590   \n",
      "1        Champions      5.087163             5.0           1262   \n",
      "2        Low Value     19.108274            12.0           3251   \n",
      "3  Loyal Customers     23.335168            19.0           3088   \n",
      "\n",
      "   Frequency_mean  Frequency_median  Frequency_count  Monetary_mean  \\\n",
      "0       13.467925              13.0             1590     707.980503   \n",
      "1       20.219493              20.0             1262    1251.185420   \n",
      "2       12.440787              12.0             3251     615.004922   \n",
      "3       17.901231              17.0             3088    1040.938472   \n",
      "\n",
      "   Monetary_median  Monetary_count  \n",
      "0            674.5            1590  \n",
      "1           1192.0            1262  \n",
      "2            598.0            3251  \n",
      "3            979.0            3088  \n"
     ]
    },
    {
     "data": {
      "text/html": [
       "<div>\n",
       "<style scoped>\n",
       "    .dataframe tbody tr th:only-of-type {\n",
       "        vertical-align: middle;\n",
       "    }\n",
       "\n",
       "    .dataframe tbody tr th {\n",
       "        vertical-align: top;\n",
       "    }\n",
       "\n",
       "    .dataframe thead th {\n",
       "        text-align: right;\n",
       "    }\n",
       "</style>\n",
       "<table border=\"1\" class=\"dataframe\">\n",
       "  <thead>\n",
       "    <tr style=\"text-align: right;\">\n",
       "      <th></th>\n",
       "      <th>Segment</th>\n",
       "      <th>Recency_mean</th>\n",
       "      <th>Recency_median</th>\n",
       "      <th>Recency_count</th>\n",
       "      <th>Frequency_mean</th>\n",
       "      <th>Frequency_median</th>\n",
       "      <th>Frequency_count</th>\n",
       "      <th>Monetary_mean</th>\n",
       "      <th>Monetary_median</th>\n",
       "      <th>Monetary_count</th>\n",
       "    </tr>\n",
       "  </thead>\n",
       "  <tbody>\n",
       "    <tr>\n",
       "      <th>0</th>\n",
       "      <td>At Risk</td>\n",
       "      <td>46.213836</td>\n",
       "      <td>39.0</td>\n",
       "      <td>1590</td>\n",
       "      <td>13.467925</td>\n",
       "      <td>13.0</td>\n",
       "      <td>1590</td>\n",
       "      <td>707.980503</td>\n",
       "      <td>674.5</td>\n",
       "      <td>1590</td>\n",
       "    </tr>\n",
       "    <tr>\n",
       "      <th>1</th>\n",
       "      <td>Champions</td>\n",
       "      <td>5.087163</td>\n",
       "      <td>5.0</td>\n",
       "      <td>1262</td>\n",
       "      <td>20.219493</td>\n",
       "      <td>20.0</td>\n",
       "      <td>1262</td>\n",
       "      <td>1251.185420</td>\n",
       "      <td>1192.0</td>\n",
       "      <td>1262</td>\n",
       "    </tr>\n",
       "    <tr>\n",
       "      <th>2</th>\n",
       "      <td>Low Value</td>\n",
       "      <td>19.108274</td>\n",
       "      <td>12.0</td>\n",
       "      <td>3251</td>\n",
       "      <td>12.440787</td>\n",
       "      <td>12.0</td>\n",
       "      <td>3251</td>\n",
       "      <td>615.004922</td>\n",
       "      <td>598.0</td>\n",
       "      <td>3251</td>\n",
       "    </tr>\n",
       "    <tr>\n",
       "      <th>3</th>\n",
       "      <td>Loyal Customers</td>\n",
       "      <td>23.335168</td>\n",
       "      <td>19.0</td>\n",
       "      <td>3088</td>\n",
       "      <td>17.901231</td>\n",
       "      <td>17.0</td>\n",
       "      <td>3088</td>\n",
       "      <td>1040.938472</td>\n",
       "      <td>979.0</td>\n",
       "      <td>3088</td>\n",
       "    </tr>\n",
       "  </tbody>\n",
       "</table>\n",
       "</div>"
      ],
      "text/plain": [
       "           Segment  Recency_mean  Recency_median  Recency_count  \\\n",
       "0          At Risk     46.213836            39.0           1590   \n",
       "1        Champions      5.087163             5.0           1262   \n",
       "2        Low Value     19.108274            12.0           3251   \n",
       "3  Loyal Customers     23.335168            19.0           3088   \n",
       "\n",
       "   Frequency_mean  Frequency_median  Frequency_count  Monetary_mean  \\\n",
       "0       13.467925              13.0             1590     707.980503   \n",
       "1       20.219493              20.0             1262    1251.185420   \n",
       "2       12.440787              12.0             3251     615.004922   \n",
       "3       17.901231              17.0             3088    1040.938472   \n",
       "\n",
       "   Monetary_median  Monetary_count  \n",
       "0            674.5            1590  \n",
       "1           1192.0            1262  \n",
       "2            598.0            3251  \n",
       "3            979.0            3088  "
      ]
     },
     "execution_count": 10,
     "metadata": {},
     "output_type": "execute_result"
    }
   ],
   "source": [
    "analyze_clusters(rfm_df_simple,  rfm_columns=['Recency', 'Frequency', 'Monetary'], cluster_id_col='Segment')"
   ]
  },
  {
   "cell_type": "code",
   "execution_count": null,
   "metadata": {},
   "outputs": [],
   "source": [
    "# output df / vsc of low-value customers\n",
    "low_value_customers = rfm_df_simple[rfm_df_simple['Segment'] == 'At Risk']\n",
    "\n",
    "#uncomment to save as csv\n",
    "low_value_customers.to_csv('low_value_customers_simple.csv', index=False)\n"
   ]
  }
 ],
 "metadata": {
  "kernelspec": {
   "display_name": "Python 3",
   "language": "python",
   "name": "python3"
  },
  "language_info": {
   "codemirror_mode": {
    "name": "ipython",
    "version": 3
   },
   "file_extension": ".py",
   "mimetype": "text/x-python",
   "name": "python",
   "nbconvert_exporter": "python",
   "pygments_lexer": "ipython3",
   "version": "3.12.3"
  }
 },
 "nbformat": 4,
 "nbformat_minor": 2
}

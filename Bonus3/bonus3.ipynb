{
 "cells": [
  {
   "cell_type": "code",
   "execution_count": null,
   "metadata": {
    "colab": {
     "base_uri": "https://localhost:8080/"
    },
    "id": "d1rbs-Ux8u64",
    "outputId": "a8427996-cc34-44e9-9576-5013e3e901d8"
   },
   "outputs": [
    {
     "name": "stderr",
     "output_type": "stream",
     "text": [
      "<ipython-input-49-fef59be3525f>:12: DtypeWarning: Columns (16,17) have mixed types. Specify dtype option on import or set low_memory=False.\n",
      "  df = pd.read_csv('/content/drive/MyDrive/Colab Notebooks/final.csv', delimiter=\",\", encoding='ISO-8859-1')\n",
      "<ipython-input-49-fef59be3525f>:19: SettingWithCopyWarning: \n",
      "A value is trying to be set on a copy of a slice from a DataFrame.\n",
      "Try using .loc[row_indexer,col_indexer] = value instead\n",
      "\n",
      "See the caveats in the documentation: https://pandas.pydata.org/pandas-docs/stable/user_guide/indexing.html#returning-a-view-versus-a-copy\n",
      "  df['region_supplier'] = df['store_region'] + '_' + df['supplier']\n"
     ]
    }
   ],
   "source": [
    "# AI-driven product recommendation system to increase cross-selling and upselling\n",
    "\n",
    "import pandas as pd\n",
    "import numpy as np\n",
    "from sklearn.feature_extraction.text import TfidfVectorizer\n",
    "from sklearn.decomposition import TruncatedSVD\n",
    "from sklearn.metrics.pairwise import cosine_similarity\n",
    "import scipy.sparse as sp\n",
    "\n",
    "#(a) we chose content-based filtering\n",
    "\n",
    "df = pd.read_csv('final.csv', delimiter=\",\", encoding='ISO-8859-1')\n",
    "\n",
    "# Remove duplicates of (item_name, manufacturing_country, supplier) because such duplicates have high similarity scores that\n",
    "# causes bias in results in turn causing the recco system to have duplicates in its result as well\n",
    "df = df.drop_duplicates(subset=['item_name', 'manufacturing_country', 'supplier'],keep='first')\n",
    "\n",
    "# Convert categorical variables into a set of binary useful for hstack\n",
    "df['region_supplier'] = df['store_region'] + '_' + df['supplier']\n",
    "\n",
    "# Apply get_dummies to the combined column\n",
    "df_dummies = pd.get_dummies(df['region_supplier']) #consider products with similar store region and suppliers as related items.\n",
    "\n",
    "\n",
    "\n",
    "# Using text-based feature TF-IDF for product descriptions captures semantic similarities between products\n",
    "descmat = TfidfVectorizer(stop_words='english', max_features=650, max_df=0.95).fit_transform(df['description']) #max_df=0.95 to exclude super common words to optimise memory usage\n",
    "\n",
    "# Dimension reduction technique before combining to prevent crashing\n",
    "reduced_dummies = TruncatedSVD(n_components=10).fit_transform(df_dummies.values)\n",
    "\n",
    "reduceddescmat = TruncatedSVD(n_components=30).fit_transform(descmat)\n",
    "\n",
    "# Convert both matrices to sparse format because sp.hstack works well with sparse matrices\n",
    "sparsereduceddescmat = sp.csr_matrix(reduceddescmat)\n",
    "sparsereduced_dummies = sp.csr_matrix(reduced_dummies)\n",
    "\n",
    "# Combine all feature matrices\n",
    "features = sp.hstack([sparsereduceddescmat, sparsereduced_dummies])\n",
    "\n",
    "# Calculate cosine similarity where each entry of similarity matrix represents the similarity score between items\n",
    "similarity_matrix = cosine_similarity(features)\n",
    "\n",
    "# Function to get recommendations based on item index\n",
    "def recco(item_index, sim_matrix, df, top_n=1):\n",
    "    sim_scores = list(enumerate(sim_matrix[item_index])) # list of tuples where each tuple contains the index of an item and its similarity score with other items\n",
    "    sim_scores = sorted(sim_scores, key=lambda x: x[1], reverse=True) #descending order of similarity scores\n",
    "    sim_scores = [score for score in sim_scores if score[0] != item_index] #Exclude the item itself\n",
    "    sim_scores = sim_scores[:top_n]\n",
    "    item_indices = [i[0] for i in sim_scores]\n",
    "    return df.iloc[item_indices]\n",
    "\n",
    "#challenges: 1. big dataset, had to cut down by using dimension reduction with SVD\n",
    "#            2. recco system gave duplicates at first, so we removed bias by dropping duplicates of (item_name, manufacturing_country, supplier) combi at the start\n",
    "\n",
    "#(b) To evaluate the impact of personalized recommendations on sales, we can record the % of recommendations\n",
    "#    that lead to purchases or even monitor long term impacts on customer retention"
   ]
  },
  {
   "cell_type": "code",
   "execution_count": null,
   "metadata": {
    "colab": {
     "base_uri": "https://localhost:8080/"
    },
    "id": "HImwKGlzbc94",
    "outputId": "b161a4c5-99f4-43e4-9fcd-657df57c7291"
   },
   "outputs": [
    {
     "name": "stdout",
     "output_type": "stream",
     "text": [
      "index\n",
      "0            Chinet Comfort Hot Cups with Lids 16oz\n",
      "1                Chobani Greek Yogurt Variety Pack \n",
      "2                      Folgers Classic Roast Coffee\n",
      "3                         Spunkmeyer Muffin Variety\n",
      "4      Nature Valley Biscuit Sandwich Variety Pack \n",
      "                           ...                     \n",
      "259                                K Cups Hot Cocoa\n",
      "260                                Gardettos Snacks\n",
      "261                         Dr. Pepper - 12 oz cans\n",
      "262                             Snickers Bars 1.8oz\n",
      "263                            Tootsie Roll Midgets\n",
      "Name: item_name, Length: 264, dtype: object\n"
     ]
    }
   ],
   "source": [
    "# reference for the 264 products\n",
    "df_prod = df['item_name'].reset_index(drop=True)\n",
    "df_prod.index.name = 'index'\n",
    "\n",
    "\n",
    "print(df_prod)\n"
   ]
  },
  {
   "cell_type": "code",
   "execution_count": null,
   "metadata": {
    "colab": {
     "base_uri": "https://localhost:8080/"
    },
    "id": "ufMiKP2_Dwtc",
    "outputId": "753cc942-8cea-4b67-bef8-79efd2e4ad63"
   },
   "outputs": [
    {
     "name": "stdout",
     "output_type": "stream",
     "text": [
      "Item of interest: K Cups Hot Cocoa\n",
      "Recommended product: Swiss Miss Hot Cocoa Mix 1 oz\n"
     ]
    }
   ],
   "source": [
    "# usage\n",
    "purchasedproduct='K Cups Hot Cocoa' # set purchasedproduct to whatever you want to find from the ref df_prod as seen from above\n",
    "\n",
    "idx = df_prod[df_prod == purchasedproduct].index.values[0]\n",
    "\n",
    "\n",
    "print(f\"Item of interest: {df.iloc[idx]['item_name']}\\nRecommended product: {recco(idx, similarity_matrix, df)['item_name'].values[0]}\")\n"
   ]
  }
 ],
 "metadata": {
  "colab": {
   "provenance": []
  },
  "kernelspec": {
   "display_name": "Python 3",
   "name": "python3"
  },
  "language_info": {
   "name": "python"
  }
 },
 "nbformat": 4,
 "nbformat_minor": 0
}

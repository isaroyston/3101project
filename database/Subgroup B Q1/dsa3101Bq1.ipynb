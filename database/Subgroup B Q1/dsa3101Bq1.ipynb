{
 "cells": [
  {
   "cell_type": "code",
   "execution_count": 2,
   "metadata": {
    "id": "R1k-daBokSlE"
   },
   "outputs": [
    {
     "name": "stderr",
     "output_type": "stream",
     "text": [
      "C:\\Users\\covan\\AppData\\Local\\Temp\\ipykernel_34744\\3541349224.py:6: DtypeWarning: Columns (18,19) have mixed types. Specify dtype option on import or set low_memory=False.\n",
      "  df = pd.read_csv('final_data.csv', delimiter=\",\", encoding='ISO-8859-1')\n",
      "15:58:07 - cmdstanpy - INFO - Chain [1] start processing\n",
      "15:58:07 - cmdstanpy - INFO - Chain [1] done processing\n",
      "15:58:07 - cmdstanpy - ERROR - Chain [1] error: terminated by signal 3221225657 \n",
      "Optimization terminated abnormally. Falling back to Newton.\n",
      "15:58:07 - cmdstanpy - INFO - Chain [1] start processing\n",
      "15:58:07 - cmdstanpy - INFO - Chain [1] done processing\n",
      "15:58:07 - cmdstanpy - ERROR - Chain [1] error: terminated by signal 3221225657 \n"
     ]
    },
    {
     "ename": "RuntimeError",
     "evalue": "Error during optimization! Command 'C:\\Users\\covan\\Downloads\\dsa3101\\venv\\Lib\\site-packages\\prophet\\stan_model\\prophet_model.bin random seed=48106 data file=C:\\Users\\covan\\AppData\\Local\\Temp\\tmpiog18bus\\82i9a704.json init=C:\\Users\\covan\\AppData\\Local\\Temp\\tmpiog18bus\\t60_9rhn.json output file=C:\\Users\\covan\\AppData\\Local\\Temp\\tmpiog18bus\\prophet_model0p1domiv\\prophet_model-20241115155807.csv method=optimize algorithm=newton iter=10000' failed: ",
     "output_type": "error",
     "traceback": [
      "\u001b[1;31m---------------------------------------------------------------------------\u001b[0m",
      "\u001b[1;31mRuntimeError\u001b[0m                              Traceback (most recent call last)",
      "File \u001b[1;32mc:\\Users\\covan\\Downloads\\dsa3101\\venv\\lib\\site-packages\\prophet\\models.py:121\u001b[0m, in \u001b[0;36mCmdStanPyBackend.fit\u001b[1;34m(self, stan_init, stan_data, **kwargs)\u001b[0m\n\u001b[0;32m    120\u001b[0m \u001b[38;5;28;01mtry\u001b[39;00m:\n\u001b[1;32m--> 121\u001b[0m     \u001b[38;5;28mself\u001b[39m\u001b[38;5;241m.\u001b[39mstan_fit \u001b[38;5;241m=\u001b[39m \u001b[38;5;28mself\u001b[39m\u001b[38;5;241m.\u001b[39mmodel\u001b[38;5;241m.\u001b[39moptimize(\u001b[38;5;241m*\u001b[39m\u001b[38;5;241m*\u001b[39margs)\n\u001b[0;32m    122\u001b[0m \u001b[38;5;28;01mexcept\u001b[39;00m \u001b[38;5;167;01mRuntimeError\u001b[39;00m \u001b[38;5;28;01mas\u001b[39;00m e:\n\u001b[0;32m    123\u001b[0m     \u001b[38;5;66;03m# Fall back on Newton\u001b[39;00m\n",
      "File \u001b[1;32mc:\\Users\\covan\\Downloads\\dsa3101\\venv\\lib\\site-packages\\cmdstanpy\\model.py:659\u001b[0m, in \u001b[0;36mCmdStanModel.optimize\u001b[1;34m(self, data, seed, inits, output_dir, sig_figs, save_profile, algorithm, init_alpha, tol_obj, tol_rel_obj, tol_grad, tol_rel_grad, tol_param, history_size, iter, save_iterations, require_converged, show_console, refresh, time_fmt, timeout, jacobian)\u001b[0m\n\u001b[0;32m    658\u001b[0m     \u001b[38;5;28;01melse\u001b[39;00m:\n\u001b[1;32m--> 659\u001b[0m         \u001b[38;5;28;01mraise\u001b[39;00m \u001b[38;5;167;01mRuntimeError\u001b[39;00m(msg)\n\u001b[0;32m    660\u001b[0m mle \u001b[38;5;241m=\u001b[39m CmdStanMLE(runset)\n",
      "\u001b[1;31mRuntimeError\u001b[0m: Error during optimization! Command 'C:\\Users\\covan\\Downloads\\dsa3101\\venv\\Lib\\site-packages\\prophet\\stan_model\\prophet_model.bin random seed=93572 data file=C:\\Users\\covan\\AppData\\Local\\Temp\\tmpiog18bus\\yue3k7v4.json init=C:\\Users\\covan\\AppData\\Local\\Temp\\tmpiog18bus\\te72ime8.json output file=C:\\Users\\covan\\AppData\\Local\\Temp\\tmpiog18bus\\prophet_model51lktw94\\prophet_model-20241115155807.csv method=optimize algorithm=lbfgs iter=10000' failed: ",
      "\nDuring handling of the above exception, another exception occurred:\n",
      "\u001b[1;31mRuntimeError\u001b[0m                              Traceback (most recent call last)",
      "Cell \u001b[1;32mIn[2], line 32\u001b[0m\n\u001b[0;32m     29\u001b[0m     \u001b[38;5;28;01mreturn\u001b[39;00m forecasted_demand\n\u001b[0;32m     31\u001b[0m \u001b[38;5;66;03m# Group by 'item_name', 'store_region', 'supplier' combi, then apply the forecast_sales function\u001b[39;00m\n\u001b[1;32m---> 32\u001b[0m grouped_forecasts \u001b[38;5;241m=\u001b[39m \u001b[43mdf\u001b[49m\u001b[38;5;241;43m.\u001b[39;49m\u001b[43mgroupby\u001b[49m\u001b[43m(\u001b[49m\u001b[43m[\u001b[49m\u001b[38;5;124;43m'\u001b[39;49m\u001b[38;5;124;43mitem_name\u001b[39;49m\u001b[38;5;124;43m'\u001b[39;49m\u001b[43m,\u001b[49m\u001b[43m \u001b[49m\u001b[38;5;124;43m'\u001b[39;49m\u001b[38;5;124;43mstore_region\u001b[39;49m\u001b[38;5;124;43m'\u001b[39;49m\u001b[43m,\u001b[49m\u001b[43m \u001b[49m\u001b[38;5;124;43m'\u001b[39;49m\u001b[38;5;124;43msupplier\u001b[39;49m\u001b[38;5;124;43m'\u001b[39;49m\u001b[43m]\u001b[49m\u001b[43m)\u001b[49m\u001b[38;5;241;43m.\u001b[39;49m\u001b[43mapply\u001b[49m\u001b[43m(\u001b[49m\u001b[43mforecast_sales\u001b[49m\u001b[43m)\u001b[49m\u001b[38;5;241m.\u001b[39mreset_index()\n\u001b[0;32m     33\u001b[0m grouped_forecasts\u001b[38;5;241m.\u001b[39mcolumns \u001b[38;5;241m=\u001b[39m [\u001b[38;5;124m'\u001b[39m\u001b[38;5;124mitem_name\u001b[39m\u001b[38;5;124m'\u001b[39m, \u001b[38;5;124m'\u001b[39m\u001b[38;5;124mstore_region\u001b[39m\u001b[38;5;124m'\u001b[39m, \u001b[38;5;124m'\u001b[39m\u001b[38;5;124msupplier\u001b[39m\u001b[38;5;124m'\u001b[39m, \u001b[38;5;124m'\u001b[39m\u001b[38;5;124mforecasted_demand\u001b[39m\u001b[38;5;124m'\u001b[39m]\n\u001b[0;32m     35\u001b[0m \u001b[38;5;66;03m# preview\u001b[39;00m\n",
      "File \u001b[1;32mc:\\Users\\covan\\Downloads\\dsa3101\\venv\\lib\\site-packages\\pandas\\core\\groupby\\groupby.py:1824\u001b[0m, in \u001b[0;36mGroupBy.apply\u001b[1;34m(self, func, include_groups, *args, **kwargs)\u001b[0m\n\u001b[0;32m   1822\u001b[0m \u001b[38;5;28;01mwith\u001b[39;00m option_context(\u001b[38;5;124m\"\u001b[39m\u001b[38;5;124mmode.chained_assignment\u001b[39m\u001b[38;5;124m\"\u001b[39m, \u001b[38;5;28;01mNone\u001b[39;00m):\n\u001b[0;32m   1823\u001b[0m     \u001b[38;5;28;01mtry\u001b[39;00m:\n\u001b[1;32m-> 1824\u001b[0m         result \u001b[38;5;241m=\u001b[39m \u001b[38;5;28;43mself\u001b[39;49m\u001b[38;5;241;43m.\u001b[39;49m\u001b[43m_python_apply_general\u001b[49m\u001b[43m(\u001b[49m\u001b[43mf\u001b[49m\u001b[43m,\u001b[49m\u001b[43m \u001b[49m\u001b[38;5;28;43mself\u001b[39;49m\u001b[38;5;241;43m.\u001b[39;49m\u001b[43m_selected_obj\u001b[49m\u001b[43m)\u001b[49m\n\u001b[0;32m   1825\u001b[0m         \u001b[38;5;28;01mif\u001b[39;00m (\n\u001b[0;32m   1826\u001b[0m             \u001b[38;5;129;01mnot\u001b[39;00m \u001b[38;5;28misinstance\u001b[39m(\u001b[38;5;28mself\u001b[39m\u001b[38;5;241m.\u001b[39mobj, Series)\n\u001b[0;32m   1827\u001b[0m             \u001b[38;5;129;01mand\u001b[39;00m \u001b[38;5;28mself\u001b[39m\u001b[38;5;241m.\u001b[39m_selection \u001b[38;5;129;01mis\u001b[39;00m \u001b[38;5;28;01mNone\u001b[39;00m\n\u001b[0;32m   1828\u001b[0m             \u001b[38;5;129;01mand\u001b[39;00m \u001b[38;5;28mself\u001b[39m\u001b[38;5;241m.\u001b[39m_selected_obj\u001b[38;5;241m.\u001b[39mshape \u001b[38;5;241m!=\u001b[39m \u001b[38;5;28mself\u001b[39m\u001b[38;5;241m.\u001b[39m_obj_with_exclusions\u001b[38;5;241m.\u001b[39mshape\n\u001b[0;32m   1829\u001b[0m         ):\n\u001b[0;32m   1830\u001b[0m             warnings\u001b[38;5;241m.\u001b[39mwarn(\n\u001b[0;32m   1831\u001b[0m                 message\u001b[38;5;241m=\u001b[39m_apply_groupings_depr\u001b[38;5;241m.\u001b[39mformat(\n\u001b[0;32m   1832\u001b[0m                     \u001b[38;5;28mtype\u001b[39m(\u001b[38;5;28mself\u001b[39m)\u001b[38;5;241m.\u001b[39m\u001b[38;5;18m__name__\u001b[39m, \u001b[38;5;124m\"\u001b[39m\u001b[38;5;124mapply\u001b[39m\u001b[38;5;124m\"\u001b[39m\n\u001b[1;32m   (...)\u001b[0m\n\u001b[0;32m   1835\u001b[0m                 stacklevel\u001b[38;5;241m=\u001b[39mfind_stack_level(),\n\u001b[0;32m   1836\u001b[0m             )\n",
      "File \u001b[1;32mc:\\Users\\covan\\Downloads\\dsa3101\\venv\\lib\\site-packages\\pandas\\core\\groupby\\groupby.py:1885\u001b[0m, in \u001b[0;36mGroupBy._python_apply_general\u001b[1;34m(self, f, data, not_indexed_same, is_transform, is_agg)\u001b[0m\n\u001b[0;32m   1850\u001b[0m \u001b[38;5;129m@final\u001b[39m\n\u001b[0;32m   1851\u001b[0m \u001b[38;5;28;01mdef\u001b[39;00m \u001b[38;5;21m_python_apply_general\u001b[39m(\n\u001b[0;32m   1852\u001b[0m     \u001b[38;5;28mself\u001b[39m,\n\u001b[1;32m   (...)\u001b[0m\n\u001b[0;32m   1857\u001b[0m     is_agg: \u001b[38;5;28mbool\u001b[39m \u001b[38;5;241m=\u001b[39m \u001b[38;5;28;01mFalse\u001b[39;00m,\n\u001b[0;32m   1858\u001b[0m ) \u001b[38;5;241m-\u001b[39m\u001b[38;5;241m>\u001b[39m NDFrameT:\n\u001b[0;32m   1859\u001b[0m \u001b[38;5;250m    \u001b[39m\u001b[38;5;124;03m\"\"\"\u001b[39;00m\n\u001b[0;32m   1860\u001b[0m \u001b[38;5;124;03m    Apply function f in python space\u001b[39;00m\n\u001b[0;32m   1861\u001b[0m \n\u001b[1;32m   (...)\u001b[0m\n\u001b[0;32m   1883\u001b[0m \u001b[38;5;124;03m        data after applying f\u001b[39;00m\n\u001b[0;32m   1884\u001b[0m \u001b[38;5;124;03m    \"\"\"\u001b[39;00m\n\u001b[1;32m-> 1885\u001b[0m     values, mutated \u001b[38;5;241m=\u001b[39m \u001b[38;5;28;43mself\u001b[39;49m\u001b[38;5;241;43m.\u001b[39;49m\u001b[43m_grouper\u001b[49m\u001b[38;5;241;43m.\u001b[39;49m\u001b[43mapply_groupwise\u001b[49m\u001b[43m(\u001b[49m\u001b[43mf\u001b[49m\u001b[43m,\u001b[49m\u001b[43m \u001b[49m\u001b[43mdata\u001b[49m\u001b[43m,\u001b[49m\u001b[43m \u001b[49m\u001b[38;5;28;43mself\u001b[39;49m\u001b[38;5;241;43m.\u001b[39;49m\u001b[43maxis\u001b[49m\u001b[43m)\u001b[49m\n\u001b[0;32m   1886\u001b[0m     \u001b[38;5;28;01mif\u001b[39;00m not_indexed_same \u001b[38;5;129;01mis\u001b[39;00m \u001b[38;5;28;01mNone\u001b[39;00m:\n\u001b[0;32m   1887\u001b[0m         not_indexed_same \u001b[38;5;241m=\u001b[39m mutated\n",
      "File \u001b[1;32mc:\\Users\\covan\\Downloads\\dsa3101\\venv\\lib\\site-packages\\pandas\\core\\groupby\\ops.py:919\u001b[0m, in \u001b[0;36mBaseGrouper.apply_groupwise\u001b[1;34m(self, f, data, axis)\u001b[0m\n\u001b[0;32m    917\u001b[0m \u001b[38;5;66;03m# group might be modified\u001b[39;00m\n\u001b[0;32m    918\u001b[0m group_axes \u001b[38;5;241m=\u001b[39m group\u001b[38;5;241m.\u001b[39maxes\n\u001b[1;32m--> 919\u001b[0m res \u001b[38;5;241m=\u001b[39m \u001b[43mf\u001b[49m\u001b[43m(\u001b[49m\u001b[43mgroup\u001b[49m\u001b[43m)\u001b[49m\n\u001b[0;32m    920\u001b[0m \u001b[38;5;28;01mif\u001b[39;00m \u001b[38;5;129;01mnot\u001b[39;00m mutated \u001b[38;5;129;01mand\u001b[39;00m \u001b[38;5;129;01mnot\u001b[39;00m _is_indexed_like(res, group_axes, axis):\n\u001b[0;32m    921\u001b[0m     mutated \u001b[38;5;241m=\u001b[39m \u001b[38;5;28;01mTrue\u001b[39;00m\n",
      "Cell \u001b[1;32mIn[2], line 22\u001b[0m, in \u001b[0;36mforecast_sales\u001b[1;34m(group)\u001b[0m\n\u001b[0;32m     20\u001b[0m \u001b[38;5;66;03m# Initialize and fit the Prophet model\u001b[39;00m\n\u001b[0;32m     21\u001b[0m model \u001b[38;5;241m=\u001b[39m Prophet()\n\u001b[1;32m---> 22\u001b[0m \u001b[43mmodel\u001b[49m\u001b[38;5;241;43m.\u001b[39;49m\u001b[43mfit\u001b[49m\u001b[43m(\u001b[49m\u001b[43msales_data\u001b[49m\u001b[43m)\u001b[49m\n\u001b[0;32m     24\u001b[0m \u001b[38;5;66;03m# predict next 30 days/1 month\u001b[39;00m\n\u001b[0;32m     25\u001b[0m forecast \u001b[38;5;241m=\u001b[39m model\u001b[38;5;241m.\u001b[39mpredict(model\u001b[38;5;241m.\u001b[39mmake_future_dataframe(periods\u001b[38;5;241m=\u001b[39m\u001b[38;5;241m30\u001b[39m))\n",
      "File \u001b[1;32mc:\\Users\\covan\\Downloads\\dsa3101\\venv\\lib\\site-packages\\prophet\\forecaster.py:1232\u001b[0m, in \u001b[0;36mProphet.fit\u001b[1;34m(self, df, **kwargs)\u001b[0m\n\u001b[0;32m   1230\u001b[0m     \u001b[38;5;28mself\u001b[39m\u001b[38;5;241m.\u001b[39mparams \u001b[38;5;241m=\u001b[39m \u001b[38;5;28mself\u001b[39m\u001b[38;5;241m.\u001b[39mstan_backend\u001b[38;5;241m.\u001b[39msampling(stan_init, dat, \u001b[38;5;28mself\u001b[39m\u001b[38;5;241m.\u001b[39mmcmc_samples, \u001b[38;5;241m*\u001b[39m\u001b[38;5;241m*\u001b[39mkwargs)\n\u001b[0;32m   1231\u001b[0m \u001b[38;5;28;01melse\u001b[39;00m:\n\u001b[1;32m-> 1232\u001b[0m     \u001b[38;5;28mself\u001b[39m\u001b[38;5;241m.\u001b[39mparams \u001b[38;5;241m=\u001b[39m \u001b[38;5;28mself\u001b[39m\u001b[38;5;241m.\u001b[39mstan_backend\u001b[38;5;241m.\u001b[39mfit(stan_init, dat, \u001b[38;5;241m*\u001b[39m\u001b[38;5;241m*\u001b[39mkwargs)\n\u001b[0;32m   1234\u001b[0m \u001b[38;5;28mself\u001b[39m\u001b[38;5;241m.\u001b[39mstan_fit \u001b[38;5;241m=\u001b[39m \u001b[38;5;28mself\u001b[39m\u001b[38;5;241m.\u001b[39mstan_backend\u001b[38;5;241m.\u001b[39mstan_fit\n\u001b[0;32m   1235\u001b[0m \u001b[38;5;66;03m# If no changepoints were requested, replace delta with 0s\u001b[39;00m\n",
      "File \u001b[1;32mc:\\Users\\covan\\Downloads\\dsa3101\\venv\\lib\\site-packages\\prophet\\models.py:128\u001b[0m, in \u001b[0;36mCmdStanPyBackend.fit\u001b[1;34m(self, stan_init, stan_data, **kwargs)\u001b[0m\n\u001b[0;32m    126\u001b[0m     logger\u001b[38;5;241m.\u001b[39mwarning(\u001b[38;5;124m'\u001b[39m\u001b[38;5;124mOptimization terminated abnormally. Falling back to Newton.\u001b[39m\u001b[38;5;124m'\u001b[39m)\n\u001b[0;32m    127\u001b[0m     args[\u001b[38;5;124m'\u001b[39m\u001b[38;5;124malgorithm\u001b[39m\u001b[38;5;124m'\u001b[39m] \u001b[38;5;241m=\u001b[39m \u001b[38;5;124m'\u001b[39m\u001b[38;5;124mNewton\u001b[39m\u001b[38;5;124m'\u001b[39m\n\u001b[1;32m--> 128\u001b[0m     \u001b[38;5;28mself\u001b[39m\u001b[38;5;241m.\u001b[39mstan_fit \u001b[38;5;241m=\u001b[39m \u001b[38;5;28mself\u001b[39m\u001b[38;5;241m.\u001b[39mmodel\u001b[38;5;241m.\u001b[39moptimize(\u001b[38;5;241m*\u001b[39m\u001b[38;5;241m*\u001b[39margs)\n\u001b[0;32m    129\u001b[0m params \u001b[38;5;241m=\u001b[39m \u001b[38;5;28mself\u001b[39m\u001b[38;5;241m.\u001b[39mstan_to_dict_numpy(\n\u001b[0;32m    130\u001b[0m     \u001b[38;5;28mself\u001b[39m\u001b[38;5;241m.\u001b[39mstan_fit\u001b[38;5;241m.\u001b[39mcolumn_names, \u001b[38;5;28mself\u001b[39m\u001b[38;5;241m.\u001b[39mstan_fit\u001b[38;5;241m.\u001b[39moptimized_params_np)\n\u001b[0;32m    131\u001b[0m \u001b[38;5;28;01mfor\u001b[39;00m par \u001b[38;5;129;01min\u001b[39;00m params:\n",
      "File \u001b[1;32mc:\\Users\\covan\\Downloads\\dsa3101\\venv\\lib\\site-packages\\cmdstanpy\\model.py:659\u001b[0m, in \u001b[0;36mCmdStanModel.optimize\u001b[1;34m(self, data, seed, inits, output_dir, sig_figs, save_profile, algorithm, init_alpha, tol_obj, tol_rel_obj, tol_grad, tol_rel_grad, tol_param, history_size, iter, save_iterations, require_converged, show_console, refresh, time_fmt, timeout, jacobian)\u001b[0m\n\u001b[0;32m    657\u001b[0m         get_logger()\u001b[38;5;241m.\u001b[39mwarning(msg)\n\u001b[0;32m    658\u001b[0m     \u001b[38;5;28;01melse\u001b[39;00m:\n\u001b[1;32m--> 659\u001b[0m         \u001b[38;5;28;01mraise\u001b[39;00m \u001b[38;5;167;01mRuntimeError\u001b[39;00m(msg)\n\u001b[0;32m    660\u001b[0m mle \u001b[38;5;241m=\u001b[39m CmdStanMLE(runset)\n\u001b[0;32m    661\u001b[0m \u001b[38;5;28;01mreturn\u001b[39;00m mle\n",
      "\u001b[1;31mRuntimeError\u001b[0m: Error during optimization! Command 'C:\\Users\\covan\\Downloads\\dsa3101\\venv\\Lib\\site-packages\\prophet\\stan_model\\prophet_model.bin random seed=48106 data file=C:\\Users\\covan\\AppData\\Local\\Temp\\tmpiog18bus\\82i9a704.json init=C:\\Users\\covan\\AppData\\Local\\Temp\\tmpiog18bus\\t60_9rhn.json output file=C:\\Users\\covan\\AppData\\Local\\Temp\\tmpiog18bus\\prophet_model0p1domiv\\prophet_model-20241115155807.csv method=optimize algorithm=newton iter=10000' failed: "
     ]
    }
   ],
   "source": [
    "#!pip install prophet\n",
    "\n",
    "import pandas as pd\n",
    "from prophet import Prophet\n",
    "\n",
    "df = pd.read_csv('final_data.csv', delimiter=\",\", encoding='ISO-8859-1')\n",
    "\n",
    "# ensuring Purchase_date is of the right type\n",
    "df['purchase_date'] = pd.to_datetime(df['purchase_date'])\n",
    "\n",
    "# note: we chose prophet model among others because not only is it very interpretable and user-friendly,\n",
    "#       but it can handle data which displays trends and seasonality, which is commonly observed in sales data.\n",
    "\n",
    "# function to apply Prophet model for each group\n",
    "def forecast_sales(group):\n",
    "    # Prepare the data for Prophet\n",
    "    sales_data = group.groupby('purchase_date')['quantity_purchased'].sum().reset_index()\n",
    "    sales_data.columns = ['ds', 'y']  # must be 'ds' for date and 'y' for target to meet prophet requirements\n",
    "\n",
    "    # Initialize and fit the Prophet model\n",
    "    model = Prophet()\n",
    "    model.fit(sales_data)\n",
    "\n",
    "    # predict next 30 days/1 month\n",
    "    forecast = model.predict(model.make_future_dataframe(periods=30))\n",
    "\n",
    "    # Return the forecast and the sum of future sales (demand forecast for EOQ)\n",
    "    forecasted_demand = forecast['yhat'].sum()  # Total forecasted demand\n",
    "    return forecasted_demand\n",
    "\n",
    "# Group by 'item_name', 'store_region', 'supplier' combi, then apply the forecast_sales function\n",
    "grouped_forecasts = df.groupby(['item_name', 'store_region', 'supplier']).apply(forecast_sales).reset_index()\n",
    "grouped_forecasts.columns = ['item_name', 'store_region', 'supplier', 'forecasted_demand']\n",
    "\n",
    "# preview\n",
    "print(grouped_forecasts.head())\n"
   ]
  },
  {
   "cell_type": "code",
   "execution_count": null,
   "metadata": {
    "id": "fDO5wV95kkQ9"
   },
   "outputs": [],
   "source": [
    "import numpy as np\n",
    "# Economic order quantity (EOQ) is a formula that helps businesses determine the ideal order size for inventory to minimize costs and meet demand\n",
    "# Define a function to calculate EOQ based on forecasted demand\n",
    "def calculate_eoq(row):\n",
    "    # extract the forecasted demand\n",
    "    D = row['forecasted_demand']\n",
    "\n",
    "    # corresponding unit price and inventory cost for the item_name, store_region and supplier\n",
    "    S = df.loc[(df['item_name'] == row['item_name']) & (df['supplier'] == row['supplier']) & (df['store_region'] == row['store_region']), 'unit_price'].values[0]\n",
    "    H = df.loc[(df['item_name'] == row['item_name']) & (df['supplier'] == row['supplier']) & (df['store_region'] == row['store_region']), 'inventory_cost'].values[0]\n",
    "\n",
    "    # calculate EOQ using the standard EOQ formula\n",
    "    eoq = np.sqrt((2*S*D)/H)\n",
    "    return eoq\n",
    "\n",
    "# Apply the EOQ calculation to each product-store_region-supplier group\n",
    "grouped_forecasts['EOQ'] = grouped_forecasts.apply(calculate_eoq, axis=1)\n",
    "\n",
    "# forecasted demand and EOQ preview\n",
    "print(grouped_forecasts.head())\n"
   ]
  },
  {
   "cell_type": "code",
   "execution_count": null,
   "metadata": {
    "id": "dMpneWnZksOW"
   },
   "outputs": [],
   "source": [
    "# Join the current inventory level with the EOQ data\n",
    "grouped_data = pd.merge(grouped_forecasts, df[['item_name', 'store_region', 'supplier', 'inventory_level']].drop_duplicates(),\n",
    "                        on=['item_name', 'store_region', 'supplier'], how='left')\n",
    "\n",
    "# Calculate reorder quantity if forecasted demand exceeds current inventory\n",
    "grouped_data['reorder_quantity'] = grouped_data.apply(\n",
    "    lambda row: row['EOQ'] if row['forecasted_demand'] > row['inventory_level'] else 0, axis=1)\n",
    "\n",
    "grouped_data = grouped_data.drop(columns=['inventory_level'])\n",
    "\n",
    "results = grouped_data.groupby(['item_name', 'store_region', 'supplier', 'forecasted_demand', 'EOQ', 'reorder_quantity'], as_index=False).first()\n",
    "\n",
    "# Preview\n",
    "print(results.head())\n"
   ]
  }
 ],
 "metadata": {
  "colab": {
   "provenance": []
  },
  "kernelspec": {
   "display_name": "Python 3",
   "language": "python",
   "name": "python3"
  },
  "language_info": {
   "codemirror_mode": {
    "name": "ipython",
    "version": 3
   },
   "file_extension": ".py",
   "mimetype": "text/x-python",
   "name": "python",
   "nbconvert_exporter": "python",
   "pygments_lexer": "ipython3",
   "version": "3.10.6"
  }
 },
 "nbformat": 4,
 "nbformat_minor": 0
}

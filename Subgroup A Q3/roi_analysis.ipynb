{
 "cells": [
  {
   "cell_type": "markdown",
   "metadata": {},
   "source": [
    "ROI analysis of the different marketing channels "
   ]
  },
  {
   "cell_type": "code",
   "execution_count": 1,
   "metadata": {},
   "outputs": [],
   "source": [
    "# import \n",
    "import pandas as pd\n",
    "from datetime import datetime\n",
    "import matplotlib.pyplot as plt\n",
    "import seaborn as sns\n",
    "import plotly.express as px\n",
    "import numpy as np\n",
    "from roi_analysis import *"
   ]
  },
  {
   "cell_type": "code",
   "execution_count": 2,
   "metadata": {},
   "outputs": [
    {
     "data": {
      "text/html": [
       "<div>\n",
       "<style scoped>\n",
       "    .dataframe tbody tr th:only-of-type {\n",
       "        vertical-align: middle;\n",
       "    }\n",
       "\n",
       "    .dataframe tbody tr th {\n",
       "        vertical-align: top;\n",
       "    }\n",
       "\n",
       "    .dataframe thead th {\n",
       "        text-align: right;\n",
       "    }\n",
       "</style>\n",
       "<table border=\"1\" class=\"dataframe\">\n",
       "  <thead>\n",
       "    <tr style=\"text-align: right;\">\n",
       "      <th></th>\n",
       "      <th>year</th>\n",
       "      <th>campaign_key</th>\n",
       "      <th>campaign_name</th>\n",
       "      <th>channel_type</th>\n",
       "      <th>rev</th>\n",
       "      <th>cost</th>\n",
       "      <th>roi</th>\n",
       "      <th>mkt_key</th>\n",
       "    </tr>\n",
       "  </thead>\n",
       "  <tbody>\n",
       "    <tr>\n",
       "      <th>0</th>\n",
       "      <td>2014</td>\n",
       "      <td>2014-EST-APR</td>\n",
       "      <td>Easter Sale</td>\n",
       "      <td>Radio</td>\n",
       "      <td>8866.17360</td>\n",
       "      <td>4925.6520</td>\n",
       "      <td>80</td>\n",
       "      <td>MKT-RADIO-EASSAL-2014</td>\n",
       "    </tr>\n",
       "    <tr>\n",
       "      <th>1</th>\n",
       "      <td>2014</td>\n",
       "      <td>2014-EST-APR</td>\n",
       "      <td>Easter Sale</td>\n",
       "      <td>TV</td>\n",
       "      <td>27825.16704</td>\n",
       "      <td>12647.8032</td>\n",
       "      <td>120</td>\n",
       "      <td>MKT-TV-EASSAL-2014</td>\n",
       "    </tr>\n",
       "    <tr>\n",
       "      <th>2</th>\n",
       "      <td>2014</td>\n",
       "      <td>2014-EST-APR</td>\n",
       "      <td>Easter Sale</td>\n",
       "      <td>Physical</td>\n",
       "      <td>16817.12928</td>\n",
       "      <td>8008.1568</td>\n",
       "      <td>110</td>\n",
       "      <td>MKT-PHYSICAL-EASSAL-2014</td>\n",
       "    </tr>\n",
       "    <tr>\n",
       "      <th>3</th>\n",
       "      <td>2014</td>\n",
       "      <td>2014-EST-APR</td>\n",
       "      <td>Easter Sale</td>\n",
       "      <td>Instagram</td>\n",
       "      <td>2288.04480</td>\n",
       "      <td>1525.3632</td>\n",
       "      <td>50</td>\n",
       "      <td>MKT-INSTAGRAM-EASSAL-2014</td>\n",
       "    </tr>\n",
       "    <tr>\n",
       "      <th>4</th>\n",
       "      <td>2014</td>\n",
       "      <td>2014-EST-APR</td>\n",
       "      <td>Easter Sale</td>\n",
       "      <td>TikTok</td>\n",
       "      <td>0.00000</td>\n",
       "      <td>0.0000</td>\n",
       "      <td>0</td>\n",
       "      <td>MKT-TIKTOK-EASSAL-2014</td>\n",
       "    </tr>\n",
       "    <tr>\n",
       "      <th>5</th>\n",
       "      <td>2014</td>\n",
       "      <td>2014-EST-APR</td>\n",
       "      <td>Easter Sale</td>\n",
       "      <td>YouTube</td>\n",
       "      <td>8875.70712</td>\n",
       "      <td>4671.4248</td>\n",
       "      <td>90</td>\n",
       "      <td>MKT-YOUTUBE-EASSAL-2014</td>\n",
       "    </tr>\n",
       "    <tr>\n",
       "      <th>6</th>\n",
       "      <td>2014</td>\n",
       "      <td>2014-MID-JUN</td>\n",
       "      <td>Mid-Year Sale</td>\n",
       "      <td>Radio</td>\n",
       "      <td>17742.43799</td>\n",
       "      <td>10255.7445</td>\n",
       "      <td>73</td>\n",
       "      <td>MKT-RADIO-MIDSAL-2014</td>\n",
       "    </tr>\n",
       "    <tr>\n",
       "      <th>7</th>\n",
       "      <td>2014</td>\n",
       "      <td>2014-MID-JUN</td>\n",
       "      <td>Mid-Year Sale</td>\n",
       "      <td>TV</td>\n",
       "      <td>63798.99045</td>\n",
       "      <td>27738.6915</td>\n",
       "      <td>130</td>\n",
       "      <td>MKT-TV-MIDSAL-2014</td>\n",
       "    </tr>\n",
       "    <tr>\n",
       "      <th>8</th>\n",
       "      <td>2014</td>\n",
       "      <td>2014-MID-JUN</td>\n",
       "      <td>Mid-Year Sale</td>\n",
       "      <td>Physical</td>\n",
       "      <td>38562.28763</td>\n",
       "      <td>17138.7945</td>\n",
       "      <td>125</td>\n",
       "      <td>MKT-PHYSICAL-MIDSAL-2014</td>\n",
       "    </tr>\n",
       "    <tr>\n",
       "      <th>9</th>\n",
       "      <td>2014</td>\n",
       "      <td>2014-MID-JUN</td>\n",
       "      <td>Mid-Year Sale</td>\n",
       "      <td>Instagram</td>\n",
       "      <td>5547.73830</td>\n",
       "      <td>3579.1860</td>\n",
       "      <td>55</td>\n",
       "      <td>MKT-INSTAGRAM-MIDSAL-2014</td>\n",
       "    </tr>\n",
       "  </tbody>\n",
       "</table>\n",
       "</div>"
      ],
      "text/plain": [
       "   year  campaign_key  campaign_name channel_type          rev        cost  \\\n",
       "0  2014  2014-EST-APR    Easter Sale        Radio   8866.17360   4925.6520   \n",
       "1  2014  2014-EST-APR    Easter Sale           TV  27825.16704  12647.8032   \n",
       "2  2014  2014-EST-APR    Easter Sale     Physical  16817.12928   8008.1568   \n",
       "3  2014  2014-EST-APR    Easter Sale    Instagram   2288.04480   1525.3632   \n",
       "4  2014  2014-EST-APR    Easter Sale       TikTok      0.00000      0.0000   \n",
       "5  2014  2014-EST-APR    Easter Sale      YouTube   8875.70712   4671.4248   \n",
       "6  2014  2014-MID-JUN  Mid-Year Sale        Radio  17742.43799  10255.7445   \n",
       "7  2014  2014-MID-JUN  Mid-Year Sale           TV  63798.99045  27738.6915   \n",
       "8  2014  2014-MID-JUN  Mid-Year Sale     Physical  38562.28763  17138.7945   \n",
       "9  2014  2014-MID-JUN  Mid-Year Sale    Instagram   5547.73830   3579.1860   \n",
       "\n",
       "   roi                    mkt_key  \n",
       "0   80      MKT-RADIO-EASSAL-2014  \n",
       "1  120         MKT-TV-EASSAL-2014  \n",
       "2  110   MKT-PHYSICAL-EASSAL-2014  \n",
       "3   50  MKT-INSTAGRAM-EASSAL-2014  \n",
       "4    0     MKT-TIKTOK-EASSAL-2014  \n",
       "5   90    MKT-YOUTUBE-EASSAL-2014  \n",
       "6   73      MKT-RADIO-MIDSAL-2014  \n",
       "7  130         MKT-TV-MIDSAL-2014  \n",
       "8  125   MKT-PHYSICAL-MIDSAL-2014  \n",
       "9   55  MKT-INSTAGRAM-MIDSAL-2014  "
      ]
     },
     "execution_count": 2,
     "metadata": {},
     "output_type": "execute_result"
    }
   ],
   "source": [
    "# loading\n",
    "df = pd.read_csv('mkt_channels_data.csv')\n",
    "df.head(10)"
   ]
  },
  {
   "cell_type": "code",
   "execution_count": 3,
   "metadata": {},
   "outputs": [
    {
     "data": {
      "text/plain": [
       "array(['Easter Sale', 'Mid-Year Sale', 'Halloween', 'Christmas',\n",
       "       \"St. Patrick's Day\", 'Cinco de Mayo', 'Drinks Bonanza',\n",
       "       'Food and Beverage Day', 'Super Mart Sale', 'Markdown Mega Sale'],\n",
       "      dtype=object)"
      ]
     },
     "execution_count": 3,
     "metadata": {},
     "output_type": "execute_result"
    }
   ],
   "source": [
    "df['campaign_name'].unique()"
   ]
  },
  {
   "cell_type": "code",
   "execution_count": 4,
   "metadata": {},
   "outputs": [
    {
     "data": {
      "application/vnd.plotly.v1+json": {
       "config": {
        "plotlyServerURL": "https://plot.ly"
       },
       "data": [
        {
         "hovertemplate": "Channel Type=Instagram<br>Year=%{x}<br>Average Return on Investment (%)=%{y}<extra></extra>",
         "legendgroup": "Instagram",
         "line": {
          "color": "#636efa",
          "dash": "solid"
         },
         "marker": {
          "symbol": "circle"
         },
         "mode": "lines+markers",
         "name": "Instagram",
         "orientation": "v",
         "showlegend": true,
         "type": "scatter",
         "x": [
          2014,
          2015,
          2016,
          2017,
          2018,
          2019,
          2020
         ],
         "xaxis": "x",
         "y": [
          52.5,
          86,
          102.5,
          112.5,
          101.5,
          96.5,
          99.5
         ],
         "yaxis": "y"
        },
        {
         "hovertemplate": "Channel Type=Physical<br>Year=%{x}<br>Average Return on Investment (%)=%{y}<extra></extra>",
         "legendgroup": "Physical",
         "line": {
          "color": "#EF553B",
          "dash": "solid"
         },
         "marker": {
          "symbol": "circle"
         },
         "mode": "lines+markers",
         "name": "Physical",
         "orientation": "v",
         "showlegend": true,
         "type": "scatter",
         "x": [
          2014,
          2015,
          2016,
          2017,
          2018,
          2019,
          2020
         ],
         "xaxis": "x",
         "y": [
          117.5,
          97,
          83.5,
          77.5,
          77.5,
          65.5,
          62
         ],
         "yaxis": "y"
        },
        {
         "hovertemplate": "Channel Type=Radio<br>Year=%{x}<br>Average Return on Investment (%)=%{y}<extra></extra>",
         "legendgroup": "Radio",
         "line": {
          "color": "#00cc96",
          "dash": "solid"
         },
         "marker": {
          "symbol": "circle"
         },
         "mode": "lines+markers",
         "name": "Radio",
         "orientation": "v",
         "showlegend": true,
         "type": "scatter",
         "x": [
          2014,
          2015,
          2016,
          2017,
          2018,
          2019,
          2020
         ],
         "xaxis": "x",
         "y": [
          76.5,
          67.5,
          59.5,
          55.5,
          49.5,
          44.5,
          39.5
         ],
         "yaxis": "y"
        },
        {
         "hovertemplate": "Channel Type=TV<br>Year=%{x}<br>Average Return on Investment (%)=%{y}<extra></extra>",
         "legendgroup": "TV",
         "line": {
          "color": "#ab63fa",
          "dash": "solid"
         },
         "marker": {
          "symbol": "circle"
         },
         "mode": "lines+markers",
         "name": "TV",
         "orientation": "v",
         "showlegend": true,
         "type": "scatter",
         "x": [
          2014,
          2015,
          2016,
          2017,
          2018,
          2019,
          2020
         ],
         "xaxis": "x",
         "y": [
          125,
          104,
          95.5,
          86,
          78,
          77,
          69
         ],
         "yaxis": "y"
        },
        {
         "hovertemplate": "Channel Type=TikTok<br>Year=%{x}<br>Average Return on Investment (%)=%{y}<extra></extra>",
         "legendgroup": "TikTok",
         "line": {
          "color": "#FFA15A",
          "dash": "solid"
         },
         "marker": {
          "symbol": "circle"
         },
         "mode": "lines+markers",
         "name": "TikTok",
         "orientation": "v",
         "showlegend": true,
         "type": "scatter",
         "x": [
          2014,
          2015,
          2016,
          2017,
          2018,
          2019,
          2020
         ],
         "xaxis": "x",
         "y": [
          0,
          0,
          0,
          51,
          49,
          50,
          51.5
         ],
         "yaxis": "y"
        },
        {
         "hovertemplate": "Channel Type=YouTube<br>Year=%{x}<br>Average Return on Investment (%)=%{y}<extra></extra>",
         "legendgroup": "YouTube",
         "line": {
          "color": "#19d3f3",
          "dash": "solid"
         },
         "marker": {
          "symbol": "circle"
         },
         "mode": "lines+markers",
         "name": "YouTube",
         "orientation": "v",
         "showlegend": true,
         "type": "scatter",
         "x": [
          2014,
          2015,
          2016,
          2017,
          2018,
          2019,
          2020
         ],
         "xaxis": "x",
         "y": [
          90,
          105,
          121,
          125.5,
          127.5,
          140,
          139
         ],
         "yaxis": "y"
        }
       ],
       "layout": {
        "legend": {
         "title": {
          "text": "Channel Type"
         },
         "tracegroupgap": 0
        },
        "template": {
         "data": {
          "bar": [
           {
            "error_x": {
             "color": "#2a3f5f"
            },
            "error_y": {
             "color": "#2a3f5f"
            },
            "marker": {
             "line": {
              "color": "#E5ECF6",
              "width": 0.5
             },
             "pattern": {
              "fillmode": "overlay",
              "size": 10,
              "solidity": 0.2
             }
            },
            "type": "bar"
           }
          ],
          "barpolar": [
           {
            "marker": {
             "line": {
              "color": "#E5ECF6",
              "width": 0.5
             },
             "pattern": {
              "fillmode": "overlay",
              "size": 10,
              "solidity": 0.2
             }
            },
            "type": "barpolar"
           }
          ],
          "carpet": [
           {
            "aaxis": {
             "endlinecolor": "#2a3f5f",
             "gridcolor": "white",
             "linecolor": "white",
             "minorgridcolor": "white",
             "startlinecolor": "#2a3f5f"
            },
            "baxis": {
             "endlinecolor": "#2a3f5f",
             "gridcolor": "white",
             "linecolor": "white",
             "minorgridcolor": "white",
             "startlinecolor": "#2a3f5f"
            },
            "type": "carpet"
           }
          ],
          "choropleth": [
           {
            "colorbar": {
             "outlinewidth": 0,
             "ticks": ""
            },
            "type": "choropleth"
           }
          ],
          "contour": [
           {
            "colorbar": {
             "outlinewidth": 0,
             "ticks": ""
            },
            "colorscale": [
             [
              0,
              "#0d0887"
             ],
             [
              0.1111111111111111,
              "#46039f"
             ],
             [
              0.2222222222222222,
              "#7201a8"
             ],
             [
              0.3333333333333333,
              "#9c179e"
             ],
             [
              0.4444444444444444,
              "#bd3786"
             ],
             [
              0.5555555555555556,
              "#d8576b"
             ],
             [
              0.6666666666666666,
              "#ed7953"
             ],
             [
              0.7777777777777778,
              "#fb9f3a"
             ],
             [
              0.8888888888888888,
              "#fdca26"
             ],
             [
              1,
              "#f0f921"
             ]
            ],
            "type": "contour"
           }
          ],
          "contourcarpet": [
           {
            "colorbar": {
             "outlinewidth": 0,
             "ticks": ""
            },
            "type": "contourcarpet"
           }
          ],
          "heatmap": [
           {
            "colorbar": {
             "outlinewidth": 0,
             "ticks": ""
            },
            "colorscale": [
             [
              0,
              "#0d0887"
             ],
             [
              0.1111111111111111,
              "#46039f"
             ],
             [
              0.2222222222222222,
              "#7201a8"
             ],
             [
              0.3333333333333333,
              "#9c179e"
             ],
             [
              0.4444444444444444,
              "#bd3786"
             ],
             [
              0.5555555555555556,
              "#d8576b"
             ],
             [
              0.6666666666666666,
              "#ed7953"
             ],
             [
              0.7777777777777778,
              "#fb9f3a"
             ],
             [
              0.8888888888888888,
              "#fdca26"
             ],
             [
              1,
              "#f0f921"
             ]
            ],
            "type": "heatmap"
           }
          ],
          "heatmapgl": [
           {
            "colorbar": {
             "outlinewidth": 0,
             "ticks": ""
            },
            "colorscale": [
             [
              0,
              "#0d0887"
             ],
             [
              0.1111111111111111,
              "#46039f"
             ],
             [
              0.2222222222222222,
              "#7201a8"
             ],
             [
              0.3333333333333333,
              "#9c179e"
             ],
             [
              0.4444444444444444,
              "#bd3786"
             ],
             [
              0.5555555555555556,
              "#d8576b"
             ],
             [
              0.6666666666666666,
              "#ed7953"
             ],
             [
              0.7777777777777778,
              "#fb9f3a"
             ],
             [
              0.8888888888888888,
              "#fdca26"
             ],
             [
              1,
              "#f0f921"
             ]
            ],
            "type": "heatmapgl"
           }
          ],
          "histogram": [
           {
            "marker": {
             "pattern": {
              "fillmode": "overlay",
              "size": 10,
              "solidity": 0.2
             }
            },
            "type": "histogram"
           }
          ],
          "histogram2d": [
           {
            "colorbar": {
             "outlinewidth": 0,
             "ticks": ""
            },
            "colorscale": [
             [
              0,
              "#0d0887"
             ],
             [
              0.1111111111111111,
              "#46039f"
             ],
             [
              0.2222222222222222,
              "#7201a8"
             ],
             [
              0.3333333333333333,
              "#9c179e"
             ],
             [
              0.4444444444444444,
              "#bd3786"
             ],
             [
              0.5555555555555556,
              "#d8576b"
             ],
             [
              0.6666666666666666,
              "#ed7953"
             ],
             [
              0.7777777777777778,
              "#fb9f3a"
             ],
             [
              0.8888888888888888,
              "#fdca26"
             ],
             [
              1,
              "#f0f921"
             ]
            ],
            "type": "histogram2d"
           }
          ],
          "histogram2dcontour": [
           {
            "colorbar": {
             "outlinewidth": 0,
             "ticks": ""
            },
            "colorscale": [
             [
              0,
              "#0d0887"
             ],
             [
              0.1111111111111111,
              "#46039f"
             ],
             [
              0.2222222222222222,
              "#7201a8"
             ],
             [
              0.3333333333333333,
              "#9c179e"
             ],
             [
              0.4444444444444444,
              "#bd3786"
             ],
             [
              0.5555555555555556,
              "#d8576b"
             ],
             [
              0.6666666666666666,
              "#ed7953"
             ],
             [
              0.7777777777777778,
              "#fb9f3a"
             ],
             [
              0.8888888888888888,
              "#fdca26"
             ],
             [
              1,
              "#f0f921"
             ]
            ],
            "type": "histogram2dcontour"
           }
          ],
          "mesh3d": [
           {
            "colorbar": {
             "outlinewidth": 0,
             "ticks": ""
            },
            "type": "mesh3d"
           }
          ],
          "parcoords": [
           {
            "line": {
             "colorbar": {
              "outlinewidth": 0,
              "ticks": ""
             }
            },
            "type": "parcoords"
           }
          ],
          "pie": [
           {
            "automargin": true,
            "type": "pie"
           }
          ],
          "scatter": [
           {
            "fillpattern": {
             "fillmode": "overlay",
             "size": 10,
             "solidity": 0.2
            },
            "type": "scatter"
           }
          ],
          "scatter3d": [
           {
            "line": {
             "colorbar": {
              "outlinewidth": 0,
              "ticks": ""
             }
            },
            "marker": {
             "colorbar": {
              "outlinewidth": 0,
              "ticks": ""
             }
            },
            "type": "scatter3d"
           }
          ],
          "scattercarpet": [
           {
            "marker": {
             "colorbar": {
              "outlinewidth": 0,
              "ticks": ""
             }
            },
            "type": "scattercarpet"
           }
          ],
          "scattergeo": [
           {
            "marker": {
             "colorbar": {
              "outlinewidth": 0,
              "ticks": ""
             }
            },
            "type": "scattergeo"
           }
          ],
          "scattergl": [
           {
            "marker": {
             "colorbar": {
              "outlinewidth": 0,
              "ticks": ""
             }
            },
            "type": "scattergl"
           }
          ],
          "scattermapbox": [
           {
            "marker": {
             "colorbar": {
              "outlinewidth": 0,
              "ticks": ""
             }
            },
            "type": "scattermapbox"
           }
          ],
          "scatterpolar": [
           {
            "marker": {
             "colorbar": {
              "outlinewidth": 0,
              "ticks": ""
             }
            },
            "type": "scatterpolar"
           }
          ],
          "scatterpolargl": [
           {
            "marker": {
             "colorbar": {
              "outlinewidth": 0,
              "ticks": ""
             }
            },
            "type": "scatterpolargl"
           }
          ],
          "scatterternary": [
           {
            "marker": {
             "colorbar": {
              "outlinewidth": 0,
              "ticks": ""
             }
            },
            "type": "scatterternary"
           }
          ],
          "surface": [
           {
            "colorbar": {
             "outlinewidth": 0,
             "ticks": ""
            },
            "colorscale": [
             [
              0,
              "#0d0887"
             ],
             [
              0.1111111111111111,
              "#46039f"
             ],
             [
              0.2222222222222222,
              "#7201a8"
             ],
             [
              0.3333333333333333,
              "#9c179e"
             ],
             [
              0.4444444444444444,
              "#bd3786"
             ],
             [
              0.5555555555555556,
              "#d8576b"
             ],
             [
              0.6666666666666666,
              "#ed7953"
             ],
             [
              0.7777777777777778,
              "#fb9f3a"
             ],
             [
              0.8888888888888888,
              "#fdca26"
             ],
             [
              1,
              "#f0f921"
             ]
            ],
            "type": "surface"
           }
          ],
          "table": [
           {
            "cells": {
             "fill": {
              "color": "#EBF0F8"
             },
             "line": {
              "color": "white"
             }
            },
            "header": {
             "fill": {
              "color": "#C8D4E3"
             },
             "line": {
              "color": "white"
             }
            },
            "type": "table"
           }
          ]
         },
         "layout": {
          "annotationdefaults": {
           "arrowcolor": "#2a3f5f",
           "arrowhead": 0,
           "arrowwidth": 1
          },
          "autotypenumbers": "strict",
          "coloraxis": {
           "colorbar": {
            "outlinewidth": 0,
            "ticks": ""
           }
          },
          "colorscale": {
           "diverging": [
            [
             0,
             "#8e0152"
            ],
            [
             0.1,
             "#c51b7d"
            ],
            [
             0.2,
             "#de77ae"
            ],
            [
             0.3,
             "#f1b6da"
            ],
            [
             0.4,
             "#fde0ef"
            ],
            [
             0.5,
             "#f7f7f7"
            ],
            [
             0.6,
             "#e6f5d0"
            ],
            [
             0.7,
             "#b8e186"
            ],
            [
             0.8,
             "#7fbc41"
            ],
            [
             0.9,
             "#4d9221"
            ],
            [
             1,
             "#276419"
            ]
           ],
           "sequential": [
            [
             0,
             "#0d0887"
            ],
            [
             0.1111111111111111,
             "#46039f"
            ],
            [
             0.2222222222222222,
             "#7201a8"
            ],
            [
             0.3333333333333333,
             "#9c179e"
            ],
            [
             0.4444444444444444,
             "#bd3786"
            ],
            [
             0.5555555555555556,
             "#d8576b"
            ],
            [
             0.6666666666666666,
             "#ed7953"
            ],
            [
             0.7777777777777778,
             "#fb9f3a"
            ],
            [
             0.8888888888888888,
             "#fdca26"
            ],
            [
             1,
             "#f0f921"
            ]
           ],
           "sequentialminus": [
            [
             0,
             "#0d0887"
            ],
            [
             0.1111111111111111,
             "#46039f"
            ],
            [
             0.2222222222222222,
             "#7201a8"
            ],
            [
             0.3333333333333333,
             "#9c179e"
            ],
            [
             0.4444444444444444,
             "#bd3786"
            ],
            [
             0.5555555555555556,
             "#d8576b"
            ],
            [
             0.6666666666666666,
             "#ed7953"
            ],
            [
             0.7777777777777778,
             "#fb9f3a"
            ],
            [
             0.8888888888888888,
             "#fdca26"
            ],
            [
             1,
             "#f0f921"
            ]
           ]
          },
          "colorway": [
           "#636efa",
           "#EF553B",
           "#00cc96",
           "#ab63fa",
           "#FFA15A",
           "#19d3f3",
           "#FF6692",
           "#B6E880",
           "#FF97FF",
           "#FECB52"
          ],
          "font": {
           "color": "#2a3f5f"
          },
          "geo": {
           "bgcolor": "white",
           "lakecolor": "white",
           "landcolor": "#E5ECF6",
           "showlakes": true,
           "showland": true,
           "subunitcolor": "white"
          },
          "hoverlabel": {
           "align": "left"
          },
          "hovermode": "closest",
          "mapbox": {
           "style": "light"
          },
          "paper_bgcolor": "white",
          "plot_bgcolor": "#E5ECF6",
          "polar": {
           "angularaxis": {
            "gridcolor": "white",
            "linecolor": "white",
            "ticks": ""
           },
           "bgcolor": "#E5ECF6",
           "radialaxis": {
            "gridcolor": "white",
            "linecolor": "white",
            "ticks": ""
           }
          },
          "scene": {
           "xaxis": {
            "backgroundcolor": "#E5ECF6",
            "gridcolor": "white",
            "gridwidth": 2,
            "linecolor": "white",
            "showbackground": true,
            "ticks": "",
            "zerolinecolor": "white"
           },
           "yaxis": {
            "backgroundcolor": "#E5ECF6",
            "gridcolor": "white",
            "gridwidth": 2,
            "linecolor": "white",
            "showbackground": true,
            "ticks": "",
            "zerolinecolor": "white"
           },
           "zaxis": {
            "backgroundcolor": "#E5ECF6",
            "gridcolor": "white",
            "gridwidth": 2,
            "linecolor": "white",
            "showbackground": true,
            "ticks": "",
            "zerolinecolor": "white"
           }
          },
          "shapedefaults": {
           "line": {
            "color": "#2a3f5f"
           }
          },
          "ternary": {
           "aaxis": {
            "gridcolor": "white",
            "linecolor": "white",
            "ticks": ""
           },
           "baxis": {
            "gridcolor": "white",
            "linecolor": "white",
            "ticks": ""
           },
           "bgcolor": "#E5ECF6",
           "caxis": {
            "gridcolor": "white",
            "linecolor": "white",
            "ticks": ""
           }
          },
          "title": {
           "x": 0.05
          },
          "xaxis": {
           "automargin": true,
           "gridcolor": "white",
           "linecolor": "white",
           "ticks": "",
           "title": {
            "standoff": 15
           },
           "zerolinecolor": "white",
           "zerolinewidth": 2
          },
          "yaxis": {
           "automargin": true,
           "gridcolor": "white",
           "linecolor": "white",
           "ticks": "",
           "title": {
            "standoff": 15
           },
           "zerolinecolor": "white",
           "zerolinewidth": 2
          }
         }
        },
        "title": {
         "text": "Average ROI by Year for Each Marketing Channel (Selected Campaigns: Easter Sale, Mid-Year Sale, Christmas Sale)"
        },
        "xaxis": {
         "anchor": "y",
         "domain": [
          0,
          1
         ],
         "title": {
          "text": "Year"
         }
        },
        "yaxis": {
         "anchor": "x",
         "domain": [
          0,
          1
         ],
         "title": {
          "text": "Average Return on Investment (%)"
         }
        }
       }
      }
     },
     "metadata": {},
     "output_type": "display_data"
    }
   ],
   "source": [
    "# Average ROI of each marketing channel for the selected campaigns acrsoss all years\n",
    "\n",
    "# input df and selected campaigns as a list\n",
    "analyze_avg_roi_by_year(df, [\"Easter Sale\", \"Mid-Year Sale\", \"Christmas Sale\"])\n"
   ]
  },
  {
   "cell_type": "markdown",
   "metadata": {},
   "source": [
    "Between 2014 and 2020, significant changes were observed in the average return on investment (ROI) across various marketing channels, pointing to evolving consumer preferences and demographic shifts. Notably:\n",
    "\n",
    "1. Decline in Traditional Media Channels:\n",
    "TV and Physical Channels: Both TV and Physical channels experienced a decline of approximately 50% in ROI over this period. This sharp drop may reflect a demographic shift away from traditional media as primary sources of engagement and purchasing influence, likely due to the increasing adoption of digital and social media platforms among younger audiences.\n",
    "\n",
    "2. Growth in Digital and Social Media Channels:\n",
    "YouTube, Instagram, and TikTok: In contrast, digital-first channels such as YouTube, Instagram, and TikTok showed a rising trend in ROI. This increase suggests that these platforms are becoming more effective at capturing audience attention and engagement, likely driven by their popularity among younger, digitally-native consumers. TikTok, in particular, has surged in recent years, reflecting its unique appeal in short-form content consumption and engagement.\n",
    "\n",
    "3. Implications of Content Consumption Trends:\n",
    "The upward trend in ROI for social platforms indicates a shift in content consumption preferences. Audiences are gravitating towards visually engaging, interactive, and mobile-friendly content, often tailored through algorithms to individual interests. This trend highlights the need for marketers to align content strategies with platform-specific formats and audience expectations.\n",
    "\n",
    "4. Strategic Marketing Considerations:\n",
    "These trends underscore the importance for brands to diversify their marketing strategies, focusing on digital channels where ROI is rising, while reevaluating investments in traditional media. A targeted approach that leverages the strengths of each platform—such as influencer collaborations on Instagram and short-form video content on TikTok—could maximize engagement and effectiveness."
   ]
  },
  {
   "cell_type": "code",
   "execution_count": 5,
   "metadata": {},
   "outputs": [
    {
     "data": {
      "application/vnd.plotly.v1+json": {
       "config": {
        "plotlyServerURL": "https://plot.ly"
       },
       "data": [
        {
         "customdata": [
          [
           2014,
           52.5
          ]
         ],
         "hovertemplate": "Marketing Channel=%{text}<br>year=%{customdata[0]}<br>Average Cost=%{x}<br>Average Revenue=%{y}<br>Average ROI (%)=%{customdata[1]}<extra></extra>",
         "legendgroup": "Instagram",
         "marker": {
          "color": "#636efa",
          "size": [
           52.5
          ],
          "sizemode": "area",
          "sizeref": 0.35,
          "symbol": "circle"
         },
         "mode": "markers+text",
         "name": "Instagram",
         "orientation": "v",
         "showlegend": true,
         "text": [
          "Instagram"
         ],
         "textposition": "top center",
         "type": "scatter",
         "x": [
          2552.2746
         ],
         "xaxis": "x",
         "y": [
          3917.8915500000003
         ],
         "yaxis": "y"
        },
        {
         "customdata": [
          [
           2014,
           117.5
          ]
         ],
         "hovertemplate": "Marketing Channel=%{text}<br>year=%{customdata[0]}<br>Average Cost=%{x}<br>Average Revenue=%{y}<br>Average ROI (%)=%{customdata[1]}<extra></extra>",
         "legendgroup": "Physical",
         "marker": {
          "color": "#EF553B",
          "size": [
           117.5
          ],
          "sizemode": "area",
          "sizeref": 0.35,
          "symbol": "circle"
         },
         "mode": "markers+text",
         "name": "Physical",
         "orientation": "v",
         "showlegend": true,
         "text": [
          "Physical"
         ],
         "textposition": "top center",
         "type": "scatter",
         "x": [
          12573.47565
         ],
         "xaxis": "x",
         "y": [
          27689.708455
         ],
         "yaxis": "y"
        },
        {
         "customdata": [
          [
           2014,
           76.5
          ]
         ],
         "hovertemplate": "Marketing Channel=%{text}<br>year=%{customdata[0]}<br>Average Cost=%{x}<br>Average Revenue=%{y}<br>Average ROI (%)=%{customdata[1]}<extra></extra>",
         "legendgroup": "Radio",
         "marker": {
          "color": "#00cc96",
          "size": [
           76.5
          ],
          "sizemode": "area",
          "sizeref": 0.35,
          "symbol": "circle"
         },
         "mode": "markers+text",
         "name": "Radio",
         "orientation": "v",
         "showlegend": true,
         "text": [
          "Radio"
         ],
         "textposition": "top center",
         "type": "scatter",
         "x": [
          7590.69825
         ],
         "xaxis": "x",
         "y": [
          13304.305795
         ],
         "yaxis": "y"
        },
        {
         "customdata": [
          [
           2014,
           125
          ]
         ],
         "hovertemplate": "Marketing Channel=%{text}<br>year=%{customdata[0]}<br>Average Cost=%{x}<br>Average Revenue=%{y}<br>Average ROI (%)=%{customdata[1]}<extra></extra>",
         "legendgroup": "TV",
         "marker": {
          "color": "#ab63fa",
          "size": [
           125
          ],
          "sizemode": "area",
          "sizeref": 0.35,
          "symbol": "circle"
         },
         "mode": "markers+text",
         "name": "TV",
         "orientation": "v",
         "showlegend": true,
         "text": [
          "TV"
         ],
         "textposition": "top center",
         "type": "scatter",
         "x": [
          20193.24735
         ],
         "xaxis": "x",
         "y": [
          45812.078745
         ],
         "yaxis": "y"
        },
        {
         "customdata": [
          [
           2014,
           0
          ]
         ],
         "hovertemplate": "Marketing Channel=%{text}<br>year=%{customdata[0]}<br>Average Cost=%{x}<br>Average Revenue=%{y}<br>Average ROI (%)=%{customdata[1]}<extra></extra>",
         "legendgroup": "TikTok",
         "marker": {
          "color": "#FFA15A",
          "size": [
           0
          ],
          "sizemode": "area",
          "sizeref": 0.35,
          "symbol": "circle"
         },
         "mode": "markers+text",
         "name": "TikTok",
         "orientation": "v",
         "showlegend": true,
         "text": [
          "TikTok"
         ],
         "textposition": "top center",
         "type": "scatter",
         "x": [
          0
         ],
         "xaxis": "x",
         "y": [
          0
         ],
         "yaxis": "y"
        },
        {
         "customdata": [
          [
           2014,
           90
          ]
         ],
         "hovertemplate": "Marketing Channel=%{text}<br>year=%{customdata[0]}<br>Average Cost=%{x}<br>Average Revenue=%{y}<br>Average ROI (%)=%{customdata[1]}<extra></extra>",
         "legendgroup": "YouTube",
         "marker": {
          "color": "#19d3f3",
          "size": [
           90
          ],
          "sizemode": "area",
          "sizeref": 0.35,
          "symbol": "circle"
         },
         "mode": "markers+text",
         "name": "YouTube",
         "orientation": "v",
         "showlegend": true,
         "text": [
          "YouTube"
         ],
         "textposition": "top center",
         "type": "scatter",
         "x": [
          7394.754150000001
         ],
         "xaxis": "x",
         "y": [
          14050.032884999999
         ],
         "yaxis": "y"
        }
       ],
       "frames": [
        {
         "data": [
          {
           "customdata": [
            [
             2014,
             52.5
            ]
           ],
           "hovertemplate": "Marketing Channel=%{text}<br>year=%{customdata[0]}<br>Average Cost=%{x}<br>Average Revenue=%{y}<br>Average ROI (%)=%{customdata[1]}<extra></extra>",
           "legendgroup": "Instagram",
           "marker": {
            "color": "#636efa",
            "size": [
             52.5
            ],
            "sizemode": "area",
            "sizeref": 0.35,
            "symbol": "circle"
           },
           "mode": "markers+text",
           "name": "Instagram",
           "orientation": "v",
           "showlegend": true,
           "text": [
            "Instagram"
           ],
           "type": "scatter",
           "x": [
            2552.2746
           ],
           "xaxis": "x",
           "y": [
            3917.8915500000003
           ],
           "yaxis": "y"
          },
          {
           "customdata": [
            [
             2014,
             117.5
            ]
           ],
           "hovertemplate": "Marketing Channel=%{text}<br>year=%{customdata[0]}<br>Average Cost=%{x}<br>Average Revenue=%{y}<br>Average ROI (%)=%{customdata[1]}<extra></extra>",
           "legendgroup": "Physical",
           "marker": {
            "color": "#EF553B",
            "size": [
             117.5
            ],
            "sizemode": "area",
            "sizeref": 0.35,
            "symbol": "circle"
           },
           "mode": "markers+text",
           "name": "Physical",
           "orientation": "v",
           "showlegend": true,
           "text": [
            "Physical"
           ],
           "type": "scatter",
           "x": [
            12573.47565
           ],
           "xaxis": "x",
           "y": [
            27689.708455
           ],
           "yaxis": "y"
          },
          {
           "customdata": [
            [
             2014,
             76.5
            ]
           ],
           "hovertemplate": "Marketing Channel=%{text}<br>year=%{customdata[0]}<br>Average Cost=%{x}<br>Average Revenue=%{y}<br>Average ROI (%)=%{customdata[1]}<extra></extra>",
           "legendgroup": "Radio",
           "marker": {
            "color": "#00cc96",
            "size": [
             76.5
            ],
            "sizemode": "area",
            "sizeref": 0.35,
            "symbol": "circle"
           },
           "mode": "markers+text",
           "name": "Radio",
           "orientation": "v",
           "showlegend": true,
           "text": [
            "Radio"
           ],
           "type": "scatter",
           "x": [
            7590.69825
           ],
           "xaxis": "x",
           "y": [
            13304.305795
           ],
           "yaxis": "y"
          },
          {
           "customdata": [
            [
             2014,
             125
            ]
           ],
           "hovertemplate": "Marketing Channel=%{text}<br>year=%{customdata[0]}<br>Average Cost=%{x}<br>Average Revenue=%{y}<br>Average ROI (%)=%{customdata[1]}<extra></extra>",
           "legendgroup": "TV",
           "marker": {
            "color": "#ab63fa",
            "size": [
             125
            ],
            "sizemode": "area",
            "sizeref": 0.35,
            "symbol": "circle"
           },
           "mode": "markers+text",
           "name": "TV",
           "orientation": "v",
           "showlegend": true,
           "text": [
            "TV"
           ],
           "type": "scatter",
           "x": [
            20193.24735
           ],
           "xaxis": "x",
           "y": [
            45812.078745
           ],
           "yaxis": "y"
          },
          {
           "customdata": [
            [
             2014,
             0
            ]
           ],
           "hovertemplate": "Marketing Channel=%{text}<br>year=%{customdata[0]}<br>Average Cost=%{x}<br>Average Revenue=%{y}<br>Average ROI (%)=%{customdata[1]}<extra></extra>",
           "legendgroup": "TikTok",
           "marker": {
            "color": "#FFA15A",
            "size": [
             0
            ],
            "sizemode": "area",
            "sizeref": 0.35,
            "symbol": "circle"
           },
           "mode": "markers+text",
           "name": "TikTok",
           "orientation": "v",
           "showlegend": true,
           "text": [
            "TikTok"
           ],
           "type": "scatter",
           "x": [
            0
           ],
           "xaxis": "x",
           "y": [
            0
           ],
           "yaxis": "y"
          },
          {
           "customdata": [
            [
             2014,
             90
            ]
           ],
           "hovertemplate": "Marketing Channel=%{text}<br>year=%{customdata[0]}<br>Average Cost=%{x}<br>Average Revenue=%{y}<br>Average ROI (%)=%{customdata[1]}<extra></extra>",
           "legendgroup": "YouTube",
           "marker": {
            "color": "#19d3f3",
            "size": [
             90
            ],
            "sizemode": "area",
            "sizeref": 0.35,
            "symbol": "circle"
           },
           "mode": "markers+text",
           "name": "YouTube",
           "orientation": "v",
           "showlegend": true,
           "text": [
            "YouTube"
           ],
           "type": "scatter",
           "x": [
            7394.754150000001
           ],
           "xaxis": "x",
           "y": [
            14050.032884999999
           ],
           "yaxis": "y"
          }
         ],
         "name": "2014"
        },
        {
         "data": [
          {
           "customdata": [
            [
             2015,
             86
            ]
           ],
           "hovertemplate": "Marketing Channel=%{text}<br>year=%{customdata[0]}<br>Average Cost=%{x}<br>Average Revenue=%{y}<br>Average ROI (%)=%{customdata[1]}<extra></extra>",
           "legendgroup": "Instagram",
           "marker": {
            "color": "#636efa",
            "size": [
             86
            ],
            "sizemode": "area",
            "sizeref": 0.35,
            "symbol": "circle"
           },
           "mode": "markers+text",
           "name": "Instagram",
           "orientation": "v",
           "showlegend": true,
           "text": [
            "Instagram"
           ],
           "type": "scatter",
           "x": [
            3975.3412
           ],
           "xaxis": "x",
           "y": [
            7461.288304
           ],
           "yaxis": "y"
          },
          {
           "customdata": [
            [
             2015,
             97
            ]
           ],
           "hovertemplate": "Marketing Channel=%{text}<br>year=%{customdata[0]}<br>Average Cost=%{x}<br>Average Revenue=%{y}<br>Average ROI (%)=%{customdata[1]}<extra></extra>",
           "legendgroup": "Physical",
           "marker": {
            "color": "#EF553B",
            "size": [
             97
            ],
            "sizemode": "area",
            "sizeref": 0.35,
            "symbol": "circle"
           },
           "mode": "markers+text",
           "name": "Physical",
           "orientation": "v",
           "showlegend": true,
           "text": [
            "Physical"
           ],
           "type": "scatter",
           "x": [
            10991.47805
           ],
           "xaxis": "x",
           "y": [
            21696.29252
           ],
           "yaxis": "y"
          },
          {
           "customdata": [
            [
             2015,
             67.5
            ]
           ],
           "hovertemplate": "Marketing Channel=%{text}<br>year=%{customdata[0]}<br>Average Cost=%{x}<br>Average Revenue=%{y}<br>Average ROI (%)=%{customdata[1]}<extra></extra>",
           "legendgroup": "Radio",
           "marker": {
            "color": "#00cc96",
            "size": [
             67.5
            ],
            "sizemode": "area",
            "sizeref": 0.35,
            "symbol": "circle"
           },
           "mode": "markers+text",
           "name": "Radio",
           "orientation": "v",
           "showlegend": true,
           "text": [
            "Radio"
           ],
           "type": "scatter",
           "x": [
            6277.88235
           ],
           "xaxis": "x",
           "y": [
            10457.87364
           ],
           "yaxis": "y"
          },
          {
           "customdata": [
            [
             2015,
             104
            ]
           ],
           "hovertemplate": "Marketing Channel=%{text}<br>year=%{customdata[0]}<br>Average Cost=%{x}<br>Average Revenue=%{y}<br>Average ROI (%)=%{customdata[1]}<extra></extra>",
           "legendgroup": "TV",
           "marker": {
            "color": "#ab63fa",
            "size": [
             104
            ],
            "sizemode": "area",
            "sizeref": 0.35,
            "symbol": "circle"
           },
           "mode": "markers+text",
           "name": "TV",
           "orientation": "v",
           "showlegend": true,
           "text": [
            "TV"
           ],
           "type": "scatter",
           "x": [
            18291.6836
           ],
           "xaxis": "x",
           "y": [
            37035.60093
           ],
           "yaxis": "y"
          },
          {
           "customdata": [
            [
             2015,
             0
            ]
           ],
           "hovertemplate": "Marketing Channel=%{text}<br>year=%{customdata[0]}<br>Average Cost=%{x}<br>Average Revenue=%{y}<br>Average ROI (%)=%{customdata[1]}<extra></extra>",
           "legendgroup": "TikTok",
           "marker": {
            "color": "#FFA15A",
            "size": [
             0
            ],
            "sizemode": "area",
            "sizeref": 0.35,
            "symbol": "circle"
           },
           "mode": "markers+text",
           "name": "TikTok",
           "orientation": "v",
           "showlegend": true,
           "text": [
            "TikTok"
           ],
           "type": "scatter",
           "x": [
            0
           ],
           "xaxis": "x",
           "y": [
            0
           ],
           "yaxis": "y"
          },
          {
           "customdata": [
            [
             2015,
             105
            ]
           ],
           "hovertemplate": "Marketing Channel=%{text}<br>year=%{customdata[0]}<br>Average Cost=%{x}<br>Average Revenue=%{y}<br>Average ROI (%)=%{customdata[1]}<extra></extra>",
           "legendgroup": "YouTube",
           "marker": {
            "color": "#19d3f3",
            "size": [
             105
            ],
            "sizemode": "area",
            "sizeref": 0.35,
            "symbol": "circle"
           },
           "mode": "markers+text",
           "name": "YouTube",
           "orientation": "v",
           "showlegend": true,
           "text": [
            "YouTube"
           ],
           "type": "scatter",
           "x": [
            8444.6648
           ],
           "xaxis": "x",
           "y": [
            17311.56284
           ],
           "yaxis": "y"
          }
         ],
         "name": "2015"
        },
        {
         "data": [
          {
           "customdata": [
            [
             2016,
             102.5
            ]
           ],
           "hovertemplate": "Marketing Channel=%{text}<br>year=%{customdata[0]}<br>Average Cost=%{x}<br>Average Revenue=%{y}<br>Average ROI (%)=%{customdata[1]}<extra></extra>",
           "legendgroup": "Instagram",
           "marker": {
            "color": "#636efa",
            "size": [
             102.5
            ],
            "sizemode": "area",
            "sizeref": 0.35,
            "symbol": "circle"
           },
           "mode": "markers+text",
           "name": "Instagram",
           "orientation": "v",
           "showlegend": true,
           "text": [
            "Instagram"
           ],
           "type": "scatter",
           "x": [
            7125.926450000001
           ],
           "xaxis": "x",
           "y": [
            14502.827659999999
           ],
           "yaxis": "y"
          },
          {
           "customdata": [
            [
             2016,
             83.5
            ]
           ],
           "hovertemplate": "Marketing Channel=%{text}<br>year=%{customdata[0]}<br>Average Cost=%{x}<br>Average Revenue=%{y}<br>Average ROI (%)=%{customdata[1]}<extra></extra>",
           "legendgroup": "Physical",
           "marker": {
            "color": "#EF553B",
            "size": [
             83.5
            ],
            "sizemode": "area",
            "sizeref": 0.35,
            "symbol": "circle"
           },
           "mode": "markers+text",
           "name": "Physical",
           "orientation": "v",
           "showlegend": true,
           "text": [
            "Physical"
           ],
           "type": "scatter",
           "x": [
            11334.73605
           ],
           "xaxis": "x",
           "y": [
            20728.811685
           ],
           "yaxis": "y"
          },
          {
           "customdata": [
            [
             2016,
             59.5
            ]
           ],
           "hovertemplate": "Marketing Channel=%{text}<br>year=%{customdata[0]}<br>Average Cost=%{x}<br>Average Revenue=%{y}<br>Average ROI (%)=%{customdata[1]}<extra></extra>",
           "legendgroup": "Radio",
           "marker": {
            "color": "#00cc96",
            "size": [
             59.5
            ],
            "sizemode": "area",
            "sizeref": 0.35,
            "symbol": "circle"
           },
           "mode": "markers+text",
           "name": "Radio",
           "orientation": "v",
           "showlegend": true,
           "text": [
            "Radio"
           ],
           "type": "scatter",
           "x": [
            5635.31395
           ],
           "xaxis": "x",
           "y": [
            8976.832115
           ],
           "yaxis": "y"
          },
          {
           "customdata": [
            [
             2016,
             95.5
            ]
           ],
           "hovertemplate": "Marketing Channel=%{text}<br>year=%{customdata[0]}<br>Average Cost=%{x}<br>Average Revenue=%{y}<br>Average ROI (%)=%{customdata[1]}<extra></extra>",
           "legendgroup": "TV",
           "marker": {
            "color": "#ab63fa",
            "size": [
             95.5
            ],
            "sizemode": "area",
            "sizeref": 0.35,
            "symbol": "circle"
           },
           "mode": "markers+text",
           "name": "TV",
           "orientation": "v",
           "showlegend": true,
           "text": [
            "TV"
           ],
           "type": "scatter",
           "x": [
            19974.90335
           ],
           "xaxis": "x",
           "y": [
            38843.93612
           ],
           "yaxis": "y"
          },
          {
           "customdata": [
            [
             2016,
             0
            ]
           ],
           "hovertemplate": "Marketing Channel=%{text}<br>year=%{customdata[0]}<br>Average Cost=%{x}<br>Average Revenue=%{y}<br>Average ROI (%)=%{customdata[1]}<extra></extra>",
           "legendgroup": "TikTok",
           "marker": {
            "color": "#FFA15A",
            "size": [
             0
            ],
            "sizemode": "area",
            "sizeref": 0.35,
            "symbol": "circle"
           },
           "mode": "markers+text",
           "name": "TikTok",
           "orientation": "v",
           "showlegend": true,
           "text": [
            "TikTok"
           ],
           "type": "scatter",
           "x": [
            0
           ],
           "xaxis": "x",
           "y": [
            0
           ],
           "yaxis": "y"
          },
          {
           "customdata": [
            [
             2016,
             121
            ]
           ],
           "hovertemplate": "Marketing Channel=%{text}<br>year=%{customdata[0]}<br>Average Cost=%{x}<br>Average Revenue=%{y}<br>Average ROI (%)=%{customdata[1]}<extra></extra>",
           "legendgroup": "YouTube",
           "marker": {
            "color": "#19d3f3",
            "size": [
             121
            ],
            "sizemode": "area",
            "sizeref": 0.35,
            "symbol": "circle"
           },
           "mode": "markers+text",
           "name": "YouTube",
           "orientation": "v",
           "showlegend": true,
           "text": [
            "YouTube"
           ],
           "type": "scatter",
           "x": [
            12602.800449999999
           ],
           "xaxis": "x",
           "y": [
            27905.081705
           ],
           "yaxis": "y"
          }
         ],
         "name": "2016"
        },
        {
         "data": [
          {
           "customdata": [
            [
             2017,
             112.5
            ]
           ],
           "hovertemplate": "Marketing Channel=%{text}<br>year=%{customdata[0]}<br>Average Cost=%{x}<br>Average Revenue=%{y}<br>Average ROI (%)=%{customdata[1]}<extra></extra>",
           "legendgroup": "Instagram",
           "marker": {
            "color": "#636efa",
            "size": [
             112.5
            ],
            "sizemode": "area",
            "sizeref": 0.35,
            "symbol": "circle"
           },
           "mode": "markers+text",
           "name": "Instagram",
           "orientation": "v",
           "showlegend": true,
           "text": [
            "Instagram"
           ],
           "type": "scatter",
           "x": [
            8741.341349999999
           ],
           "xaxis": "x",
           "y": [
            18684.274135
           ],
           "yaxis": "y"
          },
          {
           "customdata": [
            [
             2017,
             77.5
            ]
           ],
           "hovertemplate": "Marketing Channel=%{text}<br>year=%{customdata[0]}<br>Average Cost=%{x}<br>Average Revenue=%{y}<br>Average ROI (%)=%{customdata[1]}<extra></extra>",
           "legendgroup": "Physical",
           "marker": {
            "color": "#EF553B",
            "size": [
             77.5
            ],
            "sizemode": "area",
            "sizeref": 0.35,
            "symbol": "circle"
           },
           "mode": "markers+text",
           "name": "Physical",
           "orientation": "v",
           "showlegend": true,
           "text": [
            "Physical"
           ],
           "type": "scatter",
           "x": [
            10759.22085
           ],
           "xaxis": "x",
           "y": [
            19070.098213
           ],
           "yaxis": "y"
          },
          {
           "customdata": [
            [
             2017,
             55.5
            ]
           ],
           "hovertemplate": "Marketing Channel=%{text}<br>year=%{customdata[0]}<br>Average Cost=%{x}<br>Average Revenue=%{y}<br>Average ROI (%)=%{customdata[1]}<extra></extra>",
           "legendgroup": "Radio",
           "marker": {
            "color": "#00cc96",
            "size": [
             55.5
            ],
            "sizemode": "area",
            "sizeref": 0.35,
            "symbol": "circle"
           },
           "mode": "markers+text",
           "name": "Radio",
           "orientation": "v",
           "showlegend": true,
           "text": [
            "Radio"
           ],
           "type": "scatter",
           "x": [
            4647.9114
           ],
           "xaxis": "x",
           "y": [
            7216.457664
           ],
           "yaxis": "y"
          },
          {
           "customdata": [
            [
             2017,
             86
            ]
           ],
           "hovertemplate": "Marketing Channel=%{text}<br>year=%{customdata[0]}<br>Average Cost=%{x}<br>Average Revenue=%{y}<br>Average ROI (%)=%{customdata[1]}<extra></extra>",
           "legendgroup": "TV",
           "marker": {
            "color": "#ab63fa",
            "size": [
             86
            ],
            "sizemode": "area",
            "sizeref": 0.35,
            "symbol": "circle"
           },
           "mode": "markers+text",
           "name": "TV",
           "orientation": "v",
           "showlegend": true,
           "text": [
            "TV"
           ],
           "type": "scatter",
           "x": [
            18594.0483
           ],
           "xaxis": "x",
           "y": [
            34491.32288
           ],
           "yaxis": "y"
          },
          {
           "customdata": [
            [
             2017,
             51
            ]
           ],
           "hovertemplate": "Marketing Channel=%{text}<br>year=%{customdata[0]}<br>Average Cost=%{x}<br>Average Revenue=%{y}<br>Average ROI (%)=%{customdata[1]}<extra></extra>",
           "legendgroup": "TikTok",
           "marker": {
            "color": "#FFA15A",
            "size": [
             51
            ],
            "sizemode": "area",
            "sizeref": 0.35,
            "symbol": "circle"
           },
           "mode": "markers+text",
           "name": "TikTok",
           "orientation": "v",
           "showlegend": true,
           "text": [
            "TikTok"
           ],
           "type": "scatter",
           "x": [
            1256.94455
           ],
           "xaxis": "x",
           "y": [
            1892.095036
           ],
           "yaxis": "y"
          },
          {
           "customdata": [
            [
             2017,
             125.5
            ]
           ],
           "hovertemplate": "Marketing Channel=%{text}<br>year=%{customdata[0]}<br>Average Cost=%{x}<br>Average Revenue=%{y}<br>Average ROI (%)=%{customdata[1]}<extra></extra>",
           "legendgroup": "YouTube",
           "marker": {
            "color": "#19d3f3",
            "size": [
             125.5
            ],
            "sizemode": "area",
            "sizeref": 0.35,
            "symbol": "circle"
           },
           "mode": "markers+text",
           "name": "YouTube",
           "orientation": "v",
           "showlegend": true,
           "text": [
            "YouTube"
           ],
           "type": "scatter",
           "x": [
            14939.7579
           ],
           "xaxis": "x",
           "y": [
            33651.330615
           ],
           "yaxis": "y"
          }
         ],
         "name": "2017"
        },
        {
         "data": [
          {
           "customdata": [
            [
             2018,
             101.5
            ]
           ],
           "hovertemplate": "Marketing Channel=%{text}<br>year=%{customdata[0]}<br>Average Cost=%{x}<br>Average Revenue=%{y}<br>Average ROI (%)=%{customdata[1]}<extra></extra>",
           "legendgroup": "Instagram",
           "marker": {
            "color": "#636efa",
            "size": [
             101.5
            ],
            "sizemode": "area",
            "sizeref": 0.35,
            "symbol": "circle"
           },
           "mode": "markers+text",
           "name": "Instagram",
           "orientation": "v",
           "showlegend": true,
           "text": [
            "Instagram"
           ],
           "type": "scatter",
           "x": [
            9226.3751
           ],
           "xaxis": "x",
           "y": [
            18405.513525
           ],
           "yaxis": "y"
          },
          {
           "customdata": [
            [
             2018,
             77.5
            ]
           ],
           "hovertemplate": "Marketing Channel=%{text}<br>year=%{customdata[0]}<br>Average Cost=%{x}<br>Average Revenue=%{y}<br>Average ROI (%)=%{customdata[1]}<extra></extra>",
           "legendgroup": "Physical",
           "marker": {
            "color": "#EF553B",
            "size": [
             77.5
            ],
            "sizemode": "area",
            "sizeref": 0.35,
            "symbol": "circle"
           },
           "mode": "markers+text",
           "name": "Physical",
           "orientation": "v",
           "showlegend": true,
           "text": [
            "Physical"
           ],
           "type": "scatter",
           "x": [
            9654.5357
           ],
           "xaxis": "x",
           "y": [
            16895.10741
           ],
           "yaxis": "y"
          },
          {
           "customdata": [
            [
             2018,
             49.5
            ]
           ],
           "hovertemplate": "Marketing Channel=%{text}<br>year=%{customdata[0]}<br>Average Cost=%{x}<br>Average Revenue=%{y}<br>Average ROI (%)=%{customdata[1]}<extra></extra>",
           "legendgroup": "Radio",
           "marker": {
            "color": "#00cc96",
            "size": [
             49.5
            ],
            "sizemode": "area",
            "sizeref": 0.35,
            "symbol": "circle"
           },
           "mode": "markers+text",
           "name": "Radio",
           "orientation": "v",
           "showlegend": true,
           "text": [
            "Radio"
           ],
           "type": "scatter",
           "x": [
            3810.84065
           ],
           "xaxis": "x",
           "y": [
            5668.922162
           ],
           "yaxis": "y"
          },
          {
           "customdata": [
            [
             2018,
             78
            ]
           ],
           "hovertemplate": "Marketing Channel=%{text}<br>year=%{customdata[0]}<br>Average Cost=%{x}<br>Average Revenue=%{y}<br>Average ROI (%)=%{customdata[1]}<extra></extra>",
           "legendgroup": "TV",
           "marker": {
            "color": "#ab63fa",
            "size": [
             78
            ],
            "sizemode": "area",
            "sizeref": 0.35,
            "symbol": "circle"
           },
           "mode": "markers+text",
           "name": "TV",
           "orientation": "v",
           "showlegend": true,
           "text": [
            "TV"
           ],
           "type": "scatter",
           "x": [
            17197.170850000002
           ],
           "xaxis": "x",
           "y": [
            30238.81008
           ],
           "yaxis": "y"
          },
          {
           "customdata": [
            [
             2018,
             49
            ]
           ],
           "hovertemplate": "Marketing Channel=%{text}<br>year=%{customdata[0]}<br>Average Cost=%{x}<br>Average Revenue=%{y}<br>Average ROI (%)=%{customdata[1]}<extra></extra>",
           "legendgroup": "TikTok",
           "marker": {
            "color": "#FFA15A",
            "size": [
             49
            ],
            "sizemode": "area",
            "sizeref": 0.35,
            "symbol": "circle"
           },
           "mode": "markers+text",
           "name": "TikTok",
           "orientation": "v",
           "showlegend": true,
           "text": [
            "TikTok"
           ],
           "type": "scatter",
           "x": [
            1817.7672499999999
           ],
           "xaxis": "x",
           "y": [
            2697.75568
           ],
           "yaxis": "y"
          },
          {
           "customdata": [
            [
             2018,
             127.5
            ]
           ],
           "hovertemplate": "Marketing Channel=%{text}<br>year=%{customdata[0]}<br>Average Cost=%{x}<br>Average Revenue=%{y}<br>Average ROI (%)=%{customdata[1]}<extra></extra>",
           "legendgroup": "YouTube",
           "marker": {
            "color": "#19d3f3",
            "size": [
             127.5
            ],
            "sizemode": "area",
            "sizeref": 0.35,
            "symbol": "circle"
           },
           "mode": "markers+text",
           "name": "YouTube",
           "orientation": "v",
           "showlegend": true,
           "text": [
            "YouTube"
           ],
           "type": "scatter",
           "x": [
            13989.9689
           ],
           "xaxis": "x",
           "y": [
            31866.205565
           ],
           "yaxis": "y"
          }
         ],
         "name": "2018"
        },
        {
         "data": [
          {
           "customdata": [
            [
             2019,
             96.5
            ]
           ],
           "hovertemplate": "Marketing Channel=%{text}<br>year=%{customdata[0]}<br>Average Cost=%{x}<br>Average Revenue=%{y}<br>Average ROI (%)=%{customdata[1]}<extra></extra>",
           "legendgroup": "Instagram",
           "marker": {
            "color": "#636efa",
            "size": [
             96.5
            ],
            "sizemode": "area",
            "sizeref": 0.35,
            "symbol": "circle"
           },
           "mode": "markers+text",
           "name": "Instagram",
           "orientation": "v",
           "showlegend": true,
           "text": [
            "Instagram"
           ],
           "type": "scatter",
           "x": [
            11684.2036
           ],
           "xaxis": "x",
           "y": [
            22931.00826
           ],
           "yaxis": "y"
          },
          {
           "customdata": [
            [
             2019,
             65.5
            ]
           ],
           "hovertemplate": "Marketing Channel=%{text}<br>year=%{customdata[0]}<br>Average Cost=%{x}<br>Average Revenue=%{y}<br>Average ROI (%)=%{customdata[1]}<extra></extra>",
           "legendgroup": "Physical",
           "marker": {
            "color": "#EF553B",
            "size": [
             65.5
            ],
            "sizemode": "area",
            "sizeref": 0.35,
            "symbol": "circle"
           },
           "mode": "markers+text",
           "name": "Physical",
           "orientation": "v",
           "showlegend": true,
           "text": [
            "Physical"
           ],
           "type": "scatter",
           "x": [
            6851.670249999999
           ],
           "xaxis": "x",
           "y": [
            11292.6518975
           ],
           "yaxis": "y"
          },
          {
           "customdata": [
            [
             2019,
             44.5
            ]
           ],
           "hovertemplate": "Marketing Channel=%{text}<br>year=%{customdata[0]}<br>Average Cost=%{x}<br>Average Revenue=%{y}<br>Average ROI (%)=%{customdata[1]}<extra></extra>",
           "legendgroup": "Radio",
           "marker": {
            "color": "#00cc96",
            "size": [
             44.5
            ],
            "sizemode": "area",
            "sizeref": 0.35,
            "symbol": "circle"
           },
           "mode": "markers+text",
           "name": "Radio",
           "orientation": "v",
           "showlegend": true,
           "text": [
            "Radio"
           ],
           "type": "scatter",
           "x": [
            2645.79035
           ],
           "xaxis": "x",
           "y": [
            3817.6913299999997
           ],
           "yaxis": "y"
          },
          {
           "customdata": [
            [
             2019,
             77
            ]
           ],
           "hovertemplate": "Marketing Channel=%{text}<br>year=%{customdata[0]}<br>Average Cost=%{x}<br>Average Revenue=%{y}<br>Average ROI (%)=%{customdata[1]}<extra></extra>",
           "legendgroup": "TV",
           "marker": {
            "color": "#ab63fa",
            "size": [
             77
            ],
            "sizemode": "area",
            "sizeref": 0.35,
            "symbol": "circle"
           },
           "mode": "markers+text",
           "name": "TV",
           "orientation": "v",
           "showlegend": true,
           "text": [
            "TV"
           ],
           "type": "scatter",
           "x": [
            14039.0323
           ],
           "xaxis": "x",
           "y": [
            24784.1417
           ],
           "yaxis": "y"
          },
          {
           "customdata": [
            [
             2019,
             50
            ]
           ],
           "hovertemplate": "Marketing Channel=%{text}<br>year=%{customdata[0]}<br>Average Cost=%{x}<br>Average Revenue=%{y}<br>Average ROI (%)=%{customdata[1]}<extra></extra>",
           "legendgroup": "TikTok",
           "marker": {
            "color": "#FFA15A",
            "size": [
             50
            ],
            "sizemode": "area",
            "sizeref": 0.35,
            "symbol": "circle"
           },
           "mode": "markers+text",
           "name": "TikTok",
           "orientation": "v",
           "showlegend": true,
           "text": [
            "TikTok"
           ],
           "type": "scatter",
           "x": [
            5121.24175
           ],
           "xaxis": "x",
           "y": [
            7732.400487999999
           ],
           "yaxis": "y"
          },
          {
           "customdata": [
            [
             2019,
             140
            ]
           ],
           "hovertemplate": "Marketing Channel=%{text}<br>year=%{customdata[0]}<br>Average Cost=%{x}<br>Average Revenue=%{y}<br>Average ROI (%)=%{customdata[1]}<extra></extra>",
           "legendgroup": "YouTube",
           "marker": {
            "color": "#19d3f3",
            "size": [
             140
            ],
            "sizemode": "area",
            "sizeref": 0.35,
            "symbol": "circle"
           },
           "mode": "markers+text",
           "name": "YouTube",
           "orientation": "v",
           "showlegend": true,
           "text": [
            "YouTube"
           ],
           "type": "scatter",
           "x": [
            15658.762050000001
           ],
           "xaxis": "x",
           "y": [
            37581.02892
           ],
           "yaxis": "y"
          }
         ],
         "name": "2019"
        },
        {
         "data": [
          {
           "customdata": [
            [
             2020,
             99.5
            ]
           ],
           "hovertemplate": "Marketing Channel=%{text}<br>year=%{customdata[0]}<br>Average Cost=%{x}<br>Average Revenue=%{y}<br>Average ROI (%)=%{customdata[1]}<extra></extra>",
           "legendgroup": "Instagram",
           "marker": {
            "color": "#636efa",
            "size": [
             99.5
            ],
            "sizemode": "area",
            "sizeref": 0.35,
            "symbol": "circle"
           },
           "mode": "markers+text",
           "name": "Instagram",
           "orientation": "v",
           "showlegend": true,
           "text": [
            "Instagram"
           ],
           "type": "scatter",
           "x": [
            12030.0779
           ],
           "xaxis": "x",
           "y": [
            24090.961915
           ],
           "yaxis": "y"
          },
          {
           "customdata": [
            [
             2020,
             62
            ]
           ],
           "hovertemplate": "Marketing Channel=%{text}<br>year=%{customdata[0]}<br>Average Cost=%{x}<br>Average Revenue=%{y}<br>Average ROI (%)=%{customdata[1]}<extra></extra>",
           "legendgroup": "Physical",
           "marker": {
            "color": "#EF553B",
            "size": [
             62
            ],
            "sizemode": "area",
            "sizeref": 0.35,
            "symbol": "circle"
           },
           "mode": "markers+text",
           "name": "Physical",
           "orientation": "v",
           "showlegend": true,
           "text": [
            "Physical"
           ],
           "type": "scatter",
           "x": [
            5352.809
           ],
           "xaxis": "x",
           "y": [
            8511.308233
           ],
           "yaxis": "y"
          },
          {
           "customdata": [
            [
             2020,
             39.5
            ]
           ],
           "hovertemplate": "Marketing Channel=%{text}<br>year=%{customdata[0]}<br>Average Cost=%{x}<br>Average Revenue=%{y}<br>Average ROI (%)=%{customdata[1]}<extra></extra>",
           "legendgroup": "Radio",
           "marker": {
            "color": "#00cc96",
            "size": [
             39.5
            ],
            "sizemode": "area",
            "sizeref": 0.35,
            "symbol": "circle"
           },
           "mode": "markers+text",
           "name": "Radio",
           "orientation": "v",
           "showlegend": true,
           "text": [
            "Radio"
           ],
           "type": "scatter",
           "x": [
            2444.2383
           ],
           "xaxis": "x",
           "y": [
            3403.512285
           ],
           "yaxis": "y"
          },
          {
           "customdata": [
            [
             2020,
             69
            ]
           ],
           "hovertemplate": "Marketing Channel=%{text}<br>year=%{customdata[0]}<br>Average Cost=%{x}<br>Average Revenue=%{y}<br>Average ROI (%)=%{customdata[1]}<extra></extra>",
           "legendgroup": "TV",
           "marker": {
            "color": "#ab63fa",
            "size": [
             69
            ],
            "sizemode": "area",
            "sizeref": 0.35,
            "symbol": "circle"
           },
           "mode": "markers+text",
           "name": "TV",
           "orientation": "v",
           "showlegend": true,
           "text": [
            "TV"
           ],
           "type": "scatter",
           "x": [
            11921.069500000001
           ],
           "xaxis": "x",
           "y": [
            19912.796065000002
           ],
           "yaxis": "y"
          },
          {
           "customdata": [
            [
             2020,
             51.5
            ]
           ],
           "hovertemplate": "Marketing Channel=%{text}<br>year=%{customdata[0]}<br>Average Cost=%{x}<br>Average Revenue=%{y}<br>Average ROI (%)=%{customdata[1]}<extra></extra>",
           "legendgroup": "TikTok",
           "marker": {
            "color": "#FFA15A",
            "size": [
             51.5
            ],
            "sizemode": "area",
            "sizeref": 0.35,
            "symbol": "circle"
           },
           "mode": "markers+text",
           "name": "TikTok",
           "orientation": "v",
           "showlegend": true,
           "text": [
            "TikTok"
           ],
           "type": "scatter",
           "x": [
            6553.878500000001
           ],
           "xaxis": "x",
           "y": [
            10057.932805
           ],
           "yaxis": "y"
          },
          {
           "customdata": [
            [
             2020,
             139
            ]
           ],
           "hovertemplate": "Marketing Channel=%{text}<br>year=%{customdata[0]}<br>Average Cost=%{x}<br>Average Revenue=%{y}<br>Average ROI (%)=%{customdata[1]}<extra></extra>",
           "legendgroup": "YouTube",
           "marker": {
            "color": "#19d3f3",
            "size": [
             139
            ],
            "sizemode": "area",
            "sizeref": 0.35,
            "symbol": "circle"
           },
           "mode": "markers+text",
           "name": "YouTube",
           "orientation": "v",
           "showlegend": true,
           "text": [
            "YouTube"
           ],
           "type": "scatter",
           "x": [
            14337.939400000001
           ],
           "xaxis": "x",
           "y": [
            34481.05562
           ],
           "yaxis": "y"
          }
         ],
         "name": "2020"
        }
       ],
       "layout": {
        "legend": {
         "itemsizing": "constant",
         "title": {
          "text": "Marketing Channel"
         },
         "tracegroupgap": 0
        },
        "sliders": [
         {
          "active": 0,
          "currentvalue": {
           "prefix": "Year: "
          },
          "len": 0.9,
          "pad": {
           "b": 10,
           "t": 50
          },
          "steps": [
           {
            "args": [
             [
              "2014"
             ],
             {
              "frame": {
               "duration": 0,
               "redraw": false
              },
              "fromcurrent": true,
              "mode": "immediate",
              "transition": {
               "duration": 0,
               "easing": "linear"
              }
             }
            ],
            "label": "2014",
            "method": "animate"
           },
           {
            "args": [
             [
              "2015"
             ],
             {
              "frame": {
               "duration": 0,
               "redraw": false
              },
              "fromcurrent": true,
              "mode": "immediate",
              "transition": {
               "duration": 0,
               "easing": "linear"
              }
             }
            ],
            "label": "2015",
            "method": "animate"
           },
           {
            "args": [
             [
              "2016"
             ],
             {
              "frame": {
               "duration": 0,
               "redraw": false
              },
              "fromcurrent": true,
              "mode": "immediate",
              "transition": {
               "duration": 0,
               "easing": "linear"
              }
             }
            ],
            "label": "2016",
            "method": "animate"
           },
           {
            "args": [
             [
              "2017"
             ],
             {
              "frame": {
               "duration": 0,
               "redraw": false
              },
              "fromcurrent": true,
              "mode": "immediate",
              "transition": {
               "duration": 0,
               "easing": "linear"
              }
             }
            ],
            "label": "2017",
            "method": "animate"
           },
           {
            "args": [
             [
              "2018"
             ],
             {
              "frame": {
               "duration": 0,
               "redraw": false
              },
              "fromcurrent": true,
              "mode": "immediate",
              "transition": {
               "duration": 0,
               "easing": "linear"
              }
             }
            ],
            "label": "2018",
            "method": "animate"
           },
           {
            "args": [
             [
              "2019"
             ],
             {
              "frame": {
               "duration": 0,
               "redraw": false
              },
              "fromcurrent": true,
              "mode": "immediate",
              "transition": {
               "duration": 0,
               "easing": "linear"
              }
             }
            ],
            "label": "2019",
            "method": "animate"
           },
           {
            "args": [
             [
              "2020"
             ],
             {
              "frame": {
               "duration": 0,
               "redraw": false
              },
              "fromcurrent": true,
              "mode": "immediate",
              "transition": {
               "duration": 0,
               "easing": "linear"
              }
             }
            ],
            "label": "2020",
            "method": "animate"
           }
          ],
          "x": 0.1,
          "xanchor": "left",
          "y": 0,
          "yanchor": "top"
         }
        ],
        "template": {
         "data": {
          "bar": [
           {
            "error_x": {
             "color": "#2a3f5f"
            },
            "error_y": {
             "color": "#2a3f5f"
            },
            "marker": {
             "line": {
              "color": "#E5ECF6",
              "width": 0.5
             },
             "pattern": {
              "fillmode": "overlay",
              "size": 10,
              "solidity": 0.2
             }
            },
            "type": "bar"
           }
          ],
          "barpolar": [
           {
            "marker": {
             "line": {
              "color": "#E5ECF6",
              "width": 0.5
             },
             "pattern": {
              "fillmode": "overlay",
              "size": 10,
              "solidity": 0.2
             }
            },
            "type": "barpolar"
           }
          ],
          "carpet": [
           {
            "aaxis": {
             "endlinecolor": "#2a3f5f",
             "gridcolor": "white",
             "linecolor": "white",
             "minorgridcolor": "white",
             "startlinecolor": "#2a3f5f"
            },
            "baxis": {
             "endlinecolor": "#2a3f5f",
             "gridcolor": "white",
             "linecolor": "white",
             "minorgridcolor": "white",
             "startlinecolor": "#2a3f5f"
            },
            "type": "carpet"
           }
          ],
          "choropleth": [
           {
            "colorbar": {
             "outlinewidth": 0,
             "ticks": ""
            },
            "type": "choropleth"
           }
          ],
          "contour": [
           {
            "colorbar": {
             "outlinewidth": 0,
             "ticks": ""
            },
            "colorscale": [
             [
              0,
              "#0d0887"
             ],
             [
              0.1111111111111111,
              "#46039f"
             ],
             [
              0.2222222222222222,
              "#7201a8"
             ],
             [
              0.3333333333333333,
              "#9c179e"
             ],
             [
              0.4444444444444444,
              "#bd3786"
             ],
             [
              0.5555555555555556,
              "#d8576b"
             ],
             [
              0.6666666666666666,
              "#ed7953"
             ],
             [
              0.7777777777777778,
              "#fb9f3a"
             ],
             [
              0.8888888888888888,
              "#fdca26"
             ],
             [
              1,
              "#f0f921"
             ]
            ],
            "type": "contour"
           }
          ],
          "contourcarpet": [
           {
            "colorbar": {
             "outlinewidth": 0,
             "ticks": ""
            },
            "type": "contourcarpet"
           }
          ],
          "heatmap": [
           {
            "colorbar": {
             "outlinewidth": 0,
             "ticks": ""
            },
            "colorscale": [
             [
              0,
              "#0d0887"
             ],
             [
              0.1111111111111111,
              "#46039f"
             ],
             [
              0.2222222222222222,
              "#7201a8"
             ],
             [
              0.3333333333333333,
              "#9c179e"
             ],
             [
              0.4444444444444444,
              "#bd3786"
             ],
             [
              0.5555555555555556,
              "#d8576b"
             ],
             [
              0.6666666666666666,
              "#ed7953"
             ],
             [
              0.7777777777777778,
              "#fb9f3a"
             ],
             [
              0.8888888888888888,
              "#fdca26"
             ],
             [
              1,
              "#f0f921"
             ]
            ],
            "type": "heatmap"
           }
          ],
          "heatmapgl": [
           {
            "colorbar": {
             "outlinewidth": 0,
             "ticks": ""
            },
            "colorscale": [
             [
              0,
              "#0d0887"
             ],
             [
              0.1111111111111111,
              "#46039f"
             ],
             [
              0.2222222222222222,
              "#7201a8"
             ],
             [
              0.3333333333333333,
              "#9c179e"
             ],
             [
              0.4444444444444444,
              "#bd3786"
             ],
             [
              0.5555555555555556,
              "#d8576b"
             ],
             [
              0.6666666666666666,
              "#ed7953"
             ],
             [
              0.7777777777777778,
              "#fb9f3a"
             ],
             [
              0.8888888888888888,
              "#fdca26"
             ],
             [
              1,
              "#f0f921"
             ]
            ],
            "type": "heatmapgl"
           }
          ],
          "histogram": [
           {
            "marker": {
             "pattern": {
              "fillmode": "overlay",
              "size": 10,
              "solidity": 0.2
             }
            },
            "type": "histogram"
           }
          ],
          "histogram2d": [
           {
            "colorbar": {
             "outlinewidth": 0,
             "ticks": ""
            },
            "colorscale": [
             [
              0,
              "#0d0887"
             ],
             [
              0.1111111111111111,
              "#46039f"
             ],
             [
              0.2222222222222222,
              "#7201a8"
             ],
             [
              0.3333333333333333,
              "#9c179e"
             ],
             [
              0.4444444444444444,
              "#bd3786"
             ],
             [
              0.5555555555555556,
              "#d8576b"
             ],
             [
              0.6666666666666666,
              "#ed7953"
             ],
             [
              0.7777777777777778,
              "#fb9f3a"
             ],
             [
              0.8888888888888888,
              "#fdca26"
             ],
             [
              1,
              "#f0f921"
             ]
            ],
            "type": "histogram2d"
           }
          ],
          "histogram2dcontour": [
           {
            "colorbar": {
             "outlinewidth": 0,
             "ticks": ""
            },
            "colorscale": [
             [
              0,
              "#0d0887"
             ],
             [
              0.1111111111111111,
              "#46039f"
             ],
             [
              0.2222222222222222,
              "#7201a8"
             ],
             [
              0.3333333333333333,
              "#9c179e"
             ],
             [
              0.4444444444444444,
              "#bd3786"
             ],
             [
              0.5555555555555556,
              "#d8576b"
             ],
             [
              0.6666666666666666,
              "#ed7953"
             ],
             [
              0.7777777777777778,
              "#fb9f3a"
             ],
             [
              0.8888888888888888,
              "#fdca26"
             ],
             [
              1,
              "#f0f921"
             ]
            ],
            "type": "histogram2dcontour"
           }
          ],
          "mesh3d": [
           {
            "colorbar": {
             "outlinewidth": 0,
             "ticks": ""
            },
            "type": "mesh3d"
           }
          ],
          "parcoords": [
           {
            "line": {
             "colorbar": {
              "outlinewidth": 0,
              "ticks": ""
             }
            },
            "type": "parcoords"
           }
          ],
          "pie": [
           {
            "automargin": true,
            "type": "pie"
           }
          ],
          "scatter": [
           {
            "fillpattern": {
             "fillmode": "overlay",
             "size": 10,
             "solidity": 0.2
            },
            "type": "scatter"
           }
          ],
          "scatter3d": [
           {
            "line": {
             "colorbar": {
              "outlinewidth": 0,
              "ticks": ""
             }
            },
            "marker": {
             "colorbar": {
              "outlinewidth": 0,
              "ticks": ""
             }
            },
            "type": "scatter3d"
           }
          ],
          "scattercarpet": [
           {
            "marker": {
             "colorbar": {
              "outlinewidth": 0,
              "ticks": ""
             }
            },
            "type": "scattercarpet"
           }
          ],
          "scattergeo": [
           {
            "marker": {
             "colorbar": {
              "outlinewidth": 0,
              "ticks": ""
             }
            },
            "type": "scattergeo"
           }
          ],
          "scattergl": [
           {
            "marker": {
             "colorbar": {
              "outlinewidth": 0,
              "ticks": ""
             }
            },
            "type": "scattergl"
           }
          ],
          "scattermapbox": [
           {
            "marker": {
             "colorbar": {
              "outlinewidth": 0,
              "ticks": ""
             }
            },
            "type": "scattermapbox"
           }
          ],
          "scatterpolar": [
           {
            "marker": {
             "colorbar": {
              "outlinewidth": 0,
              "ticks": ""
             }
            },
            "type": "scatterpolar"
           }
          ],
          "scatterpolargl": [
           {
            "marker": {
             "colorbar": {
              "outlinewidth": 0,
              "ticks": ""
             }
            },
            "type": "scatterpolargl"
           }
          ],
          "scatterternary": [
           {
            "marker": {
             "colorbar": {
              "outlinewidth": 0,
              "ticks": ""
             }
            },
            "type": "scatterternary"
           }
          ],
          "surface": [
           {
            "colorbar": {
             "outlinewidth": 0,
             "ticks": ""
            },
            "colorscale": [
             [
              0,
              "#0d0887"
             ],
             [
              0.1111111111111111,
              "#46039f"
             ],
             [
              0.2222222222222222,
              "#7201a8"
             ],
             [
              0.3333333333333333,
              "#9c179e"
             ],
             [
              0.4444444444444444,
              "#bd3786"
             ],
             [
              0.5555555555555556,
              "#d8576b"
             ],
             [
              0.6666666666666666,
              "#ed7953"
             ],
             [
              0.7777777777777778,
              "#fb9f3a"
             ],
             [
              0.8888888888888888,
              "#fdca26"
             ],
             [
              1,
              "#f0f921"
             ]
            ],
            "type": "surface"
           }
          ],
          "table": [
           {
            "cells": {
             "fill": {
              "color": "#EBF0F8"
             },
             "line": {
              "color": "white"
             }
            },
            "header": {
             "fill": {
              "color": "#C8D4E3"
             },
             "line": {
              "color": "white"
             }
            },
            "type": "table"
           }
          ]
         },
         "layout": {
          "annotationdefaults": {
           "arrowcolor": "#2a3f5f",
           "arrowhead": 0,
           "arrowwidth": 1
          },
          "autotypenumbers": "strict",
          "coloraxis": {
           "colorbar": {
            "outlinewidth": 0,
            "ticks": ""
           }
          },
          "colorscale": {
           "diverging": [
            [
             0,
             "#8e0152"
            ],
            [
             0.1,
             "#c51b7d"
            ],
            [
             0.2,
             "#de77ae"
            ],
            [
             0.3,
             "#f1b6da"
            ],
            [
             0.4,
             "#fde0ef"
            ],
            [
             0.5,
             "#f7f7f7"
            ],
            [
             0.6,
             "#e6f5d0"
            ],
            [
             0.7,
             "#b8e186"
            ],
            [
             0.8,
             "#7fbc41"
            ],
            [
             0.9,
             "#4d9221"
            ],
            [
             1,
             "#276419"
            ]
           ],
           "sequential": [
            [
             0,
             "#0d0887"
            ],
            [
             0.1111111111111111,
             "#46039f"
            ],
            [
             0.2222222222222222,
             "#7201a8"
            ],
            [
             0.3333333333333333,
             "#9c179e"
            ],
            [
             0.4444444444444444,
             "#bd3786"
            ],
            [
             0.5555555555555556,
             "#d8576b"
            ],
            [
             0.6666666666666666,
             "#ed7953"
            ],
            [
             0.7777777777777778,
             "#fb9f3a"
            ],
            [
             0.8888888888888888,
             "#fdca26"
            ],
            [
             1,
             "#f0f921"
            ]
           ],
           "sequentialminus": [
            [
             0,
             "#0d0887"
            ],
            [
             0.1111111111111111,
             "#46039f"
            ],
            [
             0.2222222222222222,
             "#7201a8"
            ],
            [
             0.3333333333333333,
             "#9c179e"
            ],
            [
             0.4444444444444444,
             "#bd3786"
            ],
            [
             0.5555555555555556,
             "#d8576b"
            ],
            [
             0.6666666666666666,
             "#ed7953"
            ],
            [
             0.7777777777777778,
             "#fb9f3a"
            ],
            [
             0.8888888888888888,
             "#fdca26"
            ],
            [
             1,
             "#f0f921"
            ]
           ]
          },
          "colorway": [
           "#636efa",
           "#EF553B",
           "#00cc96",
           "#ab63fa",
           "#FFA15A",
           "#19d3f3",
           "#FF6692",
           "#B6E880",
           "#FF97FF",
           "#FECB52"
          ],
          "font": {
           "color": "#2a3f5f"
          },
          "geo": {
           "bgcolor": "white",
           "lakecolor": "white",
           "landcolor": "#E5ECF6",
           "showlakes": true,
           "showland": true,
           "subunitcolor": "white"
          },
          "hoverlabel": {
           "align": "left"
          },
          "hovermode": "closest",
          "mapbox": {
           "style": "light"
          },
          "paper_bgcolor": "white",
          "plot_bgcolor": "#E5ECF6",
          "polar": {
           "angularaxis": {
            "gridcolor": "white",
            "linecolor": "white",
            "ticks": ""
           },
           "bgcolor": "#E5ECF6",
           "radialaxis": {
            "gridcolor": "white",
            "linecolor": "white",
            "ticks": ""
           }
          },
          "scene": {
           "xaxis": {
            "backgroundcolor": "#E5ECF6",
            "gridcolor": "white",
            "gridwidth": 2,
            "linecolor": "white",
            "showbackground": true,
            "ticks": "",
            "zerolinecolor": "white"
           },
           "yaxis": {
            "backgroundcolor": "#E5ECF6",
            "gridcolor": "white",
            "gridwidth": 2,
            "linecolor": "white",
            "showbackground": true,
            "ticks": "",
            "zerolinecolor": "white"
           },
           "zaxis": {
            "backgroundcolor": "#E5ECF6",
            "gridcolor": "white",
            "gridwidth": 2,
            "linecolor": "white",
            "showbackground": true,
            "ticks": "",
            "zerolinecolor": "white"
           }
          },
          "shapedefaults": {
           "line": {
            "color": "#2a3f5f"
           }
          },
          "ternary": {
           "aaxis": {
            "gridcolor": "white",
            "linecolor": "white",
            "ticks": ""
           },
           "baxis": {
            "gridcolor": "white",
            "linecolor": "white",
            "ticks": ""
           },
           "bgcolor": "#E5ECF6",
           "caxis": {
            "gridcolor": "white",
            "linecolor": "white",
            "ticks": ""
           }
          },
          "title": {
           "x": 0.05
          },
          "xaxis": {
           "automargin": true,
           "gridcolor": "white",
           "linecolor": "white",
           "ticks": "",
           "title": {
            "standoff": 15
           },
           "zerolinecolor": "white",
           "zerolinewidth": 2
          },
          "yaxis": {
           "automargin": true,
           "gridcolor": "white",
           "linecolor": "white",
           "ticks": "",
           "title": {
            "standoff": 15
           },
           "zerolinecolor": "white",
           "zerolinewidth": 2
          }
         }
        },
        "title": {
         "text": "Average Revenue vs. Cost vs ROI (Campaigns: Easter Sale, Mid-Year Sale, Christmas Sale)"
        },
        "updatemenus": [
         {
          "buttons": [
           {
            "args": [
             null,
             {
              "frame": {
               "duration": 500,
               "redraw": false
              },
              "fromcurrent": true,
              "mode": "immediate",
              "transition": {
               "duration": 500,
               "easing": "linear"
              }
             }
            ],
            "label": "&#9654;",
            "method": "animate"
           },
           {
            "args": [
             [
              null
             ],
             {
              "frame": {
               "duration": 0,
               "redraw": false
              },
              "fromcurrent": true,
              "mode": "immediate",
              "transition": {
               "duration": 0,
               "easing": "linear"
              }
             }
            ],
            "label": "&#9724;",
            "method": "animate"
           }
          ],
          "direction": "left",
          "pad": {
           "r": 10,
           "t": 70
          },
          "showactive": false,
          "type": "buttons",
          "x": 0.1,
          "xanchor": "right",
          "y": 0,
          "yanchor": "top"
         }
        ],
        "xaxis": {
         "anchor": "y",
         "domain": [
          0,
          1
         ],
         "title": {
          "text": "Average Cost"
         }
        },
        "yaxis": {
         "anchor": "x",
         "domain": [
          0,
          1
         ],
         "title": {
          "text": "Average Revenue"
         }
        }
       }
      }
     },
     "metadata": {},
     "output_type": "display_data"
    }
   ],
   "source": [
    "# Usage example:\n",
    "# Assuming 'df' is your DataFrame containing campaign data\n",
    "plot_rev_cost_roi(df, [\"Easter Sale\", \"Mid-Year Sale\", \"Christmas Sale\"])\n"
   ]
  },
  {
   "cell_type": "markdown",
   "metadata": {},
   "source": [
    "Analysis of Cost, Revenue, and ROI Trends Across Marketing Channels\n",
    "\n",
    "A clear trend emerges: higher spending on a channel typically results in increased revenue. However, when considering return on investment (ROI), it’s apparent that increased spending does not necessarily yield proportionate revenue growth across all channels. This indicates a crucial insight: effective ROI is not solely dependent on high expenditure.\n",
    "\n",
    "For certain channels, even with lower costs, the revenue generated remains substantial, resulting in a significantly higher ROI. This trend emphasizes the importance of identifying channels where lower investments yield strong returns, rather than assuming that increased cost will automatically drive proportional revenue.\n",
    "\n",
    "For example, in 2020, spending on TV and Instagram was approximately the same. However, Instagram's ROI was notably higher than TV’s. This suggests that Instagram provides a more cost-effective way to generate revenue than TV, making it a more attractive channel for marketing investments for the following years. \n",
    "\n",
    "- Implications for Marketing Strategy\n",
    "1. Prioritize Channels with High ROI and Cost Efficiency:\n",
    "Channels that achieve high ROI at lower costs, like Instagram, should be prioritized. These platforms allow for cost-effective engagement with target demographics, particularly in digital-first, visually rich, and interactive formats that resonate with audiences.\n",
    "\n",
    "2. Reevaluate High-Cost, Low-ROI Channels:\n",
    "Channels like TV, which require substantial investment but do not show a proportional ROI, may need to be reconsidered. However these channels might serve strategic purposes (such as brand building or reaching specific demographics) hence it might still be justifiable to continue using the channels. If not, it would be more reasonable to allocated marketing budgets to higher-ROI platforms.\n",
    "\n",
    "3. Adopt a Balanced Multi-Channel Strategy:\n",
    "While channels with high ROI and lower costs should be prioritized, a balanced approach that combines digital channels with selective traditional media can provide comprehensive market coverage. This approach maximizes reach while optimizing for cost efficiency.\n"
   ]
  }
 ],
 "metadata": {
  "kernelspec": {
   "display_name": "Python 3",
   "language": "python",
   "name": "python3"
  },
  "language_info": {
   "codemirror_mode": {
    "name": "ipython",
    "version": 3
   },
   "file_extension": ".py",
   "mimetype": "text/x-python",
   "name": "python",
   "nbconvert_exporter": "python",
   "pygments_lexer": "ipython3",
   "version": "3.12.3"
  }
 },
 "nbformat": 4,
 "nbformat_minor": 2
}

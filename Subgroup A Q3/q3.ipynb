{
 "cells": [
  {
   "cell_type": "markdown",
   "metadata": {},
   "source": [
    "## Question 3: What are the most effective marketing channels and campaigns?\n",
    "#### **Import Packages**"
   ]
  },
  {
   "cell_type": "code",
   "execution_count": 7,
   "metadata": {},
   "outputs": [],
   "source": [
    "import pandas as pd\n",
    "import numpy as np\n",
    "from datetime import datetime\n",
    "import matplotlib.pyplot as plt\n",
    "import seaborn as sns\n",
    "import plotly.express as px\n",
    "import plotly.graph_objects as go\n",
    "from plotly.subplots import make_subplots\n",
    "from q3 import *"
   ]
  },
  {
   "cell_type": "markdown",
   "metadata": {},
   "source": [
    "#### **Data Cleaning**"
   ]
  },
  {
   "cell_type": "code",
   "execution_count": null,
   "metadata": {},
   "outputs": [
    {
     "data": {
      "text/html": [
       "<div>\n",
       "<style scoped>\n",
       "    .dataframe tbody tr th:only-of-type {\n",
       "        vertical-align: middle;\n",
       "    }\n",
       "\n",
       "    .dataframe tbody tr th {\n",
       "        vertical-align: top;\n",
       "    }\n",
       "\n",
       "    .dataframe thead th {\n",
       "        text-align: right;\n",
       "    }\n",
       "</style>\n",
       "<table border=\"1\" class=\"dataframe\">\n",
       "  <thead>\n",
       "    <tr style=\"text-align: right;\">\n",
       "      <th></th>\n",
       "      <th>year</th>\n",
       "      <th>campaign_key</th>\n",
       "      <th>campaign_name</th>\n",
       "      <th>channel_type</th>\n",
       "      <th>rev</th>\n",
       "      <th>cost</th>\n",
       "      <th>roi</th>\n",
       "      <th>mkt_key</th>\n",
       "    </tr>\n",
       "  </thead>\n",
       "  <tbody>\n",
       "    <tr>\n",
       "      <th>0</th>\n",
       "      <td>2014</td>\n",
       "      <td>2014-EST-APR</td>\n",
       "      <td>Easter Sale</td>\n",
       "      <td>Radio</td>\n",
       "      <td>8866.17360</td>\n",
       "      <td>4925.6520</td>\n",
       "      <td>80</td>\n",
       "      <td>MKT-RADIO-EASSAL-2014</td>\n",
       "    </tr>\n",
       "    <tr>\n",
       "      <th>1</th>\n",
       "      <td>2014</td>\n",
       "      <td>2014-EST-APR</td>\n",
       "      <td>Easter Sale</td>\n",
       "      <td>TV</td>\n",
       "      <td>27825.16704</td>\n",
       "      <td>12647.8032</td>\n",
       "      <td>120</td>\n",
       "      <td>MKT-TV-EASSAL-2014</td>\n",
       "    </tr>\n",
       "    <tr>\n",
       "      <th>2</th>\n",
       "      <td>2014</td>\n",
       "      <td>2014-EST-APR</td>\n",
       "      <td>Easter Sale</td>\n",
       "      <td>Physical</td>\n",
       "      <td>16817.12928</td>\n",
       "      <td>8008.1568</td>\n",
       "      <td>110</td>\n",
       "      <td>MKT-PHYSICAL-EASSAL-2014</td>\n",
       "    </tr>\n",
       "    <tr>\n",
       "      <th>3</th>\n",
       "      <td>2014</td>\n",
       "      <td>2014-EST-APR</td>\n",
       "      <td>Easter Sale</td>\n",
       "      <td>Instagram</td>\n",
       "      <td>2288.04480</td>\n",
       "      <td>1525.3632</td>\n",
       "      <td>50</td>\n",
       "      <td>MKT-INSTAGRAM-EASSAL-2014</td>\n",
       "    </tr>\n",
       "    <tr>\n",
       "      <th>4</th>\n",
       "      <td>2014</td>\n",
       "      <td>2014-EST-APR</td>\n",
       "      <td>Easter Sale</td>\n",
       "      <td>TikTok</td>\n",
       "      <td>0.00000</td>\n",
       "      <td>0.0000</td>\n",
       "      <td>0</td>\n",
       "      <td>MKT-TIKTOK-EASSAL-2014</td>\n",
       "    </tr>\n",
       "  </tbody>\n",
       "</table>\n",
       "</div>"
      ],
      "text/plain": [
       "   year  campaign_key campaign_name channel_type          rev        cost  \\\n",
       "0  2014  2014-EST-APR   Easter Sale        Radio   8866.17360   4925.6520   \n",
       "1  2014  2014-EST-APR   Easter Sale           TV  27825.16704  12647.8032   \n",
       "2  2014  2014-EST-APR   Easter Sale     Physical  16817.12928   8008.1568   \n",
       "3  2014  2014-EST-APR   Easter Sale    Instagram   2288.04480   1525.3632   \n",
       "4  2014  2014-EST-APR   Easter Sale       TikTok      0.00000      0.0000   \n",
       "\n",
       "   roi                    mkt_key  \n",
       "0   80      MKT-RADIO-EASSAL-2014  \n",
       "1  120         MKT-TV-EASSAL-2014  \n",
       "2  110   MKT-PHYSICAL-EASSAL-2014  \n",
       "3   50  MKT-INSTAGRAM-EASSAL-2014  \n",
       "4    0     MKT-TIKTOK-EASSAL-2014  "
      ]
     },
     "execution_count": 8,
     "metadata": {},
     "output_type": "execute_result"
    }
   ],
   "source": [
    "# Read data for ROI analysis \n",
    "roi_df = pd.read_csv('../../mkt_channels.csv',low_memory=False)\n",
    "roi_df.head()"
   ]
  },
  {
   "cell_type": "code",
   "execution_count": null,
   "metadata": {},
   "outputs": [
    {
     "data": {
      "text/html": [
       "<div>\n",
       "<style scoped>\n",
       "    .dataframe tbody tr th:only-of-type {\n",
       "        vertical-align: middle;\n",
       "    }\n",
       "\n",
       "    .dataframe tbody tr th {\n",
       "        vertical-align: top;\n",
       "    }\n",
       "\n",
       "    .dataframe thead th {\n",
       "        text-align: right;\n",
       "    }\n",
       "</style>\n",
       "<table border=\"1\" class=\"dataframe\">\n",
       "  <thead>\n",
       "    <tr style=\"text-align: right;\">\n",
       "      <th></th>\n",
       "      <th>customer_key</th>\n",
       "      <th>quantity_purchased</th>\n",
       "      <th>total_price</th>\n",
       "      <th>purchase_date</th>\n",
       "      <th>description</th>\n",
       "      <th>revenue</th>\n",
       "      <th>campaign_key</th>\n",
       "      <th>mkt_chnl_key</th>\n",
       "      <th>month</th>\n",
       "      <th>year</th>\n",
       "      <th>campaign_name</th>\n",
       "      <th>category</th>\n",
       "    </tr>\n",
       "  </thead>\n",
       "  <tbody>\n",
       "    <tr>\n",
       "      <th>0</th>\n",
       "      <td>C002181</td>\n",
       "      <td>4</td>\n",
       "      <td>56.0</td>\n",
       "      <td>2014-01-20</td>\n",
       "      <td>Dishware - Cups Hot</td>\n",
       "      <td>36.0</td>\n",
       "      <td>NaN</td>\n",
       "      <td>NaN</td>\n",
       "      <td>1</td>\n",
       "      <td>2014</td>\n",
       "      <td>NaN</td>\n",
       "      <td>Dishware</td>\n",
       "    </tr>\n",
       "    <tr>\n",
       "      <th>1</th>\n",
       "      <td>C005518</td>\n",
       "      <td>4</td>\n",
       "      <td>64.0</td>\n",
       "      <td>2014-01-20</td>\n",
       "      <td>Food - Healthy</td>\n",
       "      <td>8.0</td>\n",
       "      <td>NaN</td>\n",
       "      <td>NaN</td>\n",
       "      <td>1</td>\n",
       "      <td>2014</td>\n",
       "      <td>NaN</td>\n",
       "      <td>Food</td>\n",
       "    </tr>\n",
       "    <tr>\n",
       "      <th>2</th>\n",
       "      <td>C002449</td>\n",
       "      <td>6</td>\n",
       "      <td>102.0</td>\n",
       "      <td>2014-01-20</td>\n",
       "      <td>Coffee Ground</td>\n",
       "      <td>30.0</td>\n",
       "      <td>NaN</td>\n",
       "      <td>NaN</td>\n",
       "      <td>1</td>\n",
       "      <td>2014</td>\n",
       "      <td>NaN</td>\n",
       "      <td>Coffee products</td>\n",
       "    </tr>\n",
       "    <tr>\n",
       "      <th>3</th>\n",
       "      <td>C005284</td>\n",
       "      <td>4</td>\n",
       "      <td>52.0</td>\n",
       "      <td>2014-01-20</td>\n",
       "      <td>Food - Sweets</td>\n",
       "      <td>40.0</td>\n",
       "      <td>NaN</td>\n",
       "      <td>NaN</td>\n",
       "      <td>1</td>\n",
       "      <td>2014</td>\n",
       "      <td>NaN</td>\n",
       "      <td>Food</td>\n",
       "    </tr>\n",
       "    <tr>\n",
       "      <th>4</th>\n",
       "      <td>C007996</td>\n",
       "      <td>6</td>\n",
       "      <td>102.0</td>\n",
       "      <td>2014-01-20</td>\n",
       "      <td>Food - Healthy</td>\n",
       "      <td>18.0</td>\n",
       "      <td>NaN</td>\n",
       "      <td>NaN</td>\n",
       "      <td>1</td>\n",
       "      <td>2014</td>\n",
       "      <td>NaN</td>\n",
       "      <td>Food</td>\n",
       "    </tr>\n",
       "    <tr>\n",
       "      <th>...</th>\n",
       "      <td>...</td>\n",
       "      <td>...</td>\n",
       "      <td>...</td>\n",
       "      <td>...</td>\n",
       "      <td>...</td>\n",
       "      <td>...</td>\n",
       "      <td>...</td>\n",
       "      <td>...</td>\n",
       "      <td>...</td>\n",
       "      <td>...</td>\n",
       "      <td>...</td>\n",
       "      <td>...</td>\n",
       "    </tr>\n",
       "    <tr>\n",
       "      <th>991662</th>\n",
       "      <td>C002942</td>\n",
       "      <td>11</td>\n",
       "      <td>583.0</td>\n",
       "      <td>2020-12-31</td>\n",
       "      <td>Coffee K-Cups</td>\n",
       "      <td>484.0</td>\n",
       "      <td>2020-XMS-DEC</td>\n",
       "      <td>MKT-YOUTUBE-CHR-2020</td>\n",
       "      <td>12</td>\n",
       "      <td>2020</td>\n",
       "      <td>Christmas</td>\n",
       "      <td>Coffee products</td>\n",
       "    </tr>\n",
       "    <tr>\n",
       "      <th>991663</th>\n",
       "      <td>C005082</td>\n",
       "      <td>12</td>\n",
       "      <td>84.0</td>\n",
       "      <td>2020-12-31</td>\n",
       "      <td>a. Beverage - Soda</td>\n",
       "      <td>36.0</td>\n",
       "      <td>2020-XMS-DEC</td>\n",
       "      <td>NaN</td>\n",
       "      <td>12</td>\n",
       "      <td>2020</td>\n",
       "      <td>Christmas</td>\n",
       "      <td>Beverage</td>\n",
       "    </tr>\n",
       "    <tr>\n",
       "      <th>991664</th>\n",
       "      <td>C006247</td>\n",
       "      <td>14</td>\n",
       "      <td>98.0</td>\n",
       "      <td>2020-12-31</td>\n",
       "      <td>a. Beverage - Soda</td>\n",
       "      <td>14.0</td>\n",
       "      <td>2020-XMS-DEC</td>\n",
       "      <td>NaN</td>\n",
       "      <td>12</td>\n",
       "      <td>2020</td>\n",
       "      <td>Christmas</td>\n",
       "      <td>Beverage</td>\n",
       "    </tr>\n",
       "    <tr>\n",
       "      <th>991665</th>\n",
       "      <td>C006497</td>\n",
       "      <td>4</td>\n",
       "      <td>80.0</td>\n",
       "      <td>2020-12-31</td>\n",
       "      <td>Dishware - Plates</td>\n",
       "      <td>64.0</td>\n",
       "      <td>2020-XMS-DEC</td>\n",
       "      <td>NaN</td>\n",
       "      <td>12</td>\n",
       "      <td>2020</td>\n",
       "      <td>Christmas</td>\n",
       "      <td>Dishware</td>\n",
       "    </tr>\n",
       "    <tr>\n",
       "      <th>991666</th>\n",
       "      <td>C008706</td>\n",
       "      <td>4</td>\n",
       "      <td>64.0</td>\n",
       "      <td>2020-12-31</td>\n",
       "      <td>a. Beverage - Soda</td>\n",
       "      <td>32.0</td>\n",
       "      <td>2020-XMS-DEC</td>\n",
       "      <td>NaN</td>\n",
       "      <td>12</td>\n",
       "      <td>2020</td>\n",
       "      <td>Christmas</td>\n",
       "      <td>Beverage</td>\n",
       "    </tr>\n",
       "  </tbody>\n",
       "</table>\n",
       "<p>991667 rows × 12 columns</p>\n",
       "</div>"
      ],
      "text/plain": [
       "       customer_key  quantity_purchased  total_price purchase_date  \\\n",
       "0           C002181                   4         56.0    2014-01-20   \n",
       "1           C005518                   4         64.0    2014-01-20   \n",
       "2           C002449                   6        102.0    2014-01-20   \n",
       "3           C005284                   4         52.0    2014-01-20   \n",
       "4           C007996                   6        102.0    2014-01-20   \n",
       "...             ...                 ...          ...           ...   \n",
       "991662      C002942                  11        583.0    2020-12-31   \n",
       "991663      C005082                  12         84.0    2020-12-31   \n",
       "991664      C006247                  14         98.0    2020-12-31   \n",
       "991665      C006497                   4         80.0    2020-12-31   \n",
       "991666      C008706                   4         64.0    2020-12-31   \n",
       "\n",
       "                description  revenue  campaign_key          mkt_chnl_key  \\\n",
       "0       Dishware - Cups Hot     36.0           NaN                   NaN   \n",
       "1            Food - Healthy      8.0           NaN                   NaN   \n",
       "2             Coffee Ground     30.0           NaN                   NaN   \n",
       "3             Food - Sweets     40.0           NaN                   NaN   \n",
       "4            Food - Healthy     18.0           NaN                   NaN   \n",
       "...                     ...      ...           ...                   ...   \n",
       "991662        Coffee K-Cups    484.0  2020-XMS-DEC  MKT-YOUTUBE-CHR-2020   \n",
       "991663   a. Beverage - Soda     36.0  2020-XMS-DEC                   NaN   \n",
       "991664   a. Beverage - Soda     14.0  2020-XMS-DEC                   NaN   \n",
       "991665    Dishware - Plates     64.0  2020-XMS-DEC                   NaN   \n",
       "991666   a. Beverage - Soda     32.0  2020-XMS-DEC                   NaN   \n",
       "\n",
       "        month  year campaign_name         category  \n",
       "0           1  2014           NaN         Dishware  \n",
       "1           1  2014           NaN             Food  \n",
       "2           1  2014           NaN  Coffee products  \n",
       "3           1  2014           NaN             Food  \n",
       "4           1  2014           NaN             Food  \n",
       "...       ...   ...           ...              ...  \n",
       "991662     12  2020     Christmas  Coffee products  \n",
       "991663     12  2020     Christmas         Beverage  \n",
       "991664     12  2020     Christmas         Beverage  \n",
       "991665     12  2020     Christmas         Dishware  \n",
       "991666     12  2020     Christmas         Beverage  \n",
       "\n",
       "[991667 rows x 12 columns]"
      ]
     },
     "execution_count": 10,
     "metadata": {},
     "output_type": "execute_result"
    }
   ],
   "source": [
    "# Read data for campaign analysis\n",
    "df = pd.read_csv('../../data.csv', low_memory=False)\n",
    "\n",
    "# Data cleaning\n",
    "df['purchase_date'] = pd.to_datetime(df['purchase_date'])\n",
    "df['month'] = df['purchase_date'].dt.month  # Extract the month\n",
    "df['year'] = df['purchase_date'].dt.year  # Extract the year\n",
    "df['campaign_name'] = df['campaign_key'].str[5:8]  # Extract the campaign code\n",
    "\n",
    "# Map campaign codes to actual campaign names (based on mkt_channels.csv)\n",
    "campaign_mapping = {\n",
    "    'EST': 'Easter Sale',\n",
    "    'MID': 'Mid-Year Sale',\n",
    "    'HLW': 'Halloween',\n",
    "    'XMS': 'Christmas',\n",
    "    'STD': \"St. Patrick's Day\",\n",
    "    'CMO': 'Cinco de Mayo',\n",
    "    'DRK': 'Drinks Bonanza',\n",
    "    'FBD': 'Discount Daze',\n",
    "    'SMS': 'Super Mart Sale',\n",
    "    'MMS': 'Markdown Mega Sale'\n",
    "}\n",
    "df['campaign_name'] = df['campaign_name'].map(campaign_mapping)\n",
    "\n",
    "# Select required columns\n",
    "df = df[['customer_key', 'quantity_purchased', 'total_price', 'purchase_date', 'description', 'revenue', 'campaign_key', 'mkt_chnl_key','month', 'year', 'campaign_name']]\n",
    "df['category'] = df['description'].apply(extract_category) # Add 'category' column\n",
    "\n",
    "# For AOV analysis, filter out rows from 2021 onwards\n",
    "df2 = df[df['year'] < 2021] \n",
    "df2"
   ]
  },
  {
   "cell_type": "markdown",
   "metadata": {},
   "source": [
    "### **ROI Analysis of Marketing Channels**\n",
    "#### **1. Average ROI of Each Marketing Channel for Selected Campaigns Across All Years**"
   ]
  },
  {
   "cell_type": "code",
   "execution_count": 23,
   "metadata": {},
   "outputs": [
    {
     "data": {
      "application/vnd.plotly.v1+json": {
       "config": {
        "plotlyServerURL": "https://plot.ly"
       },
       "data": [
        {
         "hovertemplate": "Channel Type=Instagram<br>Year=%{x}<br>Average Return on Investment (%)=%{y}<extra></extra>",
         "legendgroup": "Instagram",
         "line": {
          "color": "#636efa",
          "dash": "solid"
         },
         "marker": {
          "symbol": "circle"
         },
         "mode": "lines+markers",
         "name": "Instagram",
         "orientation": "v",
         "showlegend": true,
         "type": "scatter",
         "x": [
          2014,
          2015,
          2016,
          2017,
          2018,
          2019,
          2020
         ],
         "xaxis": "x",
         "y": [
          52.5,
          86,
          102.5,
          112.5,
          101.5,
          96.5,
          99.5
         ],
         "yaxis": "y"
        },
        {
         "hovertemplate": "Channel Type=Physical<br>Year=%{x}<br>Average Return on Investment (%)=%{y}<extra></extra>",
         "legendgroup": "Physical",
         "line": {
          "color": "#EF553B",
          "dash": "solid"
         },
         "marker": {
          "symbol": "circle"
         },
         "mode": "lines+markers",
         "name": "Physical",
         "orientation": "v",
         "showlegend": true,
         "type": "scatter",
         "x": [
          2014,
          2015,
          2016,
          2017,
          2018,
          2019,
          2020
         ],
         "xaxis": "x",
         "y": [
          117.5,
          97,
          83.5,
          77.5,
          77.5,
          65.5,
          62
         ],
         "yaxis": "y"
        },
        {
         "hovertemplate": "Channel Type=Radio<br>Year=%{x}<br>Average Return on Investment (%)=%{y}<extra></extra>",
         "legendgroup": "Radio",
         "line": {
          "color": "#00cc96",
          "dash": "solid"
         },
         "marker": {
          "symbol": "circle"
         },
         "mode": "lines+markers",
         "name": "Radio",
         "orientation": "v",
         "showlegend": true,
         "type": "scatter",
         "x": [
          2014,
          2015,
          2016,
          2017,
          2018,
          2019,
          2020
         ],
         "xaxis": "x",
         "y": [
          76.5,
          67.5,
          59.5,
          55.5,
          49.5,
          44.5,
          39.5
         ],
         "yaxis": "y"
        },
        {
         "hovertemplate": "Channel Type=TV<br>Year=%{x}<br>Average Return on Investment (%)=%{y}<extra></extra>",
         "legendgroup": "TV",
         "line": {
          "color": "#ab63fa",
          "dash": "solid"
         },
         "marker": {
          "symbol": "circle"
         },
         "mode": "lines+markers",
         "name": "TV",
         "orientation": "v",
         "showlegend": true,
         "type": "scatter",
         "x": [
          2014,
          2015,
          2016,
          2017,
          2018,
          2019,
          2020
         ],
         "xaxis": "x",
         "y": [
          125,
          104,
          95.5,
          86,
          78,
          77,
          69
         ],
         "yaxis": "y"
        },
        {
         "hovertemplate": "Channel Type=TikTok<br>Year=%{x}<br>Average Return on Investment (%)=%{y}<extra></extra>",
         "legendgroup": "TikTok",
         "line": {
          "color": "#FFA15A",
          "dash": "solid"
         },
         "marker": {
          "symbol": "circle"
         },
         "mode": "lines+markers",
         "name": "TikTok",
         "orientation": "v",
         "showlegend": true,
         "type": "scatter",
         "x": [
          2014,
          2015,
          2016,
          2017,
          2018,
          2019,
          2020
         ],
         "xaxis": "x",
         "y": [
          0,
          0,
          0,
          51,
          49,
          50,
          51.5
         ],
         "yaxis": "y"
        },
        {
         "hovertemplate": "Channel Type=YouTube<br>Year=%{x}<br>Average Return on Investment (%)=%{y}<extra></extra>",
         "legendgroup": "YouTube",
         "line": {
          "color": "#19d3f3",
          "dash": "solid"
         },
         "marker": {
          "symbol": "circle"
         },
         "mode": "lines+markers",
         "name": "YouTube",
         "orientation": "v",
         "showlegend": true,
         "type": "scatter",
         "x": [
          2014,
          2015,
          2016,
          2017,
          2018,
          2019,
          2020
         ],
         "xaxis": "x",
         "y": [
          90,
          105,
          121,
          125.5,
          127.5,
          140,
          139
         ],
         "yaxis": "y"
        }
       ],
       "layout": {
        "legend": {
         "title": {
          "text": "Channel Type"
         },
         "tracegroupgap": 0
        },
        "template": {
         "data": {
          "bar": [
           {
            "error_x": {
             "color": "#2a3f5f"
            },
            "error_y": {
             "color": "#2a3f5f"
            },
            "marker": {
             "line": {
              "color": "#E5ECF6",
              "width": 0.5
             },
             "pattern": {
              "fillmode": "overlay",
              "size": 10,
              "solidity": 0.2
             }
            },
            "type": "bar"
           }
          ],
          "barpolar": [
           {
            "marker": {
             "line": {
              "color": "#E5ECF6",
              "width": 0.5
             },
             "pattern": {
              "fillmode": "overlay",
              "size": 10,
              "solidity": 0.2
             }
            },
            "type": "barpolar"
           }
          ],
          "carpet": [
           {
            "aaxis": {
             "endlinecolor": "#2a3f5f",
             "gridcolor": "white",
             "linecolor": "white",
             "minorgridcolor": "white",
             "startlinecolor": "#2a3f5f"
            },
            "baxis": {
             "endlinecolor": "#2a3f5f",
             "gridcolor": "white",
             "linecolor": "white",
             "minorgridcolor": "white",
             "startlinecolor": "#2a3f5f"
            },
            "type": "carpet"
           }
          ],
          "choropleth": [
           {
            "colorbar": {
             "outlinewidth": 0,
             "ticks": ""
            },
            "type": "choropleth"
           }
          ],
          "contour": [
           {
            "colorbar": {
             "outlinewidth": 0,
             "ticks": ""
            },
            "colorscale": [
             [
              0,
              "#0d0887"
             ],
             [
              0.1111111111111111,
              "#46039f"
             ],
             [
              0.2222222222222222,
              "#7201a8"
             ],
             [
              0.3333333333333333,
              "#9c179e"
             ],
             [
              0.4444444444444444,
              "#bd3786"
             ],
             [
              0.5555555555555556,
              "#d8576b"
             ],
             [
              0.6666666666666666,
              "#ed7953"
             ],
             [
              0.7777777777777778,
              "#fb9f3a"
             ],
             [
              0.8888888888888888,
              "#fdca26"
             ],
             [
              1,
              "#f0f921"
             ]
            ],
            "type": "contour"
           }
          ],
          "contourcarpet": [
           {
            "colorbar": {
             "outlinewidth": 0,
             "ticks": ""
            },
            "type": "contourcarpet"
           }
          ],
          "heatmap": [
           {
            "colorbar": {
             "outlinewidth": 0,
             "ticks": ""
            },
            "colorscale": [
             [
              0,
              "#0d0887"
             ],
             [
              0.1111111111111111,
              "#46039f"
             ],
             [
              0.2222222222222222,
              "#7201a8"
             ],
             [
              0.3333333333333333,
              "#9c179e"
             ],
             [
              0.4444444444444444,
              "#bd3786"
             ],
             [
              0.5555555555555556,
              "#d8576b"
             ],
             [
              0.6666666666666666,
              "#ed7953"
             ],
             [
              0.7777777777777778,
              "#fb9f3a"
             ],
             [
              0.8888888888888888,
              "#fdca26"
             ],
             [
              1,
              "#f0f921"
             ]
            ],
            "type": "heatmap"
           }
          ],
          "heatmapgl": [
           {
            "colorbar": {
             "outlinewidth": 0,
             "ticks": ""
            },
            "colorscale": [
             [
              0,
              "#0d0887"
             ],
             [
              0.1111111111111111,
              "#46039f"
             ],
             [
              0.2222222222222222,
              "#7201a8"
             ],
             [
              0.3333333333333333,
              "#9c179e"
             ],
             [
              0.4444444444444444,
              "#bd3786"
             ],
             [
              0.5555555555555556,
              "#d8576b"
             ],
             [
              0.6666666666666666,
              "#ed7953"
             ],
             [
              0.7777777777777778,
              "#fb9f3a"
             ],
             [
              0.8888888888888888,
              "#fdca26"
             ],
             [
              1,
              "#f0f921"
             ]
            ],
            "type": "heatmapgl"
           }
          ],
          "histogram": [
           {
            "marker": {
             "pattern": {
              "fillmode": "overlay",
              "size": 10,
              "solidity": 0.2
             }
            },
            "type": "histogram"
           }
          ],
          "histogram2d": [
           {
            "colorbar": {
             "outlinewidth": 0,
             "ticks": ""
            },
            "colorscale": [
             [
              0,
              "#0d0887"
             ],
             [
              0.1111111111111111,
              "#46039f"
             ],
             [
              0.2222222222222222,
              "#7201a8"
             ],
             [
              0.3333333333333333,
              "#9c179e"
             ],
             [
              0.4444444444444444,
              "#bd3786"
             ],
             [
              0.5555555555555556,
              "#d8576b"
             ],
             [
              0.6666666666666666,
              "#ed7953"
             ],
             [
              0.7777777777777778,
              "#fb9f3a"
             ],
             [
              0.8888888888888888,
              "#fdca26"
             ],
             [
              1,
              "#f0f921"
             ]
            ],
            "type": "histogram2d"
           }
          ],
          "histogram2dcontour": [
           {
            "colorbar": {
             "outlinewidth": 0,
             "ticks": ""
            },
            "colorscale": [
             [
              0,
              "#0d0887"
             ],
             [
              0.1111111111111111,
              "#46039f"
             ],
             [
              0.2222222222222222,
              "#7201a8"
             ],
             [
              0.3333333333333333,
              "#9c179e"
             ],
             [
              0.4444444444444444,
              "#bd3786"
             ],
             [
              0.5555555555555556,
              "#d8576b"
             ],
             [
              0.6666666666666666,
              "#ed7953"
             ],
             [
              0.7777777777777778,
              "#fb9f3a"
             ],
             [
              0.8888888888888888,
              "#fdca26"
             ],
             [
              1,
              "#f0f921"
             ]
            ],
            "type": "histogram2dcontour"
           }
          ],
          "mesh3d": [
           {
            "colorbar": {
             "outlinewidth": 0,
             "ticks": ""
            },
            "type": "mesh3d"
           }
          ],
          "parcoords": [
           {
            "line": {
             "colorbar": {
              "outlinewidth": 0,
              "ticks": ""
             }
            },
            "type": "parcoords"
           }
          ],
          "pie": [
           {
            "automargin": true,
            "type": "pie"
           }
          ],
          "scatter": [
           {
            "fillpattern": {
             "fillmode": "overlay",
             "size": 10,
             "solidity": 0.2
            },
            "type": "scatter"
           }
          ],
          "scatter3d": [
           {
            "line": {
             "colorbar": {
              "outlinewidth": 0,
              "ticks": ""
             }
            },
            "marker": {
             "colorbar": {
              "outlinewidth": 0,
              "ticks": ""
             }
            },
            "type": "scatter3d"
           }
          ],
          "scattercarpet": [
           {
            "marker": {
             "colorbar": {
              "outlinewidth": 0,
              "ticks": ""
             }
            },
            "type": "scattercarpet"
           }
          ],
          "scattergeo": [
           {
            "marker": {
             "colorbar": {
              "outlinewidth": 0,
              "ticks": ""
             }
            },
            "type": "scattergeo"
           }
          ],
          "scattergl": [
           {
            "marker": {
             "colorbar": {
              "outlinewidth": 0,
              "ticks": ""
             }
            },
            "type": "scattergl"
           }
          ],
          "scattermapbox": [
           {
            "marker": {
             "colorbar": {
              "outlinewidth": 0,
              "ticks": ""
             }
            },
            "type": "scattermapbox"
           }
          ],
          "scatterpolar": [
           {
            "marker": {
             "colorbar": {
              "outlinewidth": 0,
              "ticks": ""
             }
            },
            "type": "scatterpolar"
           }
          ],
          "scatterpolargl": [
           {
            "marker": {
             "colorbar": {
              "outlinewidth": 0,
              "ticks": ""
             }
            },
            "type": "scatterpolargl"
           }
          ],
          "scatterternary": [
           {
            "marker": {
             "colorbar": {
              "outlinewidth": 0,
              "ticks": ""
             }
            },
            "type": "scatterternary"
           }
          ],
          "surface": [
           {
            "colorbar": {
             "outlinewidth": 0,
             "ticks": ""
            },
            "colorscale": [
             [
              0,
              "#0d0887"
             ],
             [
              0.1111111111111111,
              "#46039f"
             ],
             [
              0.2222222222222222,
              "#7201a8"
             ],
             [
              0.3333333333333333,
              "#9c179e"
             ],
             [
              0.4444444444444444,
              "#bd3786"
             ],
             [
              0.5555555555555556,
              "#d8576b"
             ],
             [
              0.6666666666666666,
              "#ed7953"
             ],
             [
              0.7777777777777778,
              "#fb9f3a"
             ],
             [
              0.8888888888888888,
              "#fdca26"
             ],
             [
              1,
              "#f0f921"
             ]
            ],
            "type": "surface"
           }
          ],
          "table": [
           {
            "cells": {
             "fill": {
              "color": "#EBF0F8"
             },
             "line": {
              "color": "white"
             }
            },
            "header": {
             "fill": {
              "color": "#C8D4E3"
             },
             "line": {
              "color": "white"
             }
            },
            "type": "table"
           }
          ]
         },
         "layout": {
          "annotationdefaults": {
           "arrowcolor": "#2a3f5f",
           "arrowhead": 0,
           "arrowwidth": 1
          },
          "autotypenumbers": "strict",
          "coloraxis": {
           "colorbar": {
            "outlinewidth": 0,
            "ticks": ""
           }
          },
          "colorscale": {
           "diverging": [
            [
             0,
             "#8e0152"
            ],
            [
             0.1,
             "#c51b7d"
            ],
            [
             0.2,
             "#de77ae"
            ],
            [
             0.3,
             "#f1b6da"
            ],
            [
             0.4,
             "#fde0ef"
            ],
            [
             0.5,
             "#f7f7f7"
            ],
            [
             0.6,
             "#e6f5d0"
            ],
            [
             0.7,
             "#b8e186"
            ],
            [
             0.8,
             "#7fbc41"
            ],
            [
             0.9,
             "#4d9221"
            ],
            [
             1,
             "#276419"
            ]
           ],
           "sequential": [
            [
             0,
             "#0d0887"
            ],
            [
             0.1111111111111111,
             "#46039f"
            ],
            [
             0.2222222222222222,
             "#7201a8"
            ],
            [
             0.3333333333333333,
             "#9c179e"
            ],
            [
             0.4444444444444444,
             "#bd3786"
            ],
            [
             0.5555555555555556,
             "#d8576b"
            ],
            [
             0.6666666666666666,
             "#ed7953"
            ],
            [
             0.7777777777777778,
             "#fb9f3a"
            ],
            [
             0.8888888888888888,
             "#fdca26"
            ],
            [
             1,
             "#f0f921"
            ]
           ],
           "sequentialminus": [
            [
             0,
             "#0d0887"
            ],
            [
             0.1111111111111111,
             "#46039f"
            ],
            [
             0.2222222222222222,
             "#7201a8"
            ],
            [
             0.3333333333333333,
             "#9c179e"
            ],
            [
             0.4444444444444444,
             "#bd3786"
            ],
            [
             0.5555555555555556,
             "#d8576b"
            ],
            [
             0.6666666666666666,
             "#ed7953"
            ],
            [
             0.7777777777777778,
             "#fb9f3a"
            ],
            [
             0.8888888888888888,
             "#fdca26"
            ],
            [
             1,
             "#f0f921"
            ]
           ]
          },
          "colorway": [
           "#636efa",
           "#EF553B",
           "#00cc96",
           "#ab63fa",
           "#FFA15A",
           "#19d3f3",
           "#FF6692",
           "#B6E880",
           "#FF97FF",
           "#FECB52"
          ],
          "font": {
           "color": "#2a3f5f"
          },
          "geo": {
           "bgcolor": "white",
           "lakecolor": "white",
           "landcolor": "#E5ECF6",
           "showlakes": true,
           "showland": true,
           "subunitcolor": "white"
          },
          "hoverlabel": {
           "align": "left"
          },
          "hovermode": "closest",
          "mapbox": {
           "style": "light"
          },
          "paper_bgcolor": "white",
          "plot_bgcolor": "#E5ECF6",
          "polar": {
           "angularaxis": {
            "gridcolor": "white",
            "linecolor": "white",
            "ticks": ""
           },
           "bgcolor": "#E5ECF6",
           "radialaxis": {
            "gridcolor": "white",
            "linecolor": "white",
            "ticks": ""
           }
          },
          "scene": {
           "xaxis": {
            "backgroundcolor": "#E5ECF6",
            "gridcolor": "white",
            "gridwidth": 2,
            "linecolor": "white",
            "showbackground": true,
            "ticks": "",
            "zerolinecolor": "white"
           },
           "yaxis": {
            "backgroundcolor": "#E5ECF6",
            "gridcolor": "white",
            "gridwidth": 2,
            "linecolor": "white",
            "showbackground": true,
            "ticks": "",
            "zerolinecolor": "white"
           },
           "zaxis": {
            "backgroundcolor": "#E5ECF6",
            "gridcolor": "white",
            "gridwidth": 2,
            "linecolor": "white",
            "showbackground": true,
            "ticks": "",
            "zerolinecolor": "white"
           }
          },
          "shapedefaults": {
           "line": {
            "color": "#2a3f5f"
           }
          },
          "ternary": {
           "aaxis": {
            "gridcolor": "white",
            "linecolor": "white",
            "ticks": ""
           },
           "baxis": {
            "gridcolor": "white",
            "linecolor": "white",
            "ticks": ""
           },
           "bgcolor": "#E5ECF6",
           "caxis": {
            "gridcolor": "white",
            "linecolor": "white",
            "ticks": ""
           }
          },
          "title": {
           "x": 0.05
          },
          "xaxis": {
           "automargin": true,
           "gridcolor": "white",
           "linecolor": "white",
           "ticks": "",
           "title": {
            "standoff": 15
           },
           "zerolinecolor": "white",
           "zerolinewidth": 2
          },
          "yaxis": {
           "automargin": true,
           "gridcolor": "white",
           "linecolor": "white",
           "ticks": "",
           "title": {
            "standoff": 15
           },
           "zerolinecolor": "white",
           "zerolinewidth": 2
          }
         }
        },
        "title": {
         "text": "Average ROI by Year for Each Marketing Channel (Selected Campaigns: Easter Sale, Mid-Year Sale, Christmas Sale)"
        },
        "xaxis": {
         "anchor": "y",
         "domain": [
          0,
          1
         ],
         "title": {
          "text": "Year"
         }
        },
        "yaxis": {
         "anchor": "x",
         "domain": [
          0,
          1
         ],
         "title": {
          "text": "Average Return on Investment (%)"
         }
        }
       }
      }
     },
     "metadata": {},
     "output_type": "display_data"
    }
   ],
   "source": [
    "# input df and selected campaigns as a list\n",
    "analyze_avg_roi_by_year(roi_df, [\"Easter Sale\", \"Mid-Year Sale\", \"Christmas Sale\"])"
   ]
  },
  {
   "cell_type": "markdown",
   "metadata": {},
   "source": [
    "Between 2014 and 2020, significant changes were observed in the average return on investment (ROI) across various marketing channels, pointing to evolving consumer preferences and demographic shifts. Notably:\n",
    "\n",
    "1. Decline in Traditional Media Channels:\n",
    "TV and Physical Channels: Both TV and Physical channels experienced a decline of approximately 50% in ROI over this period. This sharp drop may reflect a demographic shift away from traditional media as primary sources of engagement and purchasing influence, likely due to the increasing adoption of digital and social media platforms among younger audiences.\n",
    "\n",
    "2. Growth in Digital and Social Media Channels:\n",
    "YouTube, Instagram, and TikTok: In contrast, digital-first channels such as YouTube, Instagram, and TikTok showed a rising trend in ROI. This increase suggests that these platforms are becoming more effective at capturing audience attention and engagement, likely driven by their popularity among younger, digitally-native consumers. TikTok, in particular, has surged in recent years, reflecting its unique appeal in short-form content consumption and engagement.\n",
    "\n",
    "3. Implications of Content Consumption Trends:\n",
    "The upward trend in ROI for social platforms indicates a shift in content consumption preferences. Audiences are gravitating towards visually engaging, interactive, and mobile-friendly content, often tailored through algorithms to individual interests. This trend highlights the need for marketers to align content strategies with platform-specific formats and audience expectations.\n",
    "\n",
    "4. Strategic Marketing Considerations:\n",
    "These trends underscore the importance for brands to diversify their marketing strategies, focusing on digital channels where ROI is rising, while reevaluating investments in traditional media. A targeted approach that leverages the strengths of each platform—such as influencer collaborations on Instagram and short-form video content on TikTok—could maximize engagement and effectiveness.\n",
    "\n",
    "#### **2. Average Revenue vs Cost vs ROI**"
   ]
  },
  {
   "cell_type": "code",
   "execution_count": 24,
   "metadata": {},
   "outputs": [
    {
     "data": {
      "application/vnd.plotly.v1+json": {
       "config": {
        "plotlyServerURL": "https://plot.ly"
       },
       "data": [
        {
         "customdata": [
          [
           2014,
           52.5
          ]
         ],
         "hovertemplate": "Marketing Channel=%{text}<br>year=%{customdata[0]}<br>Average Cost=%{x}<br>Average Revenue=%{y}<br>Average ROI (%)=%{customdata[1]}<extra></extra>",
         "legendgroup": "Instagram",
         "marker": {
          "color": "#636efa",
          "size": [
           52.5
          ],
          "sizemode": "area",
          "sizeref": 0.35,
          "symbol": "circle"
         },
         "mode": "markers+text",
         "name": "Instagram",
         "orientation": "v",
         "showlegend": true,
         "text": [
          "Instagram"
         ],
         "textposition": "top center",
         "type": "scatter",
         "x": [
          2552.2746
         ],
         "xaxis": "x",
         "y": [
          3917.8915500000003
         ],
         "yaxis": "y"
        },
        {
         "customdata": [
          [
           2014,
           117.5
          ]
         ],
         "hovertemplate": "Marketing Channel=%{text}<br>year=%{customdata[0]}<br>Average Cost=%{x}<br>Average Revenue=%{y}<br>Average ROI (%)=%{customdata[1]}<extra></extra>",
         "legendgroup": "Physical",
         "marker": {
          "color": "#EF553B",
          "size": [
           117.5
          ],
          "sizemode": "area",
          "sizeref": 0.35,
          "symbol": "circle"
         },
         "mode": "markers+text",
         "name": "Physical",
         "orientation": "v",
         "showlegend": true,
         "text": [
          "Physical"
         ],
         "textposition": "top center",
         "type": "scatter",
         "x": [
          12573.47565
         ],
         "xaxis": "x",
         "y": [
          27689.708455
         ],
         "yaxis": "y"
        },
        {
         "customdata": [
          [
           2014,
           76.5
          ]
         ],
         "hovertemplate": "Marketing Channel=%{text}<br>year=%{customdata[0]}<br>Average Cost=%{x}<br>Average Revenue=%{y}<br>Average ROI (%)=%{customdata[1]}<extra></extra>",
         "legendgroup": "Radio",
         "marker": {
          "color": "#00cc96",
          "size": [
           76.5
          ],
          "sizemode": "area",
          "sizeref": 0.35,
          "symbol": "circle"
         },
         "mode": "markers+text",
         "name": "Radio",
         "orientation": "v",
         "showlegend": true,
         "text": [
          "Radio"
         ],
         "textposition": "top center",
         "type": "scatter",
         "x": [
          7590.69825
         ],
         "xaxis": "x",
         "y": [
          13304.305795
         ],
         "yaxis": "y"
        },
        {
         "customdata": [
          [
           2014,
           125
          ]
         ],
         "hovertemplate": "Marketing Channel=%{text}<br>year=%{customdata[0]}<br>Average Cost=%{x}<br>Average Revenue=%{y}<br>Average ROI (%)=%{customdata[1]}<extra></extra>",
         "legendgroup": "TV",
         "marker": {
          "color": "#ab63fa",
          "size": [
           125
          ],
          "sizemode": "area",
          "sizeref": 0.35,
          "symbol": "circle"
         },
         "mode": "markers+text",
         "name": "TV",
         "orientation": "v",
         "showlegend": true,
         "text": [
          "TV"
         ],
         "textposition": "top center",
         "type": "scatter",
         "x": [
          20193.24735
         ],
         "xaxis": "x",
         "y": [
          45812.078745
         ],
         "yaxis": "y"
        },
        {
         "customdata": [
          [
           2014,
           0
          ]
         ],
         "hovertemplate": "Marketing Channel=%{text}<br>year=%{customdata[0]}<br>Average Cost=%{x}<br>Average Revenue=%{y}<br>Average ROI (%)=%{customdata[1]}<extra></extra>",
         "legendgroup": "TikTok",
         "marker": {
          "color": "#FFA15A",
          "size": [
           0
          ],
          "sizemode": "area",
          "sizeref": 0.35,
          "symbol": "circle"
         },
         "mode": "markers+text",
         "name": "TikTok",
         "orientation": "v",
         "showlegend": true,
         "text": [
          "TikTok"
         ],
         "textposition": "top center",
         "type": "scatter",
         "x": [
          0
         ],
         "xaxis": "x",
         "y": [
          0
         ],
         "yaxis": "y"
        },
        {
         "customdata": [
          [
           2014,
           90
          ]
         ],
         "hovertemplate": "Marketing Channel=%{text}<br>year=%{customdata[0]}<br>Average Cost=%{x}<br>Average Revenue=%{y}<br>Average ROI (%)=%{customdata[1]}<extra></extra>",
         "legendgroup": "YouTube",
         "marker": {
          "color": "#19d3f3",
          "size": [
           90
          ],
          "sizemode": "area",
          "sizeref": 0.35,
          "symbol": "circle"
         },
         "mode": "markers+text",
         "name": "YouTube",
         "orientation": "v",
         "showlegend": true,
         "text": [
          "YouTube"
         ],
         "textposition": "top center",
         "type": "scatter",
         "x": [
          7394.754150000001
         ],
         "xaxis": "x",
         "y": [
          14050.032884999999
         ],
         "yaxis": "y"
        }
       ],
       "frames": [
        {
         "data": [
          {
           "customdata": [
            [
             2014,
             52.5
            ]
           ],
           "hovertemplate": "Marketing Channel=%{text}<br>year=%{customdata[0]}<br>Average Cost=%{x}<br>Average Revenue=%{y}<br>Average ROI (%)=%{customdata[1]}<extra></extra>",
           "legendgroup": "Instagram",
           "marker": {
            "color": "#636efa",
            "size": [
             52.5
            ],
            "sizemode": "area",
            "sizeref": 0.35,
            "symbol": "circle"
           },
           "mode": "markers+text",
           "name": "Instagram",
           "orientation": "v",
           "showlegend": true,
           "text": [
            "Instagram"
           ],
           "type": "scatter",
           "x": [
            2552.2746
           ],
           "xaxis": "x",
           "y": [
            3917.8915500000003
           ],
           "yaxis": "y"
          },
          {
           "customdata": [
            [
             2014,
             117.5
            ]
           ],
           "hovertemplate": "Marketing Channel=%{text}<br>year=%{customdata[0]}<br>Average Cost=%{x}<br>Average Revenue=%{y}<br>Average ROI (%)=%{customdata[1]}<extra></extra>",
           "legendgroup": "Physical",
           "marker": {
            "color": "#EF553B",
            "size": [
             117.5
            ],
            "sizemode": "area",
            "sizeref": 0.35,
            "symbol": "circle"
           },
           "mode": "markers+text",
           "name": "Physical",
           "orientation": "v",
           "showlegend": true,
           "text": [
            "Physical"
           ],
           "type": "scatter",
           "x": [
            12573.47565
           ],
           "xaxis": "x",
           "y": [
            27689.708455
           ],
           "yaxis": "y"
          },
          {
           "customdata": [
            [
             2014,
             76.5
            ]
           ],
           "hovertemplate": "Marketing Channel=%{text}<br>year=%{customdata[0]}<br>Average Cost=%{x}<br>Average Revenue=%{y}<br>Average ROI (%)=%{customdata[1]}<extra></extra>",
           "legendgroup": "Radio",
           "marker": {
            "color": "#00cc96",
            "size": [
             76.5
            ],
            "sizemode": "area",
            "sizeref": 0.35,
            "symbol": "circle"
           },
           "mode": "markers+text",
           "name": "Radio",
           "orientation": "v",
           "showlegend": true,
           "text": [
            "Radio"
           ],
           "type": "scatter",
           "x": [
            7590.69825
           ],
           "xaxis": "x",
           "y": [
            13304.305795
           ],
           "yaxis": "y"
          },
          {
           "customdata": [
            [
             2014,
             125
            ]
           ],
           "hovertemplate": "Marketing Channel=%{text}<br>year=%{customdata[0]}<br>Average Cost=%{x}<br>Average Revenue=%{y}<br>Average ROI (%)=%{customdata[1]}<extra></extra>",
           "legendgroup": "TV",
           "marker": {
            "color": "#ab63fa",
            "size": [
             125
            ],
            "sizemode": "area",
            "sizeref": 0.35,
            "symbol": "circle"
           },
           "mode": "markers+text",
           "name": "TV",
           "orientation": "v",
           "showlegend": true,
           "text": [
            "TV"
           ],
           "type": "scatter",
           "x": [
            20193.24735
           ],
           "xaxis": "x",
           "y": [
            45812.078745
           ],
           "yaxis": "y"
          },
          {
           "customdata": [
            [
             2014,
             0
            ]
           ],
           "hovertemplate": "Marketing Channel=%{text}<br>year=%{customdata[0]}<br>Average Cost=%{x}<br>Average Revenue=%{y}<br>Average ROI (%)=%{customdata[1]}<extra></extra>",
           "legendgroup": "TikTok",
           "marker": {
            "color": "#FFA15A",
            "size": [
             0
            ],
            "sizemode": "area",
            "sizeref": 0.35,
            "symbol": "circle"
           },
           "mode": "markers+text",
           "name": "TikTok",
           "orientation": "v",
           "showlegend": true,
           "text": [
            "TikTok"
           ],
           "type": "scatter",
           "x": [
            0
           ],
           "xaxis": "x",
           "y": [
            0
           ],
           "yaxis": "y"
          },
          {
           "customdata": [
            [
             2014,
             90
            ]
           ],
           "hovertemplate": "Marketing Channel=%{text}<br>year=%{customdata[0]}<br>Average Cost=%{x}<br>Average Revenue=%{y}<br>Average ROI (%)=%{customdata[1]}<extra></extra>",
           "legendgroup": "YouTube",
           "marker": {
            "color": "#19d3f3",
            "size": [
             90
            ],
            "sizemode": "area",
            "sizeref": 0.35,
            "symbol": "circle"
           },
           "mode": "markers+text",
           "name": "YouTube",
           "orientation": "v",
           "showlegend": true,
           "text": [
            "YouTube"
           ],
           "type": "scatter",
           "x": [
            7394.754150000001
           ],
           "xaxis": "x",
           "y": [
            14050.032884999999
           ],
           "yaxis": "y"
          }
         ],
         "name": "2014"
        },
        {
         "data": [
          {
           "customdata": [
            [
             2015,
             86
            ]
           ],
           "hovertemplate": "Marketing Channel=%{text}<br>year=%{customdata[0]}<br>Average Cost=%{x}<br>Average Revenue=%{y}<br>Average ROI (%)=%{customdata[1]}<extra></extra>",
           "legendgroup": "Instagram",
           "marker": {
            "color": "#636efa",
            "size": [
             86
            ],
            "sizemode": "area",
            "sizeref": 0.35,
            "symbol": "circle"
           },
           "mode": "markers+text",
           "name": "Instagram",
           "orientation": "v",
           "showlegend": true,
           "text": [
            "Instagram"
           ],
           "type": "scatter",
           "x": [
            3975.3412
           ],
           "xaxis": "x",
           "y": [
            7461.288304
           ],
           "yaxis": "y"
          },
          {
           "customdata": [
            [
             2015,
             97
            ]
           ],
           "hovertemplate": "Marketing Channel=%{text}<br>year=%{customdata[0]}<br>Average Cost=%{x}<br>Average Revenue=%{y}<br>Average ROI (%)=%{customdata[1]}<extra></extra>",
           "legendgroup": "Physical",
           "marker": {
            "color": "#EF553B",
            "size": [
             97
            ],
            "sizemode": "area",
            "sizeref": 0.35,
            "symbol": "circle"
           },
           "mode": "markers+text",
           "name": "Physical",
           "orientation": "v",
           "showlegend": true,
           "text": [
            "Physical"
           ],
           "type": "scatter",
           "x": [
            10991.47805
           ],
           "xaxis": "x",
           "y": [
            21696.29252
           ],
           "yaxis": "y"
          },
          {
           "customdata": [
            [
             2015,
             67.5
            ]
           ],
           "hovertemplate": "Marketing Channel=%{text}<br>year=%{customdata[0]}<br>Average Cost=%{x}<br>Average Revenue=%{y}<br>Average ROI (%)=%{customdata[1]}<extra></extra>",
           "legendgroup": "Radio",
           "marker": {
            "color": "#00cc96",
            "size": [
             67.5
            ],
            "sizemode": "area",
            "sizeref": 0.35,
            "symbol": "circle"
           },
           "mode": "markers+text",
           "name": "Radio",
           "orientation": "v",
           "showlegend": true,
           "text": [
            "Radio"
           ],
           "type": "scatter",
           "x": [
            6277.88235
           ],
           "xaxis": "x",
           "y": [
            10457.87364
           ],
           "yaxis": "y"
          },
          {
           "customdata": [
            [
             2015,
             104
            ]
           ],
           "hovertemplate": "Marketing Channel=%{text}<br>year=%{customdata[0]}<br>Average Cost=%{x}<br>Average Revenue=%{y}<br>Average ROI (%)=%{customdata[1]}<extra></extra>",
           "legendgroup": "TV",
           "marker": {
            "color": "#ab63fa",
            "size": [
             104
            ],
            "sizemode": "area",
            "sizeref": 0.35,
            "symbol": "circle"
           },
           "mode": "markers+text",
           "name": "TV",
           "orientation": "v",
           "showlegend": true,
           "text": [
            "TV"
           ],
           "type": "scatter",
           "x": [
            18291.6836
           ],
           "xaxis": "x",
           "y": [
            37035.60093
           ],
           "yaxis": "y"
          },
          {
           "customdata": [
            [
             2015,
             0
            ]
           ],
           "hovertemplate": "Marketing Channel=%{text}<br>year=%{customdata[0]}<br>Average Cost=%{x}<br>Average Revenue=%{y}<br>Average ROI (%)=%{customdata[1]}<extra></extra>",
           "legendgroup": "TikTok",
           "marker": {
            "color": "#FFA15A",
            "size": [
             0
            ],
            "sizemode": "area",
            "sizeref": 0.35,
            "symbol": "circle"
           },
           "mode": "markers+text",
           "name": "TikTok",
           "orientation": "v",
           "showlegend": true,
           "text": [
            "TikTok"
           ],
           "type": "scatter",
           "x": [
            0
           ],
           "xaxis": "x",
           "y": [
            0
           ],
           "yaxis": "y"
          },
          {
           "customdata": [
            [
             2015,
             105
            ]
           ],
           "hovertemplate": "Marketing Channel=%{text}<br>year=%{customdata[0]}<br>Average Cost=%{x}<br>Average Revenue=%{y}<br>Average ROI (%)=%{customdata[1]}<extra></extra>",
           "legendgroup": "YouTube",
           "marker": {
            "color": "#19d3f3",
            "size": [
             105
            ],
            "sizemode": "area",
            "sizeref": 0.35,
            "symbol": "circle"
           },
           "mode": "markers+text",
           "name": "YouTube",
           "orientation": "v",
           "showlegend": true,
           "text": [
            "YouTube"
           ],
           "type": "scatter",
           "x": [
            8444.6648
           ],
           "xaxis": "x",
           "y": [
            17311.56284
           ],
           "yaxis": "y"
          }
         ],
         "name": "2015"
        },
        {
         "data": [
          {
           "customdata": [
            [
             2016,
             102.5
            ]
           ],
           "hovertemplate": "Marketing Channel=%{text}<br>year=%{customdata[0]}<br>Average Cost=%{x}<br>Average Revenue=%{y}<br>Average ROI (%)=%{customdata[1]}<extra></extra>",
           "legendgroup": "Instagram",
           "marker": {
            "color": "#636efa",
            "size": [
             102.5
            ],
            "sizemode": "area",
            "sizeref": 0.35,
            "symbol": "circle"
           },
           "mode": "markers+text",
           "name": "Instagram",
           "orientation": "v",
           "showlegend": true,
           "text": [
            "Instagram"
           ],
           "type": "scatter",
           "x": [
            7125.926450000001
           ],
           "xaxis": "x",
           "y": [
            14502.827659999999
           ],
           "yaxis": "y"
          },
          {
           "customdata": [
            [
             2016,
             83.5
            ]
           ],
           "hovertemplate": "Marketing Channel=%{text}<br>year=%{customdata[0]}<br>Average Cost=%{x}<br>Average Revenue=%{y}<br>Average ROI (%)=%{customdata[1]}<extra></extra>",
           "legendgroup": "Physical",
           "marker": {
            "color": "#EF553B",
            "size": [
             83.5
            ],
            "sizemode": "area",
            "sizeref": 0.35,
            "symbol": "circle"
           },
           "mode": "markers+text",
           "name": "Physical",
           "orientation": "v",
           "showlegend": true,
           "text": [
            "Physical"
           ],
           "type": "scatter",
           "x": [
            11334.73605
           ],
           "xaxis": "x",
           "y": [
            20728.811685
           ],
           "yaxis": "y"
          },
          {
           "customdata": [
            [
             2016,
             59.5
            ]
           ],
           "hovertemplate": "Marketing Channel=%{text}<br>year=%{customdata[0]}<br>Average Cost=%{x}<br>Average Revenue=%{y}<br>Average ROI (%)=%{customdata[1]}<extra></extra>",
           "legendgroup": "Radio",
           "marker": {
            "color": "#00cc96",
            "size": [
             59.5
            ],
            "sizemode": "area",
            "sizeref": 0.35,
            "symbol": "circle"
           },
           "mode": "markers+text",
           "name": "Radio",
           "orientation": "v",
           "showlegend": true,
           "text": [
            "Radio"
           ],
           "type": "scatter",
           "x": [
            5635.31395
           ],
           "xaxis": "x",
           "y": [
            8976.832115
           ],
           "yaxis": "y"
          },
          {
           "customdata": [
            [
             2016,
             95.5
            ]
           ],
           "hovertemplate": "Marketing Channel=%{text}<br>year=%{customdata[0]}<br>Average Cost=%{x}<br>Average Revenue=%{y}<br>Average ROI (%)=%{customdata[1]}<extra></extra>",
           "legendgroup": "TV",
           "marker": {
            "color": "#ab63fa",
            "size": [
             95.5
            ],
            "sizemode": "area",
            "sizeref": 0.35,
            "symbol": "circle"
           },
           "mode": "markers+text",
           "name": "TV",
           "orientation": "v",
           "showlegend": true,
           "text": [
            "TV"
           ],
           "type": "scatter",
           "x": [
            19974.90335
           ],
           "xaxis": "x",
           "y": [
            38843.93612
           ],
           "yaxis": "y"
          },
          {
           "customdata": [
            [
             2016,
             0
            ]
           ],
           "hovertemplate": "Marketing Channel=%{text}<br>year=%{customdata[0]}<br>Average Cost=%{x}<br>Average Revenue=%{y}<br>Average ROI (%)=%{customdata[1]}<extra></extra>",
           "legendgroup": "TikTok",
           "marker": {
            "color": "#FFA15A",
            "size": [
             0
            ],
            "sizemode": "area",
            "sizeref": 0.35,
            "symbol": "circle"
           },
           "mode": "markers+text",
           "name": "TikTok",
           "orientation": "v",
           "showlegend": true,
           "text": [
            "TikTok"
           ],
           "type": "scatter",
           "x": [
            0
           ],
           "xaxis": "x",
           "y": [
            0
           ],
           "yaxis": "y"
          },
          {
           "customdata": [
            [
             2016,
             121
            ]
           ],
           "hovertemplate": "Marketing Channel=%{text}<br>year=%{customdata[0]}<br>Average Cost=%{x}<br>Average Revenue=%{y}<br>Average ROI (%)=%{customdata[1]}<extra></extra>",
           "legendgroup": "YouTube",
           "marker": {
            "color": "#19d3f3",
            "size": [
             121
            ],
            "sizemode": "area",
            "sizeref": 0.35,
            "symbol": "circle"
           },
           "mode": "markers+text",
           "name": "YouTube",
           "orientation": "v",
           "showlegend": true,
           "text": [
            "YouTube"
           ],
           "type": "scatter",
           "x": [
            12602.800449999999
           ],
           "xaxis": "x",
           "y": [
            27905.081705
           ],
           "yaxis": "y"
          }
         ],
         "name": "2016"
        },
        {
         "data": [
          {
           "customdata": [
            [
             2017,
             112.5
            ]
           ],
           "hovertemplate": "Marketing Channel=%{text}<br>year=%{customdata[0]}<br>Average Cost=%{x}<br>Average Revenue=%{y}<br>Average ROI (%)=%{customdata[1]}<extra></extra>",
           "legendgroup": "Instagram",
           "marker": {
            "color": "#636efa",
            "size": [
             112.5
            ],
            "sizemode": "area",
            "sizeref": 0.35,
            "symbol": "circle"
           },
           "mode": "markers+text",
           "name": "Instagram",
           "orientation": "v",
           "showlegend": true,
           "text": [
            "Instagram"
           ],
           "type": "scatter",
           "x": [
            8741.341349999999
           ],
           "xaxis": "x",
           "y": [
            18684.274135
           ],
           "yaxis": "y"
          },
          {
           "customdata": [
            [
             2017,
             77.5
            ]
           ],
           "hovertemplate": "Marketing Channel=%{text}<br>year=%{customdata[0]}<br>Average Cost=%{x}<br>Average Revenue=%{y}<br>Average ROI (%)=%{customdata[1]}<extra></extra>",
           "legendgroup": "Physical",
           "marker": {
            "color": "#EF553B",
            "size": [
             77.5
            ],
            "sizemode": "area",
            "sizeref": 0.35,
            "symbol": "circle"
           },
           "mode": "markers+text",
           "name": "Physical",
           "orientation": "v",
           "showlegend": true,
           "text": [
            "Physical"
           ],
           "type": "scatter",
           "x": [
            10759.22085
           ],
           "xaxis": "x",
           "y": [
            19070.098213
           ],
           "yaxis": "y"
          },
          {
           "customdata": [
            [
             2017,
             55.5
            ]
           ],
           "hovertemplate": "Marketing Channel=%{text}<br>year=%{customdata[0]}<br>Average Cost=%{x}<br>Average Revenue=%{y}<br>Average ROI (%)=%{customdata[1]}<extra></extra>",
           "legendgroup": "Radio",
           "marker": {
            "color": "#00cc96",
            "size": [
             55.5
            ],
            "sizemode": "area",
            "sizeref": 0.35,
            "symbol": "circle"
           },
           "mode": "markers+text",
           "name": "Radio",
           "orientation": "v",
           "showlegend": true,
           "text": [
            "Radio"
           ],
           "type": "scatter",
           "x": [
            4647.9114
           ],
           "xaxis": "x",
           "y": [
            7216.457664
           ],
           "yaxis": "y"
          },
          {
           "customdata": [
            [
             2017,
             86
            ]
           ],
           "hovertemplate": "Marketing Channel=%{text}<br>year=%{customdata[0]}<br>Average Cost=%{x}<br>Average Revenue=%{y}<br>Average ROI (%)=%{customdata[1]}<extra></extra>",
           "legendgroup": "TV",
           "marker": {
            "color": "#ab63fa",
            "size": [
             86
            ],
            "sizemode": "area",
            "sizeref": 0.35,
            "symbol": "circle"
           },
           "mode": "markers+text",
           "name": "TV",
           "orientation": "v",
           "showlegend": true,
           "text": [
            "TV"
           ],
           "type": "scatter",
           "x": [
            18594.0483
           ],
           "xaxis": "x",
           "y": [
            34491.32288
           ],
           "yaxis": "y"
          },
          {
           "customdata": [
            [
             2017,
             51
            ]
           ],
           "hovertemplate": "Marketing Channel=%{text}<br>year=%{customdata[0]}<br>Average Cost=%{x}<br>Average Revenue=%{y}<br>Average ROI (%)=%{customdata[1]}<extra></extra>",
           "legendgroup": "TikTok",
           "marker": {
            "color": "#FFA15A",
            "size": [
             51
            ],
            "sizemode": "area",
            "sizeref": 0.35,
            "symbol": "circle"
           },
           "mode": "markers+text",
           "name": "TikTok",
           "orientation": "v",
           "showlegend": true,
           "text": [
            "TikTok"
           ],
           "type": "scatter",
           "x": [
            1256.94455
           ],
           "xaxis": "x",
           "y": [
            1892.095036
           ],
           "yaxis": "y"
          },
          {
           "customdata": [
            [
             2017,
             125.5
            ]
           ],
           "hovertemplate": "Marketing Channel=%{text}<br>year=%{customdata[0]}<br>Average Cost=%{x}<br>Average Revenue=%{y}<br>Average ROI (%)=%{customdata[1]}<extra></extra>",
           "legendgroup": "YouTube",
           "marker": {
            "color": "#19d3f3",
            "size": [
             125.5
            ],
            "sizemode": "area",
            "sizeref": 0.35,
            "symbol": "circle"
           },
           "mode": "markers+text",
           "name": "YouTube",
           "orientation": "v",
           "showlegend": true,
           "text": [
            "YouTube"
           ],
           "type": "scatter",
           "x": [
            14939.7579
           ],
           "xaxis": "x",
           "y": [
            33651.330615
           ],
           "yaxis": "y"
          }
         ],
         "name": "2017"
        },
        {
         "data": [
          {
           "customdata": [
            [
             2018,
             101.5
            ]
           ],
           "hovertemplate": "Marketing Channel=%{text}<br>year=%{customdata[0]}<br>Average Cost=%{x}<br>Average Revenue=%{y}<br>Average ROI (%)=%{customdata[1]}<extra></extra>",
           "legendgroup": "Instagram",
           "marker": {
            "color": "#636efa",
            "size": [
             101.5
            ],
            "sizemode": "area",
            "sizeref": 0.35,
            "symbol": "circle"
           },
           "mode": "markers+text",
           "name": "Instagram",
           "orientation": "v",
           "showlegend": true,
           "text": [
            "Instagram"
           ],
           "type": "scatter",
           "x": [
            9226.3751
           ],
           "xaxis": "x",
           "y": [
            18405.513525
           ],
           "yaxis": "y"
          },
          {
           "customdata": [
            [
             2018,
             77.5
            ]
           ],
           "hovertemplate": "Marketing Channel=%{text}<br>year=%{customdata[0]}<br>Average Cost=%{x}<br>Average Revenue=%{y}<br>Average ROI (%)=%{customdata[1]}<extra></extra>",
           "legendgroup": "Physical",
           "marker": {
            "color": "#EF553B",
            "size": [
             77.5
            ],
            "sizemode": "area",
            "sizeref": 0.35,
            "symbol": "circle"
           },
           "mode": "markers+text",
           "name": "Physical",
           "orientation": "v",
           "showlegend": true,
           "text": [
            "Physical"
           ],
           "type": "scatter",
           "x": [
            9654.5357
           ],
           "xaxis": "x",
           "y": [
            16895.10741
           ],
           "yaxis": "y"
          },
          {
           "customdata": [
            [
             2018,
             49.5
            ]
           ],
           "hovertemplate": "Marketing Channel=%{text}<br>year=%{customdata[0]}<br>Average Cost=%{x}<br>Average Revenue=%{y}<br>Average ROI (%)=%{customdata[1]}<extra></extra>",
           "legendgroup": "Radio",
           "marker": {
            "color": "#00cc96",
            "size": [
             49.5
            ],
            "sizemode": "area",
            "sizeref": 0.35,
            "symbol": "circle"
           },
           "mode": "markers+text",
           "name": "Radio",
           "orientation": "v",
           "showlegend": true,
           "text": [
            "Radio"
           ],
           "type": "scatter",
           "x": [
            3810.84065
           ],
           "xaxis": "x",
           "y": [
            5668.922162
           ],
           "yaxis": "y"
          },
          {
           "customdata": [
            [
             2018,
             78
            ]
           ],
           "hovertemplate": "Marketing Channel=%{text}<br>year=%{customdata[0]}<br>Average Cost=%{x}<br>Average Revenue=%{y}<br>Average ROI (%)=%{customdata[1]}<extra></extra>",
           "legendgroup": "TV",
           "marker": {
            "color": "#ab63fa",
            "size": [
             78
            ],
            "sizemode": "area",
            "sizeref": 0.35,
            "symbol": "circle"
           },
           "mode": "markers+text",
           "name": "TV",
           "orientation": "v",
           "showlegend": true,
           "text": [
            "TV"
           ],
           "type": "scatter",
           "x": [
            17197.170850000002
           ],
           "xaxis": "x",
           "y": [
            30238.81008
           ],
           "yaxis": "y"
          },
          {
           "customdata": [
            [
             2018,
             49
            ]
           ],
           "hovertemplate": "Marketing Channel=%{text}<br>year=%{customdata[0]}<br>Average Cost=%{x}<br>Average Revenue=%{y}<br>Average ROI (%)=%{customdata[1]}<extra></extra>",
           "legendgroup": "TikTok",
           "marker": {
            "color": "#FFA15A",
            "size": [
             49
            ],
            "sizemode": "area",
            "sizeref": 0.35,
            "symbol": "circle"
           },
           "mode": "markers+text",
           "name": "TikTok",
           "orientation": "v",
           "showlegend": true,
           "text": [
            "TikTok"
           ],
           "type": "scatter",
           "x": [
            1817.7672499999999
           ],
           "xaxis": "x",
           "y": [
            2697.75568
           ],
           "yaxis": "y"
          },
          {
           "customdata": [
            [
             2018,
             127.5
            ]
           ],
           "hovertemplate": "Marketing Channel=%{text}<br>year=%{customdata[0]}<br>Average Cost=%{x}<br>Average Revenue=%{y}<br>Average ROI (%)=%{customdata[1]}<extra></extra>",
           "legendgroup": "YouTube",
           "marker": {
            "color": "#19d3f3",
            "size": [
             127.5
            ],
            "sizemode": "area",
            "sizeref": 0.35,
            "symbol": "circle"
           },
           "mode": "markers+text",
           "name": "YouTube",
           "orientation": "v",
           "showlegend": true,
           "text": [
            "YouTube"
           ],
           "type": "scatter",
           "x": [
            13989.9689
           ],
           "xaxis": "x",
           "y": [
            31866.205565
           ],
           "yaxis": "y"
          }
         ],
         "name": "2018"
        },
        {
         "data": [
          {
           "customdata": [
            [
             2019,
             96.5
            ]
           ],
           "hovertemplate": "Marketing Channel=%{text}<br>year=%{customdata[0]}<br>Average Cost=%{x}<br>Average Revenue=%{y}<br>Average ROI (%)=%{customdata[1]}<extra></extra>",
           "legendgroup": "Instagram",
           "marker": {
            "color": "#636efa",
            "size": [
             96.5
            ],
            "sizemode": "area",
            "sizeref": 0.35,
            "symbol": "circle"
           },
           "mode": "markers+text",
           "name": "Instagram",
           "orientation": "v",
           "showlegend": true,
           "text": [
            "Instagram"
           ],
           "type": "scatter",
           "x": [
            11684.2036
           ],
           "xaxis": "x",
           "y": [
            22931.00826
           ],
           "yaxis": "y"
          },
          {
           "customdata": [
            [
             2019,
             65.5
            ]
           ],
           "hovertemplate": "Marketing Channel=%{text}<br>year=%{customdata[0]}<br>Average Cost=%{x}<br>Average Revenue=%{y}<br>Average ROI (%)=%{customdata[1]}<extra></extra>",
           "legendgroup": "Physical",
           "marker": {
            "color": "#EF553B",
            "size": [
             65.5
            ],
            "sizemode": "area",
            "sizeref": 0.35,
            "symbol": "circle"
           },
           "mode": "markers+text",
           "name": "Physical",
           "orientation": "v",
           "showlegend": true,
           "text": [
            "Physical"
           ],
           "type": "scatter",
           "x": [
            6851.670249999999
           ],
           "xaxis": "x",
           "y": [
            11292.6518975
           ],
           "yaxis": "y"
          },
          {
           "customdata": [
            [
             2019,
             44.5
            ]
           ],
           "hovertemplate": "Marketing Channel=%{text}<br>year=%{customdata[0]}<br>Average Cost=%{x}<br>Average Revenue=%{y}<br>Average ROI (%)=%{customdata[1]}<extra></extra>",
           "legendgroup": "Radio",
           "marker": {
            "color": "#00cc96",
            "size": [
             44.5
            ],
            "sizemode": "area",
            "sizeref": 0.35,
            "symbol": "circle"
           },
           "mode": "markers+text",
           "name": "Radio",
           "orientation": "v",
           "showlegend": true,
           "text": [
            "Radio"
           ],
           "type": "scatter",
           "x": [
            2645.79035
           ],
           "xaxis": "x",
           "y": [
            3817.6913299999997
           ],
           "yaxis": "y"
          },
          {
           "customdata": [
            [
             2019,
             77
            ]
           ],
           "hovertemplate": "Marketing Channel=%{text}<br>year=%{customdata[0]}<br>Average Cost=%{x}<br>Average Revenue=%{y}<br>Average ROI (%)=%{customdata[1]}<extra></extra>",
           "legendgroup": "TV",
           "marker": {
            "color": "#ab63fa",
            "size": [
             77
            ],
            "sizemode": "area",
            "sizeref": 0.35,
            "symbol": "circle"
           },
           "mode": "markers+text",
           "name": "TV",
           "orientation": "v",
           "showlegend": true,
           "text": [
            "TV"
           ],
           "type": "scatter",
           "x": [
            14039.0323
           ],
           "xaxis": "x",
           "y": [
            24784.1417
           ],
           "yaxis": "y"
          },
          {
           "customdata": [
            [
             2019,
             50
            ]
           ],
           "hovertemplate": "Marketing Channel=%{text}<br>year=%{customdata[0]}<br>Average Cost=%{x}<br>Average Revenue=%{y}<br>Average ROI (%)=%{customdata[1]}<extra></extra>",
           "legendgroup": "TikTok",
           "marker": {
            "color": "#FFA15A",
            "size": [
             50
            ],
            "sizemode": "area",
            "sizeref": 0.35,
            "symbol": "circle"
           },
           "mode": "markers+text",
           "name": "TikTok",
           "orientation": "v",
           "showlegend": true,
           "text": [
            "TikTok"
           ],
           "type": "scatter",
           "x": [
            5121.24175
           ],
           "xaxis": "x",
           "y": [
            7732.400487999999
           ],
           "yaxis": "y"
          },
          {
           "customdata": [
            [
             2019,
             140
            ]
           ],
           "hovertemplate": "Marketing Channel=%{text}<br>year=%{customdata[0]}<br>Average Cost=%{x}<br>Average Revenue=%{y}<br>Average ROI (%)=%{customdata[1]}<extra></extra>",
           "legendgroup": "YouTube",
           "marker": {
            "color": "#19d3f3",
            "size": [
             140
            ],
            "sizemode": "area",
            "sizeref": 0.35,
            "symbol": "circle"
           },
           "mode": "markers+text",
           "name": "YouTube",
           "orientation": "v",
           "showlegend": true,
           "text": [
            "YouTube"
           ],
           "type": "scatter",
           "x": [
            15658.762050000001
           ],
           "xaxis": "x",
           "y": [
            37581.02892
           ],
           "yaxis": "y"
          }
         ],
         "name": "2019"
        },
        {
         "data": [
          {
           "customdata": [
            [
             2020,
             99.5
            ]
           ],
           "hovertemplate": "Marketing Channel=%{text}<br>year=%{customdata[0]}<br>Average Cost=%{x}<br>Average Revenue=%{y}<br>Average ROI (%)=%{customdata[1]}<extra></extra>",
           "legendgroup": "Instagram",
           "marker": {
            "color": "#636efa",
            "size": [
             99.5
            ],
            "sizemode": "area",
            "sizeref": 0.35,
            "symbol": "circle"
           },
           "mode": "markers+text",
           "name": "Instagram",
           "orientation": "v",
           "showlegend": true,
           "text": [
            "Instagram"
           ],
           "type": "scatter",
           "x": [
            12030.0779
           ],
           "xaxis": "x",
           "y": [
            24090.961915
           ],
           "yaxis": "y"
          },
          {
           "customdata": [
            [
             2020,
             62
            ]
           ],
           "hovertemplate": "Marketing Channel=%{text}<br>year=%{customdata[0]}<br>Average Cost=%{x}<br>Average Revenue=%{y}<br>Average ROI (%)=%{customdata[1]}<extra></extra>",
           "legendgroup": "Physical",
           "marker": {
            "color": "#EF553B",
            "size": [
             62
            ],
            "sizemode": "area",
            "sizeref": 0.35,
            "symbol": "circle"
           },
           "mode": "markers+text",
           "name": "Physical",
           "orientation": "v",
           "showlegend": true,
           "text": [
            "Physical"
           ],
           "type": "scatter",
           "x": [
            5352.809
           ],
           "xaxis": "x",
           "y": [
            8511.308233
           ],
           "yaxis": "y"
          },
          {
           "customdata": [
            [
             2020,
             39.5
            ]
           ],
           "hovertemplate": "Marketing Channel=%{text}<br>year=%{customdata[0]}<br>Average Cost=%{x}<br>Average Revenue=%{y}<br>Average ROI (%)=%{customdata[1]}<extra></extra>",
           "legendgroup": "Radio",
           "marker": {
            "color": "#00cc96",
            "size": [
             39.5
            ],
            "sizemode": "area",
            "sizeref": 0.35,
            "symbol": "circle"
           },
           "mode": "markers+text",
           "name": "Radio",
           "orientation": "v",
           "showlegend": true,
           "text": [
            "Radio"
           ],
           "type": "scatter",
           "x": [
            2444.2383
           ],
           "xaxis": "x",
           "y": [
            3403.512285
           ],
           "yaxis": "y"
          },
          {
           "customdata": [
            [
             2020,
             69
            ]
           ],
           "hovertemplate": "Marketing Channel=%{text}<br>year=%{customdata[0]}<br>Average Cost=%{x}<br>Average Revenue=%{y}<br>Average ROI (%)=%{customdata[1]}<extra></extra>",
           "legendgroup": "TV",
           "marker": {
            "color": "#ab63fa",
            "size": [
             69
            ],
            "sizemode": "area",
            "sizeref": 0.35,
            "symbol": "circle"
           },
           "mode": "markers+text",
           "name": "TV",
           "orientation": "v",
           "showlegend": true,
           "text": [
            "TV"
           ],
           "type": "scatter",
           "x": [
            11921.069500000001
           ],
           "xaxis": "x",
           "y": [
            19912.796065000002
           ],
           "yaxis": "y"
          },
          {
           "customdata": [
            [
             2020,
             51.5
            ]
           ],
           "hovertemplate": "Marketing Channel=%{text}<br>year=%{customdata[0]}<br>Average Cost=%{x}<br>Average Revenue=%{y}<br>Average ROI (%)=%{customdata[1]}<extra></extra>",
           "legendgroup": "TikTok",
           "marker": {
            "color": "#FFA15A",
            "size": [
             51.5
            ],
            "sizemode": "area",
            "sizeref": 0.35,
            "symbol": "circle"
           },
           "mode": "markers+text",
           "name": "TikTok",
           "orientation": "v",
           "showlegend": true,
           "text": [
            "TikTok"
           ],
           "type": "scatter",
           "x": [
            6553.878500000001
           ],
           "xaxis": "x",
           "y": [
            10057.932805
           ],
           "yaxis": "y"
          },
          {
           "customdata": [
            [
             2020,
             139
            ]
           ],
           "hovertemplate": "Marketing Channel=%{text}<br>year=%{customdata[0]}<br>Average Cost=%{x}<br>Average Revenue=%{y}<br>Average ROI (%)=%{customdata[1]}<extra></extra>",
           "legendgroup": "YouTube",
           "marker": {
            "color": "#19d3f3",
            "size": [
             139
            ],
            "sizemode": "area",
            "sizeref": 0.35,
            "symbol": "circle"
           },
           "mode": "markers+text",
           "name": "YouTube",
           "orientation": "v",
           "showlegend": true,
           "text": [
            "YouTube"
           ],
           "type": "scatter",
           "x": [
            14337.939400000001
           ],
           "xaxis": "x",
           "y": [
            34481.05562
           ],
           "yaxis": "y"
          }
         ],
         "name": "2020"
        }
       ],
       "layout": {
        "legend": {
         "itemsizing": "constant",
         "title": {
          "text": "Marketing Channel"
         },
         "tracegroupgap": 0
        },
        "sliders": [
         {
          "active": 0,
          "currentvalue": {
           "prefix": "Year: "
          },
          "len": 0.9,
          "pad": {
           "b": 10,
           "t": 50
          },
          "steps": [
           {
            "args": [
             [
              "2014"
             ],
             {
              "frame": {
               "duration": 0,
               "redraw": false
              },
              "fromcurrent": true,
              "mode": "immediate",
              "transition": {
               "duration": 0,
               "easing": "linear"
              }
             }
            ],
            "label": "2014",
            "method": "animate"
           },
           {
            "args": [
             [
              "2015"
             ],
             {
              "frame": {
               "duration": 0,
               "redraw": false
              },
              "fromcurrent": true,
              "mode": "immediate",
              "transition": {
               "duration": 0,
               "easing": "linear"
              }
             }
            ],
            "label": "2015",
            "method": "animate"
           },
           {
            "args": [
             [
              "2016"
             ],
             {
              "frame": {
               "duration": 0,
               "redraw": false
              },
              "fromcurrent": true,
              "mode": "immediate",
              "transition": {
               "duration": 0,
               "easing": "linear"
              }
             }
            ],
            "label": "2016",
            "method": "animate"
           },
           {
            "args": [
             [
              "2017"
             ],
             {
              "frame": {
               "duration": 0,
               "redraw": false
              },
              "fromcurrent": true,
              "mode": "immediate",
              "transition": {
               "duration": 0,
               "easing": "linear"
              }
             }
            ],
            "label": "2017",
            "method": "animate"
           },
           {
            "args": [
             [
              "2018"
             ],
             {
              "frame": {
               "duration": 0,
               "redraw": false
              },
              "fromcurrent": true,
              "mode": "immediate",
              "transition": {
               "duration": 0,
               "easing": "linear"
              }
             }
            ],
            "label": "2018",
            "method": "animate"
           },
           {
            "args": [
             [
              "2019"
             ],
             {
              "frame": {
               "duration": 0,
               "redraw": false
              },
              "fromcurrent": true,
              "mode": "immediate",
              "transition": {
               "duration": 0,
               "easing": "linear"
              }
             }
            ],
            "label": "2019",
            "method": "animate"
           },
           {
            "args": [
             [
              "2020"
             ],
             {
              "frame": {
               "duration": 0,
               "redraw": false
              },
              "fromcurrent": true,
              "mode": "immediate",
              "transition": {
               "duration": 0,
               "easing": "linear"
              }
             }
            ],
            "label": "2020",
            "method": "animate"
           }
          ],
          "x": 0.1,
          "xanchor": "left",
          "y": 0,
          "yanchor": "top"
         }
        ],
        "template": {
         "data": {
          "bar": [
           {
            "error_x": {
             "color": "#2a3f5f"
            },
            "error_y": {
             "color": "#2a3f5f"
            },
            "marker": {
             "line": {
              "color": "#E5ECF6",
              "width": 0.5
             },
             "pattern": {
              "fillmode": "overlay",
              "size": 10,
              "solidity": 0.2
             }
            },
            "type": "bar"
           }
          ],
          "barpolar": [
           {
            "marker": {
             "line": {
              "color": "#E5ECF6",
              "width": 0.5
             },
             "pattern": {
              "fillmode": "overlay",
              "size": 10,
              "solidity": 0.2
             }
            },
            "type": "barpolar"
           }
          ],
          "carpet": [
           {
            "aaxis": {
             "endlinecolor": "#2a3f5f",
             "gridcolor": "white",
             "linecolor": "white",
             "minorgridcolor": "white",
             "startlinecolor": "#2a3f5f"
            },
            "baxis": {
             "endlinecolor": "#2a3f5f",
             "gridcolor": "white",
             "linecolor": "white",
             "minorgridcolor": "white",
             "startlinecolor": "#2a3f5f"
            },
            "type": "carpet"
           }
          ],
          "choropleth": [
           {
            "colorbar": {
             "outlinewidth": 0,
             "ticks": ""
            },
            "type": "choropleth"
           }
          ],
          "contour": [
           {
            "colorbar": {
             "outlinewidth": 0,
             "ticks": ""
            },
            "colorscale": [
             [
              0,
              "#0d0887"
             ],
             [
              0.1111111111111111,
              "#46039f"
             ],
             [
              0.2222222222222222,
              "#7201a8"
             ],
             [
              0.3333333333333333,
              "#9c179e"
             ],
             [
              0.4444444444444444,
              "#bd3786"
             ],
             [
              0.5555555555555556,
              "#d8576b"
             ],
             [
              0.6666666666666666,
              "#ed7953"
             ],
             [
              0.7777777777777778,
              "#fb9f3a"
             ],
             [
              0.8888888888888888,
              "#fdca26"
             ],
             [
              1,
              "#f0f921"
             ]
            ],
            "type": "contour"
           }
          ],
          "contourcarpet": [
           {
            "colorbar": {
             "outlinewidth": 0,
             "ticks": ""
            },
            "type": "contourcarpet"
           }
          ],
          "heatmap": [
           {
            "colorbar": {
             "outlinewidth": 0,
             "ticks": ""
            },
            "colorscale": [
             [
              0,
              "#0d0887"
             ],
             [
              0.1111111111111111,
              "#46039f"
             ],
             [
              0.2222222222222222,
              "#7201a8"
             ],
             [
              0.3333333333333333,
              "#9c179e"
             ],
             [
              0.4444444444444444,
              "#bd3786"
             ],
             [
              0.5555555555555556,
              "#d8576b"
             ],
             [
              0.6666666666666666,
              "#ed7953"
             ],
             [
              0.7777777777777778,
              "#fb9f3a"
             ],
             [
              0.8888888888888888,
              "#fdca26"
             ],
             [
              1,
              "#f0f921"
             ]
            ],
            "type": "heatmap"
           }
          ],
          "heatmapgl": [
           {
            "colorbar": {
             "outlinewidth": 0,
             "ticks": ""
            },
            "colorscale": [
             [
              0,
              "#0d0887"
             ],
             [
              0.1111111111111111,
              "#46039f"
             ],
             [
              0.2222222222222222,
              "#7201a8"
             ],
             [
              0.3333333333333333,
              "#9c179e"
             ],
             [
              0.4444444444444444,
              "#bd3786"
             ],
             [
              0.5555555555555556,
              "#d8576b"
             ],
             [
              0.6666666666666666,
              "#ed7953"
             ],
             [
              0.7777777777777778,
              "#fb9f3a"
             ],
             [
              0.8888888888888888,
              "#fdca26"
             ],
             [
              1,
              "#f0f921"
             ]
            ],
            "type": "heatmapgl"
           }
          ],
          "histogram": [
           {
            "marker": {
             "pattern": {
              "fillmode": "overlay",
              "size": 10,
              "solidity": 0.2
             }
            },
            "type": "histogram"
           }
          ],
          "histogram2d": [
           {
            "colorbar": {
             "outlinewidth": 0,
             "ticks": ""
            },
            "colorscale": [
             [
              0,
              "#0d0887"
             ],
             [
              0.1111111111111111,
              "#46039f"
             ],
             [
              0.2222222222222222,
              "#7201a8"
             ],
             [
              0.3333333333333333,
              "#9c179e"
             ],
             [
              0.4444444444444444,
              "#bd3786"
             ],
             [
              0.5555555555555556,
              "#d8576b"
             ],
             [
              0.6666666666666666,
              "#ed7953"
             ],
             [
              0.7777777777777778,
              "#fb9f3a"
             ],
             [
              0.8888888888888888,
              "#fdca26"
             ],
             [
              1,
              "#f0f921"
             ]
            ],
            "type": "histogram2d"
           }
          ],
          "histogram2dcontour": [
           {
            "colorbar": {
             "outlinewidth": 0,
             "ticks": ""
            },
            "colorscale": [
             [
              0,
              "#0d0887"
             ],
             [
              0.1111111111111111,
              "#46039f"
             ],
             [
              0.2222222222222222,
              "#7201a8"
             ],
             [
              0.3333333333333333,
              "#9c179e"
             ],
             [
              0.4444444444444444,
              "#bd3786"
             ],
             [
              0.5555555555555556,
              "#d8576b"
             ],
             [
              0.6666666666666666,
              "#ed7953"
             ],
             [
              0.7777777777777778,
              "#fb9f3a"
             ],
             [
              0.8888888888888888,
              "#fdca26"
             ],
             [
              1,
              "#f0f921"
             ]
            ],
            "type": "histogram2dcontour"
           }
          ],
          "mesh3d": [
           {
            "colorbar": {
             "outlinewidth": 0,
             "ticks": ""
            },
            "type": "mesh3d"
           }
          ],
          "parcoords": [
           {
            "line": {
             "colorbar": {
              "outlinewidth": 0,
              "ticks": ""
             }
            },
            "type": "parcoords"
           }
          ],
          "pie": [
           {
            "automargin": true,
            "type": "pie"
           }
          ],
          "scatter": [
           {
            "fillpattern": {
             "fillmode": "overlay",
             "size": 10,
             "solidity": 0.2
            },
            "type": "scatter"
           }
          ],
          "scatter3d": [
           {
            "line": {
             "colorbar": {
              "outlinewidth": 0,
              "ticks": ""
             }
            },
            "marker": {
             "colorbar": {
              "outlinewidth": 0,
              "ticks": ""
             }
            },
            "type": "scatter3d"
           }
          ],
          "scattercarpet": [
           {
            "marker": {
             "colorbar": {
              "outlinewidth": 0,
              "ticks": ""
             }
            },
            "type": "scattercarpet"
           }
          ],
          "scattergeo": [
           {
            "marker": {
             "colorbar": {
              "outlinewidth": 0,
              "ticks": ""
             }
            },
            "type": "scattergeo"
           }
          ],
          "scattergl": [
           {
            "marker": {
             "colorbar": {
              "outlinewidth": 0,
              "ticks": ""
             }
            },
            "type": "scattergl"
           }
          ],
          "scattermapbox": [
           {
            "marker": {
             "colorbar": {
              "outlinewidth": 0,
              "ticks": ""
             }
            },
            "type": "scattermapbox"
           }
          ],
          "scatterpolar": [
           {
            "marker": {
             "colorbar": {
              "outlinewidth": 0,
              "ticks": ""
             }
            },
            "type": "scatterpolar"
           }
          ],
          "scatterpolargl": [
           {
            "marker": {
             "colorbar": {
              "outlinewidth": 0,
              "ticks": ""
             }
            },
            "type": "scatterpolargl"
           }
          ],
          "scatterternary": [
           {
            "marker": {
             "colorbar": {
              "outlinewidth": 0,
              "ticks": ""
             }
            },
            "type": "scatterternary"
           }
          ],
          "surface": [
           {
            "colorbar": {
             "outlinewidth": 0,
             "ticks": ""
            },
            "colorscale": [
             [
              0,
              "#0d0887"
             ],
             [
              0.1111111111111111,
              "#46039f"
             ],
             [
              0.2222222222222222,
              "#7201a8"
             ],
             [
              0.3333333333333333,
              "#9c179e"
             ],
             [
              0.4444444444444444,
              "#bd3786"
             ],
             [
              0.5555555555555556,
              "#d8576b"
             ],
             [
              0.6666666666666666,
              "#ed7953"
             ],
             [
              0.7777777777777778,
              "#fb9f3a"
             ],
             [
              0.8888888888888888,
              "#fdca26"
             ],
             [
              1,
              "#f0f921"
             ]
            ],
            "type": "surface"
           }
          ],
          "table": [
           {
            "cells": {
             "fill": {
              "color": "#EBF0F8"
             },
             "line": {
              "color": "white"
             }
            },
            "header": {
             "fill": {
              "color": "#C8D4E3"
             },
             "line": {
              "color": "white"
             }
            },
            "type": "table"
           }
          ]
         },
         "layout": {
          "annotationdefaults": {
           "arrowcolor": "#2a3f5f",
           "arrowhead": 0,
           "arrowwidth": 1
          },
          "autotypenumbers": "strict",
          "coloraxis": {
           "colorbar": {
            "outlinewidth": 0,
            "ticks": ""
           }
          },
          "colorscale": {
           "diverging": [
            [
             0,
             "#8e0152"
            ],
            [
             0.1,
             "#c51b7d"
            ],
            [
             0.2,
             "#de77ae"
            ],
            [
             0.3,
             "#f1b6da"
            ],
            [
             0.4,
             "#fde0ef"
            ],
            [
             0.5,
             "#f7f7f7"
            ],
            [
             0.6,
             "#e6f5d0"
            ],
            [
             0.7,
             "#b8e186"
            ],
            [
             0.8,
             "#7fbc41"
            ],
            [
             0.9,
             "#4d9221"
            ],
            [
             1,
             "#276419"
            ]
           ],
           "sequential": [
            [
             0,
             "#0d0887"
            ],
            [
             0.1111111111111111,
             "#46039f"
            ],
            [
             0.2222222222222222,
             "#7201a8"
            ],
            [
             0.3333333333333333,
             "#9c179e"
            ],
            [
             0.4444444444444444,
             "#bd3786"
            ],
            [
             0.5555555555555556,
             "#d8576b"
            ],
            [
             0.6666666666666666,
             "#ed7953"
            ],
            [
             0.7777777777777778,
             "#fb9f3a"
            ],
            [
             0.8888888888888888,
             "#fdca26"
            ],
            [
             1,
             "#f0f921"
            ]
           ],
           "sequentialminus": [
            [
             0,
             "#0d0887"
            ],
            [
             0.1111111111111111,
             "#46039f"
            ],
            [
             0.2222222222222222,
             "#7201a8"
            ],
            [
             0.3333333333333333,
             "#9c179e"
            ],
            [
             0.4444444444444444,
             "#bd3786"
            ],
            [
             0.5555555555555556,
             "#d8576b"
            ],
            [
             0.6666666666666666,
             "#ed7953"
            ],
            [
             0.7777777777777778,
             "#fb9f3a"
            ],
            [
             0.8888888888888888,
             "#fdca26"
            ],
            [
             1,
             "#f0f921"
            ]
           ]
          },
          "colorway": [
           "#636efa",
           "#EF553B",
           "#00cc96",
           "#ab63fa",
           "#FFA15A",
           "#19d3f3",
           "#FF6692",
           "#B6E880",
           "#FF97FF",
           "#FECB52"
          ],
          "font": {
           "color": "#2a3f5f"
          },
          "geo": {
           "bgcolor": "white",
           "lakecolor": "white",
           "landcolor": "#E5ECF6",
           "showlakes": true,
           "showland": true,
           "subunitcolor": "white"
          },
          "hoverlabel": {
           "align": "left"
          },
          "hovermode": "closest",
          "mapbox": {
           "style": "light"
          },
          "paper_bgcolor": "white",
          "plot_bgcolor": "#E5ECF6",
          "polar": {
           "angularaxis": {
            "gridcolor": "white",
            "linecolor": "white",
            "ticks": ""
           },
           "bgcolor": "#E5ECF6",
           "radialaxis": {
            "gridcolor": "white",
            "linecolor": "white",
            "ticks": ""
           }
          },
          "scene": {
           "xaxis": {
            "backgroundcolor": "#E5ECF6",
            "gridcolor": "white",
            "gridwidth": 2,
            "linecolor": "white",
            "showbackground": true,
            "ticks": "",
            "zerolinecolor": "white"
           },
           "yaxis": {
            "backgroundcolor": "#E5ECF6",
            "gridcolor": "white",
            "gridwidth": 2,
            "linecolor": "white",
            "showbackground": true,
            "ticks": "",
            "zerolinecolor": "white"
           },
           "zaxis": {
            "backgroundcolor": "#E5ECF6",
            "gridcolor": "white",
            "gridwidth": 2,
            "linecolor": "white",
            "showbackground": true,
            "ticks": "",
            "zerolinecolor": "white"
           }
          },
          "shapedefaults": {
           "line": {
            "color": "#2a3f5f"
           }
          },
          "ternary": {
           "aaxis": {
            "gridcolor": "white",
            "linecolor": "white",
            "ticks": ""
           },
           "baxis": {
            "gridcolor": "white",
            "linecolor": "white",
            "ticks": ""
           },
           "bgcolor": "#E5ECF6",
           "caxis": {
            "gridcolor": "white",
            "linecolor": "white",
            "ticks": ""
           }
          },
          "title": {
           "x": 0.05
          },
          "xaxis": {
           "automargin": true,
           "gridcolor": "white",
           "linecolor": "white",
           "ticks": "",
           "title": {
            "standoff": 15
           },
           "zerolinecolor": "white",
           "zerolinewidth": 2
          },
          "yaxis": {
           "automargin": true,
           "gridcolor": "white",
           "linecolor": "white",
           "ticks": "",
           "title": {
            "standoff": 15
           },
           "zerolinecolor": "white",
           "zerolinewidth": 2
          }
         }
        },
        "title": {
         "text": "Average Revenue vs. Cost vs ROI (Campaigns: Easter Sale, Mid-Year Sale, Christmas Sale)"
        },
        "updatemenus": [
         {
          "buttons": [
           {
            "args": [
             null,
             {
              "frame": {
               "duration": 500,
               "redraw": false
              },
              "fromcurrent": true,
              "mode": "immediate",
              "transition": {
               "duration": 500,
               "easing": "linear"
              }
             }
            ],
            "label": "&#9654;",
            "method": "animate"
           },
           {
            "args": [
             [
              null
             ],
             {
              "frame": {
               "duration": 0,
               "redraw": false
              },
              "fromcurrent": true,
              "mode": "immediate",
              "transition": {
               "duration": 0,
               "easing": "linear"
              }
             }
            ],
            "label": "&#9724;",
            "method": "animate"
           }
          ],
          "direction": "left",
          "pad": {
           "r": 10,
           "t": 70
          },
          "showactive": false,
          "type": "buttons",
          "x": 0.1,
          "xanchor": "right",
          "y": 0,
          "yanchor": "top"
         }
        ],
        "xaxis": {
         "anchor": "y",
         "domain": [
          0,
          1
         ],
         "title": {
          "text": "Average Cost"
         }
        },
        "yaxis": {
         "anchor": "x",
         "domain": [
          0,
          1
         ],
         "title": {
          "text": "Average Revenue"
         }
        }
       }
      }
     },
     "metadata": {},
     "output_type": "display_data"
    }
   ],
   "source": [
    "plot_rev_cost_roi(roi_df, [\"Easter Sale\", \"Mid-Year Sale\", \"Christmas Sale\"])"
   ]
  },
  {
   "cell_type": "markdown",
   "metadata": {},
   "source": [
    "##### Analysis of Cost, Revenue, and ROI Trends Across Marketing Channels\n",
    "A clear trend emerges: higher spending on a channel typically results in increased revenue. However, when considering return on investment (ROI), it’s apparent that increased spending does not necessarily yield proportionate revenue growth across all channels. This indicates a crucial insight: effective ROI is not solely dependent on high expenditure.\n",
    "\n",
    "For certain channels, even with lower costs, the revenue generated remains substantial, resulting in a significantly higher ROI. This trend emphasizes the importance of identifying channels where lower investments yield strong returns, rather than assuming that increased cost will automatically drive proportional revenue.\n",
    "\n",
    "For example, in 2020, spending on TV and Instagram was approximately the same. However, Instagram's ROI was notably higher than TV’s. This suggests that Instagram provides a more cost-effective way to generate revenue than TV, making it a more attractive channel for marketing investments for the following years. \n",
    "\n",
    "Implications for Marketing Strategy:\n",
    "1. Prioritise Channels with High ROI and Cost Efficiency:\n",
    "Channels that achieve high ROI at lower costs, like Instagram, should be prioritised. These platforms allow for cost-effective engagement with target demographics, particularly in digital-first, visually rich, and interactive formats that resonate with audiences.\n",
    "\n",
    "2. Reevaluate High-Cost, Low-ROI Channels:\n",
    "Channels like TV, which require substantial investment but do not show a proportional ROI, may need to be reconsidered. However these channels might serve strategic purposes (such as brand building or reaching specific demographics) hence it might still be justifiable to continue using the channels. If not, it would be more reasonable to allocated marketing budgets to higher-ROI platforms.\n",
    "\n",
    "3. Adopt a Balanced Multi-Channel Strategy:\n",
    "While channels with high ROI and lower costs should be prioritised, a balanced approach that combines digital channels with selective traditional media can provide comprehensive market coverage. This approach maximises reach while optimizing for cost efficiency.\n",
    "\n",
    "### **Analysis of Impact of Various Promotional Campaigns on Sales**\n",
    "#### **1. Average Order Value (AOV) during Campaign and Non-Campaign Periods**\n",
    "AOV represents the average spend per transaction and is calculated as:\n",
    "$$\n",
    "\\text{Average Order Value (AOV)} = \\frac{\\text{Total Revenue}}{\\text{Total Number of Purchases}}\n",
    "$$\n"
   ]
  },
  {
   "cell_type": "code",
   "execution_count": 11,
   "metadata": {},
   "outputs": [
    {
     "name": "stdout",
     "output_type": "stream",
     "text": [
      "AOV data of each year and campaign:\n"
     ]
    },
    {
     "data": {
      "text/html": [
       "<div>\n",
       "<style scoped>\n",
       "    .dataframe tbody tr th:only-of-type {\n",
       "        vertical-align: middle;\n",
       "    }\n",
       "\n",
       "    .dataframe tbody tr th {\n",
       "        vertical-align: top;\n",
       "    }\n",
       "\n",
       "    .dataframe thead th {\n",
       "        text-align: right;\n",
       "    }\n",
       "</style>\n",
       "<table border=\"1\" class=\"dataframe\">\n",
       "  <thead>\n",
       "    <tr style=\"text-align: right;\">\n",
       "      <th></th>\n",
       "      <th>year</th>\n",
       "      <th>campaign_name</th>\n",
       "      <th>revenue</th>\n",
       "      <th>customer_key</th>\n",
       "      <th>aov</th>\n",
       "    </tr>\n",
       "  </thead>\n",
       "  <tbody>\n",
       "    <tr>\n",
       "      <th>0</th>\n",
       "      <td>2014</td>\n",
       "      <td>Christmas</td>\n",
       "      <td>441516.0</td>\n",
       "      <td>5099</td>\n",
       "      <td>86.588743</td>\n",
       "    </tr>\n",
       "    <tr>\n",
       "      <th>1</th>\n",
       "      <td>2014</td>\n",
       "      <td>Easter Sale</td>\n",
       "      <td>64532.0</td>\n",
       "      <td>1072</td>\n",
       "      <td>60.197761</td>\n",
       "    </tr>\n",
       "    <tr>\n",
       "      <th>2</th>\n",
       "      <td>2014</td>\n",
       "      <td>Halloween</td>\n",
       "      <td>115926.0</td>\n",
       "      <td>1941</td>\n",
       "      <td>59.724884</td>\n",
       "    </tr>\n",
       "    <tr>\n",
       "      <th>3</th>\n",
       "      <td>2014</td>\n",
       "      <td>Mid-Year Sale</td>\n",
       "      <td>144860.0</td>\n",
       "      <td>2731</td>\n",
       "      <td>53.042841</td>\n",
       "    </tr>\n",
       "    <tr>\n",
       "      <th>4</th>\n",
       "      <td>2015</td>\n",
       "      <td>Christmas</td>\n",
       "      <td>367689.0</td>\n",
       "      <td>4588</td>\n",
       "      <td>80.141456</td>\n",
       "    </tr>\n",
       "    <tr>\n",
       "      <th>5</th>\n",
       "      <td>2015</td>\n",
       "      <td>Easter Sale</td>\n",
       "      <td>58166.0</td>\n",
       "      <td>978</td>\n",
       "      <td>59.474438</td>\n",
       "    </tr>\n",
       "    <tr>\n",
       "      <th>6</th>\n",
       "      <td>2015</td>\n",
       "      <td>Mid-Year Sale</td>\n",
       "      <td>129731.0</td>\n",
       "      <td>2446</td>\n",
       "      <td>53.038021</td>\n",
       "    </tr>\n",
       "    <tr>\n",
       "      <th>7</th>\n",
       "      <td>2015</td>\n",
       "      <td>St. Patrick's Day</td>\n",
       "      <td>112089.0</td>\n",
       "      <td>1804</td>\n",
       "      <td>62.133592</td>\n",
       "    </tr>\n",
       "    <tr>\n",
       "      <th>8</th>\n",
       "      <td>2016</td>\n",
       "      <td>Christmas</td>\n",
       "      <td>363552.0</td>\n",
       "      <td>4512</td>\n",
       "      <td>80.574468</td>\n",
       "    </tr>\n",
       "    <tr>\n",
       "      <th>9</th>\n",
       "      <td>2016</td>\n",
       "      <td>Cinco de Mayo</td>\n",
       "      <td>127015.0</td>\n",
       "      <td>2071</td>\n",
       "      <td>61.330275</td>\n",
       "    </tr>\n",
       "    <tr>\n",
       "      <th>10</th>\n",
       "      <td>2016</td>\n",
       "      <td>Easter Sale</td>\n",
       "      <td>65222.0</td>\n",
       "      <td>1075</td>\n",
       "      <td>60.671628</td>\n",
       "    </tr>\n",
       "    <tr>\n",
       "      <th>11</th>\n",
       "      <td>2016</td>\n",
       "      <td>Mid-Year Sale</td>\n",
       "      <td>156575.0</td>\n",
       "      <td>2368</td>\n",
       "      <td>66.121199</td>\n",
       "    </tr>\n",
       "    <tr>\n",
       "      <th>12</th>\n",
       "      <td>2017</td>\n",
       "      <td>Christmas</td>\n",
       "      <td>358042.0</td>\n",
       "      <td>4496</td>\n",
       "      <td>79.635676</td>\n",
       "    </tr>\n",
       "    <tr>\n",
       "      <th>13</th>\n",
       "      <td>2017</td>\n",
       "      <td>Drinks Bonanza</td>\n",
       "      <td>114884.0</td>\n",
       "      <td>1884</td>\n",
       "      <td>60.978769</td>\n",
       "    </tr>\n",
       "    <tr>\n",
       "      <th>14</th>\n",
       "      <td>2017</td>\n",
       "      <td>Easter Sale</td>\n",
       "      <td>57218.0</td>\n",
       "      <td>968</td>\n",
       "      <td>59.109504</td>\n",
       "    </tr>\n",
       "    <tr>\n",
       "      <th>15</th>\n",
       "      <td>2017</td>\n",
       "      <td>Mid-Year Sale</td>\n",
       "      <td>172626.0</td>\n",
       "      <td>2588</td>\n",
       "      <td>66.702473</td>\n",
       "    </tr>\n",
       "    <tr>\n",
       "      <th>16</th>\n",
       "      <td>2018</td>\n",
       "      <td>Christmas</td>\n",
       "      <td>340985.0</td>\n",
       "      <td>4911</td>\n",
       "      <td>69.432906</td>\n",
       "    </tr>\n",
       "    <tr>\n",
       "      <th>17</th>\n",
       "      <td>2018</td>\n",
       "      <td>Discount Daze</td>\n",
       "      <td>161527.0</td>\n",
       "      <td>2648</td>\n",
       "      <td>60.999622</td>\n",
       "    </tr>\n",
       "    <tr>\n",
       "      <th>18</th>\n",
       "      <td>2018</td>\n",
       "      <td>Easter Sale</td>\n",
       "      <td>48258.0</td>\n",
       "      <td>811</td>\n",
       "      <td>59.504316</td>\n",
       "    </tr>\n",
       "    <tr>\n",
       "      <th>19</th>\n",
       "      <td>2018</td>\n",
       "      <td>Mid-Year Sale</td>\n",
       "      <td>162861.0</td>\n",
       "      <td>2528</td>\n",
       "      <td>64.422864</td>\n",
       "    </tr>\n",
       "    <tr>\n",
       "      <th>20</th>\n",
       "      <td>2019</td>\n",
       "      <td>Christmas</td>\n",
       "      <td>333291.0</td>\n",
       "      <td>4304</td>\n",
       "      <td>77.437500</td>\n",
       "    </tr>\n",
       "    <tr>\n",
       "      <th>21</th>\n",
       "      <td>2019</td>\n",
       "      <td>Easter Sale</td>\n",
       "      <td>57100.0</td>\n",
       "      <td>918</td>\n",
       "      <td>62.200436</td>\n",
       "    </tr>\n",
       "    <tr>\n",
       "      <th>22</th>\n",
       "      <td>2019</td>\n",
       "      <td>Mid-Year Sale</td>\n",
       "      <td>158729.0</td>\n",
       "      <td>2436</td>\n",
       "      <td>65.159688</td>\n",
       "    </tr>\n",
       "    <tr>\n",
       "      <th>23</th>\n",
       "      <td>2019</td>\n",
       "      <td>Super Mart Sale</td>\n",
       "      <td>120822.0</td>\n",
       "      <td>2041</td>\n",
       "      <td>59.197452</td>\n",
       "    </tr>\n",
       "    <tr>\n",
       "      <th>24</th>\n",
       "      <td>2020</td>\n",
       "      <td>Christmas</td>\n",
       "      <td>378793.0</td>\n",
       "      <td>4809</td>\n",
       "      <td>78.767519</td>\n",
       "    </tr>\n",
       "    <tr>\n",
       "      <th>25</th>\n",
       "      <td>2020</td>\n",
       "      <td>Easter Sale</td>\n",
       "      <td>49664.0</td>\n",
       "      <td>846</td>\n",
       "      <td>58.704492</td>\n",
       "    </tr>\n",
       "    <tr>\n",
       "      <th>26</th>\n",
       "      <td>2020</td>\n",
       "      <td>Markdown Mega Sale</td>\n",
       "      <td>77726.0</td>\n",
       "      <td>1248</td>\n",
       "      <td>62.280449</td>\n",
       "    </tr>\n",
       "    <tr>\n",
       "      <th>27</th>\n",
       "      <td>2020</td>\n",
       "      <td>Mid-Year Sale</td>\n",
       "      <td>151058.0</td>\n",
       "      <td>2298</td>\n",
       "      <td>65.734552</td>\n",
       "    </tr>\n",
       "  </tbody>\n",
       "</table>\n",
       "</div>"
      ],
      "text/plain": [
       "    year       campaign_name   revenue  customer_key        aov\n",
       "0   2014           Christmas  441516.0          5099  86.588743\n",
       "1   2014         Easter Sale   64532.0          1072  60.197761\n",
       "2   2014           Halloween  115926.0          1941  59.724884\n",
       "3   2014       Mid-Year Sale  144860.0          2731  53.042841\n",
       "4   2015           Christmas  367689.0          4588  80.141456\n",
       "5   2015         Easter Sale   58166.0           978  59.474438\n",
       "6   2015       Mid-Year Sale  129731.0          2446  53.038021\n",
       "7   2015   St. Patrick's Day  112089.0          1804  62.133592\n",
       "8   2016           Christmas  363552.0          4512  80.574468\n",
       "9   2016       Cinco de Mayo  127015.0          2071  61.330275\n",
       "10  2016         Easter Sale   65222.0          1075  60.671628\n",
       "11  2016       Mid-Year Sale  156575.0          2368  66.121199\n",
       "12  2017           Christmas  358042.0          4496  79.635676\n",
       "13  2017      Drinks Bonanza  114884.0          1884  60.978769\n",
       "14  2017         Easter Sale   57218.0           968  59.109504\n",
       "15  2017       Mid-Year Sale  172626.0          2588  66.702473\n",
       "16  2018           Christmas  340985.0          4911  69.432906\n",
       "17  2018       Discount Daze  161527.0          2648  60.999622\n",
       "18  2018         Easter Sale   48258.0           811  59.504316\n",
       "19  2018       Mid-Year Sale  162861.0          2528  64.422864\n",
       "20  2019           Christmas  333291.0          4304  77.437500\n",
       "21  2019         Easter Sale   57100.0           918  62.200436\n",
       "22  2019       Mid-Year Sale  158729.0          2436  65.159688\n",
       "23  2019     Super Mart Sale  120822.0          2041  59.197452\n",
       "24  2020           Christmas  378793.0          4809  78.767519\n",
       "25  2020         Easter Sale   49664.0           846  58.704492\n",
       "26  2020  Markdown Mega Sale   77726.0          1248  62.280449\n",
       "27  2020       Mid-Year Sale  151058.0          2298  65.734552"
      ]
     },
     "execution_count": 11,
     "metadata": {},
     "output_type": "execute_result"
    }
   ],
   "source": [
    "campaign_grouped = aov_analysis(df2)[2]\n",
    "print('AOV data of each year and campaign:')\n",
    "campaign_grouped"
   ]
  },
  {
   "cell_type": "code",
   "execution_count": 12,
   "metadata": {},
   "outputs": [
    {
     "name": "stdout",
     "output_type": "stream",
     "text": [
      "AOV data of non-campaign periods each year:\n"
     ]
    },
    {
     "data": {
      "text/html": [
       "<div>\n",
       "<style scoped>\n",
       "    .dataframe tbody tr th:only-of-type {\n",
       "        vertical-align: middle;\n",
       "    }\n",
       "\n",
       "    .dataframe tbody tr th {\n",
       "        vertical-align: top;\n",
       "    }\n",
       "\n",
       "    .dataframe thead th {\n",
       "        text-align: right;\n",
       "    }\n",
       "</style>\n",
       "<table border=\"1\" class=\"dataframe\">\n",
       "  <thead>\n",
       "    <tr style=\"text-align: right;\">\n",
       "      <th></th>\n",
       "      <th>year</th>\n",
       "      <th>revenue</th>\n",
       "      <th>customer_key</th>\n",
       "      <th>aov</th>\n",
       "    </tr>\n",
       "  </thead>\n",
       "  <tbody>\n",
       "    <tr>\n",
       "      <th>0</th>\n",
       "      <td>2014</td>\n",
       "      <td>6824457.0</td>\n",
       "      <td>125279</td>\n",
       "      <td>54.474070</td>\n",
       "    </tr>\n",
       "    <tr>\n",
       "      <th>1</th>\n",
       "      <td>2015</td>\n",
       "      <td>7169941.0</td>\n",
       "      <td>133631</td>\n",
       "      <td>53.654773</td>\n",
       "    </tr>\n",
       "    <tr>\n",
       "      <th>2</th>\n",
       "      <td>2016</td>\n",
       "      <td>7186566.0</td>\n",
       "      <td>131948</td>\n",
       "      <td>54.465138</td>\n",
       "    </tr>\n",
       "    <tr>\n",
       "      <th>3</th>\n",
       "      <td>2017</td>\n",
       "      <td>7174335.0</td>\n",
       "      <td>132667</td>\n",
       "      <td>54.077766</td>\n",
       "    </tr>\n",
       "    <tr>\n",
       "      <th>4</th>\n",
       "      <td>2018</td>\n",
       "      <td>7135464.0</td>\n",
       "      <td>132086</td>\n",
       "      <td>54.021350</td>\n",
       "    </tr>\n",
       "    <tr>\n",
       "      <th>5</th>\n",
       "      <td>2019</td>\n",
       "      <td>7184018.0</td>\n",
       "      <td>132183</td>\n",
       "      <td>54.349031</td>\n",
       "    </tr>\n",
       "    <tr>\n",
       "      <th>6</th>\n",
       "      <td>2020</td>\n",
       "      <td>7261243.0</td>\n",
       "      <td>133454</td>\n",
       "      <td>54.410081</td>\n",
       "    </tr>\n",
       "  </tbody>\n",
       "</table>\n",
       "</div>"
      ],
      "text/plain": [
       "   year    revenue  customer_key        aov\n",
       "0  2014  6824457.0        125279  54.474070\n",
       "1  2015  7169941.0        133631  53.654773\n",
       "2  2016  7186566.0        131948  54.465138\n",
       "3  2017  7174335.0        132667  54.077766\n",
       "4  2018  7135464.0        132086  54.021350\n",
       "5  2019  7184018.0        132183  54.349031\n",
       "6  2020  7261243.0        133454  54.410081"
      ]
     },
     "execution_count": 12,
     "metadata": {},
     "output_type": "execute_result"
    }
   ],
   "source": [
    "non_campaign_grouped = aov_analysis(df2)[3]\n",
    "print('AOV data of non-campaign periods each year:')\n",
    "non_campaign_grouped"
   ]
  },
  {
   "cell_type": "markdown",
   "metadata": {},
   "source": [
    "##### **General Trend of Overall Campaign AOV vs Non-Campaign AOV**"
   ]
  },
  {
   "cell_type": "code",
   "execution_count": 27,
   "metadata": {},
   "outputs": [
    {
     "data": {
      "application/vnd.plotly.v1+json": {
       "config": {
        "plotlyServerURL": "https://plot.ly"
       },
       "data": [
        {
         "line": {
          "color": "blue"
         },
         "marker": {
          "color": "blue",
          "symbol": "circle"
         },
         "mode": "lines+markers",
         "name": "Campaign",
         "type": "scatter",
         "x": [
          2014,
          2015,
          2016,
          2017,
          2018,
          2019,
          2020
         ],
         "y": [
          70.72157152079683,
          68.01905052974735,
          71.05166566925992,
          70.72966988727859,
          65.48274912828042,
          69.07330652644603,
          71.43147483969133
         ]
        },
        {
         "line": {
          "color": "green"
         },
         "marker": {
          "color": "green",
          "symbol": "square"
         },
         "mode": "lines+markers",
         "name": "Non-Campaign",
         "type": "scatter",
         "x": [
          2014,
          2015,
          2016,
          2017,
          2018,
          2019,
          2020
         ],
         "y": [
          54.47406987603669,
          53.65477321878905,
          54.46513778155031,
          54.07776613626599,
          54.02134972669322,
          54.34903126725827,
          54.4100813763544
         ]
        }
       ],
       "layout": {
        "height": 500,
        "template": {
         "data": {
          "bar": [
           {
            "error_x": {
             "color": "#2a3f5f"
            },
            "error_y": {
             "color": "#2a3f5f"
            },
            "marker": {
             "line": {
              "color": "white",
              "width": 0.5
             },
             "pattern": {
              "fillmode": "overlay",
              "size": 10,
              "solidity": 0.2
             }
            },
            "type": "bar"
           }
          ],
          "barpolar": [
           {
            "marker": {
             "line": {
              "color": "white",
              "width": 0.5
             },
             "pattern": {
              "fillmode": "overlay",
              "size": 10,
              "solidity": 0.2
             }
            },
            "type": "barpolar"
           }
          ],
          "carpet": [
           {
            "aaxis": {
             "endlinecolor": "#2a3f5f",
             "gridcolor": "#C8D4E3",
             "linecolor": "#C8D4E3",
             "minorgridcolor": "#C8D4E3",
             "startlinecolor": "#2a3f5f"
            },
            "baxis": {
             "endlinecolor": "#2a3f5f",
             "gridcolor": "#C8D4E3",
             "linecolor": "#C8D4E3",
             "minorgridcolor": "#C8D4E3",
             "startlinecolor": "#2a3f5f"
            },
            "type": "carpet"
           }
          ],
          "choropleth": [
           {
            "colorbar": {
             "outlinewidth": 0,
             "ticks": ""
            },
            "type": "choropleth"
           }
          ],
          "contour": [
           {
            "colorbar": {
             "outlinewidth": 0,
             "ticks": ""
            },
            "colorscale": [
             [
              0,
              "#0d0887"
             ],
             [
              0.1111111111111111,
              "#46039f"
             ],
             [
              0.2222222222222222,
              "#7201a8"
             ],
             [
              0.3333333333333333,
              "#9c179e"
             ],
             [
              0.4444444444444444,
              "#bd3786"
             ],
             [
              0.5555555555555556,
              "#d8576b"
             ],
             [
              0.6666666666666666,
              "#ed7953"
             ],
             [
              0.7777777777777778,
              "#fb9f3a"
             ],
             [
              0.8888888888888888,
              "#fdca26"
             ],
             [
              1,
              "#f0f921"
             ]
            ],
            "type": "contour"
           }
          ],
          "contourcarpet": [
           {
            "colorbar": {
             "outlinewidth": 0,
             "ticks": ""
            },
            "type": "contourcarpet"
           }
          ],
          "heatmap": [
           {
            "colorbar": {
             "outlinewidth": 0,
             "ticks": ""
            },
            "colorscale": [
             [
              0,
              "#0d0887"
             ],
             [
              0.1111111111111111,
              "#46039f"
             ],
             [
              0.2222222222222222,
              "#7201a8"
             ],
             [
              0.3333333333333333,
              "#9c179e"
             ],
             [
              0.4444444444444444,
              "#bd3786"
             ],
             [
              0.5555555555555556,
              "#d8576b"
             ],
             [
              0.6666666666666666,
              "#ed7953"
             ],
             [
              0.7777777777777778,
              "#fb9f3a"
             ],
             [
              0.8888888888888888,
              "#fdca26"
             ],
             [
              1,
              "#f0f921"
             ]
            ],
            "type": "heatmap"
           }
          ],
          "heatmapgl": [
           {
            "colorbar": {
             "outlinewidth": 0,
             "ticks": ""
            },
            "colorscale": [
             [
              0,
              "#0d0887"
             ],
             [
              0.1111111111111111,
              "#46039f"
             ],
             [
              0.2222222222222222,
              "#7201a8"
             ],
             [
              0.3333333333333333,
              "#9c179e"
             ],
             [
              0.4444444444444444,
              "#bd3786"
             ],
             [
              0.5555555555555556,
              "#d8576b"
             ],
             [
              0.6666666666666666,
              "#ed7953"
             ],
             [
              0.7777777777777778,
              "#fb9f3a"
             ],
             [
              0.8888888888888888,
              "#fdca26"
             ],
             [
              1,
              "#f0f921"
             ]
            ],
            "type": "heatmapgl"
           }
          ],
          "histogram": [
           {
            "marker": {
             "pattern": {
              "fillmode": "overlay",
              "size": 10,
              "solidity": 0.2
             }
            },
            "type": "histogram"
           }
          ],
          "histogram2d": [
           {
            "colorbar": {
             "outlinewidth": 0,
             "ticks": ""
            },
            "colorscale": [
             [
              0,
              "#0d0887"
             ],
             [
              0.1111111111111111,
              "#46039f"
             ],
             [
              0.2222222222222222,
              "#7201a8"
             ],
             [
              0.3333333333333333,
              "#9c179e"
             ],
             [
              0.4444444444444444,
              "#bd3786"
             ],
             [
              0.5555555555555556,
              "#d8576b"
             ],
             [
              0.6666666666666666,
              "#ed7953"
             ],
             [
              0.7777777777777778,
              "#fb9f3a"
             ],
             [
              0.8888888888888888,
              "#fdca26"
             ],
             [
              1,
              "#f0f921"
             ]
            ],
            "type": "histogram2d"
           }
          ],
          "histogram2dcontour": [
           {
            "colorbar": {
             "outlinewidth": 0,
             "ticks": ""
            },
            "colorscale": [
             [
              0,
              "#0d0887"
             ],
             [
              0.1111111111111111,
              "#46039f"
             ],
             [
              0.2222222222222222,
              "#7201a8"
             ],
             [
              0.3333333333333333,
              "#9c179e"
             ],
             [
              0.4444444444444444,
              "#bd3786"
             ],
             [
              0.5555555555555556,
              "#d8576b"
             ],
             [
              0.6666666666666666,
              "#ed7953"
             ],
             [
              0.7777777777777778,
              "#fb9f3a"
             ],
             [
              0.8888888888888888,
              "#fdca26"
             ],
             [
              1,
              "#f0f921"
             ]
            ],
            "type": "histogram2dcontour"
           }
          ],
          "mesh3d": [
           {
            "colorbar": {
             "outlinewidth": 0,
             "ticks": ""
            },
            "type": "mesh3d"
           }
          ],
          "parcoords": [
           {
            "line": {
             "colorbar": {
              "outlinewidth": 0,
              "ticks": ""
             }
            },
            "type": "parcoords"
           }
          ],
          "pie": [
           {
            "automargin": true,
            "type": "pie"
           }
          ],
          "scatter": [
           {
            "fillpattern": {
             "fillmode": "overlay",
             "size": 10,
             "solidity": 0.2
            },
            "type": "scatter"
           }
          ],
          "scatter3d": [
           {
            "line": {
             "colorbar": {
              "outlinewidth": 0,
              "ticks": ""
             }
            },
            "marker": {
             "colorbar": {
              "outlinewidth": 0,
              "ticks": ""
             }
            },
            "type": "scatter3d"
           }
          ],
          "scattercarpet": [
           {
            "marker": {
             "colorbar": {
              "outlinewidth": 0,
              "ticks": ""
             }
            },
            "type": "scattercarpet"
           }
          ],
          "scattergeo": [
           {
            "marker": {
             "colorbar": {
              "outlinewidth": 0,
              "ticks": ""
             }
            },
            "type": "scattergeo"
           }
          ],
          "scattergl": [
           {
            "marker": {
             "colorbar": {
              "outlinewidth": 0,
              "ticks": ""
             }
            },
            "type": "scattergl"
           }
          ],
          "scattermapbox": [
           {
            "marker": {
             "colorbar": {
              "outlinewidth": 0,
              "ticks": ""
             }
            },
            "type": "scattermapbox"
           }
          ],
          "scatterpolar": [
           {
            "marker": {
             "colorbar": {
              "outlinewidth": 0,
              "ticks": ""
             }
            },
            "type": "scatterpolar"
           }
          ],
          "scatterpolargl": [
           {
            "marker": {
             "colorbar": {
              "outlinewidth": 0,
              "ticks": ""
             }
            },
            "type": "scatterpolargl"
           }
          ],
          "scatterternary": [
           {
            "marker": {
             "colorbar": {
              "outlinewidth": 0,
              "ticks": ""
             }
            },
            "type": "scatterternary"
           }
          ],
          "surface": [
           {
            "colorbar": {
             "outlinewidth": 0,
             "ticks": ""
            },
            "colorscale": [
             [
              0,
              "#0d0887"
             ],
             [
              0.1111111111111111,
              "#46039f"
             ],
             [
              0.2222222222222222,
              "#7201a8"
             ],
             [
              0.3333333333333333,
              "#9c179e"
             ],
             [
              0.4444444444444444,
              "#bd3786"
             ],
             [
              0.5555555555555556,
              "#d8576b"
             ],
             [
              0.6666666666666666,
              "#ed7953"
             ],
             [
              0.7777777777777778,
              "#fb9f3a"
             ],
             [
              0.8888888888888888,
              "#fdca26"
             ],
             [
              1,
              "#f0f921"
             ]
            ],
            "type": "surface"
           }
          ],
          "table": [
           {
            "cells": {
             "fill": {
              "color": "#EBF0F8"
             },
             "line": {
              "color": "white"
             }
            },
            "header": {
             "fill": {
              "color": "#C8D4E3"
             },
             "line": {
              "color": "white"
             }
            },
            "type": "table"
           }
          ]
         },
         "layout": {
          "annotationdefaults": {
           "arrowcolor": "#2a3f5f",
           "arrowhead": 0,
           "arrowwidth": 1
          },
          "autotypenumbers": "strict",
          "coloraxis": {
           "colorbar": {
            "outlinewidth": 0,
            "ticks": ""
           }
          },
          "colorscale": {
           "diverging": [
            [
             0,
             "#8e0152"
            ],
            [
             0.1,
             "#c51b7d"
            ],
            [
             0.2,
             "#de77ae"
            ],
            [
             0.3,
             "#f1b6da"
            ],
            [
             0.4,
             "#fde0ef"
            ],
            [
             0.5,
             "#f7f7f7"
            ],
            [
             0.6,
             "#e6f5d0"
            ],
            [
             0.7,
             "#b8e186"
            ],
            [
             0.8,
             "#7fbc41"
            ],
            [
             0.9,
             "#4d9221"
            ],
            [
             1,
             "#276419"
            ]
           ],
           "sequential": [
            [
             0,
             "#0d0887"
            ],
            [
             0.1111111111111111,
             "#46039f"
            ],
            [
             0.2222222222222222,
             "#7201a8"
            ],
            [
             0.3333333333333333,
             "#9c179e"
            ],
            [
             0.4444444444444444,
             "#bd3786"
            ],
            [
             0.5555555555555556,
             "#d8576b"
            ],
            [
             0.6666666666666666,
             "#ed7953"
            ],
            [
             0.7777777777777778,
             "#fb9f3a"
            ],
            [
             0.8888888888888888,
             "#fdca26"
            ],
            [
             1,
             "#f0f921"
            ]
           ],
           "sequentialminus": [
            [
             0,
             "#0d0887"
            ],
            [
             0.1111111111111111,
             "#46039f"
            ],
            [
             0.2222222222222222,
             "#7201a8"
            ],
            [
             0.3333333333333333,
             "#9c179e"
            ],
            [
             0.4444444444444444,
             "#bd3786"
            ],
            [
             0.5555555555555556,
             "#d8576b"
            ],
            [
             0.6666666666666666,
             "#ed7953"
            ],
            [
             0.7777777777777778,
             "#fb9f3a"
            ],
            [
             0.8888888888888888,
             "#fdca26"
            ],
            [
             1,
             "#f0f921"
            ]
           ]
          },
          "colorway": [
           "#636efa",
           "#EF553B",
           "#00cc96",
           "#ab63fa",
           "#FFA15A",
           "#19d3f3",
           "#FF6692",
           "#B6E880",
           "#FF97FF",
           "#FECB52"
          ],
          "font": {
           "color": "#2a3f5f"
          },
          "geo": {
           "bgcolor": "white",
           "lakecolor": "white",
           "landcolor": "white",
           "showlakes": true,
           "showland": true,
           "subunitcolor": "#C8D4E3"
          },
          "hoverlabel": {
           "align": "left"
          },
          "hovermode": "closest",
          "mapbox": {
           "style": "light"
          },
          "paper_bgcolor": "white",
          "plot_bgcolor": "white",
          "polar": {
           "angularaxis": {
            "gridcolor": "#EBF0F8",
            "linecolor": "#EBF0F8",
            "ticks": ""
           },
           "bgcolor": "white",
           "radialaxis": {
            "gridcolor": "#EBF0F8",
            "linecolor": "#EBF0F8",
            "ticks": ""
           }
          },
          "scene": {
           "xaxis": {
            "backgroundcolor": "white",
            "gridcolor": "#DFE8F3",
            "gridwidth": 2,
            "linecolor": "#EBF0F8",
            "showbackground": true,
            "ticks": "",
            "zerolinecolor": "#EBF0F8"
           },
           "yaxis": {
            "backgroundcolor": "white",
            "gridcolor": "#DFE8F3",
            "gridwidth": 2,
            "linecolor": "#EBF0F8",
            "showbackground": true,
            "ticks": "",
            "zerolinecolor": "#EBF0F8"
           },
           "zaxis": {
            "backgroundcolor": "white",
            "gridcolor": "#DFE8F3",
            "gridwidth": 2,
            "linecolor": "#EBF0F8",
            "showbackground": true,
            "ticks": "",
            "zerolinecolor": "#EBF0F8"
           }
          },
          "shapedefaults": {
           "line": {
            "color": "#2a3f5f"
           }
          },
          "ternary": {
           "aaxis": {
            "gridcolor": "#DFE8F3",
            "linecolor": "#A2B1C6",
            "ticks": ""
           },
           "baxis": {
            "gridcolor": "#DFE8F3",
            "linecolor": "#A2B1C6",
            "ticks": ""
           },
           "bgcolor": "white",
           "caxis": {
            "gridcolor": "#DFE8F3",
            "linecolor": "#A2B1C6",
            "ticks": ""
           }
          },
          "title": {
           "x": 0.05
          },
          "xaxis": {
           "automargin": true,
           "gridcolor": "#EBF0F8",
           "linecolor": "#EBF0F8",
           "ticks": "",
           "title": {
            "standoff": 15
           },
           "zerolinecolor": "#EBF0F8",
           "zerolinewidth": 2
          },
          "yaxis": {
           "automargin": true,
           "gridcolor": "#EBF0F8",
           "linecolor": "#EBF0F8",
           "ticks": "",
           "title": {
            "standoff": 15
           },
           "zerolinecolor": "#EBF0F8",
           "zerolinewidth": 2
          }
         }
        },
        "title": {
         "text": "Campaign vs Non-Campaign AOV Over Time"
        },
        "width": 800,
        "xaxis": {
         "showgrid": true,
         "title": {
          "text": "Year"
         }
        },
        "yaxis": {
         "showgrid": true,
         "title": {
          "text": "Average Order Value (AOV)"
         }
        }
       }
      }
     },
     "metadata": {},
     "output_type": "display_data"
    }
   ],
   "source": [
    "df_campaign = aov_analysis(df2)[0]\n",
    "df_non_campaign = aov_analysis(df2)[1]\n",
    "df_comparison = aov_yearly(df_campaign, df_non_campaign)\n",
    "aov_yearly_plot(df_comparison)"
   ]
  },
  {
   "cell_type": "markdown",
   "metadata": {},
   "source": [
    "Based on the graph above, we can see that AOV for campaign periods is consistently higher than that of non-campaign periods. The dip in 2018 could indicate that the campaigns in 2018 were less successful at encouraging larger purchases. The AOV during non-campaign periods remains relatively low but stable, with minimal fluctuation from year to year. This suggests that campaigns are a primary lever for increasing AOV, while non-campaign periods reflect more consistent and baseline purchasing behavior, reinforcing the impact of campaigns in driving higher order values. \n",
    "\n",
    "Overall, the significant difference between campaign and non-campaign AOVs indicates that the campaigns are effective in incentivising customers to spend more per order.\n",
    "\n",
    "##### **Comparing Specific Campaign AOV vs Non-Campaign AOV Trend**"
   ]
  },
  {
   "cell_type": "code",
   "execution_count": 28,
   "metadata": {},
   "outputs": [
    {
     "data": {
      "application/vnd.plotly.v1+json": {
       "config": {
        "plotlyServerURL": "https://plot.ly"
       },
       "data": [
        {
         "hovertemplate": "Year: %{x}<br>AOV: %{y}<extra></extra>",
         "line": {
          "color": "black",
          "dash": "dash"
         },
         "marker": {
          "size": 8,
          "symbol": "square"
         },
         "mode": "lines+markers",
         "name": "Non-Campaign (Baseline)",
         "type": "scatter",
         "x": [
          2014,
          2015,
          2016,
          2017,
          2018,
          2019,
          2020
         ],
         "y": [
          54.47406987603669,
          53.65477321878905,
          54.46513778155031,
          54.07776613626599,
          54.02134972669322,
          54.34903126725827,
          54.4100813763544
         ]
        },
        {
         "hovertemplate": "Year: %{x}<br>AOV: %{y}<br>Campaign: Christmas<extra></extra>",
         "marker": {
          "size": 6
         },
         "mode": "lines+markers",
         "name": "Christmas",
         "type": "scatter",
         "x": [
          2014,
          2015,
          2016,
          2017,
          2018,
          2019,
          2020
         ],
         "y": [
          86.5887428907629,
          80.14145597210113,
          80.57446808510639,
          79.63567615658363,
          69.43290572184891,
          77.4375,
          78.76751923476814
         ]
        },
        {
         "hovertemplate": "Year: %{x}<br>AOV: %{y}<br>Campaign: Easter Sale<extra></extra>",
         "marker": {
          "size": 6
         },
         "mode": "lines+markers",
         "name": "Easter Sale",
         "type": "scatter",
         "x": [
          2014,
          2015,
          2016,
          2017,
          2018,
          2019,
          2020
         ],
         "y": [
          60.19776119402985,
          59.47443762781186,
          60.671627906976745,
          59.10950413223141,
          59.504315659679406,
          62.20043572984749,
          58.70449172576832
         ]
        },
        {
         "hovertemplate": "Year: %{x}<br>AOV: %{y}<br>Campaign: Halloween<extra></extra>",
         "marker": {
          "size": 6
         },
         "mode": "lines+markers",
         "name": "Halloween",
         "type": "scatter",
         "x": [
          2014
         ],
         "y": [
          59.72488408037094
         ]
        },
        {
         "hovertemplate": "Year: %{x}<br>AOV: %{y}<br>Campaign: Mid-Year Sale<extra></extra>",
         "marker": {
          "size": 6
         },
         "mode": "lines+markers",
         "name": "Mid-Year Sale",
         "type": "scatter",
         "x": [
          2014,
          2015,
          2016,
          2017,
          2018,
          2019,
          2020
         ],
         "y": [
          53.04284145001831,
          53.03802125919869,
          66.12119932432432,
          66.70247295208655,
          64.42286392405063,
          65.15968801313629,
          65.73455178416015
         ]
        },
        {
         "hovertemplate": "Year: %{x}<br>AOV: %{y}<br>Campaign: St. Patrick's Day<extra></extra>",
         "marker": {
          "size": 6
         },
         "mode": "lines+markers",
         "name": "St. Patrick's Day",
         "type": "scatter",
         "x": [
          2015
         ],
         "y": [
          62.13359201773836
         ]
        },
        {
         "hovertemplate": "Year: %{x}<br>AOV: %{y}<br>Campaign: Cinco de Mayo<extra></extra>",
         "marker": {
          "size": 6
         },
         "mode": "lines+markers",
         "name": "Cinco de Mayo",
         "type": "scatter",
         "x": [
          2016
         ],
         "y": [
          61.330275229357795
         ]
        },
        {
         "hovertemplate": "Year: %{x}<br>AOV: %{y}<br>Campaign: Drinks Bonanza<extra></extra>",
         "marker": {
          "size": 6
         },
         "mode": "lines+markers",
         "name": "Drinks Bonanza",
         "type": "scatter",
         "x": [
          2017
         ],
         "y": [
          60.97876857749469
         ]
        },
        {
         "hovertemplate": "Year: %{x}<br>AOV: %{y}<br>Campaign: Food and Beverage Day<extra></extra>",
         "marker": {
          "size": 6
         },
         "mode": "lines+markers",
         "name": "Food and Beverage Day",
         "type": "scatter",
         "x": [
          2018
         ],
         "y": [
          60.99962235649547
         ]
        },
        {
         "hovertemplate": "Year: %{x}<br>AOV: %{y}<br>Campaign: Super Mart Sale<extra></extra>",
         "marker": {
          "size": 6
         },
         "mode": "lines+markers",
         "name": "Super Mart Sale",
         "type": "scatter",
         "x": [
          2019
         ],
         "y": [
          59.197452229299365
         ]
        },
        {
         "hovertemplate": "Year: %{x}<br>AOV: %{y}<br>Campaign: Markdown Mega Sale<extra></extra>",
         "marker": {
          "size": 6
         },
         "mode": "lines+markers",
         "name": "Markdown Mega Sale",
         "type": "scatter",
         "x": [
          2020
         ],
         "y": [
          62.280448717948715
         ]
        }
       ],
       "layout": {
        "height": 500,
        "hovermode": "x",
        "legend": {
         "title": {
          "text": "Campaigns"
         }
        },
        "margin": {
         "b": 40,
         "l": 40,
         "r": 40,
         "t": 50
        },
        "template": {
         "data": {
          "bar": [
           {
            "error_x": {
             "color": "#2a3f5f"
            },
            "error_y": {
             "color": "#2a3f5f"
            },
            "marker": {
             "line": {
              "color": "white",
              "width": 0.5
             },
             "pattern": {
              "fillmode": "overlay",
              "size": 10,
              "solidity": 0.2
             }
            },
            "type": "bar"
           }
          ],
          "barpolar": [
           {
            "marker": {
             "line": {
              "color": "white",
              "width": 0.5
             },
             "pattern": {
              "fillmode": "overlay",
              "size": 10,
              "solidity": 0.2
             }
            },
            "type": "barpolar"
           }
          ],
          "carpet": [
           {
            "aaxis": {
             "endlinecolor": "#2a3f5f",
             "gridcolor": "#C8D4E3",
             "linecolor": "#C8D4E3",
             "minorgridcolor": "#C8D4E3",
             "startlinecolor": "#2a3f5f"
            },
            "baxis": {
             "endlinecolor": "#2a3f5f",
             "gridcolor": "#C8D4E3",
             "linecolor": "#C8D4E3",
             "minorgridcolor": "#C8D4E3",
             "startlinecolor": "#2a3f5f"
            },
            "type": "carpet"
           }
          ],
          "choropleth": [
           {
            "colorbar": {
             "outlinewidth": 0,
             "ticks": ""
            },
            "type": "choropleth"
           }
          ],
          "contour": [
           {
            "colorbar": {
             "outlinewidth": 0,
             "ticks": ""
            },
            "colorscale": [
             [
              0,
              "#0d0887"
             ],
             [
              0.1111111111111111,
              "#46039f"
             ],
             [
              0.2222222222222222,
              "#7201a8"
             ],
             [
              0.3333333333333333,
              "#9c179e"
             ],
             [
              0.4444444444444444,
              "#bd3786"
             ],
             [
              0.5555555555555556,
              "#d8576b"
             ],
             [
              0.6666666666666666,
              "#ed7953"
             ],
             [
              0.7777777777777778,
              "#fb9f3a"
             ],
             [
              0.8888888888888888,
              "#fdca26"
             ],
             [
              1,
              "#f0f921"
             ]
            ],
            "type": "contour"
           }
          ],
          "contourcarpet": [
           {
            "colorbar": {
             "outlinewidth": 0,
             "ticks": ""
            },
            "type": "contourcarpet"
           }
          ],
          "heatmap": [
           {
            "colorbar": {
             "outlinewidth": 0,
             "ticks": ""
            },
            "colorscale": [
             [
              0,
              "#0d0887"
             ],
             [
              0.1111111111111111,
              "#46039f"
             ],
             [
              0.2222222222222222,
              "#7201a8"
             ],
             [
              0.3333333333333333,
              "#9c179e"
             ],
             [
              0.4444444444444444,
              "#bd3786"
             ],
             [
              0.5555555555555556,
              "#d8576b"
             ],
             [
              0.6666666666666666,
              "#ed7953"
             ],
             [
              0.7777777777777778,
              "#fb9f3a"
             ],
             [
              0.8888888888888888,
              "#fdca26"
             ],
             [
              1,
              "#f0f921"
             ]
            ],
            "type": "heatmap"
           }
          ],
          "heatmapgl": [
           {
            "colorbar": {
             "outlinewidth": 0,
             "ticks": ""
            },
            "colorscale": [
             [
              0,
              "#0d0887"
             ],
             [
              0.1111111111111111,
              "#46039f"
             ],
             [
              0.2222222222222222,
              "#7201a8"
             ],
             [
              0.3333333333333333,
              "#9c179e"
             ],
             [
              0.4444444444444444,
              "#bd3786"
             ],
             [
              0.5555555555555556,
              "#d8576b"
             ],
             [
              0.6666666666666666,
              "#ed7953"
             ],
             [
              0.7777777777777778,
              "#fb9f3a"
             ],
             [
              0.8888888888888888,
              "#fdca26"
             ],
             [
              1,
              "#f0f921"
             ]
            ],
            "type": "heatmapgl"
           }
          ],
          "histogram": [
           {
            "marker": {
             "pattern": {
              "fillmode": "overlay",
              "size": 10,
              "solidity": 0.2
             }
            },
            "type": "histogram"
           }
          ],
          "histogram2d": [
           {
            "colorbar": {
             "outlinewidth": 0,
             "ticks": ""
            },
            "colorscale": [
             [
              0,
              "#0d0887"
             ],
             [
              0.1111111111111111,
              "#46039f"
             ],
             [
              0.2222222222222222,
              "#7201a8"
             ],
             [
              0.3333333333333333,
              "#9c179e"
             ],
             [
              0.4444444444444444,
              "#bd3786"
             ],
             [
              0.5555555555555556,
              "#d8576b"
             ],
             [
              0.6666666666666666,
              "#ed7953"
             ],
             [
              0.7777777777777778,
              "#fb9f3a"
             ],
             [
              0.8888888888888888,
              "#fdca26"
             ],
             [
              1,
              "#f0f921"
             ]
            ],
            "type": "histogram2d"
           }
          ],
          "histogram2dcontour": [
           {
            "colorbar": {
             "outlinewidth": 0,
             "ticks": ""
            },
            "colorscale": [
             [
              0,
              "#0d0887"
             ],
             [
              0.1111111111111111,
              "#46039f"
             ],
             [
              0.2222222222222222,
              "#7201a8"
             ],
             [
              0.3333333333333333,
              "#9c179e"
             ],
             [
              0.4444444444444444,
              "#bd3786"
             ],
             [
              0.5555555555555556,
              "#d8576b"
             ],
             [
              0.6666666666666666,
              "#ed7953"
             ],
             [
              0.7777777777777778,
              "#fb9f3a"
             ],
             [
              0.8888888888888888,
              "#fdca26"
             ],
             [
              1,
              "#f0f921"
             ]
            ],
            "type": "histogram2dcontour"
           }
          ],
          "mesh3d": [
           {
            "colorbar": {
             "outlinewidth": 0,
             "ticks": ""
            },
            "type": "mesh3d"
           }
          ],
          "parcoords": [
           {
            "line": {
             "colorbar": {
              "outlinewidth": 0,
              "ticks": ""
             }
            },
            "type": "parcoords"
           }
          ],
          "pie": [
           {
            "automargin": true,
            "type": "pie"
           }
          ],
          "scatter": [
           {
            "fillpattern": {
             "fillmode": "overlay",
             "size": 10,
             "solidity": 0.2
            },
            "type": "scatter"
           }
          ],
          "scatter3d": [
           {
            "line": {
             "colorbar": {
              "outlinewidth": 0,
              "ticks": ""
             }
            },
            "marker": {
             "colorbar": {
              "outlinewidth": 0,
              "ticks": ""
             }
            },
            "type": "scatter3d"
           }
          ],
          "scattercarpet": [
           {
            "marker": {
             "colorbar": {
              "outlinewidth": 0,
              "ticks": ""
             }
            },
            "type": "scattercarpet"
           }
          ],
          "scattergeo": [
           {
            "marker": {
             "colorbar": {
              "outlinewidth": 0,
              "ticks": ""
             }
            },
            "type": "scattergeo"
           }
          ],
          "scattergl": [
           {
            "marker": {
             "colorbar": {
              "outlinewidth": 0,
              "ticks": ""
             }
            },
            "type": "scattergl"
           }
          ],
          "scattermapbox": [
           {
            "marker": {
             "colorbar": {
              "outlinewidth": 0,
              "ticks": ""
             }
            },
            "type": "scattermapbox"
           }
          ],
          "scatterpolar": [
           {
            "marker": {
             "colorbar": {
              "outlinewidth": 0,
              "ticks": ""
             }
            },
            "type": "scatterpolar"
           }
          ],
          "scatterpolargl": [
           {
            "marker": {
             "colorbar": {
              "outlinewidth": 0,
              "ticks": ""
             }
            },
            "type": "scatterpolargl"
           }
          ],
          "scatterternary": [
           {
            "marker": {
             "colorbar": {
              "outlinewidth": 0,
              "ticks": ""
             }
            },
            "type": "scatterternary"
           }
          ],
          "surface": [
           {
            "colorbar": {
             "outlinewidth": 0,
             "ticks": ""
            },
            "colorscale": [
             [
              0,
              "#0d0887"
             ],
             [
              0.1111111111111111,
              "#46039f"
             ],
             [
              0.2222222222222222,
              "#7201a8"
             ],
             [
              0.3333333333333333,
              "#9c179e"
             ],
             [
              0.4444444444444444,
              "#bd3786"
             ],
             [
              0.5555555555555556,
              "#d8576b"
             ],
             [
              0.6666666666666666,
              "#ed7953"
             ],
             [
              0.7777777777777778,
              "#fb9f3a"
             ],
             [
              0.8888888888888888,
              "#fdca26"
             ],
             [
              1,
              "#f0f921"
             ]
            ],
            "type": "surface"
           }
          ],
          "table": [
           {
            "cells": {
             "fill": {
              "color": "#EBF0F8"
             },
             "line": {
              "color": "white"
             }
            },
            "header": {
             "fill": {
              "color": "#C8D4E3"
             },
             "line": {
              "color": "white"
             }
            },
            "type": "table"
           }
          ]
         },
         "layout": {
          "annotationdefaults": {
           "arrowcolor": "#2a3f5f",
           "arrowhead": 0,
           "arrowwidth": 1
          },
          "autotypenumbers": "strict",
          "coloraxis": {
           "colorbar": {
            "outlinewidth": 0,
            "ticks": ""
           }
          },
          "colorscale": {
           "diverging": [
            [
             0,
             "#8e0152"
            ],
            [
             0.1,
             "#c51b7d"
            ],
            [
             0.2,
             "#de77ae"
            ],
            [
             0.3,
             "#f1b6da"
            ],
            [
             0.4,
             "#fde0ef"
            ],
            [
             0.5,
             "#f7f7f7"
            ],
            [
             0.6,
             "#e6f5d0"
            ],
            [
             0.7,
             "#b8e186"
            ],
            [
             0.8,
             "#7fbc41"
            ],
            [
             0.9,
             "#4d9221"
            ],
            [
             1,
             "#276419"
            ]
           ],
           "sequential": [
            [
             0,
             "#0d0887"
            ],
            [
             0.1111111111111111,
             "#46039f"
            ],
            [
             0.2222222222222222,
             "#7201a8"
            ],
            [
             0.3333333333333333,
             "#9c179e"
            ],
            [
             0.4444444444444444,
             "#bd3786"
            ],
            [
             0.5555555555555556,
             "#d8576b"
            ],
            [
             0.6666666666666666,
             "#ed7953"
            ],
            [
             0.7777777777777778,
             "#fb9f3a"
            ],
            [
             0.8888888888888888,
             "#fdca26"
            ],
            [
             1,
             "#f0f921"
            ]
           ],
           "sequentialminus": [
            [
             0,
             "#0d0887"
            ],
            [
             0.1111111111111111,
             "#46039f"
            ],
            [
             0.2222222222222222,
             "#7201a8"
            ],
            [
             0.3333333333333333,
             "#9c179e"
            ],
            [
             0.4444444444444444,
             "#bd3786"
            ],
            [
             0.5555555555555556,
             "#d8576b"
            ],
            [
             0.6666666666666666,
             "#ed7953"
            ],
            [
             0.7777777777777778,
             "#fb9f3a"
            ],
            [
             0.8888888888888888,
             "#fdca26"
            ],
            [
             1,
             "#f0f921"
            ]
           ]
          },
          "colorway": [
           "#636efa",
           "#EF553B",
           "#00cc96",
           "#ab63fa",
           "#FFA15A",
           "#19d3f3",
           "#FF6692",
           "#B6E880",
           "#FF97FF",
           "#FECB52"
          ],
          "font": {
           "color": "#2a3f5f"
          },
          "geo": {
           "bgcolor": "white",
           "lakecolor": "white",
           "landcolor": "white",
           "showlakes": true,
           "showland": true,
           "subunitcolor": "#C8D4E3"
          },
          "hoverlabel": {
           "align": "left"
          },
          "hovermode": "closest",
          "mapbox": {
           "style": "light"
          },
          "paper_bgcolor": "white",
          "plot_bgcolor": "white",
          "polar": {
           "angularaxis": {
            "gridcolor": "#EBF0F8",
            "linecolor": "#EBF0F8",
            "ticks": ""
           },
           "bgcolor": "white",
           "radialaxis": {
            "gridcolor": "#EBF0F8",
            "linecolor": "#EBF0F8",
            "ticks": ""
           }
          },
          "scene": {
           "xaxis": {
            "backgroundcolor": "white",
            "gridcolor": "#DFE8F3",
            "gridwidth": 2,
            "linecolor": "#EBF0F8",
            "showbackground": true,
            "ticks": "",
            "zerolinecolor": "#EBF0F8"
           },
           "yaxis": {
            "backgroundcolor": "white",
            "gridcolor": "#DFE8F3",
            "gridwidth": 2,
            "linecolor": "#EBF0F8",
            "showbackground": true,
            "ticks": "",
            "zerolinecolor": "#EBF0F8"
           },
           "zaxis": {
            "backgroundcolor": "white",
            "gridcolor": "#DFE8F3",
            "gridwidth": 2,
            "linecolor": "#EBF0F8",
            "showbackground": true,
            "ticks": "",
            "zerolinecolor": "#EBF0F8"
           }
          },
          "shapedefaults": {
           "line": {
            "color": "#2a3f5f"
           }
          },
          "ternary": {
           "aaxis": {
            "gridcolor": "#DFE8F3",
            "linecolor": "#A2B1C6",
            "ticks": ""
           },
           "baxis": {
            "gridcolor": "#DFE8F3",
            "linecolor": "#A2B1C6",
            "ticks": ""
           },
           "bgcolor": "white",
           "caxis": {
            "gridcolor": "#DFE8F3",
            "linecolor": "#A2B1C6",
            "ticks": ""
           }
          },
          "title": {
           "x": 0.05
          },
          "xaxis": {
           "automargin": true,
           "gridcolor": "#EBF0F8",
           "linecolor": "#EBF0F8",
           "ticks": "",
           "title": {
            "standoff": 15
           },
           "zerolinecolor": "#EBF0F8",
           "zerolinewidth": 2
          },
          "yaxis": {
           "automargin": true,
           "gridcolor": "#EBF0F8",
           "linecolor": "#EBF0F8",
           "ticks": "",
           "title": {
            "standoff": 15
           },
           "zerolinecolor": "#EBF0F8",
           "zerolinewidth": 2
          }
         }
        },
        "title": {
         "text": "Specific Campaign vs Non-Campaign AOV Over Time"
        },
        "width": 900,
        "xaxis": {
         "title": {
          "text": "Year"
         }
        },
        "yaxis": {
         "title": {
          "text": "Average Order Value (AOV)"
         }
        }
       }
      }
     },
     "metadata": {},
     "output_type": "display_data"
    }
   ],
   "source": [
    "aov_campaign_plot(campaign_grouped, non_campaign_grouped)"
   ]
  },
  {
   "cell_type": "markdown",
   "metadata": {},
   "source": [
    "As there are only 3 campaigns that repeat every year (the 3 solid lines), we have decided to analyse the AOV of these campaigns over time. We can tell from the above graph that *Christmas* campaign consistently has the highest AOV across most years, peaking in 2014 and seeing a dip in 2018. This high AOV suggests that customers tend to spend more during Christmas, likely due to holiday-related promotions and increased purchasing intent. The second best campaign is the *Mid-Year Sale* as seen from the graph. The AOV for the Mid-Year Sale remains relatively stable in recent years (starting from 2016), with slight fluctuations but no significant upward or downward trend. This consistency suggests a steady response from customers but also highlights a lack of growth in impact. While the Mid-Year Sale has some success in raising AOV, the lack of a strong upward trend over time suggests that there might be an opportunity to re-evaluate and enhance the campaign to potentially capture more value, especially by leveraging customer insights or targeted promotions. Lastly, the AOV for *Easter Sale* campaign tends to be the lowest among the 3 campaigns that happen yearly, being only slightly higher than the non-campaign baseline. The relatively low AOV for Easter Sale indicates that customers are less motivated to make larger purchases during this period, or that the promotions offered are not compelling enough. In order to improve AOV, we can consider adjusting the promotional offerings, introducing new product bundles, or adding incentives could help to enhance its impact and increase AOV during this promotional period.\n",
    "\n",
    "Overall, ***Christmas* is the most effective campaign based on the AOV metric**. However, all 3 graphs do not show an increasing trend, indicating that there is a need for campaign improvement to obtain higher AOV as well as to encourage greater spendings at our ecommerce store."
   ]
  },
  {
   "cell_type": "markdown",
   "metadata": {},
   "source": [
    "##### **Yearly Analysis of AOV per Campaign**"
   ]
  },
  {
   "cell_type": "code",
   "execution_count": 13,
   "metadata": {},
   "outputs": [
    {
     "data": {
      "application/vnd.plotly.v1+json": {
       "config": {
        "plotlyServerURL": "https://plot.ly"
       },
       "data": [
        {
         "hovertemplate": "AOV: %{y}",
         "type": "bar",
         "x": [
          "Easter Sale",
          "Mid-Year Sale",
          "Halloween",
          "Christmas"
         ],
         "xaxis": "x",
         "y": [
          60.19776119402985,
          53.04284145001831,
          59.72488408037094,
          86.5887428907629
         ],
         "yaxis": "y"
        },
        {
         "hovertemplate": "AOV: %{y}",
         "type": "bar",
         "x": [
          "St. Patrick's Day",
          "Easter Sale",
          "Mid-Year Sale",
          "Christmas"
         ],
         "xaxis": "x2",
         "y": [
          62.13359201773836,
          59.47443762781186,
          53.03802125919869,
          80.14145597210113
         ],
         "yaxis": "y2"
        },
        {
         "hovertemplate": "AOV: %{y}",
         "type": "bar",
         "x": [
          "Easter Sale",
          "Cinco de Mayo",
          "Mid-Year Sale",
          "Christmas"
         ],
         "xaxis": "x3",
         "y": [
          60.671627906976745,
          61.330275229357795,
          66.12119932432432,
          80.57446808510639
         ],
         "yaxis": "y3"
        },
        {
         "hovertemplate": "AOV: %{y}",
         "type": "bar",
         "x": [
          "Easter Sale",
          "Mid-Year Sale",
          "Drinks Bonanza",
          "Christmas"
         ],
         "xaxis": "x4",
         "y": [
          59.10950413223141,
          66.70247295208655,
          60.97876857749469,
          79.63567615658363
         ],
         "yaxis": "y4"
        },
        {
         "hovertemplate": "AOV: %{y}",
         "type": "bar",
         "x": [
          "Easter Sale",
          "Mid-Year Sale",
          "Discount Daze",
          "Christmas"
         ],
         "xaxis": "x5",
         "y": [
          59.504315659679406,
          64.42286392405063,
          60.99962235649547,
          69.43290572184891
         ],
         "yaxis": "y5"
        },
        {
         "hovertemplate": "AOV: %{y}",
         "type": "bar",
         "x": [
          "Super Mart Sale",
          "Easter Sale",
          "Mid-Year Sale",
          "Christmas"
         ],
         "xaxis": "x6",
         "y": [
          59.197452229299365,
          62.20043572984749,
          65.15968801313629,
          77.4375
         ],
         "yaxis": "y6"
        },
        {
         "hovertemplate": "AOV: %{y}",
         "type": "bar",
         "x": [
          "Easter Sale",
          "Markdown Mega Sale",
          "Mid-Year Sale",
          "Christmas"
         ],
         "xaxis": "x7",
         "y": [
          58.70449172576832,
          62.280448717948715,
          65.73455178416015,
          78.76751923476814
         ],
         "yaxis": "y7"
        }
       ],
       "layout": {
        "annotations": [
         {
          "font": {
           "size": 16
          },
          "showarrow": false,
          "text": "AOV per Campaign for 2014",
          "x": 0.10625,
          "xanchor": "center",
          "xref": "paper",
          "y": 1,
          "yanchor": "bottom",
          "yref": "paper"
         },
         {
          "font": {
           "size": 16
          },
          "showarrow": false,
          "text": "AOV per Campaign for 2015",
          "x": 0.36875,
          "xanchor": "center",
          "xref": "paper",
          "y": 1,
          "yanchor": "bottom",
          "yref": "paper"
         },
         {
          "font": {
           "size": 16
          },
          "showarrow": false,
          "text": "AOV per Campaign for 2016",
          "x": 0.6312500000000001,
          "xanchor": "center",
          "xref": "paper",
          "y": 1,
          "yanchor": "bottom",
          "yref": "paper"
         },
         {
          "font": {
           "size": 16
          },
          "showarrow": false,
          "text": "AOV per Campaign for 2017",
          "x": 0.89375,
          "xanchor": "center",
          "xref": "paper",
          "y": 1,
          "yanchor": "bottom",
          "yref": "paper"
         },
         {
          "font": {
           "size": 16
          },
          "showarrow": false,
          "text": "AOV per Campaign for 2018",
          "x": 0.10625,
          "xanchor": "center",
          "xref": "paper",
          "y": 0.375,
          "yanchor": "bottom",
          "yref": "paper"
         },
         {
          "font": {
           "size": 16
          },
          "showarrow": false,
          "text": "AOV per Campaign for 2019",
          "x": 0.36875,
          "xanchor": "center",
          "xref": "paper",
          "y": 0.375,
          "yanchor": "bottom",
          "yref": "paper"
         },
         {
          "font": {
           "size": 16
          },
          "showarrow": false,
          "text": "AOV per Campaign for 2020",
          "x": 0.6312500000000001,
          "xanchor": "center",
          "xref": "paper",
          "y": 0.375,
          "yanchor": "bottom",
          "yref": "paper"
         }
        ],
        "height": 700,
        "showlegend": false,
        "template": {
         "data": {
          "bar": [
           {
            "error_x": {
             "color": "#2a3f5f"
            },
            "error_y": {
             "color": "#2a3f5f"
            },
            "marker": {
             "line": {
              "color": "#E5ECF6",
              "width": 0.5
             },
             "pattern": {
              "fillmode": "overlay",
              "size": 10,
              "solidity": 0.2
             }
            },
            "type": "bar"
           }
          ],
          "barpolar": [
           {
            "marker": {
             "line": {
              "color": "#E5ECF6",
              "width": 0.5
             },
             "pattern": {
              "fillmode": "overlay",
              "size": 10,
              "solidity": 0.2
             }
            },
            "type": "barpolar"
           }
          ],
          "carpet": [
           {
            "aaxis": {
             "endlinecolor": "#2a3f5f",
             "gridcolor": "white",
             "linecolor": "white",
             "minorgridcolor": "white",
             "startlinecolor": "#2a3f5f"
            },
            "baxis": {
             "endlinecolor": "#2a3f5f",
             "gridcolor": "white",
             "linecolor": "white",
             "minorgridcolor": "white",
             "startlinecolor": "#2a3f5f"
            },
            "type": "carpet"
           }
          ],
          "choropleth": [
           {
            "colorbar": {
             "outlinewidth": 0,
             "ticks": ""
            },
            "type": "choropleth"
           }
          ],
          "contour": [
           {
            "colorbar": {
             "outlinewidth": 0,
             "ticks": ""
            },
            "colorscale": [
             [
              0,
              "#0d0887"
             ],
             [
              0.1111111111111111,
              "#46039f"
             ],
             [
              0.2222222222222222,
              "#7201a8"
             ],
             [
              0.3333333333333333,
              "#9c179e"
             ],
             [
              0.4444444444444444,
              "#bd3786"
             ],
             [
              0.5555555555555556,
              "#d8576b"
             ],
             [
              0.6666666666666666,
              "#ed7953"
             ],
             [
              0.7777777777777778,
              "#fb9f3a"
             ],
             [
              0.8888888888888888,
              "#fdca26"
             ],
             [
              1,
              "#f0f921"
             ]
            ],
            "type": "contour"
           }
          ],
          "contourcarpet": [
           {
            "colorbar": {
             "outlinewidth": 0,
             "ticks": ""
            },
            "type": "contourcarpet"
           }
          ],
          "heatmap": [
           {
            "colorbar": {
             "outlinewidth": 0,
             "ticks": ""
            },
            "colorscale": [
             [
              0,
              "#0d0887"
             ],
             [
              0.1111111111111111,
              "#46039f"
             ],
             [
              0.2222222222222222,
              "#7201a8"
             ],
             [
              0.3333333333333333,
              "#9c179e"
             ],
             [
              0.4444444444444444,
              "#bd3786"
             ],
             [
              0.5555555555555556,
              "#d8576b"
             ],
             [
              0.6666666666666666,
              "#ed7953"
             ],
             [
              0.7777777777777778,
              "#fb9f3a"
             ],
             [
              0.8888888888888888,
              "#fdca26"
             ],
             [
              1,
              "#f0f921"
             ]
            ],
            "type": "heatmap"
           }
          ],
          "heatmapgl": [
           {
            "colorbar": {
             "outlinewidth": 0,
             "ticks": ""
            },
            "colorscale": [
             [
              0,
              "#0d0887"
             ],
             [
              0.1111111111111111,
              "#46039f"
             ],
             [
              0.2222222222222222,
              "#7201a8"
             ],
             [
              0.3333333333333333,
              "#9c179e"
             ],
             [
              0.4444444444444444,
              "#bd3786"
             ],
             [
              0.5555555555555556,
              "#d8576b"
             ],
             [
              0.6666666666666666,
              "#ed7953"
             ],
             [
              0.7777777777777778,
              "#fb9f3a"
             ],
             [
              0.8888888888888888,
              "#fdca26"
             ],
             [
              1,
              "#f0f921"
             ]
            ],
            "type": "heatmapgl"
           }
          ],
          "histogram": [
           {
            "marker": {
             "pattern": {
              "fillmode": "overlay",
              "size": 10,
              "solidity": 0.2
             }
            },
            "type": "histogram"
           }
          ],
          "histogram2d": [
           {
            "colorbar": {
             "outlinewidth": 0,
             "ticks": ""
            },
            "colorscale": [
             [
              0,
              "#0d0887"
             ],
             [
              0.1111111111111111,
              "#46039f"
             ],
             [
              0.2222222222222222,
              "#7201a8"
             ],
             [
              0.3333333333333333,
              "#9c179e"
             ],
             [
              0.4444444444444444,
              "#bd3786"
             ],
             [
              0.5555555555555556,
              "#d8576b"
             ],
             [
              0.6666666666666666,
              "#ed7953"
             ],
             [
              0.7777777777777778,
              "#fb9f3a"
             ],
             [
              0.8888888888888888,
              "#fdca26"
             ],
             [
              1,
              "#f0f921"
             ]
            ],
            "type": "histogram2d"
           }
          ],
          "histogram2dcontour": [
           {
            "colorbar": {
             "outlinewidth": 0,
             "ticks": ""
            },
            "colorscale": [
             [
              0,
              "#0d0887"
             ],
             [
              0.1111111111111111,
              "#46039f"
             ],
             [
              0.2222222222222222,
              "#7201a8"
             ],
             [
              0.3333333333333333,
              "#9c179e"
             ],
             [
              0.4444444444444444,
              "#bd3786"
             ],
             [
              0.5555555555555556,
              "#d8576b"
             ],
             [
              0.6666666666666666,
              "#ed7953"
             ],
             [
              0.7777777777777778,
              "#fb9f3a"
             ],
             [
              0.8888888888888888,
              "#fdca26"
             ],
             [
              1,
              "#f0f921"
             ]
            ],
            "type": "histogram2dcontour"
           }
          ],
          "mesh3d": [
           {
            "colorbar": {
             "outlinewidth": 0,
             "ticks": ""
            },
            "type": "mesh3d"
           }
          ],
          "parcoords": [
           {
            "line": {
             "colorbar": {
              "outlinewidth": 0,
              "ticks": ""
             }
            },
            "type": "parcoords"
           }
          ],
          "pie": [
           {
            "automargin": true,
            "type": "pie"
           }
          ],
          "scatter": [
           {
            "fillpattern": {
             "fillmode": "overlay",
             "size": 10,
             "solidity": 0.2
            },
            "type": "scatter"
           }
          ],
          "scatter3d": [
           {
            "line": {
             "colorbar": {
              "outlinewidth": 0,
              "ticks": ""
             }
            },
            "marker": {
             "colorbar": {
              "outlinewidth": 0,
              "ticks": ""
             }
            },
            "type": "scatter3d"
           }
          ],
          "scattercarpet": [
           {
            "marker": {
             "colorbar": {
              "outlinewidth": 0,
              "ticks": ""
             }
            },
            "type": "scattercarpet"
           }
          ],
          "scattergeo": [
           {
            "marker": {
             "colorbar": {
              "outlinewidth": 0,
              "ticks": ""
             }
            },
            "type": "scattergeo"
           }
          ],
          "scattergl": [
           {
            "marker": {
             "colorbar": {
              "outlinewidth": 0,
              "ticks": ""
             }
            },
            "type": "scattergl"
           }
          ],
          "scattermapbox": [
           {
            "marker": {
             "colorbar": {
              "outlinewidth": 0,
              "ticks": ""
             }
            },
            "type": "scattermapbox"
           }
          ],
          "scatterpolar": [
           {
            "marker": {
             "colorbar": {
              "outlinewidth": 0,
              "ticks": ""
             }
            },
            "type": "scatterpolar"
           }
          ],
          "scatterpolargl": [
           {
            "marker": {
             "colorbar": {
              "outlinewidth": 0,
              "ticks": ""
             }
            },
            "type": "scatterpolargl"
           }
          ],
          "scatterternary": [
           {
            "marker": {
             "colorbar": {
              "outlinewidth": 0,
              "ticks": ""
             }
            },
            "type": "scatterternary"
           }
          ],
          "surface": [
           {
            "colorbar": {
             "outlinewidth": 0,
             "ticks": ""
            },
            "colorscale": [
             [
              0,
              "#0d0887"
             ],
             [
              0.1111111111111111,
              "#46039f"
             ],
             [
              0.2222222222222222,
              "#7201a8"
             ],
             [
              0.3333333333333333,
              "#9c179e"
             ],
             [
              0.4444444444444444,
              "#bd3786"
             ],
             [
              0.5555555555555556,
              "#d8576b"
             ],
             [
              0.6666666666666666,
              "#ed7953"
             ],
             [
              0.7777777777777778,
              "#fb9f3a"
             ],
             [
              0.8888888888888888,
              "#fdca26"
             ],
             [
              1,
              "#f0f921"
             ]
            ],
            "type": "surface"
           }
          ],
          "table": [
           {
            "cells": {
             "fill": {
              "color": "#EBF0F8"
             },
             "line": {
              "color": "white"
             }
            },
            "header": {
             "fill": {
              "color": "#C8D4E3"
             },
             "line": {
              "color": "white"
             }
            },
            "type": "table"
           }
          ]
         },
         "layout": {
          "annotationdefaults": {
           "arrowcolor": "#2a3f5f",
           "arrowhead": 0,
           "arrowwidth": 1
          },
          "autotypenumbers": "strict",
          "coloraxis": {
           "colorbar": {
            "outlinewidth": 0,
            "ticks": ""
           }
          },
          "colorscale": {
           "diverging": [
            [
             0,
             "#8e0152"
            ],
            [
             0.1,
             "#c51b7d"
            ],
            [
             0.2,
             "#de77ae"
            ],
            [
             0.3,
             "#f1b6da"
            ],
            [
             0.4,
             "#fde0ef"
            ],
            [
             0.5,
             "#f7f7f7"
            ],
            [
             0.6,
             "#e6f5d0"
            ],
            [
             0.7,
             "#b8e186"
            ],
            [
             0.8,
             "#7fbc41"
            ],
            [
             0.9,
             "#4d9221"
            ],
            [
             1,
             "#276419"
            ]
           ],
           "sequential": [
            [
             0,
             "#0d0887"
            ],
            [
             0.1111111111111111,
             "#46039f"
            ],
            [
             0.2222222222222222,
             "#7201a8"
            ],
            [
             0.3333333333333333,
             "#9c179e"
            ],
            [
             0.4444444444444444,
             "#bd3786"
            ],
            [
             0.5555555555555556,
             "#d8576b"
            ],
            [
             0.6666666666666666,
             "#ed7953"
            ],
            [
             0.7777777777777778,
             "#fb9f3a"
            ],
            [
             0.8888888888888888,
             "#fdca26"
            ],
            [
             1,
             "#f0f921"
            ]
           ],
           "sequentialminus": [
            [
             0,
             "#0d0887"
            ],
            [
             0.1111111111111111,
             "#46039f"
            ],
            [
             0.2222222222222222,
             "#7201a8"
            ],
            [
             0.3333333333333333,
             "#9c179e"
            ],
            [
             0.4444444444444444,
             "#bd3786"
            ],
            [
             0.5555555555555556,
             "#d8576b"
            ],
            [
             0.6666666666666666,
             "#ed7953"
            ],
            [
             0.7777777777777778,
             "#fb9f3a"
            ],
            [
             0.8888888888888888,
             "#fdca26"
            ],
            [
             1,
             "#f0f921"
            ]
           ]
          },
          "colorway": [
           "#636efa",
           "#EF553B",
           "#00cc96",
           "#ab63fa",
           "#FFA15A",
           "#19d3f3",
           "#FF6692",
           "#B6E880",
           "#FF97FF",
           "#FECB52"
          ],
          "font": {
           "color": "#2a3f5f"
          },
          "geo": {
           "bgcolor": "white",
           "lakecolor": "white",
           "landcolor": "#E5ECF6",
           "showlakes": true,
           "showland": true,
           "subunitcolor": "white"
          },
          "hoverlabel": {
           "align": "left"
          },
          "hovermode": "closest",
          "mapbox": {
           "style": "light"
          },
          "paper_bgcolor": "white",
          "plot_bgcolor": "#E5ECF6",
          "polar": {
           "angularaxis": {
            "gridcolor": "white",
            "linecolor": "white",
            "ticks": ""
           },
           "bgcolor": "#E5ECF6",
           "radialaxis": {
            "gridcolor": "white",
            "linecolor": "white",
            "ticks": ""
           }
          },
          "scene": {
           "xaxis": {
            "backgroundcolor": "#E5ECF6",
            "gridcolor": "white",
            "gridwidth": 2,
            "linecolor": "white",
            "showbackground": true,
            "ticks": "",
            "zerolinecolor": "white"
           },
           "yaxis": {
            "backgroundcolor": "#E5ECF6",
            "gridcolor": "white",
            "gridwidth": 2,
            "linecolor": "white",
            "showbackground": true,
            "ticks": "",
            "zerolinecolor": "white"
           },
           "zaxis": {
            "backgroundcolor": "#E5ECF6",
            "gridcolor": "white",
            "gridwidth": 2,
            "linecolor": "white",
            "showbackground": true,
            "ticks": "",
            "zerolinecolor": "white"
           }
          },
          "shapedefaults": {
           "line": {
            "color": "#2a3f5f"
           }
          },
          "ternary": {
           "aaxis": {
            "gridcolor": "white",
            "linecolor": "white",
            "ticks": ""
           },
           "baxis": {
            "gridcolor": "white",
            "linecolor": "white",
            "ticks": ""
           },
           "bgcolor": "#E5ECF6",
           "caxis": {
            "gridcolor": "white",
            "linecolor": "white",
            "ticks": ""
           }
          },
          "title": {
           "x": 0.05
          },
          "xaxis": {
           "automargin": true,
           "gridcolor": "white",
           "linecolor": "white",
           "ticks": "",
           "title": {
            "standoff": 15
           },
           "zerolinecolor": "white",
           "zerolinewidth": 2
          },
          "yaxis": {
           "automargin": true,
           "gridcolor": "white",
           "linecolor": "white",
           "ticks": "",
           "title": {
            "standoff": 15
           },
           "zerolinecolor": "white",
           "zerolinewidth": 2
          }
         }
        },
        "title": {
         "text": "Average Order Value (AOV) per Campaign (2014 - 2020)"
        },
        "width": 1200,
        "xaxis": {
         "anchor": "y",
         "domain": [
          0,
          0.2125
         ],
         "title": {
          "text": "Campaign"
         }
        },
        "xaxis2": {
         "anchor": "y2",
         "domain": [
          0.2625,
          0.475
         ]
        },
        "xaxis3": {
         "anchor": "y3",
         "domain": [
          0.525,
          0.7375
         ]
        },
        "xaxis4": {
         "anchor": "y4",
         "domain": [
          0.7875,
          1
         ]
        },
        "xaxis5": {
         "anchor": "y5",
         "domain": [
          0,
          0.2125
         ]
        },
        "xaxis6": {
         "anchor": "y6",
         "domain": [
          0.2625,
          0.475
         ]
        },
        "xaxis7": {
         "anchor": "y7",
         "domain": [
          0.525,
          0.7375
         ]
        },
        "xaxis8": {
         "anchor": "y8",
         "domain": [
          0.7875,
          1
         ]
        },
        "yaxis": {
         "anchor": "x",
         "domain": [
          0.625,
          1
         ],
         "title": {
          "text": "AOV"
         }
        },
        "yaxis2": {
         "anchor": "x2",
         "domain": [
          0.625,
          1
         ]
        },
        "yaxis3": {
         "anchor": "x3",
         "domain": [
          0.625,
          1
         ]
        },
        "yaxis4": {
         "anchor": "x4",
         "domain": [
          0.625,
          1
         ]
        },
        "yaxis5": {
         "anchor": "x5",
         "domain": [
          0,
          0.375
         ]
        },
        "yaxis6": {
         "anchor": "x6",
         "domain": [
          0,
          0.375
         ]
        },
        "yaxis7": {
         "anchor": "x7",
         "domain": [
          0,
          0.375
         ]
        },
        "yaxis8": {
         "anchor": "x8",
         "domain": [
          0,
          0.375
         ]
        }
       }
      }
     },
     "metadata": {},
     "output_type": "display_data"
    }
   ],
   "source": [
    "df_campaign_by_month = aov_analysis(df2)[4]\n",
    "aov_campaign_bar_graph(df_campaign_by_month)"
   ]
  },
  {
   "cell_type": "markdown",
   "metadata": {},
   "source": [
    "From 2014 to 2020, the *Christmas* campaign consistently achieves the highest AOV among all campaigns, indicating it is highly effective at driving larger purchases. This is consistent with the results from the previous graph. The next best campaign with relatively high AOV is the *Mid-Year Sale*, where the AOV is the second highest from 2016 to 2020. This graph also displays AOV for *one-time events* which allows us to assess the potential of these campaigns in increasing AOV. Among these one-time campaigns, the *Markdown Mega Sale* is the best performing campaign since it has the highest AOV of $62.30/order. This suggests that the Markdown Mega Sale can continue to be implemented in future years since it has been proven to be effective in achieving relatively high AOV in 2020 as a one-time event. "
   ]
  },
  {
   "cell_type": "markdown",
   "metadata": {},
   "source": [
    "#### **2. Detailed Analysis of Campaign Impact for Year 2019**\n",
    "In the sections above, we have concluded from yearly trends that **Christmas and Mid-Year Sale** are generally the most effective campaigns for driving higher order values. Now, we focus on a detailed analysis of Year 2019 (a chosen recent year) to understand the impact of campaigns on sales.\n",
    "\n",
    "For each campaign in 2019, we will evaluate key metrics before, during, and after the campaign period. This includes:\n",
    "\n",
    ">**Sales Growth Rate** to assess the increase in sales momentum during campaigns,\n",
    "<br>**Revenue** to assess overall financial impact,\n",
    "<br>**Transaction Count** to capture customer engagement,\n",
    "<br>**Average Order Value (AOV)** as a measure of spending per order,\n",
    "<br>**Average Order Size (AOS)** for insights into customer purchase patterns.\n",
    "\n",
    "<br>By comparing these metrics across periods, we aim to identify which campaigns yield the highest returns and customer engagement, providing actionable insights for future campaign planning and resource allocation.\n",
    "<br>**Note:** The analysis presented below is based on 2019 data, but you could adjust the *chosen_year* variable to view the graphs for other years. We chose to examine one year's data in detail here, as general trends across all the years were already covered in the previous section.\n",
    "\n",
    "##### **Sales Growth Rate per Campaign Each Year**\n",
    "Firstly, we analyse the Sales Growth Rate during each campaign in 2019. \n",
    "<br>The Sales Growth Rate is calculated as:\n",
    "$$\n",
    "\\text{Sales Growth Rate} = \\left( \\frac{\\text{Total Sales During Campaign} - \\text{Total Sales Before Campaign}}{\\text{Total Sales Before Campaign}} \\right) \\times 100\n",
    "$$"
   ]
  },
  {
   "cell_type": "code",
   "execution_count": 30,
   "metadata": {},
   "outputs": [
    {
     "data": {
      "application/vnd.plotly.v1+json": {
       "config": {
        "plotlyServerURL": "https://plot.ly"
       },
       "data": [
        {
         "marker": {
          "color": "orange"
         },
         "name": "Growth Rate (%)",
         "type": "bar",
         "x": [
          "Christmas",
          "Mid-Year Sale",
          "Easter Sale",
          "Super Mart Sale"
         ],
         "y": [
          45.293844478606196,
          51.78336355055039,
          42.12161795053879,
          18.633343937028847
         ]
        }
       ],
       "layout": {
        "height": 600,
        "showlegend": false,
        "template": {
         "data": {
          "bar": [
           {
            "error_x": {
             "color": "#2a3f5f"
            },
            "error_y": {
             "color": "#2a3f5f"
            },
            "marker": {
             "line": {
              "color": "#E5ECF6",
              "width": 0.5
             },
             "pattern": {
              "fillmode": "overlay",
              "size": 10,
              "solidity": 0.2
             }
            },
            "type": "bar"
           }
          ],
          "barpolar": [
           {
            "marker": {
             "line": {
              "color": "#E5ECF6",
              "width": 0.5
             },
             "pattern": {
              "fillmode": "overlay",
              "size": 10,
              "solidity": 0.2
             }
            },
            "type": "barpolar"
           }
          ],
          "carpet": [
           {
            "aaxis": {
             "endlinecolor": "#2a3f5f",
             "gridcolor": "white",
             "linecolor": "white",
             "minorgridcolor": "white",
             "startlinecolor": "#2a3f5f"
            },
            "baxis": {
             "endlinecolor": "#2a3f5f",
             "gridcolor": "white",
             "linecolor": "white",
             "minorgridcolor": "white",
             "startlinecolor": "#2a3f5f"
            },
            "type": "carpet"
           }
          ],
          "choropleth": [
           {
            "colorbar": {
             "outlinewidth": 0,
             "ticks": ""
            },
            "type": "choropleth"
           }
          ],
          "contour": [
           {
            "colorbar": {
             "outlinewidth": 0,
             "ticks": ""
            },
            "colorscale": [
             [
              0,
              "#0d0887"
             ],
             [
              0.1111111111111111,
              "#46039f"
             ],
             [
              0.2222222222222222,
              "#7201a8"
             ],
             [
              0.3333333333333333,
              "#9c179e"
             ],
             [
              0.4444444444444444,
              "#bd3786"
             ],
             [
              0.5555555555555556,
              "#d8576b"
             ],
             [
              0.6666666666666666,
              "#ed7953"
             ],
             [
              0.7777777777777778,
              "#fb9f3a"
             ],
             [
              0.8888888888888888,
              "#fdca26"
             ],
             [
              1,
              "#f0f921"
             ]
            ],
            "type": "contour"
           }
          ],
          "contourcarpet": [
           {
            "colorbar": {
             "outlinewidth": 0,
             "ticks": ""
            },
            "type": "contourcarpet"
           }
          ],
          "heatmap": [
           {
            "colorbar": {
             "outlinewidth": 0,
             "ticks": ""
            },
            "colorscale": [
             [
              0,
              "#0d0887"
             ],
             [
              0.1111111111111111,
              "#46039f"
             ],
             [
              0.2222222222222222,
              "#7201a8"
             ],
             [
              0.3333333333333333,
              "#9c179e"
             ],
             [
              0.4444444444444444,
              "#bd3786"
             ],
             [
              0.5555555555555556,
              "#d8576b"
             ],
             [
              0.6666666666666666,
              "#ed7953"
             ],
             [
              0.7777777777777778,
              "#fb9f3a"
             ],
             [
              0.8888888888888888,
              "#fdca26"
             ],
             [
              1,
              "#f0f921"
             ]
            ],
            "type": "heatmap"
           }
          ],
          "heatmapgl": [
           {
            "colorbar": {
             "outlinewidth": 0,
             "ticks": ""
            },
            "colorscale": [
             [
              0,
              "#0d0887"
             ],
             [
              0.1111111111111111,
              "#46039f"
             ],
             [
              0.2222222222222222,
              "#7201a8"
             ],
             [
              0.3333333333333333,
              "#9c179e"
             ],
             [
              0.4444444444444444,
              "#bd3786"
             ],
             [
              0.5555555555555556,
              "#d8576b"
             ],
             [
              0.6666666666666666,
              "#ed7953"
             ],
             [
              0.7777777777777778,
              "#fb9f3a"
             ],
             [
              0.8888888888888888,
              "#fdca26"
             ],
             [
              1,
              "#f0f921"
             ]
            ],
            "type": "heatmapgl"
           }
          ],
          "histogram": [
           {
            "marker": {
             "pattern": {
              "fillmode": "overlay",
              "size": 10,
              "solidity": 0.2
             }
            },
            "type": "histogram"
           }
          ],
          "histogram2d": [
           {
            "colorbar": {
             "outlinewidth": 0,
             "ticks": ""
            },
            "colorscale": [
             [
              0,
              "#0d0887"
             ],
             [
              0.1111111111111111,
              "#46039f"
             ],
             [
              0.2222222222222222,
              "#7201a8"
             ],
             [
              0.3333333333333333,
              "#9c179e"
             ],
             [
              0.4444444444444444,
              "#bd3786"
             ],
             [
              0.5555555555555556,
              "#d8576b"
             ],
             [
              0.6666666666666666,
              "#ed7953"
             ],
             [
              0.7777777777777778,
              "#fb9f3a"
             ],
             [
              0.8888888888888888,
              "#fdca26"
             ],
             [
              1,
              "#f0f921"
             ]
            ],
            "type": "histogram2d"
           }
          ],
          "histogram2dcontour": [
           {
            "colorbar": {
             "outlinewidth": 0,
             "ticks": ""
            },
            "colorscale": [
             [
              0,
              "#0d0887"
             ],
             [
              0.1111111111111111,
              "#46039f"
             ],
             [
              0.2222222222222222,
              "#7201a8"
             ],
             [
              0.3333333333333333,
              "#9c179e"
             ],
             [
              0.4444444444444444,
              "#bd3786"
             ],
             [
              0.5555555555555556,
              "#d8576b"
             ],
             [
              0.6666666666666666,
              "#ed7953"
             ],
             [
              0.7777777777777778,
              "#fb9f3a"
             ],
             [
              0.8888888888888888,
              "#fdca26"
             ],
             [
              1,
              "#f0f921"
             ]
            ],
            "type": "histogram2dcontour"
           }
          ],
          "mesh3d": [
           {
            "colorbar": {
             "outlinewidth": 0,
             "ticks": ""
            },
            "type": "mesh3d"
           }
          ],
          "parcoords": [
           {
            "line": {
             "colorbar": {
              "outlinewidth": 0,
              "ticks": ""
             }
            },
            "type": "parcoords"
           }
          ],
          "pie": [
           {
            "automargin": true,
            "type": "pie"
           }
          ],
          "scatter": [
           {
            "fillpattern": {
             "fillmode": "overlay",
             "size": 10,
             "solidity": 0.2
            },
            "type": "scatter"
           }
          ],
          "scatter3d": [
           {
            "line": {
             "colorbar": {
              "outlinewidth": 0,
              "ticks": ""
             }
            },
            "marker": {
             "colorbar": {
              "outlinewidth": 0,
              "ticks": ""
             }
            },
            "type": "scatter3d"
           }
          ],
          "scattercarpet": [
           {
            "marker": {
             "colorbar": {
              "outlinewidth": 0,
              "ticks": ""
             }
            },
            "type": "scattercarpet"
           }
          ],
          "scattergeo": [
           {
            "marker": {
             "colorbar": {
              "outlinewidth": 0,
              "ticks": ""
             }
            },
            "type": "scattergeo"
           }
          ],
          "scattergl": [
           {
            "marker": {
             "colorbar": {
              "outlinewidth": 0,
              "ticks": ""
             }
            },
            "type": "scattergl"
           }
          ],
          "scattermapbox": [
           {
            "marker": {
             "colorbar": {
              "outlinewidth": 0,
              "ticks": ""
             }
            },
            "type": "scattermapbox"
           }
          ],
          "scatterpolar": [
           {
            "marker": {
             "colorbar": {
              "outlinewidth": 0,
              "ticks": ""
             }
            },
            "type": "scatterpolar"
           }
          ],
          "scatterpolargl": [
           {
            "marker": {
             "colorbar": {
              "outlinewidth": 0,
              "ticks": ""
             }
            },
            "type": "scatterpolargl"
           }
          ],
          "scatterternary": [
           {
            "marker": {
             "colorbar": {
              "outlinewidth": 0,
              "ticks": ""
             }
            },
            "type": "scatterternary"
           }
          ],
          "surface": [
           {
            "colorbar": {
             "outlinewidth": 0,
             "ticks": ""
            },
            "colorscale": [
             [
              0,
              "#0d0887"
             ],
             [
              0.1111111111111111,
              "#46039f"
             ],
             [
              0.2222222222222222,
              "#7201a8"
             ],
             [
              0.3333333333333333,
              "#9c179e"
             ],
             [
              0.4444444444444444,
              "#bd3786"
             ],
             [
              0.5555555555555556,
              "#d8576b"
             ],
             [
              0.6666666666666666,
              "#ed7953"
             ],
             [
              0.7777777777777778,
              "#fb9f3a"
             ],
             [
              0.8888888888888888,
              "#fdca26"
             ],
             [
              1,
              "#f0f921"
             ]
            ],
            "type": "surface"
           }
          ],
          "table": [
           {
            "cells": {
             "fill": {
              "color": "#EBF0F8"
             },
             "line": {
              "color": "white"
             }
            },
            "header": {
             "fill": {
              "color": "#C8D4E3"
             },
             "line": {
              "color": "white"
             }
            },
            "type": "table"
           }
          ]
         },
         "layout": {
          "annotationdefaults": {
           "arrowcolor": "#2a3f5f",
           "arrowhead": 0,
           "arrowwidth": 1
          },
          "autotypenumbers": "strict",
          "coloraxis": {
           "colorbar": {
            "outlinewidth": 0,
            "ticks": ""
           }
          },
          "colorscale": {
           "diverging": [
            [
             0,
             "#8e0152"
            ],
            [
             0.1,
             "#c51b7d"
            ],
            [
             0.2,
             "#de77ae"
            ],
            [
             0.3,
             "#f1b6da"
            ],
            [
             0.4,
             "#fde0ef"
            ],
            [
             0.5,
             "#f7f7f7"
            ],
            [
             0.6,
             "#e6f5d0"
            ],
            [
             0.7,
             "#b8e186"
            ],
            [
             0.8,
             "#7fbc41"
            ],
            [
             0.9,
             "#4d9221"
            ],
            [
             1,
             "#276419"
            ]
           ],
           "sequential": [
            [
             0,
             "#0d0887"
            ],
            [
             0.1111111111111111,
             "#46039f"
            ],
            [
             0.2222222222222222,
             "#7201a8"
            ],
            [
             0.3333333333333333,
             "#9c179e"
            ],
            [
             0.4444444444444444,
             "#bd3786"
            ],
            [
             0.5555555555555556,
             "#d8576b"
            ],
            [
             0.6666666666666666,
             "#ed7953"
            ],
            [
             0.7777777777777778,
             "#fb9f3a"
            ],
            [
             0.8888888888888888,
             "#fdca26"
            ],
            [
             1,
             "#f0f921"
            ]
           ],
           "sequentialminus": [
            [
             0,
             "#0d0887"
            ],
            [
             0.1111111111111111,
             "#46039f"
            ],
            [
             0.2222222222222222,
             "#7201a8"
            ],
            [
             0.3333333333333333,
             "#9c179e"
            ],
            [
             0.4444444444444444,
             "#bd3786"
            ],
            [
             0.5555555555555556,
             "#d8576b"
            ],
            [
             0.6666666666666666,
             "#ed7953"
            ],
            [
             0.7777777777777778,
             "#fb9f3a"
            ],
            [
             0.8888888888888888,
             "#fdca26"
            ],
            [
             1,
             "#f0f921"
            ]
           ]
          },
          "colorway": [
           "#636efa",
           "#EF553B",
           "#00cc96",
           "#ab63fa",
           "#FFA15A",
           "#19d3f3",
           "#FF6692",
           "#B6E880",
           "#FF97FF",
           "#FECB52"
          ],
          "font": {
           "color": "#2a3f5f"
          },
          "geo": {
           "bgcolor": "white",
           "lakecolor": "white",
           "landcolor": "#E5ECF6",
           "showlakes": true,
           "showland": true,
           "subunitcolor": "white"
          },
          "hoverlabel": {
           "align": "left"
          },
          "hovermode": "closest",
          "mapbox": {
           "style": "light"
          },
          "paper_bgcolor": "white",
          "plot_bgcolor": "#E5ECF6",
          "polar": {
           "angularaxis": {
            "gridcolor": "white",
            "linecolor": "white",
            "ticks": ""
           },
           "bgcolor": "#E5ECF6",
           "radialaxis": {
            "gridcolor": "white",
            "linecolor": "white",
            "ticks": ""
           }
          },
          "scene": {
           "xaxis": {
            "backgroundcolor": "#E5ECF6",
            "gridcolor": "white",
            "gridwidth": 2,
            "linecolor": "white",
            "showbackground": true,
            "ticks": "",
            "zerolinecolor": "white"
           },
           "yaxis": {
            "backgroundcolor": "#E5ECF6",
            "gridcolor": "white",
            "gridwidth": 2,
            "linecolor": "white",
            "showbackground": true,
            "ticks": "",
            "zerolinecolor": "white"
           },
           "zaxis": {
            "backgroundcolor": "#E5ECF6",
            "gridcolor": "white",
            "gridwidth": 2,
            "linecolor": "white",
            "showbackground": true,
            "ticks": "",
            "zerolinecolor": "white"
           }
          },
          "shapedefaults": {
           "line": {
            "color": "#2a3f5f"
           }
          },
          "ternary": {
           "aaxis": {
            "gridcolor": "white",
            "linecolor": "white",
            "ticks": ""
           },
           "baxis": {
            "gridcolor": "white",
            "linecolor": "white",
            "ticks": ""
           },
           "bgcolor": "#E5ECF6",
           "caxis": {
            "gridcolor": "white",
            "linecolor": "white",
            "ticks": ""
           }
          },
          "title": {
           "x": 0.05
          },
          "xaxis": {
           "automargin": true,
           "gridcolor": "white",
           "linecolor": "white",
           "ticks": "",
           "title": {
            "standoff": 15
           },
           "zerolinecolor": "white",
           "zerolinewidth": 2
          },
          "yaxis": {
           "automargin": true,
           "gridcolor": "white",
           "linecolor": "white",
           "ticks": "",
           "title": {
            "standoff": 15
           },
           "zerolinecolor": "white",
           "zerolinewidth": 2
          }
         }
        },
        "title": {
         "text": "Sales Growth Rate During Campaigns for 2019"
        },
        "width": 900,
        "xaxis": {
         "tickangle": 45,
         "title": {
          "text": "Campaign"
         }
        },
        "yaxis": {
         "title": {
          "text": "Growth Rate (%)"
         }
        }
       }
      }
     },
     "metadata": {},
     "output_type": "display_data"
    }
   ],
   "source": [
    "# Input the chosen year for analysis\n",
    "chosen_year = 2019 # User can change this to any year (2014-2020) for graphs\n",
    "\n",
    "\n",
    "metrics = campaign_eff_metrics(df, chosen_year)\n",
    "sales_growth_rate_plot(metrics[0],chosen_year)"
   ]
  },
  {
   "cell_type": "markdown",
   "metadata": {},
   "source": [
    "In 2019, the *Mid-Year Sale* led to the highest gross sales among all campaigns. However, gross sales alone may not fully capture the effectiveness of a campaign. Revenue provides a more comprehensive view of the business's performance, reflecting the total income generated. To gain a clearer understanding of the campaigns’ impact on sales, we will focus on analysing both revenue and transaction count in greater detail. This will allow us to more accurately assess how each campaign contributes to the overall performance of the business."
   ]
  },
  {
   "cell_type": "markdown",
   "metadata": {},
   "source": [
    "##### **Revenue and Transaction Count Per Campaign Each Year**"
   ]
  },
  {
   "cell_type": "code",
   "execution_count": 31,
   "metadata": {},
   "outputs": [
    {
     "data": {
      "application/vnd.plotly.v1+json": {
       "config": {
        "plotlyServerURL": "https://plot.ly"
       },
       "data": [
        {
         "marker": {
          "color": "lightblue"
         },
         "name": "Revenue before Campaign",
         "type": "bar",
         "x": [
          "Christmas",
          "Mid-Year Sale",
          "Easter Sale",
          "Super Mart Sale"
         ],
         "xaxis": "x",
         "y": [
          620175,
          270062,
          103241,
          268057
         ],
         "yaxis": "y"
        },
        {
         "marker": {
          "color": "blue"
         },
         "name": "Revenue during Campaign",
         "type": "bar",
         "x": [
          "Christmas",
          "Mid-Year Sale",
          "Easter Sale",
          "Super Mart Sale"
         ],
         "xaxis": "x",
         "y": [
          896964,
          408091,
          148661,
          316051
         ],
         "yaxis": "y"
        },
        {
         "marker": {
          "color": "darkblue"
         },
         "name": "Revenue after Campaign",
         "type": "bar",
         "x": [
          "Christmas",
          "Mid-Year Sale",
          "Easter Sale",
          "Super Mart Sale"
         ],
         "xaxis": "x",
         "y": [
          640597,
          298149,
          92815,
          240348
         ],
         "yaxis": "y"
        },
        {
         "marker": {
          "color": "lightgreen"
         },
         "name": "Transactions before Campaign",
         "type": "bar",
         "x": [
          "Christmas",
          "Mid-Year Sale",
          "Easter Sale",
          "Super Mart Sale"
         ],
         "xaxis": "x2",
         "y": [
          11788,
          5162,
          1991,
          5073
         ],
         "yaxis": "y2"
        },
        {
         "marker": {
          "color": "green"
         },
         "name": "Transactions during Campaign",
         "type": "bar",
         "x": [
          "Christmas",
          "Mid-Year Sale",
          "Easter Sale",
          "Super Mart Sale"
         ],
         "xaxis": "x2",
         "y": [
          11611,
          6197,
          2395,
          5248
         ],
         "yaxis": "y2"
        },
        {
         "marker": {
          "color": "darkgreen"
         },
         "name": "Transactions after Campaign",
         "type": "bar",
         "x": [
          "Christmas",
          "Mid-Year Sale",
          "Easter Sale",
          "Super Mart Sale"
         ],
         "xaxis": "x2",
         "y": [
          12376,
          5715,
          1855,
          4515
         ],
         "yaxis": "y2"
        }
       ],
       "layout": {
        "annotations": [
         {
          "font": {
           "size": 16
          },
          "showarrow": false,
          "text": "Revenue Comparison for 2019",
          "x": 0.5,
          "xanchor": "center",
          "xref": "paper",
          "y": 1,
          "yanchor": "bottom",
          "yref": "paper"
         },
         {
          "font": {
           "size": 16
          },
          "showarrow": false,
          "text": "Transaction Comparison for 2019",
          "x": 0.5,
          "xanchor": "center",
          "xref": "paper",
          "y": 0.375,
          "yanchor": "bottom",
          "yref": "paper"
         }
        ],
        "barmode": "group",
        "height": 750,
        "showlegend": true,
        "template": {
         "data": {
          "bar": [
           {
            "error_x": {
             "color": "#2a3f5f"
            },
            "error_y": {
             "color": "#2a3f5f"
            },
            "marker": {
             "line": {
              "color": "#E5ECF6",
              "width": 0.5
             },
             "pattern": {
              "fillmode": "overlay",
              "size": 10,
              "solidity": 0.2
             }
            },
            "type": "bar"
           }
          ],
          "barpolar": [
           {
            "marker": {
             "line": {
              "color": "#E5ECF6",
              "width": 0.5
             },
             "pattern": {
              "fillmode": "overlay",
              "size": 10,
              "solidity": 0.2
             }
            },
            "type": "barpolar"
           }
          ],
          "carpet": [
           {
            "aaxis": {
             "endlinecolor": "#2a3f5f",
             "gridcolor": "white",
             "linecolor": "white",
             "minorgridcolor": "white",
             "startlinecolor": "#2a3f5f"
            },
            "baxis": {
             "endlinecolor": "#2a3f5f",
             "gridcolor": "white",
             "linecolor": "white",
             "minorgridcolor": "white",
             "startlinecolor": "#2a3f5f"
            },
            "type": "carpet"
           }
          ],
          "choropleth": [
           {
            "colorbar": {
             "outlinewidth": 0,
             "ticks": ""
            },
            "type": "choropleth"
           }
          ],
          "contour": [
           {
            "colorbar": {
             "outlinewidth": 0,
             "ticks": ""
            },
            "colorscale": [
             [
              0,
              "#0d0887"
             ],
             [
              0.1111111111111111,
              "#46039f"
             ],
             [
              0.2222222222222222,
              "#7201a8"
             ],
             [
              0.3333333333333333,
              "#9c179e"
             ],
             [
              0.4444444444444444,
              "#bd3786"
             ],
             [
              0.5555555555555556,
              "#d8576b"
             ],
             [
              0.6666666666666666,
              "#ed7953"
             ],
             [
              0.7777777777777778,
              "#fb9f3a"
             ],
             [
              0.8888888888888888,
              "#fdca26"
             ],
             [
              1,
              "#f0f921"
             ]
            ],
            "type": "contour"
           }
          ],
          "contourcarpet": [
           {
            "colorbar": {
             "outlinewidth": 0,
             "ticks": ""
            },
            "type": "contourcarpet"
           }
          ],
          "heatmap": [
           {
            "colorbar": {
             "outlinewidth": 0,
             "ticks": ""
            },
            "colorscale": [
             [
              0,
              "#0d0887"
             ],
             [
              0.1111111111111111,
              "#46039f"
             ],
             [
              0.2222222222222222,
              "#7201a8"
             ],
             [
              0.3333333333333333,
              "#9c179e"
             ],
             [
              0.4444444444444444,
              "#bd3786"
             ],
             [
              0.5555555555555556,
              "#d8576b"
             ],
             [
              0.6666666666666666,
              "#ed7953"
             ],
             [
              0.7777777777777778,
              "#fb9f3a"
             ],
             [
              0.8888888888888888,
              "#fdca26"
             ],
             [
              1,
              "#f0f921"
             ]
            ],
            "type": "heatmap"
           }
          ],
          "heatmapgl": [
           {
            "colorbar": {
             "outlinewidth": 0,
             "ticks": ""
            },
            "colorscale": [
             [
              0,
              "#0d0887"
             ],
             [
              0.1111111111111111,
              "#46039f"
             ],
             [
              0.2222222222222222,
              "#7201a8"
             ],
             [
              0.3333333333333333,
              "#9c179e"
             ],
             [
              0.4444444444444444,
              "#bd3786"
             ],
             [
              0.5555555555555556,
              "#d8576b"
             ],
             [
              0.6666666666666666,
              "#ed7953"
             ],
             [
              0.7777777777777778,
              "#fb9f3a"
             ],
             [
              0.8888888888888888,
              "#fdca26"
             ],
             [
              1,
              "#f0f921"
             ]
            ],
            "type": "heatmapgl"
           }
          ],
          "histogram": [
           {
            "marker": {
             "pattern": {
              "fillmode": "overlay",
              "size": 10,
              "solidity": 0.2
             }
            },
            "type": "histogram"
           }
          ],
          "histogram2d": [
           {
            "colorbar": {
             "outlinewidth": 0,
             "ticks": ""
            },
            "colorscale": [
             [
              0,
              "#0d0887"
             ],
             [
              0.1111111111111111,
              "#46039f"
             ],
             [
              0.2222222222222222,
              "#7201a8"
             ],
             [
              0.3333333333333333,
              "#9c179e"
             ],
             [
              0.4444444444444444,
              "#bd3786"
             ],
             [
              0.5555555555555556,
              "#d8576b"
             ],
             [
              0.6666666666666666,
              "#ed7953"
             ],
             [
              0.7777777777777778,
              "#fb9f3a"
             ],
             [
              0.8888888888888888,
              "#fdca26"
             ],
             [
              1,
              "#f0f921"
             ]
            ],
            "type": "histogram2d"
           }
          ],
          "histogram2dcontour": [
           {
            "colorbar": {
             "outlinewidth": 0,
             "ticks": ""
            },
            "colorscale": [
             [
              0,
              "#0d0887"
             ],
             [
              0.1111111111111111,
              "#46039f"
             ],
             [
              0.2222222222222222,
              "#7201a8"
             ],
             [
              0.3333333333333333,
              "#9c179e"
             ],
             [
              0.4444444444444444,
              "#bd3786"
             ],
             [
              0.5555555555555556,
              "#d8576b"
             ],
             [
              0.6666666666666666,
              "#ed7953"
             ],
             [
              0.7777777777777778,
              "#fb9f3a"
             ],
             [
              0.8888888888888888,
              "#fdca26"
             ],
             [
              1,
              "#f0f921"
             ]
            ],
            "type": "histogram2dcontour"
           }
          ],
          "mesh3d": [
           {
            "colorbar": {
             "outlinewidth": 0,
             "ticks": ""
            },
            "type": "mesh3d"
           }
          ],
          "parcoords": [
           {
            "line": {
             "colorbar": {
              "outlinewidth": 0,
              "ticks": ""
             }
            },
            "type": "parcoords"
           }
          ],
          "pie": [
           {
            "automargin": true,
            "type": "pie"
           }
          ],
          "scatter": [
           {
            "fillpattern": {
             "fillmode": "overlay",
             "size": 10,
             "solidity": 0.2
            },
            "type": "scatter"
           }
          ],
          "scatter3d": [
           {
            "line": {
             "colorbar": {
              "outlinewidth": 0,
              "ticks": ""
             }
            },
            "marker": {
             "colorbar": {
              "outlinewidth": 0,
              "ticks": ""
             }
            },
            "type": "scatter3d"
           }
          ],
          "scattercarpet": [
           {
            "marker": {
             "colorbar": {
              "outlinewidth": 0,
              "ticks": ""
             }
            },
            "type": "scattercarpet"
           }
          ],
          "scattergeo": [
           {
            "marker": {
             "colorbar": {
              "outlinewidth": 0,
              "ticks": ""
             }
            },
            "type": "scattergeo"
           }
          ],
          "scattergl": [
           {
            "marker": {
             "colorbar": {
              "outlinewidth": 0,
              "ticks": ""
             }
            },
            "type": "scattergl"
           }
          ],
          "scattermapbox": [
           {
            "marker": {
             "colorbar": {
              "outlinewidth": 0,
              "ticks": ""
             }
            },
            "type": "scattermapbox"
           }
          ],
          "scatterpolar": [
           {
            "marker": {
             "colorbar": {
              "outlinewidth": 0,
              "ticks": ""
             }
            },
            "type": "scatterpolar"
           }
          ],
          "scatterpolargl": [
           {
            "marker": {
             "colorbar": {
              "outlinewidth": 0,
              "ticks": ""
             }
            },
            "type": "scatterpolargl"
           }
          ],
          "scatterternary": [
           {
            "marker": {
             "colorbar": {
              "outlinewidth": 0,
              "ticks": ""
             }
            },
            "type": "scatterternary"
           }
          ],
          "surface": [
           {
            "colorbar": {
             "outlinewidth": 0,
             "ticks": ""
            },
            "colorscale": [
             [
              0,
              "#0d0887"
             ],
             [
              0.1111111111111111,
              "#46039f"
             ],
             [
              0.2222222222222222,
              "#7201a8"
             ],
             [
              0.3333333333333333,
              "#9c179e"
             ],
             [
              0.4444444444444444,
              "#bd3786"
             ],
             [
              0.5555555555555556,
              "#d8576b"
             ],
             [
              0.6666666666666666,
              "#ed7953"
             ],
             [
              0.7777777777777778,
              "#fb9f3a"
             ],
             [
              0.8888888888888888,
              "#fdca26"
             ],
             [
              1,
              "#f0f921"
             ]
            ],
            "type": "surface"
           }
          ],
          "table": [
           {
            "cells": {
             "fill": {
              "color": "#EBF0F8"
             },
             "line": {
              "color": "white"
             }
            },
            "header": {
             "fill": {
              "color": "#C8D4E3"
             },
             "line": {
              "color": "white"
             }
            },
            "type": "table"
           }
          ]
         },
         "layout": {
          "annotationdefaults": {
           "arrowcolor": "#2a3f5f",
           "arrowhead": 0,
           "arrowwidth": 1
          },
          "autotypenumbers": "strict",
          "coloraxis": {
           "colorbar": {
            "outlinewidth": 0,
            "ticks": ""
           }
          },
          "colorscale": {
           "diverging": [
            [
             0,
             "#8e0152"
            ],
            [
             0.1,
             "#c51b7d"
            ],
            [
             0.2,
             "#de77ae"
            ],
            [
             0.3,
             "#f1b6da"
            ],
            [
             0.4,
             "#fde0ef"
            ],
            [
             0.5,
             "#f7f7f7"
            ],
            [
             0.6,
             "#e6f5d0"
            ],
            [
             0.7,
             "#b8e186"
            ],
            [
             0.8,
             "#7fbc41"
            ],
            [
             0.9,
             "#4d9221"
            ],
            [
             1,
             "#276419"
            ]
           ],
           "sequential": [
            [
             0,
             "#0d0887"
            ],
            [
             0.1111111111111111,
             "#46039f"
            ],
            [
             0.2222222222222222,
             "#7201a8"
            ],
            [
             0.3333333333333333,
             "#9c179e"
            ],
            [
             0.4444444444444444,
             "#bd3786"
            ],
            [
             0.5555555555555556,
             "#d8576b"
            ],
            [
             0.6666666666666666,
             "#ed7953"
            ],
            [
             0.7777777777777778,
             "#fb9f3a"
            ],
            [
             0.8888888888888888,
             "#fdca26"
            ],
            [
             1,
             "#f0f921"
            ]
           ],
           "sequentialminus": [
            [
             0,
             "#0d0887"
            ],
            [
             0.1111111111111111,
             "#46039f"
            ],
            [
             0.2222222222222222,
             "#7201a8"
            ],
            [
             0.3333333333333333,
             "#9c179e"
            ],
            [
             0.4444444444444444,
             "#bd3786"
            ],
            [
             0.5555555555555556,
             "#d8576b"
            ],
            [
             0.6666666666666666,
             "#ed7953"
            ],
            [
             0.7777777777777778,
             "#fb9f3a"
            ],
            [
             0.8888888888888888,
             "#fdca26"
            ],
            [
             1,
             "#f0f921"
            ]
           ]
          },
          "colorway": [
           "#636efa",
           "#EF553B",
           "#00cc96",
           "#ab63fa",
           "#FFA15A",
           "#19d3f3",
           "#FF6692",
           "#B6E880",
           "#FF97FF",
           "#FECB52"
          ],
          "font": {
           "color": "#2a3f5f"
          },
          "geo": {
           "bgcolor": "white",
           "lakecolor": "white",
           "landcolor": "#E5ECF6",
           "showlakes": true,
           "showland": true,
           "subunitcolor": "white"
          },
          "hoverlabel": {
           "align": "left"
          },
          "hovermode": "closest",
          "mapbox": {
           "style": "light"
          },
          "paper_bgcolor": "white",
          "plot_bgcolor": "#E5ECF6",
          "polar": {
           "angularaxis": {
            "gridcolor": "white",
            "linecolor": "white",
            "ticks": ""
           },
           "bgcolor": "#E5ECF6",
           "radialaxis": {
            "gridcolor": "white",
            "linecolor": "white",
            "ticks": ""
           }
          },
          "scene": {
           "xaxis": {
            "backgroundcolor": "#E5ECF6",
            "gridcolor": "white",
            "gridwidth": 2,
            "linecolor": "white",
            "showbackground": true,
            "ticks": "",
            "zerolinecolor": "white"
           },
           "yaxis": {
            "backgroundcolor": "#E5ECF6",
            "gridcolor": "white",
            "gridwidth": 2,
            "linecolor": "white",
            "showbackground": true,
            "ticks": "",
            "zerolinecolor": "white"
           },
           "zaxis": {
            "backgroundcolor": "#E5ECF6",
            "gridcolor": "white",
            "gridwidth": 2,
            "linecolor": "white",
            "showbackground": true,
            "ticks": "",
            "zerolinecolor": "white"
           }
          },
          "shapedefaults": {
           "line": {
            "color": "#2a3f5f"
           }
          },
          "ternary": {
           "aaxis": {
            "gridcolor": "white",
            "linecolor": "white",
            "ticks": ""
           },
           "baxis": {
            "gridcolor": "white",
            "linecolor": "white",
            "ticks": ""
           },
           "bgcolor": "#E5ECF6",
           "caxis": {
            "gridcolor": "white",
            "linecolor": "white",
            "ticks": ""
           }
          },
          "title": {
           "x": 0.05
          },
          "xaxis": {
           "automargin": true,
           "gridcolor": "white",
           "linecolor": "white",
           "ticks": "",
           "title": {
            "standoff": 15
           },
           "zerolinecolor": "white",
           "zerolinewidth": 2
          },
          "yaxis": {
           "automargin": true,
           "gridcolor": "white",
           "linecolor": "white",
           "ticks": "",
           "title": {
            "standoff": 15
           },
           "zerolinecolor": "white",
           "zerolinewidth": 2
          }
         }
        },
        "width": 850,
        "xaxis": {
         "anchor": "y",
         "domain": [
          0,
          1
         ],
         "title": {
          "text": "Campaign"
         }
        },
        "xaxis2": {
         "anchor": "y2",
         "domain": [
          0,
          1
         ],
         "title": {
          "text": "Campaign"
         }
        },
        "yaxis": {
         "anchor": "x",
         "domain": [
          0.625,
          1
         ],
         "title": {
          "text": "Revenue"
         }
        },
        "yaxis2": {
         "anchor": "x2",
         "domain": [
          0,
          0.375
         ],
         "title": {
          "text": "Number of Transactions"
         }
        }
       }
      }
     },
     "metadata": {},
     "output_type": "display_data"
    }
   ],
   "source": [
    "revenue_transaction_plot(metrics[1], metrics[2], chosen_year)"
   ]
  },
  {
   "cell_type": "markdown",
   "metadata": {},
   "source": [
    "The bar charts above illustrate the Revenue and Transaction Count for 2019, comparing the data before, during, and after each campaign.\n",
    "\n",
    "From the Revenue Comparison chart, we can see that Christmas and Mid-Year Sale generate the highest revenue, with Christmas having the *greatest revenue growth*. However, Easter Sale and Super Mart Sale show relatively lower revenue generation, particularly in comparison to the Christmas campaign. Overall, the post-campaign revenue for all campaigns sees a noticeable drop, indicating that the revenue boost is relatively temporary so the impact on long-term sales is limited.\n",
    "\n",
    "The Transaction Comparison chart highlights the number of transactions for each campaign. Similar to the revenue trends, Christmas leads in transaction count but interestingly, there is a slight decrease during the campaign. This suggests that while the campaign generated high revenue, it did not necessarily attract a higher volume of customers or encourage higher purchase frequency. Meanwhile, Mid-Year Sale experiences a large increase during the campaign, with a slight dip after the campaign, but the number remains relatively higher than pre-campaign levels.\n",
    "\n",
    "These comparisons suggest that certain campaigns like *Christmas* and *Mid-Year Sale* are more effective at driving both revenue and transactions.\n",
    "\n",
    "##### **Average Order Size (AOS) and Average Order Value (AOV) per Campaign Each Year**\n",
    "\n",
    "$$\n",
    "\\text{Average Order Size (AOS)} = \\frac{\\text{Total Quantity Purchased}}{\\text{Total Number of Purchases}}\n",
    "$$\n",
    "\n",
    "$$\n",
    "\\text{Average Order Value (AOV)} = \\frac{\\text{Total Revenue}}{\\text{Total Number of Purchases}}\n",
    "$$\n"
   ]
  },
  {
   "cell_type": "code",
   "execution_count": 32,
   "metadata": {},
   "outputs": [
    {
     "data": {
      "application/vnd.plotly.v1+json": {
       "config": {
        "plotlyServerURL": "https://plot.ly"
       },
       "data": [
        {
         "marker": {
          "color": "lightcoral"
         },
         "name": "AOS before Campaign",
         "type": "bar",
         "x": [
          "Christmas",
          "Mid-Year Sale",
          "Easter Sale",
          "Super Mart Sale"
         ],
         "xaxis": "x",
         "y": [
          5.973023413640991,
          5.982758620689655,
          5.976393771973883,
          6.015966883500887
         ],
         "yaxis": "y"
        },
        {
         "marker": {
          "color": "coral"
         },
         "name": "AOS during Campaign",
         "type": "bar",
         "x": [
          "Christmas",
          "Mid-Year Sale",
          "Easter Sale",
          "Super Mart Sale"
         ],
         "xaxis": "x",
         "y": [
          8.983033330462492,
          7.553654994352106,
          7.075574112734865,
          6.974275914634147
         ],
         "yaxis": "y"
        },
        {
         "marker": {
          "color": "darkred"
         },
         "name": "AOS after Campaign",
         "type": "bar",
         "x": [
          "Christmas",
          "Mid-Year Sale",
          "Easter Sale",
          "Super Mart Sale"
         ],
         "xaxis": "x",
         "y": [
          5.974628312863607,
          6.044444444444444,
          6.022102425876011,
          6.0068660022148395
         ],
         "yaxis": "y"
        },
        {
         "marker": {
          "color": "thistle"
         },
         "name": "AOV before Campaign",
         "type": "bar",
         "x": [
          "Christmas",
          "Mid-Year Sale",
          "Easter Sale",
          "Super Mart Sale"
         ],
         "xaxis": "x2",
         "y": [
          52.61070580251103,
          52.31731886865556,
          51.85384229030638,
          52.839936920954074
         ],
         "yaxis": "y2"
        },
        {
         "marker": {
          "color": "violet"
         },
         "name": "AOV during Campaign",
         "type": "bar",
         "x": [
          "Christmas",
          "Mid-Year Sale",
          "Easter Sale",
          "Super Mart Sale"
         ],
         "xaxis": "x2",
         "y": [
          77.25122728447163,
          65.85299338389544,
          62.0713987473904,
          60.22313262195122
         ],
         "yaxis": "y2"
        },
        {
         "marker": {
          "color": "purple"
         },
         "name": "AOV after Campaign",
         "type": "bar",
         "x": [
          "Christmas",
          "Mid-Year Sale",
          "Easter Sale",
          "Super Mart Sale"
         ],
         "xaxis": "x2",
         "y": [
          51.76123141564318,
          52.16955380577428,
          50.03504043126684,
          53.23322259136213
         ],
         "yaxis": "y2"
        }
       ],
       "layout": {
        "annotations": [
         {
          "font": {
           "size": 16
          },
          "showarrow": false,
          "text": "AOS Comparison for 2019",
          "x": 0.5,
          "xanchor": "center",
          "xref": "paper",
          "y": 1,
          "yanchor": "bottom",
          "yref": "paper"
         },
         {
          "font": {
           "size": 16
          },
          "showarrow": false,
          "text": "AOV Comparison for 2019",
          "x": 0.5,
          "xanchor": "center",
          "xref": "paper",
          "y": 0.375,
          "yanchor": "bottom",
          "yref": "paper"
         }
        ],
        "barmode": "group",
        "height": 750,
        "showlegend": true,
        "template": {
         "data": {
          "bar": [
           {
            "error_x": {
             "color": "#2a3f5f"
            },
            "error_y": {
             "color": "#2a3f5f"
            },
            "marker": {
             "line": {
              "color": "#E5ECF6",
              "width": 0.5
             },
             "pattern": {
              "fillmode": "overlay",
              "size": 10,
              "solidity": 0.2
             }
            },
            "type": "bar"
           }
          ],
          "barpolar": [
           {
            "marker": {
             "line": {
              "color": "#E5ECF6",
              "width": 0.5
             },
             "pattern": {
              "fillmode": "overlay",
              "size": 10,
              "solidity": 0.2
             }
            },
            "type": "barpolar"
           }
          ],
          "carpet": [
           {
            "aaxis": {
             "endlinecolor": "#2a3f5f",
             "gridcolor": "white",
             "linecolor": "white",
             "minorgridcolor": "white",
             "startlinecolor": "#2a3f5f"
            },
            "baxis": {
             "endlinecolor": "#2a3f5f",
             "gridcolor": "white",
             "linecolor": "white",
             "minorgridcolor": "white",
             "startlinecolor": "#2a3f5f"
            },
            "type": "carpet"
           }
          ],
          "choropleth": [
           {
            "colorbar": {
             "outlinewidth": 0,
             "ticks": ""
            },
            "type": "choropleth"
           }
          ],
          "contour": [
           {
            "colorbar": {
             "outlinewidth": 0,
             "ticks": ""
            },
            "colorscale": [
             [
              0,
              "#0d0887"
             ],
             [
              0.1111111111111111,
              "#46039f"
             ],
             [
              0.2222222222222222,
              "#7201a8"
             ],
             [
              0.3333333333333333,
              "#9c179e"
             ],
             [
              0.4444444444444444,
              "#bd3786"
             ],
             [
              0.5555555555555556,
              "#d8576b"
             ],
             [
              0.6666666666666666,
              "#ed7953"
             ],
             [
              0.7777777777777778,
              "#fb9f3a"
             ],
             [
              0.8888888888888888,
              "#fdca26"
             ],
             [
              1,
              "#f0f921"
             ]
            ],
            "type": "contour"
           }
          ],
          "contourcarpet": [
           {
            "colorbar": {
             "outlinewidth": 0,
             "ticks": ""
            },
            "type": "contourcarpet"
           }
          ],
          "heatmap": [
           {
            "colorbar": {
             "outlinewidth": 0,
             "ticks": ""
            },
            "colorscale": [
             [
              0,
              "#0d0887"
             ],
             [
              0.1111111111111111,
              "#46039f"
             ],
             [
              0.2222222222222222,
              "#7201a8"
             ],
             [
              0.3333333333333333,
              "#9c179e"
             ],
             [
              0.4444444444444444,
              "#bd3786"
             ],
             [
              0.5555555555555556,
              "#d8576b"
             ],
             [
              0.6666666666666666,
              "#ed7953"
             ],
             [
              0.7777777777777778,
              "#fb9f3a"
             ],
             [
              0.8888888888888888,
              "#fdca26"
             ],
             [
              1,
              "#f0f921"
             ]
            ],
            "type": "heatmap"
           }
          ],
          "heatmapgl": [
           {
            "colorbar": {
             "outlinewidth": 0,
             "ticks": ""
            },
            "colorscale": [
             [
              0,
              "#0d0887"
             ],
             [
              0.1111111111111111,
              "#46039f"
             ],
             [
              0.2222222222222222,
              "#7201a8"
             ],
             [
              0.3333333333333333,
              "#9c179e"
             ],
             [
              0.4444444444444444,
              "#bd3786"
             ],
             [
              0.5555555555555556,
              "#d8576b"
             ],
             [
              0.6666666666666666,
              "#ed7953"
             ],
             [
              0.7777777777777778,
              "#fb9f3a"
             ],
             [
              0.8888888888888888,
              "#fdca26"
             ],
             [
              1,
              "#f0f921"
             ]
            ],
            "type": "heatmapgl"
           }
          ],
          "histogram": [
           {
            "marker": {
             "pattern": {
              "fillmode": "overlay",
              "size": 10,
              "solidity": 0.2
             }
            },
            "type": "histogram"
           }
          ],
          "histogram2d": [
           {
            "colorbar": {
             "outlinewidth": 0,
             "ticks": ""
            },
            "colorscale": [
             [
              0,
              "#0d0887"
             ],
             [
              0.1111111111111111,
              "#46039f"
             ],
             [
              0.2222222222222222,
              "#7201a8"
             ],
             [
              0.3333333333333333,
              "#9c179e"
             ],
             [
              0.4444444444444444,
              "#bd3786"
             ],
             [
              0.5555555555555556,
              "#d8576b"
             ],
             [
              0.6666666666666666,
              "#ed7953"
             ],
             [
              0.7777777777777778,
              "#fb9f3a"
             ],
             [
              0.8888888888888888,
              "#fdca26"
             ],
             [
              1,
              "#f0f921"
             ]
            ],
            "type": "histogram2d"
           }
          ],
          "histogram2dcontour": [
           {
            "colorbar": {
             "outlinewidth": 0,
             "ticks": ""
            },
            "colorscale": [
             [
              0,
              "#0d0887"
             ],
             [
              0.1111111111111111,
              "#46039f"
             ],
             [
              0.2222222222222222,
              "#7201a8"
             ],
             [
              0.3333333333333333,
              "#9c179e"
             ],
             [
              0.4444444444444444,
              "#bd3786"
             ],
             [
              0.5555555555555556,
              "#d8576b"
             ],
             [
              0.6666666666666666,
              "#ed7953"
             ],
             [
              0.7777777777777778,
              "#fb9f3a"
             ],
             [
              0.8888888888888888,
              "#fdca26"
             ],
             [
              1,
              "#f0f921"
             ]
            ],
            "type": "histogram2dcontour"
           }
          ],
          "mesh3d": [
           {
            "colorbar": {
             "outlinewidth": 0,
             "ticks": ""
            },
            "type": "mesh3d"
           }
          ],
          "parcoords": [
           {
            "line": {
             "colorbar": {
              "outlinewidth": 0,
              "ticks": ""
             }
            },
            "type": "parcoords"
           }
          ],
          "pie": [
           {
            "automargin": true,
            "type": "pie"
           }
          ],
          "scatter": [
           {
            "fillpattern": {
             "fillmode": "overlay",
             "size": 10,
             "solidity": 0.2
            },
            "type": "scatter"
           }
          ],
          "scatter3d": [
           {
            "line": {
             "colorbar": {
              "outlinewidth": 0,
              "ticks": ""
             }
            },
            "marker": {
             "colorbar": {
              "outlinewidth": 0,
              "ticks": ""
             }
            },
            "type": "scatter3d"
           }
          ],
          "scattercarpet": [
           {
            "marker": {
             "colorbar": {
              "outlinewidth": 0,
              "ticks": ""
             }
            },
            "type": "scattercarpet"
           }
          ],
          "scattergeo": [
           {
            "marker": {
             "colorbar": {
              "outlinewidth": 0,
              "ticks": ""
             }
            },
            "type": "scattergeo"
           }
          ],
          "scattergl": [
           {
            "marker": {
             "colorbar": {
              "outlinewidth": 0,
              "ticks": ""
             }
            },
            "type": "scattergl"
           }
          ],
          "scattermapbox": [
           {
            "marker": {
             "colorbar": {
              "outlinewidth": 0,
              "ticks": ""
             }
            },
            "type": "scattermapbox"
           }
          ],
          "scatterpolar": [
           {
            "marker": {
             "colorbar": {
              "outlinewidth": 0,
              "ticks": ""
             }
            },
            "type": "scatterpolar"
           }
          ],
          "scatterpolargl": [
           {
            "marker": {
             "colorbar": {
              "outlinewidth": 0,
              "ticks": ""
             }
            },
            "type": "scatterpolargl"
           }
          ],
          "scatterternary": [
           {
            "marker": {
             "colorbar": {
              "outlinewidth": 0,
              "ticks": ""
             }
            },
            "type": "scatterternary"
           }
          ],
          "surface": [
           {
            "colorbar": {
             "outlinewidth": 0,
             "ticks": ""
            },
            "colorscale": [
             [
              0,
              "#0d0887"
             ],
             [
              0.1111111111111111,
              "#46039f"
             ],
             [
              0.2222222222222222,
              "#7201a8"
             ],
             [
              0.3333333333333333,
              "#9c179e"
             ],
             [
              0.4444444444444444,
              "#bd3786"
             ],
             [
              0.5555555555555556,
              "#d8576b"
             ],
             [
              0.6666666666666666,
              "#ed7953"
             ],
             [
              0.7777777777777778,
              "#fb9f3a"
             ],
             [
              0.8888888888888888,
              "#fdca26"
             ],
             [
              1,
              "#f0f921"
             ]
            ],
            "type": "surface"
           }
          ],
          "table": [
           {
            "cells": {
             "fill": {
              "color": "#EBF0F8"
             },
             "line": {
              "color": "white"
             }
            },
            "header": {
             "fill": {
              "color": "#C8D4E3"
             },
             "line": {
              "color": "white"
             }
            },
            "type": "table"
           }
          ]
         },
         "layout": {
          "annotationdefaults": {
           "arrowcolor": "#2a3f5f",
           "arrowhead": 0,
           "arrowwidth": 1
          },
          "autotypenumbers": "strict",
          "coloraxis": {
           "colorbar": {
            "outlinewidth": 0,
            "ticks": ""
           }
          },
          "colorscale": {
           "diverging": [
            [
             0,
             "#8e0152"
            ],
            [
             0.1,
             "#c51b7d"
            ],
            [
             0.2,
             "#de77ae"
            ],
            [
             0.3,
             "#f1b6da"
            ],
            [
             0.4,
             "#fde0ef"
            ],
            [
             0.5,
             "#f7f7f7"
            ],
            [
             0.6,
             "#e6f5d0"
            ],
            [
             0.7,
             "#b8e186"
            ],
            [
             0.8,
             "#7fbc41"
            ],
            [
             0.9,
             "#4d9221"
            ],
            [
             1,
             "#276419"
            ]
           ],
           "sequential": [
            [
             0,
             "#0d0887"
            ],
            [
             0.1111111111111111,
             "#46039f"
            ],
            [
             0.2222222222222222,
             "#7201a8"
            ],
            [
             0.3333333333333333,
             "#9c179e"
            ],
            [
             0.4444444444444444,
             "#bd3786"
            ],
            [
             0.5555555555555556,
             "#d8576b"
            ],
            [
             0.6666666666666666,
             "#ed7953"
            ],
            [
             0.7777777777777778,
             "#fb9f3a"
            ],
            [
             0.8888888888888888,
             "#fdca26"
            ],
            [
             1,
             "#f0f921"
            ]
           ],
           "sequentialminus": [
            [
             0,
             "#0d0887"
            ],
            [
             0.1111111111111111,
             "#46039f"
            ],
            [
             0.2222222222222222,
             "#7201a8"
            ],
            [
             0.3333333333333333,
             "#9c179e"
            ],
            [
             0.4444444444444444,
             "#bd3786"
            ],
            [
             0.5555555555555556,
             "#d8576b"
            ],
            [
             0.6666666666666666,
             "#ed7953"
            ],
            [
             0.7777777777777778,
             "#fb9f3a"
            ],
            [
             0.8888888888888888,
             "#fdca26"
            ],
            [
             1,
             "#f0f921"
            ]
           ]
          },
          "colorway": [
           "#636efa",
           "#EF553B",
           "#00cc96",
           "#ab63fa",
           "#FFA15A",
           "#19d3f3",
           "#FF6692",
           "#B6E880",
           "#FF97FF",
           "#FECB52"
          ],
          "font": {
           "color": "#2a3f5f"
          },
          "geo": {
           "bgcolor": "white",
           "lakecolor": "white",
           "landcolor": "#E5ECF6",
           "showlakes": true,
           "showland": true,
           "subunitcolor": "white"
          },
          "hoverlabel": {
           "align": "left"
          },
          "hovermode": "closest",
          "mapbox": {
           "style": "light"
          },
          "paper_bgcolor": "white",
          "plot_bgcolor": "#E5ECF6",
          "polar": {
           "angularaxis": {
            "gridcolor": "white",
            "linecolor": "white",
            "ticks": ""
           },
           "bgcolor": "#E5ECF6",
           "radialaxis": {
            "gridcolor": "white",
            "linecolor": "white",
            "ticks": ""
           }
          },
          "scene": {
           "xaxis": {
            "backgroundcolor": "#E5ECF6",
            "gridcolor": "white",
            "gridwidth": 2,
            "linecolor": "white",
            "showbackground": true,
            "ticks": "",
            "zerolinecolor": "white"
           },
           "yaxis": {
            "backgroundcolor": "#E5ECF6",
            "gridcolor": "white",
            "gridwidth": 2,
            "linecolor": "white",
            "showbackground": true,
            "ticks": "",
            "zerolinecolor": "white"
           },
           "zaxis": {
            "backgroundcolor": "#E5ECF6",
            "gridcolor": "white",
            "gridwidth": 2,
            "linecolor": "white",
            "showbackground": true,
            "ticks": "",
            "zerolinecolor": "white"
           }
          },
          "shapedefaults": {
           "line": {
            "color": "#2a3f5f"
           }
          },
          "ternary": {
           "aaxis": {
            "gridcolor": "white",
            "linecolor": "white",
            "ticks": ""
           },
           "baxis": {
            "gridcolor": "white",
            "linecolor": "white",
            "ticks": ""
           },
           "bgcolor": "#E5ECF6",
           "caxis": {
            "gridcolor": "white",
            "linecolor": "white",
            "ticks": ""
           }
          },
          "title": {
           "x": 0.05
          },
          "xaxis": {
           "automargin": true,
           "gridcolor": "white",
           "linecolor": "white",
           "ticks": "",
           "title": {
            "standoff": 15
           },
           "zerolinecolor": "white",
           "zerolinewidth": 2
          },
          "yaxis": {
           "automargin": true,
           "gridcolor": "white",
           "linecolor": "white",
           "ticks": "",
           "title": {
            "standoff": 15
           },
           "zerolinecolor": "white",
           "zerolinewidth": 2
          }
         }
        },
        "width": 850,
        "xaxis": {
         "anchor": "y",
         "domain": [
          0,
          1
         ],
         "title": {
          "text": "Campaign"
         }
        },
        "xaxis2": {
         "anchor": "y2",
         "domain": [
          0,
          1
         ],
         "title": {
          "text": "Campaign"
         }
        },
        "yaxis": {
         "anchor": "x",
         "domain": [
          0.625,
          1
         ],
         "title": {
          "text": "Average Order Size (AOS)"
         }
        },
        "yaxis2": {
         "anchor": "x2",
         "domain": [
          0,
          0.375
         ],
         "title": {
          "text": "Average Order Value (AOV)"
         }
        }
       }
      }
     },
     "metadata": {},
     "output_type": "display_data"
    }
   ],
   "source": [
    "aos_aov_plot(metrics[3], metrics[4], chosen_year)"
   ]
  },
  {
   "cell_type": "markdown",
   "metadata": {},
   "source": [
    "The bar charts above compare AOS and AOV for various campaigns in 2019.\n",
    "\n",
    "From the AOS Comparison chart, the *Christmas* Campaign sees the highest AOS, followed by Mid-Year Sale, Easter Sale and Super Mart Sale. The spikes in all during-campaign periods suggest that customers tend to purchase more items per transaction during a campaign. The AOS tends to remain stable *before* and *after* the campaigns, indicating that while these campaigns drive larger purchases, the number of items per transaction does not change drastically post-campaign.\n",
    "\n",
    "From the AOV Comparison chart, the *Christmas* Campaign again stands out with the highest AOV, particularly during the campaign period. This is consistent with our general AOV trend by campaign as discussed earlier. The Easter Sale and Super Mart Sale have smaller peaks in AOV during the campaign period, meaning these campaigns attract lower order values. Similarly, the AOV tends to remain stable *before* and *after* the campaigns, indicating that there is no sustained impact on sales.\n",
    "\n",
    "While AOS and AOV rise during the campaigns, the drop post-campaign suggests that the promotional strategies may drive a short-term increase in value but may not sustain the same level of engagement once the campaigns end.\n",
    "\n",
    "##### **AOV by Product Category for Each Campaign**"
   ]
  },
  {
   "cell_type": "code",
   "execution_count": 33,
   "metadata": {},
   "outputs": [
    {
     "data": {
      "application/vnd.plotly.v1+json": {
       "config": {
        "plotlyServerURL": "https://plot.ly"
       },
       "data": [
        {
         "alignmentgroup": "True",
         "hovertemplate": "Phase=before<br>Campaign=Christmas<br>Category=%{x}<br>Average Order Value=%{y}<extra></extra>",
         "legendgroup": "before",
         "marker": {
          "color": "darkgrey",
          "pattern": {
           "shape": ""
          }
         },
         "name": "before",
         "offsetgroup": "before",
         "orientation": "v",
         "showlegend": true,
         "textposition": "auto",
         "type": "bar",
         "x": [
          "Beverage",
          "Coffee products",
          "Dishware",
          "Food",
          "Gum",
          "Kitchen Supplies",
          "Medicine"
         ],
         "xaxis": "x",
         "y": [
          48.83692660550459,
          74.44593639575972,
          51.154453213077794,
          49.13335059554635,
          40.64264264264264,
          60.67259786476868,
          23.829545454545453
         ],
         "yaxis": "y"
        },
        {
         "alignmentgroup": "True",
         "hovertemplate": "Phase=before<br>Campaign=Mid-Year Sale<br>Category=%{x}<br>Average Order Value=%{y}<extra></extra>",
         "legendgroup": "before",
         "marker": {
          "color": "darkgrey",
          "pattern": {
           "shape": ""
          }
         },
         "name": "before",
         "offsetgroup": "before",
         "orientation": "v",
         "showlegend": false,
         "textposition": "auto",
         "type": "bar",
         "x": [
          "Beverage",
          "Coffee products",
          "Dishware",
          "Food",
          "Gum",
          "Kitchen Supplies",
          "Medicine"
         ],
         "xaxis": "x2",
         "y": [
          49.169624217119,
          69.85964912280701,
          47.745152354570635,
          50.18115501519757,
          37.88135593220339,
          62.16919191919192,
          23.575
         ],
         "yaxis": "y2"
        },
        {
         "alignmentgroup": "True",
         "hovertemplate": "Phase=before<br>Campaign=Easter Sale<br>Category=%{x}<br>Average Order Value=%{y}<extra></extra>",
         "legendgroup": "before",
         "marker": {
          "color": "darkgrey",
          "pattern": {
           "shape": ""
          }
         },
         "name": "before",
         "offsetgroup": "before",
         "orientation": "v",
         "showlegend": false,
         "textposition": "auto",
         "type": "bar",
         "x": [
          "Beverage",
          "Coffee products",
          "Dishware",
          "Food",
          "Gum",
          "Kitchen Supplies",
          "Medicine"
         ],
         "xaxis": "x3",
         "y": [
          48.97375690607735,
          67.68312757201646,
          52.97122302158273,
          48.68674698795181,
          38.854838709677416,
          60.59183673469388,
          27.5
         ],
         "yaxis": "y3"
        },
        {
         "alignmentgroup": "True",
         "hovertemplate": "Phase=before<br>Campaign=Super Mart Sale<br>Category=%{x}<br>Average Order Value=%{y}<extra></extra>",
         "legendgroup": "before",
         "marker": {
          "color": "darkgrey",
          "pattern": {
           "shape": ""
          }
         },
         "name": "before",
         "offsetgroup": "before",
         "orientation": "v",
         "showlegend": false,
         "textposition": "auto",
         "type": "bar",
         "x": [
          "Beverage",
          "Coffee products",
          "Dishware",
          "Food",
          "Gum",
          "Kitchen Supplies",
          "Medicine"
         ],
         "xaxis": "x4",
         "y": [
          50.61050442017681,
          74.84615384615384,
          48.604651162790695,
          48.599022004889974,
          40.863945578231295,
          59.37096774193548,
          23.347826086956523
         ],
         "yaxis": "y4"
        },
        {
         "alignmentgroup": "True",
         "hovertemplate": "Phase=during<br>Campaign=Christmas<br>Category=%{x}<br>Average Order Value=%{y}<extra></extra>",
         "legendgroup": "during",
         "marker": {
          "color": "blue",
          "pattern": {
           "shape": ""
          }
         },
         "name": "during",
         "offsetgroup": "during",
         "orientation": "v",
         "showlegend": true,
         "textposition": "auto",
         "type": "bar",
         "x": [
          "Beverage",
          "Coffee products",
          "Dishware",
          "Food",
          "Gum",
          "Kitchen Supplies",
          "Medicine"
         ],
         "xaxis": "x",
         "y": [
          72.18987043580684,
          102.32053175775481,
          71.47266514806378,
          75.20324352602668,
          59.44086021505376,
          89.94312796208531,
          38.915789473684214
         ],
         "yaxis": "y"
        },
        {
         "alignmentgroup": "True",
         "hovertemplate": "Phase=during<br>Campaign=Mid-Year Sale<br>Category=%{x}<br>Average Order Value=%{y}<extra></extra>",
         "legendgroup": "during",
         "marker": {
          "color": "blue",
          "pattern": {
           "shape": ""
          }
         },
         "name": "during",
         "offsetgroup": "during",
         "orientation": "v",
         "showlegend": false,
         "textposition": "auto",
         "type": "bar",
         "x": [
          "Beverage",
          "Coffee products",
          "Dishware",
          "Food",
          "Gum",
          "Kitchen Supplies",
          "Medicine"
         ],
         "xaxis": "x2",
         "y": [
          61.547195013357076,
          94.17894736842105,
          60.64876033057851,
          61.15327009485771,
          51.759562841530055,
          76.06638115631692,
          26.685185185185187
         ],
         "yaxis": "y2"
        },
        {
         "alignmentgroup": "True",
         "hovertemplate": "Phase=during<br>Campaign=Easter Sale<br>Category=%{x}<br>Average Order Value=%{y}<extra></extra>",
         "legendgroup": "during",
         "marker": {
          "color": "blue",
          "pattern": {
           "shape": ""
          }
         },
         "name": "during",
         "offsetgroup": "during",
         "orientation": "v",
         "showlegend": false,
         "textposition": "auto",
         "type": "bar",
         "x": [
          "Beverage",
          "Coffee products",
          "Dishware",
          "Food",
          "Gum",
          "Kitchen Supplies",
          "Medicine"
         ],
         "xaxis": "x3",
         "y": [
          56.21666666666667,
          93.52014652014653,
          53.958333333333336,
          58.32025316455696,
          54.82692307692308,
          72.15083798882682,
          37.333333333333336
         ],
         "yaxis": "y3"
        },
        {
         "alignmentgroup": "True",
         "hovertemplate": "Phase=during<br>Campaign=Super Mart Sale<br>Category=%{x}<br>Average Order Value=%{y}<extra></extra>",
         "legendgroup": "during",
         "marker": {
          "color": "blue",
          "pattern": {
           "shape": ""
          }
         },
         "name": "during",
         "offsetgroup": "during",
         "orientation": "v",
         "showlegend": false,
         "textposition": "auto",
         "type": "bar",
         "x": [
          "Beverage",
          "Coffee products",
          "Dishware",
          "Food",
          "Gum",
          "Kitchen Supplies",
          "Medicine"
         ],
         "xaxis": "x4",
         "y": [
          56.27588075880759,
          85.87349397590361,
          56.308068459657704,
          56.25346420323326,
          46.26347305389221,
          65.93702770780857,
          24.647058823529413
         ],
         "yaxis": "y4"
        },
        {
         "alignmentgroup": "True",
         "hovertemplate": "Phase=after<br>Campaign=Christmas<br>Category=%{x}<br>Average Order Value=%{y}<extra></extra>",
         "legendgroup": "after",
         "marker": {
          "color": "darkgrey",
          "pattern": {
           "shape": ""
          }
         },
         "name": "after",
         "offsetgroup": "after",
         "orientation": "v",
         "showlegend": true,
         "textposition": "auto",
         "type": "bar",
         "x": [
          "Beverage",
          "Coffee products",
          "Dishware",
          "Food",
          "Gum",
          "Kitchen Supplies",
          "Medicine"
         ],
         "xaxis": "x",
         "y": [
          48.06392391063924,
          72.08695652173913,
          50.068403908794785,
          48.883116883116884,
          39.865753424657534,
          58.016746411483254,
          21.568181818181817
         ],
         "yaxis": "y"
        },
        {
         "alignmentgroup": "True",
         "hovertemplate": "Phase=after<br>Campaign=Mid-Year Sale<br>Category=%{x}<br>Average Order Value=%{y}<extra></extra>",
         "legendgroup": "after",
         "marker": {
          "color": "darkgrey",
          "pattern": {
           "shape": ""
          }
         },
         "name": "after",
         "offsetgroup": "after",
         "orientation": "v",
         "showlegend": false,
         "textposition": "auto",
         "type": "bar",
         "x": [
          "Beverage",
          "Coffee products",
          "Dishware",
          "Food",
          "Gum",
          "Kitchen Supplies",
          "Medicine"
         ],
         "xaxis": "x2",
         "y": [
          48.805853658536584,
          73.00698324022346,
          46.713968957871394,
          49.15747613997879,
          41.27710843373494,
          59.50864197530864,
          26.634146341463413
         ],
         "yaxis": "y2"
        },
        {
         "alignmentgroup": "True",
         "hovertemplate": "Phase=after<br>Campaign=Easter Sale<br>Category=%{x}<br>Average Order Value=%{y}<extra></extra>",
         "legendgroup": "after",
         "marker": {
          "color": "darkgrey",
          "pattern": {
           "shape": ""
          }
         },
         "name": "after",
         "offsetgroup": "after",
         "orientation": "v",
         "showlegend": false,
         "textposition": "auto",
         "type": "bar",
         "x": [
          "Beverage",
          "Coffee products",
          "Dishware",
          "Food",
          "Gum",
          "Kitchen Supplies",
          "Medicine"
         ],
         "xaxis": "x3",
         "y": [
          48.40210843373494,
          64.58078602620087,
          47.03164556962025,
          46.86914378029079,
          36.61363636363637,
          59.40157480314961,
          20.642857142857142
         ],
         "yaxis": "y3"
        },
        {
         "alignmentgroup": "True",
         "hovertemplate": "Phase=after<br>Campaign=Super Mart Sale<br>Category=%{x}<br>Average Order Value=%{y}<extra></extra>",
         "legendgroup": "after",
         "marker": {
          "color": "darkgrey",
          "pattern": {
           "shape": ""
          }
         },
         "name": "after",
         "offsetgroup": "after",
         "orientation": "v",
         "showlegend": false,
         "textposition": "auto",
         "type": "bar",
         "x": [
          "Beverage",
          "Coffee products",
          "Dishware",
          "Food",
          "Gum",
          "Kitchen Supplies",
          "Medicine"
         ],
         "xaxis": "x4",
         "y": [
          50.12528604118993,
          72.22509960159363,
          50.543130990415335,
          51.25242047026279,
          38.97826086956522,
          60.773809523809526,
          23.1875
         ],
         "yaxis": "y4"
        }
       ],
       "layout": {
        "annotations": [
         {
          "font": {},
          "showarrow": false,
          "text": "Christmas",
          "x": 0.1175,
          "xanchor": "center",
          "xref": "paper",
          "y": 1,
          "yanchor": "bottom",
          "yref": "paper"
         },
         {
          "font": {},
          "showarrow": false,
          "text": "Mid-Year Sale",
          "x": 0.3725,
          "xanchor": "center",
          "xref": "paper",
          "y": 1,
          "yanchor": "bottom",
          "yref": "paper"
         },
         {
          "font": {},
          "showarrow": false,
          "text": "Easter Sale",
          "x": 0.6275,
          "xanchor": "center",
          "xref": "paper",
          "y": 1,
          "yanchor": "bottom",
          "yref": "paper"
         },
         {
          "font": {},
          "showarrow": false,
          "text": "Super Mart Sale",
          "x": 0.8824999999999998,
          "xanchor": "center",
          "xref": "paper",
          "y": 1,
          "yanchor": "bottom",
          "yref": "paper"
         }
        ],
        "barmode": "group",
        "height": 600,
        "legend": {
         "title": {
          "text": "Campaign Phase"
         },
         "tracegroupgap": 0
        },
        "template": {
         "data": {
          "bar": [
           {
            "error_x": {
             "color": "#2a3f5f"
            },
            "error_y": {
             "color": "#2a3f5f"
            },
            "marker": {
             "line": {
              "color": "#E5ECF6",
              "width": 0.5
             },
             "pattern": {
              "fillmode": "overlay",
              "size": 10,
              "solidity": 0.2
             }
            },
            "type": "bar"
           }
          ],
          "barpolar": [
           {
            "marker": {
             "line": {
              "color": "#E5ECF6",
              "width": 0.5
             },
             "pattern": {
              "fillmode": "overlay",
              "size": 10,
              "solidity": 0.2
             }
            },
            "type": "barpolar"
           }
          ],
          "carpet": [
           {
            "aaxis": {
             "endlinecolor": "#2a3f5f",
             "gridcolor": "white",
             "linecolor": "white",
             "minorgridcolor": "white",
             "startlinecolor": "#2a3f5f"
            },
            "baxis": {
             "endlinecolor": "#2a3f5f",
             "gridcolor": "white",
             "linecolor": "white",
             "minorgridcolor": "white",
             "startlinecolor": "#2a3f5f"
            },
            "type": "carpet"
           }
          ],
          "choropleth": [
           {
            "colorbar": {
             "outlinewidth": 0,
             "ticks": ""
            },
            "type": "choropleth"
           }
          ],
          "contour": [
           {
            "colorbar": {
             "outlinewidth": 0,
             "ticks": ""
            },
            "colorscale": [
             [
              0,
              "#0d0887"
             ],
             [
              0.1111111111111111,
              "#46039f"
             ],
             [
              0.2222222222222222,
              "#7201a8"
             ],
             [
              0.3333333333333333,
              "#9c179e"
             ],
             [
              0.4444444444444444,
              "#bd3786"
             ],
             [
              0.5555555555555556,
              "#d8576b"
             ],
             [
              0.6666666666666666,
              "#ed7953"
             ],
             [
              0.7777777777777778,
              "#fb9f3a"
             ],
             [
              0.8888888888888888,
              "#fdca26"
             ],
             [
              1,
              "#f0f921"
             ]
            ],
            "type": "contour"
           }
          ],
          "contourcarpet": [
           {
            "colorbar": {
             "outlinewidth": 0,
             "ticks": ""
            },
            "type": "contourcarpet"
           }
          ],
          "heatmap": [
           {
            "colorbar": {
             "outlinewidth": 0,
             "ticks": ""
            },
            "colorscale": [
             [
              0,
              "#0d0887"
             ],
             [
              0.1111111111111111,
              "#46039f"
             ],
             [
              0.2222222222222222,
              "#7201a8"
             ],
             [
              0.3333333333333333,
              "#9c179e"
             ],
             [
              0.4444444444444444,
              "#bd3786"
             ],
             [
              0.5555555555555556,
              "#d8576b"
             ],
             [
              0.6666666666666666,
              "#ed7953"
             ],
             [
              0.7777777777777778,
              "#fb9f3a"
             ],
             [
              0.8888888888888888,
              "#fdca26"
             ],
             [
              1,
              "#f0f921"
             ]
            ],
            "type": "heatmap"
           }
          ],
          "heatmapgl": [
           {
            "colorbar": {
             "outlinewidth": 0,
             "ticks": ""
            },
            "colorscale": [
             [
              0,
              "#0d0887"
             ],
             [
              0.1111111111111111,
              "#46039f"
             ],
             [
              0.2222222222222222,
              "#7201a8"
             ],
             [
              0.3333333333333333,
              "#9c179e"
             ],
             [
              0.4444444444444444,
              "#bd3786"
             ],
             [
              0.5555555555555556,
              "#d8576b"
             ],
             [
              0.6666666666666666,
              "#ed7953"
             ],
             [
              0.7777777777777778,
              "#fb9f3a"
             ],
             [
              0.8888888888888888,
              "#fdca26"
             ],
             [
              1,
              "#f0f921"
             ]
            ],
            "type": "heatmapgl"
           }
          ],
          "histogram": [
           {
            "marker": {
             "pattern": {
              "fillmode": "overlay",
              "size": 10,
              "solidity": 0.2
             }
            },
            "type": "histogram"
           }
          ],
          "histogram2d": [
           {
            "colorbar": {
             "outlinewidth": 0,
             "ticks": ""
            },
            "colorscale": [
             [
              0,
              "#0d0887"
             ],
             [
              0.1111111111111111,
              "#46039f"
             ],
             [
              0.2222222222222222,
              "#7201a8"
             ],
             [
              0.3333333333333333,
              "#9c179e"
             ],
             [
              0.4444444444444444,
              "#bd3786"
             ],
             [
              0.5555555555555556,
              "#d8576b"
             ],
             [
              0.6666666666666666,
              "#ed7953"
             ],
             [
              0.7777777777777778,
              "#fb9f3a"
             ],
             [
              0.8888888888888888,
              "#fdca26"
             ],
             [
              1,
              "#f0f921"
             ]
            ],
            "type": "histogram2d"
           }
          ],
          "histogram2dcontour": [
           {
            "colorbar": {
             "outlinewidth": 0,
             "ticks": ""
            },
            "colorscale": [
             [
              0,
              "#0d0887"
             ],
             [
              0.1111111111111111,
              "#46039f"
             ],
             [
              0.2222222222222222,
              "#7201a8"
             ],
             [
              0.3333333333333333,
              "#9c179e"
             ],
             [
              0.4444444444444444,
              "#bd3786"
             ],
             [
              0.5555555555555556,
              "#d8576b"
             ],
             [
              0.6666666666666666,
              "#ed7953"
             ],
             [
              0.7777777777777778,
              "#fb9f3a"
             ],
             [
              0.8888888888888888,
              "#fdca26"
             ],
             [
              1,
              "#f0f921"
             ]
            ],
            "type": "histogram2dcontour"
           }
          ],
          "mesh3d": [
           {
            "colorbar": {
             "outlinewidth": 0,
             "ticks": ""
            },
            "type": "mesh3d"
           }
          ],
          "parcoords": [
           {
            "line": {
             "colorbar": {
              "outlinewidth": 0,
              "ticks": ""
             }
            },
            "type": "parcoords"
           }
          ],
          "pie": [
           {
            "automargin": true,
            "type": "pie"
           }
          ],
          "scatter": [
           {
            "fillpattern": {
             "fillmode": "overlay",
             "size": 10,
             "solidity": 0.2
            },
            "type": "scatter"
           }
          ],
          "scatter3d": [
           {
            "line": {
             "colorbar": {
              "outlinewidth": 0,
              "ticks": ""
             }
            },
            "marker": {
             "colorbar": {
              "outlinewidth": 0,
              "ticks": ""
             }
            },
            "type": "scatter3d"
           }
          ],
          "scattercarpet": [
           {
            "marker": {
             "colorbar": {
              "outlinewidth": 0,
              "ticks": ""
             }
            },
            "type": "scattercarpet"
           }
          ],
          "scattergeo": [
           {
            "marker": {
             "colorbar": {
              "outlinewidth": 0,
              "ticks": ""
             }
            },
            "type": "scattergeo"
           }
          ],
          "scattergl": [
           {
            "marker": {
             "colorbar": {
              "outlinewidth": 0,
              "ticks": ""
             }
            },
            "type": "scattergl"
           }
          ],
          "scattermapbox": [
           {
            "marker": {
             "colorbar": {
              "outlinewidth": 0,
              "ticks": ""
             }
            },
            "type": "scattermapbox"
           }
          ],
          "scatterpolar": [
           {
            "marker": {
             "colorbar": {
              "outlinewidth": 0,
              "ticks": ""
             }
            },
            "type": "scatterpolar"
           }
          ],
          "scatterpolargl": [
           {
            "marker": {
             "colorbar": {
              "outlinewidth": 0,
              "ticks": ""
             }
            },
            "type": "scatterpolargl"
           }
          ],
          "scatterternary": [
           {
            "marker": {
             "colorbar": {
              "outlinewidth": 0,
              "ticks": ""
             }
            },
            "type": "scatterternary"
           }
          ],
          "surface": [
           {
            "colorbar": {
             "outlinewidth": 0,
             "ticks": ""
            },
            "colorscale": [
             [
              0,
              "#0d0887"
             ],
             [
              0.1111111111111111,
              "#46039f"
             ],
             [
              0.2222222222222222,
              "#7201a8"
             ],
             [
              0.3333333333333333,
              "#9c179e"
             ],
             [
              0.4444444444444444,
              "#bd3786"
             ],
             [
              0.5555555555555556,
              "#d8576b"
             ],
             [
              0.6666666666666666,
              "#ed7953"
             ],
             [
              0.7777777777777778,
              "#fb9f3a"
             ],
             [
              0.8888888888888888,
              "#fdca26"
             ],
             [
              1,
              "#f0f921"
             ]
            ],
            "type": "surface"
           }
          ],
          "table": [
           {
            "cells": {
             "fill": {
              "color": "#EBF0F8"
             },
             "line": {
              "color": "white"
             }
            },
            "header": {
             "fill": {
              "color": "#C8D4E3"
             },
             "line": {
              "color": "white"
             }
            },
            "type": "table"
           }
          ]
         },
         "layout": {
          "annotationdefaults": {
           "arrowcolor": "#2a3f5f",
           "arrowhead": 0,
           "arrowwidth": 1
          },
          "autotypenumbers": "strict",
          "coloraxis": {
           "colorbar": {
            "outlinewidth": 0,
            "ticks": ""
           }
          },
          "colorscale": {
           "diverging": [
            [
             0,
             "#8e0152"
            ],
            [
             0.1,
             "#c51b7d"
            ],
            [
             0.2,
             "#de77ae"
            ],
            [
             0.3,
             "#f1b6da"
            ],
            [
             0.4,
             "#fde0ef"
            ],
            [
             0.5,
             "#f7f7f7"
            ],
            [
             0.6,
             "#e6f5d0"
            ],
            [
             0.7,
             "#b8e186"
            ],
            [
             0.8,
             "#7fbc41"
            ],
            [
             0.9,
             "#4d9221"
            ],
            [
             1,
             "#276419"
            ]
           ],
           "sequential": [
            [
             0,
             "#0d0887"
            ],
            [
             0.1111111111111111,
             "#46039f"
            ],
            [
             0.2222222222222222,
             "#7201a8"
            ],
            [
             0.3333333333333333,
             "#9c179e"
            ],
            [
             0.4444444444444444,
             "#bd3786"
            ],
            [
             0.5555555555555556,
             "#d8576b"
            ],
            [
             0.6666666666666666,
             "#ed7953"
            ],
            [
             0.7777777777777778,
             "#fb9f3a"
            ],
            [
             0.8888888888888888,
             "#fdca26"
            ],
            [
             1,
             "#f0f921"
            ]
           ],
           "sequentialminus": [
            [
             0,
             "#0d0887"
            ],
            [
             0.1111111111111111,
             "#46039f"
            ],
            [
             0.2222222222222222,
             "#7201a8"
            ],
            [
             0.3333333333333333,
             "#9c179e"
            ],
            [
             0.4444444444444444,
             "#bd3786"
            ],
            [
             0.5555555555555556,
             "#d8576b"
            ],
            [
             0.6666666666666666,
             "#ed7953"
            ],
            [
             0.7777777777777778,
             "#fb9f3a"
            ],
            [
             0.8888888888888888,
             "#fdca26"
            ],
            [
             1,
             "#f0f921"
            ]
           ]
          },
          "colorway": [
           "#636efa",
           "#EF553B",
           "#00cc96",
           "#ab63fa",
           "#FFA15A",
           "#19d3f3",
           "#FF6692",
           "#B6E880",
           "#FF97FF",
           "#FECB52"
          ],
          "font": {
           "color": "#2a3f5f"
          },
          "geo": {
           "bgcolor": "white",
           "lakecolor": "white",
           "landcolor": "#E5ECF6",
           "showlakes": true,
           "showland": true,
           "subunitcolor": "white"
          },
          "hoverlabel": {
           "align": "left"
          },
          "hovermode": "closest",
          "mapbox": {
           "style": "light"
          },
          "paper_bgcolor": "white",
          "plot_bgcolor": "#E5ECF6",
          "polar": {
           "angularaxis": {
            "gridcolor": "white",
            "linecolor": "white",
            "ticks": ""
           },
           "bgcolor": "#E5ECF6",
           "radialaxis": {
            "gridcolor": "white",
            "linecolor": "white",
            "ticks": ""
           }
          },
          "scene": {
           "xaxis": {
            "backgroundcolor": "#E5ECF6",
            "gridcolor": "white",
            "gridwidth": 2,
            "linecolor": "white",
            "showbackground": true,
            "ticks": "",
            "zerolinecolor": "white"
           },
           "yaxis": {
            "backgroundcolor": "#E5ECF6",
            "gridcolor": "white",
            "gridwidth": 2,
            "linecolor": "white",
            "showbackground": true,
            "ticks": "",
            "zerolinecolor": "white"
           },
           "zaxis": {
            "backgroundcolor": "#E5ECF6",
            "gridcolor": "white",
            "gridwidth": 2,
            "linecolor": "white",
            "showbackground": true,
            "ticks": "",
            "zerolinecolor": "white"
           }
          },
          "shapedefaults": {
           "line": {
            "color": "#2a3f5f"
           }
          },
          "ternary": {
           "aaxis": {
            "gridcolor": "white",
            "linecolor": "white",
            "ticks": ""
           },
           "baxis": {
            "gridcolor": "white",
            "linecolor": "white",
            "ticks": ""
           },
           "bgcolor": "#E5ECF6",
           "caxis": {
            "gridcolor": "white",
            "linecolor": "white",
            "ticks": ""
           }
          },
          "title": {
           "x": 0.05
          },
          "xaxis": {
           "automargin": true,
           "gridcolor": "white",
           "linecolor": "white",
           "ticks": "",
           "title": {
            "standoff": 15
           },
           "zerolinecolor": "white",
           "zerolinewidth": 2
          },
          "yaxis": {
           "automargin": true,
           "gridcolor": "white",
           "linecolor": "white",
           "ticks": "",
           "title": {
            "standoff": 15
           },
           "zerolinecolor": "white",
           "zerolinewidth": 2
          }
         }
        },
        "title": {
         "text": "AOV by Category for Each Campaign in 2019",
         "x": 0.5
        },
        "width": 1200,
        "xaxis": {
         "anchor": "y",
         "domain": [
          0,
          0.235
         ],
         "title": {
          "text": "Category"
         }
        },
        "xaxis2": {
         "anchor": "y2",
         "domain": [
          0.255,
          0.49
         ],
         "matches": "x",
         "title": {
          "text": "Category"
         }
        },
        "xaxis3": {
         "anchor": "y3",
         "domain": [
          0.51,
          0.745
         ],
         "matches": "x",
         "title": {
          "text": "Category"
         }
        },
        "xaxis4": {
         "anchor": "y4",
         "domain": [
          0.7649999999999999,
          0.9999999999999999
         ],
         "matches": "x",
         "title": {
          "text": "Category"
         }
        },
        "yaxis": {
         "anchor": "x",
         "domain": [
          0,
          1
         ],
         "title": {
          "text": "Average Order Value (AOV)"
         }
        },
        "yaxis2": {
         "anchor": "x2",
         "domain": [
          0,
          1
         ],
         "matches": "y",
         "showticklabels": false
        },
        "yaxis3": {
         "anchor": "x3",
         "domain": [
          0,
          1
         ],
         "matches": "y",
         "showticklabels": false
        },
        "yaxis4": {
         "anchor": "x4",
         "domain": [
          0,
          1
         ],
         "matches": "y",
         "showticklabels": false
        }
       }
      }
     },
     "metadata": {},
     "output_type": "display_data"
    }
   ],
   "source": [
    "# Plot aov by category for each campaign in the chosen year\n",
    "plot_aov_by_category(metrics[5],chosen_year)"
   ]
  },
  {
   "cell_type": "markdown",
   "metadata": {},
   "source": [
    "### **What are the most effective marketing channels and campaigns?**\n",
    "From our analysis above, we can conclude that the most effective marketing channel is *YouTube* in recent years (2019 - 2020), followed by *Instagram* and lastly *TV*. \n",
    "\n",
    "In 2019, the most effective marketing campaigns are *Christmas*, followed by *Mid-Year Sale* and *Super Mart Sale*. From our **general analysis across all years**, the most effective marketing campaigns are ***Christmas* and *Mid-Year Sale***."
   ]
  },
  {
   "cell_type": "markdown",
   "metadata": {},
   "source": []
  }
 ],
 "metadata": {
  "kernelspec": {
   "display_name": "Python 3",
   "language": "python",
   "name": "python3"
  },
  "language_info": {
   "codemirror_mode": {
    "name": "ipython",
    "version": 3
   },
   "file_extension": ".py",
   "mimetype": "text/x-python",
   "name": "python",
   "nbconvert_exporter": "python",
   "pygments_lexer": "ipython3",
   "version": "3.13.0"
  }
 },
 "nbformat": 4,
 "nbformat_minor": 2
}

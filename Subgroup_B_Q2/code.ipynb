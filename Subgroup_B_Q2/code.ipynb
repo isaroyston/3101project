{
 "cells": [
  {
   "cell_type": "code",
   "execution_count": 1,
   "metadata": {},
   "outputs": [],
   "source": [
    "import pandas as pd\n",
    "import numpy as np\n",
    "import matplotlib.pyplot as plt\n",
    "from pandas.plotting import autocorrelation_plot\n",
    "import datetime as dt"
   ]
  },
  {
   "cell_type": "code",
   "execution_count": 2,
   "metadata": {},
   "outputs": [],
   "source": [
    "df = pd.read_excel(\"updated database.xlsx\")"
   ]
  },
  {
   "cell_type": "code",
   "execution_count": 3,
   "metadata": {},
   "outputs": [],
   "source": [
    "df.sort_values(by = [\"item_name\", \"Purchase_date\"], inplace = True)"
   ]
  },
  {
   "cell_type": "code",
   "execution_count": 4,
   "metadata": {},
   "outputs": [],
   "source": [
    "df[\"M\"] = df[\"Purchase_date\"].dt.to_period(\"M\")\n",
    "df[\"Q\"] = df[\"Purchase_date\"].dt.to_period(\"Q\")\n",
    "df[\"Year\"] = df[\"Purchase_date\"].dt.year\n",
    "df[\"Month\"] = df[\"Purchase_date\"].dt.month\n",
    "df[\"Day\"] = df[\"Purchase_date\"].dt.day"
   ]
  },
  {
   "cell_type": "code",
   "execution_count": 5,
   "metadata": {},
   "outputs": [],
   "source": [
    "def func(type):\n",
    "    if \"Beverage\" in type:\n",
    "        return \"Beverage\"\n",
    "    elif \"Dishware\" in type:\n",
    "        return \"Dishware\"\n",
    "    elif \"Coffee\" in type:\n",
    "        return \"Coffee Stuff\"\n",
    "    elif \"Snacks\" in type or \"Chips\" in type or \"Nuts\" in type:\n",
    "        return \"Snacks\"\n",
    "    elif \"Chocolate\" in type or \"Sweets\" in type:\n",
    "        return \"Sweets\"\n",
    "    else:\n",
    "        return type\n",
    "\n",
    "df[\"new_desc\"] = df[\"desc\"].map(func)"
   ]
  },
  {
   "cell_type": "code",
   "execution_count": 6,
   "metadata": {},
   "outputs": [],
   "source": [
    "product_categories = {\n",
    "    \"Beverage\":(5,6),\n",
    "    \"Dishware\":(11,12),\n",
    "    \"Food - Healthy\":(1,2),\n",
    "    \"Snacks\": (5,6),\n",
    "    \"Coffee Stuff\": (11,12),\n",
    "    \"Sweets\":(11,12),\n",
    "    \"Gum - Mints\": (5,6)\n",
    "}"
   ]
  },
  {
   "cell_type": "code",
   "execution_count": 7,
   "metadata": {},
   "outputs": [],
   "source": [
    "def func2(type, month, price):\n",
    "    if type not in product_categories:\n",
    "        return price\n",
    "    elif product_categories[type][0] <= month <= product_categories[type][1]:\n",
    "        return price * 1.05\n",
    "    else:\n",
    "        return price\n",
    "\n",
    "df[\"new_total_price\"] = df.apply(lambda x: func2(x[\"new_desc\"], x[\"Month\"], x[\"total_price\"]), axis = 1)"
   ]
  },
  {
   "cell_type": "code",
   "execution_count": 8,
   "metadata": {},
   "outputs": [],
   "source": [
    "df[\"Change\"] = df[\"new_total_price\"] - df[\"quantity_purchased\"] * df[\"unit_price\"]\n",
    "li = []\n",
    "for i in df[\"Change\"]:\n",
    "    if i > 0:\n",
    "        li.append(1)\n",
    "    elif i < 0: \n",
    "        li.append(-1)\n",
    "    else:\n",
    "        li.append(0)\n",
    "df[\"Change\"] = li"
   ]
  },
  {
   "cell_type": "code",
   "execution_count": 9,
   "metadata": {},
   "outputs": [],
   "source": [
    "X = df.drop(columns=[\"customer_key\",\"Change\",\"Time_of_purchase\",\"manufacturing_country\", \"supplier\",\"store_sub-district\",\"store_district\",\"Delivery_date\",\"Lead_time\",\"Purchase_date\",\"M\",\"Q\", \"total_price\",\"new_total_price\", \"desc\"])\n",
    "y = df[\"Change\"]"
   ]
  },
  {
   "cell_type": "code",
   "execution_count": 10,
   "metadata": {},
   "outputs": [
    {
     "data": {
      "text/plain": [
       "quantity_purchased      int64\n",
       "item_name              object\n",
       "unit_price              int64\n",
       "store_region           object\n",
       "Inventory_level       float64\n",
       "Inventory_cost          int64\n",
       "Year                    int32\n",
       "Month                   int32\n",
       "Day                     int32\n",
       "new_desc               object\n",
       "dtype: object"
      ]
     },
     "execution_count": 10,
     "metadata": {},
     "output_type": "execute_result"
    }
   ],
   "source": [
    "cats = [i for i in X.columns if X[i].dtype == \"object\"]\n",
    "X.dtypes"
   ]
  },
  {
   "cell_type": "code",
   "execution_count": 11,
   "metadata": {},
   "outputs": [],
   "source": [
    "X_enc = pd.get_dummies(X, columns = cats)"
   ]
  },
  {
   "cell_type": "code",
   "execution_count": 12,
   "metadata": {},
   "outputs": [],
   "source": [
    "from sklearn.model_selection import cross_validate\n",
    "from sklearn.tree import DecisionTreeClassifier\n",
    "from sklearn.ensemble import RandomForestClassifier\n",
    "from sklearn.ensemble import GradientBoostingClassifier"
   ]
  },
  {
   "cell_type": "code",
   "execution_count": 13,
   "metadata": {},
   "outputs": [
    {
     "data": {
      "text/plain": [
       "{'fit_time': array([17.91406608, 18.16551971,  7.12626719,  8.14591432,  8.47373509]),\n",
       " 'score_time': array([0.216048  , 0.1211381 , 0.17088223, 0.11431074, 0.09628654]),\n",
       " 'estimator': [DecisionTreeClassifier(),\n",
       "  DecisionTreeClassifier(),\n",
       "  DecisionTreeClassifier(),\n",
       "  DecisionTreeClassifier(),\n",
       "  DecisionTreeClassifier()],\n",
       " 'test_score': array([0.88632 , 0.952135, 0.88653 , 0.89013 , 0.839575])}"
      ]
     },
     "execution_count": 13,
     "metadata": {},
     "output_type": "execute_result"
    }
   ],
   "source": [
    "dt = DecisionTreeClassifier()\n",
    "rf = RandomForestClassifier()\n",
    "gb = GradientBoostingClassifier()\n",
    "\n",
    "models = [dt,rf,gb]\n",
    "dt_cv = cross_validate(dt, X_enc, y, cv=5, scoring= \"accuracy\", return_estimator= True)\n",
    "dt_cv"
   ]
  },
  {
   "cell_type": "code",
   "execution_count": 14,
   "metadata": {},
   "outputs": [
    {
     "data": {
      "text/plain": [
       "Month                 0.274054\n",
       "unit_price            0.151956\n",
       "quantity_purchased    0.076985\n",
       "new_desc_Beverage     0.061895\n",
       "new_desc_Sweets       0.044110\n",
       "dtype: float64"
      ]
     },
     "execution_count": 14,
     "metadata": {},
     "output_type": "execute_result"
    }
   ],
   "source": [
    "li = []\n",
    "for idx,estimator in enumerate(dt_cv['estimator']):\n",
    "    feature_importances = pd.DataFrame(estimator.feature_importances_,\n",
    "                                       index = X_enc.columns,\n",
    "                                        columns=['importance']).sort_values('importance', ascending=False)\n",
    "    li.append(feature_importances)\n",
    "\n",
    "pd.concat(li, axis = 1).mean(axis=1).sort_values(ascending=False).head()"
   ]
  },
  {
   "cell_type": "code",
   "execution_count": 15,
   "metadata": {},
   "outputs": [
    {
     "data": {
      "text/plain": [
       "{'fit_time': array([124.39472318, 124.60781169, 124.66962862, 131.55884862,\n",
       "        120.91271591]),\n",
       " 'score_time': array([2.62022781, 2.39450336, 2.1837914 , 2.43301868, 2.32248116]),\n",
       " 'estimator': [RandomForestClassifier(),\n",
       "  RandomForestClassifier(),\n",
       "  RandomForestClassifier(),\n",
       "  RandomForestClassifier(),\n",
       "  RandomForestClassifier()],\n",
       " 'test_score': array([0.87267 , 0.847745, 0.88425 , 0.805825, 0.83201 ])}"
      ]
     },
     "execution_count": 15,
     "metadata": {},
     "output_type": "execute_result"
    }
   ],
   "source": [
    "rf_cv = cross_validate(rf, X_enc, y, cv=5, scoring= \"accuracy\", return_estimator= True)\n",
    "rf_cv"
   ]
  },
  {
   "cell_type": "code",
   "execution_count": 16,
   "metadata": {},
   "outputs": [
    {
     "data": {
      "text/plain": [
       "{'fit_time': array([ 1051.71907091,   975.18621683,   959.38928676,   903.90493107,\n",
       "        12309.40265059]),\n",
       " 'score_time': array([2.36678815, 2.40625763, 2.03237581, 2.53728724, 2.48424387]),\n",
       " 'estimator': [GradientBoostingClassifier(),\n",
       "  GradientBoostingClassifier(),\n",
       "  GradientBoostingClassifier(),\n",
       "  GradientBoostingClassifier(),\n",
       "  GradientBoostingClassifier()],\n",
       " 'test_score': array([0.864565, 0.93571 , 0.96787 , 0.8973  , 0.888575])}"
      ]
     },
     "execution_count": 16,
     "metadata": {},
     "output_type": "execute_result"
    }
   ],
   "source": [
    "gb_cv = cross_validate(gb, X_enc, y, cv=5, scoring= \"accuracy\", return_estimator= True)\n",
    "gb_cv"
   ]
  },
  {
   "cell_type": "code",
   "execution_count": 17,
   "metadata": {},
   "outputs": [
    {
     "name": "stdout",
     "output_type": "stream",
     "text": [
      "hello\n"
     ]
    }
   ],
   "source": [
    "print(\"hello\")"
   ]
  },
  {
   "cell_type": "code",
   "execution_count": null,
   "metadata": {},
   "outputs": [],
   "source": []
  }
 ],
 "metadata": {
  "kernelspec": {
   "display_name": "Python 3",
   "language": "python",
   "name": "python3"
  },
  "language_info": {
   "codemirror_mode": {
    "name": "ipython",
    "version": 3
   },
   "file_extension": ".py",
   "mimetype": "text/x-python",
   "name": "python",
   "nbconvert_exporter": "python",
   "pygments_lexer": "ipython3",
   "version": "3.10.12"
  }
 },
 "nbformat": 4,
 "nbformat_minor": 2
}

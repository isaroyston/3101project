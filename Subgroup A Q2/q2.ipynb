{
 "cells": [
  {
   "cell_type": "markdown",
   "metadata": {},
   "source": [
    "## Question 2: How can we improve customer retention and lifetime value?\n",
    "### Import packages"
   ]
  },
  {
   "cell_type": "code",
   "execution_count": 1,
   "metadata": {},
   "outputs": [],
   "source": [
    "import pandas as pd\n",
    "import numpy as np\n",
    "import matplotlib.pyplot as plt\n",
    "import plotly.express as px\n",
    "import seaborn as sns\n",
    "from q2 import *"
   ]
  },
  {
   "cell_type": "markdown",
   "metadata": {},
   "source": [
    "### Data cleaning"
   ]
  },
  {
   "cell_type": "code",
   "execution_count": null,
   "metadata": {},
   "outputs": [
    {
     "data": {
      "text/html": [
       "<div>\n",
       "<style scoped>\n",
       "    .dataframe tbody tr th:only-of-type {\n",
       "        vertical-align: middle;\n",
       "    }\n",
       "\n",
       "    .dataframe tbody tr th {\n",
       "        vertical-align: top;\n",
       "    }\n",
       "\n",
       "    .dataframe thead th {\n",
       "        text-align: right;\n",
       "    }\n",
       "</style>\n",
       "<table border=\"1\" class=\"dataframe\">\n",
       "  <thead>\n",
       "    <tr style=\"text-align: right;\">\n",
       "      <th></th>\n",
       "      <th>customer_key</th>\n",
       "      <th>total_price</th>\n",
       "      <th>purchase_date</th>\n",
       "      <th>description</th>\n",
       "      <th>revenue</th>\n",
       "      <th>campaign_key</th>\n",
       "      <th>mkt_chnl_key</th>\n",
       "      <th>year</th>\n",
       "      <th>campaign_name</th>\n",
       "      <th>category</th>\n",
       "    </tr>\n",
       "  </thead>\n",
       "  <tbody>\n",
       "    <tr>\n",
       "      <th>0</th>\n",
       "      <td>C002181</td>\n",
       "      <td>56.0</td>\n",
       "      <td>2014-01-20</td>\n",
       "      <td>Dishware - Cups Hot</td>\n",
       "      <td>36.0</td>\n",
       "      <td>NaN</td>\n",
       "      <td>NaN</td>\n",
       "      <td>2014</td>\n",
       "      <td>NaN</td>\n",
       "      <td>Dishware</td>\n",
       "    </tr>\n",
       "    <tr>\n",
       "      <th>1</th>\n",
       "      <td>C005518</td>\n",
       "      <td>64.0</td>\n",
       "      <td>2014-01-20</td>\n",
       "      <td>Food - Healthy</td>\n",
       "      <td>8.0</td>\n",
       "      <td>NaN</td>\n",
       "      <td>NaN</td>\n",
       "      <td>2014</td>\n",
       "      <td>NaN</td>\n",
       "      <td>Food</td>\n",
       "    </tr>\n",
       "    <tr>\n",
       "      <th>2</th>\n",
       "      <td>C002449</td>\n",
       "      <td>102.0</td>\n",
       "      <td>2014-01-20</td>\n",
       "      <td>Coffee Ground</td>\n",
       "      <td>30.0</td>\n",
       "      <td>NaN</td>\n",
       "      <td>NaN</td>\n",
       "      <td>2014</td>\n",
       "      <td>NaN</td>\n",
       "      <td>Coffee Products</td>\n",
       "    </tr>\n",
       "    <tr>\n",
       "      <th>3</th>\n",
       "      <td>C005284</td>\n",
       "      <td>52.0</td>\n",
       "      <td>2014-01-20</td>\n",
       "      <td>Food - Sweets</td>\n",
       "      <td>40.0</td>\n",
       "      <td>NaN</td>\n",
       "      <td>NaN</td>\n",
       "      <td>2014</td>\n",
       "      <td>NaN</td>\n",
       "      <td>Food</td>\n",
       "    </tr>\n",
       "    <tr>\n",
       "      <th>4</th>\n",
       "      <td>C007996</td>\n",
       "      <td>102.0</td>\n",
       "      <td>2014-01-20</td>\n",
       "      <td>Food - Healthy</td>\n",
       "      <td>18.0</td>\n",
       "      <td>NaN</td>\n",
       "      <td>NaN</td>\n",
       "      <td>2014</td>\n",
       "      <td>NaN</td>\n",
       "      <td>Food</td>\n",
       "    </tr>\n",
       "    <tr>\n",
       "      <th>...</th>\n",
       "      <td>...</td>\n",
       "      <td>...</td>\n",
       "      <td>...</td>\n",
       "      <td>...</td>\n",
       "      <td>...</td>\n",
       "      <td>...</td>\n",
       "      <td>...</td>\n",
       "      <td>...</td>\n",
       "      <td>...</td>\n",
       "      <td>...</td>\n",
       "    </tr>\n",
       "    <tr>\n",
       "      <th>991662</th>\n",
       "      <td>C002942</td>\n",
       "      <td>583.0</td>\n",
       "      <td>2020-12-31</td>\n",
       "      <td>Coffee K-Cups</td>\n",
       "      <td>484.0</td>\n",
       "      <td>2020-XMS-DEC</td>\n",
       "      <td>MKT-YOUTUBE-CHR-2020</td>\n",
       "      <td>2020</td>\n",
       "      <td>Christmas</td>\n",
       "      <td>Coffee Products</td>\n",
       "    </tr>\n",
       "    <tr>\n",
       "      <th>991663</th>\n",
       "      <td>C005082</td>\n",
       "      <td>84.0</td>\n",
       "      <td>2020-12-31</td>\n",
       "      <td>a. Beverage - Soda</td>\n",
       "      <td>36.0</td>\n",
       "      <td>2020-XMS-DEC</td>\n",
       "      <td>NaN</td>\n",
       "      <td>2020</td>\n",
       "      <td>Christmas</td>\n",
       "      <td>Beverage</td>\n",
       "    </tr>\n",
       "    <tr>\n",
       "      <th>991664</th>\n",
       "      <td>C006247</td>\n",
       "      <td>98.0</td>\n",
       "      <td>2020-12-31</td>\n",
       "      <td>a. Beverage - Soda</td>\n",
       "      <td>14.0</td>\n",
       "      <td>2020-XMS-DEC</td>\n",
       "      <td>NaN</td>\n",
       "      <td>2020</td>\n",
       "      <td>Christmas</td>\n",
       "      <td>Beverage</td>\n",
       "    </tr>\n",
       "    <tr>\n",
       "      <th>991665</th>\n",
       "      <td>C006497</td>\n",
       "      <td>80.0</td>\n",
       "      <td>2020-12-31</td>\n",
       "      <td>Dishware - Plates</td>\n",
       "      <td>64.0</td>\n",
       "      <td>2020-XMS-DEC</td>\n",
       "      <td>NaN</td>\n",
       "      <td>2020</td>\n",
       "      <td>Christmas</td>\n",
       "      <td>Dishware</td>\n",
       "    </tr>\n",
       "    <tr>\n",
       "      <th>991666</th>\n",
       "      <td>C008706</td>\n",
       "      <td>64.0</td>\n",
       "      <td>2020-12-31</td>\n",
       "      <td>a. Beverage - Soda</td>\n",
       "      <td>32.0</td>\n",
       "      <td>2020-XMS-DEC</td>\n",
       "      <td>NaN</td>\n",
       "      <td>2020</td>\n",
       "      <td>Christmas</td>\n",
       "      <td>Beverage</td>\n",
       "    </tr>\n",
       "  </tbody>\n",
       "</table>\n",
       "<p>991667 rows × 10 columns</p>\n",
       "</div>"
      ],
      "text/plain": [
       "       customer_key  total_price purchase_date          description  revenue  \\\n",
       "0           C002181         56.0    2014-01-20  Dishware - Cups Hot     36.0   \n",
       "1           C005518         64.0    2014-01-20       Food - Healthy      8.0   \n",
       "2           C002449        102.0    2014-01-20        Coffee Ground     30.0   \n",
       "3           C005284         52.0    2014-01-20        Food - Sweets     40.0   \n",
       "4           C007996        102.0    2014-01-20       Food - Healthy     18.0   \n",
       "...             ...          ...           ...                  ...      ...   \n",
       "991662      C002942        583.0    2020-12-31        Coffee K-Cups    484.0   \n",
       "991663      C005082         84.0    2020-12-31   a. Beverage - Soda     36.0   \n",
       "991664      C006247         98.0    2020-12-31   a. Beverage - Soda     14.0   \n",
       "991665      C006497         80.0    2020-12-31    Dishware - Plates     64.0   \n",
       "991666      C008706         64.0    2020-12-31   a. Beverage - Soda     32.0   \n",
       "\n",
       "        campaign_key          mkt_chnl_key  year campaign_name  \\\n",
       "0                NaN                   NaN  2014           NaN   \n",
       "1                NaN                   NaN  2014           NaN   \n",
       "2                NaN                   NaN  2014           NaN   \n",
       "3                NaN                   NaN  2014           NaN   \n",
       "4                NaN                   NaN  2014           NaN   \n",
       "...              ...                   ...   ...           ...   \n",
       "991662  2020-XMS-DEC  MKT-YOUTUBE-CHR-2020  2020     Christmas   \n",
       "991663  2020-XMS-DEC                   NaN  2020     Christmas   \n",
       "991664  2020-XMS-DEC                   NaN  2020     Christmas   \n",
       "991665  2020-XMS-DEC                   NaN  2020     Christmas   \n",
       "991666  2020-XMS-DEC                   NaN  2020     Christmas   \n",
       "\n",
       "               category  \n",
       "0              Dishware  \n",
       "1                  Food  \n",
       "2       Coffee Products  \n",
       "3                  Food  \n",
       "4                  Food  \n",
       "...                 ...  \n",
       "991662  Coffee Products  \n",
       "991663         Beverage  \n",
       "991664         Beverage  \n",
       "991665         Dishware  \n",
       "991666         Beverage  \n",
       "\n",
       "[991667 rows x 10 columns]"
      ]
     },
     "execution_count": 2,
     "metadata": {},
     "output_type": "execute_result"
    }
   ],
   "source": [
    "# Read data\n",
    "df = pd.read_csv('../../data.csv', low_memory=False)\n",
    "\n",
    "# Data cleaning\n",
    "df['purchase_date'] = pd.to_datetime(df['purchase_date'])\n",
    "df['year'] = df['purchase_date'].dt.year  # Extract the year\n",
    "\n",
    "# Select required columns for churn analysis\n",
    "churn_df = df[['customer_key', 'purchase_date']]\n",
    "\n",
    "# Filter out rows from 2021 onwards for CLV analysis\n",
    "df = df[df['year'] < 2021]  \n",
    "\n",
    "# Select required columns\n",
    "df = df[['customer_key', 'total_price', 'purchase_date', 'description', 'revenue', 'campaign_key', 'mkt_chnl_key', 'year', 'campaign_name','category']]\n",
    "\n",
    "df"
   ]
  },
  {
   "cell_type": "markdown",
   "metadata": {},
   "source": [
    "### **Definition of Churn Rate**\n",
    "Churn Rate is the **percentage of customers who stop purchasing products from our ecommerce store over a defined period of time.**\n",
    "\n",
    "In our analysis, we will take **Churn Rate** as:\n",
    "\n",
    "$$\n",
    "\\text{Churn Rate} = \\frac{\\text{Number of customers who did not make a purchase}}{\\text{Total number of unique customers}} \\times 100\n",
    "$$\n",
    "### **Yearly Churn Rate**"
   ]
  },
  {
   "cell_type": "code",
   "execution_count": 3,
   "metadata": {},
   "outputs": [
    {
     "data": {
      "application/vnd.plotly.v1+json": {
       "config": {
        "plotlyServerURL": "https://plot.ly"
       },
       "data": [
        {
         "hovertemplate": "Year=%{x}<br>Churn Rate (%)=%{y}<extra></extra>",
         "legendgroup": "",
         "line": {
          "color": "#636efa",
          "dash": "solid"
         },
         "marker": {
          "symbol": "circle"
         },
         "mode": "lines",
         "name": "",
         "orientation": "v",
         "showlegend": false,
         "type": "scatter",
         "x": [
          "2014",
          "2015",
          "2016",
          "2017",
          "2018",
          "2019",
          "2020",
          "2021"
         ],
         "xaxis": "x",
         "y": [
          0,
          0,
          0,
          0,
          0,
          0,
          0,
          0
         ],
         "yaxis": "y"
        }
       ],
       "layout": {
        "hovermode": "x unified",
        "legend": {
         "tracegroupgap": 0
        },
        "template": {
         "data": {
          "bar": [
           {
            "error_x": {
             "color": "#2a3f5f"
            },
            "error_y": {
             "color": "#2a3f5f"
            },
            "marker": {
             "line": {
              "color": "#E5ECF6",
              "width": 0.5
             },
             "pattern": {
              "fillmode": "overlay",
              "size": 10,
              "solidity": 0.2
             }
            },
            "type": "bar"
           }
          ],
          "barpolar": [
           {
            "marker": {
             "line": {
              "color": "#E5ECF6",
              "width": 0.5
             },
             "pattern": {
              "fillmode": "overlay",
              "size": 10,
              "solidity": 0.2
             }
            },
            "type": "barpolar"
           }
          ],
          "carpet": [
           {
            "aaxis": {
             "endlinecolor": "#2a3f5f",
             "gridcolor": "white",
             "linecolor": "white",
             "minorgridcolor": "white",
             "startlinecolor": "#2a3f5f"
            },
            "baxis": {
             "endlinecolor": "#2a3f5f",
             "gridcolor": "white",
             "linecolor": "white",
             "minorgridcolor": "white",
             "startlinecolor": "#2a3f5f"
            },
            "type": "carpet"
           }
          ],
          "choropleth": [
           {
            "colorbar": {
             "outlinewidth": 0,
             "ticks": ""
            },
            "type": "choropleth"
           }
          ],
          "contour": [
           {
            "colorbar": {
             "outlinewidth": 0,
             "ticks": ""
            },
            "colorscale": [
             [
              0,
              "#0d0887"
             ],
             [
              0.1111111111111111,
              "#46039f"
             ],
             [
              0.2222222222222222,
              "#7201a8"
             ],
             [
              0.3333333333333333,
              "#9c179e"
             ],
             [
              0.4444444444444444,
              "#bd3786"
             ],
             [
              0.5555555555555556,
              "#d8576b"
             ],
             [
              0.6666666666666666,
              "#ed7953"
             ],
             [
              0.7777777777777778,
              "#fb9f3a"
             ],
             [
              0.8888888888888888,
              "#fdca26"
             ],
             [
              1,
              "#f0f921"
             ]
            ],
            "type": "contour"
           }
          ],
          "contourcarpet": [
           {
            "colorbar": {
             "outlinewidth": 0,
             "ticks": ""
            },
            "type": "contourcarpet"
           }
          ],
          "heatmap": [
           {
            "colorbar": {
             "outlinewidth": 0,
             "ticks": ""
            },
            "colorscale": [
             [
              0,
              "#0d0887"
             ],
             [
              0.1111111111111111,
              "#46039f"
             ],
             [
              0.2222222222222222,
              "#7201a8"
             ],
             [
              0.3333333333333333,
              "#9c179e"
             ],
             [
              0.4444444444444444,
              "#bd3786"
             ],
             [
              0.5555555555555556,
              "#d8576b"
             ],
             [
              0.6666666666666666,
              "#ed7953"
             ],
             [
              0.7777777777777778,
              "#fb9f3a"
             ],
             [
              0.8888888888888888,
              "#fdca26"
             ],
             [
              1,
              "#f0f921"
             ]
            ],
            "type": "heatmap"
           }
          ],
          "heatmapgl": [
           {
            "colorbar": {
             "outlinewidth": 0,
             "ticks": ""
            },
            "colorscale": [
             [
              0,
              "#0d0887"
             ],
             [
              0.1111111111111111,
              "#46039f"
             ],
             [
              0.2222222222222222,
              "#7201a8"
             ],
             [
              0.3333333333333333,
              "#9c179e"
             ],
             [
              0.4444444444444444,
              "#bd3786"
             ],
             [
              0.5555555555555556,
              "#d8576b"
             ],
             [
              0.6666666666666666,
              "#ed7953"
             ],
             [
              0.7777777777777778,
              "#fb9f3a"
             ],
             [
              0.8888888888888888,
              "#fdca26"
             ],
             [
              1,
              "#f0f921"
             ]
            ],
            "type": "heatmapgl"
           }
          ],
          "histogram": [
           {
            "marker": {
             "pattern": {
              "fillmode": "overlay",
              "size": 10,
              "solidity": 0.2
             }
            },
            "type": "histogram"
           }
          ],
          "histogram2d": [
           {
            "colorbar": {
             "outlinewidth": 0,
             "ticks": ""
            },
            "colorscale": [
             [
              0,
              "#0d0887"
             ],
             [
              0.1111111111111111,
              "#46039f"
             ],
             [
              0.2222222222222222,
              "#7201a8"
             ],
             [
              0.3333333333333333,
              "#9c179e"
             ],
             [
              0.4444444444444444,
              "#bd3786"
             ],
             [
              0.5555555555555556,
              "#d8576b"
             ],
             [
              0.6666666666666666,
              "#ed7953"
             ],
             [
              0.7777777777777778,
              "#fb9f3a"
             ],
             [
              0.8888888888888888,
              "#fdca26"
             ],
             [
              1,
              "#f0f921"
             ]
            ],
            "type": "histogram2d"
           }
          ],
          "histogram2dcontour": [
           {
            "colorbar": {
             "outlinewidth": 0,
             "ticks": ""
            },
            "colorscale": [
             [
              0,
              "#0d0887"
             ],
             [
              0.1111111111111111,
              "#46039f"
             ],
             [
              0.2222222222222222,
              "#7201a8"
             ],
             [
              0.3333333333333333,
              "#9c179e"
             ],
             [
              0.4444444444444444,
              "#bd3786"
             ],
             [
              0.5555555555555556,
              "#d8576b"
             ],
             [
              0.6666666666666666,
              "#ed7953"
             ],
             [
              0.7777777777777778,
              "#fb9f3a"
             ],
             [
              0.8888888888888888,
              "#fdca26"
             ],
             [
              1,
              "#f0f921"
             ]
            ],
            "type": "histogram2dcontour"
           }
          ],
          "mesh3d": [
           {
            "colorbar": {
             "outlinewidth": 0,
             "ticks": ""
            },
            "type": "mesh3d"
           }
          ],
          "parcoords": [
           {
            "line": {
             "colorbar": {
              "outlinewidth": 0,
              "ticks": ""
             }
            },
            "type": "parcoords"
           }
          ],
          "pie": [
           {
            "automargin": true,
            "type": "pie"
           }
          ],
          "scatter": [
           {
            "fillpattern": {
             "fillmode": "overlay",
             "size": 10,
             "solidity": 0.2
            },
            "type": "scatter"
           }
          ],
          "scatter3d": [
           {
            "line": {
             "colorbar": {
              "outlinewidth": 0,
              "ticks": ""
             }
            },
            "marker": {
             "colorbar": {
              "outlinewidth": 0,
              "ticks": ""
             }
            },
            "type": "scatter3d"
           }
          ],
          "scattercarpet": [
           {
            "marker": {
             "colorbar": {
              "outlinewidth": 0,
              "ticks": ""
             }
            },
            "type": "scattercarpet"
           }
          ],
          "scattergeo": [
           {
            "marker": {
             "colorbar": {
              "outlinewidth": 0,
              "ticks": ""
             }
            },
            "type": "scattergeo"
           }
          ],
          "scattergl": [
           {
            "marker": {
             "colorbar": {
              "outlinewidth": 0,
              "ticks": ""
             }
            },
            "type": "scattergl"
           }
          ],
          "scattermapbox": [
           {
            "marker": {
             "colorbar": {
              "outlinewidth": 0,
              "ticks": ""
             }
            },
            "type": "scattermapbox"
           }
          ],
          "scatterpolar": [
           {
            "marker": {
             "colorbar": {
              "outlinewidth": 0,
              "ticks": ""
             }
            },
            "type": "scatterpolar"
           }
          ],
          "scatterpolargl": [
           {
            "marker": {
             "colorbar": {
              "outlinewidth": 0,
              "ticks": ""
             }
            },
            "type": "scatterpolargl"
           }
          ],
          "scatterternary": [
           {
            "marker": {
             "colorbar": {
              "outlinewidth": 0,
              "ticks": ""
             }
            },
            "type": "scatterternary"
           }
          ],
          "surface": [
           {
            "colorbar": {
             "outlinewidth": 0,
             "ticks": ""
            },
            "colorscale": [
             [
              0,
              "#0d0887"
             ],
             [
              0.1111111111111111,
              "#46039f"
             ],
             [
              0.2222222222222222,
              "#7201a8"
             ],
             [
              0.3333333333333333,
              "#9c179e"
             ],
             [
              0.4444444444444444,
              "#bd3786"
             ],
             [
              0.5555555555555556,
              "#d8576b"
             ],
             [
              0.6666666666666666,
              "#ed7953"
             ],
             [
              0.7777777777777778,
              "#fb9f3a"
             ],
             [
              0.8888888888888888,
              "#fdca26"
             ],
             [
              1,
              "#f0f921"
             ]
            ],
            "type": "surface"
           }
          ],
          "table": [
           {
            "cells": {
             "fill": {
              "color": "#EBF0F8"
             },
             "line": {
              "color": "white"
             }
            },
            "header": {
             "fill": {
              "color": "#C8D4E3"
             },
             "line": {
              "color": "white"
             }
            },
            "type": "table"
           }
          ]
         },
         "layout": {
          "annotationdefaults": {
           "arrowcolor": "#2a3f5f",
           "arrowhead": 0,
           "arrowwidth": 1
          },
          "autotypenumbers": "strict",
          "coloraxis": {
           "colorbar": {
            "outlinewidth": 0,
            "ticks": ""
           }
          },
          "colorscale": {
           "diverging": [
            [
             0,
             "#8e0152"
            ],
            [
             0.1,
             "#c51b7d"
            ],
            [
             0.2,
             "#de77ae"
            ],
            [
             0.3,
             "#f1b6da"
            ],
            [
             0.4,
             "#fde0ef"
            ],
            [
             0.5,
             "#f7f7f7"
            ],
            [
             0.6,
             "#e6f5d0"
            ],
            [
             0.7,
             "#b8e186"
            ],
            [
             0.8,
             "#7fbc41"
            ],
            [
             0.9,
             "#4d9221"
            ],
            [
             1,
             "#276419"
            ]
           ],
           "sequential": [
            [
             0,
             "#0d0887"
            ],
            [
             0.1111111111111111,
             "#46039f"
            ],
            [
             0.2222222222222222,
             "#7201a8"
            ],
            [
             0.3333333333333333,
             "#9c179e"
            ],
            [
             0.4444444444444444,
             "#bd3786"
            ],
            [
             0.5555555555555556,
             "#d8576b"
            ],
            [
             0.6666666666666666,
             "#ed7953"
            ],
            [
             0.7777777777777778,
             "#fb9f3a"
            ],
            [
             0.8888888888888888,
             "#fdca26"
            ],
            [
             1,
             "#f0f921"
            ]
           ],
           "sequentialminus": [
            [
             0,
             "#0d0887"
            ],
            [
             0.1111111111111111,
             "#46039f"
            ],
            [
             0.2222222222222222,
             "#7201a8"
            ],
            [
             0.3333333333333333,
             "#9c179e"
            ],
            [
             0.4444444444444444,
             "#bd3786"
            ],
            [
             0.5555555555555556,
             "#d8576b"
            ],
            [
             0.6666666666666666,
             "#ed7953"
            ],
            [
             0.7777777777777778,
             "#fb9f3a"
            ],
            [
             0.8888888888888888,
             "#fdca26"
            ],
            [
             1,
             "#f0f921"
            ]
           ]
          },
          "colorway": [
           "#636efa",
           "#EF553B",
           "#00cc96",
           "#ab63fa",
           "#FFA15A",
           "#19d3f3",
           "#FF6692",
           "#B6E880",
           "#FF97FF",
           "#FECB52"
          ],
          "font": {
           "color": "#2a3f5f"
          },
          "geo": {
           "bgcolor": "white",
           "lakecolor": "white",
           "landcolor": "#E5ECF6",
           "showlakes": true,
           "showland": true,
           "subunitcolor": "white"
          },
          "hoverlabel": {
           "align": "left"
          },
          "hovermode": "closest",
          "mapbox": {
           "style": "light"
          },
          "paper_bgcolor": "white",
          "plot_bgcolor": "#E5ECF6",
          "polar": {
           "angularaxis": {
            "gridcolor": "white",
            "linecolor": "white",
            "ticks": ""
           },
           "bgcolor": "#E5ECF6",
           "radialaxis": {
            "gridcolor": "white",
            "linecolor": "white",
            "ticks": ""
           }
          },
          "scene": {
           "xaxis": {
            "backgroundcolor": "#E5ECF6",
            "gridcolor": "white",
            "gridwidth": 2,
            "linecolor": "white",
            "showbackground": true,
            "ticks": "",
            "zerolinecolor": "white"
           },
           "yaxis": {
            "backgroundcolor": "#E5ECF6",
            "gridcolor": "white",
            "gridwidth": 2,
            "linecolor": "white",
            "showbackground": true,
            "ticks": "",
            "zerolinecolor": "white"
           },
           "zaxis": {
            "backgroundcolor": "#E5ECF6",
            "gridcolor": "white",
            "gridwidth": 2,
            "linecolor": "white",
            "showbackground": true,
            "ticks": "",
            "zerolinecolor": "white"
           }
          },
          "shapedefaults": {
           "line": {
            "color": "#2a3f5f"
           }
          },
          "ternary": {
           "aaxis": {
            "gridcolor": "white",
            "linecolor": "white",
            "ticks": ""
           },
           "baxis": {
            "gridcolor": "white",
            "linecolor": "white",
            "ticks": ""
           },
           "bgcolor": "#E5ECF6",
           "caxis": {
            "gridcolor": "white",
            "linecolor": "white",
            "ticks": ""
           }
          },
          "title": {
           "x": 0.05
          },
          "xaxis": {
           "automargin": true,
           "gridcolor": "white",
           "linecolor": "white",
           "ticks": "",
           "title": {
            "standoff": 15
           },
           "zerolinecolor": "white",
           "zerolinewidth": 2
          },
          "yaxis": {
           "automargin": true,
           "gridcolor": "white",
           "linecolor": "white",
           "ticks": "",
           "title": {
            "standoff": 15
           },
           "zerolinecolor": "white",
           "zerolinewidth": 2
          }
         }
        },
        "title": {
         "text": "Yearly Churn Rate"
        },
        "xaxis": {
         "anchor": "y",
         "domain": [
          0,
          1
         ],
         "title": {
          "text": "Year"
         }
        },
        "yaxis": {
         "anchor": "x",
         "domain": [
          0,
          1
         ],
         "title": {
          "text": "Churn Rate (%)"
         }
        }
       }
      }
     },
     "metadata": {},
     "output_type": "display_data"
    }
   ],
   "source": [
    "# Calculate the yearly churn rate\n",
    "yearly_churn_df = yearly_churn(churn_df)\n",
    "\n",
    "# Plot the yearly churn rate\n",
    "plot_yearly_graph(yearly_churn_df)"
   ]
  },
  {
   "cell_type": "markdown",
   "metadata": {},
   "source": [
    "### **Monthly Churn Rate**"
   ]
  },
  {
   "cell_type": "code",
   "execution_count": 6,
   "metadata": {},
   "outputs": [
    {
     "name": "stdout",
     "output_type": "stream",
     "text": [
      "      month  churn_rate\n",
      "0   2014-02    0.000000\n",
      "1   2014-03   29.215509\n",
      "2   2014-04   27.043734\n",
      "3   2014-05   27.042422\n",
      "4   2014-06   27.588262\n",
      "..      ...         ...\n",
      "79  2020-09   25.953628\n",
      "80  2020-10   27.461981\n",
      "81  2020-11   25.728885\n",
      "82  2020-12   28.029969\n",
      "83  2021-01   26.895088\n",
      "\n",
      "[84 rows x 2 columns]\n"
     ]
    }
   ],
   "source": [
    "# Calculate the monthly churn rate\n",
    "monthly_churn_df = monthly_churn(churn_df)\n",
    "print(monthly_churn_df)"
   ]
  },
  {
   "cell_type": "markdown",
   "metadata": {},
   "source": [
    "### **Data Visualisations of Monthly Churn Rate**\n",
    "#### **1. Line graph of monthly churn rate from 2014 to 2021**"
   ]
  },
  {
   "cell_type": "code",
   "execution_count": 7,
   "metadata": {},
   "outputs": [
    {
     "data": {
      "application/vnd.plotly.v1+json": {
       "config": {
        "plotlyServerURL": "https://plot.ly"
       },
       "data": [
        {
         "hovertemplate": "Month=%{x}<br>Churn Rate (%)=%{y}<extra></extra>",
         "legendgroup": "",
         "line": {
          "color": "#636efa",
          "dash": "solid"
         },
         "marker": {
          "symbol": "circle"
         },
         "mode": "lines",
         "name": "",
         "orientation": "v",
         "showlegend": false,
         "type": "scatter",
         "x": [
          "2014-02",
          "2014-03",
          "2014-04",
          "2014-05",
          "2014-06",
          "2014-07",
          "2014-08",
          "2014-09",
          "2014-10",
          "2014-11",
          "2014-12",
          "2015-01",
          "2015-02",
          "2015-03",
          "2015-04",
          "2015-05",
          "2015-06",
          "2015-07",
          "2015-08",
          "2015-09",
          "2015-10",
          "2015-11",
          "2015-12",
          "2016-01",
          "2016-02",
          "2016-03",
          "2016-04",
          "2016-05",
          "2016-06",
          "2016-07",
          "2016-08",
          "2016-09",
          "2016-10",
          "2016-11",
          "2016-12",
          "2017-01",
          "2017-02",
          "2017-03",
          "2017-04",
          "2017-05",
          "2017-06",
          "2017-07",
          "2017-08",
          "2017-09",
          "2017-10",
          "2017-11",
          "2017-12",
          "2018-01",
          "2018-02",
          "2018-03",
          "2018-04",
          "2018-05",
          "2018-06",
          "2018-07",
          "2018-08",
          "2018-09",
          "2018-10",
          "2018-11",
          "2018-12",
          "2019-01",
          "2019-02",
          "2019-03",
          "2019-04",
          "2019-05",
          "2019-06",
          "2019-07",
          "2019-08",
          "2019-09",
          "2019-10",
          "2019-11",
          "2019-12",
          "2020-01",
          "2020-02",
          "2020-03",
          "2020-04",
          "2020-05",
          "2020-06",
          "2020-07",
          "2020-08",
          "2020-09",
          "2020-10",
          "2020-11",
          "2020-12",
          "2021-01"
         ],
         "xaxis": "x",
         "y": [
          0,
          29.215509467989182,
          27.043733580590324,
          27.042422425423474,
          27.588261582005064,
          26.813974320692747,
          25.734307439988076,
          27.479338842975203,
          26.135517498138494,
          26.42624889151641,
          28.50170093181482,
          25.19865525672372,
          28.039301950432616,
          29.210447313119182,
          29.135916359163595,
          25.882352941176475,
          27.400088482524705,
          26.78866056697165,
          25.724045744838854,
          26.33804870934811,
          28.905671553383684,
          25.98340503995083,
          26.929876252209784,
          28.7125748502994,
          26.603398132557782,
          26.83035053986097,
          27.075597801871382,
          29.07568052647323,
          27.306103717301518,
          27.65545968461767,
          28.631705846895724,
          27.71945839038491,
          27.1936403179841,
          27.00453857791225,
          28.927089508002375,
          26.218204106650322,
          26.84899279517718,
          31.249071736224565,
          28.161010260457775,
          27.201683198076342,
          27.002700270027002,
          28.07720861172977,
          26.04637157482686,
          25.797442304865502,
          29.166055987102446,
          27.072758037225043,
          30.52459503640957,
          26.201283455939894,
          26.244477172312227,
          31.783975210270032,
          28.079595704358812,
          25.833710577938735,
          26.487439400617014,
          27.93791574279379,
          25.734076193344375,
          27.39505631124762,
          29.605263157894733,
          26.793444650587507,
          26.69055082848186,
          25.841024114319737,
          25.518550978673677,
          29.889948642699927,
          26.925475522294978,
          28.968194714051066,
          28.080405094368576,
          27.836292506770988,
          25.69673359304765,
          28.965112870126063,
          28.52770125497398,
          24.996237772761475,
          29.758088020985134,
          28.013634955066625,
          26.803192290317725,
          30.88344469190794,
          26.956384821287987,
          28.057339107062862,
          25.201153787763776,
          30.13517484572436,
          27.00513938638841,
          25.953627524308153,
          27.46198139672228,
          25.72888488127442,
          28.029969149405026,
          26.89508793208005
         ],
         "yaxis": "y"
        }
       ],
       "layout": {
        "hovermode": "x unified",
        "legend": {
         "tracegroupgap": 0
        },
        "template": {
         "data": {
          "bar": [
           {
            "error_x": {
             "color": "#2a3f5f"
            },
            "error_y": {
             "color": "#2a3f5f"
            },
            "marker": {
             "line": {
              "color": "#E5ECF6",
              "width": 0.5
             },
             "pattern": {
              "fillmode": "overlay",
              "size": 10,
              "solidity": 0.2
             }
            },
            "type": "bar"
           }
          ],
          "barpolar": [
           {
            "marker": {
             "line": {
              "color": "#E5ECF6",
              "width": 0.5
             },
             "pattern": {
              "fillmode": "overlay",
              "size": 10,
              "solidity": 0.2
             }
            },
            "type": "barpolar"
           }
          ],
          "carpet": [
           {
            "aaxis": {
             "endlinecolor": "#2a3f5f",
             "gridcolor": "white",
             "linecolor": "white",
             "minorgridcolor": "white",
             "startlinecolor": "#2a3f5f"
            },
            "baxis": {
             "endlinecolor": "#2a3f5f",
             "gridcolor": "white",
             "linecolor": "white",
             "minorgridcolor": "white",
             "startlinecolor": "#2a3f5f"
            },
            "type": "carpet"
           }
          ],
          "choropleth": [
           {
            "colorbar": {
             "outlinewidth": 0,
             "ticks": ""
            },
            "type": "choropleth"
           }
          ],
          "contour": [
           {
            "colorbar": {
             "outlinewidth": 0,
             "ticks": ""
            },
            "colorscale": [
             [
              0,
              "#0d0887"
             ],
             [
              0.1111111111111111,
              "#46039f"
             ],
             [
              0.2222222222222222,
              "#7201a8"
             ],
             [
              0.3333333333333333,
              "#9c179e"
             ],
             [
              0.4444444444444444,
              "#bd3786"
             ],
             [
              0.5555555555555556,
              "#d8576b"
             ],
             [
              0.6666666666666666,
              "#ed7953"
             ],
             [
              0.7777777777777778,
              "#fb9f3a"
             ],
             [
              0.8888888888888888,
              "#fdca26"
             ],
             [
              1,
              "#f0f921"
             ]
            ],
            "type": "contour"
           }
          ],
          "contourcarpet": [
           {
            "colorbar": {
             "outlinewidth": 0,
             "ticks": ""
            },
            "type": "contourcarpet"
           }
          ],
          "heatmap": [
           {
            "colorbar": {
             "outlinewidth": 0,
             "ticks": ""
            },
            "colorscale": [
             [
              0,
              "#0d0887"
             ],
             [
              0.1111111111111111,
              "#46039f"
             ],
             [
              0.2222222222222222,
              "#7201a8"
             ],
             [
              0.3333333333333333,
              "#9c179e"
             ],
             [
              0.4444444444444444,
              "#bd3786"
             ],
             [
              0.5555555555555556,
              "#d8576b"
             ],
             [
              0.6666666666666666,
              "#ed7953"
             ],
             [
              0.7777777777777778,
              "#fb9f3a"
             ],
             [
              0.8888888888888888,
              "#fdca26"
             ],
             [
              1,
              "#f0f921"
             ]
            ],
            "type": "heatmap"
           }
          ],
          "heatmapgl": [
           {
            "colorbar": {
             "outlinewidth": 0,
             "ticks": ""
            },
            "colorscale": [
             [
              0,
              "#0d0887"
             ],
             [
              0.1111111111111111,
              "#46039f"
             ],
             [
              0.2222222222222222,
              "#7201a8"
             ],
             [
              0.3333333333333333,
              "#9c179e"
             ],
             [
              0.4444444444444444,
              "#bd3786"
             ],
             [
              0.5555555555555556,
              "#d8576b"
             ],
             [
              0.6666666666666666,
              "#ed7953"
             ],
             [
              0.7777777777777778,
              "#fb9f3a"
             ],
             [
              0.8888888888888888,
              "#fdca26"
             ],
             [
              1,
              "#f0f921"
             ]
            ],
            "type": "heatmapgl"
           }
          ],
          "histogram": [
           {
            "marker": {
             "pattern": {
              "fillmode": "overlay",
              "size": 10,
              "solidity": 0.2
             }
            },
            "type": "histogram"
           }
          ],
          "histogram2d": [
           {
            "colorbar": {
             "outlinewidth": 0,
             "ticks": ""
            },
            "colorscale": [
             [
              0,
              "#0d0887"
             ],
             [
              0.1111111111111111,
              "#46039f"
             ],
             [
              0.2222222222222222,
              "#7201a8"
             ],
             [
              0.3333333333333333,
              "#9c179e"
             ],
             [
              0.4444444444444444,
              "#bd3786"
             ],
             [
              0.5555555555555556,
              "#d8576b"
             ],
             [
              0.6666666666666666,
              "#ed7953"
             ],
             [
              0.7777777777777778,
              "#fb9f3a"
             ],
             [
              0.8888888888888888,
              "#fdca26"
             ],
             [
              1,
              "#f0f921"
             ]
            ],
            "type": "histogram2d"
           }
          ],
          "histogram2dcontour": [
           {
            "colorbar": {
             "outlinewidth": 0,
             "ticks": ""
            },
            "colorscale": [
             [
              0,
              "#0d0887"
             ],
             [
              0.1111111111111111,
              "#46039f"
             ],
             [
              0.2222222222222222,
              "#7201a8"
             ],
             [
              0.3333333333333333,
              "#9c179e"
             ],
             [
              0.4444444444444444,
              "#bd3786"
             ],
             [
              0.5555555555555556,
              "#d8576b"
             ],
             [
              0.6666666666666666,
              "#ed7953"
             ],
             [
              0.7777777777777778,
              "#fb9f3a"
             ],
             [
              0.8888888888888888,
              "#fdca26"
             ],
             [
              1,
              "#f0f921"
             ]
            ],
            "type": "histogram2dcontour"
           }
          ],
          "mesh3d": [
           {
            "colorbar": {
             "outlinewidth": 0,
             "ticks": ""
            },
            "type": "mesh3d"
           }
          ],
          "parcoords": [
           {
            "line": {
             "colorbar": {
              "outlinewidth": 0,
              "ticks": ""
             }
            },
            "type": "parcoords"
           }
          ],
          "pie": [
           {
            "automargin": true,
            "type": "pie"
           }
          ],
          "scatter": [
           {
            "fillpattern": {
             "fillmode": "overlay",
             "size": 10,
             "solidity": 0.2
            },
            "type": "scatter"
           }
          ],
          "scatter3d": [
           {
            "line": {
             "colorbar": {
              "outlinewidth": 0,
              "ticks": ""
             }
            },
            "marker": {
             "colorbar": {
              "outlinewidth": 0,
              "ticks": ""
             }
            },
            "type": "scatter3d"
           }
          ],
          "scattercarpet": [
           {
            "marker": {
             "colorbar": {
              "outlinewidth": 0,
              "ticks": ""
             }
            },
            "type": "scattercarpet"
           }
          ],
          "scattergeo": [
           {
            "marker": {
             "colorbar": {
              "outlinewidth": 0,
              "ticks": ""
             }
            },
            "type": "scattergeo"
           }
          ],
          "scattergl": [
           {
            "marker": {
             "colorbar": {
              "outlinewidth": 0,
              "ticks": ""
             }
            },
            "type": "scattergl"
           }
          ],
          "scattermapbox": [
           {
            "marker": {
             "colorbar": {
              "outlinewidth": 0,
              "ticks": ""
             }
            },
            "type": "scattermapbox"
           }
          ],
          "scatterpolar": [
           {
            "marker": {
             "colorbar": {
              "outlinewidth": 0,
              "ticks": ""
             }
            },
            "type": "scatterpolar"
           }
          ],
          "scatterpolargl": [
           {
            "marker": {
             "colorbar": {
              "outlinewidth": 0,
              "ticks": ""
             }
            },
            "type": "scatterpolargl"
           }
          ],
          "scatterternary": [
           {
            "marker": {
             "colorbar": {
              "outlinewidth": 0,
              "ticks": ""
             }
            },
            "type": "scatterternary"
           }
          ],
          "surface": [
           {
            "colorbar": {
             "outlinewidth": 0,
             "ticks": ""
            },
            "colorscale": [
             [
              0,
              "#0d0887"
             ],
             [
              0.1111111111111111,
              "#46039f"
             ],
             [
              0.2222222222222222,
              "#7201a8"
             ],
             [
              0.3333333333333333,
              "#9c179e"
             ],
             [
              0.4444444444444444,
              "#bd3786"
             ],
             [
              0.5555555555555556,
              "#d8576b"
             ],
             [
              0.6666666666666666,
              "#ed7953"
             ],
             [
              0.7777777777777778,
              "#fb9f3a"
             ],
             [
              0.8888888888888888,
              "#fdca26"
             ],
             [
              1,
              "#f0f921"
             ]
            ],
            "type": "surface"
           }
          ],
          "table": [
           {
            "cells": {
             "fill": {
              "color": "#EBF0F8"
             },
             "line": {
              "color": "white"
             }
            },
            "header": {
             "fill": {
              "color": "#C8D4E3"
             },
             "line": {
              "color": "white"
             }
            },
            "type": "table"
           }
          ]
         },
         "layout": {
          "annotationdefaults": {
           "arrowcolor": "#2a3f5f",
           "arrowhead": 0,
           "arrowwidth": 1
          },
          "autotypenumbers": "strict",
          "coloraxis": {
           "colorbar": {
            "outlinewidth": 0,
            "ticks": ""
           }
          },
          "colorscale": {
           "diverging": [
            [
             0,
             "#8e0152"
            ],
            [
             0.1,
             "#c51b7d"
            ],
            [
             0.2,
             "#de77ae"
            ],
            [
             0.3,
             "#f1b6da"
            ],
            [
             0.4,
             "#fde0ef"
            ],
            [
             0.5,
             "#f7f7f7"
            ],
            [
             0.6,
             "#e6f5d0"
            ],
            [
             0.7,
             "#b8e186"
            ],
            [
             0.8,
             "#7fbc41"
            ],
            [
             0.9,
             "#4d9221"
            ],
            [
             1,
             "#276419"
            ]
           ],
           "sequential": [
            [
             0,
             "#0d0887"
            ],
            [
             0.1111111111111111,
             "#46039f"
            ],
            [
             0.2222222222222222,
             "#7201a8"
            ],
            [
             0.3333333333333333,
             "#9c179e"
            ],
            [
             0.4444444444444444,
             "#bd3786"
            ],
            [
             0.5555555555555556,
             "#d8576b"
            ],
            [
             0.6666666666666666,
             "#ed7953"
            ],
            [
             0.7777777777777778,
             "#fb9f3a"
            ],
            [
             0.8888888888888888,
             "#fdca26"
            ],
            [
             1,
             "#f0f921"
            ]
           ],
           "sequentialminus": [
            [
             0,
             "#0d0887"
            ],
            [
             0.1111111111111111,
             "#46039f"
            ],
            [
             0.2222222222222222,
             "#7201a8"
            ],
            [
             0.3333333333333333,
             "#9c179e"
            ],
            [
             0.4444444444444444,
             "#bd3786"
            ],
            [
             0.5555555555555556,
             "#d8576b"
            ],
            [
             0.6666666666666666,
             "#ed7953"
            ],
            [
             0.7777777777777778,
             "#fb9f3a"
            ],
            [
             0.8888888888888888,
             "#fdca26"
            ],
            [
             1,
             "#f0f921"
            ]
           ]
          },
          "colorway": [
           "#636efa",
           "#EF553B",
           "#00cc96",
           "#ab63fa",
           "#FFA15A",
           "#19d3f3",
           "#FF6692",
           "#B6E880",
           "#FF97FF",
           "#FECB52"
          ],
          "font": {
           "color": "#2a3f5f"
          },
          "geo": {
           "bgcolor": "white",
           "lakecolor": "white",
           "landcolor": "#E5ECF6",
           "showlakes": true,
           "showland": true,
           "subunitcolor": "white"
          },
          "hoverlabel": {
           "align": "left"
          },
          "hovermode": "closest",
          "mapbox": {
           "style": "light"
          },
          "paper_bgcolor": "white",
          "plot_bgcolor": "#E5ECF6",
          "polar": {
           "angularaxis": {
            "gridcolor": "white",
            "linecolor": "white",
            "ticks": ""
           },
           "bgcolor": "#E5ECF6",
           "radialaxis": {
            "gridcolor": "white",
            "linecolor": "white",
            "ticks": ""
           }
          },
          "scene": {
           "xaxis": {
            "backgroundcolor": "#E5ECF6",
            "gridcolor": "white",
            "gridwidth": 2,
            "linecolor": "white",
            "showbackground": true,
            "ticks": "",
            "zerolinecolor": "white"
           },
           "yaxis": {
            "backgroundcolor": "#E5ECF6",
            "gridcolor": "white",
            "gridwidth": 2,
            "linecolor": "white",
            "showbackground": true,
            "ticks": "",
            "zerolinecolor": "white"
           },
           "zaxis": {
            "backgroundcolor": "#E5ECF6",
            "gridcolor": "white",
            "gridwidth": 2,
            "linecolor": "white",
            "showbackground": true,
            "ticks": "",
            "zerolinecolor": "white"
           }
          },
          "shapedefaults": {
           "line": {
            "color": "#2a3f5f"
           }
          },
          "ternary": {
           "aaxis": {
            "gridcolor": "white",
            "linecolor": "white",
            "ticks": ""
           },
           "baxis": {
            "gridcolor": "white",
            "linecolor": "white",
            "ticks": ""
           },
           "bgcolor": "#E5ECF6",
           "caxis": {
            "gridcolor": "white",
            "linecolor": "white",
            "ticks": ""
           }
          },
          "title": {
           "x": 0.05
          },
          "xaxis": {
           "automargin": true,
           "gridcolor": "white",
           "linecolor": "white",
           "ticks": "",
           "title": {
            "standoff": 15
           },
           "zerolinecolor": "white",
           "zerolinewidth": 2
          },
          "yaxis": {
           "automargin": true,
           "gridcolor": "white",
           "linecolor": "white",
           "ticks": "",
           "title": {
            "standoff": 15
           },
           "zerolinecolor": "white",
           "zerolinewidth": 2
          }
         }
        },
        "title": {
         "text": "Monthly Churn Rate"
        },
        "xaxis": {
         "anchor": "y",
         "domain": [
          0,
          1
         ],
         "title": {
          "text": "Month"
         }
        },
        "yaxis": {
         "anchor": "x",
         "domain": [
          0,
          1
         ],
         "title": {
          "text": "Churn Rate (%)"
         }
        }
       }
      }
     },
     "metadata": {},
     "output_type": "display_data"
    }
   ],
   "source": [
    "# Plot the monthly churn rate\n",
    "plot_monthly_graph(monthly_churn_df)"
   ]
  },
  {
   "cell_type": "markdown",
   "metadata": {},
   "source": [
    "#### **2. Bar graph of average monthly churn rate from 2014 to 2021**"
   ]
  },
  {
   "cell_type": "code",
   "execution_count": 9,
   "metadata": {},
   "outputs": [
    {
     "data": {
      "application/vnd.plotly.v1+json": {
       "config": {
        "plotlyServerURL": "https://plot.ly"
       },
       "data": [
        {
         "alignmentgroup": "True",
         "hovertemplate": "Month=%{x}<br>Average Churn Rate (%)=%{y}<extra></extra>",
         "legendgroup": "",
         "marker": {
          "color": "skyblue",
          "pattern": {
           "shape": ""
          }
         },
         "name": "",
         "offsetgroup": "",
         "orientation": "v",
         "showlegend": false,
         "textposition": "auto",
         "type": "bar",
         "x": [
          "January",
          "February",
          "March",
          "April",
          "May",
          "June",
          "July",
          "August",
          "September",
          "October",
          "November",
          "December"
         ],
         "xaxis": "x",
         "y": [
          26.725780667297105,
          22.865416188495885,
          29.86610680029597,
          27.625387721432123,
          27.437340498600314,
          27.00945033351538,
          27.89209803990014,
          26.367482825618563,
          27.092583564750793,
          28.142261595171387,
          26.286502550175417,
          28.480267103901223
         ],
         "yaxis": "y"
        }
       ],
       "layout": {
        "barmode": "relative",
        "legend": {
         "tracegroupgap": 0
        },
        "template": {
         "data": {
          "bar": [
           {
            "error_x": {
             "color": "#2a3f5f"
            },
            "error_y": {
             "color": "#2a3f5f"
            },
            "marker": {
             "line": {
              "color": "#E5ECF6",
              "width": 0.5
             },
             "pattern": {
              "fillmode": "overlay",
              "size": 10,
              "solidity": 0.2
             }
            },
            "type": "bar"
           }
          ],
          "barpolar": [
           {
            "marker": {
             "line": {
              "color": "#E5ECF6",
              "width": 0.5
             },
             "pattern": {
              "fillmode": "overlay",
              "size": 10,
              "solidity": 0.2
             }
            },
            "type": "barpolar"
           }
          ],
          "carpet": [
           {
            "aaxis": {
             "endlinecolor": "#2a3f5f",
             "gridcolor": "white",
             "linecolor": "white",
             "minorgridcolor": "white",
             "startlinecolor": "#2a3f5f"
            },
            "baxis": {
             "endlinecolor": "#2a3f5f",
             "gridcolor": "white",
             "linecolor": "white",
             "minorgridcolor": "white",
             "startlinecolor": "#2a3f5f"
            },
            "type": "carpet"
           }
          ],
          "choropleth": [
           {
            "colorbar": {
             "outlinewidth": 0,
             "ticks": ""
            },
            "type": "choropleth"
           }
          ],
          "contour": [
           {
            "colorbar": {
             "outlinewidth": 0,
             "ticks": ""
            },
            "colorscale": [
             [
              0,
              "#0d0887"
             ],
             [
              0.1111111111111111,
              "#46039f"
             ],
             [
              0.2222222222222222,
              "#7201a8"
             ],
             [
              0.3333333333333333,
              "#9c179e"
             ],
             [
              0.4444444444444444,
              "#bd3786"
             ],
             [
              0.5555555555555556,
              "#d8576b"
             ],
             [
              0.6666666666666666,
              "#ed7953"
             ],
             [
              0.7777777777777778,
              "#fb9f3a"
             ],
             [
              0.8888888888888888,
              "#fdca26"
             ],
             [
              1,
              "#f0f921"
             ]
            ],
            "type": "contour"
           }
          ],
          "contourcarpet": [
           {
            "colorbar": {
             "outlinewidth": 0,
             "ticks": ""
            },
            "type": "contourcarpet"
           }
          ],
          "heatmap": [
           {
            "colorbar": {
             "outlinewidth": 0,
             "ticks": ""
            },
            "colorscale": [
             [
              0,
              "#0d0887"
             ],
             [
              0.1111111111111111,
              "#46039f"
             ],
             [
              0.2222222222222222,
              "#7201a8"
             ],
             [
              0.3333333333333333,
              "#9c179e"
             ],
             [
              0.4444444444444444,
              "#bd3786"
             ],
             [
              0.5555555555555556,
              "#d8576b"
             ],
             [
              0.6666666666666666,
              "#ed7953"
             ],
             [
              0.7777777777777778,
              "#fb9f3a"
             ],
             [
              0.8888888888888888,
              "#fdca26"
             ],
             [
              1,
              "#f0f921"
             ]
            ],
            "type": "heatmap"
           }
          ],
          "heatmapgl": [
           {
            "colorbar": {
             "outlinewidth": 0,
             "ticks": ""
            },
            "colorscale": [
             [
              0,
              "#0d0887"
             ],
             [
              0.1111111111111111,
              "#46039f"
             ],
             [
              0.2222222222222222,
              "#7201a8"
             ],
             [
              0.3333333333333333,
              "#9c179e"
             ],
             [
              0.4444444444444444,
              "#bd3786"
             ],
             [
              0.5555555555555556,
              "#d8576b"
             ],
             [
              0.6666666666666666,
              "#ed7953"
             ],
             [
              0.7777777777777778,
              "#fb9f3a"
             ],
             [
              0.8888888888888888,
              "#fdca26"
             ],
             [
              1,
              "#f0f921"
             ]
            ],
            "type": "heatmapgl"
           }
          ],
          "histogram": [
           {
            "marker": {
             "pattern": {
              "fillmode": "overlay",
              "size": 10,
              "solidity": 0.2
             }
            },
            "type": "histogram"
           }
          ],
          "histogram2d": [
           {
            "colorbar": {
             "outlinewidth": 0,
             "ticks": ""
            },
            "colorscale": [
             [
              0,
              "#0d0887"
             ],
             [
              0.1111111111111111,
              "#46039f"
             ],
             [
              0.2222222222222222,
              "#7201a8"
             ],
             [
              0.3333333333333333,
              "#9c179e"
             ],
             [
              0.4444444444444444,
              "#bd3786"
             ],
             [
              0.5555555555555556,
              "#d8576b"
             ],
             [
              0.6666666666666666,
              "#ed7953"
             ],
             [
              0.7777777777777778,
              "#fb9f3a"
             ],
             [
              0.8888888888888888,
              "#fdca26"
             ],
             [
              1,
              "#f0f921"
             ]
            ],
            "type": "histogram2d"
           }
          ],
          "histogram2dcontour": [
           {
            "colorbar": {
             "outlinewidth": 0,
             "ticks": ""
            },
            "colorscale": [
             [
              0,
              "#0d0887"
             ],
             [
              0.1111111111111111,
              "#46039f"
             ],
             [
              0.2222222222222222,
              "#7201a8"
             ],
             [
              0.3333333333333333,
              "#9c179e"
             ],
             [
              0.4444444444444444,
              "#bd3786"
             ],
             [
              0.5555555555555556,
              "#d8576b"
             ],
             [
              0.6666666666666666,
              "#ed7953"
             ],
             [
              0.7777777777777778,
              "#fb9f3a"
             ],
             [
              0.8888888888888888,
              "#fdca26"
             ],
             [
              1,
              "#f0f921"
             ]
            ],
            "type": "histogram2dcontour"
           }
          ],
          "mesh3d": [
           {
            "colorbar": {
             "outlinewidth": 0,
             "ticks": ""
            },
            "type": "mesh3d"
           }
          ],
          "parcoords": [
           {
            "line": {
             "colorbar": {
              "outlinewidth": 0,
              "ticks": ""
             }
            },
            "type": "parcoords"
           }
          ],
          "pie": [
           {
            "automargin": true,
            "type": "pie"
           }
          ],
          "scatter": [
           {
            "fillpattern": {
             "fillmode": "overlay",
             "size": 10,
             "solidity": 0.2
            },
            "type": "scatter"
           }
          ],
          "scatter3d": [
           {
            "line": {
             "colorbar": {
              "outlinewidth": 0,
              "ticks": ""
             }
            },
            "marker": {
             "colorbar": {
              "outlinewidth": 0,
              "ticks": ""
             }
            },
            "type": "scatter3d"
           }
          ],
          "scattercarpet": [
           {
            "marker": {
             "colorbar": {
              "outlinewidth": 0,
              "ticks": ""
             }
            },
            "type": "scattercarpet"
           }
          ],
          "scattergeo": [
           {
            "marker": {
             "colorbar": {
              "outlinewidth": 0,
              "ticks": ""
             }
            },
            "type": "scattergeo"
           }
          ],
          "scattergl": [
           {
            "marker": {
             "colorbar": {
              "outlinewidth": 0,
              "ticks": ""
             }
            },
            "type": "scattergl"
           }
          ],
          "scattermapbox": [
           {
            "marker": {
             "colorbar": {
              "outlinewidth": 0,
              "ticks": ""
             }
            },
            "type": "scattermapbox"
           }
          ],
          "scatterpolar": [
           {
            "marker": {
             "colorbar": {
              "outlinewidth": 0,
              "ticks": ""
             }
            },
            "type": "scatterpolar"
           }
          ],
          "scatterpolargl": [
           {
            "marker": {
             "colorbar": {
              "outlinewidth": 0,
              "ticks": ""
             }
            },
            "type": "scatterpolargl"
           }
          ],
          "scatterternary": [
           {
            "marker": {
             "colorbar": {
              "outlinewidth": 0,
              "ticks": ""
             }
            },
            "type": "scatterternary"
           }
          ],
          "surface": [
           {
            "colorbar": {
             "outlinewidth": 0,
             "ticks": ""
            },
            "colorscale": [
             [
              0,
              "#0d0887"
             ],
             [
              0.1111111111111111,
              "#46039f"
             ],
             [
              0.2222222222222222,
              "#7201a8"
             ],
             [
              0.3333333333333333,
              "#9c179e"
             ],
             [
              0.4444444444444444,
              "#bd3786"
             ],
             [
              0.5555555555555556,
              "#d8576b"
             ],
             [
              0.6666666666666666,
              "#ed7953"
             ],
             [
              0.7777777777777778,
              "#fb9f3a"
             ],
             [
              0.8888888888888888,
              "#fdca26"
             ],
             [
              1,
              "#f0f921"
             ]
            ],
            "type": "surface"
           }
          ],
          "table": [
           {
            "cells": {
             "fill": {
              "color": "#EBF0F8"
             },
             "line": {
              "color": "white"
             }
            },
            "header": {
             "fill": {
              "color": "#C8D4E3"
             },
             "line": {
              "color": "white"
             }
            },
            "type": "table"
           }
          ]
         },
         "layout": {
          "annotationdefaults": {
           "arrowcolor": "#2a3f5f",
           "arrowhead": 0,
           "arrowwidth": 1
          },
          "autotypenumbers": "strict",
          "coloraxis": {
           "colorbar": {
            "outlinewidth": 0,
            "ticks": ""
           }
          },
          "colorscale": {
           "diverging": [
            [
             0,
             "#8e0152"
            ],
            [
             0.1,
             "#c51b7d"
            ],
            [
             0.2,
             "#de77ae"
            ],
            [
             0.3,
             "#f1b6da"
            ],
            [
             0.4,
             "#fde0ef"
            ],
            [
             0.5,
             "#f7f7f7"
            ],
            [
             0.6,
             "#e6f5d0"
            ],
            [
             0.7,
             "#b8e186"
            ],
            [
             0.8,
             "#7fbc41"
            ],
            [
             0.9,
             "#4d9221"
            ],
            [
             1,
             "#276419"
            ]
           ],
           "sequential": [
            [
             0,
             "#0d0887"
            ],
            [
             0.1111111111111111,
             "#46039f"
            ],
            [
             0.2222222222222222,
             "#7201a8"
            ],
            [
             0.3333333333333333,
             "#9c179e"
            ],
            [
             0.4444444444444444,
             "#bd3786"
            ],
            [
             0.5555555555555556,
             "#d8576b"
            ],
            [
             0.6666666666666666,
             "#ed7953"
            ],
            [
             0.7777777777777778,
             "#fb9f3a"
            ],
            [
             0.8888888888888888,
             "#fdca26"
            ],
            [
             1,
             "#f0f921"
            ]
           ],
           "sequentialminus": [
            [
             0,
             "#0d0887"
            ],
            [
             0.1111111111111111,
             "#46039f"
            ],
            [
             0.2222222222222222,
             "#7201a8"
            ],
            [
             0.3333333333333333,
             "#9c179e"
            ],
            [
             0.4444444444444444,
             "#bd3786"
            ],
            [
             0.5555555555555556,
             "#d8576b"
            ],
            [
             0.6666666666666666,
             "#ed7953"
            ],
            [
             0.7777777777777778,
             "#fb9f3a"
            ],
            [
             0.8888888888888888,
             "#fdca26"
            ],
            [
             1,
             "#f0f921"
            ]
           ]
          },
          "colorway": [
           "#636efa",
           "#EF553B",
           "#00cc96",
           "#ab63fa",
           "#FFA15A",
           "#19d3f3",
           "#FF6692",
           "#B6E880",
           "#FF97FF",
           "#FECB52"
          ],
          "font": {
           "color": "#2a3f5f"
          },
          "geo": {
           "bgcolor": "white",
           "lakecolor": "white",
           "landcolor": "#E5ECF6",
           "showlakes": true,
           "showland": true,
           "subunitcolor": "white"
          },
          "hoverlabel": {
           "align": "left"
          },
          "hovermode": "closest",
          "mapbox": {
           "style": "light"
          },
          "paper_bgcolor": "white",
          "plot_bgcolor": "#E5ECF6",
          "polar": {
           "angularaxis": {
            "gridcolor": "white",
            "linecolor": "white",
            "ticks": ""
           },
           "bgcolor": "#E5ECF6",
           "radialaxis": {
            "gridcolor": "white",
            "linecolor": "white",
            "ticks": ""
           }
          },
          "scene": {
           "xaxis": {
            "backgroundcolor": "#E5ECF6",
            "gridcolor": "white",
            "gridwidth": 2,
            "linecolor": "white",
            "showbackground": true,
            "ticks": "",
            "zerolinecolor": "white"
           },
           "yaxis": {
            "backgroundcolor": "#E5ECF6",
            "gridcolor": "white",
            "gridwidth": 2,
            "linecolor": "white",
            "showbackground": true,
            "ticks": "",
            "zerolinecolor": "white"
           },
           "zaxis": {
            "backgroundcolor": "#E5ECF6",
            "gridcolor": "white",
            "gridwidth": 2,
            "linecolor": "white",
            "showbackground": true,
            "ticks": "",
            "zerolinecolor": "white"
           }
          },
          "shapedefaults": {
           "line": {
            "color": "#2a3f5f"
           }
          },
          "ternary": {
           "aaxis": {
            "gridcolor": "white",
            "linecolor": "white",
            "ticks": ""
           },
           "baxis": {
            "gridcolor": "white",
            "linecolor": "white",
            "ticks": ""
           },
           "bgcolor": "#E5ECF6",
           "caxis": {
            "gridcolor": "white",
            "linecolor": "white",
            "ticks": ""
           }
          },
          "title": {
           "x": 0.05
          },
          "xaxis": {
           "automargin": true,
           "gridcolor": "white",
           "linecolor": "white",
           "ticks": "",
           "title": {
            "standoff": 15
           },
           "zerolinecolor": "white",
           "zerolinewidth": 2
          },
          "yaxis": {
           "automargin": true,
           "gridcolor": "white",
           "linecolor": "white",
           "ticks": "",
           "title": {
            "standoff": 15
           },
           "zerolinecolor": "white",
           "zerolinewidth": 2
          }
         }
        },
        "title": {
         "text": "Average Monthly Churn Rate (2014-2021)"
        },
        "xaxis": {
         "anchor": "y",
         "domain": [
          0,
          1
         ],
         "tickangle": -45,
         "title": {
          "text": "Month"
         }
        },
        "yaxis": {
         "anchor": "x",
         "domain": [
          0,
          1
         ],
         "title": {
          "text": "Average Churn Rate (%)"
         }
        }
       }
      }
     },
     "metadata": {},
     "output_type": "display_data"
    }
   ],
   "source": [
    "# Plot the bar graph of the monthly churn rate\n",
    "plot_bar_graph(monthly_churn_df)"
   ]
  },
  {
   "cell_type": "markdown",
   "metadata": {},
   "source": [
    "We will now proceed to analyse Customer Lifetime Value and identify at-risk customers."
   ]
  },
  {
   "cell_type": "markdown",
   "metadata": {},
   "source": [
    "### **General Analysis of Customer Lifetime Value (CLV)**\n",
    "\n",
    "In this section, we explore the **Customer Lifetime Value (CLV)** of individual customers, calculated using all data from 2014 to 2020. \n",
    "\n",
    "The formula for **CLV** in our analysis is defined as:\n",
    "\n",
    "$$\n",
    "\\text{CLV} = \\text{Average Order Value} \\times \\text{Lifespan} = \\left( \\frac{\\text{Total Revenue}}{\\text{Number of Purchases}} \\right) \\times \\text{Lifespan}\n",
    "$$\n",
    "​Where Lifespan is the number of years between a customer’s first and last purchase.\n",
    "\n",
    "#### **1. Calculating CLV for Individual Customers** "
   ]
  },
  {
   "cell_type": "code",
   "execution_count": 10,
   "metadata": {},
   "outputs": [
    {
     "name": "stdout",
     "output_type": "stream",
     "text": [
      "Dataframe with individual CLV:\n"
     ]
    },
    {
     "data": {
      "text/html": [
       "<div>\n",
       "<style scoped>\n",
       "    .dataframe tbody tr th:only-of-type {\n",
       "        vertical-align: middle;\n",
       "    }\n",
       "\n",
       "    .dataframe tbody tr th {\n",
       "        vertical-align: top;\n",
       "    }\n",
       "\n",
       "    .dataframe thead th {\n",
       "        text-align: right;\n",
       "    }\n",
       "</style>\n",
       "<table border=\"1\" class=\"dataframe\">\n",
       "  <thead>\n",
       "    <tr style=\"text-align: right;\">\n",
       "      <th></th>\n",
       "      <th>customer_key</th>\n",
       "      <th>total_revenue</th>\n",
       "      <th>total_purchases</th>\n",
       "      <th>customer_lifespan</th>\n",
       "      <th>CLV</th>\n",
       "    </tr>\n",
       "  </thead>\n",
       "  <tbody>\n",
       "    <tr>\n",
       "      <th>0</th>\n",
       "      <td>C000001</td>\n",
       "      <td>3811.0</td>\n",
       "      <td>81</td>\n",
       "      <td>6.896646</td>\n",
       "      <td>324.482943</td>\n",
       "    </tr>\n",
       "    <tr>\n",
       "      <th>1</th>\n",
       "      <td>C000002</td>\n",
       "      <td>6094.0</td>\n",
       "      <td>103</td>\n",
       "      <td>6.732375</td>\n",
       "      <td>398.321299</td>\n",
       "    </tr>\n",
       "    <tr>\n",
       "      <th>2</th>\n",
       "      <td>C000003</td>\n",
       "      <td>7171.0</td>\n",
       "      <td>108</td>\n",
       "      <td>6.773443</td>\n",
       "      <td>449.744062</td>\n",
       "    </tr>\n",
       "    <tr>\n",
       "      <th>3</th>\n",
       "      <td>C000004</td>\n",
       "      <td>6390.0</td>\n",
       "      <td>118</td>\n",
       "      <td>6.850103</td>\n",
       "      <td>370.950475</td>\n",
       "    </tr>\n",
       "    <tr>\n",
       "      <th>4</th>\n",
       "      <td>C000005</td>\n",
       "      <td>5414.0</td>\n",
       "      <td>108</td>\n",
       "      <td>6.836413</td>\n",
       "      <td>342.706873</td>\n",
       "    </tr>\n",
       "    <tr>\n",
       "      <th>...</th>\n",
       "      <td>...</td>\n",
       "      <td>...</td>\n",
       "      <td>...</td>\n",
       "      <td>...</td>\n",
       "      <td>...</td>\n",
       "    </tr>\n",
       "    <tr>\n",
       "      <th>9186</th>\n",
       "      <td>C009187</td>\n",
       "      <td>5891.0</td>\n",
       "      <td>110</td>\n",
       "      <td>6.926762</td>\n",
       "      <td>370.959617</td>\n",
       "    </tr>\n",
       "    <tr>\n",
       "      <th>9187</th>\n",
       "      <td>C009188</td>\n",
       "      <td>6457.0</td>\n",
       "      <td>118</td>\n",
       "      <td>6.880219</td>\n",
       "      <td>376.487917</td>\n",
       "    </tr>\n",
       "    <tr>\n",
       "      <th>9188</th>\n",
       "      <td>C009189</td>\n",
       "      <td>6344.0</td>\n",
       "      <td>112</td>\n",
       "      <td>6.778919</td>\n",
       "      <td>383.977315</td>\n",
       "    </tr>\n",
       "    <tr>\n",
       "      <th>9189</th>\n",
       "      <td>C009190</td>\n",
       "      <td>6073.0</td>\n",
       "      <td>123</td>\n",
       "      <td>6.844627</td>\n",
       "      <td>337.946501</td>\n",
       "    </tr>\n",
       "    <tr>\n",
       "      <th>9190</th>\n",
       "      <td>C009191</td>\n",
       "      <td>6002.0</td>\n",
       "      <td>105</td>\n",
       "      <td>6.836413</td>\n",
       "      <td>390.782413</td>\n",
       "    </tr>\n",
       "  </tbody>\n",
       "</table>\n",
       "<p>9191 rows × 5 columns</p>\n",
       "</div>"
      ],
      "text/plain": [
       "     customer_key  total_revenue  total_purchases  customer_lifespan  \\\n",
       "0         C000001         3811.0               81           6.896646   \n",
       "1         C000002         6094.0              103           6.732375   \n",
       "2         C000003         7171.0              108           6.773443   \n",
       "3         C000004         6390.0              118           6.850103   \n",
       "4         C000005         5414.0              108           6.836413   \n",
       "...           ...            ...              ...                ...   \n",
       "9186      C009187         5891.0              110           6.926762   \n",
       "9187      C009188         6457.0              118           6.880219   \n",
       "9188      C009189         6344.0              112           6.778919   \n",
       "9189      C009190         6073.0              123           6.844627   \n",
       "9190      C009191         6002.0              105           6.836413   \n",
       "\n",
       "             CLV  \n",
       "0     324.482943  \n",
       "1     398.321299  \n",
       "2     449.744062  \n",
       "3     370.950475  \n",
       "4     342.706873  \n",
       "...          ...  \n",
       "9186  370.959617  \n",
       "9187  376.487917  \n",
       "9188  383.977315  \n",
       "9189  337.946501  \n",
       "9190  390.782413  \n",
       "\n",
       "[9191 rows x 5 columns]"
      ]
     },
     "metadata": {},
     "output_type": "display_data"
    }
   ],
   "source": [
    "customer_data = individual_clv(df)\n",
    "\n",
    "# Display the CLV results\n",
    "print('Dataframe with individual CLV:')\n",
    "display(customer_data[['customer_key', 'total_revenue', 'total_purchases', 'customer_lifespan', 'CLV']])"
   ]
  },
  {
   "cell_type": "markdown",
   "metadata": {},
   "source": [
    "Columns in the DataFrame:\n",
    "\n",
    "**customer_key**: A unique identifier for each customer.\n",
    "<br>**total_revenue**: The total revenue generated by the customer from 2014-2020.\n",
    "<br>**total_purchases**: The total number of purchases made by the customer from 2014-2020.\n",
    "<br>**customer_lifespan**: The length of time (in years) that the customer has been active.\n",
    "<br>**CLV**: The calculated Customer Lifetime Value.\n",
    "\n",
    "Initial Insights:\n",
    "<br>The above data illustrates the CLV for a sample of customers. By examining this data, we can identify high and low CLV customers and begin to analyse the drivers behind these values.\n",
    "\n",
    "#### **2. CLV Distribution**"
   ]
  },
  {
   "cell_type": "code",
   "execution_count": 11,
   "metadata": {},
   "outputs": [
    {
     "data": {
      "image/png": "[encoded data removed]",
      "text/plain": [
       "<Figure size 1200x1000 with 4 Axes>"
      ]
     },
     "metadata": {},
     "output_type": "display_data"
    }
   ],
   "source": [
    "# Visualise CLV distribution and relationship with Total Revenue and Lifespan\n",
    "clv_plot(customer_data)"
   ]
  },
  {
   "cell_type": "markdown",
   "metadata": {},
   "source": [
    "#### **3. Calculating Annual CLV for Individual Customers**"
   ]
  },
  {
   "cell_type": "code",
   "execution_count": 12,
   "metadata": {},
   "outputs": [
    {
     "name": "stdout",
     "output_type": "stream",
     "text": [
      "Example: Customer C000001\n"
     ]
    },
    {
     "data": {
      "text/html": [
       "<div>\n",
       "<style scoped>\n",
       "    .dataframe tbody tr th:only-of-type {\n",
       "        vertical-align: middle;\n",
       "    }\n",
       "\n",
       "    .dataframe tbody tr th {\n",
       "        vertical-align: top;\n",
       "    }\n",
       "\n",
       "    .dataframe thead th {\n",
       "        text-align: right;\n",
       "    }\n",
       "</style>\n",
       "<table border=\"1\" class=\"dataframe\">\n",
       "  <thead>\n",
       "    <tr style=\"text-align: right;\">\n",
       "      <th></th>\n",
       "      <th>customer_key</th>\n",
       "      <th>year</th>\n",
       "      <th>total_revenue</th>\n",
       "      <th>total_purchases</th>\n",
       "      <th>first_purchase</th>\n",
       "      <th>last_purchase</th>\n",
       "      <th>annual_lifespan</th>\n",
       "      <th>annual_CLV</th>\n",
       "    </tr>\n",
       "  </thead>\n",
       "  <tbody>\n",
       "    <tr>\n",
       "      <th>0</th>\n",
       "      <td>C000001</td>\n",
       "      <td>2014</td>\n",
       "      <td>518.0</td>\n",
       "      <td>14</td>\n",
       "      <td>2014-02-06</td>\n",
       "      <td>2014-12-06</td>\n",
       "      <td>0.829569</td>\n",
       "      <td>30.694045</td>\n",
       "    </tr>\n",
       "    <tr>\n",
       "      <th>1</th>\n",
       "      <td>C000001</td>\n",
       "      <td>2015</td>\n",
       "      <td>569.0</td>\n",
       "      <td>13</td>\n",
       "      <td>2015-01-13</td>\n",
       "      <td>2015-12-20</td>\n",
       "      <td>0.933607</td>\n",
       "      <td>40.863265</td>\n",
       "    </tr>\n",
       "    <tr>\n",
       "      <th>2</th>\n",
       "      <td>C000001</td>\n",
       "      <td>2016</td>\n",
       "      <td>585.0</td>\n",
       "      <td>9</td>\n",
       "      <td>2016-04-07</td>\n",
       "      <td>2016-12-03</td>\n",
       "      <td>0.657084</td>\n",
       "      <td>42.710472</td>\n",
       "    </tr>\n",
       "    <tr>\n",
       "      <th>3</th>\n",
       "      <td>C000001</td>\n",
       "      <td>2017</td>\n",
       "      <td>941.0</td>\n",
       "      <td>19</td>\n",
       "      <td>2017-02-27</td>\n",
       "      <td>2017-12-19</td>\n",
       "      <td>0.807666</td>\n",
       "      <td>40.000720</td>\n",
       "    </tr>\n",
       "    <tr>\n",
       "      <th>4</th>\n",
       "      <td>C000001</td>\n",
       "      <td>2018</td>\n",
       "      <td>568.0</td>\n",
       "      <td>10</td>\n",
       "      <td>2018-01-10</td>\n",
       "      <td>2018-11-27</td>\n",
       "      <td>0.878850</td>\n",
       "      <td>49.918686</td>\n",
       "    </tr>\n",
       "    <tr>\n",
       "      <th>5</th>\n",
       "      <td>C000001</td>\n",
       "      <td>2019</td>\n",
       "      <td>345.0</td>\n",
       "      <td>11</td>\n",
       "      <td>2019-01-17</td>\n",
       "      <td>2019-10-10</td>\n",
       "      <td>0.728268</td>\n",
       "      <td>22.841142</td>\n",
       "    </tr>\n",
       "    <tr>\n",
       "      <th>6</th>\n",
       "      <td>C000001</td>\n",
       "      <td>2020</td>\n",
       "      <td>285.0</td>\n",
       "      <td>5</td>\n",
       "      <td>2020-05-18</td>\n",
       "      <td>2020-12-30</td>\n",
       "      <td>0.618754</td>\n",
       "      <td>35.268994</td>\n",
       "    </tr>\n",
       "  </tbody>\n",
       "</table>\n",
       "</div>"
      ],
      "text/plain": [
       "  customer_key  year  total_revenue  total_purchases first_purchase  \\\n",
       "0      C000001  2014          518.0               14     2014-02-06   \n",
       "1      C000001  2015          569.0               13     2015-01-13   \n",
       "2      C000001  2016          585.0                9     2016-04-07   \n",
       "3      C000001  2017          941.0               19     2017-02-27   \n",
       "4      C000001  2018          568.0               10     2018-01-10   \n",
       "5      C000001  2019          345.0               11     2019-01-17   \n",
       "6      C000001  2020          285.0                5     2020-05-18   \n",
       "\n",
       "  last_purchase  annual_lifespan  annual_CLV  \n",
       "0    2014-12-06         0.829569   30.694045  \n",
       "1    2015-12-20         0.933607   40.863265  \n",
       "2    2016-12-03         0.657084   42.710472  \n",
       "3    2017-12-19         0.807666   40.000720  \n",
       "4    2018-11-27         0.878850   49.918686  \n",
       "5    2019-10-10         0.728268   22.841142  \n",
       "6    2020-12-30         0.618754   35.268994  "
      ]
     },
     "metadata": {},
     "output_type": "display_data"
    }
   ],
   "source": [
    "customer_data_annual = annual_individual_clv(df)\n",
    "\n",
    "# Display the annual CLV results for each customer and each year\n",
    "print('Example: Customer C000001')\n",
    "display(customer_data_annual.head(7))"
   ]
  },
  {
   "cell_type": "markdown",
   "metadata": {},
   "source": [
    "The above data illustrates annual CLV for each year for a sample of customers. To identify at-risk customers each year, we will use annual CLV as a guideline.\n",
    "\n",
    "#### **4. Annual CLV Distribution**"
   ]
  },
  {
   "cell_type": "code",
   "execution_count": 13,
   "metadata": {},
   "outputs": [
    {
     "data": {
      "image/png": "[encoded data removed]",
      "text/plain": [
       "<Figure size 1200x800 with 1 Axes>"
      ]
     },
     "metadata": {},
     "output_type": "display_data"
    }
   ],
   "source": [
    "# Visualise annual CLV distribution\n",
    "annual_CLV_plot(customer_data_annual)"
   ]
  },
  {
   "cell_type": "markdown",
   "metadata": {},
   "source": [
    "### **Identifying At-Risk Customers of Each Year**\n",
    "**At-Risk Criteria**\n",
    "\n",
    "To classify customers as \"at-risk\" for each year, we use the following criteria (satisfy *both*):\n",
    "\n",
    ">1. **Lower Quartile Customer Lifetime Value (CLV)**: Customers with a CLV below the lower quartile of the year's distribution.\n",
    ">2. **Below Mean Purchase Frequency**: Customers whose purchase frequency (number of transactions) falls below the mean of the year's distribution.\n",
    "\n",
    "#### **1. Customers with Annual CLV Below Lower Quartile**"
   ]
  },
  {
   "cell_type": "code",
   "execution_count": 14,
   "metadata": {},
   "outputs": [
    {
     "name": "stdout",
     "output_type": "stream",
     "text": [
      "Low CLV Threshold for Each Year:\n"
     ]
    },
    {
     "data": {
      "text/html": [
       "<div>\n",
       "<style scoped>\n",
       "    .dataframe tbody tr th:only-of-type {\n",
       "        vertical-align: middle;\n",
       "    }\n",
       "\n",
       "    .dataframe tbody tr th {\n",
       "        vertical-align: top;\n",
       "    }\n",
       "\n",
       "    .dataframe thead th {\n",
       "        text-align: right;\n",
       "    }\n",
       "</style>\n",
       "<table border=\"1\" class=\"dataframe\">\n",
       "  <thead>\n",
       "    <tr style=\"text-align: right;\">\n",
       "      <th></th>\n",
       "      <th>year</th>\n",
       "      <th>low_clv_threshold</th>\n",
       "    </tr>\n",
       "  </thead>\n",
       "  <tbody>\n",
       "    <tr>\n",
       "      <th>0</th>\n",
       "      <td>2014</td>\n",
       "      <td>35.262149</td>\n",
       "    </tr>\n",
       "    <tr>\n",
       "      <th>1</th>\n",
       "      <td>2015</td>\n",
       "      <td>37.170583</td>\n",
       "    </tr>\n",
       "    <tr>\n",
       "      <th>2</th>\n",
       "      <td>2016</td>\n",
       "      <td>37.869982</td>\n",
       "    </tr>\n",
       "    <tr>\n",
       "      <th>3</th>\n",
       "      <td>2017</td>\n",
       "      <td>37.663415</td>\n",
       "    </tr>\n",
       "    <tr>\n",
       "      <th>4</th>\n",
       "      <td>2018</td>\n",
       "      <td>37.482369</td>\n",
       "    </tr>\n",
       "    <tr>\n",
       "      <th>5</th>\n",
       "      <td>2019</td>\n",
       "      <td>37.698591</td>\n",
       "    </tr>\n",
       "    <tr>\n",
       "      <th>6</th>\n",
       "      <td>2020</td>\n",
       "      <td>38.014497</td>\n",
       "    </tr>\n",
       "  </tbody>\n",
       "</table>\n",
       "</div>"
      ],
      "text/plain": [
       "   year  low_clv_threshold\n",
       "0  2014          35.262149\n",
       "1  2015          37.170583\n",
       "2  2016          37.869982\n",
       "3  2017          37.663415\n",
       "4  2018          37.482369\n",
       "5  2019          37.698591\n",
       "6  2020          38.014497"
      ]
     },
     "metadata": {},
     "output_type": "display_data"
    },
    {
     "name": "stdout",
     "output_type": "stream",
     "text": [
      "\n",
      "Low-CLV Customers for Year 2014:\n",
      "      customer_key  annual_CLV\n",
      "0          C000001   30.694045\n",
      "28         C000005   35.105206\n",
      "49         C000008   29.107187\n",
      "56         C000009   27.829275\n",
      "70         C000011   32.772074\n",
      "...            ...         ...\n",
      "64190      C009171   34.218080\n",
      "64239      C009178   32.731006\n",
      "64281      C009184   19.039014\n",
      "64288      C009185   12.985170\n",
      "64295      C009186   30.638741\n",
      "\n",
      "[2298 rows x 2 columns]\n",
      "Number of low-CLV customers for year 2014: 2298\n",
      "\n",
      "Low-CLV Customers for Year 2015:\n",
      "      customer_key  annual_CLV\n",
      "22         C000004   32.490662\n",
      "50         C000008   26.036179\n",
      "78         C000012   21.906457\n",
      "92         C000014   33.213673\n",
      "106        C000016   20.788159\n",
      "...            ...         ...\n",
      "64170      C009168   30.933923\n",
      "64254      C009180   20.572211\n",
      "64289      C009185   33.727373\n",
      "64310      C009188   33.348516\n",
      "64317      C009189   26.622861\n",
      "\n",
      "[2298 rows x 2 columns]\n",
      "Number of low-CLV customers for year 2015: 2298\n",
      "\n",
      "Low-CLV Customers for Year 2016:\n",
      "      customer_key  annual_CLV\n",
      "37         C000006   34.869107\n",
      "58         C000009   36.424914\n",
      "65         C000010   24.543588\n",
      "79         C000012   32.857495\n",
      "114        C000017   30.522734\n",
      "...            ...         ...\n",
      "64129      C009162   12.313940\n",
      "64269      C009182   29.589322\n",
      "64304      C009187   34.070781\n",
      "64311      C009188   34.044964\n",
      "64325      C009190   33.626283\n",
      "\n",
      "[2298 rows x 2 columns]\n",
      "Number of low-CLV customers for year 2016: 2298\n",
      "\n",
      "Low-CLV Customers for Year 2017:\n",
      "      customer_key  annual_CLV\n",
      "10         C000002   37.209674\n",
      "66         C000010   22.289264\n",
      "87         C000013   30.826936\n",
      "206        C000030   26.624546\n",
      "220        C000032   28.433363\n",
      "...            ...         ...\n",
      "64256      C009180   28.445217\n",
      "64291      C009185   24.352422\n",
      "64298      C009186   31.416838\n",
      "64326      C009190   33.018480\n",
      "64333      C009191   23.986995\n",
      "\n",
      "[2298 rows x 2 columns]\n",
      "Number of low-CLV customers for year 2017: 2298\n",
      "\n",
      "Low-CLV Customers for Year 2018:\n",
      "      customer_key  annual_CLV\n",
      "32         C000005   30.555161\n",
      "74         C000011   28.418049\n",
      "81         C000012   31.055009\n",
      "88         C000013   31.329987\n",
      "95         C000014   35.168345\n",
      "...            ...         ...\n",
      "64201      C009172   31.378899\n",
      "64222      C009175   33.869405\n",
      "64264      C009181   30.041889\n",
      "64278      C009183   37.266060\n",
      "64285      C009184   25.924114\n",
      "\n",
      "[2298 rows x 2 columns]\n",
      "Number of low-CLV customers for year 2018: 2298\n",
      "\n",
      "Low-CLV Customers for Year 2019:\n",
      "      customer_key  annual_CLV\n",
      "5          C000001   22.841142\n",
      "26         C000004   33.491484\n",
      "54         C000008   28.328059\n",
      "61         C000009   36.549213\n",
      "96         C000014   29.947199\n",
      "...            ...         ...\n",
      "64230      C009176   34.591962\n",
      "64258      C009180   30.438793\n",
      "64293      C009185   31.259069\n",
      "64321      C009189   34.798889\n",
      "64328      C009190   34.305075\n",
      "\n",
      "[2298 rows x 2 columns]\n",
      "Number of low-CLV customers for year 2019: 2298\n",
      "\n",
      "Low-CLV Customers for Year 2020:\n",
      "      customer_key  annual_CLV\n",
      "6          C000001   35.268994\n",
      "20         C000003   29.242300\n",
      "27         C000004   21.613721\n",
      "34         C000005   30.707050\n",
      "55         C000008   37.172028\n",
      "...            ...         ...\n",
      "64273      C009182   27.755236\n",
      "64287      C009184   33.007529\n",
      "64301      C009186   36.169443\n",
      "64322      C009189   35.200939\n",
      "64329      C009190   33.812457\n",
      "\n",
      "[2298 rows x 2 columns]\n",
      "Number of low-CLV customers for year 2020: 2298\n"
     ]
    }
   ],
   "source": [
    "low_clv_threshold_yearly = low_clv(customer_data_annual)[0]\n",
    "low_clv_customers_by_year = low_clv(customer_data_annual)[1]\n",
    "\n",
    "# Print the low CLV threshold per year\n",
    "print(\"Low CLV Threshold for Each Year:\")\n",
    "display(low_clv_threshold_yearly)\n",
    "\n",
    "# Print the low-CLV customers for every year\n",
    "for year in range(2014, 2021):\n",
    "    # Store the at-risk customers for that year\n",
    "    low_clv_customers = low_clv_customers_by_year[year]\n",
    "\n",
    "    print(f\"\\nLow-CLV Customers for Year {year}:\")\n",
    "    print(low_clv_customers[['customer_key', 'annual_CLV']])\n",
    "    print(f\"Number of low-CLV customers for year {year}: {low_clv_customers.shape[0]}\")"
   ]
  },
  {
   "cell_type": "markdown",
   "metadata": {},
   "source": [
    "#### **2. At-Risk Customers of Each Year**\n",
    "Our at-risk customers are defined as those who exhibit both low CLV and low purchase frequency. These customers are at a higher risk of churn, as they generate minimal value and make fewer purchases over time."
   ]
  },
  {
   "cell_type": "code",
   "execution_count": 15,
   "metadata": {},
   "outputs": [
    {
     "name": "stdout",
     "output_type": "stream",
     "text": [
      "\n",
      "At-Risk Customers for Year 2014:\n"
     ]
    },
    {
     "data": {
      "text/html": [
       "<div>\n",
       "<style scoped>\n",
       "    .dataframe tbody tr th:only-of-type {\n",
       "        vertical-align: middle;\n",
       "    }\n",
       "\n",
       "    .dataframe tbody tr th {\n",
       "        vertical-align: top;\n",
       "    }\n",
       "\n",
       "    .dataframe thead th {\n",
       "        text-align: right;\n",
       "    }\n",
       "</style>\n",
       "<table border=\"1\" class=\"dataframe\">\n",
       "  <thead>\n",
       "    <tr style=\"text-align: right;\">\n",
       "      <th></th>\n",
       "      <th>customer_key</th>\n",
       "      <th>annual_CLV</th>\n",
       "      <th>low_clv_threshold</th>\n",
       "    </tr>\n",
       "  </thead>\n",
       "  <tbody>\n",
       "    <tr>\n",
       "      <th>0</th>\n",
       "      <td>C000011</td>\n",
       "      <td>32.772074</td>\n",
       "      <td>35.262149</td>\n",
       "    </tr>\n",
       "    <tr>\n",
       "      <th>1</th>\n",
       "      <td>C000017</td>\n",
       "      <td>33.435897</td>\n",
       "      <td>35.262149</td>\n",
       "    </tr>\n",
       "    <tr>\n",
       "      <th>2</th>\n",
       "      <td>C000028</td>\n",
       "      <td>10.694045</td>\n",
       "      <td>35.262149</td>\n",
       "    </tr>\n",
       "    <tr>\n",
       "      <th>3</th>\n",
       "      <td>C000038</td>\n",
       "      <td>27.333439</td>\n",
       "      <td>35.262149</td>\n",
       "    </tr>\n",
       "    <tr>\n",
       "      <th>4</th>\n",
       "      <td>C000044</td>\n",
       "      <td>33.949350</td>\n",
       "      <td>35.262149</td>\n",
       "    </tr>\n",
       "  </tbody>\n",
       "</table>\n",
       "</div>"
      ],
      "text/plain": [
       "  customer_key  annual_CLV  low_clv_threshold\n",
       "0      C000011   32.772074          35.262149\n",
       "1      C000017   33.435897          35.262149\n",
       "2      C000028   10.694045          35.262149\n",
       "3      C000038   27.333439          35.262149\n",
       "4      C000044   33.949350          35.262149"
      ]
     },
     "metadata": {},
     "output_type": "display_data"
    },
    {
     "name": "stdout",
     "output_type": "stream",
     "text": [
      "Number of at-risk customers for year 2014: 1145\n",
      "\n",
      "At-Risk Customers for Year 2015:\n"
     ]
    },
    {
     "data": {
      "text/html": [
       "<div>\n",
       "<style scoped>\n",
       "    .dataframe tbody tr th:only-of-type {\n",
       "        vertical-align: middle;\n",
       "    }\n",
       "\n",
       "    .dataframe tbody tr th {\n",
       "        vertical-align: top;\n",
       "    }\n",
       "\n",
       "    .dataframe thead th {\n",
       "        text-align: right;\n",
       "    }\n",
       "</style>\n",
       "<table border=\"1\" class=\"dataframe\">\n",
       "  <thead>\n",
       "    <tr style=\"text-align: right;\">\n",
       "      <th></th>\n",
       "      <th>customer_key</th>\n",
       "      <th>annual_CLV</th>\n",
       "      <th>low_clv_threshold</th>\n",
       "    </tr>\n",
       "  </thead>\n",
       "  <tbody>\n",
       "    <tr>\n",
       "      <th>0</th>\n",
       "      <td>C000004</td>\n",
       "      <td>32.490662</td>\n",
       "      <td>37.170583</td>\n",
       "    </tr>\n",
       "    <tr>\n",
       "      <th>1</th>\n",
       "      <td>C000008</td>\n",
       "      <td>26.036179</td>\n",
       "      <td>37.170583</td>\n",
       "    </tr>\n",
       "    <tr>\n",
       "      <th>2</th>\n",
       "      <td>C000012</td>\n",
       "      <td>21.906457</td>\n",
       "      <td>37.170583</td>\n",
       "    </tr>\n",
       "    <tr>\n",
       "      <th>3</th>\n",
       "      <td>C000022</td>\n",
       "      <td>37.141684</td>\n",
       "      <td>37.170583</td>\n",
       "    </tr>\n",
       "    <tr>\n",
       "      <th>4</th>\n",
       "      <td>C000048</td>\n",
       "      <td>32.821812</td>\n",
       "      <td>37.170583</td>\n",
       "    </tr>\n",
       "  </tbody>\n",
       "</table>\n",
       "</div>"
      ],
      "text/plain": [
       "  customer_key  annual_CLV  low_clv_threshold\n",
       "0      C000004   32.490662          37.170583\n",
       "1      C000008   26.036179          37.170583\n",
       "2      C000012   21.906457          37.170583\n",
       "3      C000022   37.141684          37.170583\n",
       "4      C000048   32.821812          37.170583"
      ]
     },
     "metadata": {},
     "output_type": "display_data"
    },
    {
     "name": "stdout",
     "output_type": "stream",
     "text": [
      "Number of at-risk customers for year 2015: 1228\n",
      "\n",
      "At-Risk Customers for Year 2016:\n"
     ]
    },
    {
     "data": {
      "text/html": [
       "<div>\n",
       "<style scoped>\n",
       "    .dataframe tbody tr th:only-of-type {\n",
       "        vertical-align: middle;\n",
       "    }\n",
       "\n",
       "    .dataframe tbody tr th {\n",
       "        vertical-align: top;\n",
       "    }\n",
       "\n",
       "    .dataframe thead th {\n",
       "        text-align: right;\n",
       "    }\n",
       "</style>\n",
       "<table border=\"1\" class=\"dataframe\">\n",
       "  <thead>\n",
       "    <tr style=\"text-align: right;\">\n",
       "      <th></th>\n",
       "      <th>customer_key</th>\n",
       "      <th>annual_CLV</th>\n",
       "      <th>low_clv_threshold</th>\n",
       "    </tr>\n",
       "  </thead>\n",
       "  <tbody>\n",
       "    <tr>\n",
       "      <th>0</th>\n",
       "      <td>C000009</td>\n",
       "      <td>36.424914</td>\n",
       "      <td>37.869982</td>\n",
       "    </tr>\n",
       "    <tr>\n",
       "      <th>1</th>\n",
       "      <td>C000010</td>\n",
       "      <td>24.543588</td>\n",
       "      <td>37.869982</td>\n",
       "    </tr>\n",
       "    <tr>\n",
       "      <th>2</th>\n",
       "      <td>C000012</td>\n",
       "      <td>32.857495</td>\n",
       "      <td>37.869982</td>\n",
       "    </tr>\n",
       "    <tr>\n",
       "      <th>3</th>\n",
       "      <td>C000017</td>\n",
       "      <td>30.522734</td>\n",
       "      <td>37.869982</td>\n",
       "    </tr>\n",
       "    <tr>\n",
       "      <th>4</th>\n",
       "      <td>C000020</td>\n",
       "      <td>37.303715</td>\n",
       "      <td>37.869982</td>\n",
       "    </tr>\n",
       "  </tbody>\n",
       "</table>\n",
       "</div>"
      ],
      "text/plain": [
       "  customer_key  annual_CLV  low_clv_threshold\n",
       "0      C000009   36.424914          37.869982\n",
       "1      C000010   24.543588          37.869982\n",
       "2      C000012   32.857495          37.869982\n",
       "3      C000017   30.522734          37.869982\n",
       "4      C000020   37.303715          37.869982"
      ]
     },
     "metadata": {},
     "output_type": "display_data"
    },
    {
     "name": "stdout",
     "output_type": "stream",
     "text": [
      "Number of at-risk customers for year 2016: 1245\n",
      "\n",
      "At-Risk Customers for Year 2017:\n"
     ]
    },
    {
     "data": {
      "text/html": [
       "<div>\n",
       "<style scoped>\n",
       "    .dataframe tbody tr th:only-of-type {\n",
       "        vertical-align: middle;\n",
       "    }\n",
       "\n",
       "    .dataframe tbody tr th {\n",
       "        vertical-align: top;\n",
       "    }\n",
       "\n",
       "    .dataframe thead th {\n",
       "        text-align: right;\n",
       "    }\n",
       "</style>\n",
       "<table border=\"1\" class=\"dataframe\">\n",
       "  <thead>\n",
       "    <tr style=\"text-align: right;\">\n",
       "      <th></th>\n",
       "      <th>customer_key</th>\n",
       "      <th>annual_CLV</th>\n",
       "      <th>low_clv_threshold</th>\n",
       "    </tr>\n",
       "  </thead>\n",
       "  <tbody>\n",
       "    <tr>\n",
       "      <th>0</th>\n",
       "      <td>C000002</td>\n",
       "      <td>37.209674</td>\n",
       "      <td>37.663415</td>\n",
       "    </tr>\n",
       "    <tr>\n",
       "      <th>1</th>\n",
       "      <td>C000010</td>\n",
       "      <td>22.289264</td>\n",
       "      <td>37.663415</td>\n",
       "    </tr>\n",
       "    <tr>\n",
       "      <th>2</th>\n",
       "      <td>C000013</td>\n",
       "      <td>30.826936</td>\n",
       "      <td>37.663415</td>\n",
       "    </tr>\n",
       "    <tr>\n",
       "      <th>3</th>\n",
       "      <td>C000030</td>\n",
       "      <td>26.624546</td>\n",
       "      <td>37.663415</td>\n",
       "    </tr>\n",
       "    <tr>\n",
       "      <th>4</th>\n",
       "      <td>C000032</td>\n",
       "      <td>28.433363</td>\n",
       "      <td>37.663415</td>\n",
       "    </tr>\n",
       "  </tbody>\n",
       "</table>\n",
       "</div>"
      ],
      "text/plain": [
       "  customer_key  annual_CLV  low_clv_threshold\n",
       "0      C000002   37.209674          37.663415\n",
       "1      C000010   22.289264          37.663415\n",
       "2      C000013   30.826936          37.663415\n",
       "3      C000030   26.624546          37.663415\n",
       "4      C000032   28.433363          37.663415"
      ]
     },
     "metadata": {},
     "output_type": "display_data"
    },
    {
     "name": "stdout",
     "output_type": "stream",
     "text": [
      "Number of at-risk customers for year 2017: 1228\n",
      "\n",
      "At-Risk Customers for Year 2018:\n"
     ]
    },
    {
     "data": {
      "text/html": [
       "<div>\n",
       "<style scoped>\n",
       "    .dataframe tbody tr th:only-of-type {\n",
       "        vertical-align: middle;\n",
       "    }\n",
       "\n",
       "    .dataframe tbody tr th {\n",
       "        vertical-align: top;\n",
       "    }\n",
       "\n",
       "    .dataframe thead th {\n",
       "        text-align: right;\n",
       "    }\n",
       "</style>\n",
       "<table border=\"1\" class=\"dataframe\">\n",
       "  <thead>\n",
       "    <tr style=\"text-align: right;\">\n",
       "      <th></th>\n",
       "      <th>customer_key</th>\n",
       "      <th>annual_CLV</th>\n",
       "      <th>low_clv_threshold</th>\n",
       "    </tr>\n",
       "  </thead>\n",
       "  <tbody>\n",
       "    <tr>\n",
       "      <th>0</th>\n",
       "      <td>C000005</td>\n",
       "      <td>30.555161</td>\n",
       "      <td>37.482369</td>\n",
       "    </tr>\n",
       "    <tr>\n",
       "      <th>1</th>\n",
       "      <td>C000011</td>\n",
       "      <td>28.418049</td>\n",
       "      <td>37.482369</td>\n",
       "    </tr>\n",
       "    <tr>\n",
       "      <th>2</th>\n",
       "      <td>C000021</td>\n",
       "      <td>29.803401</td>\n",
       "      <td>37.482369</td>\n",
       "    </tr>\n",
       "    <tr>\n",
       "      <th>3</th>\n",
       "      <td>C000024</td>\n",
       "      <td>35.545908</td>\n",
       "      <td>37.482369</td>\n",
       "    </tr>\n",
       "    <tr>\n",
       "      <th>4</th>\n",
       "      <td>C000025</td>\n",
       "      <td>32.057744</td>\n",
       "      <td>37.482369</td>\n",
       "    </tr>\n",
       "  </tbody>\n",
       "</table>\n",
       "</div>"
      ],
      "text/plain": [
       "  customer_key  annual_CLV  low_clv_threshold\n",
       "0      C000005   30.555161          37.482369\n",
       "1      C000011   28.418049          37.482369\n",
       "2      C000021   29.803401          37.482369\n",
       "3      C000024   35.545908          37.482369\n",
       "4      C000025   32.057744          37.482369"
      ]
     },
     "metadata": {},
     "output_type": "display_data"
    },
    {
     "name": "stdout",
     "output_type": "stream",
     "text": [
      "Number of at-risk customers for year 2018: 1225\n",
      "\n",
      "At-Risk Customers for Year 2019:\n"
     ]
    },
    {
     "data": {
      "text/html": [
       "<div>\n",
       "<style scoped>\n",
       "    .dataframe tbody tr th:only-of-type {\n",
       "        vertical-align: middle;\n",
       "    }\n",
       "\n",
       "    .dataframe tbody tr th {\n",
       "        vertical-align: top;\n",
       "    }\n",
       "\n",
       "    .dataframe thead th {\n",
       "        text-align: right;\n",
       "    }\n",
       "</style>\n",
       "<table border=\"1\" class=\"dataframe\">\n",
       "  <thead>\n",
       "    <tr style=\"text-align: right;\">\n",
       "      <th></th>\n",
       "      <th>customer_key</th>\n",
       "      <th>annual_CLV</th>\n",
       "      <th>low_clv_threshold</th>\n",
       "    </tr>\n",
       "  </thead>\n",
       "  <tbody>\n",
       "    <tr>\n",
       "      <th>0</th>\n",
       "      <td>C000001</td>\n",
       "      <td>22.841142</td>\n",
       "      <td>37.698591</td>\n",
       "    </tr>\n",
       "    <tr>\n",
       "      <th>1</th>\n",
       "      <td>C000014</td>\n",
       "      <td>29.947199</td>\n",
       "      <td>37.698591</td>\n",
       "    </tr>\n",
       "    <tr>\n",
       "      <th>2</th>\n",
       "      <td>C000023</td>\n",
       "      <td>29.149400</td>\n",
       "      <td>37.698591</td>\n",
       "    </tr>\n",
       "    <tr>\n",
       "      <th>3</th>\n",
       "      <td>C000032</td>\n",
       "      <td>35.198652</td>\n",
       "      <td>37.698591</td>\n",
       "    </tr>\n",
       "    <tr>\n",
       "      <th>4</th>\n",
       "      <td>C000042</td>\n",
       "      <td>29.353551</td>\n",
       "      <td>37.698591</td>\n",
       "    </tr>\n",
       "  </tbody>\n",
       "</table>\n",
       "</div>"
      ],
      "text/plain": [
       "  customer_key  annual_CLV  low_clv_threshold\n",
       "0      C000001   22.841142          37.698591\n",
       "1      C000014   29.947199          37.698591\n",
       "2      C000023   29.149400          37.698591\n",
       "3      C000032   35.198652          37.698591\n",
       "4      C000042   29.353551          37.698591"
      ]
     },
     "metadata": {},
     "output_type": "display_data"
    },
    {
     "name": "stdout",
     "output_type": "stream",
     "text": [
      "Number of at-risk customers for year 2019: 1268\n",
      "\n",
      "At-Risk Customers for Year 2020:\n"
     ]
    },
    {
     "data": {
      "text/html": [
       "<div>\n",
       "<style scoped>\n",
       "    .dataframe tbody tr th:only-of-type {\n",
       "        vertical-align: middle;\n",
       "    }\n",
       "\n",
       "    .dataframe tbody tr th {\n",
       "        vertical-align: top;\n",
       "    }\n",
       "\n",
       "    .dataframe thead th {\n",
       "        text-align: right;\n",
       "    }\n",
       "</style>\n",
       "<table border=\"1\" class=\"dataframe\">\n",
       "  <thead>\n",
       "    <tr style=\"text-align: right;\">\n",
       "      <th></th>\n",
       "      <th>customer_key</th>\n",
       "      <th>annual_CLV</th>\n",
       "      <th>low_clv_threshold</th>\n",
       "    </tr>\n",
       "  </thead>\n",
       "  <tbody>\n",
       "    <tr>\n",
       "      <th>0</th>\n",
       "      <td>C000001</td>\n",
       "      <td>35.268994</td>\n",
       "      <td>38.014497</td>\n",
       "    </tr>\n",
       "    <tr>\n",
       "      <th>1</th>\n",
       "      <td>C000003</td>\n",
       "      <td>29.242300</td>\n",
       "      <td>38.014497</td>\n",
       "    </tr>\n",
       "    <tr>\n",
       "      <th>2</th>\n",
       "      <td>C000005</td>\n",
       "      <td>30.707050</td>\n",
       "      <td>38.014497</td>\n",
       "    </tr>\n",
       "    <tr>\n",
       "      <th>3</th>\n",
       "      <td>C000008</td>\n",
       "      <td>37.172028</td>\n",
       "      <td>38.014497</td>\n",
       "    </tr>\n",
       "    <tr>\n",
       "      <th>4</th>\n",
       "      <td>C000014</td>\n",
       "      <td>29.246700</td>\n",
       "      <td>38.014497</td>\n",
       "    </tr>\n",
       "  </tbody>\n",
       "</table>\n",
       "</div>"
      ],
      "text/plain": [
       "  customer_key  annual_CLV  low_clv_threshold\n",
       "0      C000001   35.268994          38.014497\n",
       "1      C000003   29.242300          38.014497\n",
       "2      C000005   30.707050          38.014497\n",
       "3      C000008   37.172028          38.014497\n",
       "4      C000014   29.246700          38.014497"
      ]
     },
     "metadata": {},
     "output_type": "display_data"
    },
    {
     "name": "stdout",
     "output_type": "stream",
     "text": [
      "Number of at-risk customers for year 2020: 1241\n"
     ]
    }
   ],
   "source": [
    "# Print the at-risk customers for every year\n",
    "at_risk_customers_yearly(low_clv_customers_by_year)"
   ]
  },
  {
   "cell_type": "markdown",
   "metadata": {},
   "source": [
    "### **High CLV Customers and Their Purchasing Behaviour**\n",
    "\n",
    "In this section, we will analyse the Average Order Value (AOV) of high CLV customers by Product Category. \n",
    "<br>AOV represents the average spend per transaction and is calculated as:\n",
    "$$\n",
    "\\text{Average Order Value (AOV)} = \\frac{\\text{Total Revenue}}{\\text{Total Number of Purchases}}\n",
    "$$"
   ]
  },
  {
   "cell_type": "code",
   "execution_count": 16,
   "metadata": {},
   "outputs": [
    {
     "name": "stdout",
     "output_type": "stream",
     "text": [
      "High CLV customers (upper quartile CLV):\n"
     ]
    },
    {
     "data": {
      "text/html": [
       "<div>\n",
       "<style scoped>\n",
       "    .dataframe tbody tr th:only-of-type {\n",
       "        vertical-align: middle;\n",
       "    }\n",
       "\n",
       "    .dataframe tbody tr th {\n",
       "        vertical-align: top;\n",
       "    }\n",
       "\n",
       "    .dataframe thead th {\n",
       "        text-align: right;\n",
       "    }\n",
       "</style>\n",
       "<table border=\"1\" class=\"dataframe\">\n",
       "  <thead>\n",
       "    <tr style=\"text-align: right;\">\n",
       "      <th></th>\n",
       "      <th>customer_key</th>\n",
       "      <th>total_revenue</th>\n",
       "      <th>total_purchases</th>\n",
       "      <th>first_purchase</th>\n",
       "      <th>last_purchase</th>\n",
       "      <th>customer_lifespan</th>\n",
       "      <th>CLV</th>\n",
       "    </tr>\n",
       "  </thead>\n",
       "  <tbody>\n",
       "    <tr>\n",
       "      <th>2</th>\n",
       "      <td>C000003</td>\n",
       "      <td>7171.0</td>\n",
       "      <td>108</td>\n",
       "      <td>2014-01-24</td>\n",
       "      <td>2020-11-02</td>\n",
       "      <td>6.773443</td>\n",
       "      <td>449.744062</td>\n",
       "    </tr>\n",
       "    <tr>\n",
       "      <th>5</th>\n",
       "      <td>C000006</td>\n",
       "      <td>7020.0</td>\n",
       "      <td>108</td>\n",
       "      <td>2014-01-25</td>\n",
       "      <td>2020-11-18</td>\n",
       "      <td>6.814511</td>\n",
       "      <td>442.943190</td>\n",
       "    </tr>\n",
       "    <tr>\n",
       "      <th>6</th>\n",
       "      <td>C000007</td>\n",
       "      <td>7022.0</td>\n",
       "      <td>120</td>\n",
       "      <td>2014-01-24</td>\n",
       "      <td>2020-12-20</td>\n",
       "      <td>6.904860</td>\n",
       "      <td>404.049373</td>\n",
       "    </tr>\n",
       "    <tr>\n",
       "      <th>17</th>\n",
       "      <td>C000018</td>\n",
       "      <td>7247.0</td>\n",
       "      <td>109</td>\n",
       "      <td>2014-03-17</td>\n",
       "      <td>2020-12-24</td>\n",
       "      <td>6.773443</td>\n",
       "      <td>450.340737</td>\n",
       "    </tr>\n",
       "    <tr>\n",
       "      <th>21</th>\n",
       "      <td>C000022</td>\n",
       "      <td>5028.0</td>\n",
       "      <td>81</td>\n",
       "      <td>2014-02-22</td>\n",
       "      <td>2020-11-12</td>\n",
       "      <td>6.721424</td>\n",
       "      <td>417.226152</td>\n",
       "    </tr>\n",
       "    <tr>\n",
       "      <th>...</th>\n",
       "      <td>...</td>\n",
       "      <td>...</td>\n",
       "      <td>...</td>\n",
       "      <td>...</td>\n",
       "      <td>...</td>\n",
       "      <td>...</td>\n",
       "      <td>...</td>\n",
       "    </tr>\n",
       "    <tr>\n",
       "      <th>9167</th>\n",
       "      <td>C009168</td>\n",
       "      <td>8335.0</td>\n",
       "      <td>133</td>\n",
       "      <td>2014-01-21</td>\n",
       "      <td>2020-12-26</td>\n",
       "      <td>6.929500</td>\n",
       "      <td>434.266055</td>\n",
       "    </tr>\n",
       "    <tr>\n",
       "      <th>9168</th>\n",
       "      <td>C009169</td>\n",
       "      <td>6564.0</td>\n",
       "      <td>107</td>\n",
       "      <td>2014-03-21</td>\n",
       "      <td>2020-11-22</td>\n",
       "      <td>6.674880</td>\n",
       "      <td>409.475830</td>\n",
       "    </tr>\n",
       "    <tr>\n",
       "      <th>9172</th>\n",
       "      <td>C009173</td>\n",
       "      <td>7861.0</td>\n",
       "      <td>121</td>\n",
       "      <td>2014-01-30</td>\n",
       "      <td>2020-12-30</td>\n",
       "      <td>6.915811</td>\n",
       "      <td>449.299099</td>\n",
       "    </tr>\n",
       "    <tr>\n",
       "      <th>9174</th>\n",
       "      <td>C009175</td>\n",
       "      <td>7210.0</td>\n",
       "      <td>112</td>\n",
       "      <td>2014-01-20</td>\n",
       "      <td>2020-12-29</td>\n",
       "      <td>6.940452</td>\n",
       "      <td>446.791581</td>\n",
       "    </tr>\n",
       "    <tr>\n",
       "      <th>9176</th>\n",
       "      <td>C009177</td>\n",
       "      <td>7152.0</td>\n",
       "      <td>120</td>\n",
       "      <td>2014-03-09</td>\n",
       "      <td>2020-12-26</td>\n",
       "      <td>6.800821</td>\n",
       "      <td>405.328953</td>\n",
       "    </tr>\n",
       "  </tbody>\n",
       "</table>\n",
       "<p>2298 rows × 7 columns</p>\n",
       "</div>"
      ],
      "text/plain": [
       "     customer_key  total_revenue  total_purchases first_purchase  \\\n",
       "2         C000003         7171.0              108     2014-01-24   \n",
       "5         C000006         7020.0              108     2014-01-25   \n",
       "6         C000007         7022.0              120     2014-01-24   \n",
       "17        C000018         7247.0              109     2014-03-17   \n",
       "21        C000022         5028.0               81     2014-02-22   \n",
       "...           ...            ...              ...            ...   \n",
       "9167      C009168         8335.0              133     2014-01-21   \n",
       "9168      C009169         6564.0              107     2014-03-21   \n",
       "9172      C009173         7861.0              121     2014-01-30   \n",
       "9174      C009175         7210.0              112     2014-01-20   \n",
       "9176      C009177         7152.0              120     2014-03-09   \n",
       "\n",
       "     last_purchase  customer_lifespan         CLV  \n",
       "2       2020-11-02           6.773443  449.744062  \n",
       "5       2020-11-18           6.814511  442.943190  \n",
       "6       2020-12-20           6.904860  404.049373  \n",
       "17      2020-12-24           6.773443  450.340737  \n",
       "21      2020-11-12           6.721424  417.226152  \n",
       "...            ...                ...         ...  \n",
       "9167    2020-12-26           6.929500  434.266055  \n",
       "9168    2020-11-22           6.674880  409.475830  \n",
       "9172    2020-12-30           6.915811  449.299099  \n",
       "9174    2020-12-29           6.940452  446.791581  \n",
       "9176    2020-12-26           6.800821  405.328953  \n",
       "\n",
       "[2298 rows x 7 columns]"
      ]
     },
     "metadata": {},
     "output_type": "display_data"
    },
    {
     "name": "stdout",
     "output_type": "stream",
     "text": [
      "AOV by Category of high CLV customers:\n"
     ]
    },
    {
     "data": {
      "text/html": [
       "<div>\n",
       "<style scoped>\n",
       "    .dataframe tbody tr th:only-of-type {\n",
       "        vertical-align: middle;\n",
       "    }\n",
       "\n",
       "    .dataframe tbody tr th {\n",
       "        vertical-align: top;\n",
       "    }\n",
       "\n",
       "    .dataframe thead th {\n",
       "        text-align: right;\n",
       "    }\n",
       "</style>\n",
       "<table border=\"1\" class=\"dataframe\">\n",
       "  <thead>\n",
       "    <tr style=\"text-align: right;\">\n",
       "      <th></th>\n",
       "      <th>category</th>\n",
       "      <th>total_revenue</th>\n",
       "      <th>total_purchases</th>\n",
       "      <th>aov</th>\n",
       "    </tr>\n",
       "  </thead>\n",
       "  <tbody>\n",
       "    <tr>\n",
       "      <th>1</th>\n",
       "      <td>Coffee Products</td>\n",
       "      <td>3012620.0</td>\n",
       "      <td>31275</td>\n",
       "      <td>96.326779</td>\n",
       "    </tr>\n",
       "    <tr>\n",
       "      <th>5</th>\n",
       "      <td>Kitchen Supplies</td>\n",
       "      <td>1280022.0</td>\n",
       "      <td>18254</td>\n",
       "      <td>70.122822</td>\n",
       "    </tr>\n",
       "    <tr>\n",
       "      <th>0</th>\n",
       "      <td>Beverage</td>\n",
       "      <td>5373209.0</td>\n",
       "      <td>90182</td>\n",
       "      <td>59.581835</td>\n",
       "    </tr>\n",
       "    <tr>\n",
       "      <th>3</th>\n",
       "      <td>Food</td>\n",
       "      <td>4498557.0</td>\n",
       "      <td>80037</td>\n",
       "      <td>56.205967</td>\n",
       "    </tr>\n",
       "    <tr>\n",
       "      <th>2</th>\n",
       "      <td>Dishware</td>\n",
       "      <td>1011900.0</td>\n",
       "      <td>18326</td>\n",
       "      <td>55.216632</td>\n",
       "    </tr>\n",
       "    <tr>\n",
       "      <th>4</th>\n",
       "      <td>Gum</td>\n",
       "      <td>327828.0</td>\n",
       "      <td>7433</td>\n",
       "      <td>44.104399</td>\n",
       "    </tr>\n",
       "    <tr>\n",
       "      <th>6</th>\n",
       "      <td>Medicine</td>\n",
       "      <td>45622.0</td>\n",
       "      <td>1738</td>\n",
       "      <td>26.249712</td>\n",
       "    </tr>\n",
       "  </tbody>\n",
       "</table>\n",
       "</div>"
      ],
      "text/plain": [
       "           category  total_revenue  total_purchases        aov\n",
       "1   Coffee Products      3012620.0            31275  96.326779\n",
       "5  Kitchen Supplies      1280022.0            18254  70.122822\n",
       "0          Beverage      5373209.0            90182  59.581835\n",
       "3              Food      4498557.0            80037  56.205967\n",
       "2          Dishware      1011900.0            18326  55.216632\n",
       "4               Gum       327828.0             7433  44.104399\n",
       "6          Medicine        45622.0             1738  26.249712"
      ]
     },
     "metadata": {},
     "output_type": "display_data"
    }
   ],
   "source": [
    "# Identify high CLV customers\n",
    "high_clv_customers = high_clv(customer_data)\n",
    "print('High CLV customers (upper quartile CLV):')\n",
    "display(high_clv_customers)\n",
    "\n",
    "# Display the categories purchased by high CLV customers by AOV\n",
    "print('AOV by Category of high CLV customers:')\n",
    "top_categories(df, high_clv_customers)"
   ]
  }
 ],
 "metadata": {
  "kernelspec": {
   "display_name": "Python 3",
   "language": "python",
   "name": "python3"
  },
  "language_info": {
   "codemirror_mode": {
    "name": "ipython",
    "version": 3
   },
   "file_extension": ".py",
   "mimetype": "text/x-python",
   "name": "python",
   "nbconvert_exporter": "python",
   "pygments_lexer": "ipython3",
   "version": "3.13.0"
  }
 },
 "nbformat": 4,
 "nbformat_minor": 2
}
